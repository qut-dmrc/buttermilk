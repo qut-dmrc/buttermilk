{
 "cells": [
  {
   "cell_type": "markdown",
   "metadata": {},
   "source": [
    "# Compare different prompts to extract frames from climate news"
   ]
  },
  {
   "cell_type": "code",
   "execution_count": 1,
   "metadata": {},
   "outputs": [
    {
     "name": "stdout",
     "output_type": "stream",
     "text": [
      "2024-08-26 17:33:47 26f087537f3a buttermilk buttermilk.py[ 200] INFO Logging setup for: {'function_name': 'default_project', 'job': 'development', 'logs': '20240826T0733Z-8tjN-26f087537f3a-vscode', 'user': 'vscode', 'node': '26f087537f3a'}. Ready for data collection, saving log to Google Cloud Logs (Resource(type='generic_task', labels={'project_id': 'dmrc-platforms', 'location': 'us-central1', 'namespace': 'default_project', 'job': 'development', 'task_id': '20240826T0733Z-8tjN-26f087537f3a-vscode'})). Default save directory for data in this run is: gs://dmrc-analysis/runs/default_project/development/20240826T0733Z-8tjN-26f087537f3a-vscode\n",
      "2024-08-26 17:33:47 26f087537f3a buttermilk 1583369548.py[   5] INFO Starting interactive run for climate frames in notebook\n"
     ]
    }
   ],
   "source": [
    "import buttermilk\n",
    "\n",
    "bm = buttermilk.BM()\n",
    "logger = bm.logger\n",
    "logger.info(\"Starting interactive run for climate frames in notebook\")"
   ]
  },
  {
   "cell_type": "code",
   "execution_count": 6,
   "metadata": {},
   "outputs": [
    {
     "name": "stdout",
     "output_type": "stream",
     "text": [
      "<class 'pandas.core.frame.DataFrame'>\n",
      "RangeIndex: 12 entries, 0 to 11\n",
      "Data columns (total 6 columns):\n",
      " #   Column            Non-Null Count  Dtype \n",
      "---  ------            --------------  ----- \n",
      " 0   id                12 non-null     int64 \n",
      " 1   title             12 non-null     object\n",
      " 2   author            12 non-null     object\n",
      " 3   source            12 non-null     object\n",
      " 4   publication_date  12 non-null     object\n",
      " 5   content           12 non-null     object\n",
      "dtypes: int64(1), object(5)\n",
      "memory usage: 704.0+ bytes\n"
     ]
    }
   ],
   "source": [
    "# In this experiment, we will use four different variations for the prompt:\n",
    "prompt_vars = {\"prompt_template_path\": \"generic.prompty\", \"system_prompt\": \"system_frames.jinja2\", \"output_format\": \"json_frames.jinja2\"}\n",
    "variants = [{\"name\": \"generic frames\", \"instructions\": \"instructions_frames.jinja2\"},\n",
    "            {\"name\": \"speaker first alt\", \"instructions\": \"climate_activism_speakerfirst_alt_output.jinja2\"},\n",
    "            {\"name\": \"speaker first\", \"instructions\": \"instructions_frames.jinja2\", },\n",
    "            {\"name\": \"climate activism frames\", \"instructions\": \"climate_activism.jinja2\"},\n",
    "            ]\n",
    "\n",
    "models = [\"haiku\", \"llama31-8b\"]\n",
    "\n",
    "# Data is generally stored in JSONL format on cloud storage, allowing us to control versions and run anywhere\n",
    "DATASET = \"gs://dmrc-analysis/data/climate_articles.jsonl\"\n",
    "\n",
    "import pandas as pd\n",
    "df = pd.read_json(DATASET, orient='records', lines=True)\n",
    "\n",
    "df.info()"
   ]
  },
  {
   "cell_type": "markdown",
   "metadata": {},
   "source": [
    "## Run locally, uploading trace only to Azure\n"
   ]
  },
  {
   "cell_type": "code",
   "execution_count": 3,
   "metadata": {},
   "outputs": [
    {
     "name": "stdout",
     "output_type": "stream",
     "text": [
      "Prompt flow service has started...\n"
     ]
    },
    {
     "name": "stderr",
     "output_type": "stream",
     "text": [
      "/opt/conda/envs/bm/lib/python3.11/site-packages/tqdm/auto.py:21: TqdmWarning: IProgress not found. Please update jupyter and ipywidgets. See https://ipywidgets.readthedocs.io/en/stable/user_install.html\n",
      "  from .autonotebook import tqdm as notebook_tqdm\n"
     ]
    },
    {
     "name": "stdout",
     "output_type": "stream",
     "text": [
      "2024-08-26 17:33:58 26f087537f3a buttermilk buttermilk.py[ 200] INFO Logging setup for: {'function_name': 'default_project', 'job': 'development', 'logs': '20240826T0733Z-e83v-26f087537f3a-vscode', 'user': 'vscode', 'node': '26f087537f3a'}. Ready for data collection, saving log to Google Cloud Logs (Resource(type='generic_task', labels={'project_id': 'dmrc-platforms', 'location': 'us-central1', 'namespace': 'default_project', 'job': 'development', 'task_id': '20240826T0733Z-e83v-26f087537f3a-vscode'})). Default save directory for data in this run is: gs://dmrc-analysis/runs/default_project/development/20240826T0733Z-e83v-26f087537f3a-vscode\n"
     ]
    },
    {
     "name": "stderr",
     "output_type": "stream",
     "text": [
      "INFO:buttermilk:Logging setup for: {'function_name': 'default_project', 'job': 'development', 'logs': '20240826T0733Z-e83v-26f087537f3a-vscode', 'user': 'vscode', 'node': '26f087537f3a'}. Ready for data collection, saving log to Google Cloud Logs (Resource(type='generic_task', labels={'project_id': 'dmrc-platforms', 'location': 'us-central1', 'namespace': 'default_project', 'job': 'development', 'task_id': '20240826T0733Z-e83v-26f087537f3a-vscode'})). Default save directory for data in this run is: gs://dmrc-analysis/runs/default_project/development/20240826T0733Z-e83v-26f087537f3a-vscode\n"
     ]
    },
    {
     "data": {
      "text/html": [
       "<div>\n",
       "<style scoped>\n",
       "    .dataframe tbody tr th:only-of-type {\n",
       "        vertical-align: middle;\n",
       "    }\n",
       "\n",
       "    .dataframe tbody tr th {\n",
       "        vertical-align: top;\n",
       "    }\n",
       "\n",
       "    .dataframe thead th {\n",
       "        text-align: right;\n",
       "    }\n",
       "</style>\n",
       "<table border=\"1\" class=\"dataframe\">\n",
       "  <thead>\n",
       "    <tr style=\"text-align: right;\">\n",
       "      <th></th>\n",
       "      <th>analysis</th>\n",
       "      <th>metadata</th>\n",
       "      <th>record_id</th>\n",
       "      <th>scores</th>\n",
       "      <th>labels</th>\n",
       "      <th>reasons</th>\n",
       "      <th>result</th>\n",
       "      <th>id</th>\n",
       "      <th>name</th>\n",
       "      <th>model</th>\n",
       "      <th>timestamp</th>\n",
       "    </tr>\n",
       "  </thead>\n",
       "  <tbody>\n",
       "    <tr>\n",
       "      <th>0</th>\n",
       "      <td>[{'statement': 'Why was climate change hysteri...</td>\n",
       "      <td>{'name': 'generic frames'}</td>\n",
       "      <td>not given</td>\n",
       "      <td>None</td>\n",
       "      <td>None</td>\n",
       "      <td>None</td>\n",
       "      <td>None</td>\n",
       "      <td>10</td>\n",
       "      <td>generic frames</td>\n",
       "      <td>haiku</td>\n",
       "      <td>2024-08-26 17:34:00.246043</td>\n",
       "    </tr>\n",
       "  </tbody>\n",
       "</table>\n",
       "</div>"
      ],
      "text/plain": [
       "                                            analysis  \\\n",
       "0  [{'statement': 'Why was climate change hysteri...   \n",
       "\n",
       "                     metadata  record_id scores labels reasons result  id  \\\n",
       "0  {'name': 'generic frames'}  not given   None   None    None   None  10   \n",
       "\n",
       "             name  model                  timestamp  \n",
       "0  generic frames  haiku 2024-08-26 17:34:00.246043  "
      ]
     },
     "execution_count": 3,
     "metadata": {},
     "output_type": "execute_result"
    },
    {
     "name": "stdout",
     "output_type": "stream",
     "text": [
      "You can view the trace detail from the following URL:\n",
      "http://127.0.0.1:23334/v1.0/ui/traces/?#collection=climate&uiTraceId=0x88032d150cbd28015d19888fb77d762c\n",
      "https://ai.azure.com/projecttrace/detail/0x88032d150cbd28015d19888fb77d762c?wsid=/subscriptions/7e7e056a-4224-4e26-99d2-1e3f9a688c50/resourceGroups/rg-suzor_ai/providers/Microsoft.MachineLearningServices/workspaces/automod\n"
     ]
    }
   ],
   "source": [
    "import datetime\n",
    "from promptflow.tracing import start_trace, trace\n",
    "start_trace(collection=\"climate\")\n",
    "\n",
    "from buttermilk.flows.extract import Analyst\n",
    "\n",
    "results = pd.DataFrame()\n",
    "\n",
    "for model in models:\n",
    "    for variant in variants:\n",
    "        flow_vars = prompt_vars.copy()\n",
    "        flow_vars.update(variant)\n",
    "        flow_vars['langchain_model_name'] = model\n",
    "\n",
    "        flow = Analyst(**flow_vars)\n",
    "\n",
    "        for _, row in df.iterrows():\n",
    "            id_vars = {\"id\": row[\"id\"], \"name\": variant[\"name\"], \"model\": model, \"timestamp\": pd.to_datetime(datetime.datetime.now())}\n",
    "            response = flow(content=row[\"content\"])\n",
    "            response.update(id_vars)\n",
    "            response_df = pd.DataFrame(data=[response])\n",
    "            results = pd.concat([results, response_df])\n",
    "            break\n",
    "        break\n",
    "    break\n",
    "\n",
    "\n",
    "results\n",
    "\n",
    "\n"
   ]
  },
  {
   "cell_type": "code",
   "execution_count": 4,
   "metadata": {},
   "outputs": [
    {
     "name": "stdout",
     "output_type": "stream",
     "text": [
      "[   {   'blame_attribution': 'What is taught in Australian schools',\n",
      "        'cause_of_problem': 'What is taught in Australian schools',\n",
      "        'problem_definition': 'Climate change hysteria contributing to '\n",
      "                              'election results',\n",
      "        'solution_adressee': 'None found',\n",
      "        'solution_to_problem': 'None found',\n",
      "        'speaker_affiliation': 'Journalist',\n",
      "        'speaker_name': 'Author',\n",
      "        'statement': 'Why was climate change hysteria one of the main reasons '\n",
      "                     'the teal fake independents and the Greens did so well in '\n",
      "                     'the recent election and the Morrison Coalition '\n",
      "                     'government so soundly defeated?'},\n",
      "    {   'blame_attribution': 'None found',\n",
      "        'cause_of_problem': 'None found',\n",
      "        'problem_definition': 'Increased focus on climate change in the '\n",
      "                              'national curriculum',\n",
      "        'solution_adressee': 'None found',\n",
      "        'solution_to_problem': 'None found',\n",
      "        'speaker_affiliation': 'Journalist',\n",
      "        'speaker_name': 'Author',\n",
      "        'statement': 'The recently released national curriculum increases '\n",
      "                     'explicit references to climate change from four to 32.'},\n",
      "    {   'blame_attribution': 'None found',\n",
      "        'cause_of_problem': 'Climate change',\n",
      "        'problem_definition': 'Severity of climate change threat, especially '\n",
      "                              \"for children's futures\",\n",
      "        'solution_adressee': 'None found',\n",
      "        'solution_to_problem': 'None found',\n",
      "        'speaker_affiliation': 'Academics specialising in school pedagogy, '\n",
      "                               'geography, journalism and marine studies',\n",
      "        'speaker_name': 'Five academics',\n",
      "        'statement': 'Climate change is described as one of \"the existential '\n",
      "                     'issues of our time\" that will \"drastically affect '\n",
      "                     'children\\'s health, wealth and job futures\". A future '\n",
      "                     'characterised as apocalyptic, where \"today\\'s children '\n",
      "                     'will face up to seven times as many extreme weather '\n",
      "                     'events as people born in 1960 experienced\".'},\n",
      "    {   'blame_attribution': 'Curriculum',\n",
      "        'cause_of_problem': 'Curriculum not doing enough',\n",
      "        'problem_definition': 'Curriculum not doing enough to address climate '\n",
      "                              'change',\n",
      "        'solution_adressee': 'Educators',\n",
      "        'solution_to_problem': 'Infuse climate science into all areas of '\n",
      "                               'education',\n",
      "        'speaker_affiliation': 'Academics specialising in school pedagogy, '\n",
      "                               'geography, journalism and marine studies',\n",
      "        'speaker_name': 'Five academics',\n",
      "        'statement': 'Notwithstanding their praise, the woke national '\n",
      "                     'curriculum is criticised for not going far enough.'},\n",
      "    {   'blame_attribution': 'Curriculum',\n",
      "        'cause_of_problem': 'Curriculum not going far enough',\n",
      "        'problem_definition': 'Lack of comprehensive climate education across '\n",
      "                              'all subject areas, especially in primary school',\n",
      "        'solution_adressee': 'Educators',\n",
      "        'solution_to_problem': 'Infuse climate science into all areas of '\n",
      "                               'education',\n",
      "        'speaker_affiliation': 'Academics specialising in school pedagogy, '\n",
      "                               'geography, journalism and marine studies',\n",
      "        'speaker_name': 'Five academics',\n",
      "        'statement': 'The academics argue further action is needed to ensure '\n",
      "                     'climate change is \"infused through all subject areas\" '\n",
      "                     'and bemoan the fact \"explicit mentions of climate change '\n",
      "                     'are still missing from primary school\".'},\n",
      "    {   'blame_attribution': 'Fossil fuels',\n",
      "        'cause_of_problem': 'Fossil fuels',\n",
      "        'problem_definition': 'Anthropogenic climate change leading to '\n",
      "                              'catastrophic outcomes',\n",
      "        'solution_adressee': 'None found',\n",
      "        'solution_to_problem': 'Shut down coal mines and transition to '\n",
      "                               'renewable energy',\n",
      "        'speaker_affiliation': 'Academics specialising in school pedagogy, '\n",
      "                               'geography, journalism and marine studies',\n",
      "        'speaker_name': 'Five academics',\n",
      "        'statement': \"Underlying the academics' views about climate change is \"\n",
      "                     'the world is facing an inevitable catastrophe caused by '\n",
      "                     'man-made global warming where fossil fuels are the '\n",
      "                     'principal enemy.'},\n",
      "    {   'blame_attribution': 'Academics and curriculum',\n",
      "        'cause_of_problem': 'Emotive and inflammatory language used to '\n",
      "                            'describe climate change',\n",
      "        'problem_definition': 'Failure to acknowledge scientific disagreement '\n",
      "                              'on the causes of global warming and the impact '\n",
      "                              'of alarmist rhetoric on children',\n",
      "        'solution_adressee': 'None found',\n",
      "        'solution_to_problem': 'None found',\n",
      "        'speaker_affiliation': 'Journalist',\n",
      "        'speaker_name': 'Author',\n",
      "        'statement': 'Ignored are the scientists questioning the validity of '\n",
      "                     'describing global warming as anthropogenic and the '\n",
      "                     'reality much of the angst and anxiety suffered by '\n",
      "                     'children and teenagers is because of the emotive and '\n",
      "                     'inflammatory language employed to describe the impending '\n",
      "                     'climate apocalypse.'},\n",
      "    {   'blame_attribution': 'Activists and curriculum',\n",
      "        'cause_of_problem': \"Australia's small contribution to global \"\n",
      "                            'emissions',\n",
      "        'problem_definition': 'Transition to renewable energy in Australia '\n",
      "                              'will not meaningfully address global climate '\n",
      "                              'change',\n",
      "        'solution_adressee': 'None found',\n",
      "        'solution_to_problem': 'None found',\n",
      "        'speaker_affiliation': 'Journalist',\n",
      "        'speaker_name': 'Author',\n",
      "        'statement': 'Shutting down Australian coal mines and power stations '\n",
      "                     'and moving to renewables sounds morally superior, but it '\n",
      "                     'will do nothing to reduce climate change.'}]\n"
     ]
    }
   ],
   "source": [
    "import pprint\n",
    "\n",
    "pp = pprint.PrettyPrinter(indent=4)\n",
    "for line in results['analysis'].values:\n",
    "    pp.pprint(line)"
   ]
  },
  {
   "cell_type": "markdown",
   "metadata": {},
   "source": [
    "# Same thing, but this time, submit the run as a batch, running locally, but storing all artifacts on Azure"
   ]
  },
  {
   "cell_type": "code",
   "execution_count": 9,
   "metadata": {},
   "outputs": [
    {
     "name": "stdout",
     "output_type": "stream",
     "text": [
      "Prompt flow service has started...\n",
      "Prompt flow service has started...\n",
      "2024-08-26 17:53:15 26f087537f3a buttermilk buttermilk.py[ 200] INFO Logging setup for: {'function_name': 'default_project', 'job': 'development', 'logs': '20240826T0753Z-b5Hv-26f087537f3a-vscode', 'user': 'vscode', 'node': '26f087537f3a'}. Ready for data collection, saving log to Google Cloud Logs (Resource(type='generic_task', labels={'project_id': 'dmrc-platforms', 'location': 'us-central1', 'namespace': 'default_project', 'job': 'development', 'task_id': '20240826T0753Z-b5Hv-26f087537f3a-vscode'})). Default save directory for data in this run is: gs://dmrc-analysis/runs/default_project/development/20240826T0753Z-b5Hv-26f087537f3a-vscode\n",
      "2024-08-26 17:53:15 26f087537f3a buttermilk buttermilk.py[ 200] INFO Logging setup for: {'function_name': 'default_project', 'job': 'development', 'logs': '20240826T0753Z-b5Hv-26f087537f3a-vscode', 'user': 'vscode', 'node': '26f087537f3a'}. Ready for data collection, saving log to Google Cloud Logs (Resource(type='generic_task', labels={'project_id': 'dmrc-platforms', 'location': 'us-central1', 'namespace': 'default_project', 'job': 'development', 'task_id': '20240826T0753Z-b5Hv-26f087537f3a-vscode'})). Default save directory for data in this run is: gs://dmrc-analysis/runs/default_project/development/20240826T0753Z-b5Hv-26f087537f3a-vscode\n"
     ]
    },
    {
     "name": "stderr",
     "output_type": "stream",
     "text": [
      "INFO:buttermilk:Logging setup for: {'function_name': 'default_project', 'job': 'development', 'logs': '20240826T0753Z-b5Hv-26f087537f3a-vscode', 'user': 'vscode', 'node': '26f087537f3a'}. Ready for data collection, saving log to Google Cloud Logs (Resource(type='generic_task', labels={'project_id': 'dmrc-platforms', 'location': 'us-central1', 'namespace': 'default_project', 'job': 'development', 'task_id': '20240826T0753Z-b5Hv-26f087537f3a-vscode'})). Default save directory for data in this run is: gs://dmrc-analysis/runs/default_project/development/20240826T0753Z-b5Hv-26f087537f3a-vscode\n",
      "[2024-08-26 17:53:16 +1000][promptflow._sdk._orchestrator.run_submitter][INFO] - Upload run to cloud: True\n"
     ]
    },
    {
     "name": "stdout",
     "output_type": "stream",
     "text": [
      "Prompt flow service has started...\n",
      "You can view the traces in local from http://127.0.0.1:23334/v1.0/ui/traces/?#run=20240826T0733Z-8tjN-26f087537f3a-vscode_generic frames_haiku\n",
      "You can view the traces in azure portal since trace destination is set to: azureml://subscriptions/7e7e056a-4224-4e26-99d2-1e3f9a688c50/resourcegroups/rg-suzor_ai/providers/Microsoft.MachineLearningServices/workspaces/automod. The link will be printed once the run is finished.\n"
     ]
    },
    {
     "name": "stderr",
     "output_type": "stream",
     "text": [
      "[2024-08-26 17:53:18 +1000][promptflow._sdk._orchestrator.run_submitter][INFO] - Submitting run 20240826T0733Z-8tjN-26f087537f3a-vscode_generic frames_haiku, log path: /home/vscode/.promptflow/.runs/20240826T0733Z-8tjN-26f087537f3a-vscode_generic frames_haiku/logs.txt\n"
     ]
    }
   ],
   "source": [
    "from promptflow.tracing import start_trace, trace\n",
    "from promptflow.client import PFClient as LocalPFClient\n",
    "from buttermilk.flows.extract import Analyst\n",
    "import datetime\n",
    "\n",
    "start_trace(collection=\"climate\")\n",
    "\n",
    "import cloudpathlib\n",
    "from tempfile import NamedTemporaryFile\n",
    "\n",
    "results = pd.DataFrame()\n",
    "\n",
    "# Save the dataset locally\n",
    "\n",
    "with NamedTemporaryFile(delete=False, suffix=\".jsonl\", mode=\"w\") as f:\n",
    "    dataset = f.name\n",
    "cloudpathlib.CloudPath(DATASET).download_to(dataset)\n",
    "\n",
    "start_trace(collection=\"climate\")\n",
    "\n",
    "results = pd.DataFrame()\n",
    "\n",
    "pflocal = LocalPFClient()\n",
    "\n",
    "for model in models:\n",
    "    for variant in variants:\n",
    "        flow_vars = prompt_vars.copy()\n",
    "        flow_vars.update(variant)\n",
    "        flow_vars['langchain_model_name'] = model\n",
    "\n",
    "        flow = Analyst(**flow_vars)\n",
    "        columns = {\"content\": \"content\", \"record_id\": id}\n",
    "        run_name = f\"{bm._run_id}_{variant['name']}_{model}\"\n",
    "        run_meta = {\"name\": variant[\"name\"], \"model\": model, \"timestamp\": pd.to_datetime(datetime.datetime.now())}\n",
    "        run = pflocal.run(\n",
    "                flow=flow,\n",
    "                data=dataset,\n",
    "                init_vars=flow_vars,\n",
    "                column_mapping=columns,\n",
    "                stream=False,\n",
    "                name=run_name,display_name=\"Automod\",timeout=150,\n",
    "            )\n",
    "\n",
    "\n",
    "        logger.info(\n",
    "            f\"Run {run.name} completed with status {run.status}. URL: {run._portal_url}.\"\n",
    "        )\n",
    "\n",
    "        details = pflocal.get_details(run_name)\n",
    "\n",
    "        # duplicate run_info metadata for each row\n",
    "        run_meta = pd.DataFrame.from_records([run_meta for _ in range(details.shape[0])])\n",
    "        details = pd.concat([details, run_meta], axis='columns')\n",
    "\n",
    "        results = pd.concat([results, details])\n",
    "        break\n",
    "    break"
   ]
  },
  {
   "cell_type": "code",
   "execution_count": 8,
   "metadata": {},
   "outputs": [
    {
     "data": {
      "text/plain": [
       "'20240826T0733Z-8tjN-26f087537f3a-vscode'"
      ]
     },
     "execution_count": 8,
     "metadata": {},
     "output_type": "execute_result"
    }
   ],
   "source": []
  },
  {
   "cell_type": "code",
   "execution_count": null,
   "metadata": {},
   "outputs": [],
   "source": []
  }
 ],
 "metadata": {
  "kernelspec": {
   "display_name": "python311",
   "language": "python",
   "name": "python3"
  },
  "language_info": {
   "codemirror_mode": {
    "name": "ipython",
    "version": 3
   },
   "file_extension": ".py",
   "mimetype": "text/x-python",
   "name": "python",
   "nbconvert_exporter": "python",
   "pygments_lexer": "ipython3",
   "version": "3.11.0"
  }
 },
 "nbformat": 4,
 "nbformat_minor": 2
}
