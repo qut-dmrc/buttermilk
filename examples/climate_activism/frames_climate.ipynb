{
 "cells": [
  {
   "cell_type": "markdown",
   "metadata": {},
   "source": [
    "# Compare different prompts to extract frames from climate news"
   ]
  },
  {
   "cell_type": "code",
   "execution_count": 1,
   "metadata": {},
   "outputs": [
    {
     "name": "stderr",
     "output_type": "stream",
     "text": [
      "/opt/conda/envs/bm/lib/python3.11/site-packages/tqdm/auto.py:21: TqdmWarning: IProgress not found. Please update jupyter and ipywidgets. See https://ipywidgets.readthedocs.io/en/stable/user_install.html\n",
      "  from .autonotebook import tqdm as notebook_tqdm\n"
     ]
    }
   ],
   "source": [
    "import buttermilk\n",
    "\n",
    "bm = buttermilk.BM()\n",
    "\n",
    "from buttermilk.flows.extract import Analyst"
   ]
  },
  {
   "cell_type": "code",
   "execution_count": 2,
   "metadata": {},
   "outputs": [
    {
     "ename": "JinjaTemplateError",
     "evalue": "Failed to render jinja template: TypeError: no loader for this environment specified. Please modify your prompt to fix the issue.",
     "output_type": "error",
     "traceback": [
      "\u001b[0;31m---------------------------------------------------------------------------\u001b[0m",
      "\u001b[0;31mTypeError\u001b[0m                                 Traceback (most recent call last)",
      "File \u001b[0;32m/opt/conda/envs/bm/lib/python3.11/site-packages/promptflow/core/_prompty_utils.py:758\u001b[0m, in \u001b[0;36mrender_jinja_template\u001b[0;34m(prompt, trim_blocks, keep_trailing_newline, escape_dict, **kwargs)\u001b[0m\n\u001b[1;32m    757\u001b[0m \u001b[38;5;28;01mtry\u001b[39;00m:\n\u001b[0;32m--> 758\u001b[0m     \u001b[38;5;28;01mreturn\u001b[39;00m \u001b[43mrender_jinja_template_content\u001b[49m\u001b[43m(\u001b[49m\n\u001b[1;32m    759\u001b[0m \u001b[43m        \u001b[49m\u001b[43mprompt\u001b[49m\u001b[43m,\u001b[49m\u001b[43m \u001b[49m\u001b[43mtrim_blocks\u001b[49m\u001b[38;5;241;43m=\u001b[39;49m\u001b[43mtrim_blocks\u001b[49m\u001b[43m,\u001b[49m\u001b[43m \u001b[49m\u001b[43mkeep_trailing_newline\u001b[49m\u001b[38;5;241;43m=\u001b[39;49m\u001b[43mkeep_trailing_newline\u001b[49m\u001b[43m,\u001b[49m\u001b[43m \u001b[49m\u001b[38;5;241;43m*\u001b[39;49m\u001b[38;5;241;43m*\u001b[39;49m\u001b[43mkwargs\u001b[49m\n\u001b[1;32m    760\u001b[0m \u001b[43m    \u001b[49m\u001b[43m)\u001b[49m\n\u001b[1;32m    761\u001b[0m \u001b[38;5;28;01mexcept\u001b[39;00m \u001b[38;5;167;01mException\u001b[39;00m \u001b[38;5;28;01mas\u001b[39;00m e:\n\u001b[1;32m    762\u001b[0m     \u001b[38;5;66;03m# For exceptions raised by jinja2 module, mark UserError\u001b[39;00m\n",
      "File \u001b[0;32m/opt/conda/envs/bm/lib/python3.11/site-packages/promptflow/core/_utils.py:27\u001b[0m, in \u001b[0;36mrender_jinja_template_content\u001b[0;34m(template_content, trim_blocks, keep_trailing_newline, **kwargs)\u001b[0m\n\u001b[1;32m     26\u001b[0m template \u001b[38;5;241m=\u001b[39m Template(template_content, trim_blocks\u001b[38;5;241m=\u001b[39mtrim_blocks, keep_trailing_newline\u001b[38;5;241m=\u001b[39mkeep_trailing_newline)\n\u001b[0;32m---> 27\u001b[0m \u001b[38;5;28;01mreturn\u001b[39;00m \u001b[43mtemplate\u001b[49m\u001b[38;5;241;43m.\u001b[39;49m\u001b[43mrender\u001b[49m\u001b[43m(\u001b[49m\u001b[38;5;241;43m*\u001b[39;49m\u001b[38;5;241;43m*\u001b[39;49m\u001b[43mkwargs\u001b[49m\u001b[43m)\u001b[49m\n",
      "File \u001b[0;32m/opt/conda/envs/bm/lib/python3.11/site-packages/jinja2/environment.py:1304\u001b[0m, in \u001b[0;36mTemplate.render\u001b[0;34m(self, *args, **kwargs)\u001b[0m\n\u001b[1;32m   1303\u001b[0m \u001b[38;5;28;01mexcept\u001b[39;00m \u001b[38;5;167;01mException\u001b[39;00m:\n\u001b[0;32m-> 1304\u001b[0m     \u001b[38;5;28;43mself\u001b[39;49m\u001b[38;5;241;43m.\u001b[39;49m\u001b[43menvironment\u001b[49m\u001b[38;5;241;43m.\u001b[39;49m\u001b[43mhandle_exception\u001b[49m\u001b[43m(\u001b[49m\u001b[43m)\u001b[49m\n",
      "File \u001b[0;32m/opt/conda/envs/bm/lib/python3.11/site-packages/jinja2/environment.py:939\u001b[0m, in \u001b[0;36mEnvironment.handle_exception\u001b[0;34m(self, source)\u001b[0m\n\u001b[1;32m    937\u001b[0m \u001b[38;5;28;01mfrom\u001b[39;00m \u001b[38;5;21;01m.\u001b[39;00m\u001b[38;5;21;01mdebug\u001b[39;00m \u001b[38;5;28;01mimport\u001b[39;00m rewrite_traceback_stack\n\u001b[0;32m--> 939\u001b[0m \u001b[38;5;28;01mraise\u001b[39;00m rewrite_traceback_stack(source\u001b[38;5;241m=\u001b[39msource)\n",
      "File \u001b[0;32m<template>:2\u001b[0m, in \u001b[0;36mtop-level template code\u001b[0;34m()\u001b[0m\n",
      "\u001b[0;31mTypeError\u001b[0m: no loader for this environment specified",
      "\nThe above exception was the direct cause of the following exception:\n",
      "\u001b[0;31mJinjaTemplateError\u001b[0m                        Traceback (most recent call last)",
      "Cell \u001b[0;32mIn[2], line 1\u001b[0m\n\u001b[0;32m----> 1\u001b[0m flow \u001b[38;5;241m=\u001b[39m \u001b[43mAnalyst\u001b[49m\u001b[43m(\u001b[49m\u001b[43mprompt_template_path\u001b[49m\u001b[38;5;241;43m=\u001b[39;49m\u001b[38;5;124;43m\"\u001b[39;49m\u001b[38;5;124;43mgeneric.prompty\u001b[39;49m\u001b[38;5;124;43m\"\u001b[39;49m\u001b[43m,\u001b[49m\u001b[43m \u001b[49m\u001b[43mlangchain_model_name\u001b[49m\u001b[38;5;241;43m=\u001b[39;49m\u001b[38;5;124;43m\"\u001b[39;49m\u001b[38;5;124;43mhaiku\u001b[39;49m\u001b[38;5;124;43m\"\u001b[39;49m\u001b[43m)\u001b[49m\n\u001b[1;32m      2\u001b[0m flow\u001b[38;5;241m.\u001b[39mtemplate\n",
      "File \u001b[0;32m/workspaces/buttermilk/buttermilk/flows/extract/extract.py:52\u001b[0m, in \u001b[0;36mAnalyst.__init__\u001b[0;34m(self, langchain_model_name, prompt_template_path)\u001b[0m\n\u001b[1;32m     50\u001b[0m \u001b[38;5;66;03m# load prompty as a flow\u001b[39;00m\n\u001b[1;32m     51\u001b[0m prompty \u001b[38;5;241m=\u001b[39m Prompty\u001b[38;5;241m.\u001b[39mload(BASE_DIR \u001b[38;5;241m/\u001b[39m prompt_template_path)\n\u001b[0;32m---> 52\u001b[0m \u001b[38;5;28mself\u001b[39m\u001b[38;5;241m.\u001b[39mtemplate \u001b[38;5;241m=\u001b[39m \u001b[43mconvert_prompt_template\u001b[49m\u001b[43m(\u001b[49m\u001b[43mprompty\u001b[49m\u001b[38;5;241;43m.\u001b[39;49m\u001b[43m_template\u001b[49m\u001b[43m,\u001b[49m\u001b[43m \u001b[49m\u001b[43mapi\u001b[49m\u001b[38;5;241;43m=\u001b[39;49m\u001b[38;5;124;43m\"\u001b[39;49m\u001b[38;5;124;43mchat\u001b[39;49m\u001b[38;5;124;43m\"\u001b[39;49m\u001b[43m,\u001b[49m\u001b[43m \u001b[49m\u001b[43minputs\u001b[49m\u001b[38;5;241;43m=\u001b[39;49m\u001b[43m{\u001b[49m\u001b[43m}\u001b[49m\u001b[43m)\u001b[49m\n\u001b[1;32m     54\u001b[0m \u001b[38;5;66;03m# convert to a list of messages and roles expected by langchain\u001b[39;00m\n\u001b[1;32m     55\u001b[0m \u001b[38;5;28mself\u001b[39m\u001b[38;5;241m.\u001b[39mlangchain_template \u001b[38;5;241m=\u001b[39m [(m[\u001b[38;5;124m'\u001b[39m\u001b[38;5;124mrole\u001b[39m\u001b[38;5;124m'\u001b[39m], m[\u001b[38;5;124m'\u001b[39m\u001b[38;5;124mcontent\u001b[39m\u001b[38;5;124m'\u001b[39m]) \u001b[38;5;28;01mfor\u001b[39;00m m \u001b[38;5;129;01min\u001b[39;00m \u001b[38;5;28mself\u001b[39m\u001b[38;5;241m.\u001b[39mtemplate]\n",
      "File \u001b[0;32m/opt/conda/envs/bm/lib/python3.11/site-packages/promptflow/core/_prompty_utils.py:143\u001b[0m, in \u001b[0;36mconvert_prompt_template\u001b[0;34m(template, inputs, api)\u001b[0m\n\u001b[1;32m    141\u001b[0m \u001b[38;5;28;01melse\u001b[39;00m:\n\u001b[1;32m    142\u001b[0m     reference_images \u001b[38;5;241m=\u001b[39m find_referenced_image_set(inputs)\n\u001b[0;32m--> 143\u001b[0m     rendered_prompt \u001b[38;5;241m=\u001b[39m \u001b[43mbuild_messages\u001b[49m\u001b[43m(\u001b[49m\u001b[43mprompt\u001b[49m\u001b[38;5;241;43m=\u001b[39;49m\u001b[43mprompt\u001b[49m\u001b[43m,\u001b[49m\u001b[43m \u001b[49m\u001b[43mimages\u001b[49m\u001b[38;5;241;43m=\u001b[39;49m\u001b[43mreference_images\u001b[49m\u001b[43m,\u001b[49m\u001b[43m \u001b[49m\u001b[38;5;241;43m*\u001b[39;49m\u001b[38;5;241;43m*\u001b[39;49m\u001b[43minputs\u001b[49m\u001b[43m)\u001b[49m\n\u001b[1;32m    144\u001b[0m \u001b[38;5;28;01mreturn\u001b[39;00m rendered_prompt\n",
      "File \u001b[0;32m/opt/conda/envs/bm/lib/python3.11/site-packages/promptflow/core/_prompty_utils.py:914\u001b[0m, in \u001b[0;36mbuild_messages\u001b[0;34m(prompt, images, image_detail, **kwargs)\u001b[0m\n\u001b[1;32m    911\u001b[0m updated_kwargs \u001b[38;5;241m=\u001b[39m Escaper\u001b[38;5;241m.\u001b[39mescape_kwargs(escape_dict\u001b[38;5;241m=\u001b[39mescape_dict, _inputs_to_escape\u001b[38;5;241m=\u001b[39minputs_to_escape, \u001b[38;5;241m*\u001b[39m\u001b[38;5;241m*\u001b[39mkwargs)\n\u001b[1;32m    913\u001b[0m \u001b[38;5;66;03m# keep_trailing_newline=True is to keep the last \\n in the prompt to avoid converting \"user:\\t\\n\" to \"user:\".\u001b[39;00m\n\u001b[0;32m--> 914\u001b[0m chat_str \u001b[38;5;241m=\u001b[39m \u001b[43mrender_jinja_template\u001b[49m\u001b[43m(\u001b[49m\n\u001b[1;32m    915\u001b[0m \u001b[43m    \u001b[49m\u001b[43mprompt\u001b[49m\u001b[43m,\u001b[49m\u001b[43m \u001b[49m\u001b[43mtrim_blocks\u001b[49m\u001b[38;5;241;43m=\u001b[39;49m\u001b[38;5;28;43;01mTrue\u001b[39;49;00m\u001b[43m,\u001b[49m\u001b[43m \u001b[49m\u001b[43mkeep_trailing_newline\u001b[49m\u001b[38;5;241;43m=\u001b[39;49m\u001b[38;5;28;43;01mTrue\u001b[39;49;00m\u001b[43m,\u001b[49m\u001b[43m \u001b[49m\u001b[43mescape_dict\u001b[49m\u001b[38;5;241;43m=\u001b[39;49m\u001b[43mescape_dict\u001b[49m\u001b[43m,\u001b[49m\u001b[43m \u001b[49m\u001b[38;5;241;43m*\u001b[39;49m\u001b[38;5;241;43m*\u001b[39;49m\u001b[43mupdated_kwargs\u001b[49m\n\u001b[1;32m    916\u001b[0m \u001b[43m\u001b[49m\u001b[43m)\u001b[49m\n\u001b[1;32m    917\u001b[0m messages \u001b[38;5;241m=\u001b[39m parse_chat(chat_str, images\u001b[38;5;241m=\u001b[39mimages, image_detail\u001b[38;5;241m=\u001b[39mimage_detail, escape_dict\u001b[38;5;241m=\u001b[39mescape_dict)\n\u001b[1;32m    919\u001b[0m \u001b[38;5;28;01mif\u001b[39;00m escape_dict \u001b[38;5;129;01mand\u001b[39;00m \u001b[38;5;28misinstance\u001b[39m(messages, \u001b[38;5;28mlist\u001b[39m):\n",
      "File \u001b[0;32m/opt/conda/envs/bm/lib/python3.11/site-packages/promptflow/core/_prompty_utils.py:769\u001b[0m, in \u001b[0;36mrender_jinja_template\u001b[0;34m(prompt, trim_blocks, keep_trailing_newline, escape_dict, **kwargs)\u001b[0m\n\u001b[1;32m    764\u001b[0m unescaped_exception_message \u001b[38;5;241m=\u001b[39m Escaper\u001b[38;5;241m.\u001b[39munescape_roles(exception_message, escape_dict)\n\u001b[1;32m    765\u001b[0m error_message \u001b[38;5;241m=\u001b[39m (\n\u001b[1;32m    766\u001b[0m     \u001b[38;5;124mf\u001b[39m\u001b[38;5;124m\"\u001b[39m\u001b[38;5;124mFailed to render jinja template: \u001b[39m\u001b[38;5;132;01m{\u001b[39;00m\u001b[38;5;28mtype\u001b[39m(e)\u001b[38;5;241m.\u001b[39m\u001b[38;5;18m__name__\u001b[39m\u001b[38;5;132;01m}\u001b[39;00m\u001b[38;5;124m: \u001b[39m\u001b[38;5;132;01m{\u001b[39;00munescaped_exception_message\u001b[38;5;132;01m}\u001b[39;00m\u001b[38;5;124m. \u001b[39m\u001b[38;5;124m\"\u001b[39m\n\u001b[1;32m    767\u001b[0m     \u001b[38;5;241m+\u001b[39m \u001b[38;5;124m\"\u001b[39m\u001b[38;5;124mPlease modify your prompt to fix the issue.\u001b[39m\u001b[38;5;124m\"\u001b[39m\n\u001b[1;32m    768\u001b[0m )\n\u001b[0;32m--> 769\u001b[0m \u001b[38;5;28;01mraise\u001b[39;00m JinjaTemplateError(message\u001b[38;5;241m=\u001b[39merror_message) \u001b[38;5;28;01mfrom\u001b[39;00m \u001b[38;5;21;01me\u001b[39;00m\n",
      "\u001b[0;31mJinjaTemplateError\u001b[0m: Failed to render jinja template: TypeError: no loader for this environment specified. Please modify your prompt to fix the issue."
     ]
    }
   ],
   "source": [
    "flow = Analyst(prompt_template_path=\"generic.prompty\", langchain_model_name=\"haiku\")\n",
    "flow.template"
   ]
  },
  {
   "cell_type": "code",
   "execution_count": null,
   "metadata": {},
   "outputs": [],
   "source": []
  }
 ],
 "metadata": {
  "kernelspec": {
   "display_name": "python311",
   "language": "python",
   "name": "python3"
  },
  "language_info": {
   "codemirror_mode": {
    "name": "ipython",
    "version": 3
   },
   "file_extension": ".py",
   "mimetype": "text/x-python",
   "name": "python",
   "nbconvert_exporter": "python",
   "pygments_lexer": "ipython3",
   "version": "3.11.0"
  }
 },
 "nbformat": 4,
 "nbformat_minor": 2
}
