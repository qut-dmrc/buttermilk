{
 "cells": [
  {
   "cell_type": "code",
   "execution_count": 2,
   "metadata": {},
   "outputs": [
    {
     "name": "stderr",
     "output_type": "stream",
     "text": [
      "/opt/homebrew/Caskroom/miniconda/base/envs/bm/lib/python3.11/site-packages/tqdm/auto.py:21: TqdmWarning: IProgress not found. Please update jupyter and ipywidgets. See https://ipywidgets.readthedocs.io/en/stable/user_install.html\n",
      "  from .autonotebook import tqdm as notebook_tqdm\n"
     ]
    },
    {
     "name": "stdout",
     "output_type": "stream",
     "text": [
      "\u001b[32m2024-11-28 10:01:14\u001b[0m \u001b[35mJ5HW6L4KT6\u001b[0m \u001b[34mbuttermilk\u001b[0m bm.py[ 300] \u001b[1;30mINFO\u001b[0m {'message': \"Logging setup for: <bound method SessionInfo.__str__ of SessionInfo(run_id='20241128T0001Z-XcSp-J5HW6L4KT6-suzor', ip='159.196.210.27', node_name='J5HW6L4KT6', username='suzor', save_dir='/var/folders/m0/dnlbtw0563gbgn18y50l5vjm0000gq/T/tmpvzni59yv')>. Ready for data collection, saving log to Google Cloud Logs (Resource(type='generic_task', labels={'project_id': 'dmrc-platforms', 'location': 'us-central1', 'namespace': 'buttermilk', 'job': 'debugging', 'task_id': '20241128T0001Z-XcSp-J5HW6L4KT6-suzor'})). Default save directory for data in this run is: /var/folders/m0/dnlbtw0563gbgn18y50l5vjm0000gq/T/tmpvzni59yv\", 'run_id': '20241128T0001Z-XcSp-J5HW6L4KT6-suzor', 'ip': '159.196.210.27', 'node_name': 'J5HW6L4KT6', 'username': 'suzor', 'save_dir': '/var/folders/m0/dnlbtw0563gbgn18y50l5vjm0000gq/T/tmpvzni59yv'}\n",
      "\u001b[32m2024-11-28 10:01:14\u001b[0m \u001b[35mJ5HW6L4KT6\u001b[0m \u001b[34mbuttermilk\u001b[0m bm.py[ 310] \u001b[1;30mDEBUG\u001b[0m \u001b[32mButtermilk version is: 0.2.1\u001b[0m\n",
      "Prompt flow service has started...\n"
     ]
    },
    {
     "data": {
      "text/html": [
       "<pre style=\"white-space:pre;overflow-x:auto;line-height:normal;font-family:Menlo,'DejaVu Sans Mono',consolas,'Courier New',monospace\"><span style=\"color: #800080; text-decoration-color: #800080; font-weight: bold\">Project</span><span style=\"font-weight: bold\">(</span>\n",
       "    <span style=\"color: #808000; text-decoration-color: #808000\">name</span>=<span style=\"color: #008000; text-decoration-color: #008000\">'buttermilk'</span>,\n",
       "    <span style=\"color: #808000; text-decoration-color: #808000\">job</span>=<span style=\"color: #008000; text-decoration-color: #008000\">'debugging'</span>,\n",
       "    <span style=\"color: #808000; text-decoration-color: #808000\">connections</span>=<span style=\"font-weight: bold\">[]</span>,\n",
       "    <span style=\"color: #808000; text-decoration-color: #808000\">secret_provider</span>=<span style=\"color: #800080; text-decoration-color: #800080; font-weight: bold\">CloudProviderCfg</span><span style=\"font-weight: bold\">(</span><span style=\"color: #808000; text-decoration-color: #808000\">type</span>=<span style=\"color: #008000; text-decoration-color: #008000\">'gcp'</span>, <span style=\"color: #808000; text-decoration-color: #808000\">project</span>=<span style=\"color: #008000; text-decoration-color: #008000\">'dmrc-platforms'</span>, <span style=\"color: #808000; text-decoration-color: #808000\">models_secret</span>=<span style=\"color: #008000; text-decoration-color: #008000\">'dev__llm__connections'</span><span style=\"font-weight: bold\">)</span>,\n",
       "    <span style=\"color: #808000; text-decoration-color: #808000\">save_dest</span>=<span style=\"color: #800080; text-decoration-color: #800080; font-weight: bold\">CloudProviderCfg</span><span style=\"font-weight: bold\">(</span>\n",
       "        <span style=\"color: #808000; text-decoration-color: #808000\">type</span>=<span style=\"color: #008000; text-decoration-color: #008000\">'gcp'</span>,\n",
       "        <span style=\"color: #808000; text-decoration-color: #808000\">project</span>=<span style=\"color: #008000; text-decoration-color: #008000\">'dmrc-analysis'</span>,\n",
       "        <span style=\"color: #808000; text-decoration-color: #808000\">region</span>=<span style=\"color: #008000; text-decoration-color: #008000\">'us-central1'</span>,\n",
       "        <span style=\"color: #808000; text-decoration-color: #808000\">bucket</span>=<span style=\"color: #008000; text-decoration-color: #008000\">'dmrc-analysis'</span>,\n",
       "        <span style=\"color: #808000; text-decoration-color: #808000\">clouds</span>=<span style=\"font-weight: bold\">[{</span><span style=\"color: #008000; text-decoration-color: #008000\">'type'</span>: <span style=\"color: #008000; text-decoration-color: #008000\">'vertex'</span>, <span style=\"color: #008000; text-decoration-color: #008000\">'project'</span>: <span style=\"color: #008000; text-decoration-color: #008000\">'gcp_project_id'</span>, <span style=\"color: #008000; text-decoration-color: #008000\">'region'</span>: <span style=\"color: #008000; text-decoration-color: #008000\">'us-central1'</span>, <span style=\"color: #008000; text-decoration-color: #008000\">'bucket'</span>: \n",
       "<span style=\"color: #008000; text-decoration-color: #008000\">'dmrc-analysis'</span><span style=\"font-weight: bold\">}]</span>\n",
       "    <span style=\"font-weight: bold\">)</span>,\n",
       "    <span style=\"color: #808000; text-decoration-color: #808000\">logger</span>=<span style=\"color: #800080; text-decoration-color: #800080; font-weight: bold\">CloudProviderCfg</span><span style=\"font-weight: bold\">(</span><span style=\"color: #808000; text-decoration-color: #808000\">type</span>=<span style=\"color: #008000; text-decoration-color: #008000\">'gcp'</span><span style=\"font-weight: bold\">)</span>,\n",
       "    <span style=\"color: #808000; text-decoration-color: #808000\">pubsub</span>=<span style=\"color: #800080; text-decoration-color: #800080; font-weight: bold\">CloudProviderCfg</span><span style=\"font-weight: bold\">(</span><span style=\"color: #808000; text-decoration-color: #808000\">type</span>=<span style=\"color: #008000; text-decoration-color: #008000\">'gcp'</span>, <span style=\"color: #808000; text-decoration-color: #808000\">project</span>=<span style=\"color: #008000; text-decoration-color: #008000\">'dmrc-platforms'</span>, <span style=\"color: #808000; text-decoration-color: #808000\">subscription</span>=<span style=\"color: #008000; text-decoration-color: #008000\">'flow-sub'</span><span style=\"font-weight: bold\">)</span>,\n",
       "    <span style=\"color: #808000; text-decoration-color: #808000\">clouds</span>=<span style=\"font-weight: bold\">[</span>\n",
       "        <span style=\"color: #800080; text-decoration-color: #800080; font-weight: bold\">CloudProviderCfg</span><span style=\"font-weight: bold\">(</span><span style=\"color: #808000; text-decoration-color: #808000\">type</span>=<span style=\"color: #008000; text-decoration-color: #008000\">'vertex'</span>, <span style=\"color: #808000; text-decoration-color: #808000\">project</span>=<span style=\"color: #008000; text-decoration-color: #008000\">'dmrc-platforms'</span>, <span style=\"color: #808000; text-decoration-color: #808000\">region</span>=<span style=\"color: #008000; text-decoration-color: #008000\">'us-central1'</span>, <span style=\"color: #808000; text-decoration-color: #808000\">bucket</span>=<span style=\"color: #008000; text-decoration-color: #008000\">'dmrc-analysis'</span><span style=\"font-weight: bold\">)</span>\n",
       "    <span style=\"font-weight: bold\">]</span>,\n",
       "    <span style=\"color: #808000; text-decoration-color: #808000\">flows</span>=<span style=\"font-weight: bold\">[]</span>,\n",
       "    <span style=\"color: #808000; text-decoration-color: #808000\">tracing</span>=<span style=\"color: #800080; text-decoration-color: #800080; font-weight: bold\">Tracing</span><span style=\"font-weight: bold\">(</span><span style=\"color: #808000; text-decoration-color: #808000\">enabled</span>=<span style=\"color: #00ff00; text-decoration-color: #00ff00; font-style: italic\">True</span>, <span style=\"color: #808000; text-decoration-color: #808000\">endpoint</span>=<span style=\"color: #800080; text-decoration-color: #800080; font-style: italic\">None</span>, <span style=\"color: #808000; text-decoration-color: #808000\">otlp_headers</span>=<span style=\"font-weight: bold\">{})</span>,\n",
       "    <span style=\"color: #808000; text-decoration-color: #808000\">verbose</span>=<span style=\"color: #00ff00; text-decoration-color: #00ff00; font-style: italic\">True</span>,\n",
       "    <span style=\"color: #808000; text-decoration-color: #808000\">run</span>=<span style=\"color: #800080; text-decoration-color: #800080; font-weight: bold\">RunCfg</span><span style=\"font-weight: bold\">(</span><span style=\"color: #808000; text-decoration-color: #808000\">platform</span>=<span style=\"color: #008000; text-decoration-color: #008000\">'local'</span>, <span style=\"color: #808000; text-decoration-color: #808000\">max_concurrency</span>=<span style=\"color: #008080; text-decoration-color: #008080; font-weight: bold\">32</span>, <span style=\"color: #808000; text-decoration-color: #808000\">parameters</span>=<span style=\"font-weight: bold\">{})</span>\n",
       "<span style=\"font-weight: bold\">)</span>\n",
       "</pre>\n"
      ],
      "text/plain": [
       "\u001b[1;35mProject\u001b[0m\u001b[1m(\u001b[0m\n",
       "    \u001b[33mname\u001b[0m=\u001b[32m'buttermilk'\u001b[0m,\n",
       "    \u001b[33mjob\u001b[0m=\u001b[32m'debugging'\u001b[0m,\n",
       "    \u001b[33mconnections\u001b[0m=\u001b[1m[\u001b[0m\u001b[1m]\u001b[0m,\n",
       "    \u001b[33msecret_provider\u001b[0m=\u001b[1;35mCloudProviderCfg\u001b[0m\u001b[1m(\u001b[0m\u001b[33mtype\u001b[0m=\u001b[32m'gcp'\u001b[0m, \u001b[33mproject\u001b[0m=\u001b[32m'dmrc-platforms'\u001b[0m, \u001b[33mmodels_secret\u001b[0m=\u001b[32m'dev__llm__connections'\u001b[0m\u001b[1m)\u001b[0m,\n",
       "    \u001b[33msave_dest\u001b[0m=\u001b[1;35mCloudProviderCfg\u001b[0m\u001b[1m(\u001b[0m\n",
       "        \u001b[33mtype\u001b[0m=\u001b[32m'gcp'\u001b[0m,\n",
       "        \u001b[33mproject\u001b[0m=\u001b[32m'dmrc-analysis'\u001b[0m,\n",
       "        \u001b[33mregion\u001b[0m=\u001b[32m'us-central1'\u001b[0m,\n",
       "        \u001b[33mbucket\u001b[0m=\u001b[32m'dmrc-analysis'\u001b[0m,\n",
       "        \u001b[33mclouds\u001b[0m=\u001b[1m[\u001b[0m\u001b[1m{\u001b[0m\u001b[32m'type'\u001b[0m: \u001b[32m'vertex'\u001b[0m, \u001b[32m'project'\u001b[0m: \u001b[32m'gcp_project_id'\u001b[0m, \u001b[32m'region'\u001b[0m: \u001b[32m'us-central1'\u001b[0m, \u001b[32m'bucket'\u001b[0m: \n",
       "\u001b[32m'dmrc-analysis'\u001b[0m\u001b[1m}\u001b[0m\u001b[1m]\u001b[0m\n",
       "    \u001b[1m)\u001b[0m,\n",
       "    \u001b[33mlogger\u001b[0m=\u001b[1;35mCloudProviderCfg\u001b[0m\u001b[1m(\u001b[0m\u001b[33mtype\u001b[0m=\u001b[32m'gcp'\u001b[0m\u001b[1m)\u001b[0m,\n",
       "    \u001b[33mpubsub\u001b[0m=\u001b[1;35mCloudProviderCfg\u001b[0m\u001b[1m(\u001b[0m\u001b[33mtype\u001b[0m=\u001b[32m'gcp'\u001b[0m, \u001b[33mproject\u001b[0m=\u001b[32m'dmrc-platforms'\u001b[0m, \u001b[33msubscription\u001b[0m=\u001b[32m'flow-sub'\u001b[0m\u001b[1m)\u001b[0m,\n",
       "    \u001b[33mclouds\u001b[0m=\u001b[1m[\u001b[0m\n",
       "        \u001b[1;35mCloudProviderCfg\u001b[0m\u001b[1m(\u001b[0m\u001b[33mtype\u001b[0m=\u001b[32m'vertex'\u001b[0m, \u001b[33mproject\u001b[0m=\u001b[32m'dmrc-platforms'\u001b[0m, \u001b[33mregion\u001b[0m=\u001b[32m'us-central1'\u001b[0m, \u001b[33mbucket\u001b[0m=\u001b[32m'dmrc-analysis'\u001b[0m\u001b[1m)\u001b[0m\n",
       "    \u001b[1m]\u001b[0m,\n",
       "    \u001b[33mflows\u001b[0m=\u001b[1m[\u001b[0m\u001b[1m]\u001b[0m,\n",
       "    \u001b[33mtracing\u001b[0m=\u001b[1;35mTracing\u001b[0m\u001b[1m(\u001b[0m\u001b[33menabled\u001b[0m=\u001b[3;92mTrue\u001b[0m, \u001b[33mendpoint\u001b[0m=\u001b[3;35mNone\u001b[0m, \u001b[33motlp_headers\u001b[0m=\u001b[1m{\u001b[0m\u001b[1m}\u001b[0m\u001b[1m)\u001b[0m,\n",
       "    \u001b[33mverbose\u001b[0m=\u001b[3;92mTrue\u001b[0m,\n",
       "    \u001b[33mrun\u001b[0m=\u001b[1;35mRunCfg\u001b[0m\u001b[1m(\u001b[0m\u001b[33mplatform\u001b[0m=\u001b[32m'local'\u001b[0m, \u001b[33mmax_concurrency\u001b[0m=\u001b[1;36m32\u001b[0m, \u001b[33mparameters\u001b[0m=\u001b[1m{\u001b[0m\u001b[1m}\u001b[0m\u001b[1m)\u001b[0m\n",
       "\u001b[1m)\u001b[0m\n"
      ]
     },
     "metadata": {},
     "output_type": "display_data"
    },
    {
     "data": {
      "text/html": [
       "<pre style=\"white-space:pre;overflow-x:auto;line-height:normal;font-family:Menlo,'DejaVu Sans Mono',consolas,'Courier New',monospace\"><span style=\"color: #800080; text-decoration-color: #800080; font-weight: bold\">SessionInfo</span><span style=\"font-weight: bold\">(</span>\n",
       "    <span style=\"color: #808000; text-decoration-color: #808000\">run_id</span>=<span style=\"color: #008000; text-decoration-color: #008000\">'20241128T0001Z-XcSp-J5HW6L4KT6-suzor'</span>,\n",
       "    <span style=\"color: #808000; text-decoration-color: #808000\">ip</span>=<span style=\"color: #008000; text-decoration-color: #008000\">'159.196.210.27'</span>,\n",
       "    <span style=\"color: #808000; text-decoration-color: #808000\">node_name</span>=<span style=\"color: #008000; text-decoration-color: #008000\">'J5HW6L4KT6'</span>,\n",
       "    <span style=\"color: #808000; text-decoration-color: #808000\">username</span>=<span style=\"color: #008000; text-decoration-color: #008000\">'suzor'</span>,\n",
       "    <span style=\"color: #808000; text-decoration-color: #808000\">save_dir</span>=<span style=\"color: #008000; text-decoration-color: #008000\">'/var/folders/m0/dnlbtw0563gbgn18y50l5vjm0000gq/T/tmpvzni59yv'</span>\n",
       "<span style=\"font-weight: bold\">)</span>\n",
       "</pre>\n"
      ],
      "text/plain": [
       "\u001b[1;35mSessionInfo\u001b[0m\u001b[1m(\u001b[0m\n",
       "    \u001b[33mrun_id\u001b[0m=\u001b[32m'20241128T0001Z-XcSp-J5HW6L4KT6-suzor'\u001b[0m,\n",
       "    \u001b[33mip\u001b[0m=\u001b[32m'159.196.210.27'\u001b[0m,\n",
       "    \u001b[33mnode_name\u001b[0m=\u001b[32m'J5HW6L4KT6'\u001b[0m,\n",
       "    \u001b[33musername\u001b[0m=\u001b[32m'suzor'\u001b[0m,\n",
       "    \u001b[33msave_dir\u001b[0m=\u001b[32m'/var/folders/m0/dnlbtw0563gbgn18y50l5vjm0000gq/T/tmpvzni59yv'\u001b[0m\n",
       "\u001b[1m)\u001b[0m\n"
      ]
     },
     "metadata": {},
     "output_type": "display_data"
    },
    {
     "name": "stdout",
     "output_type": "stream",
     "text": [
      "\u001b[32m2024-11-28 10:01:14\u001b[0m \u001b[35mJ5HW6L4KT6\u001b[0m \u001b[34mbuttermilk\u001b[0m save.py[ 106] \u001b[1;30mDEBUG\u001b[0m \u001b[32mTrying to save data using dump_to_disk.\u001b[0m\n"
     ]
    },
    {
     "name": "stderr",
     "output_type": "stream",
     "text": [
      "DEBUG:buttermilk:Trying to save data using dump_to_disk.\n"
     ]
    },
    {
     "name": "stdout",
     "output_type": "stream",
     "text": [
      "\u001b[32m2024-11-28 10:01:14\u001b[0m \u001b[35mJ5HW6L4KT6\u001b[0m \u001b[34mbuttermilk\u001b[0m save.py[ 117] \u001b[1;30mWARNING\u001b[0m \u001b[33mCould not save data using dump_to_disk: Object of type ListConfig is not JSON serializable e.args=('Object of type ListConfig is not JSON serializable',)\u001b[0m\n"
     ]
    },
    {
     "name": "stderr",
     "output_type": "stream",
     "text": [
      "WARNING:buttermilk:Could not save data using dump_to_disk: Object of type ListConfig is not JSON serializable e.args=('Object of type ListConfig is not JSON serializable',)\n"
     ]
    },
    {
     "name": "stdout",
     "output_type": "stream",
     "text": [
      "\u001b[32m2024-11-28 10:01:14\u001b[0m \u001b[35mJ5HW6L4KT6\u001b[0m \u001b[34mbuttermilk\u001b[0m save.py[ 106] \u001b[1;30mDEBUG\u001b[0m \u001b[32mTrying to save data using dump_pickle.\u001b[0m\n"
     ]
    },
    {
     "name": "stderr",
     "output_type": "stream",
     "text": [
      "DEBUG:buttermilk:Trying to save data using dump_pickle.\n"
     ]
    },
    {
     "name": "stdout",
     "output_type": "stream",
     "text": [
      "\u001b[32m2024-11-28 10:01:14\u001b[0m \u001b[35mJ5HW6L4KT6\u001b[0m \u001b[34mbuttermilk\u001b[0m save.py[ 117] \u001b[1;30mWARNING\u001b[0m \u001b[33mCould not save data using dump_pickle: write() argument must be str, not bytes e.args=('write() argument must be str, not bytes',)\u001b[0m\n"
     ]
    },
    {
     "name": "stderr",
     "output_type": "stream",
     "text": [
      "WARNING:buttermilk:Could not save data using dump_pickle: write() argument must be str, not bytes e.args=('write() argument must be str, not bytes',)\n"
     ]
    },
    {
     "name": "stdout",
     "output_type": "stream",
     "text": [
      "\u001b[32m2024-11-28 10:01:14\u001b[0m \u001b[35mJ5HW6L4KT6\u001b[0m \u001b[34mbuttermilk\u001b[0m bm.py[ 199] \u001b[1;30mERROR\u001b[0m \u001b[31mCould not save config to default save dir: Critical failure. Unable to save using any method in [<function dump_to_disk at 0x30a655ee0>, <function dump_pickle at 0x30a654860>]\u001b[0m\n"
     ]
    },
    {
     "name": "stderr",
     "output_type": "stream",
     "text": [
      "ERROR:buttermilk:Could not save config to default save dir: Critical failure. Unable to save using any method in [<function dump_to_disk at 0x30a655ee0>, <function dump_pickle at 0x30a654860>]\n"
     ]
    }
   ],
   "source": [
    "%load_ext autoreload\n",
    "%autoreload 2 \n",
    "\n",
    "from pathlib import Path\n",
    "import json\n",
    "import hydra\n",
    "import matplotlib.pyplot as plt\n",
    "import numpy as np\n",
    "import pandas as pd\n",
    "import pydantic\n",
    "import seaborn as sns\n",
    "from buttermilk import BM\n",
    "from cmap import Colormap\n",
    "from rich import print as rprint\n",
    "\n",
    "from buttermilk import BM\n",
    "import os\n",
    "\n",
    "from hydra import initialize, compose\n",
    "from omegaconf import OmegaConf\n",
    "\n",
    "# Load config, specifying overrides for our particular job\n",
    "with initialize(version_base=None, config_path=\"../conf\"):\n",
    "    cfg = compose(config_name=\"config\", overrides=[\"+flows=toxicity\"])\n",
    "\n",
    "# Hydra will automatically instantiate the objects\n",
    "objs = hydra.utils.instantiate(cfg)\n",
    "\n",
    "bm = objs.bm\n",
    "flows = objs.flows\n",
    "\n",
    "plt.rcParams[\"figure.dpi\"] = 300\n",
    "plt.rcParams[\"figure.figsize\"] = (10, 8)\n",
    "sns.set_context(\"notebook\")\n",
    "sns.set_style(\"darkgrid\")\n",
    "plt.rcParams[\"font.size\"] = 14\n"
   ]
  },
  {
   "cell_type": "code",
   "execution_count": 6,
   "metadata": {},
   "outputs": [
    {
     "data": {
      "text/html": [
       "<pre style=\"white-space:pre;overflow-x:auto;line-height:normal;font-family:Menlo,'DejaVu Sans Mono',consolas,'Courier New',monospace\"><span style=\"color: #800080; text-decoration-color: #800080; font-weight: bold\">AIMessage</span><span style=\"font-weight: bold\">(</span>\n",
       "    <span style=\"color: #808000; text-decoration-color: #808000\">content</span>=<span style=\"color: #008000; text-decoration-color: #008000\">\"The sky appears blue due to a phenomenon called Rayleigh scattering. Here's a detailed </span>\n",
       "<span style=\"color: #008000; text-decoration-color: #008000\">explanation:\\n\\n1. Sunlight contains multiple colors (wavelengths) of light\\n\\n2. When sunlight enters Earth's </span>\n",
       "<span style=\"color: #008000; text-decoration-color: #008000\">atmosphere, it collides with gas molecules (mostly nitrogen and oxygen)\\n\\n3. These molecules scatter different </span>\n",
       "<span style=\"color: #008000; text-decoration-color: #008000\">wavelengths of light in various directions\\n\\n4. Blue light has a shorter wavelength and is scattered more easily </span>\n",
       "<span style=\"color: #008000; text-decoration-color: #008000\">than other colors\\n\\n5. This scattered blue light spreads across the sky, making it appear blue from our </span>\n",
       "<span style=\"color: #008000; text-decoration-color: #008000\">perspective\\n\\nDuring sunrise and sunset, the sky can appear reddish or orangey because sunlight travels through </span>\n",
       "<span style=\"color: #008000; text-decoration-color: #008000\">more atmosphere, causing more scattering of blue light and allowing longer wavelength (red/orange) light to become </span>\n",
       "<span style=\"color: #008000; text-decoration-color: #008000\">more visible.\\n\\nThis same principle explains why the sky looks different colors in various atmospheric conditions </span>\n",
       "<span style=\"color: #008000; text-decoration-color: #008000\">and why the sky on other planets might look different based on their atmospheric composition.\"</span>,\n",
       "    <span style=\"color: #808000; text-decoration-color: #808000\">additional_kwargs</span>=<span style=\"font-weight: bold\">{}</span>,\n",
       "    <span style=\"color: #808000; text-decoration-color: #808000\">response_metadata</span>=<span style=\"font-weight: bold\">{</span>\n",
       "        <span style=\"color: #008000; text-decoration-color: #008000\">'id'</span>: <span style=\"color: #008000; text-decoration-color: #008000\">'msg_vrtx_01S4wA77Ay3CuWh6eRzH6ePi'</span>,\n",
       "        <span style=\"color: #008000; text-decoration-color: #008000\">'model'</span>: <span style=\"color: #008000; text-decoration-color: #008000\">'claude-3-5-haiku-20241022'</span>,\n",
       "        <span style=\"color: #008000; text-decoration-color: #008000\">'stop_reason'</span>: <span style=\"color: #008000; text-decoration-color: #008000\">'end_turn'</span>,\n",
       "        <span style=\"color: #008000; text-decoration-color: #008000\">'stop_sequence'</span>: <span style=\"color: #800080; text-decoration-color: #800080; font-style: italic\">None</span>,\n",
       "        <span style=\"color: #008000; text-decoration-color: #008000\">'usage'</span>: <span style=\"font-weight: bold\">{</span><span style=\"color: #008000; text-decoration-color: #008000\">'input_tokens'</span>: <span style=\"color: #008080; text-decoration-color: #008080; font-weight: bold\">12</span>, <span style=\"color: #008000; text-decoration-color: #008000\">'output_tokens'</span>: <span style=\"color: #008080; text-decoration-color: #008080; font-weight: bold\">198</span><span style=\"font-weight: bold\">}</span>\n",
       "    <span style=\"font-weight: bold\">}</span>,\n",
       "    <span style=\"color: #808000; text-decoration-color: #808000\">id</span>=<span style=\"color: #008000; text-decoration-color: #008000\">'run-10cf96bb-d20b-4bcf-97bf-c47a69409524-0'</span>,\n",
       "    <span style=\"color: #808000; text-decoration-color: #808000\">usage_metadata</span>=<span style=\"font-weight: bold\">{</span><span style=\"color: #008000; text-decoration-color: #008000\">'input_tokens'</span>: <span style=\"color: #008080; text-decoration-color: #008080; font-weight: bold\">12</span>, <span style=\"color: #008000; text-decoration-color: #008000\">'output_tokens'</span>: <span style=\"color: #008080; text-decoration-color: #008080; font-weight: bold\">198</span>, <span style=\"color: #008000; text-decoration-color: #008000\">'total_tokens'</span>: <span style=\"color: #008080; text-decoration-color: #008080; font-weight: bold\">210</span>, <span style=\"color: #008000; text-decoration-color: #008000\">'input_token_details'</span>: <span style=\"font-weight: bold\">{}}</span>\n",
       "<span style=\"font-weight: bold\">)</span>\n",
       "</pre>\n"
      ],
      "text/plain": [
       "\u001b[1;35mAIMessage\u001b[0m\u001b[1m(\u001b[0m\n",
       "    \u001b[33mcontent\u001b[0m=\u001b[32m\"The\u001b[0m\u001b[32m sky appears blue due to a phenomenon called Rayleigh scattering. Here's a detailed \u001b[0m\n",
       "\u001b[32mexplanation:\\n\\n1. Sunlight contains multiple colors \u001b[0m\u001b[32m(\u001b[0m\u001b[32mwavelengths\u001b[0m\u001b[32m)\u001b[0m\u001b[32m of light\\n\\n2. When sunlight enters Earth's \u001b[0m\n",
       "\u001b[32matmosphere, it collides with gas molecules \u001b[0m\u001b[32m(\u001b[0m\u001b[32mmostly nitrogen and oxygen\u001b[0m\u001b[32m)\u001b[0m\u001b[32m\\n\\n3. These molecules scatter different \u001b[0m\n",
       "\u001b[32mwavelengths of light in various directions\\n\\n4. Blue light has a shorter wavelength and is scattered more easily \u001b[0m\n",
       "\u001b[32mthan other colors\\n\\n5. This scattered blue light spreads across the sky, making it appear blue from our \u001b[0m\n",
       "\u001b[32mperspective\\n\\nDuring sunrise and sunset, the sky can appear reddish or orangey because sunlight travels through \u001b[0m\n",
       "\u001b[32mmore atmosphere, causing more scattering of blue light and allowing longer wavelength \u001b[0m\u001b[32m(\u001b[0m\u001b[32mred/orange\u001b[0m\u001b[32m)\u001b[0m\u001b[32m light to become \u001b[0m\n",
       "\u001b[32mmore visible.\\n\\nThis same principle explains why the sky looks different colors in various atmospheric conditions \u001b[0m\n",
       "\u001b[32mand why the sky on other planets might look different based on their atmospheric composition.\"\u001b[0m,\n",
       "    \u001b[33madditional_kwargs\u001b[0m=\u001b[1m{\u001b[0m\u001b[1m}\u001b[0m,\n",
       "    \u001b[33mresponse_metadata\u001b[0m=\u001b[1m{\u001b[0m\n",
       "        \u001b[32m'id'\u001b[0m: \u001b[32m'msg_vrtx_01S4wA77Ay3CuWh6eRzH6ePi'\u001b[0m,\n",
       "        \u001b[32m'model'\u001b[0m: \u001b[32m'claude-3-5-haiku-20241022'\u001b[0m,\n",
       "        \u001b[32m'stop_reason'\u001b[0m: \u001b[32m'end_turn'\u001b[0m,\n",
       "        \u001b[32m'stop_sequence'\u001b[0m: \u001b[3;35mNone\u001b[0m,\n",
       "        \u001b[32m'usage'\u001b[0m: \u001b[1m{\u001b[0m\u001b[32m'input_tokens'\u001b[0m: \u001b[1;36m12\u001b[0m, \u001b[32m'output_tokens'\u001b[0m: \u001b[1;36m198\u001b[0m\u001b[1m}\u001b[0m\n",
       "    \u001b[1m}\u001b[0m,\n",
       "    \u001b[33mid\u001b[0m=\u001b[32m'run-10cf96bb-d20b-4bcf-97bf-c47a69409524-0'\u001b[0m,\n",
       "    \u001b[33musage_metadata\u001b[0m=\u001b[1m{\u001b[0m\u001b[32m'input_tokens'\u001b[0m: \u001b[1;36m12\u001b[0m, \u001b[32m'output_tokens'\u001b[0m: \u001b[1;36m198\u001b[0m, \u001b[32m'total_tokens'\u001b[0m: \u001b[1;36m210\u001b[0m, \u001b[32m'input_token_details'\u001b[0m: \u001b[1m{\u001b[0m\u001b[1m}\u001b[0m\u001b[1m}\u001b[0m\n",
       "\u001b[1m)\u001b[0m\n"
      ]
     },
     "metadata": {},
     "output_type": "display_data"
    }
   ],
   "source": [
    "from buttermilk.llms import LangChainAnthropicVertex\n",
    "\n",
    "\n",
    "model = LangChainAnthropicVertex(**{\n",
    "    \"model_name\": \"claude-3-5-haiku@20241022\",\n",
    "    \"region\": \"us-east5\",\n",
    "    \"project_id\": \"dmrc-platforms\",\n",
    "    \"temperature\": 1.0,\n",
    "})\n",
    "\n",
    "\n",
    "rprint(model.invoke(\"Why is sky blue?\"))\n"
   ]
  },
  {
   "cell_type": "code",
   "execution_count": null,
   "metadata": {},
   "outputs": [],
   "source": [
    "from langchain_google_vertexai import ChatVertexAI\n",
    "from vertexai.generative_models import GenerativeModel\n",
    "import vertexai\n",
    "\n",
    "x = vertexai.init(\n",
    "    project=bm.cfg.clouds[0].project,\n",
    "    location=\"us-east5\",\n",
    "    staging_bucket=bm.cfg.clouds[0].bucket,\n",
    ")\n",
    "model = ChatVertexAI(\n",
    "    model_name=\"claude-3-5-sonnet-v2\",\n",
    "    api_endpoint=\"us-east5-aiplatform.googleapis.com\",\n",
    "    quota_project_id=\"dmrc-platforms\",\n",
    "    location=\"us-east5\",\n",
    ")\n",
    "model.client_options.__setattr__(\"quota_project_id\", \"dmrc-platforms\")\n",
    "\n",
    "print(model.invoke(\"Why is sky blue?\"))\n"
   ]
  },
  {
   "cell_type": "code",
   "execution_count": null,
   "metadata": {},
   "outputs": [],
   "source": [
    "from anthropic import AnthropicVertex, AsyncAnthropicVertex\n",
    "from langchain_anthropic import ChatAnthropic\n",
    "\n",
    "\n",
    "model = AnthropicVertex(**{\n",
    "    \"region\": \"us-east5\",\n",
    "    \"project_id\": \"dmrc-platforms\",\n",
    "})\n",
    "llm = ChatAnthropic(model_name=\"claude-3-5-sonnet-v2\")\n",
    "llm._client = model\n",
    "rprint(llm.invoke(\"Why is sky blue?\"))\n"
   ]
  },
  {
   "cell_type": "code",
   "execution_count": null,
   "metadata": {},
   "outputs": [],
   "source": [
    "from google.cloud import aiplatform_v1beta1\n",
    "\n",
    "\n",
    "# Create a client\n",
    "client = aiplatform_v1beta1.PredictionServiceClient()\n",
    "messages = {\n",
    "    \"text\": {\"text\": \"hi what's your name?\"},\n",
    "}\n",
    "# Initialize request argument(s)\n",
    "contents = [\n",
    "    aiplatform_v1beta1.Content(parts=[{\"text\": \"Send me a recipe for banana bread.\"}])\n",
    "]\n",
    "\n",
    "request = aiplatform_v1beta1.GenerateContentRequest(\n",
    "    model=\"claude-3-5-sonnet-v2\",\n",
    "    contents=contents,\n",
    ")\n",
    "\n",
    "# Make the request\n",
    "response = client.generate_content(request=request)\n",
    "\n",
    "# Handle the response\n",
    "rprint(response)\n"
   ]
  },
  {
   "cell_type": "code",
   "execution_count": null,
   "metadata": {},
   "outputs": [],
   "source": [
    "from anthropic import AnthropicVertex\n",
    "\n",
    "model = AnthropicVertex(region=\"us-east5\", project_id=\"dmrc-platforms\")\n",
    "model.messages.create(\n",
    "    model=\"claude-3-5-sonnet-v2\",\n",
    "    max_tokens=100,\n",
    "    messages=[\n",
    "        {\n",
    "            \"role\": \"user\",\n",
    "            \"content\": \"hi what's your name?\",\n",
    "        }\n",
    "    ],\n",
    ")\n"
   ]
  },
  {
   "cell_type": "code",
   "execution_count": null,
   "metadata": {},
   "outputs": [],
   "source": [
    "from anthropic import AnthropicVertex\n",
    "\n",
    "model = AnthropicVertex(region=\"us-east5\", project_id=\"dmrc-platforms\")\n",
    "model.messages.create(\n",
    "    model=\"claude-3-5-sonnet-v2\",\n",
    "    max_tokens=100,\n",
    "    messages=[\n",
    "        {\n",
    "            \"role\": \"user\",\n",
    "            \"content\": \"Hey Claude!\",\n",
    "        }\n",
    "    ],\n",
    ")\n"
   ]
  },
  {
   "cell_type": "code",
   "execution_count": null,
   "metadata": {},
   "outputs": [],
   "source": [
    "from vertexai.generative_models import GenerativeModel\n",
    "\n",
    "model = GenerativeModel(\"meta/llama-3.2-90b-vision-instruct-maas\")\n",
    "print(model.generate_content(\"Why is sky blue?\"))\n"
   ]
  },
  {
   "cell_type": "code",
   "execution_count": null,
   "metadata": {},
   "outputs": [],
   "source": [
    "MODEL_LOCATION = \"us-central1\"\n",
    "MAAS_ENDPOINT = f\"{MODEL_LOCATION}-aiplatform.googleapis.com\"\n",
    "LOCATION = \"us-central1\"\n",
    "PROJECT_ID = \"dmrc-platforms\"\n",
    "base_url = f\"https://{MAAS_ENDPOINT}/v1beta1/projects/{PROJECT_ID}/locations/{LOCATION}/endpoints/openapi\"\n",
    "GenerativeModel(base_url)\n"
   ]
  },
  {
   "cell_type": "code",
   "execution_count": null,
   "metadata": {},
   "outputs": [],
   "source": []
  },
  {
   "cell_type": "code",
   "execution_count": null,
   "metadata": {},
   "outputs": [],
   "source": [
    "from vertexai.generative_models import GenerativeModel\n",
    "import vertexai\n",
    "\n",
    "x = vertexai.init(\n",
    "    project=bm.cfg.clouds[0].project,\n",
    "    location=\"us-east5\",\n",
    "    staging_bucket=bm.cfg.clouds[0].bucket,\n",
    ")\n",
    "model = GenerativeModel(\n",
    "    \"projects/dmrc-platforms/locations/us-east5/publishers/anthropic/models/claude-3-5-sonnet-v2\"\n",
    ")\n",
    "print(model.generate_content(\"Why is sky blue?\"))\n"
   ]
  },
  {
   "cell_type": "code",
   "execution_count": null,
   "metadata": {},
   "outputs": [],
   "source": [
    "import openai\n",
    "\n",
    "client = openai.OpenAI(\n",
    "    base_url=f\"https://{MAAS_ENDPOINT}/v1beta1/projects/{PROJECT_ID}/locations/{LOCATION}/endpoints/openapi\",\n",
    ")\n"
   ]
  },
  {
   "cell_type": "code",
   "execution_count": null,
   "metadata": {},
   "outputs": [],
   "source": [
    "MODEL_ID = \"meta/llama-3.2-90b-vision-instruct-maas\"\n",
    "response = client.chat.completions.create(\n",
    "    model=MODEL_ID,\n",
    "    messages=[\n",
    "        {\n",
    "            \"role\": \"user\",\n",
    "            \"content\": [\n",
    "                {\n",
    "                    \"image_url\": {\n",
    "                        \"url\": \"gs://github-repo/img/gemini/intro/landmark1.jpg\"\n",
    "                    },\n",
    "                    \"type\": \"image_url\",\n",
    "                },\n",
    "                {\"text\": \"What’s in this image?\", \"type\": \"text\"},\n",
    "            ],\n",
    "        },\n",
    "        {\"role\": \"assistant\", \"content\": \"In this image, you have:\"},\n",
    "    ],\n",
    "    max_tokens=500,\n",
    ")\n"
   ]
  }
 ],
 "metadata": {
  "kernelspec": {
   "display_name": "bm",
   "language": "python",
   "name": "python3"
  },
  "language_info": {
   "codemirror_mode": {
    "name": "ipython",
    "version": 3
   },
   "file_extension": ".py",
   "mimetype": "text/x-python",
   "name": "python",
   "nbconvert_exporter": "python",
   "pygments_lexer": "ipython3",
   "version": "3.11.0"
  }
 },
 "nbformat": 4,
 "nbformat_minor": 2
}
