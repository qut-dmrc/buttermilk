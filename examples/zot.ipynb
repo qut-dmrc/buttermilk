{
 "cells": [
  {
   "cell_type": "code",
   "execution_count": 6,
   "id": "df28d123",
   "metadata": {},
   "outputs": [
    {
     "name": "stderr",
     "output_type": "stream",
     "text": [
      "\u001b[32m2025-05-22 17:17:56\u001b[0m \u001b[35mdocker-desktop\u001b[0m \u001b[34mbuttermilk\u001b[0m bm_init.py:402 \u001b[1;30mINFO\u001b[0m Logging set up for: platform='local' name='bm_api' job='zot' run_id='20250522T0714Z-9FEz-docker-desktop-debian' ip=None node_name='docker-desktop' save_dir='/tmp/tmpmqvr17jc/bm_api/zot/20250522T0714Z-9FEz-docker-desktop-debian' flow_api='http://flow:8000/flow/'. Ready. Save dir: /tmp/tmpmqvr17jc/bm_api/zot/20250522T0714Z-9FEz-docker-desktop-debian Resource(type='generic_task', labels={'project_id': 'prosocial-443205', 'location': 'us-central1', 'namespace': 'bm_api', 'job': 'zot', 'task_id': '20250522T0714Z-9FEz-docker-desktop-debian'})\n",
      "\u001b[32m2025-05-22 17:17:56\u001b[0m \u001b[35mdocker-desktop\u001b[0m \u001b[34mbuttermilk\u001b[0m bm_init.py:402 \u001b[1;30mINFO\u001b[0m Logging set up for: platform='local' name='bm_api' job='zot' run_id='20250522T0714Z-9FEz-docker-desktop-debian' ip=None node_name='docker-desktop' save_dir='/tmp/tmpmqvr17jc/bm_api/zot/20250522T0714Z-9FEz-docker-desktop-debian' flow_api='http://flow:8000/flow/'. Ready. Save dir: /tmp/tmpmqvr17jc/bm_api/zot/20250522T0714Z-9FEz-docker-desktop-debian Resource(type='generic_task', labels={'project_id': 'prosocial-443205', 'location': 'us-central1', 'namespace': 'bm_api', 'job': 'zot', 'task_id': '20250522T0714Z-9FEz-docker-desktop-debian'})\n"
     ]
    },
    {
     "data": {
      "text/html": [
       "<pre style=\"white-space:pre;overflow-x:auto;line-height:normal;font-family:Menlo,'DejaVu Sans Mono',consolas,'Courier New',monospace\"><span style=\"font-weight: bold\">{</span>\n",
       "    <span style=\"color: #008000; text-decoration-color: #008000\">'platform'</span>: <span style=\"color: #008000; text-decoration-color: #008000\">'local'</span>,\n",
       "    <span style=\"color: #008000; text-decoration-color: #008000\">'name'</span>: <span style=\"color: #008000; text-decoration-color: #008000\">'bm_api'</span>,\n",
       "    <span style=\"color: #008000; text-decoration-color: #008000\">'job'</span>: <span style=\"color: #008000; text-decoration-color: #008000\">'zot'</span>,\n",
       "    <span style=\"color: #008000; text-decoration-color: #008000\">'run_id'</span>: <span style=\"color: #008000; text-decoration-color: #008000\">'20250522T0714Z-9FEz-docker-desktop-debian'</span>,\n",
       "    <span style=\"color: #008000; text-decoration-color: #008000\">'ip'</span>: <span style=\"color: #800080; text-decoration-color: #800080; font-style: italic\">None</span>,\n",
       "    <span style=\"color: #008000; text-decoration-color: #008000\">'node_name'</span>: <span style=\"color: #008000; text-decoration-color: #008000\">'docker-desktop'</span>,\n",
       "    <span style=\"color: #008000; text-decoration-color: #008000\">'save_dir'</span>: <span style=\"color: #008000; text-decoration-color: #008000\">'/tmp/tmpmqvr17jc/bm_api/zot/20250522T0714Z-9FEz-docker-desktop-debian'</span>,\n",
       "    <span style=\"color: #008000; text-decoration-color: #008000\">'flow_api'</span>: <span style=\"color: #008000; text-decoration-color: #008000\">'http://flow:8000/flow/'</span>,\n",
       "    <span style=\"color: #008000; text-decoration-color: #008000\">'connections'</span>: <span style=\"font-weight: bold\">[]</span>,\n",
       "    <span style=\"color: #008000; text-decoration-color: #008000\">'secret_provider'</span>: <span style=\"font-weight: bold\">{</span>\n",
       "        <span style=\"color: #008000; text-decoration-color: #008000\">'type'</span>: <span style=\"color: #008000; text-decoration-color: #008000\">'gcp'</span>,\n",
       "        <span style=\"color: #008000; text-decoration-color: #008000\">'project'</span>: <span style=\"color: #008000; text-decoration-color: #008000\">'prosocial-443205'</span>,\n",
       "        <span style=\"color: #008000; text-decoration-color: #008000\">'models_secret'</span>: <span style=\"color: #008000; text-decoration-color: #008000\">'dev__llm__connections'</span>,\n",
       "        <span style=\"color: #008000; text-decoration-color: #008000\">'credentials_secret'</span>: <span style=\"color: #008000; text-decoration-color: #008000\">'dev__shared_credentials'</span>\n",
       "    <span style=\"font-weight: bold\">}</span>,\n",
       "    <span style=\"color: #008000; text-decoration-color: #008000\">'logger_cfg'</span>: <span style=\"font-weight: bold\">{</span><span style=\"color: #008000; text-decoration-color: #008000\">'type'</span>: <span style=\"color: #008000; text-decoration-color: #008000\">'gcp'</span>, <span style=\"color: #008000; text-decoration-color: #008000\">'project'</span>: <span style=\"color: #008000; text-decoration-color: #008000\">'prosocial-443205'</span>, <span style=\"color: #008000; text-decoration-color: #008000\">'location'</span>: <span style=\"color: #008000; text-decoration-color: #008000\">'us-central1'</span>, <span style=\"color: #008000; text-decoration-color: #008000\">'verbose'</span>: <span style=\"color: #ff0000; text-decoration-color: #ff0000; font-style: italic\">False</span><span style=\"font-weight: bold\">}</span>,\n",
       "    <span style=\"color: #008000; text-decoration-color: #008000\">'pubsub'</span>: <span style=\"font-weight: bold\">{</span>\n",
       "        <span style=\"color: #008000; text-decoration-color: #008000\">'type'</span>: <span style=\"color: #008000; text-decoration-color: #008000\">'gcp'</span>,\n",
       "        <span style=\"color: #008000; text-decoration-color: #008000\">'project'</span>: <span style=\"color: #008000; text-decoration-color: #008000\">'prosocial-443205'</span>,\n",
       "        <span style=\"color: #008000; text-decoration-color: #008000\">'jobs_subscription'</span>: <span style=\"color: #008000; text-decoration-color: #008000\">'jobs-sub'</span>,\n",
       "        <span style=\"color: #008000; text-decoration-color: #008000\">'status_subscription'</span>: <span style=\"color: #008000; text-decoration-color: #008000\">'flow-sub'</span>,\n",
       "        <span style=\"color: #008000; text-decoration-color: #008000\">'status_topic'</span>: <span style=\"color: #008000; text-decoration-color: #008000\">'flow'</span>,\n",
       "        <span style=\"color: #008000; text-decoration-color: #008000\">'jobs_topic'</span>: <span style=\"color: #008000; text-decoration-color: #008000\">'jobs'</span>\n",
       "    <span style=\"font-weight: bold\">}</span>,\n",
       "    <span style=\"color: #008000; text-decoration-color: #008000\">'clouds'</span>: <span style=\"font-weight: bold\">[</span>\n",
       "        <span style=\"font-weight: bold\">{</span><span style=\"color: #008000; text-decoration-color: #008000\">'type'</span>: <span style=\"color: #008000; text-decoration-color: #008000\">'gcp'</span>, <span style=\"color: #008000; text-decoration-color: #008000\">'project'</span>: <span style=\"color: #008000; text-decoration-color: #008000\">'prosocial-443205'</span><span style=\"font-weight: bold\">}</span>,\n",
       "        <span style=\"font-weight: bold\">{</span>\n",
       "            <span style=\"color: #008000; text-decoration-color: #008000\">'type'</span>: <span style=\"color: #008000; text-decoration-color: #008000\">'vertex'</span>,\n",
       "            <span style=\"color: #008000; text-decoration-color: #008000\">'project'</span>: <span style=\"color: #008000; text-decoration-color: #008000\">'prosocial-443205'</span>,\n",
       "            <span style=\"color: #008000; text-decoration-color: #008000\">'region'</span>: <span style=\"color: #008000; text-decoration-color: #008000\">'us-central1'</span>,\n",
       "            <span style=\"color: #008000; text-decoration-color: #008000\">'location'</span>: <span style=\"color: #008000; text-decoration-color: #008000\">'us-central1'</span>,\n",
       "            <span style=\"color: #008000; text-decoration-color: #008000\">'bucket'</span>: <span style=\"color: #008000; text-decoration-color: #008000\">'prosocial-dev'</span>\n",
       "        <span style=\"font-weight: bold\">}</span>\n",
       "    <span style=\"font-weight: bold\">]</span>,\n",
       "    <span style=\"color: #008000; text-decoration-color: #008000\">'tracing'</span>: <span style=\"font-weight: bold\">{</span><span style=\"color: #008000; text-decoration-color: #008000\">'enabled'</span>: <span style=\"color: #00ff00; text-decoration-color: #00ff00; font-style: italic\">True</span>, <span style=\"color: #008000; text-decoration-color: #008000\">'api_key'</span>: <span style=\"color: #008000; text-decoration-color: #008000\">''</span>, <span style=\"color: #008000; text-decoration-color: #008000\">'provider'</span>: <span style=\"color: #008000; text-decoration-color: #008000\">'weave'</span>, <span style=\"color: #008000; text-decoration-color: #008000\">'endpoint'</span>: <span style=\"color: #800080; text-decoration-color: #800080; font-style: italic\">None</span>, <span style=\"color: #008000; text-decoration-color: #008000\">'otlp_headers'</span>: <span style=\"font-weight: bold\">{}}</span>,\n",
       "    <span style=\"color: #008000; text-decoration-color: #008000\">'datasets'</span>: <span style=\"font-weight: bold\">{}</span>,\n",
       "    <span style=\"color: #008000; text-decoration-color: #008000\">'save_dir_base'</span>: <span style=\"color: #008000; text-decoration-color: #008000\">'/tmp/tmpmqvr17jc'</span>\n",
       "<span style=\"font-weight: bold\">}</span>\n",
       "</pre>\n"
      ],
      "text/plain": [
       "\u001b[1m{\u001b[0m\n",
       "    \u001b[32m'platform'\u001b[0m: \u001b[32m'local'\u001b[0m,\n",
       "    \u001b[32m'name'\u001b[0m: \u001b[32m'bm_api'\u001b[0m,\n",
       "    \u001b[32m'job'\u001b[0m: \u001b[32m'zot'\u001b[0m,\n",
       "    \u001b[32m'run_id'\u001b[0m: \u001b[32m'20250522T0714Z-9FEz-docker-desktop-debian'\u001b[0m,\n",
       "    \u001b[32m'ip'\u001b[0m: \u001b[3;35mNone\u001b[0m,\n",
       "    \u001b[32m'node_name'\u001b[0m: \u001b[32m'docker-desktop'\u001b[0m,\n",
       "    \u001b[32m'save_dir'\u001b[0m: \u001b[32m'/tmp/tmpmqvr17jc/bm_api/zot/20250522T0714Z-9FEz-docker-desktop-debian'\u001b[0m,\n",
       "    \u001b[32m'flow_api'\u001b[0m: \u001b[32m'http://flow:8000/flow/'\u001b[0m,\n",
       "    \u001b[32m'connections'\u001b[0m: \u001b[1m[\u001b[0m\u001b[1m]\u001b[0m,\n",
       "    \u001b[32m'secret_provider'\u001b[0m: \u001b[1m{\u001b[0m\n",
       "        \u001b[32m'type'\u001b[0m: \u001b[32m'gcp'\u001b[0m,\n",
       "        \u001b[32m'project'\u001b[0m: \u001b[32m'prosocial-443205'\u001b[0m,\n",
       "        \u001b[32m'models_secret'\u001b[0m: \u001b[32m'dev__llm__connections'\u001b[0m,\n",
       "        \u001b[32m'credentials_secret'\u001b[0m: \u001b[32m'dev__shared_credentials'\u001b[0m\n",
       "    \u001b[1m}\u001b[0m,\n",
       "    \u001b[32m'logger_cfg'\u001b[0m: \u001b[1m{\u001b[0m\u001b[32m'type'\u001b[0m: \u001b[32m'gcp'\u001b[0m, \u001b[32m'project'\u001b[0m: \u001b[32m'prosocial-443205'\u001b[0m, \u001b[32m'location'\u001b[0m: \u001b[32m'us-central1'\u001b[0m, \u001b[32m'verbose'\u001b[0m: \u001b[3;91mFalse\u001b[0m\u001b[1m}\u001b[0m,\n",
       "    \u001b[32m'pubsub'\u001b[0m: \u001b[1m{\u001b[0m\n",
       "        \u001b[32m'type'\u001b[0m: \u001b[32m'gcp'\u001b[0m,\n",
       "        \u001b[32m'project'\u001b[0m: \u001b[32m'prosocial-443205'\u001b[0m,\n",
       "        \u001b[32m'jobs_subscription'\u001b[0m: \u001b[32m'jobs-sub'\u001b[0m,\n",
       "        \u001b[32m'status_subscription'\u001b[0m: \u001b[32m'flow-sub'\u001b[0m,\n",
       "        \u001b[32m'status_topic'\u001b[0m: \u001b[32m'flow'\u001b[0m,\n",
       "        \u001b[32m'jobs_topic'\u001b[0m: \u001b[32m'jobs'\u001b[0m\n",
       "    \u001b[1m}\u001b[0m,\n",
       "    \u001b[32m'clouds'\u001b[0m: \u001b[1m[\u001b[0m\n",
       "        \u001b[1m{\u001b[0m\u001b[32m'type'\u001b[0m: \u001b[32m'gcp'\u001b[0m, \u001b[32m'project'\u001b[0m: \u001b[32m'prosocial-443205'\u001b[0m\u001b[1m}\u001b[0m,\n",
       "        \u001b[1m{\u001b[0m\n",
       "            \u001b[32m'type'\u001b[0m: \u001b[32m'vertex'\u001b[0m,\n",
       "            \u001b[32m'project'\u001b[0m: \u001b[32m'prosocial-443205'\u001b[0m,\n",
       "            \u001b[32m'region'\u001b[0m: \u001b[32m'us-central1'\u001b[0m,\n",
       "            \u001b[32m'location'\u001b[0m: \u001b[32m'us-central1'\u001b[0m,\n",
       "            \u001b[32m'bucket'\u001b[0m: \u001b[32m'prosocial-dev'\u001b[0m\n",
       "        \u001b[1m}\u001b[0m\n",
       "    \u001b[1m]\u001b[0m,\n",
       "    \u001b[32m'tracing'\u001b[0m: \u001b[1m{\u001b[0m\u001b[32m'enabled'\u001b[0m: \u001b[3;92mTrue\u001b[0m, \u001b[32m'api_key'\u001b[0m: \u001b[32m''\u001b[0m, \u001b[32m'provider'\u001b[0m: \u001b[32m'weave'\u001b[0m, \u001b[32m'endpoint'\u001b[0m: \u001b[3;35mNone\u001b[0m, \u001b[32m'otlp_headers'\u001b[0m: \u001b[1m{\u001b[0m\u001b[1m}\u001b[0m\u001b[1m}\u001b[0m,\n",
       "    \u001b[32m'datasets'\u001b[0m: \u001b[1m{\u001b[0m\u001b[1m}\u001b[0m,\n",
       "    \u001b[32m'save_dir_base'\u001b[0m: \u001b[32m'/tmp/tmpmqvr17jc'\u001b[0m\n",
       "\u001b[1m}\u001b[0m\n"
      ]
     },
     "metadata": {},
     "output_type": "display_data"
    },
    {
     "name": "stderr",
     "output_type": "stream",
     "text": [
      "\u001b[32m2025-05-22 17:17:56\u001b[0m \u001b[35mdocker-desktop\u001b[0m \u001b[34mbuttermilk\u001b[0m save.py:337 \u001b[1;30mWARNING\u001b[0m \u001b[33mSuccessfully dumped to json on disk: /tmp/tmpmqvr17jc/bm_api/zot/20250522T0714Z-9FEz-docker-desktop-debian/tmp3t_e1vrc.json.\u001b[0m\n",
      "\u001b[32m2025-05-22 17:17:56\u001b[0m \u001b[35mdocker-desktop\u001b[0m \u001b[34mbuttermilk\u001b[0m save.py:337 \u001b[1;30mWARNING\u001b[0m \u001b[33mSuccessfully dumped to json on disk: /tmp/tmpmqvr17jc/bm_api/zot/20250522T0714Z-9FEz-docker-desktop-debian/tmp3t_e1vrc.json.\u001b[0m\n",
      "\u001b[32m2025-05-22 17:17:56\u001b[0m \u001b[35mdocker-desktop\u001b[0m \u001b[34mbuttermilk\u001b[0m save.py:131 \u001b[1;30mINFO\u001b[0m Saved data using dump_to_disk to: /tmp/tmpmqvr17jc/bm_api/zot/20250522T0714Z-9FEz-docker-desktop-debian/tmp3t_e1vrc.json.\n",
      "\u001b[32m2025-05-22 17:17:56\u001b[0m \u001b[35mdocker-desktop\u001b[0m \u001b[34mbuttermilk\u001b[0m save.py:131 \u001b[1;30mINFO\u001b[0m Saved data using dump_to_disk to: /tmp/tmpmqvr17jc/bm_api/zot/20250522T0714Z-9FEz-docker-desktop-debian/tmp3t_e1vrc.json.\n",
      "\u001b[32m2025-05-22 17:17:56\u001b[0m \u001b[35mdocker-desktop\u001b[0m \u001b[34mbuttermilk\u001b[0m bm_init.py:475 \u001b[1;30mINFO\u001b[0m {'message': 'Saved data to: /tmp/tmpmqvr17jc/bm_api/zot/20250522T0714Z-9FEz-docker-desktop-debian/tmp3t_e1vrc.json', 'uri': '/tmp/tmpmqvr17jc/bm_api/zot/20250522T0714Z-9FEz-docker-desktop-debian/tmp3t_e1vrc.json', 'run_id': '20250522T0714Z-9FEz-docker-desktop-debian'}\n",
      "\u001b[32m2025-05-22 17:17:56\u001b[0m \u001b[35mdocker-desktop\u001b[0m \u001b[34mbuttermilk\u001b[0m bm_init.py:475 \u001b[1;30mINFO\u001b[0m {'message': 'Saved data to: /tmp/tmpmqvr17jc/bm_api/zot/20250522T0714Z-9FEz-docker-desktop-debian/tmp3t_e1vrc.json', 'uri': '/tmp/tmpmqvr17jc/bm_api/zot/20250522T0714Z-9FEz-docker-desktop-debian/tmp3t_e1vrc.json', 'run_id': '20250522T0714Z-9FEz-docker-desktop-debian'}\n",
      "\u001b[32m2025-05-22 17:17:56\u001b[0m \u001b[35mdocker-desktop\u001b[0m \u001b[34mbuttermilk\u001b[0m save.py:337 \u001b[1;30mWARNING\u001b[0m \u001b[33mSuccessfully dumped to json on disk: /tmp/tmpmqvr17jc/bm_api/zot/20250522T0714Z-9FEz-docker-desktop-debian/tmp3t_e1vrc.json.\u001b[0m\n",
      "\u001b[32m2025-05-22 17:17:56\u001b[0m \u001b[35mdocker-desktop\u001b[0m \u001b[34mbuttermilk\u001b[0m save.py:131 \u001b[1;30mINFO\u001b[0m Saved data using dump_to_disk to: /tmp/tmpmqvr17jc/bm_api/zot/20250522T0714Z-9FEz-docker-desktop-debian/tmp3t_e1vrc.json.\n",
      "\u001b[32m2025-05-22 17:17:56\u001b[0m \u001b[35mdocker-desktop\u001b[0m \u001b[34mbuttermilk\u001b[0m save.py:131 \u001b[1;30mINFO\u001b[0m Saved data using dump_to_disk to: /tmp/tmpmqvr17jc/bm_api/zot/20250522T0714Z-9FEz-docker-desktop-debian/tmp3t_e1vrc.json.\n",
      "\u001b[32m2025-05-22 17:17:56\u001b[0m \u001b[35mdocker-desktop\u001b[0m \u001b[34mbuttermilk\u001b[0m bm_init.py:475 \u001b[1;30mINFO\u001b[0m {'message': 'Saved data to: /tmp/tmpmqvr17jc/bm_api/zot/20250522T0714Z-9FEz-docker-desktop-debian/tmp3t_e1vrc.json', 'uri': '/tmp/tmpmqvr17jc/bm_api/zot/20250522T0714Z-9FEz-docker-desktop-debian/tmp3t_e1vrc.json', 'run_id': '20250522T0714Z-9FEz-docker-desktop-debian'}\n",
      "\u001b[32m2025-05-22 17:17:56\u001b[0m \u001b[35mdocker-desktop\u001b[0m \u001b[34mbuttermilk\u001b[0m bm_init.py:475 \u001b[1;30mINFO\u001b[0m {'message': 'Saved data to: /tmp/tmpmqvr17jc/bm_api/zot/20250522T0714Z-9FEz-docker-desktop-debian/tmp3t_e1vrc.json', 'uri': '/tmp/tmpmqvr17jc/bm_api/zot/20250522T0714Z-9FEz-docker-desktop-debian/tmp3t_e1vrc.json', 'run_id': '20250522T0714Z-9FEz-docker-desktop-debian'}\n",
      "\u001b[32m2025-05-22 17:17:56\u001b[0m \u001b[35mdocker-desktop\u001b[0m \u001b[34mbuttermilk\u001b[0m cloud.py:185 \u001b[1;30mINFO\u001b[0m Initialized Vertex AI: project=prosocial-443205, location=us-central1\n",
      "\u001b[32m2025-05-22 17:17:56\u001b[0m \u001b[35mdocker-desktop\u001b[0m \u001b[34mbuttermilk\u001b[0m cloud.py:185 \u001b[1;30mINFO\u001b[0m Initialized Vertex AI: project=prosocial-443205, location=us-central1\n",
      "\u001b[32m2025-05-22 17:17:56\u001b[0m \u001b[35mdocker-desktop\u001b[0m \u001b[34mbuttermilk\u001b[0m nb.py:54 \u001b[1;30mINFO\u001b[0m Starting interactive run for bm_api job zot in notebook\n",
      "\u001b[32m2025-05-22 17:17:56\u001b[0m \u001b[35mdocker-desktop\u001b[0m \u001b[34mbuttermilk\u001b[0m nb.py:54 \u001b[1;30mINFO\u001b[0m Starting interactive run for bm_api job zot in notebook\n"
     ]
    }
   ],
   "source": [
    "import uuid\n",
    "\n",
    "from rich import print\n",
    "\n",
    "# This init function loads the Buttermilk configuration\n",
    "# and sets up the Buttermilk object with the specified job and overrides.\n",
    "from buttermilk.utils.nb import init\n",
    "\n",
    "cfg = init(job=\"zot\", overrides=[\"flows=[z]\"])\n",
    "\n",
    "# Set the singleton BM instance\n",
    "from buttermilk._core.dmrc import get_bm, set_bm\n",
    "\n",
    "set_bm(cfg.bm)  # Set the Buttermilk instance using the singleton pattern\n",
    "\n",
    "bm = get_bm()  # Get the Buttermilk instance\n"
   ]
  },
  {
   "cell_type": "markdown",
   "id": "12cfdf88",
   "metadata": {},
   "source": [
    "## We can now load individual agents, like our Judger"
   ]
  },
  {
   "cell_type": "code",
   "execution_count": null,
   "id": "ce861835",
   "metadata": {},
   "outputs": [],
   "source": [
    "from buttermilk.agents.judge import Judge\n",
    "\n",
    "j = Judge(name=\"judge\", parameters={\"model\": \"gemini25flash\"})\n"
   ]
  },
  {
   "cell_type": "code",
   "execution_count": null,
   "id": "9335b73c",
   "metadata": {},
   "outputs": [],
   "source": []
  },
  {
   "cell_type": "markdown",
   "id": "5e4d8013",
   "metadata": {},
   "source": [
    "## Or our Zotero bot"
   ]
  },
  {
   "cell_type": "code",
   "execution_count": 10,
   "id": "d3f03bbe",
   "metadata": {},
   "outputs": [
    {
     "ename": "NameError",
     "evalue": "name 'z_cfg' is not defined",
     "output_type": "error",
     "traceback": [
      "\u001b[31m---------------------------------------------------------------------------\u001b[39m",
      "\u001b[31mNameError\u001b[39m                                 Traceback (most recent call last)",
      "\u001b[36mCell\u001b[39m\u001b[36m \u001b[39m\u001b[32mIn[10]\u001b[39m\u001b[32m, line 3\u001b[39m\n\u001b[32m      1\u001b[39m \u001b[38;5;66;03m# d = DataSourceConfig(**cfg.flows.zot.data.prosocial_zot)\u001b[39;00m\n\u001b[32m      2\u001b[39m \u001b[38;5;28;01mfrom\u001b[39;00m\u001b[38;5;250m \u001b[39m\u001b[34;01mbuttermilk\u001b[39;00m\u001b[34;01m.\u001b[39;00m\u001b[34;01magents\u001b[39;00m\u001b[34;01m.\u001b[39;00m\u001b[34;01mrag\u001b[39;00m\u001b[34;01m.\u001b[39;00m\u001b[34;01mragzot\u001b[39;00m\u001b[38;5;250m \u001b[39m\u001b[38;5;28;01mimport\u001b[39;00m RagZot\n\u001b[32m----> \u001b[39m\u001b[32m3\u001b[39m z = RagZot(**\u001b[43mz_cfg\u001b[49m, session_id=uuid.uuid4().hex, data=cfg.flows.zot.data, base_name=\u001b[33m\"\u001b[39m\u001b[33mzot\u001b[39m\u001b[33m\"\u001b[39m)\n\u001b[32m      4\u001b[39m \u001b[38;5;28mprint\u001b[39m(z)\n",
      "\u001b[31mNameError\u001b[39m: name 'z_cfg' is not defined"
     ]
    }
   ],
   "source": [
    "# d = DataSourceConfig(**cfg.flows.zot.data.prosocial_zot)\n",
    "from buttermilk.agents.rag.ragzot import RagZot\n",
    "\n",
    "z = RagZot(**z_cfg, session_id=uuid.uuid4().hex, data=cfg.flows.zot.data, base_name=\"zot\")\n",
    "print(z)\n"
   ]
  },
  {
   "cell_type": "code",
   "id": "151879e8",
   "metadata": {},
   "outputs": [],
   "source": "q = AgentInput(parameters=dict(prompt=\"how does twitter enable extremist material?\"))\na = await z(q, public_callback=cb)\na"
  }
 ],
 "metadata": {
  "kernelspec": {
   "display_name": ".venv",
   "language": "python",
   "name": "python3"
  },
  "language_info": {
   "codemirror_mode": {
    "name": "ipython",
    "version": 3
   },
   "file_extension": ".py",
   "mimetype": "text/x-python",
   "name": "python",
   "nbconvert_exporter": "python",
   "pygments_lexer": "ipython3",
   "version": "3.11.12"
  }
 },
 "nbformat": 4,
 "nbformat_minor": 5
}