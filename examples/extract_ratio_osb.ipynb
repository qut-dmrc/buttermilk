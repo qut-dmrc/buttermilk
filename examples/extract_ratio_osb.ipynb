{
 "cells": [
  {
   "cell_type": "markdown",
   "metadata": {},
   "source": [
    "# Can we get language models to accurately extract the rationale from all the Oversight Board's decisions?"
   ]
  },
  {
   "cell_type": "code",
   "execution_count": 2,
   "metadata": {},
   "outputs": [
    {
     "name": "stdout",
     "output_type": "stream",
     "text": [
      "{'name': 'default_project', 'job': 'development', 'secret_provider': 'azure', 'logger': 'gcp', 'verbose': True, 'models_secret': 'models', 'concurrent': 10, 'gcp': {'project': 'dmrc-platforms', 'region': 'us-central1', 'bucket': 'dmrc-analysis'}, 'azure': {'vault': 'https://suzorvault.vault.azure.net/', 'resource_group': 'rg-suzor_ai'}, 'aws': {'secret_name': 'secret', 'region': 'us-east-1'}, 'save': {'type': 'bq', 'destination': 'dmrc-analysis.toxicity.flow', 'schema': 'buttermilk/schemas/flow.json'}, 'data': {'runs': {'type': 'job', 'name': 'runs', 'dataset': 'dmrc-analysis.toxicity.flow', 'last_n_days': 7, 'aggregate': False, 'max_records_per_group': 1, 'filter': None, 'group': {'job_id': 'job_id', 'record_id': 'record.record_id'}, 'columns': {'timestamp': 'timestamp', 'agent': 'agent_info.agent', 'source': 'source', 'error': 'error', 'parameters': 'parameters'}}}}\n"
     ]
    }
   ],
   "source": [
    "from buttermilk import BM\n",
    "import os\n",
    "from hydra import initialize, initialize_config_module, initialize_config_dir, compose\n",
    "from omegaconf import OmegaConf\n",
    "\n",
    "bm = BM()\n",
    "print(bm.cfg)\n",
    "\n",
    "# v = compose(config_name=\"config\", )\n",
    "# abs_config_dir=os.getcwd() + \"/conf\"\n",
    "# with initialize_config_dir(version_base=None, config_dir=abs_config_dir):\n",
    "#     cfg = compose(config_name=\"config\")\n"
   ]
  },
  {
   "cell_type": "code",
   "execution_count": null,
   "metadata": {},
   "outputs": [],
   "source": [
    "from buttermilk.data.loaders import LoaderGCS\n",
    "from buttermilk.agents.agent import Agent\n",
    "from buttermilk._core.runner_types import RecordInfo\n",
    "from buttermilk.runner.orchestrator import MultiFlowOrchestrator\n",
    "\n",
    "async def case_generator():\n",
    "    reader = LoaderGCS(glob=\"gs://dmrc-platforms/data/osb/*.md\")\n",
    "\n",
    "    async for uri, case in reader.read_files(1):\n",
    "        yield uri, RecordInfo(content=case)\n",
    "\n",
    "agent_vars = dict(template='summarise_osb', template_vars={},\n",
    "                  save_params=bm.cfg.save, concurrent=bm.cfg.concurrent)\n",
    "run_vars = dict(model=['gpt4o', 'gemini15pro', 'sonnet','llama3_70bn'])\n",
    "\n",
    "orchestrator = MultiFlowOrchestrator(n_runs=1, agent_vars=agent_vars, run_vars=run_vars, job_generator=)\n",
    "\n",
    "\n"
   ]
  },
  {
   "cell_type": "code",
   "execution_count": null,
   "metadata": {},
   "outputs": [],
   "source": []
  },
  {
   "cell_type": "code",
   "execution_count": null,
   "metadata": {},
   "outputs": [],
   "source": []
  }
 ],
 "metadata": {
  "kernelspec": {
   "display_name": "bm",
   "language": "python",
   "name": "python3"
  },
  "language_info": {
   "codemirror_mode": {
    "name": "ipython",
    "version": 3
   },
   "file_extension": ".py",
   "mimetype": "text/x-python",
   "name": "python",
   "nbconvert_exporter": "python",
   "pygments_lexer": "ipython3",
   "version": "3.11.0"
  }
 },
 "nbformat": 4,
 "nbformat_minor": 2
}
