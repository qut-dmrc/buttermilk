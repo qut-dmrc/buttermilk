{
 "cells": [
  {
   "cell_type": "code",
   "execution_count": 1,
   "id": "b1c2d160",
   "metadata": {},
   "outputs": [
    {
     "name": "stdout",
     "output_type": "stream",
     "text": [
      "Logged in as Weights & Biases user: nicsuzor.\n",
      "View Weave data at https://wandb.ai/dmrc/intro-example/weave\n"
     ]
    }
   ],
   "source": [
    "import weave\n",
    "\n",
    "client = weave.init(\"intro-example\")\n"
   ]
  },
  {
   "cell_type": "code",
   "execution_count": 20,
   "id": "82a71263",
   "metadata": {},
   "outputs": [
    {
     "name": "stdout",
     "output_type": "stream",
     "text": [
      "Logged in as Weights & Biases user: nicsuzor.\n",
      "View Weave data at https://wandb.ai/dmrc/bm_api-flows/weave\n"
     ]
    }
   ],
   "source": [
    "import weave\n",
    "import random\n",
    "\n",
    "client = weave.init(\"dmrc/bm_api-flows\")\n",
    "call = client.get_call(\"0196c78e-6519-7ba2-bb98-a3917070e866\")\n",
    "for child in call.children():\n",
    "    if child.attributes[\"template\"] == \"judge\":\n",
    "        child.feedback.add(\"correctness\", {\"value\": random.randint(0, 10)})\n"
   ]
  }
 ],
 "metadata": {
  "kernelspec": {
   "display_name": ".venv",
   "language": "python",
   "name": "python3"
  },
  "language_info": {
   "codemirror_mode": {
    "name": "ipython",
    "version": 3
   },
   "file_extension": ".py",
   "mimetype": "text/x-python",
   "name": "python",
   "nbconvert_exporter": "python",
   "pygments_lexer": "ipython3",
   "version": "3.11.2"
  }
 },
 "nbformat": 4,
 "nbformat_minor": 5
}
