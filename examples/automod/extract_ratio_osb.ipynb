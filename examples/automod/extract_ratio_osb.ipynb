{
 "cells": [
  {_data_generator_data_generator_data_generator
   "cell_type": "markdown",
   "metadata": {},
   "source": [
    "# Can we get language models to accurately extract the rationale from all the Oversight Board's decisions?\n"
   ]
  },
  {
   "cell_type": "code",
   "execution_count": 1,
   "metadata": {},
   "outputs": [
    {
     "name": "stderr",
     "output_type": "stream",
     "text": [
      "/opt/homebrew/Caskroom/miniconda/base/envs/bm/lib/python3.11/site-packages/tqdm/auto.py:21: TqdmWarning: IProgress not found. Please update jupyter and ipywidgets. See https://ipywidgets.readthedocs.io/en/stable/user_install.html\n",
      "  from .autonotebook import tqdm as notebook_tqdm\n"
     ]
    },
    {
     "name": "stdout",
     "output_type": "stream",
     "text": [
      "\u001b[32m2024-11-10 11:46:20\u001b[0m \u001b[35mJ5HW6L4KT6\u001b[0m \u001b[34mbuttermilk\u001b[0m buttermilk.py[ 224] \u001b[1;30mINFO\u001b[0m {'message': \"Logging setup for: 20241110T0146Z-fvgM-J5HW6L4KT6-suzor. Ready for data collection, saving log to Google Cloud Logs (Resource(type='generic_task', labels={'project_id': 'dmrc-platforms', 'location': 'us-central1', 'namespace': 'automod', 'job': 'summarise_cases', 'task_id': '20241110T0146Z-fvgM-J5HW6L4KT6-suzor'})). Default save directory for data in this run is: gs://dmrc-analysis/runs/automod/summarise_cases/20241110T0146Z-fvgM-J5HW6L4KT6-suzor\", 'project': 'automod', 'job': 'summarise_cases', 'run_id': '20241110T0146Z-fvgM-J5HW6L4KT6-suzor', 'save_dir': 'gs://dmrc-analysis/runs/automod/summarise_cases/20241110T0146Z-fvgM-J5HW6L4KT6-suzor', 'ip': '159.196.210.27', 'node_name': 'J5HW6L4KT6', 'username': 'suzor'}\n",
      "Prompt flow service has started...\n"
     ]
    },
    {
     "data": {
      "text/html": [
       "<pre style=\"white-space:pre;overflow-x:auto;line-height:normal;font-family:Menlo,'DejaVu Sans Mono',consolas,'Courier New',monospace\"><span style=\"font-weight: bold\">{</span>\n",
       "    <span style=\"color: #008000; text-decoration-color: #008000\">'name'</span>: <span style=\"color: #008000; text-decoration-color: #008000\">'automod'</span>,\n",
       "    <span style=\"color: #008000; text-decoration-color: #008000\">'job'</span>: <span style=\"color: #008000; text-decoration-color: #008000\">'summarise_cases'</span>,\n",
       "    <span style=\"color: #008000; text-decoration-color: #008000\">'logger'</span>: <span style=\"font-weight: bold\">{</span><span style=\"color: #008000; text-decoration-color: #008000\">'type'</span>: <span style=\"color: #008000; text-decoration-color: #008000\">'gcp'</span><span style=\"font-weight: bold\">}</span>,\n",
       "    <span style=\"color: #008000; text-decoration-color: #008000\">'tracing'</span>: <span style=\"font-weight: bold\">{</span><span style=\"color: #008000; text-decoration-color: #008000\">'enabled'</span>: <span style=\"color: #00ff00; text-decoration-color: #00ff00; font-style: italic\">True</span><span style=\"font-weight: bold\">}</span>,\n",
       "    <span style=\"color: #008000; text-decoration-color: #008000\">'verbose'</span>: <span style=\"color: #ff0000; text-decoration-color: #ff0000; font-style: italic\">False</span>,\n",
       "    <span style=\"color: #008000; text-decoration-color: #008000\">'save_dest'</span>: <span style=\"font-weight: bold\">{</span><span style=\"color: #008000; text-decoration-color: #008000\">'type'</span>: <span style=\"color: #008000; text-decoration-color: #008000\">'gcp'</span>, <span style=\"color: #008000; text-decoration-color: #008000\">'project'</span>: <span style=\"color: #008000; text-decoration-color: #008000\">'dmrc-analysis'</span>, <span style=\"color: #008000; text-decoration-color: #008000\">'region'</span>: <span style=\"color: #008000; text-decoration-color: #008000\">'us-central1'</span>, <span style=\"color: #008000; text-decoration-color: #008000\">'bucket'</span>: <span style=\"color: #008000; text-decoration-color: #008000\">'dmrc-analysis'</span><span style=\"font-weight: bold\">}</span>,\n",
       "    <span style=\"color: #008000; text-decoration-color: #008000\">'secret_provider'</span>: <span style=\"font-weight: bold\">{</span>\n",
       "        <span style=\"color: #008000; text-decoration-color: #008000\">'type'</span>: <span style=\"color: #008000; text-decoration-color: #008000\">'azure'</span>,\n",
       "        <span style=\"color: #008000; text-decoration-color: #008000\">'vault'</span>: <span style=\"color: #008000; text-decoration-color: #008000\">'https://suzorvault.vault.azure.net/'</span>,\n",
       "        <span style=\"color: #008000; text-decoration-color: #008000\">'resource_group'</span>: <span style=\"color: #008000; text-decoration-color: #008000\">'rg-suzor_ai'</span>,\n",
       "        <span style=\"color: #008000; text-decoration-color: #008000\">'models_secret'</span>: <span style=\"color: #008000; text-decoration-color: #008000\">'models'</span>\n",
       "    <span style=\"font-weight: bold\">}</span>,\n",
       "    <span style=\"color: #008000; text-decoration-color: #008000\">'run'</span>: <span style=\"font-weight: bold\">{</span><span style=\"color: #008000; text-decoration-color: #008000\">'platform'</span>: <span style=\"color: #008000; text-decoration-color: #008000\">'local'</span><span style=\"font-weight: bold\">}</span>,\n",
       "    <span style=\"color: #008000; text-decoration-color: #008000\">'flows'</span>: <span style=\"font-weight: bold\">[</span>\n",
       "        <span style=\"font-weight: bold\">{</span>\n",
       "            <span style=\"color: #008000; text-decoration-color: #008000\">'name'</span>: <span style=\"color: #008000; text-decoration-color: #008000\">'summarise'</span>,\n",
       "            <span style=\"color: #008000; text-decoration-color: #008000\">'num_runs'</span>: <span style=\"color: #008080; text-decoration-color: #008080; font-weight: bold\">2</span>,\n",
       "            <span style=\"color: #008000; text-decoration-color: #008000\">'concurrent'</span>: <span style=\"color: #008080; text-decoration-color: #008080; font-weight: bold\">20</span>,\n",
       "            <span style=\"color: #008000; text-decoration-color: #008000\">'agent'</span>: <span style=\"font-weight: bold\">{</span>\n",
       "                <span style=\"color: #008000; text-decoration-color: #008000\">'name'</span>: <span style=\"color: #008000; text-decoration-color: #008000\">'lc'</span>,\n",
       "                <span style=\"color: #008000; text-decoration-color: #008000\">'template'</span>: <span style=\"color: #008000; text-decoration-color: #008000\">'summarise_osb'</span>,\n",
       "                <span style=\"color: #008000; text-decoration-color: #008000\">'model'</span>: <span style=\"font-weight: bold\">[</span><span style=\"color: #008000; text-decoration-color: #008000\">'gpt4o'</span>, <span style=\"color: #008000; text-decoration-color: #008000\">'llama32_90b_vision_instruct'</span>, <span style=\"color: #008000; text-decoration-color: #008000\">'gemini15pro'</span><span style=\"font-weight: bold\">]</span>\n",
       "            <span style=\"font-weight: bold\">}</span>,\n",
       "            <span style=\"color: #008000; text-decoration-color: #008000\">'data_generator'</span>: <span style=\"font-weight: bold\">[</span>\n",
       "                <span style=\"font-weight: bold\">{</span>\n",
       "                    <span style=\"color: #008000; text-decoration-color: #008000\">'name'</span>: <span style=\"color: #008000; text-decoration-color: #008000\">'osb all cases'</span>,\n",
       "                    <span style=\"color: #008000; text-decoration-color: #008000\">'_target_'</span>: <span style=\"color: #008000; text-decoration-color: #008000\">'buttermilk.data.RecordMakerCloudStorageFiles'</span>,\n",
       "                    <span style=\"color: #008000; text-decoration-color: #008000\">'type'</span>: <span style=\"color: #008000; text-decoration-color: #008000\">'plaintext'</span>,\n",
       "                    <span style=\"color: #008000; text-decoration-color: #008000\">'uri'</span>: <span style=\"color: #008000; text-decoration-color: #008000\">'gs://dmrc-platforms/data/osb/'</span>,\n",
       "                    <span style=\"color: #008000; text-decoration-color: #008000\">'glob'</span>: <span style=\"color: #008000; text-decoration-color: #008000\">'*.md'</span>,\n",
       "                    <span style=\"color: #008000; text-decoration-color: #008000\">'columns'</span>: <span style=\"color: #800080; text-decoration-color: #800080; font-style: italic\">None</span>\n",
       "                <span style=\"font-weight: bold\">}</span>\n",
       "            <span style=\"font-weight: bold\">]</span>,\n",
       "            <span style=\"color: #008000; text-decoration-color: #008000\">'save'</span>: <span style=\"font-weight: bold\">{</span>\n",
       "                <span style=\"color: #008000; text-decoration-color: #008000\">'type'</span>: <span style=\"color: #008000; text-decoration-color: #008000\">'bq'</span>,\n",
       "                <span style=\"color: #008000; text-decoration-color: #008000\">'destination'</span>: <span style=\"color: #008000; text-decoration-color: #008000\">'dmrc-analysis.toxicity.flow'</span>,\n",
       "                <span style=\"color: #008000; text-decoration-color: #008000\">'schema'</span>: <span style=\"color: #008000; text-decoration-color: #008000\">'buttermilk/schemas/flow.json'</span>\n",
       "            <span style=\"font-weight: bold\">}</span>\n",
       "        <span style=\"font-weight: bold\">}</span>\n",
       "    <span style=\"font-weight: bold\">]</span>\n",
       "<span style=\"font-weight: bold\">}</span>\n",
       "</pre>\n"
      ],
      "text/plain": [
       "\u001b[1m{\u001b[0m\n",
       "    \u001b[32m'name'\u001b[0m: \u001b[32m'automod'\u001b[0m,\n",
       "    \u001b[32m'job'\u001b[0m: \u001b[32m'summarise_cases'\u001b[0m,\n",
       "    \u001b[32m'logger'\u001b[0m: \u001b[1m{\u001b[0m\u001b[32m'type'\u001b[0m: \u001b[32m'gcp'\u001b[0m\u001b[1m}\u001b[0m,\n",
       "    \u001b[32m'tracing'\u001b[0m: \u001b[1m{\u001b[0m\u001b[32m'enabled'\u001b[0m: \u001b[3;92mTrue\u001b[0m\u001b[1m}\u001b[0m,\n",
       "    \u001b[32m'verbose'\u001b[0m: \u001b[3;91mFalse\u001b[0m,\n",
       "    \u001b[32m'save_dest'\u001b[0m: \u001b[1m{\u001b[0m\u001b[32m'type'\u001b[0m: \u001b[32m'gcp'\u001b[0m, \u001b[32m'project'\u001b[0m: \u001b[32m'dmrc-analysis'\u001b[0m, \u001b[32m'region'\u001b[0m: \u001b[32m'us-central1'\u001b[0m, \u001b[32m'bucket'\u001b[0m: \u001b[32m'dmrc-analysis'\u001b[0m\u001b[1m}\u001b[0m,\n",
       "    \u001b[32m'secret_provider'\u001b[0m: \u001b[1m{\u001b[0m\n",
       "        \u001b[32m'type'\u001b[0m: \u001b[32m'azure'\u001b[0m,\n",
       "        \u001b[32m'vault'\u001b[0m: \u001b[32m'https://suzorvault.vault.azure.net/'\u001b[0m,\n",
       "        \u001b[32m'resource_group'\u001b[0m: \u001b[32m'rg-suzor_ai'\u001b[0m,\n",
       "        \u001b[32m'models_secret'\u001b[0m: \u001b[32m'models'\u001b[0m\n",
       "    \u001b[1m}\u001b[0m,\n",
       "    \u001b[32m'run'\u001b[0m: \u001b[1m{\u001b[0m\u001b[32m'platform'\u001b[0m: \u001b[32m'local'\u001b[0m\u001b[1m}\u001b[0m,\n",
       "    \u001b[32m'flows'\u001b[0m: \u001b[1m[\u001b[0m\n",
       "        \u001b[1m{\u001b[0m\n",
       "            \u001b[32m'name'\u001b[0m: \u001b[32m'summarise'\u001b[0m,\n",
       "            \u001b[32m'num_runs'\u001b[0m: \u001b[1;36m2\u001b[0m,\n",
       "            \u001b[32m'concurrent'\u001b[0m: \u001b[1;36m20\u001b[0m,\n",
       "            \u001b[32m'agent'\u001b[0m: \u001b[1m{\u001b[0m\n",
       "                \u001b[32m'name'\u001b[0m: \u001b[32m'lc'\u001b[0m,\n",
       "                \u001b[32m'template'\u001b[0m: \u001b[32m'summarise_osb'\u001b[0m,\n",
       "                \u001b[32m'model'\u001b[0m: \u001b[1m[\u001b[0m\u001b[32m'gpt4o'\u001b[0m, \u001b[32m'llama32_90b_vision_instruct'\u001b[0m, \u001b[32m'gemini15pro'\u001b[0m\u001b[1m]\u001b[0m\n",
       "            \u001b[1m}\u001b[0m,\n",
       "            \u001b[32m'data_generator'\u001b[0m: \u001b[1m[\u001b[0m\n",
       "                \u001b[1m{\u001b[0m\n",
       "                    \u001b[32m'name'\u001b[0m: \u001b[32m'osb all cases'\u001b[0m,\n",
       "                    \u001b[32m'_target_'\u001b[0m: \u001b[32m'buttermilk.data.RecordMakerCloudStorageFiles'\u001b[0m,\n",
       "                    \u001b[32m'type'\u001b[0m: \u001b[32m'plaintext'\u001b[0m,\n",
       "                    \u001b[32m'uri'\u001b[0m: \u001b[32m'gs://dmrc-platforms/data/osb/'\u001b[0m,\n",
       "                    \u001b[32m'glob'\u001b[0m: \u001b[32m'*.md'\u001b[0m,\n",
       "                    \u001b[32m'columns'\u001b[0m: \u001b[3;35mNone\u001b[0m\n",
       "                \u001b[1m}\u001b[0m\n",
       "            \u001b[1m]\u001b[0m,\n",
       "            \u001b[32m'save'\u001b[0m: \u001b[1m{\u001b[0m\n",
       "                \u001b[32m'type'\u001b[0m: \u001b[32m'bq'\u001b[0m,\n",
       "                \u001b[32m'destination'\u001b[0m: \u001b[32m'dmrc-analysis.toxicity.flow'\u001b[0m,\n",
       "                \u001b[32m'schema'\u001b[0m: \u001b[32m'buttermilk/schemas/flow.json'\u001b[0m\n",
       "            \u001b[1m}\u001b[0m\n",
       "        \u001b[1m}\u001b[0m\n",
       "    \u001b[1m]\u001b[0m\n",
       "\u001b[1m}\u001b[0m\n"
      ]
     },
     "metadata": {},
     "output_type": "display_data"
    }
   ],
   "source": [
    "from buttermilk import BM\n",
    "import os\n",
    "from hydra import initialize, initialize_config_module, initialize_config_dir, compose\n",
    "from omegaconf import OmegaConf\n",
    "\n",
    "\n",
    "from promptflow.tracing import trace, start_trace\n",
    "from rich import print as rprint\n",
    "\n",
    "\n",
    "# Load config, specifying overrides for our particular job\n",
    "with initialize(version_base=None, config_path=\"./conf\"):\n",
    "    cfg = compose(config_name='config',\n",
    "                  overrides=[\"+flows=summarise_osb\",\"job=summarise_cases\",])\n",
    "\n",
    "\n",
    "\n",
    "# Load the main ButterMilk singleton instance\n",
    "# This takes care of credentials, save paths, and other defaults\n",
    "bm = BM(cfg=cfg)\n",
    "\n",
    "\n",
    "\n",
    "rprint(OmegaConf.to_container(cfg, resolve=True))\n"
   ]
  },
  {
   "cell_type": "code",
   "execution_count": 2,
   "metadata": {},
   "outputs": [
    {
     "data": {
      "text/plain": [
       "Flow(name='summarise', num_runs=2, concurrency=1, agent=AgentInfo(name='lc', save_params=None, template='summarise_osb', model=['gpt4o', 'llama32_90b_vision_instruct', 'gemini15pro']), data=[], parameters={})"
      ]
     },
     "execution_count": 2,
     "metadata": {},
     "output_type": "execute_result"
    }
   ],
   "source": [
    "\n",
    "from buttermilk.runner.orchestrator import MultiFlowOrchestrator\n",
    "\n",
    "orchestrator = MultiFlowOrchestrator(flow=cfg.flows[0])\n",
    "\n",
    "orchestrator.flow\n"
   ]
  },
  {
   "cell_type": "code",
   "execution_count": 3,
   "metadata": {},
   "outputs": [],
   "source": [
    "\n",
    "from buttermilk.data.recordmaker import RecordMakerCloudStorageFiles\n",
    "orchestrator.data_generator = RecordMakerCloudStorageFiles(uri=cfg.flows[0].data_generator[0].uri, glob=cfg.flows[0].data_generator[0].glob)\n"
   ]
  },
  {
   "cell_type": "code",
   "execution_count": 7,
   "metadata": {},
   "outputs": [
    {
     "name": "stderr",
     "output_type": "stream",
     "text": [
      "  + Exception Group Traceback (most recent call last):\n",
      "  |   File \"/opt/homebrew/Caskroom/miniconda/base/envs/bm/lib/python3.11/site-packages/IPython/core/interactiveshell.py\", line 3575, in run_code\n",
      "  |     await eval(code_obj, self.user_global_ns, self.user_ns)\n",
      "  |   File \"/var/folders/m0/dnlbtw0563gbgn18y50l5vjm0000gq/T/ipykernel_41352/1626473268.py\", line 1, in <module>\n",
      "  |     await orchestrator.run_tasks()\n",
      "  |   File \"/Users/suzor/src/buttermilk/buttermilk/runner/orchestrator.py\", line 93, in run_tasks\n",
      "  |     async with asyncio.TaskGroup() as tg:\n",
      "  |   File \"/opt/homebrew/Caskroom/miniconda/base/envs/bm/lib/python3.11/asyncio/taskgroups.py\", line 135, in __aexit__\n",
      "  |     raise me from None\n",
      "  | ExceptionGroup: unhandled errors in a TaskGroup (1 sub-exception)\n",
      "  +-+---------------- 1 ----------------\n",
      "    | Traceback (most recent call last):\n",
      "    |   File \"/Users/suzor/src/buttermilk/buttermilk/runner/orchestrator.py\", line 94, in run_tasks\n",
      "    |     async for agent_name, job_id, task in self.make_tasks(data_generator=self._data_generator, agent_type=self.agent_type, source=self.source):\n",
      "    |                                                                          ^^^^^^^^^^^^^^^^^^^^\n",
      "    |   File \"/opt/homebrew/Caskroom/miniconda/base/envs/bm/lib/python3.11/site-packages/pydantic/main.py\", line 856, in __getattr__\n",
      "    |     raise AttributeError(f'{type(self).__name__!r} object has no attribute {item!r}')\n",
      "    | AttributeError: 'MultiFlowOrchestrator' object has no attribute '_data_generator'\n",
      "    +------------------------------------\n"
     ]
    }
   ],
   "source": [
    "await orchestrator.run_tasks()\n"
   ]
  },
  {
   "cell_type": "code",
   "execution_count": null,
   "metadata": {},
   "outputs": [],
   "source": []
  }
 ],
 "metadata": {
  "kernelspec": {
   "display_name": "bm",
   "language": "python",
   "name": "python3"
  },
  "language_info": {
   "codemirror_mode": {
    "name": "ipython",
    "version": 3
   },
   "file_extension": ".py",
   "mimetype": "text/x-python",
   "name": "python",
   "nbconvert_exporter": "python",
   "pygments_lexer": "ipython3",
   "version": "3.11.0"
  }
 },
 "nbformat": 4,
 "nbformat_minor": 2
}
