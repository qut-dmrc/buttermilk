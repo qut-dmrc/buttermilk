{
 "cells": [
  {
   "cell_type": "code",
   "execution_count": 1,
   "metadata": {},
   "outputs": [
    {
     "name": "stderr",
     "output_type": "stream",
     "text": [
      "/opt/homebrew/Caskroom/miniconda/base/envs/bm/lib/python3.11/site-packages/tqdm/auto.py:21: TqdmWarning: IProgress not found. Please update jupyter and ipywidgets. See https://ipywidgets.readthedocs.io/en/stable/user_install.html\n",
      "  from .autonotebook import tqdm as notebook_tqdm\n"
     ]
    },
    {
     "name": "stdout",
     "output_type": "stream",
     "text": [
      "/Users/suzor/src/buttermilk\n",
      "\u001b[32m2024-11-12 13:56:26\u001b[0m \u001b[35mJ5HW6L4KT6\u001b[0m \u001b[34mbuttermilk\u001b[0m buttermilk.py[ 232] \u001b[1;30mINFO\u001b[0m {'message': \"Logging setup for: 20241112T0356Z-ensQ-J5HW6L4KT6-suzor. Ready for data collection, saving log to Google Cloud Logs (Resource(type='generic_task', labels={'project_id': 'dmrc-platforms', 'location': 'us-central1', 'namespace': 'automod', 'job': 'export', 'task_id': '20241112T0356Z-ensQ-J5HW6L4KT6-suzor'})). Default save directory for data in this run is: gs://dmrc-analysis/runs/automod/export/20241112T0356Z-ensQ-J5HW6L4KT6-suzor\", 'project': 'automod', 'job': 'export', 'run_id': '20241112T0356Z-ensQ-J5HW6L4KT6-suzor', 'save_dir': 'gs://dmrc-analysis/runs/automod/export/20241112T0356Z-ensQ-J5HW6L4KT6-suzor', 'ip': '159.196.210.27', 'node_name': 'J5HW6L4KT6', 'username': 'suzor'}\n",
      "\u001b[32m2024-11-12 13:56:26\u001b[0m \u001b[35mJ5HW6L4KT6\u001b[0m \u001b[34mbuttermilk\u001b[0m buttermilk.py[ 240] \u001b[1;30mDEBUG\u001b[0m \u001b[32mButtermilk version is: 0.2.0\u001b[0m\n",
      "Prompt flow service has started...\n"
     ]
    },
    {
     "data": {
      "text/html": [
       "<pre style=\"white-space:pre;overflow-x:auto;line-height:normal;font-family:Menlo,'DejaVu Sans Mono',consolas,'Courier New',monospace\"><span style=\"font-weight: bold\">{</span>\n",
       "    <span style=\"color: #008000; text-decoration-color: #008000\">'name'</span>: <span style=\"color: #008000; text-decoration-color: #008000\">'automod'</span>,\n",
       "    <span style=\"color: #008000; text-decoration-color: #008000\">'job'</span>: <span style=\"color: #008000; text-decoration-color: #008000\">'export'</span>,\n",
       "    <span style=\"color: #008000; text-decoration-color: #008000\">'logger'</span>: <span style=\"font-weight: bold\">{</span><span style=\"color: #008000; text-decoration-color: #008000\">'type'</span>: <span style=\"color: #008000; text-decoration-color: #008000\">'gcp'</span><span style=\"font-weight: bold\">}</span>,\n",
       "    <span style=\"color: #008000; text-decoration-color: #008000\">'tracing'</span>: <span style=\"font-weight: bold\">{</span><span style=\"color: #008000; text-decoration-color: #008000\">'enabled'</span>: <span style=\"color: #00ff00; text-decoration-color: #00ff00; font-style: italic\">True</span><span style=\"font-weight: bold\">}</span>,\n",
       "    <span style=\"color: #008000; text-decoration-color: #008000\">'verbose'</span>: <span style=\"color: #00ff00; text-decoration-color: #00ff00; font-style: italic\">True</span>,\n",
       "    <span style=\"color: #008000; text-decoration-color: #008000\">'save_dest'</span>: <span style=\"font-weight: bold\">{</span><span style=\"color: #008000; text-decoration-color: #008000\">'type'</span>: <span style=\"color: #008000; text-decoration-color: #008000\">'gcp'</span>, <span style=\"color: #008000; text-decoration-color: #008000\">'project'</span>: <span style=\"color: #008000; text-decoration-color: #008000\">'dmrc-analysis'</span>, <span style=\"color: #008000; text-decoration-color: #008000\">'region'</span>: <span style=\"color: #008000; text-decoration-color: #008000\">'us-central1'</span>, <span style=\"color: #008000; text-decoration-color: #008000\">'bucket'</span>: <span style=\"color: #008000; text-decoration-color: #008000\">'dmrc-analysis'</span><span style=\"font-weight: bold\">}</span>,\n",
       "    <span style=\"color: #008000; text-decoration-color: #008000\">'secret_provider'</span>: <span style=\"font-weight: bold\">{</span>\n",
       "        <span style=\"color: #008000; text-decoration-color: #008000\">'type'</span>: <span style=\"color: #008000; text-decoration-color: #008000\">'azure'</span>,\n",
       "        <span style=\"color: #008000; text-decoration-color: #008000\">'vault'</span>: <span style=\"color: #008000; text-decoration-color: #008000\">'https://suzorvault.vault.azure.net/'</span>,\n",
       "        <span style=\"color: #008000; text-decoration-color: #008000\">'resource_group'</span>: <span style=\"color: #008000; text-decoration-color: #008000\">'rg-suzor_ai'</span>,\n",
       "        <span style=\"color: #008000; text-decoration-color: #008000\">'models_secret'</span>: <span style=\"color: #008000; text-decoration-color: #008000\">'models'</span>\n",
       "    <span style=\"font-weight: bold\">}</span>,\n",
       "    <span style=\"color: #008000; text-decoration-color: #008000\">'run'</span>: <span style=\"font-weight: bold\">{</span><span style=\"color: #008000; text-decoration-color: #008000\">'platform'</span>: <span style=\"color: #008000; text-decoration-color: #008000\">'local'</span>, <span style=\"color: #008000; text-decoration-color: #008000\">'max_concurrency'</span>: <span style=\"color: #008080; text-decoration-color: #008080; font-weight: bold\">32</span><span style=\"font-weight: bold\">}</span>,\n",
       "    <span style=\"color: #008000; text-decoration-color: #008000\">'flows'</span>: <span style=\"font-weight: bold\">[</span>\n",
       "        <span style=\"font-weight: bold\">{</span>\n",
       "            <span style=\"color: #008000; text-decoration-color: #008000\">'name'</span>: <span style=\"color: #008000; text-decoration-color: #008000\">'summarise OSB cases'</span>,\n",
       "            <span style=\"color: #008000; text-decoration-color: #008000\">'num_runs'</span>: <span style=\"color: #008080; text-decoration-color: #008080; font-weight: bold\">1</span>,\n",
       "            <span style=\"color: #008000; text-decoration-color: #008000\">'concurrency'</span>: <span style=\"color: #008080; text-decoration-color: #008080; font-weight: bold\">20</span>,\n",
       "            <span style=\"color: #008000; text-decoration-color: #008000\">'agent'</span>: <span style=\"font-weight: bold\">{</span>\n",
       "                <span style=\"color: #008000; text-decoration-color: #008000\">'type'</span>: <span style=\"color: #008000; text-decoration-color: #008000\">'LC'</span>,\n",
       "                <span style=\"color: #008000; text-decoration-color: #008000\">'template'</span>: <span style=\"color: #008000; text-decoration-color: #008000\">'summarise'</span>,\n",
       "                <span style=\"color: #008000; text-decoration-color: #008000\">'instructions'</span>: <span style=\"color: #008000; text-decoration-color: #008000\">'summarise_osb'</span>,\n",
       "                <span style=\"color: #008000; text-decoration-color: #008000\">'model'</span>: <span style=\"font-weight: bold\">[</span><span style=\"color: #008000; text-decoration-color: #008000\">'gpt4o'</span>, <span style=\"color: #008000; text-decoration-color: #008000\">'sonnet'</span>, <span style=\"color: #008000; text-decoration-color: #008000\">'gemini15pro'</span><span style=\"font-weight: bold\">]</span>\n",
       "            <span style=\"font-weight: bold\">}</span>,\n",
       "            <span style=\"color: #008000; text-decoration-color: #008000\">'parameters'</span>: <span style=\"font-weight: bold\">{</span><span style=\"color: #008000; text-decoration-color: #008000\">'record'</span>: <span style=\"color: #008000; text-decoration-color: #008000\">'record'</span><span style=\"font-weight: bold\">}</span>,\n",
       "            <span style=\"color: #008000; text-decoration-color: #008000\">'data'</span>: <span style=\"font-weight: bold\">[</span>\n",
       "                <span style=\"font-weight: bold\">{</span>\n",
       "                    <span style=\"color: #008000; text-decoration-color: #008000\">'name'</span>: <span style=\"color: #008000; text-decoration-color: #008000\">'osb all cases'</span>,\n",
       "                    <span style=\"color: #008000; text-decoration-color: #008000\">'type'</span>: <span style=\"color: #008000; text-decoration-color: #008000\">'plaintext'</span>,\n",
       "                    <span style=\"color: #008000; text-decoration-color: #008000\">'uri'</span>: <span style=\"color: #008000; text-decoration-color: #008000\">'gs://dmrc-platforms/data/osb/'</span>,\n",
       "                    <span style=\"color: #008000; text-decoration-color: #008000\">'glob'</span>: <span style=\"color: #008000; text-decoration-color: #008000\">'*.md'</span>,\n",
       "                    <span style=\"color: #008000; text-decoration-color: #008000\">'columns'</span>: <span style=\"font-weight: bold\">{</span><span style=\"color: #008000; text-decoration-color: #008000\">'record_id'</span>: <span style=\"color: #008000; text-decoration-color: #008000\">'stem'</span>, <span style=\"color: #008000; text-decoration-color: #008000\">'text'</span>: <span style=\"color: #008000; text-decoration-color: #008000\">'text'</span><span style=\"font-weight: bold\">}</span>\n",
       "                <span style=\"font-weight: bold\">}</span>\n",
       "            <span style=\"font-weight: bold\">]</span>,\n",
       "            <span style=\"color: #008000; text-decoration-color: #008000\">'save'</span>: <span style=\"font-weight: bold\">{</span>\n",
       "                <span style=\"color: #008000; text-decoration-color: #008000\">'type'</span>: <span style=\"color: #008000; text-decoration-color: #008000\">'bq'</span>,\n",
       "                <span style=\"color: #008000; text-decoration-color: #008000\">'dataset'</span>: <span style=\"color: #008000; text-decoration-color: #008000\">'dmrc-analysis.toxicity.flow'</span>,\n",
       "                <span style=\"color: #008000; text-decoration-color: #008000\">'schema'</span>: <span style=\"color: #008000; text-decoration-color: #008000\">'buttermilk/schemas/flow.json'</span>\n",
       "            <span style=\"font-weight: bold\">}</span>\n",
       "        <span style=\"font-weight: bold\">}</span>,\n",
       "        <span style=\"font-weight: bold\">{</span>\n",
       "            <span style=\"color: #008000; text-decoration-color: #008000\">'name'</span>: <span style=\"color: #008000; text-decoration-color: #008000\">'synthesise OSB cases'</span>,\n",
       "            <span style=\"color: #008000; text-decoration-color: #008000\">'num_runs'</span>: <span style=\"color: #008080; text-decoration-color: #008080; font-weight: bold\">1</span>,\n",
       "            <span style=\"color: #008000; text-decoration-color: #008000\">'concurrency'</span>: <span style=\"color: #008080; text-decoration-color: #008080; font-weight: bold\">20</span>,\n",
       "            <span style=\"color: #008000; text-decoration-color: #008000\">'agent'</span>: <span style=\"font-weight: bold\">{</span>\n",
       "                <span style=\"color: #008000; text-decoration-color: #008000\">'type'</span>: <span style=\"color: #008000; text-decoration-color: #008000\">'LC'</span>,\n",
       "                <span style=\"color: #008000; text-decoration-color: #008000\">'template'</span>: <span style=\"color: #008000; text-decoration-color: #008000\">'synthesise'</span>,\n",
       "                <span style=\"color: #008000; text-decoration-color: #008000\">'instructions'</span>: <span style=\"color: #008000; text-decoration-color: #008000\">'summarise_osb'</span>,\n",
       "                <span style=\"color: #008000; text-decoration-color: #008000\">'model'</span>: <span style=\"font-weight: bold\">[</span><span style=\"color: #008000; text-decoration-color: #008000\">'gpt4o'</span>, <span style=\"color: #008000; text-decoration-color: #008000\">'sonnet'</span><span style=\"font-weight: bold\">]</span>\n",
       "            <span style=\"font-weight: bold\">}</span>,\n",
       "            <span style=\"color: #008000; text-decoration-color: #008000\">'parameters'</span>: <span style=\"font-weight: bold\">{</span><span style=\"color: #008000; text-decoration-color: #008000\">'content'</span>: <span style=\"color: #008000; text-decoration-color: #008000\">'text'</span>, <span style=\"color: #008000; text-decoration-color: #008000\">'answers'</span>: <span style=\"color: #008000; text-decoration-color: #008000\">'answers'</span><span style=\"font-weight: bold\">}</span>,\n",
       "            <span style=\"color: #008000; text-decoration-color: #008000\">'data'</span>: <span style=\"font-weight: bold\">[</span>\n",
       "                <span style=\"font-weight: bold\">{</span>\n",
       "                    <span style=\"color: #008000; text-decoration-color: #008000\">'name'</span>: <span style=\"color: #008000; text-decoration-color: #008000\">'osb all cases'</span>,\n",
       "                    <span style=\"color: #008000; text-decoration-color: #008000\">'type'</span>: <span style=\"color: #008000; text-decoration-color: #008000\">'plaintext'</span>,\n",
       "                    <span style=\"color: #008000; text-decoration-color: #008000\">'uri'</span>: <span style=\"color: #008000; text-decoration-color: #008000\">'gs://dmrc-platforms/data/osb/'</span>,\n",
       "                    <span style=\"color: #008000; text-decoration-color: #008000\">'glob'</span>: <span style=\"color: #008000; text-decoration-color: #008000\">'*.md'</span>,\n",
       "                    <span style=\"color: #008000; text-decoration-color: #008000\">'columns'</span>: <span style=\"font-weight: bold\">{</span><span style=\"color: #008000; text-decoration-color: #008000\">'record_id'</span>: <span style=\"color: #008000; text-decoration-color: #008000\">'stem'</span>, <span style=\"color: #008000; text-decoration-color: #008000\">'text'</span>: <span style=\"color: #008000; text-decoration-color: #008000\">'text'</span><span style=\"font-weight: bold\">}</span>\n",
       "                <span style=\"font-weight: bold\">}</span>,\n",
       "                <span style=\"font-weight: bold\">{</span>\n",
       "                    <span style=\"color: #008000; text-decoration-color: #008000\">'name'</span>: <span style=\"color: #008000; text-decoration-color: #008000\">'synthesise previous runs'</span>,\n",
       "                    <span style=\"color: #008000; text-decoration-color: #008000\">'type'</span>: <span style=\"color: #008000; text-decoration-color: #008000\">'job'</span>,\n",
       "                    <span style=\"color: #008000; text-decoration-color: #008000\">'dataset'</span>: <span style=\"color: #008000; text-decoration-color: #008000\">'dmrc-analysis.toxicity.flow'</span>,\n",
       "                    <span style=\"color: #008000; text-decoration-color: #008000\">'max_records_per_group'</span>: <span style=\"color: #008080; text-decoration-color: #008080; font-weight: bold\">2</span>,\n",
       "                    <span style=\"color: #008000; text-decoration-color: #008000\">'agg'</span>: <span style=\"color: #00ff00; text-decoration-color: #00ff00; font-style: italic\">True</span>,\n",
       "                    <span style=\"color: #008000; text-decoration-color: #008000\">'filter'</span>: <span style=\"font-weight: bold\">{</span>\n",
       "                        <span style=\"color: #008000; text-decoration-color: #008000\">'agent_info.flow'</span>: <span style=\"color: #008000; text-decoration-color: #008000\">'summarise OSB cases'</span>,\n",
       "                        <span style=\"color: #008000; text-decoration-color: #008000\">'parameters.model'</span>: <span style=\"font-weight: bold\">[</span><span style=\"color: #008000; text-decoration-color: #008000\">'gpt4o'</span>, <span style=\"color: #008000; text-decoration-color: #008000\">'sonnet'</span>, <span style=\"color: #008000; text-decoration-color: #008000\">'gemini15pro'</span><span style=\"font-weight: bold\">]</span>\n",
       "                    <span style=\"font-weight: bold\">}</span>,\n",
       "                    <span style=\"color: #008000; text-decoration-color: #008000\">'join'</span>: <span style=\"font-weight: bold\">{</span><span style=\"color: #008000; text-decoration-color: #008000\">'record_id'</span>: <span style=\"color: #008000; text-decoration-color: #008000\">'record.record_id'</span><span style=\"font-weight: bold\">}</span>,\n",
       "                    <span style=\"color: #008000; text-decoration-color: #008000\">'group'</span>: <span style=\"font-weight: bold\">{</span>\n",
       "                        <span style=\"color: #008000; text-decoration-color: #008000\">'flow'</span>: <span style=\"color: #008000; text-decoration-color: #008000\">'agent_info.flow'</span>,\n",
       "                        <span style=\"color: #008000; text-decoration-color: #008000\">'template'</span>: <span style=\"color: #008000; text-decoration-color: #008000\">'agent_info.template'</span>,\n",
       "                        <span style=\"color: #008000; text-decoration-color: #008000\">'model'</span>: <span style=\"color: #008000; text-decoration-color: #008000\">'parameters.model'</span>\n",
       "                    <span style=\"font-weight: bold\">}</span>,\n",
       "                    <span style=\"color: #008000; text-decoration-color: #008000\">'columns'</span>: <span style=\"font-weight: bold\">{</span>\n",
       "                        <span style=\"color: #008000; text-decoration-color: #008000\">'answers'</span>: <span style=\"font-weight: bold\">{</span><span style=\"color: #008000; text-decoration-color: #008000\">'id'</span>: <span style=\"color: #008000; text-decoration-color: #008000\">'job_id'</span>, <span style=\"color: #008000; text-decoration-color: #008000\">'text'</span>: <span style=\"color: #008000; text-decoration-color: #008000\">'outputs'</span><span style=\"font-weight: bold\">}</span>,\n",
       "                        <span style=\"color: #008000; text-decoration-color: #008000\">'meta'</span>: <span style=\"font-weight: bold\">{</span>\n",
       "                            <span style=\"color: #008000; text-decoration-color: #008000\">'flow'</span>: <span style=\"color: #008000; text-decoration-color: #008000\">'agent_info.flow'</span>,\n",
       "                            <span style=\"color: #008000; text-decoration-color: #008000\">'template'</span>: <span style=\"color: #008000; text-decoration-color: #008000\">'agent_info.template'</span>,\n",
       "                            <span style=\"color: #008000; text-decoration-color: #008000\">'agent_info'</span>: <span style=\"color: #008000; text-decoration-color: #008000\">'agent_info'</span>,\n",
       "                            <span style=\"color: #008000; text-decoration-color: #008000\">'model'</span>: <span style=\"color: #008000; text-decoration-color: #008000\">'parameters.model'</span>,\n",
       "                            <span style=\"color: #008000; text-decoration-color: #008000\">'timestamp'</span>: <span style=\"color: #008000; text-decoration-color: #008000\">'timestamp'</span>\n",
       "                        <span style=\"font-weight: bold\">}</span>\n",
       "                    <span style=\"font-weight: bold\">}</span>\n",
       "                <span style=\"font-weight: bold\">}</span>\n",
       "            <span style=\"font-weight: bold\">]</span>,\n",
       "            <span style=\"color: #008000; text-decoration-color: #008000\">'save'</span>: <span style=\"font-weight: bold\">{</span>\n",
       "                <span style=\"color: #008000; text-decoration-color: #008000\">'type'</span>: <span style=\"color: #008000; text-decoration-color: #008000\">'bq'</span>,\n",
       "                <span style=\"color: #008000; text-decoration-color: #008000\">'dataset'</span>: <span style=\"color: #008000; text-decoration-color: #008000\">'dmrc-analysis.toxicity.flow'</span>,\n",
       "                <span style=\"color: #008000; text-decoration-color: #008000\">'schema'</span>: <span style=\"color: #008000; text-decoration-color: #008000\">'buttermilk/schemas/flow.json'</span>\n",
       "            <span style=\"font-weight: bold\">}</span>\n",
       "        <span style=\"font-weight: bold\">}</span>,\n",
       "        <span style=\"font-weight: bold\">{</span>\n",
       "            <span style=\"color: #008000; text-decoration-color: #008000\">'name'</span>: <span style=\"color: #008000; text-decoration-color: #008000\">'export'</span>,\n",
       "            <span style=\"color: #008000; text-decoration-color: #008000\">'agent'</span>: <span style=\"font-weight: bold\">{</span><span style=\"color: #008000; text-decoration-color: #008000\">'type'</span>: <span style=\"color: #008000; text-decoration-color: #008000\">'GSheetExporter'</span>, <span style=\"color: #008000; text-decoration-color: #008000\">'sheet_name'</span>: <span style=\"color: #008000; text-decoration-color: #008000\">'OSB summaries'</span><span style=\"font-weight: bold\">}</span>,\n",
       "            <span style=\"color: #008000; text-decoration-color: #008000\">'save'</span>: <span style=\"font-weight: bold\">{</span><span style=\"color: #008000; text-decoration-color: #008000\">'type'</span>: <span style=\"color: #008000; text-decoration-color: #008000\">'gsheets'</span>, <span style=\"color: #008000; text-decoration-color: #008000\">'destination'</span>: <span style=\"color: #008000; text-decoration-color: #008000\">'new'</span><span style=\"font-weight: bold\">}</span>,\n",
       "            <span style=\"color: #008000; text-decoration-color: #008000\">'data'</span>: <span style=\"font-weight: bold\">[</span>\n",
       "                <span style=\"font-weight: bold\">{</span>\n",
       "                    <span style=\"color: #008000; text-decoration-color: #008000\">'name'</span>: <span style=\"color: #008000; text-decoration-color: #008000\">'osb all cases'</span>,\n",
       "                    <span style=\"color: #008000; text-decoration-color: #008000\">'type'</span>: <span style=\"color: #008000; text-decoration-color: #008000\">'plaintext'</span>,\n",
       "                    <span style=\"color: #008000; text-decoration-color: #008000\">'uri'</span>: <span style=\"color: #008000; text-decoration-color: #008000\">'gs://dmrc-platforms/data/osb/'</span>,\n",
       "                    <span style=\"color: #008000; text-decoration-color: #008000\">'glob'</span>: <span style=\"color: #008000; text-decoration-color: #008000\">'*.md'</span>,\n",
       "                    <span style=\"color: #008000; text-decoration-color: #008000\">'columns'</span>: <span style=\"font-weight: bold\">{</span><span style=\"color: #008000; text-decoration-color: #008000\">'record_id'</span>: <span style=\"color: #008000; text-decoration-color: #008000\">'stem'</span>, <span style=\"color: #008000; text-decoration-color: #008000\">'text'</span>: <span style=\"color: #008000; text-decoration-color: #008000\">'text'</span><span style=\"font-weight: bold\">}</span>\n",
       "                <span style=\"font-weight: bold\">}</span>,\n",
       "                <span style=\"font-weight: bold\">{</span>\n",
       "                    <span style=\"color: #008000; text-decoration-color: #008000\">'name'</span>: <span style=\"color: #008000; text-decoration-color: #008000\">'eval'</span>,\n",
       "                    <span style=\"color: #008000; text-decoration-color: #008000\">'type'</span>: <span style=\"color: #008000; text-decoration-color: #008000\">'job'</span>,\n",
       "                    <span style=\"color: #008000; text-decoration-color: #008000\">'dataset'</span>: <span style=\"color: #008000; text-decoration-color: #008000\">'dmrc-analysis.toxicity.flow'</span>,\n",
       "                    <span style=\"color: #008000; text-decoration-color: #008000\">'max_records_per_group'</span>: <span style=\"color: #008080; text-decoration-color: #008080; font-weight: bold\">-1</span>,\n",
       "                    <span style=\"color: #008000; text-decoration-color: #008000\">'filter'</span>: <span style=\"font-weight: bold\">{</span><span style=\"color: #008000; text-decoration-color: #008000\">'agent_info.flow'</span>: <span style=\"color: #008000; text-decoration-color: #008000\">'synthesise OSB cases'</span><span style=\"font-weight: bold\">}</span>,\n",
       "                    <span style=\"color: #008000; text-decoration-color: #008000\">'join'</span>: <span style=\"font-weight: bold\">{</span><span style=\"color: #008000; text-decoration-color: #008000\">'record_id'</span>: <span style=\"color: #008000; text-decoration-color: #008000\">'record.record_id'</span><span style=\"font-weight: bold\">}</span>,\n",
       "                    <span style=\"color: #008000; text-decoration-color: #008000\">'agg'</span>: <span style=\"color: #ff0000; text-decoration-color: #ff0000; font-style: italic\">False</span>,\n",
       "                    <span style=\"color: #008000; text-decoration-color: #008000\">'group'</span>: <span style=\"font-weight: bold\">{</span><span style=\"color: #008000; text-decoration-color: #008000\">'id'</span>: <span style=\"color: #008000; text-decoration-color: #008000\">'job_id'</span>, <span style=\"color: #008000; text-decoration-color: #008000\">'flow'</span>: <span style=\"color: #008000; text-decoration-color: #008000\">'agent_info.flow'</span><span style=\"font-weight: bold\">}</span>,\n",
       "                    <span style=\"color: #008000; text-decoration-color: #008000\">'columns'</span>: <span style=\"font-weight: bold\">{</span>\n",
       "                        <span style=\"color: #008000; text-decoration-color: #008000\">'model'</span>: <span style=\"color: #008000; text-decoration-color: #008000\">'parameters.model'</span>,\n",
       "                        <span style=\"color: #008000; text-decoration-color: #008000\">'timestamp'</span>: <span style=\"color: #008000; text-decoration-color: #008000\">'timestamp'</span>,\n",
       "                        <span style=\"color: #008000; text-decoration-color: #008000\">'title'</span>: <span style=\"color: #008000; text-decoration-color: #008000\">'outputs.title'</span>,\n",
       "                        <span style=\"color: #008000; text-decoration-color: #008000\">'date'</span>: <span style=\"color: #008000; text-decoration-color: #008000\">'outputs.date'</span>,\n",
       "                        <span style=\"color: #008000; text-decoration-color: #008000\">'content'</span>: <span style=\"color: #008000; text-decoration-color: #008000\">'outputs.content'</span>,\n",
       "                        <span style=\"color: #008000; text-decoration-color: #008000\">'reasons'</span>: <span style=\"color: #008000; text-decoration-color: #008000\">'outputs.reasons'</span>,\n",
       "                        <span style=\"color: #008000; text-decoration-color: #008000\">'recommendations'</span>: <span style=\"color: #008000; text-decoration-color: #008000\">'outputs.recommendations'</span>,\n",
       "                        <span style=\"color: #008000; text-decoration-color: #008000\">'result'</span>: <span style=\"color: #008000; text-decoration-color: #008000\">'outputs.result'</span>,\n",
       "                        <span style=\"color: #008000; text-decoration-color: #008000\">'type'</span>: <span style=\"color: #008000; text-decoration-color: #008000\">'outputs.type'</span>,\n",
       "                        <span style=\"color: #008000; text-decoration-color: #008000\">'topics'</span>: <span style=\"color: #008000; text-decoration-color: #008000\">'outputs.topics'</span>,\n",
       "                        <span style=\"color: #008000; text-decoration-color: #008000\">'standards'</span>: <span style=\"color: #008000; text-decoration-color: #008000\">'outputs.standards'</span>,\n",
       "                        <span style=\"color: #008000; text-decoration-color: #008000\">'location'</span>: <span style=\"color: #008000; text-decoration-color: #008000\">'outputs.location'</span>,\n",
       "                        <span style=\"color: #008000; text-decoration-color: #008000\">'outputs'</span>: <span style=\"color: #008000; text-decoration-color: #008000\">'outputs'</span>\n",
       "                    <span style=\"font-weight: bold\">}</span>\n",
       "                <span style=\"font-weight: bold\">}</span>\n",
       "            <span style=\"font-weight: bold\">]</span>\n",
       "        <span style=\"font-weight: bold\">}</span>\n",
       "    <span style=\"font-weight: bold\">]</span>\n",
       "<span style=\"font-weight: bold\">}</span>\n",
       "</pre>\n"
      ],
      "text/plain": [
       "\u001b[1m{\u001b[0m\n",
       "    \u001b[32m'name'\u001b[0m: \u001b[32m'automod'\u001b[0m,\n",
       "    \u001b[32m'job'\u001b[0m: \u001b[32m'export'\u001b[0m,\n",
       "    \u001b[32m'logger'\u001b[0m: \u001b[1m{\u001b[0m\u001b[32m'type'\u001b[0m: \u001b[32m'gcp'\u001b[0m\u001b[1m}\u001b[0m,\n",
       "    \u001b[32m'tracing'\u001b[0m: \u001b[1m{\u001b[0m\u001b[32m'enabled'\u001b[0m: \u001b[3;92mTrue\u001b[0m\u001b[1m}\u001b[0m,\n",
       "    \u001b[32m'verbose'\u001b[0m: \u001b[3;92mTrue\u001b[0m,\n",
       "    \u001b[32m'save_dest'\u001b[0m: \u001b[1m{\u001b[0m\u001b[32m'type'\u001b[0m: \u001b[32m'gcp'\u001b[0m, \u001b[32m'project'\u001b[0m: \u001b[32m'dmrc-analysis'\u001b[0m, \u001b[32m'region'\u001b[0m: \u001b[32m'us-central1'\u001b[0m, \u001b[32m'bucket'\u001b[0m: \u001b[32m'dmrc-analysis'\u001b[0m\u001b[1m}\u001b[0m,\n",
       "    \u001b[32m'secret_provider'\u001b[0m: \u001b[1m{\u001b[0m\n",
       "        \u001b[32m'type'\u001b[0m: \u001b[32m'azure'\u001b[0m,\n",
       "        \u001b[32m'vault'\u001b[0m: \u001b[32m'https://suzorvault.vault.azure.net/'\u001b[0m,\n",
       "        \u001b[32m'resource_group'\u001b[0m: \u001b[32m'rg-suzor_ai'\u001b[0m,\n",
       "        \u001b[32m'models_secret'\u001b[0m: \u001b[32m'models'\u001b[0m\n",
       "    \u001b[1m}\u001b[0m,\n",
       "    \u001b[32m'run'\u001b[0m: \u001b[1m{\u001b[0m\u001b[32m'platform'\u001b[0m: \u001b[32m'local'\u001b[0m, \u001b[32m'max_concurrency'\u001b[0m: \u001b[1;36m32\u001b[0m\u001b[1m}\u001b[0m,\n",
       "    \u001b[32m'flows'\u001b[0m: \u001b[1m[\u001b[0m\n",
       "        \u001b[1m{\u001b[0m\n",
       "            \u001b[32m'name'\u001b[0m: \u001b[32m'summarise OSB cases'\u001b[0m,\n",
       "            \u001b[32m'num_runs'\u001b[0m: \u001b[1;36m1\u001b[0m,\n",
       "            \u001b[32m'concurrency'\u001b[0m: \u001b[1;36m20\u001b[0m,\n",
       "            \u001b[32m'agent'\u001b[0m: \u001b[1m{\u001b[0m\n",
       "                \u001b[32m'type'\u001b[0m: \u001b[32m'LC'\u001b[0m,\n",
       "                \u001b[32m'template'\u001b[0m: \u001b[32m'summarise'\u001b[0m,\n",
       "                \u001b[32m'instructions'\u001b[0m: \u001b[32m'summarise_osb'\u001b[0m,\n",
       "                \u001b[32m'model'\u001b[0m: \u001b[1m[\u001b[0m\u001b[32m'gpt4o'\u001b[0m, \u001b[32m'sonnet'\u001b[0m, \u001b[32m'gemini15pro'\u001b[0m\u001b[1m]\u001b[0m\n",
       "            \u001b[1m}\u001b[0m,\n",
       "            \u001b[32m'parameters'\u001b[0m: \u001b[1m{\u001b[0m\u001b[32m'record'\u001b[0m: \u001b[32m'record'\u001b[0m\u001b[1m}\u001b[0m,\n",
       "            \u001b[32m'data'\u001b[0m: \u001b[1m[\u001b[0m\n",
       "                \u001b[1m{\u001b[0m\n",
       "                    \u001b[32m'name'\u001b[0m: \u001b[32m'osb all cases'\u001b[0m,\n",
       "                    \u001b[32m'type'\u001b[0m: \u001b[32m'plaintext'\u001b[0m,\n",
       "                    \u001b[32m'uri'\u001b[0m: \u001b[32m'gs://dmrc-platforms/data/osb/'\u001b[0m,\n",
       "                    \u001b[32m'glob'\u001b[0m: \u001b[32m'*.md'\u001b[0m,\n",
       "                    \u001b[32m'columns'\u001b[0m: \u001b[1m{\u001b[0m\u001b[32m'record_id'\u001b[0m: \u001b[32m'stem'\u001b[0m, \u001b[32m'text'\u001b[0m: \u001b[32m'text'\u001b[0m\u001b[1m}\u001b[0m\n",
       "                \u001b[1m}\u001b[0m\n",
       "            \u001b[1m]\u001b[0m,\n",
       "            \u001b[32m'save'\u001b[0m: \u001b[1m{\u001b[0m\n",
       "                \u001b[32m'type'\u001b[0m: \u001b[32m'bq'\u001b[0m,\n",
       "                \u001b[32m'dataset'\u001b[0m: \u001b[32m'dmrc-analysis.toxicity.flow'\u001b[0m,\n",
       "                \u001b[32m'schema'\u001b[0m: \u001b[32m'buttermilk/schemas/flow.json'\u001b[0m\n",
       "            \u001b[1m}\u001b[0m\n",
       "        \u001b[1m}\u001b[0m,\n",
       "        \u001b[1m{\u001b[0m\n",
       "            \u001b[32m'name'\u001b[0m: \u001b[32m'synthesise OSB cases'\u001b[0m,\n",
       "            \u001b[32m'num_runs'\u001b[0m: \u001b[1;36m1\u001b[0m,\n",
       "            \u001b[32m'concurrency'\u001b[0m: \u001b[1;36m20\u001b[0m,\n",
       "            \u001b[32m'agent'\u001b[0m: \u001b[1m{\u001b[0m\n",
       "                \u001b[32m'type'\u001b[0m: \u001b[32m'LC'\u001b[0m,\n",
       "                \u001b[32m'template'\u001b[0m: \u001b[32m'synthesise'\u001b[0m,\n",
       "                \u001b[32m'instructions'\u001b[0m: \u001b[32m'summarise_osb'\u001b[0m,\n",
       "                \u001b[32m'model'\u001b[0m: \u001b[1m[\u001b[0m\u001b[32m'gpt4o'\u001b[0m, \u001b[32m'sonnet'\u001b[0m\u001b[1m]\u001b[0m\n",
       "            \u001b[1m}\u001b[0m,\n",
       "            \u001b[32m'parameters'\u001b[0m: \u001b[1m{\u001b[0m\u001b[32m'content'\u001b[0m: \u001b[32m'text'\u001b[0m, \u001b[32m'answers'\u001b[0m: \u001b[32m'answers'\u001b[0m\u001b[1m}\u001b[0m,\n",
       "            \u001b[32m'data'\u001b[0m: \u001b[1m[\u001b[0m\n",
       "                \u001b[1m{\u001b[0m\n",
       "                    \u001b[32m'name'\u001b[0m: \u001b[32m'osb all cases'\u001b[0m,\n",
       "                    \u001b[32m'type'\u001b[0m: \u001b[32m'plaintext'\u001b[0m,\n",
       "                    \u001b[32m'uri'\u001b[0m: \u001b[32m'gs://dmrc-platforms/data/osb/'\u001b[0m,\n",
       "                    \u001b[32m'glob'\u001b[0m: \u001b[32m'*.md'\u001b[0m,\n",
       "                    \u001b[32m'columns'\u001b[0m: \u001b[1m{\u001b[0m\u001b[32m'record_id'\u001b[0m: \u001b[32m'stem'\u001b[0m, \u001b[32m'text'\u001b[0m: \u001b[32m'text'\u001b[0m\u001b[1m}\u001b[0m\n",
       "                \u001b[1m}\u001b[0m,\n",
       "                \u001b[1m{\u001b[0m\n",
       "                    \u001b[32m'name'\u001b[0m: \u001b[32m'synthesise previous runs'\u001b[0m,\n",
       "                    \u001b[32m'type'\u001b[0m: \u001b[32m'job'\u001b[0m,\n",
       "                    \u001b[32m'dataset'\u001b[0m: \u001b[32m'dmrc-analysis.toxicity.flow'\u001b[0m,\n",
       "                    \u001b[32m'max_records_per_group'\u001b[0m: \u001b[1;36m2\u001b[0m,\n",
       "                    \u001b[32m'agg'\u001b[0m: \u001b[3;92mTrue\u001b[0m,\n",
       "                    \u001b[32m'filter'\u001b[0m: \u001b[1m{\u001b[0m\n",
       "                        \u001b[32m'agent_info.flow'\u001b[0m: \u001b[32m'summarise OSB cases'\u001b[0m,\n",
       "                        \u001b[32m'parameters.model'\u001b[0m: \u001b[1m[\u001b[0m\u001b[32m'gpt4o'\u001b[0m, \u001b[32m'sonnet'\u001b[0m, \u001b[32m'gemini15pro'\u001b[0m\u001b[1m]\u001b[0m\n",
       "                    \u001b[1m}\u001b[0m,\n",
       "                    \u001b[32m'join'\u001b[0m: \u001b[1m{\u001b[0m\u001b[32m'record_id'\u001b[0m: \u001b[32m'record.record_id'\u001b[0m\u001b[1m}\u001b[0m,\n",
       "                    \u001b[32m'group'\u001b[0m: \u001b[1m{\u001b[0m\n",
       "                        \u001b[32m'flow'\u001b[0m: \u001b[32m'agent_info.flow'\u001b[0m,\n",
       "                        \u001b[32m'template'\u001b[0m: \u001b[32m'agent_info.template'\u001b[0m,\n",
       "                        \u001b[32m'model'\u001b[0m: \u001b[32m'parameters.model'\u001b[0m\n",
       "                    \u001b[1m}\u001b[0m,\n",
       "                    \u001b[32m'columns'\u001b[0m: \u001b[1m{\u001b[0m\n",
       "                        \u001b[32m'answers'\u001b[0m: \u001b[1m{\u001b[0m\u001b[32m'id'\u001b[0m: \u001b[32m'job_id'\u001b[0m, \u001b[32m'text'\u001b[0m: \u001b[32m'outputs'\u001b[0m\u001b[1m}\u001b[0m,\n",
       "                        \u001b[32m'meta'\u001b[0m: \u001b[1m{\u001b[0m\n",
       "                            \u001b[32m'flow'\u001b[0m: \u001b[32m'agent_info.flow'\u001b[0m,\n",
       "                            \u001b[32m'template'\u001b[0m: \u001b[32m'agent_info.template'\u001b[0m,\n",
       "                            \u001b[32m'agent_info'\u001b[0m: \u001b[32m'agent_info'\u001b[0m,\n",
       "                            \u001b[32m'model'\u001b[0m: \u001b[32m'parameters.model'\u001b[0m,\n",
       "                            \u001b[32m'timestamp'\u001b[0m: \u001b[32m'timestamp'\u001b[0m\n",
       "                        \u001b[1m}\u001b[0m\n",
       "                    \u001b[1m}\u001b[0m\n",
       "                \u001b[1m}\u001b[0m\n",
       "            \u001b[1m]\u001b[0m,\n",
       "            \u001b[32m'save'\u001b[0m: \u001b[1m{\u001b[0m\n",
       "                \u001b[32m'type'\u001b[0m: \u001b[32m'bq'\u001b[0m,\n",
       "                \u001b[32m'dataset'\u001b[0m: \u001b[32m'dmrc-analysis.toxicity.flow'\u001b[0m,\n",
       "                \u001b[32m'schema'\u001b[0m: \u001b[32m'buttermilk/schemas/flow.json'\u001b[0m\n",
       "            \u001b[1m}\u001b[0m\n",
       "        \u001b[1m}\u001b[0m,\n",
       "        \u001b[1m{\u001b[0m\n",
       "            \u001b[32m'name'\u001b[0m: \u001b[32m'export'\u001b[0m,\n",
       "            \u001b[32m'agent'\u001b[0m: \u001b[1m{\u001b[0m\u001b[32m'type'\u001b[0m: \u001b[32m'GSheetExporter'\u001b[0m, \u001b[32m'sheet_name'\u001b[0m: \u001b[32m'OSB summaries'\u001b[0m\u001b[1m}\u001b[0m,\n",
       "            \u001b[32m'save'\u001b[0m: \u001b[1m{\u001b[0m\u001b[32m'type'\u001b[0m: \u001b[32m'gsheets'\u001b[0m, \u001b[32m'destination'\u001b[0m: \u001b[32m'new'\u001b[0m\u001b[1m}\u001b[0m,\n",
       "            \u001b[32m'data'\u001b[0m: \u001b[1m[\u001b[0m\n",
       "                \u001b[1m{\u001b[0m\n",
       "                    \u001b[32m'name'\u001b[0m: \u001b[32m'osb all cases'\u001b[0m,\n",
       "                    \u001b[32m'type'\u001b[0m: \u001b[32m'plaintext'\u001b[0m,\n",
       "                    \u001b[32m'uri'\u001b[0m: \u001b[32m'gs://dmrc-platforms/data/osb/'\u001b[0m,\n",
       "                    \u001b[32m'glob'\u001b[0m: \u001b[32m'*.md'\u001b[0m,\n",
       "                    \u001b[32m'columns'\u001b[0m: \u001b[1m{\u001b[0m\u001b[32m'record_id'\u001b[0m: \u001b[32m'stem'\u001b[0m, \u001b[32m'text'\u001b[0m: \u001b[32m'text'\u001b[0m\u001b[1m}\u001b[0m\n",
       "                \u001b[1m}\u001b[0m,\n",
       "                \u001b[1m{\u001b[0m\n",
       "                    \u001b[32m'name'\u001b[0m: \u001b[32m'eval'\u001b[0m,\n",
       "                    \u001b[32m'type'\u001b[0m: \u001b[32m'job'\u001b[0m,\n",
       "                    \u001b[32m'dataset'\u001b[0m: \u001b[32m'dmrc-analysis.toxicity.flow'\u001b[0m,\n",
       "                    \u001b[32m'max_records_per_group'\u001b[0m: \u001b[1;36m-1\u001b[0m,\n",
       "                    \u001b[32m'filter'\u001b[0m: \u001b[1m{\u001b[0m\u001b[32m'agent_info.flow'\u001b[0m: \u001b[32m'synthesise OSB cases'\u001b[0m\u001b[1m}\u001b[0m,\n",
       "                    \u001b[32m'join'\u001b[0m: \u001b[1m{\u001b[0m\u001b[32m'record_id'\u001b[0m: \u001b[32m'record.record_id'\u001b[0m\u001b[1m}\u001b[0m,\n",
       "                    \u001b[32m'agg'\u001b[0m: \u001b[3;91mFalse\u001b[0m,\n",
       "                    \u001b[32m'group'\u001b[0m: \u001b[1m{\u001b[0m\u001b[32m'id'\u001b[0m: \u001b[32m'job_id'\u001b[0m, \u001b[32m'flow'\u001b[0m: \u001b[32m'agent_info.flow'\u001b[0m\u001b[1m}\u001b[0m,\n",
       "                    \u001b[32m'columns'\u001b[0m: \u001b[1m{\u001b[0m\n",
       "                        \u001b[32m'model'\u001b[0m: \u001b[32m'parameters.model'\u001b[0m,\n",
       "                        \u001b[32m'timestamp'\u001b[0m: \u001b[32m'timestamp'\u001b[0m,\n",
       "                        \u001b[32m'title'\u001b[0m: \u001b[32m'outputs.title'\u001b[0m,\n",
       "                        \u001b[32m'date'\u001b[0m: \u001b[32m'outputs.date'\u001b[0m,\n",
       "                        \u001b[32m'content'\u001b[0m: \u001b[32m'outputs.content'\u001b[0m,\n",
       "                        \u001b[32m'reasons'\u001b[0m: \u001b[32m'outputs.reasons'\u001b[0m,\n",
       "                        \u001b[32m'recommendations'\u001b[0m: \u001b[32m'outputs.recommendations'\u001b[0m,\n",
       "                        \u001b[32m'result'\u001b[0m: \u001b[32m'outputs.result'\u001b[0m,\n",
       "                        \u001b[32m'type'\u001b[0m: \u001b[32m'outputs.type'\u001b[0m,\n",
       "                        \u001b[32m'topics'\u001b[0m: \u001b[32m'outputs.topics'\u001b[0m,\n",
       "                        \u001b[32m'standards'\u001b[0m: \u001b[32m'outputs.standards'\u001b[0m,\n",
       "                        \u001b[32m'location'\u001b[0m: \u001b[32m'outputs.location'\u001b[0m,\n",
       "                        \u001b[32m'outputs'\u001b[0m: \u001b[32m'outputs'\u001b[0m\n",
       "                    \u001b[1m}\u001b[0m\n",
       "                \u001b[1m}\u001b[0m\n",
       "            \u001b[1m]\u001b[0m\n",
       "        \u001b[1m}\u001b[0m\n",
       "    \u001b[1m]\u001b[0m\n",
       "\u001b[1m}\u001b[0m\n"
      ]
     },
     "metadata": {},
     "output_type": "display_data"
    },
    {
     "name": "stderr",
     "output_type": "stream",
     "text": [
      "WARNING: All log messages before absl::InitializeLog() is called are written to STDERR\n",
      "I0000 00:00:1731383786.993424 62927399 fork_posix.cc:77] Other threads are currently calling into gRPC, skipping fork() handlers\n"
     ]
    },
    {
     "name": "stdout",
     "output_type": "stream",
     "text": [
      "\u001b[32m2024-11-12 13:56:27\u001b[0m \u001b[35mJ5HW6L4KT6\u001b[0m \u001b[34mbuttermilk\u001b[0m save.py[ 272] \u001b[1;30mDEBUG\u001b[0m \u001b[32mUploading file gs://dmrc-analysis/runs/automod/export/20241112T0356Z-ensQ-J5HW6L4KT6-suzor/config_fEpFaK.json.\u001b[0m\n"
     ]
    },
    {
     "name": "stderr",
     "output_type": "stream",
     "text": [
      "DEBUG:buttermilk:Uploading file gs://dmrc-analysis/runs/automod/export/20241112T0356Z-ensQ-J5HW6L4KT6-suzor/config_fEpFaK.json.\n"
     ]
    },
    {
     "name": "stdout",
     "output_type": "stream",
     "text": [
      "\u001b[32m2024-11-12 13:56:28\u001b[0m \u001b[35mJ5HW6L4KT6\u001b[0m \u001b[34mbuttermilk\u001b[0m save.py[ 275] \u001b[1;30mDEBUG\u001b[0m \u001b[32mSuccessfully uploaded file gs://dmrc-analysis/runs/automod/export/20241112T0356Z-ensQ-J5HW6L4KT6-suzor/config_fEpFaK.json with 6256 lines written.\u001b[0m\n"
     ]
    },
    {
     "name": "stderr",
     "output_type": "stream",
     "text": [
      "DEBUG:buttermilk:Successfully uploaded file gs://dmrc-analysis/runs/automod/export/20241112T0356Z-ensQ-J5HW6L4KT6-suzor/config_fEpFaK.json with 6256 lines written.\n"
     ]
    }
   ],
   "source": [
    "from buttermilk import BM\n",
    "import os\n",
    "from hydra import initialize, compose\n",
    "from omegaconf import OmegaConf\n",
    "\n",
    "\n",
    "from promptflow.tracing import trace, start_trace\n",
    "from rich import print as rprint\n",
    "\n",
    "os.chdir('../..')\n",
    "print(os.getcwd())\n",
    "\n",
    "# Load config, specifying overrides for our particular job\n",
    "with initialize(version_base=None, config_path=\"./conf\"):\n",
    "    cfg = compose(config_name='config',\n",
    "                  overrides=[\"+flows=summarise_osb\",\"job=export\",])\n",
    "\n",
    "\n",
    "\n",
    "# Load the main ButterMilk singleton instance\n",
    "# This takes care of credentials, save paths, and other defaults\n",
    "bm = BM(cfg=cfg)\n",
    "\n",
    "\n"
   ]
  },
  {
   "cell_type": "code",
   "execution_count": 2,
   "metadata": {},
   "outputs": [
    {
     "name": "stdout",
     "output_type": "stream",
     "text": [
      "\u001b[32m2024-11-12 13:56:30\u001b[0m \u001b[35mJ5HW6L4KT6\u001b[0m \u001b[34mbuttermilk\u001b[0m helpers.py[ 216] \u001b[1;30mDEBUG\u001b[0m \u001b[32mReading BUN-8S1H6EU5.md from gs://dmrc-platforms/data/osb...\u001b[0m\n"
     ]
    },
    {
     "name": "stderr",
     "output_type": "stream",
     "text": [
      "DEBUG:buttermilk:Reading BUN-8S1H6EU5.md from gs://dmrc-platforms/data/osb...\n"
     ]
    },
    {
     "name": "stdout",
     "output_type": "stream",
     "text": [
      "\u001b[32m2024-11-12 13:56:34\u001b[0m \u001b[35mJ5HW6L4KT6\u001b[0m \u001b[34mbuttermilk\u001b[0m helpers.py[ 216] \u001b[1;30mDEBUG\u001b[0m \u001b[32mReading BUN-IH313ZHJ.md from gs://dmrc-platforms/data/osb...\u001b[0m\n"
     ]
    },
    {
     "name": "stderr",
     "output_type": "stream",
     "text": [
      "DEBUG:buttermilk:Reading BUN-IH313ZHJ.md from gs://dmrc-platforms/data/osb...\n"
     ]
    },
    {
     "name": "stdout",
     "output_type": "stream",
     "text": [
      "\u001b[32m2024-11-12 13:56:37\u001b[0m \u001b[35mJ5HW6L4KT6\u001b[0m \u001b[34mbuttermilk\u001b[0m helpers.py[ 216] \u001b[1;30mDEBUG\u001b[0m \u001b[32mReading BUN-QBBLZ8WI.md from gs://dmrc-platforms/data/osb...\u001b[0m\n"
     ]
    },
    {
     "name": "stderr",
     "output_type": "stream",
     "text": [
      "DEBUG:buttermilk:Reading BUN-QBBLZ8WI.md from gs://dmrc-platforms/data/osb...\n"
     ]
    },
    {
     "name": "stdout",
     "output_type": "stream",
     "text": [
      "\u001b[32m2024-11-12 13:56:40\u001b[0m \u001b[35mJ5HW6L4KT6\u001b[0m \u001b[34mbuttermilk\u001b[0m helpers.py[ 216] \u001b[1;30mDEBUG\u001b[0m \u001b[32mReading FB-1RWWJUAT.md from gs://dmrc-platforms/data/osb...\u001b[0m\n"
     ]
    },
    {
     "name": "stderr",
     "output_type": "stream",
     "text": [
      "DEBUG:buttermilk:Reading FB-1RWWJUAT.md from gs://dmrc-platforms/data/osb...\n"
     ]
    },
    {
     "name": "stdout",
     "output_type": "stream",
     "text": [
      "\u001b[32m2024-11-12 13:56:44\u001b[0m \u001b[35mJ5HW6L4KT6\u001b[0m \u001b[34mbuttermilk\u001b[0m helpers.py[ 216] \u001b[1;30mDEBUG\u001b[0m \u001b[32mReading FB-2AHD01LX.md from gs://dmrc-platforms/data/osb...\u001b[0m\n"
     ]
    },
    {
     "name": "stderr",
     "output_type": "stream",
     "text": [
      "DEBUG:buttermilk:Reading FB-2AHD01LX.md from gs://dmrc-platforms/data/osb...\n"
     ]
    },
    {
     "name": "stdout",
     "output_type": "stream",
     "text": [
      "\u001b[32m2024-11-12 13:56:47\u001b[0m \u001b[35mJ5HW6L4KT6\u001b[0m \u001b[34mbuttermilk\u001b[0m helpers.py[ 216] \u001b[1;30mDEBUG\u001b[0m \u001b[32mReading FB-2RDRCAVQ.md from gs://dmrc-platforms/data/osb...\u001b[0m\n"
     ]
    },
    {
     "name": "stderr",
     "output_type": "stream",
     "text": [
      "DEBUG:buttermilk:Reading FB-2RDRCAVQ.md from gs://dmrc-platforms/data/osb...\n"
     ]
    },
    {
     "name": "stdout",
     "output_type": "stream",
     "text": [
      "\u001b[32m2024-11-12 13:56:50\u001b[0m \u001b[35mJ5HW6L4KT6\u001b[0m \u001b[34mbuttermilk\u001b[0m helpers.py[ 216] \u001b[1;30mDEBUG\u001b[0m \u001b[32mReading FB-33NK66FG.md from gs://dmrc-platforms/data/osb...\u001b[0m\n"
     ]
    },
    {
     "name": "stderr",
     "output_type": "stream",
     "text": [
      "DEBUG:buttermilk:Reading FB-33NK66FG.md from gs://dmrc-platforms/data/osb...\n"
     ]
    },
    {
     "name": "stdout",
     "output_type": "stream",
     "text": [
      "\u001b[32m2024-11-12 13:56:52\u001b[0m \u001b[35mJ5HW6L4KT6\u001b[0m \u001b[34mbuttermilk\u001b[0m helpers.py[ 216] \u001b[1;30mDEBUG\u001b[0m \u001b[32mReading FB-4294T386.md from gs://dmrc-platforms/data/osb...\u001b[0m\n"
     ]
    },
    {
     "name": "stderr",
     "output_type": "stream",
     "text": [
      "DEBUG:buttermilk:Reading FB-4294T386.md from gs://dmrc-platforms/data/osb...\n"
     ]
    },
    {
     "name": "stdout",
     "output_type": "stream",
     "text": [
      "\u001b[32m2024-11-12 13:56:54\u001b[0m \u001b[35mJ5HW6L4KT6\u001b[0m \u001b[34mbuttermilk\u001b[0m helpers.py[ 216] \u001b[1;30mDEBUG\u001b[0m \u001b[32mReading FB-515JVE4X.md from gs://dmrc-platforms/data/osb...\u001b[0m\n"
     ]
    },
    {
     "name": "stderr",
     "output_type": "stream",
     "text": [
      "DEBUG:buttermilk:Reading FB-515JVE4X.md from gs://dmrc-platforms/data/osb...\n"
     ]
    },
    {
     "name": "stdout",
     "output_type": "stream",
     "text": [
      "\u001b[32m2024-11-12 13:56:56\u001b[0m \u001b[35mJ5HW6L4KT6\u001b[0m \u001b[34mbuttermilk\u001b[0m helpers.py[ 216] \u001b[1;30mDEBUG\u001b[0m \u001b[32mReading FB-659EAWI8.md from gs://dmrc-platforms/data/osb...\u001b[0m\n"
     ]
    },
    {
     "name": "stderr",
     "output_type": "stream",
     "text": [
      "DEBUG:buttermilk:Reading FB-659EAWI8.md from gs://dmrc-platforms/data/osb...\n"
     ]
    },
    {
     "name": "stdout",
     "output_type": "stream",
     "text": [
      "\u001b[32m2024-11-12 13:56:57\u001b[0m \u001b[35mJ5HW6L4KT6\u001b[0m \u001b[34mbuttermilk\u001b[0m helpers.py[ 216] \u001b[1;30mDEBUG\u001b[0m \u001b[32mReading FB-691QAMHJ.md from gs://dmrc-platforms/data/osb...\u001b[0m\n"
     ]
    },
    {
     "name": "stderr",
     "output_type": "stream",
     "text": [
      "DEBUG:buttermilk:Reading FB-691QAMHJ.md from gs://dmrc-platforms/data/osb...\n"
     ]
    },
    {
     "name": "stdout",
     "output_type": "stream",
     "text": [
      "\u001b[32m2024-11-12 13:57:00\u001b[0m \u001b[35mJ5HW6L4KT6\u001b[0m \u001b[34mbuttermilk\u001b[0m helpers.py[ 216] \u001b[1;30mDEBUG\u001b[0m \u001b[32mReading FB-6OKJPNS3.md from gs://dmrc-platforms/data/osb...\u001b[0m\n"
     ]
    },
    {
     "name": "stderr",
     "output_type": "stream",
     "text": [
      "DEBUG:buttermilk:Reading FB-6OKJPNS3.md from gs://dmrc-platforms/data/osb...\n"
     ]
    },
    {
     "name": "stdout",
     "output_type": "stream",
     "text": [
      "\u001b[32m2024-11-12 13:57:04\u001b[0m \u001b[35mJ5HW6L4KT6\u001b[0m \u001b[34mbuttermilk\u001b[0m helpers.py[ 216] \u001b[1;30mDEBUG\u001b[0m \u001b[32mReading FB-6YHRXHZR.md from gs://dmrc-platforms/data/osb...\u001b[0m\n"
     ]
    },
    {
     "name": "stderr",
     "output_type": "stream",
     "text": [
      "DEBUG:buttermilk:Reading FB-6YHRXHZR.md from gs://dmrc-platforms/data/osb...\n"
     ]
    },
    {
     "name": "stdout",
     "output_type": "stream",
     "text": [
      "\u001b[32m2024-11-12 13:57:08\u001b[0m \u001b[35mJ5HW6L4KT6\u001b[0m \u001b[34mbuttermilk\u001b[0m helpers.py[ 216] \u001b[1;30mDEBUG\u001b[0m \u001b[32mReading FB-79KHZ1P5.md from gs://dmrc-platforms/data/osb...\u001b[0m\n"
     ]
    },
    {
     "name": "stderr",
     "output_type": "stream",
     "text": [
      "DEBUG:buttermilk:Reading FB-79KHZ1P5.md from gs://dmrc-platforms/data/osb...\n"
     ]
    },
    {
     "name": "stdout",
     "output_type": "stream",
     "text": [
      "\u001b[32m2024-11-12 13:57:10\u001b[0m \u001b[35mJ5HW6L4KT6\u001b[0m \u001b[34mbuttermilk\u001b[0m helpers.py[ 216] \u001b[1;30mDEBUG\u001b[0m \u001b[32mReading FB-7UK5F6VG.md from gs://dmrc-platforms/data/osb...\u001b[0m\n"
     ]
    },
    {
     "name": "stderr",
     "output_type": "stream",
     "text": [
      "DEBUG:buttermilk:Reading FB-7UK5F6VG.md from gs://dmrc-platforms/data/osb...\n"
     ]
    },
    {
     "name": "stdout",
     "output_type": "stream",
     "text": [
      "\u001b[32m2024-11-12 13:57:12\u001b[0m \u001b[35mJ5HW6L4KT6\u001b[0m \u001b[34mbuttermilk\u001b[0m helpers.py[ 216] \u001b[1;30mDEBUG\u001b[0m \u001b[32mReading FB-AJTD9P90.md from gs://dmrc-platforms/data/osb...\u001b[0m\n"
     ]
    },
    {
     "name": "stderr",
     "output_type": "stream",
     "text": [
      "DEBUG:buttermilk:Reading FB-AJTD9P90.md from gs://dmrc-platforms/data/osb...\n"
     ]
    },
    {
     "name": "stdout",
     "output_type": "stream",
     "text": [
      "\u001b[32m2024-11-12 13:57:16\u001b[0m \u001b[35mJ5HW6L4KT6\u001b[0m \u001b[34mbuttermilk\u001b[0m helpers.py[ 216] \u001b[1;30mDEBUG\u001b[0m \u001b[32mReading FB-AP0NSBVC.md from gs://dmrc-platforms/data/osb...\u001b[0m\n"
     ]
    },
    {
     "name": "stderr",
     "output_type": "stream",
     "text": [
      "DEBUG:buttermilk:Reading FB-AP0NSBVC.md from gs://dmrc-platforms/data/osb...\n"
     ]
    },
    {
     "name": "stdout",
     "output_type": "stream",
     "text": [
      "\u001b[32m2024-11-12 13:57:17\u001b[0m \u001b[35mJ5HW6L4KT6\u001b[0m \u001b[34mbuttermilk\u001b[0m helpers.py[ 216] \u001b[1;30mDEBUG\u001b[0m \u001b[32mReading FB-B6NGYREK.md from gs://dmrc-platforms/data/osb...\u001b[0m\n"
     ]
    },
    {
     "name": "stderr",
     "output_type": "stream",
     "text": [
      "DEBUG:buttermilk:Reading FB-B6NGYREK.md from gs://dmrc-platforms/data/osb...\n"
     ]
    },
    {
     "name": "stdout",
     "output_type": "stream",
     "text": [
      "\u001b[32m2024-11-12 13:57:19\u001b[0m \u001b[35mJ5HW6L4KT6\u001b[0m \u001b[34mbuttermilk\u001b[0m helpers.py[ 216] \u001b[1;30mDEBUG\u001b[0m \u001b[32mReading FB-BLKZ1ZI8.md from gs://dmrc-platforms/data/osb...\u001b[0m\n"
     ]
    },
    {
     "name": "stderr",
     "output_type": "stream",
     "text": [
      "DEBUG:buttermilk:Reading FB-BLKZ1ZI8.md from gs://dmrc-platforms/data/osb...\n"
     ]
    },
    {
     "name": "stdout",
     "output_type": "stream",
     "text": [
      "\u001b[32m2024-11-12 13:57:20\u001b[0m \u001b[35mJ5HW6L4KT6\u001b[0m \u001b[34mbuttermilk\u001b[0m helpers.py[ 216] \u001b[1;30mDEBUG\u001b[0m \u001b[32mReading FB-CZHY85JC.md from gs://dmrc-platforms/data/osb...\u001b[0m\n"
     ]
    },
    {
     "name": "stderr",
     "output_type": "stream",
     "text": [
      "DEBUG:buttermilk:Reading FB-CZHY85JC.md from gs://dmrc-platforms/data/osb...\n"
     ]
    },
    {
     "name": "stdout",
     "output_type": "stream",
     "text": [
      "\u001b[32m2024-11-12 13:57:22\u001b[0m \u001b[35mJ5HW6L4KT6\u001b[0m \u001b[34mbuttermilk\u001b[0m helpers.py[ 216] \u001b[1;30mDEBUG\u001b[0m \u001b[32mReading FB-E1154YLY.md from gs://dmrc-platforms/data/osb...\u001b[0m\n"
     ]
    },
    {
     "name": "stderr",
     "output_type": "stream",
     "text": [
      "DEBUG:buttermilk:Reading FB-E1154YLY.md from gs://dmrc-platforms/data/osb...\n"
     ]
    },
    {
     "name": "stdout",
     "output_type": "stream",
     "text": [
      "\u001b[32m2024-11-12 13:57:24\u001b[0m \u001b[35mJ5HW6L4KT6\u001b[0m \u001b[34mbuttermilk\u001b[0m helpers.py[ 216] \u001b[1;30mDEBUG\u001b[0m \u001b[32mReading FB-E5M6QZGA.md from gs://dmrc-platforms/data/osb...\u001b[0m\n"
     ]
    },
    {
     "name": "stderr",
     "output_type": "stream",
     "text": [
      "DEBUG:buttermilk:Reading FB-E5M6QZGA.md from gs://dmrc-platforms/data/osb...\n"
     ]
    },
    {
     "name": "stdout",
     "output_type": "stream",
     "text": [
      "\u001b[32m2024-11-12 13:57:25\u001b[0m \u001b[35mJ5HW6L4KT6\u001b[0m \u001b[34mbuttermilk\u001b[0m helpers.py[ 216] \u001b[1;30mDEBUG\u001b[0m \u001b[32mReading FB-GW8BY1Y3.md from gs://dmrc-platforms/data/osb...\u001b[0m\n"
     ]
    },
    {
     "name": "stderr",
     "output_type": "stream",
     "text": [
      "DEBUG:buttermilk:Reading FB-GW8BY1Y3.md from gs://dmrc-platforms/data/osb...\n"
     ]
    },
    {
     "name": "stdout",
     "output_type": "stream",
     "text": [
      "\u001b[32m2024-11-12 13:57:27\u001b[0m \u001b[35mJ5HW6L4KT6\u001b[0m \u001b[34mbuttermilk\u001b[0m helpers.py[ 216] \u001b[1;30mDEBUG\u001b[0m \u001b[32mReading FB-H6OZKDS3.md from gs://dmrc-platforms/data/osb...\u001b[0m\n"
     ]
    },
    {
     "name": "stderr",
     "output_type": "stream",
     "text": [
      "DEBUG:buttermilk:Reading FB-H6OZKDS3.md from gs://dmrc-platforms/data/osb...\n"
     ]
    },
    {
     "name": "stdout",
     "output_type": "stream",
     "text": [
      "\u001b[32m2024-11-12 13:57:28\u001b[0m \u001b[35mJ5HW6L4KT6\u001b[0m \u001b[34mbuttermilk\u001b[0m helpers.py[ 216] \u001b[1;30mDEBUG\u001b[0m \u001b[32mReading FB-HFFVZENH.md from gs://dmrc-platforms/data/osb...\u001b[0m\n"
     ]
    },
    {
     "name": "stderr",
     "output_type": "stream",
     "text": [
      "DEBUG:buttermilk:Reading FB-HFFVZENH.md from gs://dmrc-platforms/data/osb...\n"
     ]
    },
    {
     "name": "stdout",
     "output_type": "stream",
     "text": [
      "\u001b[32m2024-11-12 13:57:30\u001b[0m \u001b[35mJ5HW6L4KT6\u001b[0m \u001b[34mbuttermilk\u001b[0m helpers.py[ 216] \u001b[1;30mDEBUG\u001b[0m \u001b[32mReading FB-I04M3KVF.md from gs://dmrc-platforms/data/osb...\u001b[0m\n"
     ]
    },
    {
     "name": "stderr",
     "output_type": "stream",
     "text": [
      "DEBUG:buttermilk:Reading FB-I04M3KVF.md from gs://dmrc-platforms/data/osb...\n"
     ]
    },
    {
     "name": "stdout",
     "output_type": "stream",
     "text": [
      "\u001b[32m2024-11-12 13:57:31\u001b[0m \u001b[35mJ5HW6L4KT6\u001b[0m \u001b[34mbuttermilk\u001b[0m helpers.py[ 216] \u001b[1;30mDEBUG\u001b[0m \u001b[32mReading FB-I2T6526K.md from gs://dmrc-platforms/data/osb...\u001b[0m\n"
     ]
    },
    {
     "name": "stderr",
     "output_type": "stream",
     "text": [
      "DEBUG:buttermilk:Reading FB-I2T6526K.md from gs://dmrc-platforms/data/osb...\n"
     ]
    },
    {
     "name": "stdout",
     "output_type": "stream",
     "text": [
      "\u001b[32m2024-11-12 13:57:33\u001b[0m \u001b[35mJ5HW6L4KT6\u001b[0m \u001b[34mbuttermilk\u001b[0m helpers.py[ 216] \u001b[1;30mDEBUG\u001b[0m \u001b[32mReading FB-I964KKM6.md from gs://dmrc-platforms/data/osb...\u001b[0m\n"
     ]
    },
    {
     "name": "stderr",
     "output_type": "stream",
     "text": [
      "DEBUG:buttermilk:Reading FB-I964KKM6.md from gs://dmrc-platforms/data/osb...\n"
     ]
    },
    {
     "name": "stdout",
     "output_type": "stream",
     "text": [
      "\u001b[32m2024-11-12 13:57:34\u001b[0m \u001b[35mJ5HW6L4KT6\u001b[0m \u001b[34mbuttermilk\u001b[0m helpers.py[ 216] \u001b[1;30mDEBUG\u001b[0m \u001b[32mReading FB-IULHG7JK.md from gs://dmrc-platforms/data/osb...\u001b[0m\n"
     ]
    },
    {
     "name": "stderr",
     "output_type": "stream",
     "text": [
      "DEBUG:buttermilk:Reading FB-IULHG7JK.md from gs://dmrc-platforms/data/osb...\n"
     ]
    },
    {
     "name": "stdout",
     "output_type": "stream",
     "text": [
      "\u001b[32m2024-11-12 13:57:36\u001b[0m \u001b[35mJ5HW6L4KT6\u001b[0m \u001b[34mbuttermilk\u001b[0m helpers.py[ 216] \u001b[1;30mDEBUG\u001b[0m \u001b[32mReading FB-IZP492PJ.md from gs://dmrc-platforms/data/osb...\u001b[0m\n"
     ]
    },
    {
     "name": "stderr",
     "output_type": "stream",
     "text": [
      "DEBUG:buttermilk:Reading FB-IZP492PJ.md from gs://dmrc-platforms/data/osb...\n"
     ]
    },
    {
     "name": "stdout",
     "output_type": "stream",
     "text": [
      "\u001b[32m2024-11-12 13:57:37\u001b[0m \u001b[35mJ5HW6L4KT6\u001b[0m \u001b[34mbuttermilk\u001b[0m helpers.py[ 216] \u001b[1;30mDEBUG\u001b[0m \u001b[32mReading FB-J5OOP3YZ.md from gs://dmrc-platforms/data/osb...\u001b[0m\n"
     ]
    },
    {
     "name": "stderr",
     "output_type": "stream",
     "text": [
      "DEBUG:buttermilk:Reading FB-J5OOP3YZ.md from gs://dmrc-platforms/data/osb...\n"
     ]
    },
    {
     "name": "stdout",
     "output_type": "stream",
     "text": [
      "\u001b[32m2024-11-12 13:57:39\u001b[0m \u001b[35mJ5HW6L4KT6\u001b[0m \u001b[34mbuttermilk\u001b[0m helpers.py[ 216] \u001b[1;30mDEBUG\u001b[0m \u001b[32mReading FB-JRQ1XP2M.md from gs://dmrc-platforms/data/osb...\u001b[0m\n"
     ]
    },
    {
     "name": "stderr",
     "output_type": "stream",
     "text": [
      "DEBUG:buttermilk:Reading FB-JRQ1XP2M.md from gs://dmrc-platforms/data/osb...\n"
     ]
    },
    {
     "name": "stdout",
     "output_type": "stream",
     "text": [
      "\u001b[32m2024-11-12 13:57:40\u001b[0m \u001b[35mJ5HW6L4KT6\u001b[0m \u001b[34mbuttermilk\u001b[0m helpers.py[ 216] \u001b[1;30mDEBUG\u001b[0m \u001b[32mReading FB-L1LANIA7.md from gs://dmrc-platforms/data/osb...\u001b[0m\n"
     ]
    },
    {
     "name": "stderr",
     "output_type": "stream",
     "text": [
      "DEBUG:buttermilk:Reading FB-L1LANIA7.md from gs://dmrc-platforms/data/osb...\n"
     ]
    },
    {
     "name": "stdout",
     "output_type": "stream",
     "text": [
      "\u001b[32m2024-11-12 13:57:42\u001b[0m \u001b[35mJ5HW6L4KT6\u001b[0m \u001b[34mbuttermilk\u001b[0m helpers.py[ 216] \u001b[1;30mDEBUG\u001b[0m \u001b[32mReading FB-LXNFAD5F.md from gs://dmrc-platforms/data/osb...\u001b[0m\n"
     ]
    },
    {
     "name": "stderr",
     "output_type": "stream",
     "text": [
      "DEBUG:buttermilk:Reading FB-LXNFAD5F.md from gs://dmrc-platforms/data/osb...\n"
     ]
    },
    {
     "name": "stdout",
     "output_type": "stream",
     "text": [
      "\u001b[32m2024-11-12 13:57:43\u001b[0m \u001b[35mJ5HW6L4KT6\u001b[0m \u001b[34mbuttermilk\u001b[0m helpers.py[ 216] \u001b[1;30mDEBUG\u001b[0m \u001b[32mReading FB-M8D2SOGS.md from gs://dmrc-platforms/data/osb...\u001b[0m\n"
     ]
    },
    {
     "name": "stderr",
     "output_type": "stream",
     "text": [
      "DEBUG:buttermilk:Reading FB-M8D2SOGS.md from gs://dmrc-platforms/data/osb...\n"
     ]
    },
    {
     "name": "stdout",
     "output_type": "stream",
     "text": [
      "\u001b[32m2024-11-12 13:57:45\u001b[0m \u001b[35mJ5HW6L4KT6\u001b[0m \u001b[34mbuttermilk\u001b[0m helpers.py[ 216] \u001b[1;30mDEBUG\u001b[0m \u001b[32mReading FB-MBGOTVN8.md from gs://dmrc-platforms/data/osb...\u001b[0m\n"
     ]
    },
    {
     "name": "stderr",
     "output_type": "stream",
     "text": [
      "DEBUG:buttermilk:Reading FB-MBGOTVN8.md from gs://dmrc-platforms/data/osb...\n"
     ]
    },
    {
     "name": "stdout",
     "output_type": "stream",
     "text": [
      "\u001b[32m2024-11-12 13:57:46\u001b[0m \u001b[35mJ5HW6L4KT6\u001b[0m \u001b[34mbuttermilk\u001b[0m helpers.py[ 216] \u001b[1;30mDEBUG\u001b[0m \u001b[32mReading FB-MFADK60O.md from gs://dmrc-platforms/data/osb...\u001b[0m\n"
     ]
    },
    {
     "name": "stderr",
     "output_type": "stream",
     "text": [
      "DEBUG:buttermilk:Reading FB-MFADK60O.md from gs://dmrc-platforms/data/osb...\n"
     ]
    },
    {
     "name": "stdout",
     "output_type": "stream",
     "text": [
      "\u001b[32m2024-11-12 13:57:48\u001b[0m \u001b[35mJ5HW6L4KT6\u001b[0m \u001b[34mbuttermilk\u001b[0m helpers.py[ 216] \u001b[1;30mDEBUG\u001b[0m \u001b[32mReading FB-MP4ZC4CC.md from gs://dmrc-platforms/data/osb...\u001b[0m\n"
     ]
    },
    {
     "name": "stderr",
     "output_type": "stream",
     "text": [
      "DEBUG:buttermilk:Reading FB-MP4ZC4CC.md from gs://dmrc-platforms/data/osb...\n"
     ]
    },
    {
     "name": "stdout",
     "output_type": "stream",
     "text": [
      "\u001b[32m2024-11-12 13:57:50\u001b[0m \u001b[35mJ5HW6L4KT6\u001b[0m \u001b[34mbuttermilk\u001b[0m helpers.py[ 216] \u001b[1;30mDEBUG\u001b[0m \u001b[32mReading FB-ONL5YQVE.md from gs://dmrc-platforms/data/osb...\u001b[0m\n"
     ]
    },
    {
     "name": "stderr",
     "output_type": "stream",
     "text": [
      "DEBUG:buttermilk:Reading FB-ONL5YQVE.md from gs://dmrc-platforms/data/osb...\n"
     ]
    },
    {
     "name": "stdout",
     "output_type": "stream",
     "text": [
      "\u001b[32m2024-11-12 13:57:51\u001b[0m \u001b[35mJ5HW6L4KT6\u001b[0m \u001b[34mbuttermilk\u001b[0m helpers.py[ 216] \u001b[1;30mDEBUG\u001b[0m \u001b[32mReading FB-P93JPX02.md from gs://dmrc-platforms/data/osb...\u001b[0m\n"
     ]
    },
    {
     "name": "stderr",
     "output_type": "stream",
     "text": [
      "DEBUG:buttermilk:Reading FB-P93JPX02.md from gs://dmrc-platforms/data/osb...\n"
     ]
    },
    {
     "name": "stdout",
     "output_type": "stream",
     "text": [
      "\u001b[32m2024-11-12 13:57:53\u001b[0m \u001b[35mJ5HW6L4KT6\u001b[0m \u001b[34mbuttermilk\u001b[0m helpers.py[ 216] \u001b[1;30mDEBUG\u001b[0m \u001b[32mReading FB-P9PR9RSA.md from gs://dmrc-platforms/data/osb...\u001b[0m\n"
     ]
    },
    {
     "name": "stderr",
     "output_type": "stream",
     "text": [
      "DEBUG:buttermilk:Reading FB-P9PR9RSA.md from gs://dmrc-platforms/data/osb...\n"
     ]
    },
    {
     "name": "stdout",
     "output_type": "stream",
     "text": [
      "\u001b[32m2024-11-12 13:57:54\u001b[0m \u001b[35mJ5HW6L4KT6\u001b[0m \u001b[34mbuttermilk\u001b[0m helpers.py[ 216] \u001b[1;30mDEBUG\u001b[0m \u001b[32mReading FB-Q72FD6YL.md from gs://dmrc-platforms/data/osb...\u001b[0m\n"
     ]
    },
    {
     "name": "stderr",
     "output_type": "stream",
     "text": [
      "DEBUG:buttermilk:Reading FB-Q72FD6YL.md from gs://dmrc-platforms/data/osb...\n"
     ]
    },
    {
     "name": "stdout",
     "output_type": "stream",
     "text": [
      "\u001b[32m2024-11-12 13:57:56\u001b[0m \u001b[35mJ5HW6L4KT6\u001b[0m \u001b[34mbuttermilk\u001b[0m helpers.py[ 216] \u001b[1;30mDEBUG\u001b[0m \u001b[32mReading FB-QBJDASCV.md from gs://dmrc-platforms/data/osb...\u001b[0m\n"
     ]
    },
    {
     "name": "stderr",
     "output_type": "stream",
     "text": [
      "DEBUG:buttermilk:Reading FB-QBJDASCV.md from gs://dmrc-platforms/data/osb...\n"
     ]
    },
    {
     "name": "stdout",
     "output_type": "stream",
     "text": [
      "\u001b[32m2024-11-12 13:57:57\u001b[0m \u001b[35mJ5HW6L4KT6\u001b[0m \u001b[34mbuttermilk\u001b[0m helpers.py[ 216] \u001b[1;30mDEBUG\u001b[0m \u001b[32mReading FB-R9K87402.md from gs://dmrc-platforms/data/osb...\u001b[0m\n"
     ]
    },
    {
     "name": "stderr",
     "output_type": "stream",
     "text": [
      "DEBUG:buttermilk:Reading FB-R9K87402.md from gs://dmrc-platforms/data/osb...\n"
     ]
    },
    {
     "name": "stdout",
     "output_type": "stream",
     "text": [
      "\u001b[32m2024-11-12 13:57:59\u001b[0m \u001b[35mJ5HW6L4KT6\u001b[0m \u001b[34mbuttermilk\u001b[0m helpers.py[ 216] \u001b[1;30mDEBUG\u001b[0m \u001b[32mReading FB-RZL57QHJ.md from gs://dmrc-platforms/data/osb...\u001b[0m\n"
     ]
    },
    {
     "name": "stderr",
     "output_type": "stream",
     "text": [
      "DEBUG:buttermilk:Reading FB-RZL57QHJ.md from gs://dmrc-platforms/data/osb...\n"
     ]
    },
    {
     "name": "stdout",
     "output_type": "stream",
     "text": [
      "\u001b[32m2024-11-12 13:58:01\u001b[0m \u001b[35mJ5HW6L4KT6\u001b[0m \u001b[34mbuttermilk\u001b[0m helpers.py[ 216] \u001b[1;30mDEBUG\u001b[0m \u001b[32mReading FB-S6NRTDAJ.md from gs://dmrc-platforms/data/osb...\u001b[0m\n"
     ]
    },
    {
     "name": "stderr",
     "output_type": "stream",
     "text": [
      "DEBUG:buttermilk:Reading FB-S6NRTDAJ.md from gs://dmrc-platforms/data/osb...\n"
     ]
    },
    {
     "name": "stdout",
     "output_type": "stream",
     "text": [
      "\u001b[32m2024-11-12 13:58:02\u001b[0m \u001b[35mJ5HW6L4KT6\u001b[0m \u001b[34mbuttermilk\u001b[0m helpers.py[ 216] \u001b[1;30mDEBUG\u001b[0m \u001b[32mReading FB-SI0CLWAX.md from gs://dmrc-platforms/data/osb...\u001b[0m\n"
     ]
    },
    {
     "name": "stderr",
     "output_type": "stream",
     "text": [
      "DEBUG:buttermilk:Reading FB-SI0CLWAX.md from gs://dmrc-platforms/data/osb...\n"
     ]
    },
    {
     "name": "stdout",
     "output_type": "stream",
     "text": [
      "\u001b[32m2024-11-12 13:58:04\u001b[0m \u001b[35mJ5HW6L4KT6\u001b[0m \u001b[34mbuttermilk\u001b[0m helpers.py[ 216] \u001b[1;30mDEBUG\u001b[0m \u001b[32mReading FB-T8JDDDJV.md from gs://dmrc-platforms/data/osb...\u001b[0m\n"
     ]
    },
    {
     "name": "stderr",
     "output_type": "stream",
     "text": [
      "DEBUG:buttermilk:Reading FB-T8JDDDJV.md from gs://dmrc-platforms/data/osb...\n"
     ]
    },
    {
     "name": "stdout",
     "output_type": "stream",
     "text": [
      "\u001b[32m2024-11-12 13:58:05\u001b[0m \u001b[35mJ5HW6L4KT6\u001b[0m \u001b[34mbuttermilk\u001b[0m helpers.py[ 216] \u001b[1;30mDEBUG\u001b[0m \u001b[32mReading FB-TTXIBH8S.md from gs://dmrc-platforms/data/osb...\u001b[0m\n"
     ]
    },
    {
     "name": "stderr",
     "output_type": "stream",
     "text": [
      "DEBUG:buttermilk:Reading FB-TTXIBH8S.md from gs://dmrc-platforms/data/osb...\n"
     ]
    },
    {
     "name": "stdout",
     "output_type": "stream",
     "text": [
      "\u001b[32m2024-11-12 13:58:07\u001b[0m \u001b[35mJ5HW6L4KT6\u001b[0m \u001b[34mbuttermilk\u001b[0m helpers.py[ 216] \u001b[1;30mDEBUG\u001b[0m \u001b[32mReading FB-TYE2766G.md from gs://dmrc-platforms/data/osb...\u001b[0m\n"
     ]
    },
    {
     "name": "stderr",
     "output_type": "stream",
     "text": [
      "DEBUG:buttermilk:Reading FB-TYE2766G.md from gs://dmrc-platforms/data/osb...\n"
     ]
    },
    {
     "name": "stdout",
     "output_type": "stream",
     "text": [
      "\u001b[32m2024-11-12 13:58:08\u001b[0m \u001b[35mJ5HW6L4KT6\u001b[0m \u001b[34mbuttermilk\u001b[0m helpers.py[ 216] \u001b[1;30mDEBUG\u001b[0m \u001b[32mReading FB-U2HHA647.md from gs://dmrc-platforms/data/osb...\u001b[0m\n"
     ]
    },
    {
     "name": "stderr",
     "output_type": "stream",
     "text": [
      "DEBUG:buttermilk:Reading FB-U2HHA647.md from gs://dmrc-platforms/data/osb...\n"
     ]
    },
    {
     "name": "stdout",
     "output_type": "stream",
     "text": [
      "\u001b[32m2024-11-12 13:58:10\u001b[0m \u001b[35mJ5HW6L4KT6\u001b[0m \u001b[34mbuttermilk\u001b[0m helpers.py[ 216] \u001b[1;30mDEBUG\u001b[0m \u001b[32mReading FB-UK2RUS24.md from gs://dmrc-platforms/data/osb...\u001b[0m\n"
     ]
    },
    {
     "name": "stderr",
     "output_type": "stream",
     "text": [
      "DEBUG:buttermilk:Reading FB-UK2RUS24.md from gs://dmrc-platforms/data/osb...\n"
     ]
    },
    {
     "name": "stdout",
     "output_type": "stream",
     "text": [
      "\u001b[32m2024-11-12 13:58:12\u001b[0m \u001b[35mJ5HW6L4KT6\u001b[0m \u001b[34mbuttermilk\u001b[0m helpers.py[ 216] \u001b[1;30mDEBUG\u001b[0m \u001b[32mReading FB-VJ6FO5UY.md from gs://dmrc-platforms/data/osb...\u001b[0m\n"
     ]
    },
    {
     "name": "stderr",
     "output_type": "stream",
     "text": [
      "DEBUG:buttermilk:Reading FB-VJ6FO5UY.md from gs://dmrc-platforms/data/osb...\n"
     ]
    },
    {
     "name": "stdout",
     "output_type": "stream",
     "text": [
      "\u001b[32m2024-11-12 13:58:13\u001b[0m \u001b[35mJ5HW6L4KT6\u001b[0m \u001b[34mbuttermilk\u001b[0m helpers.py[ 216] \u001b[1;30mDEBUG\u001b[0m \u001b[32mReading FB-XWJQBU9A.md from gs://dmrc-platforms/data/osb...\u001b[0m\n"
     ]
    },
    {
     "name": "stderr",
     "output_type": "stream",
     "text": [
      "DEBUG:buttermilk:Reading FB-XWJQBU9A.md from gs://dmrc-platforms/data/osb...\n"
     ]
    },
    {
     "name": "stdout",
     "output_type": "stream",
     "text": [
      "\u001b[32m2024-11-12 13:58:15\u001b[0m \u001b[35mJ5HW6L4KT6\u001b[0m \u001b[34mbuttermilk\u001b[0m helpers.py[ 216] \u001b[1;30mDEBUG\u001b[0m \u001b[32mReading FB-YLRV35WD.md from gs://dmrc-platforms/data/osb...\u001b[0m\n"
     ]
    },
    {
     "name": "stderr",
     "output_type": "stream",
     "text": [
      "DEBUG:buttermilk:Reading FB-YLRV35WD.md from gs://dmrc-platforms/data/osb...\n"
     ]
    },
    {
     "name": "stdout",
     "output_type": "stream",
     "text": [
      "\u001b[32m2024-11-12 13:58:16\u001b[0m \u001b[35mJ5HW6L4KT6\u001b[0m \u001b[34mbuttermilk\u001b[0m helpers.py[ 216] \u001b[1;30mDEBUG\u001b[0m \u001b[32mReading FB-ZT6AJS4X.md from gs://dmrc-platforms/data/osb...\u001b[0m\n"
     ]
    },
    {
     "name": "stderr",
     "output_type": "stream",
     "text": [
      "DEBUG:buttermilk:Reading FB-ZT6AJS4X.md from gs://dmrc-platforms/data/osb...\n"
     ]
    },
    {
     "name": "stdout",
     "output_type": "stream",
     "text": [
      "\u001b[32m2024-11-12 13:58:18\u001b[0m \u001b[35mJ5HW6L4KT6\u001b[0m \u001b[34mbuttermilk\u001b[0m helpers.py[ 216] \u001b[1;30mDEBUG\u001b[0m \u001b[32mReading FB-ZWQUPZLZ.md from gs://dmrc-platforms/data/osb...\u001b[0m\n"
     ]
    },
    {
     "name": "stderr",
     "output_type": "stream",
     "text": [
      "DEBUG:buttermilk:Reading FB-ZWQUPZLZ.md from gs://dmrc-platforms/data/osb...\n"
     ]
    },
    {
     "name": "stdout",
     "output_type": "stream",
     "text": [
      "\u001b[32m2024-11-12 13:58:19\u001b[0m \u001b[35mJ5HW6L4KT6\u001b[0m \u001b[34mbuttermilk\u001b[0m helpers.py[ 216] \u001b[1;30mDEBUG\u001b[0m \u001b[32mReading IG-0U6FLA5B.md from gs://dmrc-platforms/data/osb...\u001b[0m\n"
     ]
    },
    {
     "name": "stderr",
     "output_type": "stream",
     "text": [
      "DEBUG:buttermilk:Reading IG-0U6FLA5B.md from gs://dmrc-platforms/data/osb...\n"
     ]
    },
    {
     "name": "stdout",
     "output_type": "stream",
     "text": [
      "\u001b[32m2024-11-12 13:58:21\u001b[0m \u001b[35mJ5HW6L4KT6\u001b[0m \u001b[34mbuttermilk\u001b[0m helpers.py[ 216] \u001b[1;30mDEBUG\u001b[0m \u001b[32mReading IG-1BMH3DQ6.md from gs://dmrc-platforms/data/osb...\u001b[0m\n"
     ]
    },
    {
     "name": "stderr",
     "output_type": "stream",
     "text": [
      "DEBUG:buttermilk:Reading IG-1BMH3DQ6.md from gs://dmrc-platforms/data/osb...\n"
     ]
    },
    {
     "name": "stdout",
     "output_type": "stream",
     "text": [
      "\u001b[32m2024-11-12 13:58:23\u001b[0m \u001b[35mJ5HW6L4KT6\u001b[0m \u001b[34mbuttermilk\u001b[0m helpers.py[ 216] \u001b[1;30mDEBUG\u001b[0m \u001b[32mReading IG-24CW5DHI.md from gs://dmrc-platforms/data/osb...\u001b[0m\n"
     ]
    },
    {
     "name": "stderr",
     "output_type": "stream",
     "text": [
      "DEBUG:buttermilk:Reading IG-24CW5DHI.md from gs://dmrc-platforms/data/osb...\n"
     ]
    },
    {
     "name": "stdout",
     "output_type": "stream",
     "text": [
      "\u001b[32m2024-11-12 13:58:24\u001b[0m \u001b[35mJ5HW6L4KT6\u001b[0m \u001b[34mbuttermilk\u001b[0m helpers.py[ 216] \u001b[1;30mDEBUG\u001b[0m \u001b[32mReading IG-2PJ00L4T.md from gs://dmrc-platforms/data/osb...\u001b[0m\n"
     ]
    },
    {
     "name": "stderr",
     "output_type": "stream",
     "text": [
      "DEBUG:buttermilk:Reading IG-2PJ00L4T.md from gs://dmrc-platforms/data/osb...\n"
     ]
    },
    {
     "name": "stdout",
     "output_type": "stream",
     "text": [
      "\u001b[32m2024-11-12 13:58:26\u001b[0m \u001b[35mJ5HW6L4KT6\u001b[0m \u001b[34mbuttermilk\u001b[0m helpers.py[ 216] \u001b[1;30mDEBUG\u001b[0m \u001b[32mReading IG-2R3UEQRR.md from gs://dmrc-platforms/data/osb...\u001b[0m\n"
     ]
    },
    {
     "name": "stderr",
     "output_type": "stream",
     "text": [
      "DEBUG:buttermilk:Reading IG-2R3UEQRR.md from gs://dmrc-platforms/data/osb...\n"
     ]
    },
    {
     "name": "stdout",
     "output_type": "stream",
     "text": [
      "\u001b[32m2024-11-12 13:58:27\u001b[0m \u001b[35mJ5HW6L4KT6\u001b[0m \u001b[34mbuttermilk\u001b[0m helpers.py[ 216] \u001b[1;30mDEBUG\u001b[0m \u001b[32mReading IG-5MC5OJIL.md from gs://dmrc-platforms/data/osb...\u001b[0m\n"
     ]
    },
    {
     "name": "stderr",
     "output_type": "stream",
     "text": [
      "DEBUG:buttermilk:Reading IG-5MC5OJIL.md from gs://dmrc-platforms/data/osb...\n"
     ]
    },
    {
     "name": "stdout",
     "output_type": "stream",
     "text": [
      "\u001b[32m2024-11-12 13:58:28\u001b[0m \u001b[35mJ5HW6L4KT6\u001b[0m \u001b[34mbuttermilk\u001b[0m helpers.py[ 216] \u001b[1;30mDEBUG\u001b[0m \u001b[32mReading IG-7THR3SI1.md from gs://dmrc-platforms/data/osb...\u001b[0m\n"
     ]
    },
    {
     "name": "stderr",
     "output_type": "stream",
     "text": [
      "DEBUG:buttermilk:Reading IG-7THR3SI1.md from gs://dmrc-platforms/data/osb...\n"
     ]
    },
    {
     "name": "stdout",
     "output_type": "stream",
     "text": [
      "\u001b[32m2024-11-12 13:58:30\u001b[0m \u001b[35mJ5HW6L4KT6\u001b[0m \u001b[34mbuttermilk\u001b[0m helpers.py[ 216] \u001b[1;30mDEBUG\u001b[0m \u001b[32mReading IG-FEYWNWI2.md from gs://dmrc-platforms/data/osb...\u001b[0m\n"
     ]
    },
    {
     "name": "stderr",
     "output_type": "stream",
     "text": [
      "DEBUG:buttermilk:Reading IG-FEYWNWI2.md from gs://dmrc-platforms/data/osb...\n"
     ]
    },
    {
     "name": "stdout",
     "output_type": "stream",
     "text": [
      "\u001b[32m2024-11-12 13:58:31\u001b[0m \u001b[35mJ5HW6L4KT6\u001b[0m \u001b[34mbuttermilk\u001b[0m helpers.py[ 216] \u001b[1;30mDEBUG\u001b[0m \u001b[32mReading IG-FZSE6J9C.md from gs://dmrc-platforms/data/osb...\u001b[0m\n"
     ]
    },
    {
     "name": "stderr",
     "output_type": "stream",
     "text": [
      "DEBUG:buttermilk:Reading IG-FZSE6J9C.md from gs://dmrc-platforms/data/osb...\n"
     ]
    },
    {
     "name": "stdout",
     "output_type": "stream",
     "text": [
      "\u001b[32m2024-11-12 13:58:33\u001b[0m \u001b[35mJ5HW6L4KT6\u001b[0m \u001b[34mbuttermilk\u001b[0m helpers.py[ 216] \u001b[1;30mDEBUG\u001b[0m \u001b[32mReading IG-H3138H6S.md from gs://dmrc-platforms/data/osb...\u001b[0m\n"
     ]
    },
    {
     "name": "stderr",
     "output_type": "stream",
     "text": [
      "DEBUG:buttermilk:Reading IG-H3138H6S.md from gs://dmrc-platforms/data/osb...\n"
     ]
    },
    {
     "name": "stdout",
     "output_type": "stream",
     "text": [
      "\u001b[32m2024-11-12 13:58:34\u001b[0m \u001b[35mJ5HW6L4KT6\u001b[0m \u001b[34mbuttermilk\u001b[0m helpers.py[ 216] \u001b[1;30mDEBUG\u001b[0m \u001b[32mReading IG-I9DP23IB.md from gs://dmrc-platforms/data/osb...\u001b[0m\n"
     ]
    },
    {
     "name": "stderr",
     "output_type": "stream",
     "text": [
      "DEBUG:buttermilk:Reading IG-I9DP23IB.md from gs://dmrc-platforms/data/osb...\n"
     ]
    },
    {
     "name": "stdout",
     "output_type": "stream",
     "text": [
      "\u001b[32m2024-11-12 13:58:36\u001b[0m \u001b[35mJ5HW6L4KT6\u001b[0m \u001b[34mbuttermilk\u001b[0m helpers.py[ 216] \u001b[1;30mDEBUG\u001b[0m \u001b[32mReading IG-KFLY3526.md from gs://dmrc-platforms/data/osb...\u001b[0m\n"
     ]
    },
    {
     "name": "stderr",
     "output_type": "stream",
     "text": [
      "DEBUG:buttermilk:Reading IG-KFLY3526.md from gs://dmrc-platforms/data/osb...\n"
     ]
    },
    {
     "name": "stdout",
     "output_type": "stream",
     "text": [
      "\u001b[32m2024-11-12 13:58:38\u001b[0m \u001b[35mJ5HW6L4KT6\u001b[0m \u001b[34mbuttermilk\u001b[0m helpers.py[ 216] \u001b[1;30mDEBUG\u001b[0m \u001b[32mReading IG-OZNR5J1Z.md from gs://dmrc-platforms/data/osb...\u001b[0m\n"
     ]
    },
    {
     "name": "stderr",
     "output_type": "stream",
     "text": [
      "DEBUG:buttermilk:Reading IG-OZNR5J1Z.md from gs://dmrc-platforms/data/osb...\n"
     ]
    },
    {
     "name": "stdout",
     "output_type": "stream",
     "text": [
      "\u001b[32m2024-11-12 13:58:41\u001b[0m \u001b[35mJ5HW6L4KT6\u001b[0m \u001b[34mbuttermilk\u001b[0m helpers.py[ 216] \u001b[1;30mDEBUG\u001b[0m \u001b[32mReading IG-PT5WRTLW.md from gs://dmrc-platforms/data/osb...\u001b[0m\n"
     ]
    },
    {
     "name": "stderr",
     "output_type": "stream",
     "text": [
      "DEBUG:buttermilk:Reading IG-PT5WRTLW.md from gs://dmrc-platforms/data/osb...\n"
     ]
    },
    {
     "name": "stdout",
     "output_type": "stream",
     "text": [
      "\u001b[32m2024-11-12 13:58:44\u001b[0m \u001b[35mJ5HW6L4KT6\u001b[0m \u001b[34mbuttermilk\u001b[0m helpers.py[ 216] \u001b[1;30mDEBUG\u001b[0m \u001b[32mReading IG-RH16OBG3.md from gs://dmrc-platforms/data/osb...\u001b[0m\n"
     ]
    },
    {
     "name": "stderr",
     "output_type": "stream",
     "text": [
      "DEBUG:buttermilk:Reading IG-RH16OBG3.md from gs://dmrc-platforms/data/osb...\n"
     ]
    },
    {
     "name": "stdout",
     "output_type": "stream",
     "text": [
      "\u001b[32m2024-11-12 13:58:46\u001b[0m \u001b[35mJ5HW6L4KT6\u001b[0m \u001b[34mbuttermilk\u001b[0m helpers.py[ 216] \u001b[1;30mDEBUG\u001b[0m \u001b[32mReading IG-TOM6IXVH.md from gs://dmrc-platforms/data/osb...\u001b[0m\n"
     ]
    },
    {
     "name": "stderr",
     "output_type": "stream",
     "text": [
      "DEBUG:buttermilk:Reading IG-TOM6IXVH.md from gs://dmrc-platforms/data/osb...\n"
     ]
    },
    {
     "name": "stdout",
     "output_type": "stream",
     "text": [
      "\u001b[32m2024-11-12 13:58:48\u001b[0m \u001b[35mJ5HW6L4KT6\u001b[0m \u001b[34mbuttermilk\u001b[0m helpers.py[ 216] \u001b[1;30mDEBUG\u001b[0m \u001b[32mReading IG-WUC3649N.md from gs://dmrc-platforms/data/osb...\u001b[0m\n"
     ]
    },
    {
     "name": "stderr",
     "output_type": "stream",
     "text": [
      "DEBUG:buttermilk:Reading IG-WUC3649N.md from gs://dmrc-platforms/data/osb...\n"
     ]
    },
    {
     "name": "stdout",
     "output_type": "stream",
     "text": [
      "\u001b[32m2024-11-12 13:58:51\u001b[0m \u001b[35mJ5HW6L4KT6\u001b[0m \u001b[34mbuttermilk\u001b[0m helpers.py[ 216] \u001b[1;30mDEBUG\u001b[0m \u001b[32mReading IG-ZJ7J6D28.md from gs://dmrc-platforms/data/osb...\u001b[0m\n"
     ]
    },
    {
     "name": "stderr",
     "output_type": "stream",
     "text": [
      "DEBUG:buttermilk:Reading IG-ZJ7J6D28.md from gs://dmrc-platforms/data/osb...\n"
     ]
    },
    {
     "name": "stdout",
     "output_type": "stream",
     "text": [
      "\u001b[32m2024-11-12 13:58:55\u001b[0m \u001b[35mJ5HW6L4KT6\u001b[0m \u001b[34mbuttermilk\u001b[0m helpers.py[ 216] \u001b[1;30mDEBUG\u001b[0m \u001b[32mReading PAO-2021-01.md from gs://dmrc-platforms/data/osb...\u001b[0m\n"
     ]
    },
    {
     "name": "stderr",
     "output_type": "stream",
     "text": [
      "DEBUG:buttermilk:Reading PAO-2021-01.md from gs://dmrc-platforms/data/osb...\n"
     ]
    },
    {
     "name": "stdout",
     "output_type": "stream",
     "text": [
      "\u001b[32m2024-11-12 13:59:02\u001b[0m \u001b[35mJ5HW6L4KT6\u001b[0m \u001b[34mbuttermilk\u001b[0m buttermilk.py[ 312] \u001b[1;30mINFO\u001b[0m Query stats: Ran in 0:00:02.818682 seconds, cache hit: None, billed None, approx cost $unknown.\n"
     ]
    },
    {
     "name": "stderr",
     "output_type": "stream",
     "text": [
      "INFO:buttermilk:Query stats: Ran in 0:00:02.818682 seconds, cache hit: None, billed None, approx cost $unknown.\n"
     ]
    },
    {
     "data": {
      "text/html": [
       "<div>\n",
       "<style scoped>\n",
       "    .dataframe tbody tr th:only-of-type {\n",
       "        vertical-align: middle;\n",
       "    }\n",
       "\n",
       "    .dataframe tbody tr th {\n",
       "        vertical-align: top;\n",
       "    }\n",
       "\n",
       "    .dataframe thead th {\n",
       "        text-align: right;\n",
       "    }\n",
       "</style>\n",
       "<table border=\"1\" class=\"dataframe\">\n",
       "  <thead>\n",
       "    <tr style=\"text-align: right;\">\n",
       "      <th></th>\n",
       "      <th>record_id</th>\n",
       "      <th>text</th>\n",
       "      <th>model</th>\n",
       "      <th>timestamp</th>\n",
       "      <th>title</th>\n",
       "      <th>date</th>\n",
       "      <th>content</th>\n",
       "      <th>reasons</th>\n",
       "      <th>recommendations</th>\n",
       "      <th>result</th>\n",
       "      <th>type</th>\n",
       "      <th>topics</th>\n",
       "      <th>standards</th>\n",
       "      <th>location</th>\n",
       "      <th>outputs</th>\n",
       "    </tr>\n",
       "  </thead>\n",
       "  <tbody>\n",
       "    <tr>\n",
       "      <th>14</th>\n",
       "      <td>FB-7UK5F6VG</td>\n",
       "      <td>{\"result\": \"upheld\", \"title\": \"Karachi Mayoral...</td>\n",
       "      <td>sonnet</td>\n",
       "      <td>2024-11-12 02:07:27.221212+00:00</td>\n",
       "      <td>Karachi Mayoral Election Comment</td>\n",
       "      <td>2023-06-01</td>\n",
       "      <td>A user commented on a photo of Karachi politic...</td>\n",
       "      <td>[The Dangerous Organizations and Individuals p...</td>\n",
       "      <td>[Evaluate automated moderation processes to re...</td>\n",
       "      <td>leave up</td>\n",
       "      <td>summary</td>\n",
       "      <td>[elections, freedom of expression, politics, j...</td>\n",
       "      <td>[Dangerous Organizations and Individuals Policy]</td>\n",
       "      <td>Pakistan</td>\n",
       "      <td>{'content': 'A user commented on a photo of Ka...</td>\n",
       "    </tr>\n",
       "    <tr>\n",
       "      <th>8</th>\n",
       "      <td>FB-515JVE4X</td>\n",
       "      <td>{\"result\": \"upheld\", \"title\": \"Communal Violen...</td>\n",
       "      <td>sonnet</td>\n",
       "      <td>2024-11-12 02:07:25.870706+00:00</td>\n",
       "      <td>Communal Violence in Indian State of Odisha</td>\n",
       "      <td>2023-04-13</td>\n",
       "      <td>A Facebook user posted a video showing a relig...</td>\n",
       "      <td>[The Violence and Incitement Community Standar...</td>\n",
       "      <td>[Ensure the Violence and Incitement Community ...</td>\n",
       "      <td>takedown</td>\n",
       "      <td>standard</td>\n",
       "      <td>[violence, religion, communal violence, hate s...</td>\n",
       "      <td>[Violence and Incitement Community Standard]</td>\n",
       "      <td>India</td>\n",
       "      <td>{'content': 'A Facebook user posted a video sh...</td>\n",
       "    </tr>\n",
       "    <tr>\n",
       "      <th>75</th>\n",
       "      <td>PAO-2021-01</td>\n",
       "      <td>Published\\n\\n# Sharing private residential inf...</td>\n",
       "      <td>gpt4o</td>\n",
       "      <td>2024-11-12 02:07:16.183222+00:00</td>\n",
       "      <td>Sharing private residential information</td>\n",
       "      <td>2023-10-20</td>\n",
       "      <td>The Board issued a policy advisory opinion rec...</td>\n",
       "      <td>[Under the current Privacy Violations Communit...</td>\n",
       "      <td>[Remove the exception for sharing private resi...</td>\n",
       "      <td>policy advisory</td>\n",
       "      <td>policy advisory</td>\n",
       "      <td>[Journalism, Marginalized communities, Privacy...</td>\n",
       "      <td>[Privacy Violations Community Standard]</td>\n",
       "      <td>Global</td>\n",
       "      <td>{'content': 'The Board issued a policy advisor...</td>\n",
       "    </tr>\n",
       "    <tr>\n",
       "      <th>9</th>\n",
       "      <td>FB-659EAWI8</td>\n",
       "      <td>{\"result\": \"upheld\", \"title\": \"Brazilian gener...</td>\n",
       "      <td>gpt4o</td>\n",
       "      <td>2024-11-12 02:06:59.861986+00:00</td>\n",
       "      <td>Brazilian general's speech</td>\n",
       "      <td>2023-01-03</td>\n",
       "      <td>A Facebook video featured a Brazilian general ...</td>\n",
       "      <td>[Tier 3 of the Violence and Incitement Communi...</td>\n",
       "      <td>[Develop a framework for evaluating election i...</td>\n",
       "      <td>takedown</td>\n",
       "      <td>standard</td>\n",
       "      <td>[elections, governments, protests, incitement,...</td>\n",
       "      <td>[Violence and Incitement Community Standard]</td>\n",
       "      <td>Brazil</td>\n",
       "      <td>{'content': 'A Facebook video featured a Brazi...</td>\n",
       "    </tr>\n",
       "    <tr>\n",
       "      <th>24</th>\n",
       "      <td>FB-HFFVZENH</td>\n",
       "      <td>{\"result\": \"upheld\", \"title\": \"Girls' Educatio...</td>\n",
       "      <td>sonnet</td>\n",
       "      <td>2024-11-12 02:08:05.725226+00:00</td>\n",
       "      <td>Girls' Education in Afghanistan</td>\n",
       "      <td>2023-07</td>\n",
       "      <td>A user posted text in Pashto discussing the im...</td>\n",
       "      <td>[The Dangerous Organizations and Individuals p...</td>\n",
       "      <td>[Add criteria and illustrative examples to the...</td>\n",
       "      <td>leave up</td>\n",
       "      <td>summary</td>\n",
       "      <td>[Children's rights, Education, Women's rights,...</td>\n",
       "      <td>[Dangerous Organizations and Individuals]</td>\n",
       "      <td>Afghanistan</td>\n",
       "      <td>{'content': 'A user posted text in Pashto disc...</td>\n",
       "    </tr>\n",
       "    <tr>\n",
       "      <th>...</th>\n",
       "      <td>...</td>\n",
       "      <td>...</td>\n",
       "      <td>...</td>\n",
       "      <td>...</td>\n",
       "      <td>...</td>\n",
       "      <td>...</td>\n",
       "      <td>...</td>\n",
       "      <td>...</td>\n",
       "      <td>...</td>\n",
       "      <td>...</td>\n",
       "      <td>...</td>\n",
       "      <td>...</td>\n",
       "      <td>...</td>\n",
       "      <td>...</td>\n",
       "      <td>...</td>\n",
       "    </tr>\n",
       "    <tr>\n",
       "      <th>10</th>\n",
       "      <td>FB-691QAMHJ</td>\n",
       "      <td>{\"result\": \"upheld\", \"title\": \"Former Presiden...</td>\n",
       "      <td>gpt4o</td>\n",
       "      <td>2024-11-12 02:06:57.050479+00:00</td>\n",
       "      <td>Former President Trump's suspension</td>\n",
       "      <td>2021-01-07</td>\n",
       "      <td>On January 6, 2021, during the counting of the...</td>\n",
       "      <td>[The Dangerous Individuals and Organizations p...</td>\n",
       "      <td>[Develop clear, necessary, and proportionate p...</td>\n",
       "      <td>takedown</td>\n",
       "      <td>standard</td>\n",
       "      <td>[Freedom of expression, Politics, Safety]</td>\n",
       "      <td>[Dangerous Individuals and Organizations Commu...</td>\n",
       "      <td>United States</td>\n",
       "      <td>{'content': 'On January 6, 2021, during the co...</td>\n",
       "    </tr>\n",
       "    <tr>\n",
       "      <th>60</th>\n",
       "      <td>IG-2PJ00L4T</td>\n",
       "      <td>{\"result\": \"upheld\", \"title\": \"Reclaiming Arab...</td>\n",
       "      <td>gpt4o</td>\n",
       "      <td>2024-11-12 02:07:19.213830+00:00</td>\n",
       "      <td>Reclaiming Arabic words</td>\n",
       "      <td>2021-11-17</td>\n",
       "      <td>An Instagram post featured images of Arabic wo...</td>\n",
       "      <td>[Tier 3 of the Hate Speech Community Standard ...</td>\n",
       "      <td>[Translate Meta's Internal Implementation Stan...</td>\n",
       "      <td>leave up</td>\n",
       "      <td>standard</td>\n",
       "      <td>[LGBT, Marginalized communities, Sex and gende...</td>\n",
       "      <td>[Hate Speech Community Standard]</td>\n",
       "      <td>Egypt, Lebanon, Morocco</td>\n",
       "      <td>{'content': 'An Instagram post featured images...</td>\n",
       "    </tr>\n",
       "    <tr>\n",
       "      <th>39</th>\n",
       "      <td>FB-P93JPX02</td>\n",
       "      <td>{\"result\": \"upheld\", \"title\": \"Shared Al Jazee...</td>\n",
       "      <td>gpt4o</td>\n",
       "      <td>2024-11-12 02:06:56.061048+00:00</td>\n",
       "      <td>Shared Al Jazeera post</td>\n",
       "      <td>2021-05-10</td>\n",
       "      <td>A user in Egypt with over 15,000 followers sha...</td>\n",
       "      <td>[The Dangerous Individuals and Organizations p...</td>\n",
       "      <td>[Add criteria and illustrative examples to the...</td>\n",
       "      <td>leave up</td>\n",
       "      <td>standard</td>\n",
       "      <td>[Journalism, News reporting, Armed conflict, T...</td>\n",
       "      <td>[Dangerous Individuals and Organizations]</td>\n",
       "      <td>Egypt</td>\n",
       "      <td>{'content': 'A user in Egypt with over 15,000 ...</td>\n",
       "    </tr>\n",
       "    <tr>\n",
       "      <th>66</th>\n",
       "      <td>IG-H3138H6S</td>\n",
       "      <td>{\"result\": \"upheld\", \"title\": \"Violence agains...</td>\n",
       "      <td>gpt4o</td>\n",
       "      <td>2024-11-12 02:07:00.228930+00:00</td>\n",
       "      <td>Violence against women</td>\n",
       "      <td>2023-03-09</td>\n",
       "      <td>Two Instagram posts condemned gender-based vio...</td>\n",
       "      <td>[Tier 1 of the Hate Speech Community Standard ...</td>\n",
       "      <td>[Meta should explicitly include an exception i...</td>\n",
       "      <td>leave up</td>\n",
       "      <td>standard</td>\n",
       "      <td>[Freedom of expression, Sex and gender equalit...</td>\n",
       "      <td>[Hate speech, Hate Speech Community Standard, ...</td>\n",
       "      <td>Sweden</td>\n",
       "      <td>{'content': 'Two Instagram posts condemned gen...</td>\n",
       "    </tr>\n",
       "    <tr>\n",
       "      <th>21</th>\n",
       "      <td>FB-E5M6QZGA</td>\n",
       "      <td>{\"result\": \"upheld\", \"title\": \"Colombia protes...</td>\n",
       "      <td>sonnet</td>\n",
       "      <td>2024-11-12 02:07:53.616620+00:00</td>\n",
       "      <td>Colombia protests</td>\n",
       "      <td>2021-05</td>\n",
       "      <td>A regional news outlet shared a 22-second vide...</td>\n",
       "      <td>[The Hate Speech Community Standard prohibits ...</td>\n",
       "      <td>[Publish illustrative examples of prohibited s...</td>\n",
       "      <td>leave up</td>\n",
       "      <td>standard</td>\n",
       "      <td>[Hate Speech, Protests, Political Expression, ...</td>\n",
       "      <td>[Hate Speech Community Standard, Newsworthines...</td>\n",
       "      <td>Colombia</td>\n",
       "      <td>{'content': 'A regional news outlet shared a 2...</td>\n",
       "    </tr>\n",
       "  </tbody>\n",
       "</table>\n",
       "<p>154 rows × 15 columns</p>\n",
       "</div>"
      ],
      "text/plain": [
       "      record_id                                               text   model  \\\n",
       "14  FB-7UK5F6VG  {\"result\": \"upheld\", \"title\": \"Karachi Mayoral...  sonnet   \n",
       "8   FB-515JVE4X  {\"result\": \"upheld\", \"title\": \"Communal Violen...  sonnet   \n",
       "75  PAO-2021-01  Published\\n\\n# Sharing private residential inf...   gpt4o   \n",
       "9   FB-659EAWI8  {\"result\": \"upheld\", \"title\": \"Brazilian gener...   gpt4o   \n",
       "24  FB-HFFVZENH  {\"result\": \"upheld\", \"title\": \"Girls' Educatio...  sonnet   \n",
       "..          ...                                                ...     ...   \n",
       "10  FB-691QAMHJ  {\"result\": \"upheld\", \"title\": \"Former Presiden...   gpt4o   \n",
       "60  IG-2PJ00L4T  {\"result\": \"upheld\", \"title\": \"Reclaiming Arab...   gpt4o   \n",
       "39  FB-P93JPX02  {\"result\": \"upheld\", \"title\": \"Shared Al Jazee...   gpt4o   \n",
       "66  IG-H3138H6S  {\"result\": \"upheld\", \"title\": \"Violence agains...   gpt4o   \n",
       "21  FB-E5M6QZGA  {\"result\": \"upheld\", \"title\": \"Colombia protes...  sonnet   \n",
       "\n",
       "                          timestamp  \\\n",
       "14 2024-11-12 02:07:27.221212+00:00   \n",
       "8  2024-11-12 02:07:25.870706+00:00   \n",
       "75 2024-11-12 02:07:16.183222+00:00   \n",
       "9  2024-11-12 02:06:59.861986+00:00   \n",
       "24 2024-11-12 02:08:05.725226+00:00   \n",
       "..                              ...   \n",
       "10 2024-11-12 02:06:57.050479+00:00   \n",
       "60 2024-11-12 02:07:19.213830+00:00   \n",
       "39 2024-11-12 02:06:56.061048+00:00   \n",
       "66 2024-11-12 02:07:00.228930+00:00   \n",
       "21 2024-11-12 02:07:53.616620+00:00   \n",
       "\n",
       "                                          title        date  \\\n",
       "14             Karachi Mayoral Election Comment  2023-06-01   \n",
       "8   Communal Violence in Indian State of Odisha  2023-04-13   \n",
       "75      Sharing private residential information  2023-10-20   \n",
       "9                    Brazilian general's speech  2023-01-03   \n",
       "24              Girls' Education in Afghanistan     2023-07   \n",
       "..                                          ...         ...   \n",
       "10          Former President Trump's suspension  2021-01-07   \n",
       "60                      Reclaiming Arabic words  2021-11-17   \n",
       "39                       Shared Al Jazeera post  2021-05-10   \n",
       "66                       Violence against women  2023-03-09   \n",
       "21                            Colombia protests     2021-05   \n",
       "\n",
       "                                              content  \\\n",
       "14  A user commented on a photo of Karachi politic...   \n",
       "8   A Facebook user posted a video showing a relig...   \n",
       "75  The Board issued a policy advisory opinion rec...   \n",
       "9   A Facebook video featured a Brazilian general ...   \n",
       "24  A user posted text in Pashto discussing the im...   \n",
       "..                                                ...   \n",
       "10  On January 6, 2021, during the counting of the...   \n",
       "60  An Instagram post featured images of Arabic wo...   \n",
       "39  A user in Egypt with over 15,000 followers sha...   \n",
       "66  Two Instagram posts condemned gender-based vio...   \n",
       "21  A regional news outlet shared a 22-second vide...   \n",
       "\n",
       "                                              reasons  \\\n",
       "14  [The Dangerous Organizations and Individuals p...   \n",
       "8   [The Violence and Incitement Community Standar...   \n",
       "75  [Under the current Privacy Violations Communit...   \n",
       "9   [Tier 3 of the Violence and Incitement Communi...   \n",
       "24  [The Dangerous Organizations and Individuals p...   \n",
       "..                                                ...   \n",
       "10  [The Dangerous Individuals and Organizations p...   \n",
       "60  [Tier 3 of the Hate Speech Community Standard ...   \n",
       "39  [The Dangerous Individuals and Organizations p...   \n",
       "66  [Tier 1 of the Hate Speech Community Standard ...   \n",
       "21  [The Hate Speech Community Standard prohibits ...   \n",
       "\n",
       "                                      recommendations           result  \\\n",
       "14  [Evaluate automated moderation processes to re...         leave up   \n",
       "8   [Ensure the Violence and Incitement Community ...         takedown   \n",
       "75  [Remove the exception for sharing private resi...  policy advisory   \n",
       "9   [Develop a framework for evaluating election i...         takedown   \n",
       "24  [Add criteria and illustrative examples to the...         leave up   \n",
       "..                                                ...              ...   \n",
       "10  [Develop clear, necessary, and proportionate p...         takedown   \n",
       "60  [Translate Meta's Internal Implementation Stan...         leave up   \n",
       "39  [Add criteria and illustrative examples to the...         leave up   \n",
       "66  [Meta should explicitly include an exception i...         leave up   \n",
       "21  [Publish illustrative examples of prohibited s...         leave up   \n",
       "\n",
       "               type                                             topics  \\\n",
       "14          summary  [elections, freedom of expression, politics, j...   \n",
       "8          standard  [violence, religion, communal violence, hate s...   \n",
       "75  policy advisory  [Journalism, Marginalized communities, Privacy...   \n",
       "9          standard  [elections, governments, protests, incitement,...   \n",
       "24          summary  [Children's rights, Education, Women's rights,...   \n",
       "..              ...                                                ...   \n",
       "10         standard          [Freedom of expression, Politics, Safety]   \n",
       "60         standard  [LGBT, Marginalized communities, Sex and gende...   \n",
       "39         standard  [Journalism, News reporting, Armed conflict, T...   \n",
       "66         standard  [Freedom of expression, Sex and gender equalit...   \n",
       "21         standard  [Hate Speech, Protests, Political Expression, ...   \n",
       "\n",
       "                                            standards  \\\n",
       "14   [Dangerous Organizations and Individuals Policy]   \n",
       "8        [Violence and Incitement Community Standard]   \n",
       "75            [Privacy Violations Community Standard]   \n",
       "9        [Violence and Incitement Community Standard]   \n",
       "24          [Dangerous Organizations and Individuals]   \n",
       "..                                                ...   \n",
       "10  [Dangerous Individuals and Organizations Commu...   \n",
       "60                   [Hate Speech Community Standard]   \n",
       "39          [Dangerous Individuals and Organizations]   \n",
       "66  [Hate speech, Hate Speech Community Standard, ...   \n",
       "21  [Hate Speech Community Standard, Newsworthines...   \n",
       "\n",
       "                   location                                            outputs  \n",
       "14                 Pakistan  {'content': 'A user commented on a photo of Ka...  \n",
       "8                     India  {'content': 'A Facebook user posted a video sh...  \n",
       "75                   Global  {'content': 'The Board issued a policy advisor...  \n",
       "9                    Brazil  {'content': 'A Facebook video featured a Brazi...  \n",
       "24              Afghanistan  {'content': 'A user posted text in Pashto disc...  \n",
       "..                      ...                                                ...  \n",
       "10            United States  {'content': 'On January 6, 2021, during the co...  \n",
       "60  Egypt, Lebanon, Morocco  {'content': 'An Instagram post featured images...  \n",
       "39                    Egypt  {'content': 'A user in Egypt with over 15,000 ...  \n",
       "66                   Sweden  {'content': 'Two Instagram posts condemned gen...  \n",
       "21                 Colombia  {'content': 'A regional news outlet shared a 2...  \n",
       "\n",
       "[154 rows x 15 columns]"
      ]
     },
     "execution_count": 2,
     "metadata": {},
     "output_type": "execute_result"
    }
   ],
   "source": [
    "from buttermilk.runner.helpers import load_data\n",
    "from buttermilk.utils.gsheet import GSheet\n",
    "\n",
    "from buttermilk.runner.orchestrator import MultiFlowOrchestrator\n",
    "orchestrator = MultiFlowOrchestrator(flow=cfg.flows[2], source=\"notebook\")\n",
    "\n",
    "await orchestrator.prepare_data()\n",
    "\n",
    "df = orchestrator._dataset\n",
    "df\n"
   ]
  },
  {
   "cell_type": "code",
   "execution_count": 3,
   "metadata": {},
   "outputs": [
    {
     "name": "stdout",
     "output_type": "stream",
     "text": [
      "<class 'pandas.core.frame.DataFrame'>\n",
      "Index: 154 entries, 14 to 21\n",
      "Data columns (total 15 columns):\n",
      " #   Column           Non-Null Count  Dtype              \n",
      "---  ------           --------------  -----              \n",
      " 0   record_id        154 non-null    object             \n",
      " 1   text             154 non-null    object             \n",
      " 2   model            154 non-null    object             \n",
      " 3   timestamp        154 non-null    datetime64[us, UTC]\n",
      " 4   title            154 non-null    object             \n",
      " 5   date             152 non-null    object             \n",
      " 6   content          154 non-null    object             \n",
      " 7   reasons          154 non-null    object             \n",
      " 8   recommendations  154 non-null    object             \n",
      " 9   result           154 non-null    object             \n",
      " 10  type             154 non-null    object             \n",
      " 11  topics           154 non-null    object             \n",
      " 12  standards        154 non-null    object             \n",
      " 13  location         154 non-null    object             \n",
      " 14  outputs          154 non-null    object             \n",
      "dtypes: datetime64[us, UTC](1), object(14)\n",
      "memory usage: 19.2+ KB\n"
     ]
    }
   ],
   "source": [
    "# save the input data from this step to a spreadsheet so that we can compare later.\n",
    "from buttermilk.utils.gsheet import GSheet, format_strings\n",
    "\n",
    "answers = format_strings(orchestrator._dataset, convert_json_columns=['outputs'])\n",
    "answers.info()\n",
    "\n"
   ]
  },
  {
   "cell_type": "code",
   "execution_count": 4,
   "metadata": {},
   "outputs": [
    {
     "name": "stdout",
     "output_type": "stream",
     "text": [
      "\u001b[32m2024-11-12 13:59:18\u001b[0m \u001b[35mJ5HW6L4KT6\u001b[0m \u001b[34mbuttermilk\u001b[0m gsheet.py[ 118] \u001b[1;30mINFO\u001b[0m Saved to https://docs.google.com/spreadsheets/d/1bt2PZwMK8GfQJUnquGaHbzOnzkCmMsDMqUJnR0502-c\n"
     ]
    },
    {
     "name": "stderr",
     "output_type": "stream",
     "text": [
      "INFO:buttermilk:Saved to https://docs.google.com/spreadsheets/d/1bt2PZwMK8GfQJUnquGaHbzOnzkCmMsDMqUJnR0502-c\n"
     ]
    }
   ],
   "source": [
    "\n",
    "gsheet = GSheet()\n",
    "sheet = gsheet.save_gsheet(df=answers,  sheet_name=\"syntheses\", title=\"OSB Summaries\")\n",
    "sheet_id = sheet.id\n"
   ]
  },
  {
   "cell_type": "code",
   "execution_count": 5,
   "metadata": {},
   "outputs": [
    {
     "ename": "AttributeError",
     "evalue": "'DataFrame' object has no attribute 'output_backup'",
     "output_type": "error",
     "traceback": [
      "\u001b[0;31m---------------------------------------------------------------------------\u001b[0m",
      "\u001b[0;31mAttributeError\u001b[0m                            Traceback (most recent call last)",
      "\u001b[0;32m/var/folders/m0/dnlbtw0563gbgn18y50l5vjm0000gq/T/ipykernel_68338/1525422615.py\u001b[0m in \u001b[0;36m?\u001b[0;34m()\u001b[0m\n\u001b[1;32m      1\u001b[0m \u001b[0;32mimport\u001b[0m \u001b[0mpandas\u001b[0m \u001b[0;32mas\u001b[0m \u001b[0mpd\u001b[0m\u001b[0;34m\u001b[0m\u001b[0;34m\u001b[0m\u001b[0m\n\u001b[1;32m      2\u001b[0m \u001b[0;32mimport\u001b[0m \u001b[0mjson\u001b[0m\u001b[0;34m\u001b[0m\u001b[0;34m\u001b[0m\u001b[0m\n\u001b[0;32m----> 3\u001b[0;31m \u001b[0morchestrator\u001b[0m\u001b[0;34m.\u001b[0m\u001b[0m_dataset\u001b[0m\u001b[0;34m.\u001b[0m\u001b[0moutput_backup\u001b[0m\u001b[0;34m\u001b[0m\u001b[0;34m\u001b[0m\u001b[0m\n\u001b[0m\u001b[1;32m      4\u001b[0m \u001b[0;31m# evals = prepare_step_data(cfg.data, cfg.step[3].data)\u001b[0m\u001b[0;34m\u001b[0m\u001b[0;34m\u001b[0m\u001b[0m\n\u001b[1;32m      5\u001b[0m \u001b[0;31m# evals = evals.set_index([\"record_id\",\"model\"]).sort_values(\"timestamp\", ascending=False).reset_index().drop_duplicates([\"record_id\", \"model\"])\u001b[0m\u001b[0;34m\u001b[0m\u001b[0;34m\u001b[0m\u001b[0m\n\u001b[1;32m      6\u001b[0m \u001b[0;31m# evals = format_strings(evals, convert_json_columns=['analysis'])\u001b[0m\u001b[0;34m\u001b[0m\u001b[0;34m\u001b[0m\u001b[0m\n",
      "\u001b[0;32m/opt/homebrew/Caskroom/miniconda/base/envs/bm/lib/python3.11/site-packages/pandas/core/generic.py\u001b[0m in \u001b[0;36m?\u001b[0;34m(self, name)\u001b[0m\n\u001b[1;32m   6200\u001b[0m             \u001b[0;32mand\u001b[0m \u001b[0mname\u001b[0m \u001b[0;32mnot\u001b[0m \u001b[0;32min\u001b[0m \u001b[0mself\u001b[0m\u001b[0;34m.\u001b[0m\u001b[0m_accessors\u001b[0m\u001b[0;34m\u001b[0m\u001b[0;34m\u001b[0m\u001b[0m\n\u001b[1;32m   6201\u001b[0m             \u001b[0;32mand\u001b[0m \u001b[0mself\u001b[0m\u001b[0;34m.\u001b[0m\u001b[0m_info_axis\u001b[0m\u001b[0;34m.\u001b[0m\u001b[0m_can_hold_identifiers_and_holds_name\u001b[0m\u001b[0;34m(\u001b[0m\u001b[0mname\u001b[0m\u001b[0;34m)\u001b[0m\u001b[0;34m\u001b[0m\u001b[0;34m\u001b[0m\u001b[0m\n\u001b[1;32m   6202\u001b[0m         ):\n\u001b[1;32m   6203\u001b[0m             \u001b[0;32mreturn\u001b[0m \u001b[0mself\u001b[0m\u001b[0;34m[\u001b[0m\u001b[0mname\u001b[0m\u001b[0;34m]\u001b[0m\u001b[0;34m\u001b[0m\u001b[0;34m\u001b[0m\u001b[0m\n\u001b[0;32m-> 6204\u001b[0;31m         \u001b[0;32mreturn\u001b[0m \u001b[0mobject\u001b[0m\u001b[0;34m.\u001b[0m\u001b[0m__getattribute__\u001b[0m\u001b[0;34m(\u001b[0m\u001b[0mself\u001b[0m\u001b[0;34m,\u001b[0m \u001b[0mname\u001b[0m\u001b[0;34m)\u001b[0m\u001b[0;34m\u001b[0m\u001b[0;34m\u001b[0m\u001b[0m\n\u001b[0m",
      "\u001b[0;31mAttributeError\u001b[0m: 'DataFrame' object has no attribute 'output_backup'"
     ]
    }
   ],
   "source": [
    "import pandas as pd\n",
    "import json\n",
    "orchestrator._dataset.output_backup\n",
    "# evals = prepare_step_data(cfg.data, cfg.step[3].data)\n",
    "# evals = evals.set_index([\"record_id\",\"model\"]).sort_values(\"timestamp\", ascending=False).reset_index().drop_duplicates([\"record_id\", \"model\"])\n",
    "# evals = format_strings(evals, convert_json_columns=['analysis'])\n",
    "# evals = evals.set_index([\"record_id\"]).pivot(columns=\"model\",values=\"analysis\")\n",
    "# sheet = gsheet.save_gsheet(df=evals, sheet_id=sheet_id, sheet_name=\"evals\", title=\"results\")\n",
    "\n"
   ]
  },
  {
   "cell_type": "code",
   "execution_count": null,
   "metadata": {},
   "outputs": [],
   "source": [
    "# save the cases df to GCS\n",
    "# df[['record_id', 'text']].drop_duplicates().reset_index(drop=True).to_json(orient='records', lines=True, path_or_buf='gs://dmrc-platforms/data/osb/cases.json')\n"
   ]
  },
  {
   "cell_type": "code",
   "execution_count": null,
   "metadata": {},
   "outputs": [],
   "source": []
  }
 ],
 "metadata": {
  "kernelspec": {
   "display_name": "bm",
   "language": "python",
   "name": "python3"
  },
  "language_info": {
   "codemirror_mode": {
    "name": "ipython",
    "version": 3
   },
   "file_extension": ".py",
   "mimetype": "text/x-python",
   "name": "python",
   "nbconvert_exporter": "python",
   "pygments_lexer": "ipython3",
   "version": "3.11.0"
  }
 },
 "nbformat": 4,
 "nbformat_minor": 2
}
