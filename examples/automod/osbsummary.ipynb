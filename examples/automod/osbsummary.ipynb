{
 "cells": [
  {
   "cell_type": "code",
   "execution_count": 1,
   "metadata": {},
   "outputs": [],
   "source": [
    "%load_ext autoreload\n",
    "%autoreload 2\n"
   ]
  },
  {
   "cell_type": "code",
   "execution_count": 1,
   "metadata": {},
   "outputs": [
    {
     "name": "stderr",
     "output_type": "stream",
     "text": [
      "/opt/homebrew/Caskroom/miniconda/base/envs/bm/lib/python3.11/site-packages/tqdm/auto.py:21: TqdmWarning: IProgress not found. Please update jupyter and ipywidgets. See https://ipywidgets.readthedocs.io/en/stable/user_install.html\n",
      "  from .autonotebook import tqdm as notebook_tqdm\n"
     ]
    },
    {
     "name": "stdout",
     "output_type": "stream",
     "text": [
      "\u001b[32m2024-11-18 17:57:22\u001b[0m \u001b[35mJ5HW6L4KT6\u001b[0m \u001b[34mbuttermilk\u001b[0m bm.py[ 290] \u001b[1;30mINFO\u001b[0m {'message': \"Logging setup for: <bound method SessionInfo.__str__ of SessionInfo(run_id='20241118T2257Z-TvVQ-J5HW6L4KT6-suzor', ip='204.93.149.219', node_name='J5HW6L4KT6', username='suzor', save_dir='/var/folders/m0/dnlbtw0563gbgn18y50l5vjm0000gq/T/tmp3uca7cie')>. Ready for data collection, saving log to Google Cloud Logs (Resource(type='generic_task', labels={'project_id': 'dmrc-platforms', 'location': 'us-central1', 'namespace': 'automod', 'job': 'debugging', 'task_id': '20241118T2257Z-TvVQ-J5HW6L4KT6-suzor'})). Default save directory for data in this run is: /var/folders/m0/dnlbtw0563gbgn18y50l5vjm0000gq/T/tmp3uca7cie\", 'run_id': '20241118T2257Z-TvVQ-J5HW6L4KT6-suzor', 'ip': '204.93.149.219', 'node_name': 'J5HW6L4KT6', 'username': 'suzor', 'save_dir': '/var/folders/m0/dnlbtw0563gbgn18y50l5vjm0000gq/T/tmp3uca7cie'}\n",
      "\u001b[32m2024-11-18 17:57:22\u001b[0m \u001b[35mJ5HW6L4KT6\u001b[0m \u001b[34mbuttermilk\u001b[0m bm.py[ 300] \u001b[1;30mDEBUG\u001b[0m \u001b[32mButtermilk version is: 0.2.0\u001b[0m\n",
      "Prompt flow service has started...\n"
     ]
    },
    {
     "data": {
      "text/html": [
       "<pre style=\"white-space:pre;overflow-x:auto;line-height:normal;font-family:Menlo,'DejaVu Sans Mono',consolas,'Courier New',monospace\"><span style=\"color: #800080; text-decoration-color: #800080; font-weight: bold\">Project</span><span style=\"font-weight: bold\">(</span>\n",
       "    <span style=\"color: #808000; text-decoration-color: #808000\">name</span>=<span style=\"color: #008000; text-decoration-color: #008000\">'automod'</span>,\n",
       "    <span style=\"color: #808000; text-decoration-color: #808000\">job</span>=<span style=\"color: #008000; text-decoration-color: #008000\">'debugging'</span>,\n",
       "    <span style=\"color: #808000; text-decoration-color: #808000\">connections</span>=<span style=\"font-weight: bold\">[]</span>,\n",
       "    <span style=\"color: #808000; text-decoration-color: #808000\">secret_provider</span>=<span style=\"color: #800080; text-decoration-color: #800080; font-weight: bold\">CloudProviderCfg</span><span style=\"font-weight: bold\">(</span>\n",
       "        <span style=\"color: #808000; text-decoration-color: #808000\">type</span>=<span style=\"color: #008000; text-decoration-color: #008000\">'azure'</span>,\n",
       "        <span style=\"color: #808000; text-decoration-color: #808000\">vault</span>=<span style=\"color: #008000; text-decoration-color: #008000\">'https://suzorvault.vault.azure.net/'</span>,\n",
       "        <span style=\"color: #808000; text-decoration-color: #808000\">resource_group</span>=<span style=\"color: #008000; text-decoration-color: #008000\">'rg-suzor_ai'</span>,\n",
       "        <span style=\"color: #808000; text-decoration-color: #808000\">models_secret</span>=<span style=\"color: #008000; text-decoration-color: #008000\">'models'</span>\n",
       "    <span style=\"font-weight: bold\">)</span>,\n",
       "    <span style=\"color: #808000; text-decoration-color: #808000\">save_dest</span>=<span style=\"color: #800080; text-decoration-color: #800080; font-weight: bold\">CloudProviderCfg</span><span style=\"font-weight: bold\">(</span><span style=\"color: #808000; text-decoration-color: #808000\">type</span>=<span style=\"color: #008000; text-decoration-color: #008000\">'gcp'</span>, <span style=\"color: #808000; text-decoration-color: #808000\">project</span>=<span style=\"color: #008000; text-decoration-color: #008000\">'dmrc-analysis'</span>, <span style=\"color: #808000; text-decoration-color: #808000\">region</span>=<span style=\"color: #008000; text-decoration-color: #008000\">'us-central1'</span>, <span style=\"color: #808000; text-decoration-color: #808000\">bucket</span>=<span style=\"color: #008000; text-decoration-color: #008000\">'dmrc-analysis'</span><span style=\"font-weight: bold\">)</span>,\n",
       "    <span style=\"color: #808000; text-decoration-color: #808000\">logger</span>=<span style=\"color: #800080; text-decoration-color: #800080; font-weight: bold\">CloudProviderCfg</span><span style=\"font-weight: bold\">(</span><span style=\"color: #808000; text-decoration-color: #808000\">type</span>=<span style=\"color: #008000; text-decoration-color: #008000\">'gcp'</span><span style=\"font-weight: bold\">)</span>,\n",
       "    <span style=\"color: #808000; text-decoration-color: #808000\">pubsub</span>=<span style=\"color: #800080; text-decoration-color: #800080; font-weight: bold\">CloudProviderCfg</span><span style=\"font-weight: bold\">(</span><span style=\"color: #808000; text-decoration-color: #808000\">type</span>=<span style=\"color: #008000; text-decoration-color: #008000\">'gcp'</span>, <span style=\"color: #808000; text-decoration-color: #808000\">project</span>=<span style=\"color: #008000; text-decoration-color: #008000\">'dmrc-platforms'</span>, <span style=\"color: #808000; text-decoration-color: #808000\">subscription</span>=<span style=\"color: #008000; text-decoration-color: #008000\">'flow-sub'</span><span style=\"font-weight: bold\">)</span>,\n",
       "    <span style=\"color: #808000; text-decoration-color: #808000\">flows</span>=<span style=\"font-weight: bold\">[]</span>,\n",
       "    <span style=\"color: #808000; text-decoration-color: #808000\">tracing</span>=<span style=\"color: #800080; text-decoration-color: #800080; font-weight: bold\">Tracing</span><span style=\"font-weight: bold\">(</span><span style=\"color: #808000; text-decoration-color: #808000\">enabled</span>=<span style=\"color: #00ff00; text-decoration-color: #00ff00; font-style: italic\">True</span>, <span style=\"color: #808000; text-decoration-color: #808000\">endpoint</span>=<span style=\"color: #800080; text-decoration-color: #800080; font-style: italic\">None</span>, <span style=\"color: #808000; text-decoration-color: #808000\">otlp_headers</span>=<span style=\"font-weight: bold\">{})</span>,\n",
       "    <span style=\"color: #808000; text-decoration-color: #808000\">verbose</span>=<span style=\"color: #00ff00; text-decoration-color: #00ff00; font-style: italic\">True</span>,\n",
       "    <span style=\"color: #808000; text-decoration-color: #808000\">run</span>=<span style=\"color: #800080; text-decoration-color: #800080; font-weight: bold\">RunCfg</span><span style=\"font-weight: bold\">(</span><span style=\"color: #808000; text-decoration-color: #808000\">platform</span>=<span style=\"color: #008000; text-decoration-color: #008000\">'local'</span>, <span style=\"color: #808000; text-decoration-color: #808000\">max_concurrency</span>=<span style=\"color: #008080; text-decoration-color: #008080; font-weight: bold\">32</span>, <span style=\"color: #808000; text-decoration-color: #808000\">parameters</span>=<span style=\"font-weight: bold\">{})</span>\n",
       "<span style=\"font-weight: bold\">)</span>\n",
       "</pre>\n"
      ],
      "text/plain": [
       "\u001b[1;35mProject\u001b[0m\u001b[1m(\u001b[0m\n",
       "    \u001b[33mname\u001b[0m=\u001b[32m'automod'\u001b[0m,\n",
       "    \u001b[33mjob\u001b[0m=\u001b[32m'debugging'\u001b[0m,\n",
       "    \u001b[33mconnections\u001b[0m=\u001b[1m[\u001b[0m\u001b[1m]\u001b[0m,\n",
       "    \u001b[33msecret_provider\u001b[0m=\u001b[1;35mCloudProviderCfg\u001b[0m\u001b[1m(\u001b[0m\n",
       "        \u001b[33mtype\u001b[0m=\u001b[32m'azure'\u001b[0m,\n",
       "        \u001b[33mvault\u001b[0m=\u001b[32m'https://suzorvault.vault.azure.net/'\u001b[0m,\n",
       "        \u001b[33mresource_group\u001b[0m=\u001b[32m'rg-suzor_ai'\u001b[0m,\n",
       "        \u001b[33mmodels_secret\u001b[0m=\u001b[32m'models'\u001b[0m\n",
       "    \u001b[1m)\u001b[0m,\n",
       "    \u001b[33msave_dest\u001b[0m=\u001b[1;35mCloudProviderCfg\u001b[0m\u001b[1m(\u001b[0m\u001b[33mtype\u001b[0m=\u001b[32m'gcp'\u001b[0m, \u001b[33mproject\u001b[0m=\u001b[32m'dmrc-analysis'\u001b[0m, \u001b[33mregion\u001b[0m=\u001b[32m'us-central1'\u001b[0m, \u001b[33mbucket\u001b[0m=\u001b[32m'dmrc-analysis'\u001b[0m\u001b[1m)\u001b[0m,\n",
       "    \u001b[33mlogger\u001b[0m=\u001b[1;35mCloudProviderCfg\u001b[0m\u001b[1m(\u001b[0m\u001b[33mtype\u001b[0m=\u001b[32m'gcp'\u001b[0m\u001b[1m)\u001b[0m,\n",
       "    \u001b[33mpubsub\u001b[0m=\u001b[1;35mCloudProviderCfg\u001b[0m\u001b[1m(\u001b[0m\u001b[33mtype\u001b[0m=\u001b[32m'gcp'\u001b[0m, \u001b[33mproject\u001b[0m=\u001b[32m'dmrc-platforms'\u001b[0m, \u001b[33msubscription\u001b[0m=\u001b[32m'flow-sub'\u001b[0m\u001b[1m)\u001b[0m,\n",
       "    \u001b[33mflows\u001b[0m=\u001b[1m[\u001b[0m\u001b[1m]\u001b[0m,\n",
       "    \u001b[33mtracing\u001b[0m=\u001b[1;35mTracing\u001b[0m\u001b[1m(\u001b[0m\u001b[33menabled\u001b[0m=\u001b[3;92mTrue\u001b[0m, \u001b[33mendpoint\u001b[0m=\u001b[3;35mNone\u001b[0m, \u001b[33motlp_headers\u001b[0m=\u001b[1m{\u001b[0m\u001b[1m}\u001b[0m\u001b[1m)\u001b[0m,\n",
       "    \u001b[33mverbose\u001b[0m=\u001b[3;92mTrue\u001b[0m,\n",
       "    \u001b[33mrun\u001b[0m=\u001b[1;35mRunCfg\u001b[0m\u001b[1m(\u001b[0m\u001b[33mplatform\u001b[0m=\u001b[32m'local'\u001b[0m, \u001b[33mmax_concurrency\u001b[0m=\u001b[1;36m32\u001b[0m, \u001b[33mparameters\u001b[0m=\u001b[1m{\u001b[0m\u001b[1m}\u001b[0m\u001b[1m)\u001b[0m\n",
       "\u001b[1m)\u001b[0m\n"
      ]
     },
     "metadata": {},
     "output_type": "display_data"
    },
    {
     "data": {
      "text/html": [
       "<pre style=\"white-space:pre;overflow-x:auto;line-height:normal;font-family:Menlo,'DejaVu Sans Mono',consolas,'Courier New',monospace\"><span style=\"color: #800080; text-decoration-color: #800080; font-weight: bold\">SessionInfo</span><span style=\"font-weight: bold\">(</span>\n",
       "    <span style=\"color: #808000; text-decoration-color: #808000\">run_id</span>=<span style=\"color: #008000; text-decoration-color: #008000\">'20241118T2257Z-TvVQ-J5HW6L4KT6-suzor'</span>,\n",
       "    <span style=\"color: #808000; text-decoration-color: #808000\">ip</span>=<span style=\"color: #008000; text-decoration-color: #008000\">'204.93.149.219'</span>,\n",
       "    <span style=\"color: #808000; text-decoration-color: #808000\">node_name</span>=<span style=\"color: #008000; text-decoration-color: #008000\">'J5HW6L4KT6'</span>,\n",
       "    <span style=\"color: #808000; text-decoration-color: #808000\">username</span>=<span style=\"color: #008000; text-decoration-color: #008000\">'suzor'</span>,\n",
       "    <span style=\"color: #808000; text-decoration-color: #808000\">save_dir</span>=<span style=\"color: #008000; text-decoration-color: #008000\">'/var/folders/m0/dnlbtw0563gbgn18y50l5vjm0000gq/T/tmp3uca7cie'</span>\n",
       "<span style=\"font-weight: bold\">)</span>\n",
       "</pre>\n"
      ],
      "text/plain": [
       "\u001b[1;35mSessionInfo\u001b[0m\u001b[1m(\u001b[0m\n",
       "    \u001b[33mrun_id\u001b[0m=\u001b[32m'20241118T2257Z-TvVQ-J5HW6L4KT6-suzor'\u001b[0m,\n",
       "    \u001b[33mip\u001b[0m=\u001b[32m'204.93.149.219'\u001b[0m,\n",
       "    \u001b[33mnode_name\u001b[0m=\u001b[32m'J5HW6L4KT6'\u001b[0m,\n",
       "    \u001b[33musername\u001b[0m=\u001b[32m'suzor'\u001b[0m,\n",
       "    \u001b[33msave_dir\u001b[0m=\u001b[32m'/var/folders/m0/dnlbtw0563gbgn18y50l5vjm0000gq/T/tmp3uca7cie'\u001b[0m\n",
       "\u001b[1m)\u001b[0m\n"
      ]
     },
     "metadata": {},
     "output_type": "display_data"
    },
    {
     "name": "stdout",
     "output_type": "stream",
     "text": [
      "\u001b[32m2024-11-18 17:57:22\u001b[0m \u001b[35mJ5HW6L4KT6\u001b[0m \u001b[34mbuttermilk\u001b[0m save.py[  53] \u001b[1;30mWARNING\u001b[0m \u001b[33mError saving data to cloud uri: Path /var/folders/m0/dnlbtw0563gbgn18y50l5vjm0000gq/T/tmp3uca7cie does not begin with a known prefix ['az://', 's3://', 'gs://']. e.args=(\"Path /var/folders/m0/dnlbtw0563gbgn18y50l5vjm0000gq/T/tmp3uca7cie does not begin with a known prefix ['az://', 's3://', 'gs://'].\",), {}\u001b[0m\n"
     ]
    },
    {
     "name": "stderr",
     "output_type": "stream",
     "text": [
      "WARNING:buttermilk:Error saving data to cloud uri: Path /var/folders/m0/dnlbtw0563gbgn18y50l5vjm0000gq/T/tmp3uca7cie does not begin with a known prefix ['az://', 's3://', 'gs://']. e.args=(\"Path /var/folders/m0/dnlbtw0563gbgn18y50l5vjm0000gq/T/tmp3uca7cie does not begin with a known prefix ['az://', 's3://', 'gs://'].\",), {}\n"
     ]
    },
    {
     "name": "stdout",
     "output_type": "stream",
     "text": [
      "\u001b[32m2024-11-18 17:57:22\u001b[0m \u001b[35mJ5HW6L4KT6\u001b[0m \u001b[34mbuttermilk\u001b[0m save.py[  90] \u001b[1;30mDEBUG\u001b[0m \u001b[32mTrying to save data using dump_to_disk.\u001b[0m\n"
     ]
    },
    {
     "name": "stderr",
     "output_type": "stream",
     "text": [
      "DEBUG:buttermilk:Trying to save data using dump_to_disk.\n"
     ]
    },
    {
     "name": "stdout",
     "output_type": "stream",
     "text": [
      "\u001b[32m2024-11-18 17:57:22\u001b[0m \u001b[35mJ5HW6L4KT6\u001b[0m \u001b[34mbuttermilk\u001b[0m save.py[ 237] \u001b[1;30mWARNING\u001b[0m \u001b[33mSuccessfully dumped to pickle on disk: /var/folders/m0/dnlbtw0563gbgn18y50l5vjm0000gq/T/tmpgj8z3vpa.jsonl.\u001b[0m\n"
     ]
    },
    {
     "name": "stderr",
     "output_type": "stream",
     "text": [
      "WARNING:buttermilk:Successfully dumped to pickle on disk: /var/folders/m0/dnlbtw0563gbgn18y50l5vjm0000gq/T/tmpgj8z3vpa.jsonl.\n"
     ]
    },
    {
     "name": "stdout",
     "output_type": "stream",
     "text": [
      "\u001b[32m2024-11-18 17:57:22\u001b[0m \u001b[35mJ5HW6L4KT6\u001b[0m \u001b[34mbuttermilk\u001b[0m save.py[  92] \u001b[1;30mINFO\u001b[0m Saved data using dump_to_disk to: /var/folders/m0/dnlbtw0563gbgn18y50l5vjm0000gq/T/tmpgj8z3vpa.jsonl.\n"
     ]
    },
    {
     "name": "stderr",
     "output_type": "stream",
     "text": [
      "INFO:buttermilk:Saved data using dump_to_disk to: /var/folders/m0/dnlbtw0563gbgn18y50l5vjm0000gq/T/tmpgj8z3vpa.jsonl.\n"
     ]
    },
    {
     "data": {
      "text/html": [
       "<pre style=\"white-space:pre;overflow-x:auto;line-height:normal;font-family:Menlo,'DejaVu Sans Mono',consolas,'Courier New',monospace\"><span style=\"font-weight: bold\">{</span><span style=\"color: #008000; text-decoration-color: #008000\">'bm'</span>: <span style=\"color: #800080; text-decoration-color: #800080; font-weight: bold\">BM</span><span style=\"font-weight: bold\">(</span><span style=\"color: #808000; text-decoration-color: #808000\">cfg</span>=<span style=\"color: #800080; text-decoration-color: #800080; font-weight: bold\">Project</span><span style=\"font-weight: bold\">(</span><span style=\"color: #808000; text-decoration-color: #808000\">name</span>=<span style=\"color: #008000; text-decoration-color: #008000\">'automod'</span>, <span style=\"color: #808000; text-decoration-color: #808000\">job</span>=<span style=\"color: #008000; text-decoration-color: #008000\">'debugging'</span>, <span style=\"color: #808000; text-decoration-color: #808000\">connections</span>=<span style=\"font-weight: bold\">[]</span>, \n",
       "<span style=\"color: #808000; text-decoration-color: #808000\">secret_provider</span>=<span style=\"color: #800080; text-decoration-color: #800080; font-weight: bold\">CloudProviderCfg</span><span style=\"font-weight: bold\">(</span><span style=\"color: #808000; text-decoration-color: #808000\">type</span>=<span style=\"color: #008000; text-decoration-color: #008000\">'azure'</span>, <span style=\"color: #808000; text-decoration-color: #808000\">vault</span>=<span style=\"color: #008000; text-decoration-color: #008000\">'https://suzorvault.vault.azure.net/'</span>, \n",
       "<span style=\"color: #808000; text-decoration-color: #808000\">resource_group</span>=<span style=\"color: #008000; text-decoration-color: #008000\">'rg-suzor_ai'</span>, <span style=\"color: #808000; text-decoration-color: #808000\">models_secret</span>=<span style=\"color: #008000; text-decoration-color: #008000\">'models'</span><span style=\"font-weight: bold\">)</span>, <span style=\"color: #808000; text-decoration-color: #808000\">save_dest</span>=<span style=\"color: #800080; text-decoration-color: #800080; font-weight: bold\">CloudProviderCfg</span><span style=\"font-weight: bold\">(</span><span style=\"color: #808000; text-decoration-color: #808000\">type</span>=<span style=\"color: #008000; text-decoration-color: #008000\">'gcp'</span>, \n",
       "<span style=\"color: #808000; text-decoration-color: #808000\">project</span>=<span style=\"color: #008000; text-decoration-color: #008000\">'dmrc-analysis'</span>, <span style=\"color: #808000; text-decoration-color: #808000\">region</span>=<span style=\"color: #008000; text-decoration-color: #008000\">'us-central1'</span>, <span style=\"color: #808000; text-decoration-color: #808000\">bucket</span>=<span style=\"color: #008000; text-decoration-color: #008000\">'dmrc-analysis'</span><span style=\"font-weight: bold\">)</span>, <span style=\"color: #808000; text-decoration-color: #808000\">logger</span>=<span style=\"color: #800080; text-decoration-color: #800080; font-weight: bold\">CloudProviderCfg</span><span style=\"font-weight: bold\">(</span><span style=\"color: #808000; text-decoration-color: #808000\">type</span>=<span style=\"color: #008000; text-decoration-color: #008000\">'gcp'</span><span style=\"font-weight: bold\">)</span>, \n",
       "<span style=\"color: #808000; text-decoration-color: #808000\">pubsub</span>=<span style=\"color: #800080; text-decoration-color: #800080; font-weight: bold\">CloudProviderCfg</span><span style=\"font-weight: bold\">(</span><span style=\"color: #808000; text-decoration-color: #808000\">type</span>=<span style=\"color: #008000; text-decoration-color: #008000\">'gcp'</span>, <span style=\"color: #808000; text-decoration-color: #808000\">project</span>=<span style=\"color: #008000; text-decoration-color: #008000\">'dmrc-platforms'</span>, <span style=\"color: #808000; text-decoration-color: #808000\">subscription</span>=<span style=\"color: #008000; text-decoration-color: #008000\">'flow-sub'</span><span style=\"font-weight: bold\">)</span>, <span style=\"color: #808000; text-decoration-color: #808000\">flows</span>=<span style=\"font-weight: bold\">[]</span>, \n",
       "<span style=\"color: #808000; text-decoration-color: #808000\">tracing</span>=<span style=\"color: #800080; text-decoration-color: #800080; font-weight: bold\">Tracing</span><span style=\"font-weight: bold\">(</span><span style=\"color: #808000; text-decoration-color: #808000\">enabled</span>=<span style=\"color: #00ff00; text-decoration-color: #00ff00; font-style: italic\">True</span>, <span style=\"color: #808000; text-decoration-color: #808000\">endpoint</span>=<span style=\"color: #800080; text-decoration-color: #800080; font-style: italic\">None</span>, <span style=\"color: #808000; text-decoration-color: #808000\">otlp_headers</span>=<span style=\"font-weight: bold\">{})</span>, <span style=\"color: #808000; text-decoration-color: #808000\">verbose</span>=<span style=\"color: #00ff00; text-decoration-color: #00ff00; font-style: italic\">True</span>, <span style=\"color: #808000; text-decoration-color: #808000\">run</span>=<span style=\"color: #800080; text-decoration-color: #800080; font-weight: bold\">RunCfg</span><span style=\"font-weight: bold\">(</span><span style=\"color: #808000; text-decoration-color: #808000\">platform</span>=<span style=\"color: #008000; text-decoration-color: #008000\">'local'</span>, \n",
       "<span style=\"color: #808000; text-decoration-color: #808000\">max_concurrency</span>=<span style=\"color: #008080; text-decoration-color: #008080; font-weight: bold\">32</span>, <span style=\"color: #808000; text-decoration-color: #808000\">parameters</span>=<span style=\"font-weight: bold\">{})))</span>, <span style=\"color: #008000; text-decoration-color: #008000\">'save'</span>: <span style=\"font-weight: bold\">{</span><span style=\"color: #008000; text-decoration-color: #008000\">'type'</span>: <span style=\"color: #008000; text-decoration-color: #008000\">'bq'</span>, <span style=\"color: #008000; text-decoration-color: #008000\">'dataset'</span>: <span style=\"color: #008000; text-decoration-color: #008000\">'dmrc-analysis.toxicity.flow'</span>, <span style=\"color: #008000; text-decoration-color: #008000\">'db_schema'</span>:\n",
       "<span style=\"color: #008000; text-decoration-color: #008000\">'flow.json'</span><span style=\"font-weight: bold\">}</span>, <span style=\"color: #008000; text-decoration-color: #008000\">'flows'</span>: <span style=\"font-weight: bold\">[{</span><span style=\"color: #008000; text-decoration-color: #008000\">'name'</span>: <span style=\"color: #008000; text-decoration-color: #008000\">'summarise OSB cases'</span>, <span style=\"color: #008000; text-decoration-color: #008000\">'num_runs'</span>: <span style=\"color: #008080; text-decoration-color: #008080; font-weight: bold\">2</span>, <span style=\"color: #008000; text-decoration-color: #008000\">'concurrency'</span>: <span style=\"color: #008080; text-decoration-color: #008080; font-weight: bold\">20</span>, <span style=\"color: #008000; text-decoration-color: #008000\">'agent'</span>: <span style=\"font-weight: bold\">{</span><span style=\"color: #008000; text-decoration-color: #008000\">'type'</span>: <span style=\"color: #008000; text-decoration-color: #008000\">'LC'</span>, \n",
       "<span style=\"color: #008000; text-decoration-color: #008000\">'template'</span>: <span style=\"color: #008000; text-decoration-color: #008000\">'summarise'</span>, <span style=\"color: #008000; text-decoration-color: #008000\">'instructions'</span>: <span style=\"color: #008000; text-decoration-color: #008000\">'summarise_osb'</span>, <span style=\"color: #008000; text-decoration-color: #008000\">'model'</span>: <span style=\"font-weight: bold\">[</span><span style=\"color: #008000; text-decoration-color: #008000\">'gpt4o'</span>, <span style=\"color: #008000; text-decoration-color: #008000\">'sonnet'</span>, <span style=\"color: #008000; text-decoration-color: #008000\">'gemini15pro'</span><span style=\"font-weight: bold\">]}</span>, <span style=\"color: #008000; text-decoration-color: #008000\">'inputs'</span>: \n",
       "<span style=\"font-weight: bold\">{</span><span style=\"color: #008000; text-decoration-color: #008000\">'dataset'</span>: <span style=\"color: #008000; text-decoration-color: #008000\">'osbcasesfull'</span><span style=\"font-weight: bold\">}</span>, <span style=\"color: #008000; text-decoration-color: #008000\">'data'</span>: <span style=\"font-weight: bold\">[{</span><span style=\"color: #008000; text-decoration-color: #008000\">'name'</span>: <span style=\"color: #008000; text-decoration-color: #008000\">'osbcasesfull'</span>, <span style=\"color: #008000; text-decoration-color: #008000\">'type'</span>: <span style=\"color: #008000; text-decoration-color: #008000\">'file'</span>, <span style=\"color: #008000; text-decoration-color: #008000\">'uri'</span>: \n",
       "<span style=\"color: #008000; text-decoration-color: #008000\">'gs://dmrc-platforms/data/osb/01_osb_cases.json'</span>, <span style=\"color: #008000; text-decoration-color: #008000\">'columns'</span>: <span style=\"font-weight: bold\">{</span><span style=\"color: #008000; text-decoration-color: #008000\">'record_id'</span>: <span style=\"color: #008000; text-decoration-color: #008000\">'record_id'</span>, <span style=\"color: #008000; text-decoration-color: #008000\">'text'</span>: <span style=\"color: #008000; text-decoration-color: #008000\">'text'</span><span style=\"font-weight: bold\">}}]</span>, <span style=\"color: #008000; text-decoration-color: #008000\">'save'</span>: \n",
       "<span style=\"font-weight: bold\">{</span><span style=\"color: #008000; text-decoration-color: #008000\">'type'</span>: <span style=\"color: #008000; text-decoration-color: #008000\">'bq'</span>, <span style=\"color: #008000; text-decoration-color: #008000\">'dataset'</span>: <span style=\"color: #008000; text-decoration-color: #008000\">'dmrc-analysis.toxicity.flow'</span>, <span style=\"color: #008000; text-decoration-color: #008000\">'schema'</span>: <span style=\"color: #008000; text-decoration-color: #008000\">'buttermilk/schemas/flow.json'</span><span style=\"font-weight: bold\">}}</span>, <span style=\"font-weight: bold\">{</span><span style=\"color: #008000; text-decoration-color: #008000\">'name'</span>: \n",
       "<span style=\"color: #008000; text-decoration-color: #008000\">'synthesise OSB cases'</span>, <span style=\"color: #008000; text-decoration-color: #008000\">'num_runs'</span>: <span style=\"color: #008080; text-decoration-color: #008080; font-weight: bold\">1</span>, <span style=\"color: #008000; text-decoration-color: #008000\">'concurrency'</span>: <span style=\"color: #008080; text-decoration-color: #008080; font-weight: bold\">20</span>, <span style=\"color: #008000; text-decoration-color: #008000\">'agent'</span>: <span style=\"font-weight: bold\">{</span><span style=\"color: #008000; text-decoration-color: #008000\">'type'</span>: <span style=\"color: #008000; text-decoration-color: #008000\">'LC'</span>, <span style=\"color: #008000; text-decoration-color: #008000\">'template'</span>: <span style=\"color: #008000; text-decoration-color: #008000\">'synthesise'</span>, \n",
       "<span style=\"color: #008000; text-decoration-color: #008000\">'instructions'</span>: <span style=\"color: #008000; text-decoration-color: #008000\">'summarise_osb'</span>, <span style=\"color: #008000; text-decoration-color: #008000\">'model'</span>: <span style=\"font-weight: bold\">[</span><span style=\"color: #008000; text-decoration-color: #008000\">'gpt4o'</span>, <span style=\"color: #008000; text-decoration-color: #008000\">'sonnet'</span><span style=\"font-weight: bold\">]}</span>, <span style=\"color: #008000; text-decoration-color: #008000\">'parameters'</span>: <span style=\"font-weight: bold\">{</span><span style=\"color: #008000; text-decoration-color: #008000\">'content'</span>: <span style=\"color: #008000; text-decoration-color: #008000\">'text'</span>, <span style=\"color: #008000; text-decoration-color: #008000\">'answers'</span>: \n",
       "<span style=\"color: #008000; text-decoration-color: #008000\">'answers'</span><span style=\"font-weight: bold\">}</span>, <span style=\"color: #008000; text-decoration-color: #008000\">'data'</span>: <span style=\"font-weight: bold\">[{</span><span style=\"color: #008000; text-decoration-color: #008000\">'name'</span>: <span style=\"color: #008000; text-decoration-color: #008000\">'synthesise previous runs'</span>, <span style=\"color: #008000; text-decoration-color: #008000\">'type'</span>: <span style=\"color: #008000; text-decoration-color: #008000\">'job'</span>, <span style=\"color: #008000; text-decoration-color: #008000\">'dataset'</span>: <span style=\"color: #008000; text-decoration-color: #008000\">'dmrc-analysis.toxicity.flow'</span>, \n",
       "<span style=\"color: #008000; text-decoration-color: #008000\">'max_records_per_group'</span>: <span style=\"color: #008080; text-decoration-color: #008080; font-weight: bold\">4</span>, <span style=\"color: #008000; text-decoration-color: #008000\">'last_n_days'</span>: <span style=\"color: #008080; text-decoration-color: #008080; font-weight: bold\">1</span>, <span style=\"color: #008000; text-decoration-color: #008000\">'agg'</span>: <span style=\"color: #00ff00; text-decoration-color: #00ff00; font-style: italic\">True</span>, <span style=\"color: #008000; text-decoration-color: #008000\">'filter'</span>: <span style=\"font-weight: bold\">{</span><span style=\"color: #008000; text-decoration-color: #008000\">'agent_info.flow'</span>: <span style=\"color: #008000; text-decoration-color: #008000\">'summarise OSB cases'</span>, \n",
       "<span style=\"color: #008000; text-decoration-color: #008000\">'parameters.model'</span>: <span style=\"font-weight: bold\">[</span><span style=\"color: #008000; text-decoration-color: #008000\">'gpt4o'</span>, <span style=\"color: #008000; text-decoration-color: #008000\">'sonnet'</span>, <span style=\"color: #008000; text-decoration-color: #008000\">'gemini15pro'</span><span style=\"font-weight: bold\">]}</span>, <span style=\"color: #008000; text-decoration-color: #008000\">'join'</span>: <span style=\"font-weight: bold\">{</span><span style=\"color: #008000; text-decoration-color: #008000\">'record_id'</span>: <span style=\"color: #008000; text-decoration-color: #008000\">'record.record_id'</span><span style=\"font-weight: bold\">}</span>, <span style=\"color: #008000; text-decoration-color: #008000\">'group'</span>: \n",
       "<span style=\"font-weight: bold\">{</span><span style=\"color: #008000; text-decoration-color: #008000\">'flow'</span>: <span style=\"color: #008000; text-decoration-color: #008000\">'agent_info.flow'</span>, <span style=\"color: #008000; text-decoration-color: #008000\">'template'</span>: <span style=\"color: #008000; text-decoration-color: #008000\">'agent_info.template'</span>, <span style=\"color: #008000; text-decoration-color: #008000\">'model'</span>: <span style=\"color: #008000; text-decoration-color: #008000\">'parameters.model'</span><span style=\"font-weight: bold\">}</span>, <span style=\"color: #008000; text-decoration-color: #008000\">'columns'</span>: <span style=\"font-weight: bold\">{</span><span style=\"color: #008000; text-decoration-color: #008000\">'answers'</span>:\n",
       "<span style=\"font-weight: bold\">{</span><span style=\"color: #008000; text-decoration-color: #008000\">'id'</span>: <span style=\"color: #008000; text-decoration-color: #008000\">'job_id'</span>, <span style=\"color: #008000; text-decoration-color: #008000\">'text'</span>: <span style=\"color: #008000; text-decoration-color: #008000\">'outputs'</span><span style=\"font-weight: bold\">}</span>, <span style=\"color: #008000; text-decoration-color: #008000\">'meta'</span>: <span style=\"font-weight: bold\">{</span><span style=\"color: #008000; text-decoration-color: #008000\">'flow'</span>: <span style=\"color: #008000; text-decoration-color: #008000\">'agent_info.flow'</span>, <span style=\"color: #008000; text-decoration-color: #008000\">'template'</span>: <span style=\"color: #008000; text-decoration-color: #008000\">'agent_info.template'</span>, \n",
       "<span style=\"color: #008000; text-decoration-color: #008000\">'agent_info'</span>: <span style=\"color: #008000; text-decoration-color: #008000\">'agent_info'</span>, <span style=\"color: #008000; text-decoration-color: #008000\">'model'</span>: <span style=\"color: #008000; text-decoration-color: #008000\">'parameters.model'</span>, <span style=\"color: #008000; text-decoration-color: #008000\">'timestamp'</span>: <span style=\"color: #008000; text-decoration-color: #008000\">'timestamp'</span><span style=\"font-weight: bold\">}}}]</span>, <span style=\"color: #008000; text-decoration-color: #008000\">'save'</span>: <span style=\"font-weight: bold\">{</span><span style=\"color: #008000; text-decoration-color: #008000\">'type'</span>: <span style=\"color: #008000; text-decoration-color: #008000\">'bq'</span>, \n",
       "<span style=\"color: #008000; text-decoration-color: #008000\">'dataset'</span>: <span style=\"color: #008000; text-decoration-color: #008000\">'dmrc-analysis.toxicity.flow'</span>, <span style=\"color: #008000; text-decoration-color: #008000\">'schema'</span>: <span style=\"color: #008000; text-decoration-color: #008000\">'buttermilk/schemas/flow.json'</span><span style=\"font-weight: bold\">}}</span>, <span style=\"font-weight: bold\">{</span><span style=\"color: #008000; text-decoration-color: #008000\">'name'</span>: <span style=\"color: #008000; text-decoration-color: #008000\">'export'</span>, <span style=\"color: #008000; text-decoration-color: #008000\">'agent'</span>: \n",
       "<span style=\"font-weight: bold\">{</span><span style=\"color: #008000; text-decoration-color: #008000\">'type'</span>: <span style=\"color: #008000; text-decoration-color: #008000\">'GSheetExporter'</span>, <span style=\"color: #008000; text-decoration-color: #008000\">'sheet_name'</span>: <span style=\"color: #008000; text-decoration-color: #008000\">'OSB summaries'</span><span style=\"font-weight: bold\">}</span>, <span style=\"color: #008000; text-decoration-color: #008000\">'save'</span>: <span style=\"font-weight: bold\">{</span><span style=\"color: #008000; text-decoration-color: #008000\">'type'</span>: <span style=\"color: #008000; text-decoration-color: #008000\">'gsheets'</span>, <span style=\"color: #008000; text-decoration-color: #008000\">'destination'</span>: <span style=\"color: #008000; text-decoration-color: #008000\">'new'</span><span style=\"font-weight: bold\">}</span>, \n",
       "<span style=\"color: #008000; text-decoration-color: #008000\">'data'</span>: <span style=\"font-weight: bold\">[{</span><span style=\"color: #008000; text-decoration-color: #008000\">'name'</span>: <span style=\"color: #008000; text-decoration-color: #008000\">'osb all cases'</span>, <span style=\"color: #008000; text-decoration-color: #008000\">'type'</span>: <span style=\"color: #008000; text-decoration-color: #008000\">'file'</span>, <span style=\"color: #008000; text-decoration-color: #008000\">'uri'</span>: <span style=\"color: #008000; text-decoration-color: #008000\">'gs://dmrc-platforms/data/osb/cases.json'</span>, <span style=\"color: #008000; text-decoration-color: #008000\">'columns'</span>: \n",
       "<span style=\"font-weight: bold\">{</span><span style=\"color: #008000; text-decoration-color: #008000\">'record_id'</span>: <span style=\"color: #008000; text-decoration-color: #008000\">'record_id'</span>, <span style=\"color: #008000; text-decoration-color: #008000\">'text'</span>: <span style=\"color: #008000; text-decoration-color: #008000\">'text'</span><span style=\"font-weight: bold\">}}</span>, <span style=\"font-weight: bold\">{</span><span style=\"color: #008000; text-decoration-color: #008000\">'name'</span>: <span style=\"color: #008000; text-decoration-color: #008000\">'eval'</span>, <span style=\"color: #008000; text-decoration-color: #008000\">'type'</span>: <span style=\"color: #008000; text-decoration-color: #008000\">'job'</span>, <span style=\"color: #008000; text-decoration-color: #008000\">'dataset'</span>: \n",
       "<span style=\"color: #008000; text-decoration-color: #008000\">'dmrc-analysis.toxicity.flow'</span>, <span style=\"color: #008000; text-decoration-color: #008000\">'max_records_per_group'</span>: <span style=\"color: #008080; text-decoration-color: #008080; font-weight: bold\">-1</span>, <span style=\"color: #008000; text-decoration-color: #008000\">'filter'</span>: <span style=\"font-weight: bold\">{</span><span style=\"color: #008000; text-decoration-color: #008000\">'agent_info.flow'</span>: <span style=\"color: #008000; text-decoration-color: #008000\">'synthesise OSB cases'</span><span style=\"font-weight: bold\">}</span>, \n",
       "<span style=\"color: #008000; text-decoration-color: #008000\">'join'</span>: <span style=\"font-weight: bold\">{</span><span style=\"color: #008000; text-decoration-color: #008000\">'record_id'</span>: <span style=\"color: #008000; text-decoration-color: #008000\">'record.record_id'</span><span style=\"font-weight: bold\">}</span>, <span style=\"color: #008000; text-decoration-color: #008000\">'agg'</span>: <span style=\"color: #ff0000; text-decoration-color: #ff0000; font-style: italic\">False</span>, <span style=\"color: #008000; text-decoration-color: #008000\">'group'</span>: <span style=\"font-weight: bold\">{</span><span style=\"color: #008000; text-decoration-color: #008000\">'id'</span>: <span style=\"color: #008000; text-decoration-color: #008000\">'job_id'</span>, <span style=\"color: #008000; text-decoration-color: #008000\">'flow'</span>: <span style=\"color: #008000; text-decoration-color: #008000\">'agent_info.flow'</span><span style=\"font-weight: bold\">}</span>, \n",
       "<span style=\"color: #008000; text-decoration-color: #008000\">'columns'</span>: <span style=\"font-weight: bold\">{</span><span style=\"color: #008000; text-decoration-color: #008000\">'model'</span>: <span style=\"color: #008000; text-decoration-color: #008000\">'parameters.model'</span>, <span style=\"color: #008000; text-decoration-color: #008000\">'timestamp'</span>: <span style=\"color: #008000; text-decoration-color: #008000\">'timestamp'</span>, <span style=\"color: #008000; text-decoration-color: #008000\">'title'</span>: <span style=\"color: #008000; text-decoration-color: #008000\">'outputs.title'</span>, <span style=\"color: #008000; text-decoration-color: #008000\">'date'</span>: \n",
       "<span style=\"color: #008000; text-decoration-color: #008000\">'outputs.date'</span>, <span style=\"color: #008000; text-decoration-color: #008000\">'content'</span>: <span style=\"color: #008000; text-decoration-color: #008000\">'outputs.content'</span>, <span style=\"color: #008000; text-decoration-color: #008000\">'reasons'</span>: <span style=\"color: #008000; text-decoration-color: #008000\">'outputs.reasons'</span>, <span style=\"color: #008000; text-decoration-color: #008000\">'recommendations'</span>: \n",
       "<span style=\"color: #008000; text-decoration-color: #008000\">'outputs.recommendations'</span>, <span style=\"color: #008000; text-decoration-color: #008000\">'result'</span>: <span style=\"color: #008000; text-decoration-color: #008000\">'outputs.result'</span>, <span style=\"color: #008000; text-decoration-color: #008000\">'type'</span>: <span style=\"color: #008000; text-decoration-color: #008000\">'outputs.type'</span>, <span style=\"color: #008000; text-decoration-color: #008000\">'topics'</span>: <span style=\"color: #008000; text-decoration-color: #008000\">'outputs.topics'</span>, \n",
       "<span style=\"color: #008000; text-decoration-color: #008000\">'standards'</span>: <span style=\"color: #008000; text-decoration-color: #008000\">'outputs.standards'</span>, <span style=\"color: #008000; text-decoration-color: #008000\">'location'</span>: <span style=\"color: #008000; text-decoration-color: #008000\">'outputs.location'</span>, <span style=\"color: #008000; text-decoration-color: #008000\">'outputs'</span>: <span style=\"color: #008000; text-decoration-color: #008000\">'outputs'</span><span style=\"font-weight: bold\">}}]}]}</span>\n",
       "</pre>\n"
      ],
      "text/plain": [
       "\u001b[1m{\u001b[0m\u001b[32m'bm'\u001b[0m: \u001b[1;35mBM\u001b[0m\u001b[1m(\u001b[0m\u001b[33mcfg\u001b[0m=\u001b[1;35mProject\u001b[0m\u001b[1m(\u001b[0m\u001b[33mname\u001b[0m=\u001b[32m'automod'\u001b[0m, \u001b[33mjob\u001b[0m=\u001b[32m'debugging'\u001b[0m, \u001b[33mconnections\u001b[0m=\u001b[1m[\u001b[0m\u001b[1m]\u001b[0m, \n",
       "\u001b[33msecret_provider\u001b[0m=\u001b[1;35mCloudProviderCfg\u001b[0m\u001b[1m(\u001b[0m\u001b[33mtype\u001b[0m=\u001b[32m'azure'\u001b[0m, \u001b[33mvault\u001b[0m=\u001b[32m'https://suzorvault.vault.azure.net/'\u001b[0m, \n",
       "\u001b[33mresource_group\u001b[0m=\u001b[32m'rg-suzor_ai'\u001b[0m, \u001b[33mmodels_secret\u001b[0m=\u001b[32m'models'\u001b[0m\u001b[1m)\u001b[0m, \u001b[33msave_dest\u001b[0m=\u001b[1;35mCloudProviderCfg\u001b[0m\u001b[1m(\u001b[0m\u001b[33mtype\u001b[0m=\u001b[32m'gcp'\u001b[0m, \n",
       "\u001b[33mproject\u001b[0m=\u001b[32m'dmrc-analysis'\u001b[0m, \u001b[33mregion\u001b[0m=\u001b[32m'us-central1'\u001b[0m, \u001b[33mbucket\u001b[0m=\u001b[32m'dmrc-analysis'\u001b[0m\u001b[1m)\u001b[0m, \u001b[33mlogger\u001b[0m=\u001b[1;35mCloudProviderCfg\u001b[0m\u001b[1m(\u001b[0m\u001b[33mtype\u001b[0m=\u001b[32m'gcp'\u001b[0m\u001b[1m)\u001b[0m, \n",
       "\u001b[33mpubsub\u001b[0m=\u001b[1;35mCloudProviderCfg\u001b[0m\u001b[1m(\u001b[0m\u001b[33mtype\u001b[0m=\u001b[32m'gcp'\u001b[0m, \u001b[33mproject\u001b[0m=\u001b[32m'dmrc-platforms'\u001b[0m, \u001b[33msubscription\u001b[0m=\u001b[32m'flow-sub'\u001b[0m\u001b[1m)\u001b[0m, \u001b[33mflows\u001b[0m=\u001b[1m[\u001b[0m\u001b[1m]\u001b[0m, \n",
       "\u001b[33mtracing\u001b[0m=\u001b[1;35mTracing\u001b[0m\u001b[1m(\u001b[0m\u001b[33menabled\u001b[0m=\u001b[3;92mTrue\u001b[0m, \u001b[33mendpoint\u001b[0m=\u001b[3;35mNone\u001b[0m, \u001b[33motlp_headers\u001b[0m=\u001b[1m{\u001b[0m\u001b[1m}\u001b[0m\u001b[1m)\u001b[0m, \u001b[33mverbose\u001b[0m=\u001b[3;92mTrue\u001b[0m, \u001b[33mrun\u001b[0m=\u001b[1;35mRunCfg\u001b[0m\u001b[1m(\u001b[0m\u001b[33mplatform\u001b[0m=\u001b[32m'local'\u001b[0m, \n",
       "\u001b[33mmax_concurrency\u001b[0m=\u001b[1;36m32\u001b[0m, \u001b[33mparameters\u001b[0m=\u001b[1m{\u001b[0m\u001b[1m}\u001b[0m\u001b[1m)\u001b[0m\u001b[1m)\u001b[0m\u001b[1m)\u001b[0m, \u001b[32m'save'\u001b[0m: \u001b[1m{\u001b[0m\u001b[32m'type'\u001b[0m: \u001b[32m'bq'\u001b[0m, \u001b[32m'dataset'\u001b[0m: \u001b[32m'dmrc-analysis.toxicity.flow'\u001b[0m, \u001b[32m'db_schema'\u001b[0m:\n",
       "\u001b[32m'flow.json'\u001b[0m\u001b[1m}\u001b[0m, \u001b[32m'flows'\u001b[0m: \u001b[1m[\u001b[0m\u001b[1m{\u001b[0m\u001b[32m'name'\u001b[0m: \u001b[32m'summarise OSB cases'\u001b[0m, \u001b[32m'num_runs'\u001b[0m: \u001b[1;36m2\u001b[0m, \u001b[32m'concurrency'\u001b[0m: \u001b[1;36m20\u001b[0m, \u001b[32m'agent'\u001b[0m: \u001b[1m{\u001b[0m\u001b[32m'type'\u001b[0m: \u001b[32m'LC'\u001b[0m, \n",
       "\u001b[32m'template'\u001b[0m: \u001b[32m'summarise'\u001b[0m, \u001b[32m'instructions'\u001b[0m: \u001b[32m'summarise_osb'\u001b[0m, \u001b[32m'model'\u001b[0m: \u001b[1m[\u001b[0m\u001b[32m'gpt4o'\u001b[0m, \u001b[32m'sonnet'\u001b[0m, \u001b[32m'gemini15pro'\u001b[0m\u001b[1m]\u001b[0m\u001b[1m}\u001b[0m, \u001b[32m'inputs'\u001b[0m: \n",
       "\u001b[1m{\u001b[0m\u001b[32m'dataset'\u001b[0m: \u001b[32m'osbcasesfull'\u001b[0m\u001b[1m}\u001b[0m, \u001b[32m'data'\u001b[0m: \u001b[1m[\u001b[0m\u001b[1m{\u001b[0m\u001b[32m'name'\u001b[0m: \u001b[32m'osbcasesfull'\u001b[0m, \u001b[32m'type'\u001b[0m: \u001b[32m'file'\u001b[0m, \u001b[32m'uri'\u001b[0m: \n",
       "\u001b[32m'gs://dmrc-platforms/data/osb/01_osb_cases.json'\u001b[0m, \u001b[32m'columns'\u001b[0m: \u001b[1m{\u001b[0m\u001b[32m'record_id'\u001b[0m: \u001b[32m'record_id'\u001b[0m, \u001b[32m'text'\u001b[0m: \u001b[32m'text'\u001b[0m\u001b[1m}\u001b[0m\u001b[1m}\u001b[0m\u001b[1m]\u001b[0m, \u001b[32m'save'\u001b[0m: \n",
       "\u001b[1m{\u001b[0m\u001b[32m'type'\u001b[0m: \u001b[32m'bq'\u001b[0m, \u001b[32m'dataset'\u001b[0m: \u001b[32m'dmrc-analysis.toxicity.flow'\u001b[0m, \u001b[32m'schema'\u001b[0m: \u001b[32m'buttermilk/schemas/flow.json'\u001b[0m\u001b[1m}\u001b[0m\u001b[1m}\u001b[0m, \u001b[1m{\u001b[0m\u001b[32m'name'\u001b[0m: \n",
       "\u001b[32m'synthesise OSB cases'\u001b[0m, \u001b[32m'num_runs'\u001b[0m: \u001b[1;36m1\u001b[0m, \u001b[32m'concurrency'\u001b[0m: \u001b[1;36m20\u001b[0m, \u001b[32m'agent'\u001b[0m: \u001b[1m{\u001b[0m\u001b[32m'type'\u001b[0m: \u001b[32m'LC'\u001b[0m, \u001b[32m'template'\u001b[0m: \u001b[32m'synthesise'\u001b[0m, \n",
       "\u001b[32m'instructions'\u001b[0m: \u001b[32m'summarise_osb'\u001b[0m, \u001b[32m'model'\u001b[0m: \u001b[1m[\u001b[0m\u001b[32m'gpt4o'\u001b[0m, \u001b[32m'sonnet'\u001b[0m\u001b[1m]\u001b[0m\u001b[1m}\u001b[0m, \u001b[32m'parameters'\u001b[0m: \u001b[1m{\u001b[0m\u001b[32m'content'\u001b[0m: \u001b[32m'text'\u001b[0m, \u001b[32m'answers'\u001b[0m: \n",
       "\u001b[32m'answers'\u001b[0m\u001b[1m}\u001b[0m, \u001b[32m'data'\u001b[0m: \u001b[1m[\u001b[0m\u001b[1m{\u001b[0m\u001b[32m'name'\u001b[0m: \u001b[32m'synthesise previous runs'\u001b[0m, \u001b[32m'type'\u001b[0m: \u001b[32m'job'\u001b[0m, \u001b[32m'dataset'\u001b[0m: \u001b[32m'dmrc-analysis.toxicity.flow'\u001b[0m, \n",
       "\u001b[32m'max_records_per_group'\u001b[0m: \u001b[1;36m4\u001b[0m, \u001b[32m'last_n_days'\u001b[0m: \u001b[1;36m1\u001b[0m, \u001b[32m'agg'\u001b[0m: \u001b[3;92mTrue\u001b[0m, \u001b[32m'filter'\u001b[0m: \u001b[1m{\u001b[0m\u001b[32m'agent_info.flow'\u001b[0m: \u001b[32m'summarise OSB cases'\u001b[0m, \n",
       "\u001b[32m'parameters.model'\u001b[0m: \u001b[1m[\u001b[0m\u001b[32m'gpt4o'\u001b[0m, \u001b[32m'sonnet'\u001b[0m, \u001b[32m'gemini15pro'\u001b[0m\u001b[1m]\u001b[0m\u001b[1m}\u001b[0m, \u001b[32m'join'\u001b[0m: \u001b[1m{\u001b[0m\u001b[32m'record_id'\u001b[0m: \u001b[32m'record.record_id'\u001b[0m\u001b[1m}\u001b[0m, \u001b[32m'group'\u001b[0m: \n",
       "\u001b[1m{\u001b[0m\u001b[32m'flow'\u001b[0m: \u001b[32m'agent_info.flow'\u001b[0m, \u001b[32m'template'\u001b[0m: \u001b[32m'agent_info.template'\u001b[0m, \u001b[32m'model'\u001b[0m: \u001b[32m'parameters.model'\u001b[0m\u001b[1m}\u001b[0m, \u001b[32m'columns'\u001b[0m: \u001b[1m{\u001b[0m\u001b[32m'answers'\u001b[0m:\n",
       "\u001b[1m{\u001b[0m\u001b[32m'id'\u001b[0m: \u001b[32m'job_id'\u001b[0m, \u001b[32m'text'\u001b[0m: \u001b[32m'outputs'\u001b[0m\u001b[1m}\u001b[0m, \u001b[32m'meta'\u001b[0m: \u001b[1m{\u001b[0m\u001b[32m'flow'\u001b[0m: \u001b[32m'agent_info.flow'\u001b[0m, \u001b[32m'template'\u001b[0m: \u001b[32m'agent_info.template'\u001b[0m, \n",
       "\u001b[32m'agent_info'\u001b[0m: \u001b[32m'agent_info'\u001b[0m, \u001b[32m'model'\u001b[0m: \u001b[32m'parameters.model'\u001b[0m, \u001b[32m'timestamp'\u001b[0m: \u001b[32m'timestamp'\u001b[0m\u001b[1m}\u001b[0m\u001b[1m}\u001b[0m\u001b[1m}\u001b[0m\u001b[1m]\u001b[0m, \u001b[32m'save'\u001b[0m: \u001b[1m{\u001b[0m\u001b[32m'type'\u001b[0m: \u001b[32m'bq'\u001b[0m, \n",
       "\u001b[32m'dataset'\u001b[0m: \u001b[32m'dmrc-analysis.toxicity.flow'\u001b[0m, \u001b[32m'schema'\u001b[0m: \u001b[32m'buttermilk/schemas/flow.json'\u001b[0m\u001b[1m}\u001b[0m\u001b[1m}\u001b[0m, \u001b[1m{\u001b[0m\u001b[32m'name'\u001b[0m: \u001b[32m'export'\u001b[0m, \u001b[32m'agent'\u001b[0m: \n",
       "\u001b[1m{\u001b[0m\u001b[32m'type'\u001b[0m: \u001b[32m'GSheetExporter'\u001b[0m, \u001b[32m'sheet_name'\u001b[0m: \u001b[32m'OSB summaries'\u001b[0m\u001b[1m}\u001b[0m, \u001b[32m'save'\u001b[0m: \u001b[1m{\u001b[0m\u001b[32m'type'\u001b[0m: \u001b[32m'gsheets'\u001b[0m, \u001b[32m'destination'\u001b[0m: \u001b[32m'new'\u001b[0m\u001b[1m}\u001b[0m, \n",
       "\u001b[32m'data'\u001b[0m: \u001b[1m[\u001b[0m\u001b[1m{\u001b[0m\u001b[32m'name'\u001b[0m: \u001b[32m'osb all cases'\u001b[0m, \u001b[32m'type'\u001b[0m: \u001b[32m'file'\u001b[0m, \u001b[32m'uri'\u001b[0m: \u001b[32m'gs://dmrc-platforms/data/osb/cases.json'\u001b[0m, \u001b[32m'columns'\u001b[0m: \n",
       "\u001b[1m{\u001b[0m\u001b[32m'record_id'\u001b[0m: \u001b[32m'record_id'\u001b[0m, \u001b[32m'text'\u001b[0m: \u001b[32m'text'\u001b[0m\u001b[1m}\u001b[0m\u001b[1m}\u001b[0m, \u001b[1m{\u001b[0m\u001b[32m'name'\u001b[0m: \u001b[32m'eval'\u001b[0m, \u001b[32m'type'\u001b[0m: \u001b[32m'job'\u001b[0m, \u001b[32m'dataset'\u001b[0m: \n",
       "\u001b[32m'dmrc-analysis.toxicity.flow'\u001b[0m, \u001b[32m'max_records_per_group'\u001b[0m: \u001b[1;36m-1\u001b[0m, \u001b[32m'filter'\u001b[0m: \u001b[1m{\u001b[0m\u001b[32m'agent_info.flow'\u001b[0m: \u001b[32m'synthesise OSB cases'\u001b[0m\u001b[1m}\u001b[0m, \n",
       "\u001b[32m'join'\u001b[0m: \u001b[1m{\u001b[0m\u001b[32m'record_id'\u001b[0m: \u001b[32m'record.record_id'\u001b[0m\u001b[1m}\u001b[0m, \u001b[32m'agg'\u001b[0m: \u001b[3;91mFalse\u001b[0m, \u001b[32m'group'\u001b[0m: \u001b[1m{\u001b[0m\u001b[32m'id'\u001b[0m: \u001b[32m'job_id'\u001b[0m, \u001b[32m'flow'\u001b[0m: \u001b[32m'agent_info.flow'\u001b[0m\u001b[1m}\u001b[0m, \n",
       "\u001b[32m'columns'\u001b[0m: \u001b[1m{\u001b[0m\u001b[32m'model'\u001b[0m: \u001b[32m'parameters.model'\u001b[0m, \u001b[32m'timestamp'\u001b[0m: \u001b[32m'timestamp'\u001b[0m, \u001b[32m'title'\u001b[0m: \u001b[32m'outputs.title'\u001b[0m, \u001b[32m'date'\u001b[0m: \n",
       "\u001b[32m'outputs.date'\u001b[0m, \u001b[32m'content'\u001b[0m: \u001b[32m'outputs.content'\u001b[0m, \u001b[32m'reasons'\u001b[0m: \u001b[32m'outputs.reasons'\u001b[0m, \u001b[32m'recommendations'\u001b[0m: \n",
       "\u001b[32m'outputs.recommendations'\u001b[0m, \u001b[32m'result'\u001b[0m: \u001b[32m'outputs.result'\u001b[0m, \u001b[32m'type'\u001b[0m: \u001b[32m'outputs.type'\u001b[0m, \u001b[32m'topics'\u001b[0m: \u001b[32m'outputs.topics'\u001b[0m, \n",
       "\u001b[32m'standards'\u001b[0m: \u001b[32m'outputs.standards'\u001b[0m, \u001b[32m'location'\u001b[0m: \u001b[32m'outputs.location'\u001b[0m, \u001b[32m'outputs'\u001b[0m: \u001b[32m'outputs'\u001b[0m\u001b[1m}\u001b[0m\u001b[1m}\u001b[0m\u001b[1m]\u001b[0m\u001b[1m}\u001b[0m\u001b[1m]\u001b[0m\u001b[1m}\u001b[0m\n"
      ]
     },
     "metadata": {},
     "output_type": "display_data"
    }
   ],
   "source": [
    "import hydra\n",
    "from buttermilk import BM\n",
    "from promptflow.tracing import trace, start_trace\n",
    "from rich import print as rprint\n",
    "\n",
    "import os\n",
    "\n",
    "from hydra import initialize, compose\n",
    "from omegaconf import OmegaConf\n",
    "\n",
    "# Load config, specifying overrides for our particular job\n",
    "with initialize(version_base=None, config_path=\"../../conf\"):\n",
    "    cfg = compose(\n",
    "        config_name=\"config\",\n",
    "        overrides=[\n",
    "            \"+flows=summarise_osb\",\n",
    "        ],\n",
    "    )\n",
    "\n",
    "# Load the main ButterMilk singleton instance\n",
    "# This takes care of credentials, save paths, and other defaults\n",
    "\n",
    "# Hydra will automatically instantiate the objects\n",
    "objs = hydra.utils.instantiate(cfg)\n",
    "\n",
    "rprint(objs)\n"
   ]
  },
  {
   "cell_type": "code",
   "execution_count": 2,
   "metadata": {},
   "outputs": [],
   "source": [
    "bm = objs.bm\n",
    "\n",
    "logger = bm.logger\n"
   ]
  },
  {
   "cell_type": "code",
   "execution_count": null,
   "metadata": {},
   "outputs": [],
   "source": [
    "# Print config\n",
    "rprint(OmegaConf.to_container(bm.cfg, resolve=True))\n"
   ]
  },
  {
   "cell_type": "markdown",
   "metadata": {},
   "source": [
    "## First step assesses content against our criteria\n"
   ]
  },
  {
   "cell_type": "code",
   "execution_count": null,
   "metadata": {},
   "outputs": [],
   "source": [
    "# Create an orchestrator to conduct all combinations of jobs we want to run\n",
    "from buttermilk.runner.orchestrator import MultiFlowOrchestrator\n",
    "\n",
    "orchestrator = MultiFlowOrchestrator(\n",
    "    step=cfg.step[0], data=cfg.data, save=cfg.save, source=cfg.source\n",
    ")\n"
   ]
  },
  {
   "cell_type": "code",
   "execution_count": null,
   "metadata": {},
   "outputs": [],
   "source": [
    "await orchestrator.run_tasks()\n"
   ]
  },
  {
   "cell_type": "markdown",
   "metadata": {},
   "source": [
    "## Second step is a synthesis of previous draft answers\n"
   ]
  },
  {
   "cell_type": "code",
   "execution_count": null,
   "metadata": {},
   "outputs": [],
   "source": [
    "# Create an orchestrator to conduct all combinations of jobs we want to run\n",
    "from buttermilk.runner.orchestrator import MultiFlowOrchestrator\n",
    "\n",
    "orchestrator = MultiFlowOrchestrator(\n",
    "    step=cfg.step[1], data=cfg.data, save=cfg.save, source=cfg.source\n",
    ")\n"
   ]
  },
  {
   "cell_type": "code",
   "execution_count": null,
   "metadata": {},
   "outputs": [],
   "source": [
    "# Inspect the dataset so we can make sure the inputs look ok\n",
    "rprint(orchestrator._dataset.sample().answers.values[0])\n"
   ]
  },
  {
   "cell_type": "code",
   "execution_count": null,
   "metadata": {},
   "outputs": [],
   "source": [
    "await orchestrator.run_tasks()\n"
   ]
  },
  {
   "cell_type": "markdown",
   "metadata": {},
   "source": [
    "## Third step, we summarise the answers, similarities, and differences\n"
   ]
  },
  {
   "cell_type": "code",
   "execution_count": null,
   "metadata": {},
   "outputs": [],
   "source": [
    "# Create an orchestrator to conduct all combinations of jobs we want to run\n",
    "from buttermilk.runner.orchestrator import MultiFlowOrchestrator\n",
    "\n",
    "orchestrator = MultiFlowOrchestrator(\n",
    "    step=cfg.step[2], data=cfg.data, save=cfg.save, source=cfg.source\n",
    ")\n"
   ]
  },
  {
   "cell_type": "code",
   "execution_count": null,
   "metadata": {},
   "outputs": [],
   "source": [
    "# TODO: SAVE THE INDEX AS WELL\n"
   ]
  },
  {
   "cell_type": "code",
   "execution_count": null,
   "metadata": {},
   "outputs": [],
   "source": [
    "# save the input data from this step to a spreadsheet so that we can compare later.\n",
    "from buttermilk.utils.gsheet import GSheet, format_strings\n",
    "\n",
    "answers = format_strings(\n",
    "    orchestrator._dataset[[\"answers\"]], convert_json_columns=[\"answers\"]\n",
    ")\n",
    "answers.info()\n",
    "\n",
    "gsheet = GSheet()\n",
    "sheet = gsheet.save_gsheet(df=answers, sheet_name=\"evals\", title=\"results\")\n",
    "sheet_id = sheet.id\n"
   ]
  },
  {
   "cell_type": "code",
   "execution_count": null,
   "metadata": {},
   "outputs": [],
   "source": [
    "await orchestrator.run_tasks()\n"
   ]
  },
  {
   "cell_type": "markdown",
   "metadata": {},
   "source": [
    "# Export results to google sheet\n"
   ]
  },
  {
   "cell_type": "code",
   "execution_count": null,
   "metadata": {},
   "outputs": [],
   "source": [
    "from buttermilk.runner.helpers import prepare_step_data, load_data\n",
    "from buttermilk.utils.gsheet import GSheet\n",
    "\n",
    "evals = prepare_step_data(cfg.data, cfg.step[3].data)\n",
    "evals = (\n",
    "    evals.set_index([\"record_id\", \"model\"])\n",
    "    .sort_values(\"timestamp\", ascending=False)\n",
    "    .reset_index()\n",
    "    .drop_duplicates([\"record_id\", \"model\"])\n",
    ")\n",
    "evals = format_strings(evals, convert_json_columns=[\"analysis\"])\n",
    "evals = evals.set_index([\"record_id\"]).pivot(columns=\"model\", values=\"analysis\")\n",
    "sheet = gsheet.save_gsheet(\n",
    "    df=evals, sheet_id=sheet_id, sheet_name=\"evals\", title=\"results\"\n",
    ")\n"
   ]
  },
  {
   "cell_type": "markdown",
   "metadata": {},
   "source": []
  }
 ],
 "metadata": {
  "kernelspec": {
   "display_name": "bm",
   "language": "python",
   "name": "python3"
  },
  "language_info": {
   "codemirror_mode": {
    "name": "ipython",
    "version": 3
   },
   "file_extension": ".py",
   "mimetype": "text/x-python",
   "name": "python",
   "nbconvert_exporter": "python",
   "pygments_lexer": "ipython3",
   "version": "3.11.0"
  }
 },
 "nbformat": 4,
 "nbformat_minor": 2
}
