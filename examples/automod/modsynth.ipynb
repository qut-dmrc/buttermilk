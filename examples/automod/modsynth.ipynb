{
 "cells": [
  {
   "cell_type": "code",
   "execution_count": 1,
   "metadata": {},
   "outputs": [],
   "source": [
    "%load_ext autoreload\n",
    "%autoreload 2\n"
   ]
  },
  {
   "cell_type": "code",
   "execution_count": 2,
   "metadata": {},
   "outputs": [
    {
     "name": "stderr",
     "output_type": "stream",
     "text": [
      "/opt/homebrew/Caskroom/miniconda/base/envs/bm/lib/python3.11/site-packages/tqdm/auto.py:21: TqdmWarning: IProgress not found. Please update jupyter and ipywidgets. See https://ipywidgets.readthedocs.io/en/stable/user_install.html\n",
      "  from .autonotebook import tqdm as notebook_tqdm\n"
     ]
    },
    {
     "name": "stdout",
     "output_type": "stream",
     "text": [
      "\u001b[32m2024-11-05 22:20:08\u001b[0m \u001b[35mJ5HW6L4KT6\u001b[0m \u001b[34mbuttermilk\u001b[0m buttermilk.py[ 297] \u001b[1;30mINFO\u001b[0m {'message': \"Logging setup for: 20241105T1220Z-8xe7-J5HW6L4KT6-suzor. Ready for data collection, saving log to Google Cloud Logs (Resource(type='generic_task', labels={'project_id': 'dmrc-platforms', 'location': 'us-central1', 'namespace': 'automod', 'job': 'score', 'task_id': '20241105T1220Z-8xe7-J5HW6L4KT6-suzor'})). Default save directory for data in this run is: gs://dmrc-analysis/runs/automod/score/20241105T1220Z-8xe7-J5HW6L4KT6-suzor\", 'project': 'automod', 'job': 'score', 'run_id': '20241105T1220Z-8xe7-J5HW6L4KT6-suzor', 'save_dir': 'gs://dmrc-analysis/runs/automod/score/20241105T1220Z-8xe7-J5HW6L4KT6-suzor', 'ip': '159.196.210.27', 'node_name': 'J5HW6L4KT6', 'username': 'suzor'}\n",
      "\u001b[32m2024-11-05 22:20:08\u001b[0m \u001b[35mJ5HW6L4KT6\u001b[0m \u001b[34mbuttermilk\u001b[0m buttermilk.py[ 305] \u001b[1;30mDEBUG\u001b[0m \u001b[32mButtermilk version is: 0.2.0\u001b[0m\n",
      "Prompt flow service has started...\n"
     ]
    },
    {
     "data": {
      "text/html": [
       "<pre style=\"white-space:pre;overflow-x:auto;line-height:normal;font-family:Menlo,'DejaVu Sans Mono',consolas,'Courier New',monospace\"><span style=\"font-weight: bold\">{</span>\n",
       "    <span style=\"color: #008000; text-decoration-color: #008000\">'name'</span>: <span style=\"color: #008000; text-decoration-color: #008000\">'automod'</span>,\n",
       "    <span style=\"color: #008000; text-decoration-color: #008000\">'job'</span>: <span style=\"color: #008000; text-decoration-color: #008000\">'score'</span>,\n",
       "    <span style=\"color: #008000; text-decoration-color: #008000\">'source'</span>: <span style=\"color: #008000; text-decoration-color: #008000\">'notebook'</span>,\n",
       "    <span style=\"color: #008000; text-decoration-color: #008000\">'secret_provider'</span>: <span style=\"color: #008000; text-decoration-color: #008000\">'azure'</span>,\n",
       "    <span style=\"color: #008000; text-decoration-color: #008000\">'logger'</span>: <span style=\"color: #008000; text-decoration-color: #008000\">'gcp'</span>,\n",
       "    <span style=\"color: #008000; text-decoration-color: #008000\">'tracing'</span>: <span style=\"color: #00ff00; text-decoration-color: #00ff00; font-style: italic\">True</span>,\n",
       "    <span style=\"color: #008000; text-decoration-color: #008000\">'verbose'</span>: <span style=\"color: #00ff00; text-decoration-color: #00ff00; font-style: italic\">True</span>,\n",
       "    <span style=\"color: #008000; text-decoration-color: #008000\">'models_secret'</span>: <span style=\"color: #008000; text-decoration-color: #008000\">'models'</span>,\n",
       "    <span style=\"color: #008000; text-decoration-color: #008000\">'save_dest'</span>: <span style=\"color: #008000; text-decoration-color: #008000\">'gcp'</span>,\n",
       "    <span style=\"color: #008000; text-decoration-color: #008000\">'save_dir'</span>: <span style=\"color: #800080; text-decoration-color: #800080; font-style: italic\">None</span>,\n",
       "    <span style=\"color: #008000; text-decoration-color: #008000\">'gcp'</span>: <span style=\"font-weight: bold\">{</span><span style=\"color: #008000; text-decoration-color: #008000\">'project'</span>: <span style=\"color: #008000; text-decoration-color: #008000\">'dmrc-analysis'</span>, <span style=\"color: #008000; text-decoration-color: #008000\">'region'</span>: <span style=\"color: #008000; text-decoration-color: #008000\">'us-central1'</span>, <span style=\"color: #008000; text-decoration-color: #008000\">'bucket'</span>: <span style=\"color: #008000; text-decoration-color: #008000\">'dmrc-analysis'</span><span style=\"font-weight: bold\">}</span>,\n",
       "    <span style=\"color: #008000; text-decoration-color: #008000\">'azure'</span>: <span style=\"font-weight: bold\">{</span><span style=\"color: #008000; text-decoration-color: #008000\">'vault'</span>: <span style=\"color: #008000; text-decoration-color: #008000\">'https://suzorvault.vault.azure.net/'</span>, <span style=\"color: #008000; text-decoration-color: #008000\">'resource_group'</span>: <span style=\"color: #008000; text-decoration-color: #008000\">'rg-suzor_ai'</span><span style=\"font-weight: bold\">}</span>,\n",
       "    <span style=\"color: #008000; text-decoration-color: #008000\">'aws'</span>: <span style=\"font-weight: bold\">{</span><span style=\"color: #008000; text-decoration-color: #008000\">'secret_name'</span>: <span style=\"color: #008000; text-decoration-color: #008000\">'secret'</span>, <span style=\"color: #008000; text-decoration-color: #008000\">'region'</span>: <span style=\"color: #008000; text-decoration-color: #008000\">'us-east-1'</span><span style=\"font-weight: bold\">}</span>,\n",
       "    <span style=\"color: #008000; text-decoration-color: #008000\">'step'</span>: <span style=\"font-weight: bold\">[</span>\n",
       "        <span style=\"font-weight: bold\">{</span>\n",
       "            <span style=\"color: #008000; text-decoration-color: #008000\">'flow'</span>: <span style=\"color: #008000; text-decoration-color: #008000\">'judger'</span>,\n",
       "            <span style=\"color: #008000; text-decoration-color: #008000\">'num_runs'</span>: <span style=\"color: #008080; text-decoration-color: #008080; font-weight: bold\">1</span>,\n",
       "            <span style=\"color: #008000; text-decoration-color: #008000\">'concurrent'</span>: <span style=\"color: #008080; text-decoration-color: #008080; font-weight: bold\">20</span>,\n",
       "            <span style=\"color: #008000; text-decoration-color: #008000\">'agent'</span>: <span style=\"font-weight: bold\">{</span>\n",
       "                <span style=\"color: #008000; text-decoration-color: #008000\">'name'</span>: <span style=\"color: #008000; text-decoration-color: #008000\">'lc'</span>,\n",
       "                <span style=\"color: #008000; text-decoration-color: #008000\">'template'</span>: <span style=\"color: #008000; text-decoration-color: #008000\">'judge'</span>,\n",
       "                <span style=\"color: #008000; text-decoration-color: #008000\">'criteria'</span>: <span style=\"font-weight: bold\">[</span>\n",
       "                    <span style=\"color: #008000; text-decoration-color: #008000\">'trans_cte'</span>,\n",
       "                    <span style=\"color: #008000; text-decoration-color: #008000\">'trans_tja'</span>,\n",
       "                    <span style=\"color: #008000; text-decoration-color: #008000\">'trans_glaad'</span>,\n",
       "                    <span style=\"color: #008000; text-decoration-color: #008000\">'trans_hrc'</span>,\n",
       "                    <span style=\"color: #008000; text-decoration-color: #008000\">'trans_simplified'</span>,\n",
       "                    <span style=\"color: #008000; text-decoration-color: #008000\">'trans_factored'</span>\n",
       "                <span style=\"font-weight: bold\">]</span>,\n",
       "                <span style=\"color: #008000; text-decoration-color: #008000\">'formatting'</span>: <span style=\"color: #008000; text-decoration-color: #008000\">'json_rules'</span>,\n",
       "                <span style=\"color: #008000; text-decoration-color: #008000\">'model'</span>: <span style=\"font-weight: bold\">[</span><span style=\"color: #008000; text-decoration-color: #008000\">'haiku'</span><span style=\"font-weight: bold\">]</span>\n",
       "            <span style=\"font-weight: bold\">}</span>,\n",
       "            <span style=\"color: #008000; text-decoration-color: #008000\">'parameters'</span>: <span style=\"color: #800080; text-decoration-color: #800080; font-style: italic\">None</span>\n",
       "        <span style=\"font-weight: bold\">}</span>,\n",
       "        <span style=\"font-weight: bold\">{</span>\n",
       "            <span style=\"color: #008000; text-decoration-color: #008000\">'flow'</span>: <span style=\"color: #008000; text-decoration-color: #008000\">'synth'</span>,\n",
       "            <span style=\"color: #008000; text-decoration-color: #008000\">'num_runs'</span>: <span style=\"color: #008080; text-decoration-color: #008080; font-weight: bold\">1</span>,\n",
       "            <span style=\"color: #008000; text-decoration-color: #008000\">'concurrent'</span>: <span style=\"color: #008080; text-decoration-color: #008080; font-weight: bold\">20</span>,\n",
       "            <span style=\"color: #008000; text-decoration-color: #008000\">'agent'</span>: <span style=\"font-weight: bold\">{</span>\n",
       "                <span style=\"color: #008000; text-decoration-color: #008000\">'name'</span>: <span style=\"color: #008000; text-decoration-color: #008000\">'lc_judge'</span>,\n",
       "                <span style=\"color: #008000; text-decoration-color: #008000\">'template'</span>: <span style=\"color: #008000; text-decoration-color: #008000\">'synthesise'</span>,\n",
       "                <span style=\"color: #008000; text-decoration-color: #008000\">'criteria'</span>: <span style=\"font-weight: bold\">[</span><span style=\"color: #008000; text-decoration-color: #008000\">'trans_simplified'</span><span style=\"font-weight: bold\">]</span>,\n",
       "                <span style=\"color: #008000; text-decoration-color: #008000\">'formatting'</span>: <span style=\"color: #008000; text-decoration-color: #008000\">'json_rules'</span>,\n",
       "                <span style=\"color: #008000; text-decoration-color: #008000\">'model'</span>: <span style=\"font-weight: bold\">[</span><span style=\"color: #008000; text-decoration-color: #008000\">'haiku'</span><span style=\"font-weight: bold\">]</span>\n",
       "            <span style=\"font-weight: bold\">}</span>,\n",
       "            <span style=\"color: #008000; text-decoration-color: #008000\">'parameters'</span>: <span style=\"font-weight: bold\">{</span><span style=\"color: #008000; text-decoration-color: #008000\">'answers'</span>: <span style=\"color: #008000; text-decoration-color: #008000\">'answers'</span>, <span style=\"color: #008000; text-decoration-color: #008000\">'meta'</span>: <span style=\"color: #008000; text-decoration-color: #008000\">'meta'</span><span style=\"font-weight: bold\">}</span>,\n",
       "            <span style=\"color: #008000; text-decoration-color: #008000\">'data'</span>: <span style=\"font-weight: bold\">{</span>\n",
       "                <span style=\"color: #008000; text-decoration-color: #008000\">'judger'</span>: <span style=\"font-weight: bold\">{</span>\n",
       "                    <span style=\"color: #008000; text-decoration-color: #008000\">'name'</span>: <span style=\"color: #008000; text-decoration-color: #008000\">'previous runs'</span>,\n",
       "                    <span style=\"color: #008000; text-decoration-color: #008000\">'type'</span>: <span style=\"color: #008000; text-decoration-color: #008000\">'job'</span>,\n",
       "                    <span style=\"color: #008000; text-decoration-color: #008000\">'dataset'</span>: <span style=\"color: #008000; text-decoration-color: #008000\">'dmrc-analysis.toxicity.flow'</span>,\n",
       "                    <span style=\"color: #008000; text-decoration-color: #008000\">'max_records_per_group'</span>: <span style=\"color: #008080; text-decoration-color: #008080; font-weight: bold\">1</span>,\n",
       "                    <span style=\"color: #008000; text-decoration-color: #008000\">'filter'</span>: <span style=\"font-weight: bold\">{</span><span style=\"color: #008000; text-decoration-color: #008000\">'agent_info.flow'</span>: <span style=\"color: #008000; text-decoration-color: #008000\">'judger'</span><span style=\"font-weight: bold\">}</span>,\n",
       "                    <span style=\"color: #008000; text-decoration-color: #008000\">'group'</span>: <span style=\"font-weight: bold\">{</span>\n",
       "                        <span style=\"color: #008000; text-decoration-color: #008000\">'record_id'</span>: <span style=\"color: #008000; text-decoration-color: #008000\">'record.record_id'</span>,\n",
       "                        <span style=\"color: #008000; text-decoration-color: #008000\">'flow'</span>: <span style=\"color: #008000; text-decoration-color: #008000\">'agent_info.flow'</span>,\n",
       "                        <span style=\"color: #008000; text-decoration-color: #008000\">'template'</span>: <span style=\"color: #008000; text-decoration-color: #008000\">'agent_info.template'</span>,\n",
       "                        <span style=\"color: #008000; text-decoration-color: #008000\">'criteria'</span>: <span style=\"color: #008000; text-decoration-color: #008000\">'agent_info.template_vars.criteria'</span>,\n",
       "                        <span style=\"color: #008000; text-decoration-color: #008000\">'model'</span>: <span style=\"color: #008000; text-decoration-color: #008000\">'parameters.model'</span>\n",
       "                    <span style=\"font-weight: bold\">}</span>,\n",
       "                    <span style=\"color: #008000; text-decoration-color: #008000\">'columns'</span>: <span style=\"font-weight: bold\">{</span>\n",
       "                        <span style=\"color: #008000; text-decoration-color: #008000\">'answers'</span>: <span style=\"font-weight: bold\">{</span>\n",
       "                            <span style=\"color: #008000; text-decoration-color: #008000\">'id'</span>: <span style=\"color: #008000; text-decoration-color: #008000\">'job_id'</span>,\n",
       "                            <span style=\"color: #008000; text-decoration-color: #008000\">'model'</span>: <span style=\"color: #008000; text-decoration-color: #008000\">'model'</span>,\n",
       "                            <span style=\"color: #008000; text-decoration-color: #008000\">'criteria'</span>: <span style=\"color: #008000; text-decoration-color: #008000\">'criteria'</span>,\n",
       "                            <span style=\"color: #008000; text-decoration-color: #008000\">'template'</span>: <span style=\"color: #008000; text-decoration-color: #008000\">'template'</span>,\n",
       "                            <span style=\"color: #008000; text-decoration-color: #008000\">'flow'</span>: <span style=\"color: #008000; text-decoration-color: #008000\">'flow'</span>,\n",
       "                            <span style=\"color: #008000; text-decoration-color: #008000\">'reasons'</span>: <span style=\"color: #008000; text-decoration-color: #008000\">'outputs.reasons'</span>\n",
       "                        <span style=\"font-weight: bold\">}</span>,\n",
       "                        <span style=\"color: #008000; text-decoration-color: #008000\">'meta'</span>: <span style=\"font-weight: bold\">{</span>\n",
       "                            <span style=\"color: #008000; text-decoration-color: #008000\">'flow'</span>: <span style=\"color: #008000; text-decoration-color: #008000\">'agent_info.flow'</span>,\n",
       "                            <span style=\"color: #008000; text-decoration-color: #008000\">'template'</span>: <span style=\"color: #008000; text-decoration-color: #008000\">'agent_info.template'</span>,\n",
       "                            <span style=\"color: #008000; text-decoration-color: #008000\">'criteria'</span>: <span style=\"color: #008000; text-decoration-color: #008000\">'agent_info.template_vars.criteria'</span>,\n",
       "                            <span style=\"color: #008000; text-decoration-color: #008000\">'model'</span>: <span style=\"color: #008000; text-decoration-color: #008000\">'parameters.model'</span>,\n",
       "                            <span style=\"color: #008000; text-decoration-color: #008000\">'prediction'</span>: <span style=\"color: #008000; text-decoration-color: #008000\">'outputs.prediction'</span>,\n",
       "                            <span style=\"color: #008000; text-decoration-color: #008000\">'labels'</span>: <span style=\"color: #008000; text-decoration-color: #008000\">'outputs.labels'</span>,\n",
       "                            <span style=\"color: #008000; text-decoration-color: #008000\">'confidence'</span>: <span style=\"color: #008000; text-decoration-color: #008000\">'outputs.confidence'</span>,\n",
       "                            <span style=\"color: #008000; text-decoration-color: #008000\">'timestamp'</span>: <span style=\"color: #008000; text-decoration-color: #008000\">'timestamp'</span>\n",
       "                        <span style=\"font-weight: bold\">}</span>\n",
       "                    <span style=\"font-weight: bold\">}</span>\n",
       "                <span style=\"font-weight: bold\">}</span>\n",
       "            <span style=\"font-weight: bold\">}</span>\n",
       "        <span style=\"font-weight: bold\">}</span>,\n",
       "        <span style=\"font-weight: bold\">{</span>\n",
       "            <span style=\"color: #008000; text-decoration-color: #008000\">'flow'</span>: <span style=\"color: #008000; text-decoration-color: #008000\">'eval'</span>,\n",
       "            <span style=\"color: #008000; text-decoration-color: #008000\">'num_runs'</span>: <span style=\"color: #008080; text-decoration-color: #008080; font-weight: bold\">1</span>,\n",
       "            <span style=\"color: #008000; text-decoration-color: #008000\">'concurrent'</span>: <span style=\"color: #008080; text-decoration-color: #008080; font-weight: bold\">20</span>,\n",
       "            <span style=\"color: #008000; text-decoration-color: #008000\">'agent'</span>: <span style=\"font-weight: bold\">{</span>\n",
       "                <span style=\"color: #008000; text-decoration-color: #008000\">'name'</span>: <span style=\"color: #008000; text-decoration-color: #008000\">'lc'</span>,\n",
       "                <span style=\"color: #008000; text-decoration-color: #008000\">'template'</span>: <span style=\"color: #008000; text-decoration-color: #008000\">'differences'</span>,\n",
       "                <span style=\"color: #008000; text-decoration-color: #008000\">'criteria'</span>: <span style=\"font-weight: bold\">[</span><span style=\"color: #008000; text-decoration-color: #008000\">'trans_simplified'</span><span style=\"font-weight: bold\">]</span>,\n",
       "                <span style=\"color: #008000; text-decoration-color: #008000\">'formatting'</span>: <span style=\"color: #008000; text-decoration-color: #008000\">'json_reasons'</span>,\n",
       "                <span style=\"color: #008000; text-decoration-color: #008000\">'model'</span>: <span style=\"font-weight: bold\">[</span><span style=\"color: #008000; text-decoration-color: #008000\">'haiku'</span><span style=\"font-weight: bold\">]</span>\n",
       "            <span style=\"font-weight: bold\">}</span>,\n",
       "            <span style=\"color: #008000; text-decoration-color: #008000\">'parameters'</span>: <span style=\"font-weight: bold\">{</span><span style=\"color: #008000; text-decoration-color: #008000\">'answers'</span>: <span style=\"color: #008000; text-decoration-color: #008000\">'answers'</span>, <span style=\"color: #008000; text-decoration-color: #008000\">'meta'</span>: <span style=\"color: #008000; text-decoration-color: #008000\">'meta'</span><span style=\"font-weight: bold\">}</span>,\n",
       "            <span style=\"color: #008000; text-decoration-color: #008000\">'data'</span>: <span style=\"font-weight: bold\">{</span>\n",
       "                <span style=\"color: #008000; text-decoration-color: #008000\">'judger'</span>: <span style=\"font-weight: bold\">{</span>\n",
       "                    <span style=\"color: #008000; text-decoration-color: #008000\">'name'</span>: <span style=\"color: #008000; text-decoration-color: #008000\">'previous runs and synth'</span>,\n",
       "                    <span style=\"color: #008000; text-decoration-color: #008000\">'type'</span>: <span style=\"color: #008000; text-decoration-color: #008000\">'job'</span>,\n",
       "                    <span style=\"color: #008000; text-decoration-color: #008000\">'dataset'</span>: <span style=\"color: #008000; text-decoration-color: #008000\">'dmrc-analysis.toxicity.flow'</span>,\n",
       "                    <span style=\"color: #008000; text-decoration-color: #008000\">'max_records_per_group'</span>: <span style=\"color: #008080; text-decoration-color: #008080; font-weight: bold\">1</span>,\n",
       "                    <span style=\"color: #008000; text-decoration-color: #008000\">'filter'</span>: <span style=\"font-weight: bold\">{</span><span style=\"color: #008000; text-decoration-color: #008000\">'agent_info.flow'</span>: <span style=\"font-weight: bold\">[</span><span style=\"color: #008000; text-decoration-color: #008000\">'judger'</span>, <span style=\"color: #008000; text-decoration-color: #008000\">'synth'</span><span style=\"font-weight: bold\">]}</span>,\n",
       "                    <span style=\"color: #008000; text-decoration-color: #008000\">'group'</span>: <span style=\"font-weight: bold\">{</span>\n",
       "                        <span style=\"color: #008000; text-decoration-color: #008000\">'model'</span>: <span style=\"color: #008000; text-decoration-color: #008000\">'parameters.model'</span>,\n",
       "                        <span style=\"color: #008000; text-decoration-color: #008000\">'record_id'</span>: <span style=\"color: #008000; text-decoration-color: #008000\">'record.record_id'</span>,\n",
       "                        <span style=\"color: #008000; text-decoration-color: #008000\">'flow'</span>: <span style=\"color: #008000; text-decoration-color: #008000\">'agent_info.flow'</span>,\n",
       "                        <span style=\"color: #008000; text-decoration-color: #008000\">'template'</span>: <span style=\"color: #008000; text-decoration-color: #008000\">'agent_info.template'</span>,\n",
       "                        <span style=\"color: #008000; text-decoration-color: #008000\">'criteria'</span>: <span style=\"color: #008000; text-decoration-color: #008000\">'agent_info.template_vars.criteria'</span>\n",
       "                    <span style=\"font-weight: bold\">}</span>,\n",
       "                    <span style=\"color: #008000; text-decoration-color: #008000\">'columns'</span>: <span style=\"font-weight: bold\">{</span>\n",
       "                        <span style=\"color: #008000; text-decoration-color: #008000\">'answers'</span>: <span style=\"font-weight: bold\">{</span>\n",
       "                            <span style=\"color: #008000; text-decoration-color: #008000\">'id'</span>: <span style=\"color: #008000; text-decoration-color: #008000\">'job_id'</span>,\n",
       "                            <span style=\"color: #008000; text-decoration-color: #008000\">'flow'</span>: <span style=\"color: #008000; text-decoration-color: #008000\">'agent_info.flow'</span>,\n",
       "                            <span style=\"color: #008000; text-decoration-color: #008000\">'reasons'</span>: <span style=\"color: #008000; text-decoration-color: #008000\">'outputs.reasons'</span>,\n",
       "                            <span style=\"color: #008000; text-decoration-color: #008000\">'model'</span>: <span style=\"color: #008000; text-decoration-color: #008000\">'model'</span>,\n",
       "                            <span style=\"color: #008000; text-decoration-color: #008000\">'criteria'</span>: <span style=\"color: #008000; text-decoration-color: #008000\">'criteria'</span>,\n",
       "                            <span style=\"color: #008000; text-decoration-color: #008000\">'template'</span>: <span style=\"color: #008000; text-decoration-color: #008000\">'template'</span>\n",
       "                        <span style=\"font-weight: bold\">}</span>,\n",
       "                        <span style=\"color: #008000; text-decoration-color: #008000\">'meta'</span>: <span style=\"font-weight: bold\">{</span>\n",
       "                            <span style=\"color: #008000; text-decoration-color: #008000\">'flow'</span>: <span style=\"color: #008000; text-decoration-color: #008000\">'agent_info.flow'</span>,\n",
       "                            <span style=\"color: #008000; text-decoration-color: #008000\">'template'</span>: <span style=\"color: #008000; text-decoration-color: #008000\">'agent_info.template'</span>,\n",
       "                            <span style=\"color: #008000; text-decoration-color: #008000\">'criteria'</span>: <span style=\"color: #008000; text-decoration-color: #008000\">'agent_info.template_vars.criteria'</span>,\n",
       "                            <span style=\"color: #008000; text-decoration-color: #008000\">'model'</span>: <span style=\"color: #008000; text-decoration-color: #008000\">'parameters.model'</span>,\n",
       "                            <span style=\"color: #008000; text-decoration-color: #008000\">'prediction'</span>: <span style=\"color: #008000; text-decoration-color: #008000\">'outputs.prediction'</span>,\n",
       "                            <span style=\"color: #008000; text-decoration-color: #008000\">'labels'</span>: <span style=\"color: #008000; text-decoration-color: #008000\">'outputs.labels'</span>,\n",
       "                            <span style=\"color: #008000; text-decoration-color: #008000\">'confidence'</span>: <span style=\"color: #008000; text-decoration-color: #008000\">'outputs.confidence'</span>,\n",
       "                            <span style=\"color: #008000; text-decoration-color: #008000\">'timestamp'</span>: <span style=\"color: #008000; text-decoration-color: #008000\">'timestamp'</span>\n",
       "                        <span style=\"font-weight: bold\">}</span>\n",
       "                    <span style=\"font-weight: bold\">}</span>\n",
       "                <span style=\"font-weight: bold\">}</span>\n",
       "            <span style=\"font-weight: bold\">}</span>\n",
       "        <span style=\"font-weight: bold\">}</span>\n",
       "    <span style=\"font-weight: bold\">]</span>,\n",
       "    <span style=\"color: #008000; text-decoration-color: #008000\">'run'</span>: <span style=\"font-weight: bold\">{</span><span style=\"color: #008000; text-decoration-color: #008000\">'platform'</span>: <span style=\"color: #008000; text-decoration-color: #008000\">'local'</span><span style=\"font-weight: bold\">}</span>,\n",
       "    <span style=\"color: #008000; text-decoration-color: #008000\">'data'</span>: <span style=\"font-weight: bold\">{</span>\n",
       "        <span style=\"color: #008000; text-decoration-color: #008000\">'trans'</span>: <span style=\"font-weight: bold\">{</span>\n",
       "            <span style=\"color: #008000; text-decoration-color: #008000\">'name'</span>: <span style=\"color: #008000; text-decoration-color: #008000\">'trans news articles'</span>,\n",
       "            <span style=\"color: #008000; text-decoration-color: #008000\">'type'</span>: <span style=\"color: #008000; text-decoration-color: #008000\">'file'</span>,\n",
       "            <span style=\"color: #008000; text-decoration-color: #008000\">'uri'</span>: <span style=\"color: #008000; text-decoration-color: #008000\">'gs://dmrc-platforms/data/tja_train.jsonl'</span>,\n",
       "            <span style=\"color: #008000; text-decoration-color: #008000\">'columns'</span>: <span style=\"font-weight: bold\">{</span><span style=\"color: #008000; text-decoration-color: #008000\">'record_id'</span>: <span style=\"color: #008000; text-decoration-color: #008000\">'id'</span>, <span style=\"color: #008000; text-decoration-color: #008000\">'content'</span>: <span style=\"color: #008000; text-decoration-color: #008000\">'text'</span>, <span style=\"color: #008000; text-decoration-color: #008000\">'title'</span>: <span style=\"color: #008000; text-decoration-color: #008000\">'title'</span><span style=\"font-weight: bold\">}</span>\n",
       "        <span style=\"font-weight: bold\">}</span>\n",
       "    <span style=\"font-weight: bold\">}</span>,\n",
       "    <span style=\"color: #008000; text-decoration-color: #008000\">'save'</span>: <span style=\"font-weight: bold\">{</span><span style=\"color: #008000; text-decoration-color: #008000\">'type'</span>: <span style=\"color: #008000; text-decoration-color: #008000\">'bq'</span>, <span style=\"color: #008000; text-decoration-color: #008000\">'destination'</span>: <span style=\"color: #008000; text-decoration-color: #008000\">'dmrc-analysis.toxicity.flow'</span>, <span style=\"color: #008000; text-decoration-color: #008000\">'schema'</span>: <span style=\"color: #008000; text-decoration-color: #008000\">'flow.json'</span><span style=\"font-weight: bold\">}</span>\n",
       "<span style=\"font-weight: bold\">}</span>\n",
       "</pre>\n"
      ],
      "text/plain": [
       "\u001b[1m{\u001b[0m\n",
       "    \u001b[32m'name'\u001b[0m: \u001b[32m'automod'\u001b[0m,\n",
       "    \u001b[32m'job'\u001b[0m: \u001b[32m'score'\u001b[0m,\n",
       "    \u001b[32m'source'\u001b[0m: \u001b[32m'notebook'\u001b[0m,\n",
       "    \u001b[32m'secret_provider'\u001b[0m: \u001b[32m'azure'\u001b[0m,\n",
       "    \u001b[32m'logger'\u001b[0m: \u001b[32m'gcp'\u001b[0m,\n",
       "    \u001b[32m'tracing'\u001b[0m: \u001b[3;92mTrue\u001b[0m,\n",
       "    \u001b[32m'verbose'\u001b[0m: \u001b[3;92mTrue\u001b[0m,\n",
       "    \u001b[32m'models_secret'\u001b[0m: \u001b[32m'models'\u001b[0m,\n",
       "    \u001b[32m'save_dest'\u001b[0m: \u001b[32m'gcp'\u001b[0m,\n",
       "    \u001b[32m'save_dir'\u001b[0m: \u001b[3;35mNone\u001b[0m,\n",
       "    \u001b[32m'gcp'\u001b[0m: \u001b[1m{\u001b[0m\u001b[32m'project'\u001b[0m: \u001b[32m'dmrc-analysis'\u001b[0m, \u001b[32m'region'\u001b[0m: \u001b[32m'us-central1'\u001b[0m, \u001b[32m'bucket'\u001b[0m: \u001b[32m'dmrc-analysis'\u001b[0m\u001b[1m}\u001b[0m,\n",
       "    \u001b[32m'azure'\u001b[0m: \u001b[1m{\u001b[0m\u001b[32m'vault'\u001b[0m: \u001b[32m'https://suzorvault.vault.azure.net/'\u001b[0m, \u001b[32m'resource_group'\u001b[0m: \u001b[32m'rg-suzor_ai'\u001b[0m\u001b[1m}\u001b[0m,\n",
       "    \u001b[32m'aws'\u001b[0m: \u001b[1m{\u001b[0m\u001b[32m'secret_name'\u001b[0m: \u001b[32m'secret'\u001b[0m, \u001b[32m'region'\u001b[0m: \u001b[32m'us-east-1'\u001b[0m\u001b[1m}\u001b[0m,\n",
       "    \u001b[32m'step'\u001b[0m: \u001b[1m[\u001b[0m\n",
       "        \u001b[1m{\u001b[0m\n",
       "            \u001b[32m'flow'\u001b[0m: \u001b[32m'judger'\u001b[0m,\n",
       "            \u001b[32m'num_runs'\u001b[0m: \u001b[1;36m1\u001b[0m,\n",
       "            \u001b[32m'concurrent'\u001b[0m: \u001b[1;36m20\u001b[0m,\n",
       "            \u001b[32m'agent'\u001b[0m: \u001b[1m{\u001b[0m\n",
       "                \u001b[32m'name'\u001b[0m: \u001b[32m'lc'\u001b[0m,\n",
       "                \u001b[32m'template'\u001b[0m: \u001b[32m'judge'\u001b[0m,\n",
       "                \u001b[32m'criteria'\u001b[0m: \u001b[1m[\u001b[0m\n",
       "                    \u001b[32m'trans_cte'\u001b[0m,\n",
       "                    \u001b[32m'trans_tja'\u001b[0m,\n",
       "                    \u001b[32m'trans_glaad'\u001b[0m,\n",
       "                    \u001b[32m'trans_hrc'\u001b[0m,\n",
       "                    \u001b[32m'trans_simplified'\u001b[0m,\n",
       "                    \u001b[32m'trans_factored'\u001b[0m\n",
       "                \u001b[1m]\u001b[0m,\n",
       "                \u001b[32m'formatting'\u001b[0m: \u001b[32m'json_rules'\u001b[0m,\n",
       "                \u001b[32m'model'\u001b[0m: \u001b[1m[\u001b[0m\u001b[32m'haiku'\u001b[0m\u001b[1m]\u001b[0m\n",
       "            \u001b[1m}\u001b[0m,\n",
       "            \u001b[32m'parameters'\u001b[0m: \u001b[3;35mNone\u001b[0m\n",
       "        \u001b[1m}\u001b[0m,\n",
       "        \u001b[1m{\u001b[0m\n",
       "            \u001b[32m'flow'\u001b[0m: \u001b[32m'synth'\u001b[0m,\n",
       "            \u001b[32m'num_runs'\u001b[0m: \u001b[1;36m1\u001b[0m,\n",
       "            \u001b[32m'concurrent'\u001b[0m: \u001b[1;36m20\u001b[0m,\n",
       "            \u001b[32m'agent'\u001b[0m: \u001b[1m{\u001b[0m\n",
       "                \u001b[32m'name'\u001b[0m: \u001b[32m'lc_judge'\u001b[0m,\n",
       "                \u001b[32m'template'\u001b[0m: \u001b[32m'synthesise'\u001b[0m,\n",
       "                \u001b[32m'criteria'\u001b[0m: \u001b[1m[\u001b[0m\u001b[32m'trans_simplified'\u001b[0m\u001b[1m]\u001b[0m,\n",
       "                \u001b[32m'formatting'\u001b[0m: \u001b[32m'json_rules'\u001b[0m,\n",
       "                \u001b[32m'model'\u001b[0m: \u001b[1m[\u001b[0m\u001b[32m'haiku'\u001b[0m\u001b[1m]\u001b[0m\n",
       "            \u001b[1m}\u001b[0m,\n",
       "            \u001b[32m'parameters'\u001b[0m: \u001b[1m{\u001b[0m\u001b[32m'answers'\u001b[0m: \u001b[32m'answers'\u001b[0m, \u001b[32m'meta'\u001b[0m: \u001b[32m'meta'\u001b[0m\u001b[1m}\u001b[0m,\n",
       "            \u001b[32m'data'\u001b[0m: \u001b[1m{\u001b[0m\n",
       "                \u001b[32m'judger'\u001b[0m: \u001b[1m{\u001b[0m\n",
       "                    \u001b[32m'name'\u001b[0m: \u001b[32m'previous runs'\u001b[0m,\n",
       "                    \u001b[32m'type'\u001b[0m: \u001b[32m'job'\u001b[0m,\n",
       "                    \u001b[32m'dataset'\u001b[0m: \u001b[32m'dmrc-analysis.toxicity.flow'\u001b[0m,\n",
       "                    \u001b[32m'max_records_per_group'\u001b[0m: \u001b[1;36m1\u001b[0m,\n",
       "                    \u001b[32m'filter'\u001b[0m: \u001b[1m{\u001b[0m\u001b[32m'agent_info.flow'\u001b[0m: \u001b[32m'judger'\u001b[0m\u001b[1m}\u001b[0m,\n",
       "                    \u001b[32m'group'\u001b[0m: \u001b[1m{\u001b[0m\n",
       "                        \u001b[32m'record_id'\u001b[0m: \u001b[32m'record.record_id'\u001b[0m,\n",
       "                        \u001b[32m'flow'\u001b[0m: \u001b[32m'agent_info.flow'\u001b[0m,\n",
       "                        \u001b[32m'template'\u001b[0m: \u001b[32m'agent_info.template'\u001b[0m,\n",
       "                        \u001b[32m'criteria'\u001b[0m: \u001b[32m'agent_info.template_vars.criteria'\u001b[0m,\n",
       "                        \u001b[32m'model'\u001b[0m: \u001b[32m'parameters.model'\u001b[0m\n",
       "                    \u001b[1m}\u001b[0m,\n",
       "                    \u001b[32m'columns'\u001b[0m: \u001b[1m{\u001b[0m\n",
       "                        \u001b[32m'answers'\u001b[0m: \u001b[1m{\u001b[0m\n",
       "                            \u001b[32m'id'\u001b[0m: \u001b[32m'job_id'\u001b[0m,\n",
       "                            \u001b[32m'model'\u001b[0m: \u001b[32m'model'\u001b[0m,\n",
       "                            \u001b[32m'criteria'\u001b[0m: \u001b[32m'criteria'\u001b[0m,\n",
       "                            \u001b[32m'template'\u001b[0m: \u001b[32m'template'\u001b[0m,\n",
       "                            \u001b[32m'flow'\u001b[0m: \u001b[32m'flow'\u001b[0m,\n",
       "                            \u001b[32m'reasons'\u001b[0m: \u001b[32m'outputs.reasons'\u001b[0m\n",
       "                        \u001b[1m}\u001b[0m,\n",
       "                        \u001b[32m'meta'\u001b[0m: \u001b[1m{\u001b[0m\n",
       "                            \u001b[32m'flow'\u001b[0m: \u001b[32m'agent_info.flow'\u001b[0m,\n",
       "                            \u001b[32m'template'\u001b[0m: \u001b[32m'agent_info.template'\u001b[0m,\n",
       "                            \u001b[32m'criteria'\u001b[0m: \u001b[32m'agent_info.template_vars.criteria'\u001b[0m,\n",
       "                            \u001b[32m'model'\u001b[0m: \u001b[32m'parameters.model'\u001b[0m,\n",
       "                            \u001b[32m'prediction'\u001b[0m: \u001b[32m'outputs.prediction'\u001b[0m,\n",
       "                            \u001b[32m'labels'\u001b[0m: \u001b[32m'outputs.labels'\u001b[0m,\n",
       "                            \u001b[32m'confidence'\u001b[0m: \u001b[32m'outputs.confidence'\u001b[0m,\n",
       "                            \u001b[32m'timestamp'\u001b[0m: \u001b[32m'timestamp'\u001b[0m\n",
       "                        \u001b[1m}\u001b[0m\n",
       "                    \u001b[1m}\u001b[0m\n",
       "                \u001b[1m}\u001b[0m\n",
       "            \u001b[1m}\u001b[0m\n",
       "        \u001b[1m}\u001b[0m,\n",
       "        \u001b[1m{\u001b[0m\n",
       "            \u001b[32m'flow'\u001b[0m: \u001b[32m'eval'\u001b[0m,\n",
       "            \u001b[32m'num_runs'\u001b[0m: \u001b[1;36m1\u001b[0m,\n",
       "            \u001b[32m'concurrent'\u001b[0m: \u001b[1;36m20\u001b[0m,\n",
       "            \u001b[32m'agent'\u001b[0m: \u001b[1m{\u001b[0m\n",
       "                \u001b[32m'name'\u001b[0m: \u001b[32m'lc'\u001b[0m,\n",
       "                \u001b[32m'template'\u001b[0m: \u001b[32m'differences'\u001b[0m,\n",
       "                \u001b[32m'criteria'\u001b[0m: \u001b[1m[\u001b[0m\u001b[32m'trans_simplified'\u001b[0m\u001b[1m]\u001b[0m,\n",
       "                \u001b[32m'formatting'\u001b[0m: \u001b[32m'json_reasons'\u001b[0m,\n",
       "                \u001b[32m'model'\u001b[0m: \u001b[1m[\u001b[0m\u001b[32m'haiku'\u001b[0m\u001b[1m]\u001b[0m\n",
       "            \u001b[1m}\u001b[0m,\n",
       "            \u001b[32m'parameters'\u001b[0m: \u001b[1m{\u001b[0m\u001b[32m'answers'\u001b[0m: \u001b[32m'answers'\u001b[0m, \u001b[32m'meta'\u001b[0m: \u001b[32m'meta'\u001b[0m\u001b[1m}\u001b[0m,\n",
       "            \u001b[32m'data'\u001b[0m: \u001b[1m{\u001b[0m\n",
       "                \u001b[32m'judger'\u001b[0m: \u001b[1m{\u001b[0m\n",
       "                    \u001b[32m'name'\u001b[0m: \u001b[32m'previous runs and synth'\u001b[0m,\n",
       "                    \u001b[32m'type'\u001b[0m: \u001b[32m'job'\u001b[0m,\n",
       "                    \u001b[32m'dataset'\u001b[0m: \u001b[32m'dmrc-analysis.toxicity.flow'\u001b[0m,\n",
       "                    \u001b[32m'max_records_per_group'\u001b[0m: \u001b[1;36m1\u001b[0m,\n",
       "                    \u001b[32m'filter'\u001b[0m: \u001b[1m{\u001b[0m\u001b[32m'agent_info.flow'\u001b[0m: \u001b[1m[\u001b[0m\u001b[32m'judger'\u001b[0m, \u001b[32m'synth'\u001b[0m\u001b[1m]\u001b[0m\u001b[1m}\u001b[0m,\n",
       "                    \u001b[32m'group'\u001b[0m: \u001b[1m{\u001b[0m\n",
       "                        \u001b[32m'model'\u001b[0m: \u001b[32m'parameters.model'\u001b[0m,\n",
       "                        \u001b[32m'record_id'\u001b[0m: \u001b[32m'record.record_id'\u001b[0m,\n",
       "                        \u001b[32m'flow'\u001b[0m: \u001b[32m'agent_info.flow'\u001b[0m,\n",
       "                        \u001b[32m'template'\u001b[0m: \u001b[32m'agent_info.template'\u001b[0m,\n",
       "                        \u001b[32m'criteria'\u001b[0m: \u001b[32m'agent_info.template_vars.criteria'\u001b[0m\n",
       "                    \u001b[1m}\u001b[0m,\n",
       "                    \u001b[32m'columns'\u001b[0m: \u001b[1m{\u001b[0m\n",
       "                        \u001b[32m'answers'\u001b[0m: \u001b[1m{\u001b[0m\n",
       "                            \u001b[32m'id'\u001b[0m: \u001b[32m'job_id'\u001b[0m,\n",
       "                            \u001b[32m'flow'\u001b[0m: \u001b[32m'agent_info.flow'\u001b[0m,\n",
       "                            \u001b[32m'reasons'\u001b[0m: \u001b[32m'outputs.reasons'\u001b[0m,\n",
       "                            \u001b[32m'model'\u001b[0m: \u001b[32m'model'\u001b[0m,\n",
       "                            \u001b[32m'criteria'\u001b[0m: \u001b[32m'criteria'\u001b[0m,\n",
       "                            \u001b[32m'template'\u001b[0m: \u001b[32m'template'\u001b[0m\n",
       "                        \u001b[1m}\u001b[0m,\n",
       "                        \u001b[32m'meta'\u001b[0m: \u001b[1m{\u001b[0m\n",
       "                            \u001b[32m'flow'\u001b[0m: \u001b[32m'agent_info.flow'\u001b[0m,\n",
       "                            \u001b[32m'template'\u001b[0m: \u001b[32m'agent_info.template'\u001b[0m,\n",
       "                            \u001b[32m'criteria'\u001b[0m: \u001b[32m'agent_info.template_vars.criteria'\u001b[0m,\n",
       "                            \u001b[32m'model'\u001b[0m: \u001b[32m'parameters.model'\u001b[0m,\n",
       "                            \u001b[32m'prediction'\u001b[0m: \u001b[32m'outputs.prediction'\u001b[0m,\n",
       "                            \u001b[32m'labels'\u001b[0m: \u001b[32m'outputs.labels'\u001b[0m,\n",
       "                            \u001b[32m'confidence'\u001b[0m: \u001b[32m'outputs.confidence'\u001b[0m,\n",
       "                            \u001b[32m'timestamp'\u001b[0m: \u001b[32m'timestamp'\u001b[0m\n",
       "                        \u001b[1m}\u001b[0m\n",
       "                    \u001b[1m}\u001b[0m\n",
       "                \u001b[1m}\u001b[0m\n",
       "            \u001b[1m}\u001b[0m\n",
       "        \u001b[1m}\u001b[0m\n",
       "    \u001b[1m]\u001b[0m,\n",
       "    \u001b[32m'run'\u001b[0m: \u001b[1m{\u001b[0m\u001b[32m'platform'\u001b[0m: \u001b[32m'local'\u001b[0m\u001b[1m}\u001b[0m,\n",
       "    \u001b[32m'data'\u001b[0m: \u001b[1m{\u001b[0m\n",
       "        \u001b[32m'trans'\u001b[0m: \u001b[1m{\u001b[0m\n",
       "            \u001b[32m'name'\u001b[0m: \u001b[32m'trans news articles'\u001b[0m,\n",
       "            \u001b[32m'type'\u001b[0m: \u001b[32m'file'\u001b[0m,\n",
       "            \u001b[32m'uri'\u001b[0m: \u001b[32m'gs://dmrc-platforms/data/tja_train.jsonl'\u001b[0m,\n",
       "            \u001b[32m'columns'\u001b[0m: \u001b[1m{\u001b[0m\u001b[32m'record_id'\u001b[0m: \u001b[32m'id'\u001b[0m, \u001b[32m'content'\u001b[0m: \u001b[32m'text'\u001b[0m, \u001b[32m'title'\u001b[0m: \u001b[32m'title'\u001b[0m\u001b[1m}\u001b[0m\n",
       "        \u001b[1m}\u001b[0m\n",
       "    \u001b[1m}\u001b[0m,\n",
       "    \u001b[32m'save'\u001b[0m: \u001b[1m{\u001b[0m\u001b[32m'type'\u001b[0m: \u001b[32m'bq'\u001b[0m, \u001b[32m'destination'\u001b[0m: \u001b[32m'dmrc-analysis.toxicity.flow'\u001b[0m, \u001b[32m'schema'\u001b[0m: \u001b[32m'flow.json'\u001b[0m\u001b[1m}\u001b[0m\n",
       "\u001b[1m}\u001b[0m\n"
      ]
     },
     "metadata": {},
     "output_type": "display_data"
    }
   ],
   "source": [
    "\n",
    "from buttermilk import BM\n",
    "from promptflow.tracing import trace, start_trace\n",
    "from rich import print as rprint\n",
    "\n",
    "import os\n",
    "\n",
    "from hydra import initialize, compose\n",
    "from omegaconf import OmegaConf\n",
    "\n",
    "# Load config, specifying overrides for our particular job\n",
    "with initialize(version_base=None, config_path=\"./conf\"):\n",
    "    cfg = compose(config_name='config',\n",
    "                  overrides=[\"+data=trans\", \"+step=trans\", \"+save=bq\", \"job=score\",\"source=notebook\"])\n",
    "\n",
    "# Load the main ButterMilk singleton instance\n",
    "# This takes care of credentials, save paths, and other defaults\n",
    "bm = BM(cfg=cfg)\n",
    "\n",
    "# Print config\n",
    "rprint(OmegaConf.to_container(bm.cfg, resolve=True))\n",
    "\n"
   ]
  },
  {
   "cell_type": "markdown",
   "metadata": {},
   "source": [
    "## First step assesses content against our criteria"
   ]
  },
  {
   "cell_type": "code",
   "execution_count": null,
   "metadata": {},
   "outputs": [],
   "source": [
    "# Create an orchestrator to conduct all combinations of jobs we want to run\n",
    "from buttermilk.runner.orchestrator import MultiFlowOrchestrator\n",
    "orchestrator = MultiFlowOrchestrator(step=cfg.step[0], data=cfg.data, save=cfg.save, source=cfg.source)\n"
   ]
  },
  {
   "cell_type": "code",
   "execution_count": null,
   "metadata": {},
   "outputs": [],
   "source": [
    "await orchestrator.run_tasks()\n"
   ]
  },
  {
   "cell_type": "markdown",
   "metadata": {},
   "source": [
    "## Second step is a synthesis of previous draft answers"
   ]
  },
  {
   "cell_type": "code",
   "execution_count": null,
   "metadata": {},
   "outputs": [],
   "source": [
    "# Create an orchestrator to conduct all combinations of jobs we want to run\n",
    "from buttermilk.runner.orchestrator import MultiFlowOrchestrator\n",
    "orchestrator = MultiFlowOrchestrator(step=cfg.step[1], data=cfg.data, save=cfg.save, source=cfg.source)\n"
   ]
  },
  {
   "cell_type": "code",
   "execution_count": null,
   "metadata": {},
   "outputs": [],
   "source": [
    "# Inspect the dataset so we can make sure the inputs look ok\n",
    "rprint(orchestrator._dataset.sample().answers.values)\n"
   ]
  },
  {
   "cell_type": "code",
   "execution_count": null,
   "metadata": {},
   "outputs": [],
   "source": [
    "await orchestrator.run_tasks()\n"
   ]
  },
  {
   "cell_type": "markdown",
   "metadata": {},
   "source": [
    "## Third step, we summarise the answers, similarities, and differences"
   ]
  },
  {
   "cell_type": "code",
   "execution_count": 7,
   "metadata": {},
   "outputs": [
    {
     "name": "stdout",
     "output_type": "stream",
     "text": [
      "\u001b[32m2024-11-05 22:22:22\u001b[0m \u001b[35mJ5HW6L4KT6\u001b[0m \u001b[34mbuttermilk\u001b[0m buttermilk.py[ 376] \u001b[1;30mINFO\u001b[0m Query stats: Ran in 0:00:03.547215 seconds, cache hit: False, billed 10.49 MB, approx cost $5.2e-06.\n"
     ]
    },
    {
     "name": "stderr",
     "output_type": "stream",
     "text": [
      "INFO:buttermilk:Query stats: Ran in 0:00:03.547215 seconds, cache hit: False, billed 10.49 MB, approx cost $5.2e-06.\n"
     ]
    },
    {
     "name": "stdout",
     "output_type": "stream",
     "text": [
      "<class 'pandas.core.frame.DataFrame'>\n",
      "Index: 9 entries, NCAA_transgender_athletes to transgender_woman_murder_Baltimore\n",
      "Data columns (total 2 columns):\n",
      " #   Column   Non-Null Count  Dtype \n",
      "---  ------   --------------  ----- \n",
      " 0   meta     9 non-null      object\n",
      " 1   answers  9 non-null      object\n",
      "dtypes: object(2)\n",
      "memory usage: 216.0+ bytes\n"
     ]
    }
   ],
   "source": [
    "# Create an orchestrator to conduct all combinations of jobs we want to run\n",
    "from buttermilk.runner.orchestrator import MultiFlowOrchestrator\n",
    "orchestrator = MultiFlowOrchestrator(step=cfg.step[2], data=cfg.data, save=cfg.save, source=cfg.source)\n"
   ]
  },
  {
   "cell_type": "code",
   "execution_count": 12,
   "metadata": {},
   "outputs": [
    {
     "data": {
      "text/html": [
       "<pre style=\"white-space:pre;overflow-x:auto;line-height:normal;font-family:Menlo,'DejaVu Sans Mono',consolas,'Courier New',monospace\"><span style=\"font-weight: bold\">[</span><span style=\"color: #800080; text-decoration-color: #800080; font-weight: bold\">list</span><span style=\"font-weight: bold\">([{</span><span style=\"color: #008000; text-decoration-color: #008000\">'id'</span>: <span style=\"color: #008000; text-decoration-color: #008000\">'HzHa6MeQuTfJVsfJEipChP'</span>, <span style=\"color: #008000; text-decoration-color: #008000\">'flow'</span>: <span style=\"color: #008000; text-decoration-color: #008000\">'judger'</span>, <span style=\"color: #008000; text-decoration-color: #008000\">'reasons'</span>: <span style=\"font-weight: bold\">[</span><span style=\"color: #008000; text-decoration-color: #008000\">\"The content provided discusses the </span>\n",
       "<span style=\"color: #008000; text-decoration-color: #008000\">experiences of a transgender swimmer, Meghan Cortez-Fields, who competed on the women's swim team at Ramapo College</span>\n",
       "<span style=\"color: #008000; text-decoration-color: #008000\">after undergoing hormone therapy and meeting the NCAA's transgender athlete guidelines. The article also examines </span>\n",
       "<span style=\"color: #008000; text-decoration-color: #008000\">the broader debate around the participation of transgender athletes, particularly transgender women, in women's </span>\n",
       "<span style=\"color: #008000; text-decoration-color: #008000\">sports at the collegiate and high school levels.\"</span>, <span style=\"color: #008000; text-decoration-color: #008000\">\"The key issues raised in the content include the barriers </span>\n",
       "<span style=\"color: #008000; text-decoration-color: #008000\">transgender people face in accessing healthcare and identity documents, the risks of violence they face, the </span>\n",
       "<span style=\"color: #008000; text-decoration-color: #008000\">challenges they experience in employment and the criminal justice system, and the ongoing debate over their </span>\n",
       "<span style=\"color: #008000; text-decoration-color: #008000\">participation in women's sports. The article presents the perspectives of both transgender athletes and their </span>\n",
       "<span style=\"color: #008000; text-decoration-color: #008000\">advocates, as well as critics who argue that transgender women have unfair physical advantages.\"</span>, <span style=\"color: #008000; text-decoration-color: #008000\">\"The content </span>\n",
       "<span style=\"color: #008000; text-decoration-color: #008000\">acknowledges the lack of consistent, direct research on whether transgender women athletes have a competitive </span>\n",
       "<span style=\"color: #008000; text-decoration-color: #008000\">advantage over cisgender women, even after undergoing hormone therapy. It cites experts who argue that governing </span>\n",
       "<span style=\"color: #008000; text-decoration-color: #008000\">bodies like the NCAA should err on the side of inclusivity until more definitive data is available. The article </span>\n",
       "<span style=\"color: #008000; text-decoration-color: #008000\">also explores the role of Title IX in this debate, with transgender advocates arguing that it should protect the </span>\n",
       "<span style=\"color: #008000; text-decoration-color: #008000\">rights of transgender athletes, while some cisgender athletes and conservative lawmakers view the inclusion of </span>\n",
       "<span style=\"color: #008000; text-decoration-color: #008000\">transgender women in women's sports as a violation of Title IX.\"</span>, <span style=\"color: #008000; text-decoration-color: #008000\">'Overall, the content provides a nuanced and </span>\n",
       "<span style=\"color: #008000; text-decoration-color: #008000\">balanced examination of the complex issues surrounding transgender athlete participation, highlighting the personal</span>\n",
       "<span style=\"color: #008000; text-decoration-color: #008000\">experiences of transgender athletes, the scientific and legal debates, and the broader social and political </span>\n",
       "<span style=\"color: #008000; text-decoration-color: #008000\">context.'</span>, <span style=\"color: #008000; text-decoration-color: #008000\">'Based on the content and the criteria provided, I conclude that the article does not violate any of the</span>\n",
       "<span style=\"color: #008000; text-decoration-color: #008000\">guidelines for covering transgender people generally. The article uses the correct terminology, respects the </span>\n",
       "<span style=\"color: #008000; text-decoration-color: #008000\">pronouns and identity of the transgender athlete featured, and provides a comprehensive and contextual analysis of </span>\n",
       "<span style=\"color: #008000; text-decoration-color: #008000\">the issues surrounding transgender athlete participation.'</span><span style=\"font-weight: bold\">]</span>, <span style=\"color: #008000; text-decoration-color: #008000\">'model'</span>: <span style=\"color: #008000; text-decoration-color: #008000\">'haiku'</span>, <span style=\"color: #008000; text-decoration-color: #008000\">'criteria'</span>: <span style=\"color: #008000; text-decoration-color: #008000\">'trans_cte'</span>, <span style=\"color: #008000; text-decoration-color: #008000\">'template'</span>:\n",
       "<span style=\"color: #008000; text-decoration-color: #008000\">'judge'</span><span style=\"font-weight: bold\">}</span>, <span style=\"font-weight: bold\">{</span><span style=\"color: #008000; text-decoration-color: #008000\">'id'</span>: <span style=\"color: #008000; text-decoration-color: #008000\">'K8NFNUvLRPksNZbnv69EFh'</span>, <span style=\"color: #008000; text-decoration-color: #008000\">'flow'</span>: <span style=\"color: #008000; text-decoration-color: #008000\">'judger'</span>, <span style=\"color: #008000; text-decoration-color: #008000\">'reasons'</span>: <span style=\"font-weight: bold\">[</span><span style=\"color: #008000; text-decoration-color: #008000\">\"The content provides context and </span>\n",
       "<span style=\"color: #008000; text-decoration-color: #008000\">background on the experiences and perspectives of transgender athletes, particularly Meghan Cortez-Fields, a </span>\n",
       "<span style=\"color: #008000; text-decoration-color: #008000\">competitive swimmer. It explores the debates and policies surrounding transgender participation in women's sports, </span>\n",
       "<span style=\"color: #008000; text-decoration-color: #008000\">including the NCAA's policy, concerns raised by groups like the Independent Council on Women's Sports, and the lack</span>\n",
       "<span style=\"color: #008000; text-decoration-color: #008000\">of scientific consensus on transgender athletes' potential physical advantages. The content includes quotes and </span>\n",
       "<span style=\"color: #008000; text-decoration-color: #008000\">reasoning from advocates for transgender inclusion as well as those who oppose it, presenting a balanced </span>\n",
       "<span style=\"color: #008000; text-decoration-color: #008000\">perspective on this complex and contentious issue.\"</span>, <span style=\"color: #008000; text-decoration-color: #008000\">\"The content does not violate the policy criteria on </span>\n",
       "<span style=\"color: #008000; text-decoration-color: #008000\">'Unnecessary Identification' or 'Uses Incorrect Name or Pronouns'. Meghan Cortez-Fields' transgender identity and </span>\n",
       "<span style=\"color: #008000; text-decoration-color: #008000\">chosen name and pronouns are presented respectfully and appropriately in the context of discussing her experiences </span>\n",
       "<span style=\"color: #008000; text-decoration-color: #008000\">as a transgender athlete.\"</span>, <span style=\"color: #008000; text-decoration-color: #008000\">\"The content also does not violate the policy criteria on 'Uses Inaccurate </span>\n",
       "<span style=\"color: #008000; text-decoration-color: #008000\">Phrases/Descriptors'. The language used, such as 'transgender women' and 'cisgender women', is accurate and </span>\n",
       "<span style=\"color: #008000; text-decoration-color: #008000\">respectful. The article avoids using outdated or offensive terms and correctly distinguishes between gender </span>\n",
       "<span style=\"color: #008000; text-decoration-color: #008000\">identity, gender expression, and sexual orientation.\"</span>, <span style=\"color: #008000; text-decoration-color: #008000\">\"Regarding the 'Uses Politicized Phrases' criteria, the </span>\n",
       "<span style=\"color: #008000; text-decoration-color: #008000\">content does mention some terms that have been politicized, such as 'gender ideology' and 'trans agenda', but these</span>\n",
       "<span style=\"color: #008000; text-decoration-color: #008000\">are presented as part of the ongoing debate and are not used by the author in a way that promotes or endorses such </span>\n",
       "<span style=\"color: #008000; text-decoration-color: #008000\">framing. The article overall maintains a neutral, fact-based tone.\"</span>, <span style=\"color: #008000; text-decoration-color: #008000\">\"The content does not violate the 'Uses </span>\n",
       "<span style=\"color: #008000; text-decoration-color: #008000\">Harmful Narratives' criteria. It acknowledges the discrimination and challenges faced by transgender individuals, </span>\n",
       "<span style=\"color: #008000; text-decoration-color: #008000\">including higher rates of homelessness and vulnerability to hate crimes, without sensationalizing or perpetuating </span>\n",
       "<span style=\"color: #008000; text-decoration-color: #008000\">harmful stereotypes. The article presents a balanced perspective, including voices and data from both advocates and</span>\n",
       "<span style=\"color: #008000; text-decoration-color: #008000\">critics of transgender inclusion in women's sports.\"</span>, <span style=\"color: #008000; text-decoration-color: #008000\">\"The content does not make assumptions about Meghan </span>\n",
       "<span style=\"color: #008000; text-decoration-color: #008000\">Cortez-Fields' gender identity, and it correctly states that she was misidentified or wrongly identified in the </span>\n",
       "<span style=\"color: #008000; text-decoration-color: #008000\">past. The article avoids language that could stigmatize or delegitimize her transgender identity.\"</span>, <span style=\"color: #008000; text-decoration-color: #008000\">\"Regarding </span>\n",
       "<span style=\"color: #008000; text-decoration-color: #008000\">'Inappropriate Medicalization', the content does discuss Cortez-Fields' medical transition and the NCAA's policies,</span>\n",
       "<span style=\"color: #008000; text-decoration-color: #008000\">but it does so in a manner that is relevant to the context and does not sensationalize or reduce her to just her </span>\n",
       "<span style=\"color: #008000; text-decoration-color: #008000\">medical experiences. The focus remains on her overall experiences and perspectives as a transgender athlete.\"</span>, <span style=\"color: #008000; text-decoration-color: #008000\">'The</span>\n",
       "<span style=\"color: #008000; text-decoration-color: #008000\">content is framed as addressing a systemic issue, acknowledging the discrimination and challenges faced by </span>\n",
       "<span style=\"color: #008000; text-decoration-color: #008000\">transgender individuals in sports and the lack of scientific consensus on the topic. It presents the perspectives </span>\n",
       "<span style=\"color: #008000; text-decoration-color: #008000\">of both advocates and critics, providing context on the broader debates and policies surrounding transgender </span>\n",
       "<span style=\"color: #008000; text-decoration-color: #008000\">participation.'</span><span style=\"font-weight: bold\">]</span>, <span style=\"color: #008000; text-decoration-color: #008000\">'model'</span>: <span style=\"color: #008000; text-decoration-color: #008000\">'haiku'</span>, <span style=\"color: #008000; text-decoration-color: #008000\">'criteria'</span>: <span style=\"color: #008000; text-decoration-color: #008000\">'trans_factored'</span>, <span style=\"color: #008000; text-decoration-color: #008000\">'template'</span>: <span style=\"color: #008000; text-decoration-color: #008000\">'judge'</span><span style=\"font-weight: bold\">}</span>, <span style=\"font-weight: bold\">{</span><span style=\"color: #008000; text-decoration-color: #008000\">'id'</span>: \n",
       "<span style=\"color: #008000; text-decoration-color: #008000\">'RHuZK3YARaJe9T5noBhbiQ'</span>, <span style=\"color: #008000; text-decoration-color: #008000\">'flow'</span>: <span style=\"color: #008000; text-decoration-color: #008000\">'judger'</span>, <span style=\"color: #008000; text-decoration-color: #008000\">'reasons'</span>: <span style=\"font-weight: bold\">[</span><span style=\"color: #008000; text-decoration-color: #008000\">\"The content provided appears to be a news article about </span>\n",
       "<span style=\"color: #008000; text-decoration-color: #008000\">transgender athlete Meghan Cortez-Fields and the ongoing debate over the participation of transgender women in </span>\n",
       "<span style=\"color: #008000; text-decoration-color: #008000\">women's sports. The article discusses Cortez-Fields' experience as a transgender swimmer competing on the women's </span>\n",
       "<span style=\"color: #008000; text-decoration-color: #008000\">swim team at Ramapo College, as well as the broader policy debates and legal challenges surrounding transgender </span>\n",
       "<span style=\"color: #008000; text-decoration-color: #008000\">athlete participation. It examines the arguments and perspectives from both sides of the issue, including the </span>\n",
       "<span style=\"color: #008000; text-decoration-color: #008000\">claims about potential physical advantages for transgender women and the lack of consistent scientific research on </span>\n",
       "<span style=\"color: #008000; text-decoration-color: #008000\">the topic. The article also touches on the role of Title IX protections and the efforts by some state and federal </span>\n",
       "<span style=\"color: #008000; text-decoration-color: #008000\">lawmakers to restrict transgender athlete participation. Overall, the content provides a nuanced, balanced look at </span>\n",
       "<span style=\"color: #008000; text-decoration-color: #008000\">a complex and controversial issue.\"</span>, <span style=\"color: #008000; text-decoration-color: #008000\">\"Regarding the 'Names and Pronouns' criteria, the article consistently uses </span>\n",
       "<span style=\"color: #008000; text-decoration-color: #008000\">Meghan Cortez-Fields' chosen name and correct pronouns (she/her) when referring to her. There is no indication of </span>\n",
       "<span style=\"color: #008000; text-decoration-color: #008000\">'deadnaming' or misgendering in the text.\"</span>, <span style=\"color: #008000; text-decoration-color: #008000\">\"For the 'Basics of writing a transgender story' criteria, the article </span>\n",
       "<span style=\"color: #008000; text-decoration-color: #008000\">generally follows best practices. It avoids sensationalized language, focuses on Cortez-Fields' personal </span>\n",
       "<span style=\"color: #008000; text-decoration-color: #008000\">experiences and athletic accomplishments rather than solely on her transition, and includes expert commentary from </span>\n",
       "<span style=\"color: #008000; text-decoration-color: #008000\">transgender advocates and medical professionals. The article also acknowledges the lack of definitive research on </span>\n",
       "<span style=\"color: #008000; text-decoration-color: #008000\">the issue of transgender athlete participation.\"</span>, <span style=\"color: #008000; text-decoration-color: #008000\">\"While the article does mention some of the social issues and </span>\n",
       "<span style=\"color: #008000; text-decoration-color: #008000\">challenges facing transgender people, including discrimination and violence, it does not go into extensive detail </span>\n",
       "<span style=\"color: #008000; text-decoration-color: #008000\">about these topics. The focus remains primarily on the specific issue of transgender athlete participation in </span>\n",
       "<span style=\"color: #008000; text-decoration-color: #008000\">women's sports.\"</span>, <span style=\"color: #008000; text-decoration-color: #008000\">\"Overall, the content appears to be a well-researched, nuanced, and respectful portrayal of </span>\n",
       "<span style=\"color: #008000; text-decoration-color: #008000\">Meghan Cortez-Fields' experience as a transgender swimmer and the broader debate surrounding transgender athlete </span>\n",
       "<span style=\"color: #008000; text-decoration-color: #008000\">participation. The article makes a concerted effort to present multiple perspectives on this complex issue.\"</span><span style=\"font-weight: bold\">]</span>, \n",
       "<span style=\"color: #008000; text-decoration-color: #008000\">'model'</span>: <span style=\"color: #008000; text-decoration-color: #008000\">'haiku'</span>, <span style=\"color: #008000; text-decoration-color: #008000\">'criteria'</span>: <span style=\"color: #008000; text-decoration-color: #008000\">'trans_glaad'</span>, <span style=\"color: #008000; text-decoration-color: #008000\">'template'</span>: <span style=\"color: #008000; text-decoration-color: #008000\">'judge'</span><span style=\"font-weight: bold\">}</span>, <span style=\"font-weight: bold\">{</span><span style=\"color: #008000; text-decoration-color: #008000\">'id'</span>: <span style=\"color: #008000; text-decoration-color: #008000\">'PoWXTHAs2AjaaFZrpiMkXb'</span>, <span style=\"color: #008000; text-decoration-color: #008000\">'flow'</span>: \n",
       "<span style=\"color: #008000; text-decoration-color: #008000\">'judger'</span>, <span style=\"color: #008000; text-decoration-color: #008000\">'reasons'</span>: <span style=\"font-weight: bold\">[</span><span style=\"color: #008000; text-decoration-color: #008000\">\"The provided content discusses the experiences and perspectives of a transgender collegiate </span>\n",
       "<span style=\"color: #008000; text-decoration-color: #008000\">swimmer, Meghan Cortez-Fields, as well as the broader debate around the participation of transgender athletes in </span>\n",
       "<span style=\"color: #008000; text-decoration-color: #008000\">women's sports. It covers the NCAA's policies, arguments from both sides of the debate, and the lack of scientific </span>\n",
       "<span style=\"color: #008000; text-decoration-color: #008000\">consensus on potential physical advantages of transgender women in sports. The content provides context around the </span>\n",
       "<span style=\"color: #008000; text-decoration-color: #008000\">personal significance of sports participation for transgender individuals and the impact of exclusionary </span>\n",
       "<span style=\"color: #008000; text-decoration-color: #008000\">policies.\"</span>, <span style=\"color: #008000; text-decoration-color: #008000\">\"The content indicates that Cortez-Fields underwent over a year of hormone therapy, blood tests, and </span>\n",
       "<span style=\"color: #008000; text-decoration-color: #008000\">testosterone tracking to meet the NCAA's guidelines for transgender athlete participation. This suggests the NCAA </span>\n",
       "<span style=\"color: #008000; text-decoration-color: #008000\">has policies and requirements in place to address potential advantages, even if they remain controversial.\"</span>, <span style=\"color: #008000; text-decoration-color: #008000\">'The </span>\n",
       "<span style=\"color: #008000; text-decoration-color: #008000\">content cites a lack of consistent, direct research to support claims that transgender women have unfair physical </span>\n",
       "<span style=\"color: #008000; text-decoration-color: #008000\">advantages. It notes that until more data is available, governing bodies like the NCAA should be cautious about </span>\n",
       "<span style=\"color: #008000; text-decoration-color: #008000\">enacting sweeping restrictions, erring on the side of inclusion.'</span>, <span style=\"color: #008000; text-decoration-color: #008000\">\"The content discusses the invocation of Title </span>\n",
       "<span style=\"color: #008000; text-decoration-color: #008000\">IX, the federal law prohibiting sex-based discrimination, by both sides of the debate. Transgender advocacy groups </span>\n",
       "<span style=\"color: #008000; text-decoration-color: #008000\">see Title IX as protecting the rights of transgender athletes, while some cisgender athletes and conservatives view</span>\n",
       "<span style=\"color: #008000; text-decoration-color: #008000\">the inclusion of transgender women as a violation of Title IX's original intent to protect opportunities for </span>\n",
       "<span style=\"color: #008000; text-decoration-color: #008000\">cisgender women.\"</span>, <span style=\"color: #008000; text-decoration-color: #008000\">'Overall, the content presents a nuanced discussion of the complex issues surrounding </span>\n",
       "<span style=\"color: #008000; text-decoration-color: #008000\">transgender athlete participation, highlighting the personal experiences of transgender athletes, the lack of </span>\n",
       "<span style=\"color: #008000; text-decoration-color: #008000\">scientific consensus, and the ongoing legal and political debates around this topic.'</span><span style=\"font-weight: bold\">]</span>, <span style=\"color: #008000; text-decoration-color: #008000\">'model'</span>: <span style=\"color: #008000; text-decoration-color: #008000\">'haiku'</span>, \n",
       "<span style=\"color: #008000; text-decoration-color: #008000\">'criteria'</span>: <span style=\"color: #008000; text-decoration-color: #008000\">'trans_hrc'</span>, <span style=\"color: #008000; text-decoration-color: #008000\">'template'</span>: <span style=\"color: #008000; text-decoration-color: #008000\">'judge'</span><span style=\"font-weight: bold\">}</span>, <span style=\"font-weight: bold\">{</span><span style=\"color: #008000; text-decoration-color: #008000\">'id'</span>: <span style=\"color: #008000; text-decoration-color: #008000\">'ikwqXeopDjoVkbgqPLqGZj'</span>, <span style=\"color: #008000; text-decoration-color: #008000\">'flow'</span>: <span style=\"color: #008000; text-decoration-color: #008000\">'judger'</span>, <span style=\"color: #008000; text-decoration-color: #008000\">'reasons'</span>: <span style=\"font-weight: bold\">[</span><span style=\"color: #008000; text-decoration-color: #008000\">\"The </span>\n",
       "<span style=\"color: #008000; text-decoration-color: #008000\">content provides context around the experiences of a transgender swimmer, Meghan Cortez-Fields, who competed on the</span>\n",
       "<span style=\"color: #008000; text-decoration-color: #008000\">women's swim team at Ramapo College after undergoing hormone therapy and meeting the NCAA's transgender athlete </span>\n",
       "<span style=\"color: #008000; text-decoration-color: #008000\">guidelines. It discusses the debate around transgender athletes' participation in women's sports, including </span>\n",
       "<span style=\"color: #008000; text-decoration-color: #008000\">arguments from both sides and the lack of scientific consensus on whether transgender women have an unfair physical</span>\n",
       "<span style=\"color: #008000; text-decoration-color: #008000\">advantage. The content also touches on the use of Title IX to either include or exclude transgender athletes, as </span>\n",
       "<span style=\"color: #008000; text-decoration-color: #008000\">well as the spread of state-level legislation banning transgender students from participating in sports aligned </span>\n",
       "<span style=\"color: #008000; text-decoration-color: #008000\">with their gender identity.\"</span>, <span style=\"color: #008000; text-decoration-color: #008000\">\"The content does not appear to use offensive terms or language that diminishes </span>\n",
       "<span style=\"color: #008000; text-decoration-color: #008000\">Cortez-Fields' gender identity. It refers to her using her chosen name and pronouns, and avoids phrases that cast </span>\n",
       "<span style=\"color: #008000; text-decoration-color: #008000\">doubt on her gender. The article also provides relevant context about her transition and journey to compete as a </span>\n",
       "<span style=\"color: #008000; text-decoration-color: #008000\">woman, rather than focusing solely on medical details.\"</span>, <span style=\"color: #008000; text-decoration-color: #008000\">'The content does not appear to perpetuate negative or </span>\n",
       "<span style=\"color: #008000; text-decoration-color: #008000\">incorrect perceptions of gender identities. It presents a balanced perspective, acknowledging the ongoing debate </span>\n",
       "<span style=\"color: #008000; text-decoration-color: #008000\">and lack of scientific consensus, while highlighting the importance of inclusion for transgender athletes like </span>\n",
       "<span style=\"color: #008000; text-decoration-color: #008000\">Cortez-Fields.'</span>, <span style=\"color: #008000; text-decoration-color: #008000\">'The content does not publish false narratives about transgender people. It accurately describes </span>\n",
       "<span style=\"color: #008000; text-decoration-color: #008000\">the arguments on both sides of the debate, including the claims made by groups like ICONS, and notes the lack of </span>\n",
       "<span style=\"color: #008000; text-decoration-color: #008000\">consistent, direct research to support the assertion that transgender women have unfair physical advantages.'</span>, \n",
       "<span style=\"color: #008000; text-decoration-color: #008000\">'Overall, the content appears to adhere to the guidelines by using appropriate terminology, providing relevant </span>\n",
       "<span style=\"color: #008000; text-decoration-color: #008000\">context, and avoiding harmful stereotypes or false narratives about transgender people. The article gives voice to </span>\n",
       "<span style=\"color: #008000; text-decoration-color: #008000\">the experiences and perspectives of a transgender athlete while also acknowledging the complex and ongoing debate </span>\n",
       "<span style=\"color: #008000; text-decoration-color: #008000\">surrounding this issue.'</span><span style=\"font-weight: bold\">]</span>, <span style=\"color: #008000; text-decoration-color: #008000\">'model'</span>: <span style=\"color: #008000; text-decoration-color: #008000\">'haiku'</span>, <span style=\"color: #008000; text-decoration-color: #008000\">'criteria'</span>: <span style=\"color: #008000; text-decoration-color: #008000\">'trans_simplified'</span>, <span style=\"color: #008000; text-decoration-color: #008000\">'template'</span>: <span style=\"color: #008000; text-decoration-color: #008000\">'judge'</span><span style=\"font-weight: bold\">}</span>, <span style=\"font-weight: bold\">{</span><span style=\"color: #008000; text-decoration-color: #008000\">'id'</span>: \n",
       "<span style=\"color: #008000; text-decoration-color: #008000\">'USfxaTSpEdAnu23wiFfF5j'</span>, <span style=\"color: #008000; text-decoration-color: #008000\">'flow'</span>: <span style=\"color: #008000; text-decoration-color: #008000\">'judger'</span>, <span style=\"color: #008000; text-decoration-color: #008000\">'reasons'</span>: <span style=\"font-weight: bold\">[</span><span style=\"color: #008000; text-decoration-color: #008000\">\"The content appears to be an article discussing the debate</span>\n",
       "<span style=\"color: #008000; text-decoration-color: #008000\">around transgender athletes' participation in women's sports, particularly focusing on the case of Meghan </span>\n",
       "<span style=\"color: #008000; text-decoration-color: #008000\">Cortez-Fields, a transgender swimmer at Ramapo College. The article provides context on the policy changes and </span>\n",
       "<span style=\"color: #008000; text-decoration-color: #008000\">debates at the NCAA and other athletic associations, as well as perspectives from both sides of the issue.\"</span>, <span style=\"color: #008000; text-decoration-color: #008000\">\"The </span>\n",
       "<span style=\"color: #008000; text-decoration-color: #008000\">article cites research on potential advantages for transgender women athletes, noting a lack of consistent </span>\n",
       "<span style=\"color: #008000; text-decoration-color: #008000\">scientific consensus on the issue. It highlights the experiences of transgender athletes like Cortez-Fields, who </span>\n",
       "<span style=\"color: #008000; text-decoration-color: #008000\">faced challenges competing on the men's team before transitioning, and the support they have received from </span>\n",
       "<span style=\"color: #008000; text-decoration-color: #008000\">teammates. The article also discusses the implications of state-level bans on transgender athletes' </span>\n",
       "<span style=\"color: #008000; text-decoration-color: #008000\">participation.\"</span>, <span style=\"color: #008000; text-decoration-color: #008000\">\"Overall, the article presents a nuanced look at the debate, considering the perspectives of </span>\n",
       "<span style=\"color: #008000; text-decoration-color: #008000\">transgender athletes, their advocates, and those who argue for restricting transgender women's participation in </span>\n",
       "<span style=\"color: #008000; text-decoration-color: #008000\">women's sports. It provides relevant context and specific examples to explore the complexities of this issue.\"</span>, \n",
       "<span style=\"color: #008000; text-decoration-color: #008000\">\"Based on the content and context provided, this article does not appear to violate the Trans Journalists </span>\n",
       "<span style=\"color: #008000; text-decoration-color: #008000\">Association's Stylebook and Coverage Guide. The article is generally aligned with the guide's recommendations for </span>\n",
       "<span style=\"color: #008000; text-decoration-color: #008000\">reporting on transgender athletes and related policy debates.\"</span>, <span style=\"color: #008000; text-decoration-color: #008000\">'The article centers the experiences and </span>\n",
       "<span style=\"color: #008000; text-decoration-color: #008000\">perspectives of transgender athletes, avoids the use of problematic language or framing, and provides appropriate </span>\n",
       "<span style=\"color: #008000; text-decoration-color: #008000\">context and nuance around the scientific research and policy debates. It does not appear to make unsupported claims</span>\n",
       "<span style=\"color: #008000; text-decoration-color: #008000\">or rely on biased sources.'</span><span style=\"font-weight: bold\">]</span>, <span style=\"color: #008000; text-decoration-color: #008000\">'model'</span>: <span style=\"color: #008000; text-decoration-color: #008000\">'haiku'</span>, <span style=\"color: #008000; text-decoration-color: #008000\">'criteria'</span>: <span style=\"color: #008000; text-decoration-color: #008000\">'trans_tja'</span>, <span style=\"color: #008000; text-decoration-color: #008000\">'template'</span>: <span style=\"color: #008000; text-decoration-color: #008000\">'judge'</span><span style=\"font-weight: bold\">}</span>, <span style=\"font-weight: bold\">{</span><span style=\"color: #008000; text-decoration-color: #008000\">'id'</span>: \n",
       "<span style=\"color: #008000; text-decoration-color: #008000\">'9LAANVbj9ffxKysPxTzgAV'</span>, <span style=\"color: #008000; text-decoration-color: #008000\">'flow'</span>: <span style=\"color: #008000; text-decoration-color: #008000\">'synth'</span>, <span style=\"color: #008000; text-decoration-color: #008000\">'reasons'</span>: <span style=\"font-weight: bold\">[</span><span style=\"color: #008000; text-decoration-color: #008000\">\"The article provides context on the ongoing debate around </span>\n",
       "<span style=\"color: #008000; text-decoration-color: #008000\">transgender athletes competing in women's sports, particularly in the NCAA. It highlights the experiences of </span>\n",
       "<span style=\"color: #008000; text-decoration-color: #008000\">transgender swimmer Meghan Cortez-Fields, who underwent the NCAA's hormone therapy requirements to compete on the </span>\n",
       "<span style=\"color: #008000; text-decoration-color: #008000\">women's team at Ramapo College. The article discusses the arguments on both sides of the issue, including concerns </span>\n",
       "<span style=\"color: #008000; text-decoration-color: #008000\">about potential physical advantages for transgender women and the lack of consistent research on the topic. It also</span>\n",
       "<span style=\"color: #008000; text-decoration-color: #008000\">covers the involvement of advocacy organizations, lawmakers, and governing bodies like the NCAA and NAIA in shaping</span>\n",
       "<span style=\"color: #008000; text-decoration-color: #008000\">policies around transgender athlete participation.\"</span>, <span style=\"color: #008000; text-decoration-color: #008000\">\"The article presents a balanced perspective, quoting </span>\n",
       "<span style=\"color: #008000; text-decoration-color: #008000\">advocates for transgender athletes as well as critics who argue that transgender women have unfair physical </span>\n",
       "<span style=\"color: #008000; text-decoration-color: #008000\">advantages. It cites research suggesting a lack of consensus on the issue and notes the difficulty in studying </span>\n",
       "<span style=\"color: #008000; text-decoration-color: #008000\">performance differences given the small number of elite transgender athletes. The article highlights the importance</span>\n",
       "<span style=\"color: #008000; text-decoration-color: #008000\">of transgender athletes' access to sports for their mental and physical wellbeing.\"</span>, <span style=\"color: #008000; text-decoration-color: #008000\">\"Overall, the article explores</span>\n",
       "<span style=\"color: #008000; text-decoration-color: #008000\">the complex and sensitive nature of the debate around transgender athletes in women's sports. It provides relevant </span>\n",
       "<span style=\"color: #008000; text-decoration-color: #008000\">context, quotes from stakeholders on both sides, and references to the research and policy landscape surrounding </span>\n",
       "<span style=\"color: #008000; text-decoration-color: #008000\">this issue.\"</span>, <span style=\"color: #008000; text-decoration-color: #008000\">'Based on the information provided, the article does not appear to violate the given guidelines. It </span>\n",
       "<span style=\"color: #008000; text-decoration-color: #008000\">avoids using offensive or diminishing language, focuses on the personal experiences of the transgender athlete, and</span>\n",
       "<span style=\"color: #008000; text-decoration-color: #008000\">presents a balanced perspective on the ongoing debate without promoting any one side as conclusively correct.'</span>, <span style=\"color: #008000; text-decoration-color: #008000\">'In</span>\n",
       "<span style=\"color: #008000; text-decoration-color: #008000\">conclusion, the article adheres to the specified guidelines for reporting on transgender individuals and the issues</span>\n",
       "<span style=\"color: #008000; text-decoration-color: #008000\">surrounding their participation in sports.'</span><span style=\"font-weight: bold\">]</span>, <span style=\"color: #008000; text-decoration-color: #008000\">'model'</span>: <span style=\"color: #008000; text-decoration-color: #008000\">'haiku'</span>, <span style=\"color: #008000; text-decoration-color: #008000\">'criteria'</span>: <span style=\"color: #008000; text-decoration-color: #008000\">'trans_simplified'</span>, <span style=\"color: #008000; text-decoration-color: #008000\">'template'</span>: \n",
       "<span style=\"color: #008000; text-decoration-color: #008000\">'synthesise'</span><span style=\"font-weight: bold\">}])]</span>\n",
       "</pre>\n"
      ],
      "text/plain": [
       "\u001b[1m[\u001b[0m\u001b[1;35mlist\u001b[0m\u001b[1m(\u001b[0m\u001b[1m[\u001b[0m\u001b[1m{\u001b[0m\u001b[32m'id'\u001b[0m: \u001b[32m'HzHa6MeQuTfJVsfJEipChP'\u001b[0m, \u001b[32m'flow'\u001b[0m: \u001b[32m'judger'\u001b[0m, \u001b[32m'reasons'\u001b[0m: \u001b[1m[\u001b[0m\u001b[32m\"The content provided discusses the \u001b[0m\n",
       "\u001b[32mexperiences of a transgender swimmer, Meghan Cortez-Fields, who competed on the women's swim team at Ramapo College\u001b[0m\n",
       "\u001b[32mafter undergoing hormone therapy and meeting the NCAA's transgender athlete guidelines. The article also examines \u001b[0m\n",
       "\u001b[32mthe broader debate around the participation of transgender athletes, particularly transgender women, in women's \u001b[0m\n",
       "\u001b[32msports at the collegiate and high school levels.\"\u001b[0m, \u001b[32m\"The key issues raised in the content include the barriers \u001b[0m\n",
       "\u001b[32mtransgender people face in accessing healthcare and identity documents, the risks of violence they face, the \u001b[0m\n",
       "\u001b[32mchallenges they experience in employment and the criminal justice system, and the ongoing debate over their \u001b[0m\n",
       "\u001b[32mparticipation in women's sports. The article presents the perspectives of both transgender athletes and their \u001b[0m\n",
       "\u001b[32madvocates, as well as critics who argue that transgender women have unfair physical advantages.\"\u001b[0m, \u001b[32m\"The content \u001b[0m\n",
       "\u001b[32macknowledges the lack of consistent, direct research on whether transgender women athletes have a competitive \u001b[0m\n",
       "\u001b[32madvantage over cisgender women, even after undergoing hormone therapy. It cites experts who argue that governing \u001b[0m\n",
       "\u001b[32mbodies like the NCAA should err on the side of inclusivity until more definitive data is available. The article \u001b[0m\n",
       "\u001b[32malso explores the role of Title IX in this debate, with transgender advocates arguing that it should protect the \u001b[0m\n",
       "\u001b[32mrights of transgender athletes, while some cisgender athletes and conservative lawmakers view the inclusion of \u001b[0m\n",
       "\u001b[32mtransgender women in women's sports as a violation of Title IX.\"\u001b[0m, \u001b[32m'Overall, the content provides a nuanced and \u001b[0m\n",
       "\u001b[32mbalanced examination of the complex issues surrounding transgender athlete participation, highlighting the personal\u001b[0m\n",
       "\u001b[32mexperiences of transgender athletes, the scientific and legal debates, and the broader social and political \u001b[0m\n",
       "\u001b[32mcontext.'\u001b[0m, \u001b[32m'Based on the content and the criteria provided, I conclude that the article does not violate any of the\u001b[0m\n",
       "\u001b[32mguidelines for covering transgender people generally. The article uses the correct terminology, respects the \u001b[0m\n",
       "\u001b[32mpronouns and identity of the transgender athlete featured, and provides a comprehensive and contextual analysis of \u001b[0m\n",
       "\u001b[32mthe issues surrounding transgender athlete participation.'\u001b[0m\u001b[1m]\u001b[0m, \u001b[32m'model'\u001b[0m: \u001b[32m'haiku'\u001b[0m, \u001b[32m'criteria'\u001b[0m: \u001b[32m'trans_cte'\u001b[0m, \u001b[32m'template'\u001b[0m:\n",
       "\u001b[32m'judge'\u001b[0m\u001b[1m}\u001b[0m, \u001b[1m{\u001b[0m\u001b[32m'id'\u001b[0m: \u001b[32m'K8NFNUvLRPksNZbnv69EFh'\u001b[0m, \u001b[32m'flow'\u001b[0m: \u001b[32m'judger'\u001b[0m, \u001b[32m'reasons'\u001b[0m: \u001b[1m[\u001b[0m\u001b[32m\"The content provides context and \u001b[0m\n",
       "\u001b[32mbackground on the experiences and perspectives of transgender athletes, particularly Meghan Cortez-Fields, a \u001b[0m\n",
       "\u001b[32mcompetitive swimmer. It explores the debates and policies surrounding transgender participation in women's sports, \u001b[0m\n",
       "\u001b[32mincluding the NCAA's policy, concerns raised by groups like the Independent Council on Women's Sports, and the lack\u001b[0m\n",
       "\u001b[32mof scientific consensus on transgender athletes' potential physical advantages. The content includes quotes and \u001b[0m\n",
       "\u001b[32mreasoning from advocates for transgender inclusion as well as those who oppose it, presenting a balanced \u001b[0m\n",
       "\u001b[32mperspective on this complex and contentious issue.\"\u001b[0m, \u001b[32m\"The content does not violate the policy criteria on \u001b[0m\n",
       "\u001b[32m'Unnecessary Identification' or 'Uses Incorrect Name or Pronouns'. Meghan Cortez-Fields' transgender identity and \u001b[0m\n",
       "\u001b[32mchosen name and pronouns are presented respectfully and appropriately in the context of discussing her experiences \u001b[0m\n",
       "\u001b[32mas a transgender athlete.\"\u001b[0m, \u001b[32m\"The content also does not violate the policy criteria on 'Uses Inaccurate \u001b[0m\n",
       "\u001b[32mPhrases/Descriptors'. The language used, such as 'transgender women' and 'cisgender women', is accurate and \u001b[0m\n",
       "\u001b[32mrespectful. The article avoids using outdated or offensive terms and correctly distinguishes between gender \u001b[0m\n",
       "\u001b[32midentity, gender expression, and sexual orientation.\"\u001b[0m, \u001b[32m\"Regarding the 'Uses Politicized Phrases' criteria, the \u001b[0m\n",
       "\u001b[32mcontent does mention some terms that have been politicized, such as 'gender ideology' and 'trans agenda', but these\u001b[0m\n",
       "\u001b[32mare presented as part of the ongoing debate and are not used by the author in a way that promotes or endorses such \u001b[0m\n",
       "\u001b[32mframing. The article overall maintains a neutral, fact-based tone.\"\u001b[0m, \u001b[32m\"The content does not violate the 'Uses \u001b[0m\n",
       "\u001b[32mHarmful Narratives' criteria. It acknowledges the discrimination and challenges faced by transgender individuals, \u001b[0m\n",
       "\u001b[32mincluding higher rates of homelessness and vulnerability to hate crimes, without sensationalizing or perpetuating \u001b[0m\n",
       "\u001b[32mharmful stereotypes. The article presents a balanced perspective, including voices and data from both advocates and\u001b[0m\n",
       "\u001b[32mcritics of transgender inclusion in women's sports.\"\u001b[0m, \u001b[32m\"The content does not make assumptions about Meghan \u001b[0m\n",
       "\u001b[32mCortez-Fields' gender identity, and it correctly states that she was misidentified or wrongly identified in the \u001b[0m\n",
       "\u001b[32mpast. The article avoids language that could stigmatize or delegitimize her transgender identity.\"\u001b[0m, \u001b[32m\"Regarding \u001b[0m\n",
       "\u001b[32m'Inappropriate Medicalization', the content does discuss Cortez-Fields' medical transition and the NCAA's policies,\u001b[0m\n",
       "\u001b[32mbut it does so in a manner that is relevant to the context and does not sensationalize or reduce her to just her \u001b[0m\n",
       "\u001b[32mmedical experiences. The focus remains on her overall experiences and perspectives as a transgender athlete.\"\u001b[0m, \u001b[32m'The\u001b[0m\n",
       "\u001b[32mcontent is framed as addressing a systemic issue, acknowledging the discrimination and challenges faced by \u001b[0m\n",
       "\u001b[32mtransgender individuals in sports and the lack of scientific consensus on the topic. It presents the perspectives \u001b[0m\n",
       "\u001b[32mof both advocates and critics, providing context on the broader debates and policies surrounding transgender \u001b[0m\n",
       "\u001b[32mparticipation.'\u001b[0m\u001b[1m]\u001b[0m, \u001b[32m'model'\u001b[0m: \u001b[32m'haiku'\u001b[0m, \u001b[32m'criteria'\u001b[0m: \u001b[32m'trans_factored'\u001b[0m, \u001b[32m'template'\u001b[0m: \u001b[32m'judge'\u001b[0m\u001b[1m}\u001b[0m, \u001b[1m{\u001b[0m\u001b[32m'id'\u001b[0m: \n",
       "\u001b[32m'RHuZK3YARaJe9T5noBhbiQ'\u001b[0m, \u001b[32m'flow'\u001b[0m: \u001b[32m'judger'\u001b[0m, \u001b[32m'reasons'\u001b[0m: \u001b[1m[\u001b[0m\u001b[32m\"The content provided appears to be a news article about \u001b[0m\n",
       "\u001b[32mtransgender athlete Meghan Cortez-Fields and the ongoing debate over the participation of transgender women in \u001b[0m\n",
       "\u001b[32mwomen's sports. The article discusses Cortez-Fields' experience as a transgender swimmer competing on the women's \u001b[0m\n",
       "\u001b[32mswim team at Ramapo College, as well as the broader policy debates and legal challenges surrounding transgender \u001b[0m\n",
       "\u001b[32mathlete participation. It examines the arguments and perspectives from both sides of the issue, including the \u001b[0m\n",
       "\u001b[32mclaims about potential physical advantages for transgender women and the lack of consistent scientific research on \u001b[0m\n",
       "\u001b[32mthe topic. The article also touches on the role of Title IX protections and the efforts by some state and federal \u001b[0m\n",
       "\u001b[32mlawmakers to restrict transgender athlete participation. Overall, the content provides a nuanced, balanced look at \u001b[0m\n",
       "\u001b[32ma complex and controversial issue.\"\u001b[0m, \u001b[32m\"Regarding the 'Names and Pronouns' criteria, the article consistently uses \u001b[0m\n",
       "\u001b[32mMeghan Cortez-Fields' chosen name and correct pronouns \u001b[0m\u001b[32m(\u001b[0m\u001b[32mshe/her\u001b[0m\u001b[32m)\u001b[0m\u001b[32m when referring to her. There is no indication of \u001b[0m\n",
       "\u001b[32m'deadnaming' or misgendering in the text.\"\u001b[0m, \u001b[32m\"For the 'Basics of writing a transgender story' criteria, the article \u001b[0m\n",
       "\u001b[32mgenerally follows best practices. It avoids sensationalized language, focuses on Cortez-Fields' personal \u001b[0m\n",
       "\u001b[32mexperiences and athletic accomplishments rather than solely on her transition, and includes expert commentary from \u001b[0m\n",
       "\u001b[32mtransgender advocates and medical professionals. The article also acknowledges the lack of definitive research on \u001b[0m\n",
       "\u001b[32mthe issue of transgender athlete participation.\"\u001b[0m, \u001b[32m\"While the article does mention some of the social issues and \u001b[0m\n",
       "\u001b[32mchallenges facing transgender people, including discrimination and violence, it does not go into extensive detail \u001b[0m\n",
       "\u001b[32mabout these topics. The focus remains primarily on the specific issue of transgender athlete participation in \u001b[0m\n",
       "\u001b[32mwomen's sports.\"\u001b[0m, \u001b[32m\"Overall, the content appears to be a well-researched, nuanced, and respectful portrayal of \u001b[0m\n",
       "\u001b[32mMeghan Cortez-Fields' experience as a transgender swimmer and the broader debate surrounding transgender athlete \u001b[0m\n",
       "\u001b[32mparticipation. The article makes a concerted effort to present multiple perspectives on this complex issue.\"\u001b[0m\u001b[1m]\u001b[0m, \n",
       "\u001b[32m'model'\u001b[0m: \u001b[32m'haiku'\u001b[0m, \u001b[32m'criteria'\u001b[0m: \u001b[32m'trans_glaad'\u001b[0m, \u001b[32m'template'\u001b[0m: \u001b[32m'judge'\u001b[0m\u001b[1m}\u001b[0m, \u001b[1m{\u001b[0m\u001b[32m'id'\u001b[0m: \u001b[32m'PoWXTHAs2AjaaFZrpiMkXb'\u001b[0m, \u001b[32m'flow'\u001b[0m: \n",
       "\u001b[32m'judger'\u001b[0m, \u001b[32m'reasons'\u001b[0m: \u001b[1m[\u001b[0m\u001b[32m\"The provided content discusses the experiences and perspectives of a transgender collegiate \u001b[0m\n",
       "\u001b[32mswimmer, Meghan Cortez-Fields, as well as the broader debate around the participation of transgender athletes in \u001b[0m\n",
       "\u001b[32mwomen's sports. It covers the NCAA's policies, arguments from both sides of the debate, and the lack of scientific \u001b[0m\n",
       "\u001b[32mconsensus on potential physical advantages of transgender women in sports. The content provides context around the \u001b[0m\n",
       "\u001b[32mpersonal significance of sports participation for transgender individuals and the impact of exclusionary \u001b[0m\n",
       "\u001b[32mpolicies.\"\u001b[0m, \u001b[32m\"The content indicates that Cortez-Fields underwent over a year of hormone therapy, blood tests, and \u001b[0m\n",
       "\u001b[32mtestosterone tracking to meet the NCAA's guidelines for transgender athlete participation. This suggests the NCAA \u001b[0m\n",
       "\u001b[32mhas policies and requirements in place to address potential advantages, even if they remain controversial.\"\u001b[0m, \u001b[32m'The \u001b[0m\n",
       "\u001b[32mcontent cites a lack of consistent, direct research to support claims that transgender women have unfair physical \u001b[0m\n",
       "\u001b[32madvantages. It notes that until more data is available, governing bodies like the NCAA should be cautious about \u001b[0m\n",
       "\u001b[32menacting sweeping restrictions, erring on the side of inclusion.'\u001b[0m, \u001b[32m\"The content discusses the invocation of Title \u001b[0m\n",
       "\u001b[32mIX, the federal law prohibiting sex-based discrimination, by both sides of the debate. Transgender advocacy groups \u001b[0m\n",
       "\u001b[32msee Title IX as protecting the rights of transgender athletes, while some cisgender athletes and conservatives view\u001b[0m\n",
       "\u001b[32mthe inclusion of transgender women as a violation of Title IX's original intent to protect opportunities for \u001b[0m\n",
       "\u001b[32mcisgender women.\"\u001b[0m, \u001b[32m'Overall, the content presents a nuanced discussion of the complex issues surrounding \u001b[0m\n",
       "\u001b[32mtransgender athlete participation, highlighting the personal experiences of transgender athletes, the lack of \u001b[0m\n",
       "\u001b[32mscientific consensus, and the ongoing legal and political debates around this topic.'\u001b[0m\u001b[1m]\u001b[0m, \u001b[32m'model'\u001b[0m: \u001b[32m'haiku'\u001b[0m, \n",
       "\u001b[32m'criteria'\u001b[0m: \u001b[32m'trans_hrc'\u001b[0m, \u001b[32m'template'\u001b[0m: \u001b[32m'judge'\u001b[0m\u001b[1m}\u001b[0m, \u001b[1m{\u001b[0m\u001b[32m'id'\u001b[0m: \u001b[32m'ikwqXeopDjoVkbgqPLqGZj'\u001b[0m, \u001b[32m'flow'\u001b[0m: \u001b[32m'judger'\u001b[0m, \u001b[32m'reasons'\u001b[0m: \u001b[1m[\u001b[0m\u001b[32m\"The \u001b[0m\n",
       "\u001b[32mcontent provides context around the experiences of a transgender swimmer, Meghan Cortez-Fields, who competed on the\u001b[0m\n",
       "\u001b[32mwomen's swim team at Ramapo College after undergoing hormone therapy and meeting the NCAA's transgender athlete \u001b[0m\n",
       "\u001b[32mguidelines. It discusses the debate around transgender athletes' participation in women's sports, including \u001b[0m\n",
       "\u001b[32marguments from both sides and the lack of scientific consensus on whether transgender women have an unfair physical\u001b[0m\n",
       "\u001b[32madvantage. The content also touches on the use of Title IX to either include or exclude transgender athletes, as \u001b[0m\n",
       "\u001b[32mwell as the spread of state-level legislation banning transgender students from participating in sports aligned \u001b[0m\n",
       "\u001b[32mwith their gender identity.\"\u001b[0m, \u001b[32m\"The content does not appear to use offensive terms or language that diminishes \u001b[0m\n",
       "\u001b[32mCortez-Fields' gender identity. It refers to her using her chosen name and pronouns, and avoids phrases that cast \u001b[0m\n",
       "\u001b[32mdoubt on her gender. The article also provides relevant context about her transition and journey to compete as a \u001b[0m\n",
       "\u001b[32mwoman, rather than focusing solely on medical details.\"\u001b[0m, \u001b[32m'The content does not appear to perpetuate negative or \u001b[0m\n",
       "\u001b[32mincorrect perceptions of gender identities. It presents a balanced perspective, acknowledging the ongoing debate \u001b[0m\n",
       "\u001b[32mand lack of scientific consensus, while highlighting the importance of inclusion for transgender athletes like \u001b[0m\n",
       "\u001b[32mCortez-Fields.'\u001b[0m, \u001b[32m'The content does not publish false narratives about transgender people. It accurately describes \u001b[0m\n",
       "\u001b[32mthe arguments on both sides of the debate, including the claims made by groups like ICONS, and notes the lack of \u001b[0m\n",
       "\u001b[32mconsistent, direct research to support the assertion that transgender women have unfair physical advantages.'\u001b[0m, \n",
       "\u001b[32m'Overall, the content appears to adhere to the guidelines by using appropriate terminology, providing relevant \u001b[0m\n",
       "\u001b[32mcontext, and avoiding harmful stereotypes or false narratives about transgender people. The article gives voice to \u001b[0m\n",
       "\u001b[32mthe experiences and perspectives of a transgender athlete while also acknowledging the complex and ongoing debate \u001b[0m\n",
       "\u001b[32msurrounding this issue.'\u001b[0m\u001b[1m]\u001b[0m, \u001b[32m'model'\u001b[0m: \u001b[32m'haiku'\u001b[0m, \u001b[32m'criteria'\u001b[0m: \u001b[32m'trans_simplified'\u001b[0m, \u001b[32m'template'\u001b[0m: \u001b[32m'judge'\u001b[0m\u001b[1m}\u001b[0m, \u001b[1m{\u001b[0m\u001b[32m'id'\u001b[0m: \n",
       "\u001b[32m'USfxaTSpEdAnu23wiFfF5j'\u001b[0m, \u001b[32m'flow'\u001b[0m: \u001b[32m'judger'\u001b[0m, \u001b[32m'reasons'\u001b[0m: \u001b[1m[\u001b[0m\u001b[32m\"The content appears to be an article discussing the debate\u001b[0m\n",
       "\u001b[32maround transgender athletes' participation in women's sports, particularly focusing on the case of Meghan \u001b[0m\n",
       "\u001b[32mCortez-Fields, a transgender swimmer at Ramapo College. The article provides context on the policy changes and \u001b[0m\n",
       "\u001b[32mdebates at the NCAA and other athletic associations, as well as perspectives from both sides of the issue.\"\u001b[0m, \u001b[32m\"The \u001b[0m\n",
       "\u001b[32marticle cites research on potential advantages for transgender women athletes, noting a lack of consistent \u001b[0m\n",
       "\u001b[32mscientific consensus on the issue. It highlights the experiences of transgender athletes like Cortez-Fields, who \u001b[0m\n",
       "\u001b[32mfaced challenges competing on the men's team before transitioning, and the support they have received from \u001b[0m\n",
       "\u001b[32mteammates. The article also discusses the implications of state-level bans on transgender athletes' \u001b[0m\n",
       "\u001b[32mparticipation.\"\u001b[0m, \u001b[32m\"Overall, the article presents a nuanced look at the debate, considering the perspectives of \u001b[0m\n",
       "\u001b[32mtransgender athletes, their advocates, and those who argue for restricting transgender women's participation in \u001b[0m\n",
       "\u001b[32mwomen's sports. It provides relevant context and specific examples to explore the complexities of this issue.\"\u001b[0m, \n",
       "\u001b[32m\"Based on the content and context provided, this article does not appear to violate the Trans Journalists \u001b[0m\n",
       "\u001b[32mAssociation's Stylebook and Coverage Guide. The article is generally aligned with the guide's recommendations for \u001b[0m\n",
       "\u001b[32mreporting on transgender athletes and related policy debates.\"\u001b[0m, \u001b[32m'The article centers the experiences and \u001b[0m\n",
       "\u001b[32mperspectives of transgender athletes, avoids the use of problematic language or framing, and provides appropriate \u001b[0m\n",
       "\u001b[32mcontext and nuance around the scientific research and policy debates. It does not appear to make unsupported claims\u001b[0m\n",
       "\u001b[32mor rely on biased sources.'\u001b[0m\u001b[1m]\u001b[0m, \u001b[32m'model'\u001b[0m: \u001b[32m'haiku'\u001b[0m, \u001b[32m'criteria'\u001b[0m: \u001b[32m'trans_tja'\u001b[0m, \u001b[32m'template'\u001b[0m: \u001b[32m'judge'\u001b[0m\u001b[1m}\u001b[0m, \u001b[1m{\u001b[0m\u001b[32m'id'\u001b[0m: \n",
       "\u001b[32m'9LAANVbj9ffxKysPxTzgAV'\u001b[0m, \u001b[32m'flow'\u001b[0m: \u001b[32m'synth'\u001b[0m, \u001b[32m'reasons'\u001b[0m: \u001b[1m[\u001b[0m\u001b[32m\"The article provides context on the ongoing debate around \u001b[0m\n",
       "\u001b[32mtransgender athletes competing in women's sports, particularly in the NCAA. It highlights the experiences of \u001b[0m\n",
       "\u001b[32mtransgender swimmer Meghan Cortez-Fields, who underwent the NCAA's hormone therapy requirements to compete on the \u001b[0m\n",
       "\u001b[32mwomen's team at Ramapo College. The article discusses the arguments on both sides of the issue, including concerns \u001b[0m\n",
       "\u001b[32mabout potential physical advantages for transgender women and the lack of consistent research on the topic. It also\u001b[0m\n",
       "\u001b[32mcovers the involvement of advocacy organizations, lawmakers, and governing bodies like the NCAA and NAIA in shaping\u001b[0m\n",
       "\u001b[32mpolicies around transgender athlete participation.\"\u001b[0m, \u001b[32m\"The article presents a balanced perspective, quoting \u001b[0m\n",
       "\u001b[32madvocates for transgender athletes as well as critics who argue that transgender women have unfair physical \u001b[0m\n",
       "\u001b[32madvantages. It cites research suggesting a lack of consensus on the issue and notes the difficulty in studying \u001b[0m\n",
       "\u001b[32mperformance differences given the small number of elite transgender athletes. The article highlights the importance\u001b[0m\n",
       "\u001b[32mof transgender athletes' access to sports for their mental and physical wellbeing.\"\u001b[0m, \u001b[32m\"Overall, the article explores\u001b[0m\n",
       "\u001b[32mthe complex and sensitive nature of the debate around transgender athletes in women's sports. It provides relevant \u001b[0m\n",
       "\u001b[32mcontext, quotes from stakeholders on both sides, and references to the research and policy landscape surrounding \u001b[0m\n",
       "\u001b[32mthis issue.\"\u001b[0m, \u001b[32m'Based on the information provided, the article does not appear to violate the given guidelines. It \u001b[0m\n",
       "\u001b[32mavoids using offensive or diminishing language, focuses on the personal experiences of the transgender athlete, and\u001b[0m\n",
       "\u001b[32mpresents a balanced perspective on the ongoing debate without promoting any one side as conclusively correct.'\u001b[0m, \u001b[32m'In\u001b[0m\n",
       "\u001b[32mconclusion, the article adheres to the specified guidelines for reporting on transgender individuals and the issues\u001b[0m\n",
       "\u001b[32msurrounding their participation in sports.'\u001b[0m\u001b[1m]\u001b[0m, \u001b[32m'model'\u001b[0m: \u001b[32m'haiku'\u001b[0m, \u001b[32m'criteria'\u001b[0m: \u001b[32m'trans_simplified'\u001b[0m, \u001b[32m'template'\u001b[0m: \n",
       "\u001b[32m'synthesise'\u001b[0m\u001b[1m}\u001b[0m\u001b[1m]\u001b[0m\u001b[1m)\u001b[0m\u001b[1m]\u001b[0m\n"
      ]
     },
     "metadata": {},
     "output_type": "display_data"
    }
   ],
   "source": [
    "# Inspect the dataset so we can make sure the inputs look ok\n",
    "rprint(orchestrator._dataset.sample().answers.values)\n"
   ]
  },
  {
   "cell_type": "code",
   "execution_count": 13,
   "metadata": {},
   "outputs": [
    {
     "name": "stdout",
     "output_type": "stream",
     "text": [
      "\u001b[32m2024-11-05 22:25:47\u001b[0m \u001b[35mJ5HW6L4KT6\u001b[0m \u001b[34mbuttermilk\u001b[0m orchestrator.py[  81] \u001b[1;30mDEBUG\u001b[0m \u001b[32mStarting task for Agent lc_6rrMZx with job 2o8diYaVr52ontPLqrNjbx.\u001b[0m\n"
     ]
    },
    {
     "name": "stderr",
     "output_type": "stream",
     "text": [
      "DEBUG:buttermilk:Starting task for Agent lc_6rrMZx with job 2o8diYaVr52ontPLqrNjbx.\n"
     ]
    },
    {
     "name": "stdout",
     "output_type": "stream",
     "text": [
      "\u001b[32m2024-11-05 22:26:40\u001b[0m \u001b[35mJ5HW6L4KT6\u001b[0m \u001b[34mbuttermilk\u001b[0m lc.py[ 201] \u001b[1;30mDEBUG\u001b[0m \u001b[32mInvoking chain with haiku...\u001b[0m\n"
     ]
    },
    {
     "name": "stderr",
     "output_type": "stream",
     "text": [
      "DEBUG:buttermilk:Invoking chain with haiku...\n"
     ]
    },
    {
     "name": "stdout",
     "output_type": "stream",
     "text": [
      "\u001b[32m2024-11-05 22:26:41\u001b[0m \u001b[35mJ5HW6L4KT6\u001b[0m \u001b[34mbuttermilk\u001b[0m orchestrator.py[  81] \u001b[1;30mDEBUG\u001b[0m \u001b[32mStarting task for Agent lc_6rrMZx with job 7ysAGCxFW2whnNUG6WkerS.\u001b[0m\n"
     ]
    },
    {
     "name": "stderr",
     "output_type": "stream",
     "text": [
      "DEBUG:buttermilk:Starting task for Agent lc_6rrMZx with job 7ysAGCxFW2whnNUG6WkerS.\n"
     ]
    },
    {
     "name": "stdout",
     "output_type": "stream",
     "text": [
      "\u001b[32m2024-11-05 22:26:41\u001b[0m \u001b[35mJ5HW6L4KT6\u001b[0m \u001b[34mbuttermilk\u001b[0m lc.py[ 201] \u001b[1;30mDEBUG\u001b[0m \u001b[32mInvoking chain with haiku...\u001b[0m\n"
     ]
    },
    {
     "name": "stderr",
     "output_type": "stream",
     "text": [
      "DEBUG:buttermilk:Invoking chain with haiku...\n"
     ]
    },
    {
     "name": "stdout",
     "output_type": "stream",
     "text": [
      "\u001b[32m2024-11-05 22:26:41\u001b[0m \u001b[35mJ5HW6L4KT6\u001b[0m \u001b[34mbuttermilk\u001b[0m orchestrator.py[  81] \u001b[1;30mDEBUG\u001b[0m \u001b[32mStarting task for Agent lc_6rrMZx with job mMd8KDyqzkEsaH5fteNXsy.\u001b[0m\n"
     ]
    },
    {
     "name": "stderr",
     "output_type": "stream",
     "text": [
      "DEBUG:buttermilk:Starting task for Agent lc_6rrMZx with job mMd8KDyqzkEsaH5fteNXsy.\n"
     ]
    },
    {
     "name": "stdout",
     "output_type": "stream",
     "text": [
      "\u001b[32m2024-11-05 22:26:41\u001b[0m \u001b[35mJ5HW6L4KT6\u001b[0m \u001b[34mbuttermilk\u001b[0m lc.py[ 201] \u001b[1;30mDEBUG\u001b[0m \u001b[32mInvoking chain with haiku...\u001b[0m\n"
     ]
    },
    {
     "name": "stderr",
     "output_type": "stream",
     "text": [
      "DEBUG:buttermilk:Invoking chain with haiku...\n"
     ]
    },
    {
     "name": "stdout",
     "output_type": "stream",
     "text": [
      "\u001b[32m2024-11-05 22:26:42\u001b[0m \u001b[35mJ5HW6L4KT6\u001b[0m \u001b[34mbuttermilk\u001b[0m orchestrator.py[  81] \u001b[1;30mDEBUG\u001b[0m \u001b[32mStarting task for Agent lc_6rrMZx with job CnN3dbgSDoLEXCu4LjHtu5.\u001b[0m\n"
     ]
    },
    {
     "name": "stderr",
     "output_type": "stream",
     "text": [
      "DEBUG:buttermilk:Starting task for Agent lc_6rrMZx with job CnN3dbgSDoLEXCu4LjHtu5.\n"
     ]
    },
    {
     "name": "stdout",
     "output_type": "stream",
     "text": [
      "\u001b[32m2024-11-05 22:26:42\u001b[0m \u001b[35mJ5HW6L4KT6\u001b[0m \u001b[34mbuttermilk\u001b[0m lc.py[ 201] \u001b[1;30mDEBUG\u001b[0m \u001b[32mInvoking chain with haiku...\u001b[0m\n"
     ]
    },
    {
     "name": "stderr",
     "output_type": "stream",
     "text": [
      "DEBUG:buttermilk:Invoking chain with haiku...\n"
     ]
    },
    {
     "name": "stdout",
     "output_type": "stream",
     "text": [
      "\u001b[32m2024-11-05 22:26:42\u001b[0m \u001b[35mJ5HW6L4KT6\u001b[0m \u001b[34mbuttermilk\u001b[0m orchestrator.py[  81] \u001b[1;30mDEBUG\u001b[0m \u001b[32mStarting task for Agent lc_6rrMZx with job jtXfx7HqY8WhpchUEjbS6X.\u001b[0m\n"
     ]
    },
    {
     "name": "stderr",
     "output_type": "stream",
     "text": [
      "DEBUG:buttermilk:Starting task for Agent lc_6rrMZx with job jtXfx7HqY8WhpchUEjbS6X.\n"
     ]
    },
    {
     "name": "stdout",
     "output_type": "stream",
     "text": [
      "\u001b[32m2024-11-05 22:26:42\u001b[0m \u001b[35mJ5HW6L4KT6\u001b[0m \u001b[34mbuttermilk\u001b[0m orchestrator.py[  81] \u001b[1;30mDEBUG\u001b[0m \u001b[32mStarting task for Agent lc_6rrMZx with job RTLMkeQc9EAsZoapoJUrDj.\u001b[0m\n"
     ]
    },
    {
     "name": "stderr",
     "output_type": "stream",
     "text": [
      "DEBUG:buttermilk:Starting task for Agent lc_6rrMZx with job RTLMkeQc9EAsZoapoJUrDj.\n"
     ]
    },
    {
     "name": "stdout",
     "output_type": "stream",
     "text": [
      "\u001b[32m2024-11-05 22:26:43\u001b[0m \u001b[35mJ5HW6L4KT6\u001b[0m \u001b[34mbuttermilk\u001b[0m orchestrator.py[  81] \u001b[1;30mDEBUG\u001b[0m \u001b[32mStarting task for Agent lc_6rrMZx with job YqbD5HFMAB4y7fbFgsq4JT.\u001b[0m\n"
     ]
    },
    {
     "name": "stderr",
     "output_type": "stream",
     "text": [
      "DEBUG:buttermilk:Starting task for Agent lc_6rrMZx with job YqbD5HFMAB4y7fbFgsq4JT.\n"
     ]
    },
    {
     "name": "stdout",
     "output_type": "stream",
     "text": [
      "\u001b[32m2024-11-05 22:26:43\u001b[0m \u001b[35mJ5HW6L4KT6\u001b[0m \u001b[34mbuttermilk\u001b[0m orchestrator.py[  81] \u001b[1;30mDEBUG\u001b[0m \u001b[32mStarting task for Agent lc_6rrMZx with job fZUGXHMdcVTBmHkoAEfSk8.\u001b[0m\n"
     ]
    },
    {
     "name": "stderr",
     "output_type": "stream",
     "text": [
      "DEBUG:buttermilk:Starting task for Agent lc_6rrMZx with job fZUGXHMdcVTBmHkoAEfSk8.\n"
     ]
    },
    {
     "name": "stdout",
     "output_type": "stream",
     "text": [
      "\u001b[32m2024-11-05 22:26:43\u001b[0m \u001b[35mJ5HW6L4KT6\u001b[0m \u001b[34mbuttermilk\u001b[0m orchestrator.py[  81] \u001b[1;30mDEBUG\u001b[0m \u001b[32mStarting task for Agent lc_6rrMZx with job ZUrAqJPNFMSEJr5xYawmsd.\u001b[0m\n"
     ]
    },
    {
     "name": "stderr",
     "output_type": "stream",
     "text": [
      "DEBUG:buttermilk:Starting task for Agent lc_6rrMZx with job ZUrAqJPNFMSEJr5xYawmsd.\n"
     ]
    },
    {
     "name": "stdout",
     "output_type": "stream",
     "text": [
      "\u001b[32m2024-11-05 22:26:47\u001b[0m \u001b[35mJ5HW6L4KT6\u001b[0m \u001b[34mbuttermilk\u001b[0m lc.py[ 212] \u001b[1;30mDEBUG\u001b[0m \u001b[32mInvoked chain with haiku in 4.94 seconds\u001b[0m\n"
     ]
    },
    {
     "name": "stderr",
     "output_type": "stream",
     "text": [
      "DEBUG:buttermilk:Invoked chain with haiku in 4.94 seconds\n"
     ]
    },
    {
     "name": "stdout",
     "output_type": "stream",
     "text": [
      "You can view the trace detail from the following URL:\n",
      "http://127.0.0.1:23333/v1.0/ui/traces/?#collection=automod&uiTraceId=0xf03ac83cdb989fa316889b535bc74274\n"
     ]
    },
    {
     "name": "stdout",
     "output_type": "stream",
     "text": [
      "\u001b[32m2024-11-05 22:26:52\u001b[0m \u001b[35mJ5HW6L4KT6\u001b[0m \u001b[34mbuttermilk\u001b[0m save.py[ 184] \u001b[1;30mDEBUG\u001b[0m \u001b[32mInserting 1 rows to BigQuery table dmrc-analysis.toxicity.flow.\u001b[0m\n"
     ]
    },
    {
     "name": "stderr",
     "output_type": "stream",
     "text": [
      "DEBUG:buttermilk:Inserting 1 rows to BigQuery table dmrc-analysis.toxicity.flow.\n"
     ]
    },
    {
     "name": "stdout",
     "output_type": "stream",
     "text": [
      "\u001b[32m2024-11-05 22:26:52\u001b[0m \u001b[35mJ5HW6L4KT6\u001b[0m \u001b[34mbuttermilk\u001b[0m save.py[ 191] \u001b[1;30mINFO\u001b[0m Successfully pushed 1 rows to BigQuery table dmrc-analysis.toxicity.flow.\n"
     ]
    },
    {
     "name": "stderr",
     "output_type": "stream",
     "text": [
      "INFO:buttermilk:Successfully pushed 1 rows to BigQuery table dmrc-analysis.toxicity.flow.\n"
     ]
    },
    {
     "name": "stdout",
     "output_type": "stream",
     "text": [
      "\u001b[32m2024-11-05 22:26:52\u001b[0m \u001b[35mJ5HW6L4KT6\u001b[0m \u001b[34mbuttermilk\u001b[0m orchestrator.py[  89] \u001b[1;30mDEBUG\u001b[0m \u001b[32mAgent lc_6rrMZx completed job CnN3dbgSDoLEXCu4LjHtu5 successfully.\u001b[0m\n"
     ]
    },
    {
     "name": "stderr",
     "output_type": "stream",
     "text": [
      "DEBUG:buttermilk:Agent lc_6rrMZx completed job CnN3dbgSDoLEXCu4LjHtu5 successfully.\n"
     ]
    },
    {
     "name": "stdout",
     "output_type": "stream",
     "text": [
      "\u001b[32m2024-11-05 22:26:52\u001b[0m \u001b[35mJ5HW6L4KT6\u001b[0m \u001b[34mbuttermilk\u001b[0m lc.py[ 201] \u001b[1;30mDEBUG\u001b[0m \u001b[32mInvoking chain with haiku...\u001b[0m\n"
     ]
    },
    {
     "name": "stderr",
     "output_type": "stream",
     "text": [
      "DEBUG:buttermilk:Invoking chain with haiku...\n"
     ]
    },
    {
     "data": {
      "text/html": [
       "<pre style=\"white-space:pre;overflow-x:auto;line-height:normal;font-family:Menlo,'DejaVu Sans Mono',consolas,'Courier New',monospace\"><span style=\"font-weight: bold\">{</span>\n",
       "    <span style=\"color: #008000; text-decoration-color: #008000\">'reasons'</span>: <span style=\"font-weight: bold\">[</span>\n",
       "        <span style=\"color: #008000; text-decoration-color: #008000\">\"The first response provides a more detailed overview of the content, covering the key points around </span>\n",
       "<span style=\"color: #008000; text-decoration-color: #008000\">Petrillo's participation, the differing policies of sporting bodies, and the reactions from various stakeholders.\"</span>,\n",
       "        <span style=\"color: #008000; text-decoration-color: #008000\">'The second response focuses more on the broader context and ongoing debate around transgender athletes in </span>\n",
       "<span style=\"color: #008000; text-decoration-color: #008000\">sports, drawing connections to other recent controversies.'</span>,\n",
       "        <span style=\"color: #008000; text-decoration-color: #008000\">\"The third response delves deeper into the specifics of the fairness and competitive advantage arguments, </span>\n",
       "<span style=\"color: #008000; text-decoration-color: #008000\">highlighting Petrillo's background in men's events prior to transitioning.\"</span>,\n",
       "        <span style=\"color: #008000; text-decoration-color: #008000\">\"The fourth response provides a more nuanced assessment, acknowledging the complexity of the issue and the </span>\n",
       "<span style=\"color: #008000; text-decoration-color: #008000\">valid concerns raised, while also noting the IPC's commitment to respecting its existing rules.\"</span>,\n",
       "        <span style=\"color: #008000; text-decoration-color: #008000\">'The fifth response offers a concise yet comprehensive summary of the main elements of the content, </span>\n",
       "<span style=\"color: #008000; text-decoration-color: #008000\">including the key perspectives and policies discussed.'</span>\n",
       "    <span style=\"font-weight: bold\">]</span>,\n",
       "    <span style=\"color: #008000; text-decoration-color: #008000\">'evaluation'</span>: <span style=\"color: #008080; text-decoration-color: #008080; font-weight: bold\">0.9</span>,\n",
       "    <span style=\"color: #008000; text-decoration-color: #008000\">'metadata'</span>: <span style=\"font-weight: bold\">{</span>\n",
       "        <span style=\"color: #008000; text-decoration-color: #008000\">'id'</span>: <span style=\"color: #008000; text-decoration-color: #008000\">'msg_011yXkSNBfhNqX25jaPCQCzE'</span>,\n",
       "        <span style=\"color: #008000; text-decoration-color: #008000\">'model'</span>: <span style=\"color: #008000; text-decoration-color: #008000\">'claude-3-haiku-20240307'</span>,\n",
       "        <span style=\"color: #008000; text-decoration-color: #008000\">'stop_reason'</span>: <span style=\"color: #008000; text-decoration-color: #008000\">'end_turn'</span>,\n",
       "        <span style=\"color: #008000; text-decoration-color: #008000\">'stop_sequence'</span>: <span style=\"color: #800080; text-decoration-color: #800080; font-style: italic\">None</span>,\n",
       "        <span style=\"color: #008000; text-decoration-color: #008000\">'usage'</span>: <span style=\"font-weight: bold\">{</span><span style=\"color: #008000; text-decoration-color: #008000\">'input_tokens'</span>: <span style=\"color: #008080; text-decoration-color: #008080; font-weight: bold\">6508</span>, <span style=\"color: #008000; text-decoration-color: #008000\">'output_tokens'</span>: <span style=\"color: #008080; text-decoration-color: #008080; font-weight: bold\">516</span><span style=\"font-weight: bold\">}</span>\n",
       "    <span style=\"font-weight: bold\">}</span>\n",
       "<span style=\"font-weight: bold\">}</span>\n",
       "</pre>\n"
      ],
      "text/plain": [
       "\u001b[1m{\u001b[0m\n",
       "    \u001b[32m'reasons'\u001b[0m: \u001b[1m[\u001b[0m\n",
       "        \u001b[32m\"The first response provides a more detailed overview of the content, covering the key points around \u001b[0m\n",
       "\u001b[32mPetrillo's participation, the differing policies of sporting bodies, and the reactions from various stakeholders.\"\u001b[0m,\n",
       "        \u001b[32m'The second response focuses more on the broader context and ongoing debate around transgender athletes in \u001b[0m\n",
       "\u001b[32msports, drawing connections to other recent controversies.'\u001b[0m,\n",
       "        \u001b[32m\"The third response delves deeper into the specifics of the fairness and competitive advantage arguments, \u001b[0m\n",
       "\u001b[32mhighlighting Petrillo's background in men's events prior to transitioning.\"\u001b[0m,\n",
       "        \u001b[32m\"The fourth response provides a more nuanced assessment, acknowledging the complexity of the issue and the \u001b[0m\n",
       "\u001b[32mvalid concerns raised, while also noting the IPC's commitment to respecting its existing rules.\"\u001b[0m,\n",
       "        \u001b[32m'The fifth response offers a concise yet comprehensive summary of the main elements of the content, \u001b[0m\n",
       "\u001b[32mincluding the key perspectives and policies discussed.'\u001b[0m\n",
       "    \u001b[1m]\u001b[0m,\n",
       "    \u001b[32m'evaluation'\u001b[0m: \u001b[1;36m0.9\u001b[0m,\n",
       "    \u001b[32m'metadata'\u001b[0m: \u001b[1m{\u001b[0m\n",
       "        \u001b[32m'id'\u001b[0m: \u001b[32m'msg_011yXkSNBfhNqX25jaPCQCzE'\u001b[0m,\n",
       "        \u001b[32m'model'\u001b[0m: \u001b[32m'claude-3-haiku-20240307'\u001b[0m,\n",
       "        \u001b[32m'stop_reason'\u001b[0m: \u001b[32m'end_turn'\u001b[0m,\n",
       "        \u001b[32m'stop_sequence'\u001b[0m: \u001b[3;35mNone\u001b[0m,\n",
       "        \u001b[32m'usage'\u001b[0m: \u001b[1m{\u001b[0m\u001b[32m'input_tokens'\u001b[0m: \u001b[1;36m6508\u001b[0m, \u001b[32m'output_tokens'\u001b[0m: \u001b[1;36m516\u001b[0m\u001b[1m}\u001b[0m\n",
       "    \u001b[1m}\u001b[0m\n",
       "\u001b[1m}\u001b[0m\n"
      ]
     },
     "metadata": {},
     "output_type": "display_data"
    },
    {
     "data": {
      "text/html": [
       "<pre style=\"white-space:pre;overflow-x:auto;line-height:normal;font-family:Menlo,'DejaVu Sans Mono',consolas,'Courier New',monospace\"><span style=\"font-weight: bold\">{</span>\n",
       "    <span style=\"color: #008000; text-decoration-color: #008000\">'reasons'</span>: <span style=\"font-weight: bold\">[</span>\n",
       "        <span style=\"color: #008000; text-decoration-color: #008000\">\"The first response provides a more detailed overview of the content, covering the key points around </span>\n",
       "<span style=\"color: #008000; text-decoration-color: #008000\">Petrillo's participation, the differing policies of sporting bodies, and the reactions from various stakeholders.\"</span>,\n",
       "        <span style=\"color: #008000; text-decoration-color: #008000\">'The second response focuses more on the broader context and ongoing debate around transgender athletes in </span>\n",
       "<span style=\"color: #008000; text-decoration-color: #008000\">sports, drawing connections to other recent controversies.'</span>,\n",
       "        <span style=\"color: #008000; text-decoration-color: #008000\">\"The third response delves deeper into the specifics of the fairness and competitive advantage arguments, </span>\n",
       "<span style=\"color: #008000; text-decoration-color: #008000\">highlighting Petrillo's background in men's events prior to transitioning.\"</span>,\n",
       "        <span style=\"color: #008000; text-decoration-color: #008000\">\"The fourth response provides a more nuanced assessment, acknowledging the complexity of the issue and the </span>\n",
       "<span style=\"color: #008000; text-decoration-color: #008000\">valid concerns raised, while also noting the IPC's commitment to respecting its existing rules.\"</span>,\n",
       "        <span style=\"color: #008000; text-decoration-color: #008000\">'The fifth response offers a concise yet comprehensive summary of the main elements of the content, </span>\n",
       "<span style=\"color: #008000; text-decoration-color: #008000\">including the key perspectives and policies discussed.'</span>\n",
       "    <span style=\"font-weight: bold\">]</span>,\n",
       "    <span style=\"color: #008000; text-decoration-color: #008000\">'evaluation'</span>: <span style=\"color: #008080; text-decoration-color: #008080; font-weight: bold\">0.9</span>,\n",
       "    <span style=\"color: #008000; text-decoration-color: #008000\">'metadata'</span>: <span style=\"font-weight: bold\">{</span>\n",
       "        <span style=\"color: #008000; text-decoration-color: #008000\">'id'</span>: <span style=\"color: #008000; text-decoration-color: #008000\">'msg_011yXkSNBfhNqX25jaPCQCzE'</span>,\n",
       "        <span style=\"color: #008000; text-decoration-color: #008000\">'model'</span>: <span style=\"color: #008000; text-decoration-color: #008000\">'claude-3-haiku-20240307'</span>,\n",
       "        <span style=\"color: #008000; text-decoration-color: #008000\">'stop_reason'</span>: <span style=\"color: #008000; text-decoration-color: #008000\">'end_turn'</span>,\n",
       "        <span style=\"color: #008000; text-decoration-color: #008000\">'stop_sequence'</span>: <span style=\"color: #800080; text-decoration-color: #800080; font-style: italic\">None</span>,\n",
       "        <span style=\"color: #008000; text-decoration-color: #008000\">'usage'</span>: <span style=\"font-weight: bold\">{</span><span style=\"color: #008000; text-decoration-color: #008000\">'input_tokens'</span>: <span style=\"color: #008080; text-decoration-color: #008080; font-weight: bold\">6508</span>, <span style=\"color: #008000; text-decoration-color: #008000\">'output_tokens'</span>: <span style=\"color: #008080; text-decoration-color: #008080; font-weight: bold\">516</span><span style=\"font-weight: bold\">}</span>\n",
       "    <span style=\"font-weight: bold\">}</span>\n",
       "<span style=\"font-weight: bold\">}</span>\n",
       "</pre>\n"
      ],
      "text/plain": [
       "\u001b[1m{\u001b[0m\n",
       "    \u001b[32m'reasons'\u001b[0m: \u001b[1m[\u001b[0m\n",
       "        \u001b[32m\"The first response provides a more detailed overview of the content, covering the key points around \u001b[0m\n",
       "\u001b[32mPetrillo's participation, the differing policies of sporting bodies, and the reactions from various stakeholders.\"\u001b[0m,\n",
       "        \u001b[32m'The second response focuses more on the broader context and ongoing debate around transgender athletes in \u001b[0m\n",
       "\u001b[32msports, drawing connections to other recent controversies.'\u001b[0m,\n",
       "        \u001b[32m\"The third response delves deeper into the specifics of the fairness and competitive advantage arguments, \u001b[0m\n",
       "\u001b[32mhighlighting Petrillo's background in men's events prior to transitioning.\"\u001b[0m,\n",
       "        \u001b[32m\"The fourth response provides a more nuanced assessment, acknowledging the complexity of the issue and the \u001b[0m\n",
       "\u001b[32mvalid concerns raised, while also noting the IPC's commitment to respecting its existing rules.\"\u001b[0m,\n",
       "        \u001b[32m'The fifth response offers a concise yet comprehensive summary of the main elements of the content, \u001b[0m\n",
       "\u001b[32mincluding the key perspectives and policies discussed.'\u001b[0m\n",
       "    \u001b[1m]\u001b[0m,\n",
       "    \u001b[32m'evaluation'\u001b[0m: \u001b[1;36m0.9\u001b[0m,\n",
       "    \u001b[32m'metadata'\u001b[0m: \u001b[1m{\u001b[0m\n",
       "        \u001b[32m'id'\u001b[0m: \u001b[32m'msg_011yXkSNBfhNqX25jaPCQCzE'\u001b[0m,\n",
       "        \u001b[32m'model'\u001b[0m: \u001b[32m'claude-3-haiku-20240307'\u001b[0m,\n",
       "        \u001b[32m'stop_reason'\u001b[0m: \u001b[32m'end_turn'\u001b[0m,\n",
       "        \u001b[32m'stop_sequence'\u001b[0m: \u001b[3;35mNone\u001b[0m,\n",
       "        \u001b[32m'usage'\u001b[0m: \u001b[1m{\u001b[0m\u001b[32m'input_tokens'\u001b[0m: \u001b[1;36m6508\u001b[0m, \u001b[32m'output_tokens'\u001b[0m: \u001b[1;36m516\u001b[0m\u001b[1m}\u001b[0m\n",
       "    \u001b[1m}\u001b[0m\n",
       "\u001b[1m}\u001b[0m\n"
      ]
     },
     "metadata": {},
     "output_type": "display_data"
    },
    {
     "data": {
      "text/html": [
       "<pre style=\"white-space:pre;overflow-x:auto;line-height:normal;font-family:Menlo,'DejaVu Sans Mono',consolas,'Courier New',monospace\"><span style=\"font-weight: bold\">{</span>\n",
       "    <span style=\"color: #008000; text-decoration-color: #008000\">'reasons'</span>: <span style=\"font-weight: bold\">[</span>\n",
       "        <span style=\"color: #008000; text-decoration-color: #008000\">\"The first response provides a more detailed overview of the content, covering the key points around </span>\n",
       "<span style=\"color: #008000; text-decoration-color: #008000\">Petrillo's participation, the differing policies of sporting bodies, and the reactions from various stakeholders.\"</span>,\n",
       "        <span style=\"color: #008000; text-decoration-color: #008000\">'The second response focuses more on the broader context and ongoing debate around transgender athletes in </span>\n",
       "<span style=\"color: #008000; text-decoration-color: #008000\">sports, drawing connections to other recent controversies.'</span>,\n",
       "        <span style=\"color: #008000; text-decoration-color: #008000\">\"The third response delves deeper into the specifics of the fairness and competitive advantage arguments, </span>\n",
       "<span style=\"color: #008000; text-decoration-color: #008000\">highlighting Petrillo's background in men's events prior to transitioning.\"</span>,\n",
       "        <span style=\"color: #008000; text-decoration-color: #008000\">\"The fourth response provides a more nuanced assessment, acknowledging the complexity of the issue and the </span>\n",
       "<span style=\"color: #008000; text-decoration-color: #008000\">valid concerns raised, while also noting the IPC's commitment to respecting its existing rules.\"</span>,\n",
       "        <span style=\"color: #008000; text-decoration-color: #008000\">'The fifth response offers a concise yet comprehensive summary of the main elements of the content, </span>\n",
       "<span style=\"color: #008000; text-decoration-color: #008000\">including the key perspectives and policies discussed.'</span>\n",
       "    <span style=\"font-weight: bold\">]</span>,\n",
       "    <span style=\"color: #008000; text-decoration-color: #008000\">'evaluation'</span>: <span style=\"color: #008080; text-decoration-color: #008080; font-weight: bold\">0.9</span>,\n",
       "    <span style=\"color: #008000; text-decoration-color: #008000\">'metadata'</span>: <span style=\"font-weight: bold\">{</span>\n",
       "        <span style=\"color: #008000; text-decoration-color: #008000\">'id'</span>: <span style=\"color: #008000; text-decoration-color: #008000\">'msg_011yXkSNBfhNqX25jaPCQCzE'</span>,\n",
       "        <span style=\"color: #008000; text-decoration-color: #008000\">'model'</span>: <span style=\"color: #008000; text-decoration-color: #008000\">'claude-3-haiku-20240307'</span>,\n",
       "        <span style=\"color: #008000; text-decoration-color: #008000\">'stop_reason'</span>: <span style=\"color: #008000; text-decoration-color: #008000\">'end_turn'</span>,\n",
       "        <span style=\"color: #008000; text-decoration-color: #008000\">'stop_sequence'</span>: <span style=\"color: #800080; text-decoration-color: #800080; font-style: italic\">None</span>,\n",
       "        <span style=\"color: #008000; text-decoration-color: #008000\">'usage'</span>: <span style=\"font-weight: bold\">{</span><span style=\"color: #008000; text-decoration-color: #008000\">'input_tokens'</span>: <span style=\"color: #008080; text-decoration-color: #008080; font-weight: bold\">6508</span>, <span style=\"color: #008000; text-decoration-color: #008000\">'output_tokens'</span>: <span style=\"color: #008080; text-decoration-color: #008080; font-weight: bold\">516</span><span style=\"font-weight: bold\">}</span>\n",
       "    <span style=\"font-weight: bold\">}</span>\n",
       "<span style=\"font-weight: bold\">}</span>\n",
       "</pre>\n"
      ],
      "text/plain": [
       "\u001b[1m{\u001b[0m\n",
       "    \u001b[32m'reasons'\u001b[0m: \u001b[1m[\u001b[0m\n",
       "        \u001b[32m\"The first response provides a more detailed overview of the content, covering the key points around \u001b[0m\n",
       "\u001b[32mPetrillo's participation, the differing policies of sporting bodies, and the reactions from various stakeholders.\"\u001b[0m,\n",
       "        \u001b[32m'The second response focuses more on the broader context and ongoing debate around transgender athletes in \u001b[0m\n",
       "\u001b[32msports, drawing connections to other recent controversies.'\u001b[0m,\n",
       "        \u001b[32m\"The third response delves deeper into the specifics of the fairness and competitive advantage arguments, \u001b[0m\n",
       "\u001b[32mhighlighting Petrillo's background in men's events prior to transitioning.\"\u001b[0m,\n",
       "        \u001b[32m\"The fourth response provides a more nuanced assessment, acknowledging the complexity of the issue and the \u001b[0m\n",
       "\u001b[32mvalid concerns raised, while also noting the IPC's commitment to respecting its existing rules.\"\u001b[0m,\n",
       "        \u001b[32m'The fifth response offers a concise yet comprehensive summary of the main elements of the content, \u001b[0m\n",
       "\u001b[32mincluding the key perspectives and policies discussed.'\u001b[0m\n",
       "    \u001b[1m]\u001b[0m,\n",
       "    \u001b[32m'evaluation'\u001b[0m: \u001b[1;36m0.9\u001b[0m,\n",
       "    \u001b[32m'metadata'\u001b[0m: \u001b[1m{\u001b[0m\n",
       "        \u001b[32m'id'\u001b[0m: \u001b[32m'msg_011yXkSNBfhNqX25jaPCQCzE'\u001b[0m,\n",
       "        \u001b[32m'model'\u001b[0m: \u001b[32m'claude-3-haiku-20240307'\u001b[0m,\n",
       "        \u001b[32m'stop_reason'\u001b[0m: \u001b[32m'end_turn'\u001b[0m,\n",
       "        \u001b[32m'stop_sequence'\u001b[0m: \u001b[3;35mNone\u001b[0m,\n",
       "        \u001b[32m'usage'\u001b[0m: \u001b[1m{\u001b[0m\u001b[32m'input_tokens'\u001b[0m: \u001b[1;36m6508\u001b[0m, \u001b[32m'output_tokens'\u001b[0m: \u001b[1;36m516\u001b[0m\u001b[1m}\u001b[0m\n",
       "    \u001b[1m}\u001b[0m\n",
       "\u001b[1m}\u001b[0m\n"
      ]
     },
     "metadata": {},
     "output_type": "display_data"
    },
    {
     "name": "stdout",
     "output_type": "stream",
     "text": [
      "None\n",
      "\u001b[32m2024-11-05 22:28:25\u001b[0m \u001b[35mJ5HW6L4KT6\u001b[0m \u001b[34mbuttermilk\u001b[0m lc.py[ 212] \u001b[1;30mDEBUG\u001b[0m \u001b[32mInvoked chain with haiku in 114.36 seconds\u001b[0m\n"
     ]
    },
    {
     "name": "stderr",
     "output_type": "stream",
     "text": [
      "ERROR:google.cloud.logging_v2.handlers.transports.background_thread:Failed to submit 1 logs.\n",
      "Traceback (most recent call last):\n",
      "  File \"/opt/homebrew/Caskroom/miniconda/base/envs/bm/lib/python3.11/site-packages/google/api_core/grpc_helpers.py\", line 76, in error_remapped_callable\n",
      "    return callable_(*args, **kwargs)\n",
      "           ^^^^^^^^^^^^^^^^^^^^^^^^^^\n",
      "  File \"/opt/homebrew/Caskroom/miniconda/base/envs/bm/lib/python3.11/site-packages/grpc/_channel.py\", line 1181, in __call__\n",
      "    return _end_unary_response_blocking(state, call, False, None)\n",
      "           ^^^^^^^^^^^^^^^^^^^^^^^^^^^^^^^^^^^^^^^^^^^^^^^^^^^^^^\n",
      "  File \"/opt/homebrew/Caskroom/miniconda/base/envs/bm/lib/python3.11/site-packages/grpc/_channel.py\", line 1006, in _end_unary_response_blocking\n",
      "    raise _InactiveRpcError(state)  # pytype: disable=not-instantiable\n",
      "    ^^^^^^^^^^^^^^^^^^^^^^^^^^^^^^\n",
      "grpc._channel._InactiveRpcError: <_InactiveRpcError of RPC that terminated with:\n",
      "\tstatus = StatusCode.DEADLINE_EXCEEDED\n",
      "\tdetails = \"Deadline Exceeded\"\n",
      "\tdebug_error_string = \"UNKNOWN:Error received from peer  {grpc_message:\"Deadline Exceeded\", grpc_status:4, created_time:\"2024-11-05T22:28:22.969279+10:00\"}\"\n",
      ">\n",
      "\n",
      "The above exception was the direct cause of the following exception:\n",
      "\n",
      "Traceback (most recent call last):\n",
      "  File \"/opt/homebrew/Caskroom/miniconda/base/envs/bm/lib/python3.11/site-packages/google/api_core/retry/retry_unary.py\", line 144, in retry_target\n",
      "    result = target()\n",
      "             ^^^^^^^^\n",
      "  File \"/opt/homebrew/Caskroom/miniconda/base/envs/bm/lib/python3.11/site-packages/google/api_core/timeout.py\", line 120, in func_with_timeout\n",
      "    return func(*args, **kwargs)\n",
      "           ^^^^^^^^^^^^^^^^^^^^^\n",
      "  File \"/opt/homebrew/Caskroom/miniconda/base/envs/bm/lib/python3.11/site-packages/google/api_core/grpc_helpers.py\", line 78, in error_remapped_callable\n",
      "    raise exceptions.from_grpc_error(exc) from exc\n",
      "google.api_core.exceptions.DeadlineExceeded: 504 Deadline Exceeded\n",
      "\n",
      "The above exception was the direct cause of the following exception:\n",
      "\n",
      "Traceback (most recent call last):\n",
      "  File \"/opt/homebrew/Caskroom/miniconda/base/envs/bm/lib/python3.11/site-packages/google/cloud/logging_v2/handlers/transports/background_thread.py\", line 115, in _safely_commit_batch\n",
      "    batch.commit()\n",
      "  File \"/opt/homebrew/Caskroom/miniconda/base/envs/bm/lib/python3.11/site-packages/google/cloud/logging_v2/logger.py\", line 468, in commit\n",
      "    client.logging_api.write_entries(\n",
      "  File \"/opt/homebrew/Caskroom/miniconda/base/envs/bm/lib/python3.11/site-packages/google/cloud/logging_v2/_gapic.py\", line 163, in write_entries\n",
      "    self._gapic_api.write_log_entries(request=request)\n",
      "  File \"/opt/homebrew/Caskroom/miniconda/base/envs/bm/lib/python3.11/site-packages/google/cloud/logging_v2/services/logging_service_v2/client.py\", line 966, in write_log_entries\n",
      "    response = rpc(\n",
      "               ^^^^\n",
      "  File \"/opt/homebrew/Caskroom/miniconda/base/envs/bm/lib/python3.11/site-packages/google/api_core/gapic_v1/method.py\", line 131, in __call__\n",
      "    return wrapped_func(*args, **kwargs)\n",
      "           ^^^^^^^^^^^^^^^^^^^^^^^^^^^^^\n",
      "  File \"/opt/homebrew/Caskroom/miniconda/base/envs/bm/lib/python3.11/site-packages/google/api_core/retry/retry_unary.py\", line 293, in retry_wrapped_func\n",
      "    return retry_target(\n",
      "           ^^^^^^^^^^^^^\n",
      "  File \"/opt/homebrew/Caskroom/miniconda/base/envs/bm/lib/python3.11/site-packages/google/api_core/retry/retry_unary.py\", line 153, in retry_target\n",
      "    _retry_error_helper(\n",
      "  File \"/opt/homebrew/Caskroom/miniconda/base/envs/bm/lib/python3.11/site-packages/google/api_core/retry/retry_base.py\", line 221, in _retry_error_helper\n",
      "    raise final_exc from source_exc\n",
      "google.api_core.exceptions.RetryError: Timeout of 60.0s exceeded, last exception: 504 Deadline Exceeded\n"
     ]
    },
    {
     "name": "stderr",
     "output_type": "stream",
     "text": [
      "DEBUG:buttermilk:Invoked chain with haiku in 114.36 seconds\n"
     ]
    },
    {
     "name": "stdout",
     "output_type": "stream",
     "text": [
      "You can view the trace detail from the following URL:\n",
      "http://127.0.0.1:23333/v1.0/ui/traces/?#collection=automod&uiTraceId=0xb59256af8a3fa4719a5113e668c42e1b\n",
      "You can view the trace detail from the following URL:\n",
      "http://127.0.0.1:23333/v1.0/ui/traces/?#collection=automod&uiTraceId=0xbecf25b2ca477058e5d15752339b2f21\n",
      "You can view the trace detail from the following URL:\n",
      "http://127.0.0.1:23333/v1.0/ui/traces/?#collection=automod&uiTraceId=0xd830310e1a76e3d4e9a52d508eac9177\n",
      "You can view the trace detail from the following URL:\n",
      "http://127.0.0.1:23333/v1.0/ui/traces/?#collection=automod&uiTraceId=0x85c46ca7b0d0a038d485cff509d6e154\n",
      "You can view the trace detail from the following URL:\n",
      "http://127.0.0.1:23333/v1.0/ui/traces/?#collection=automod&uiTraceId=0x85a629ee6f3c98b40df8f675849af750\n",
      "You can view the trace detail from the following URL:\n",
      "http://127.0.0.1:23333/v1.0/ui/traces/?#collection=automod&uiTraceId=0x5ec2e56bb2fa98bd9057c25fe209f209\n",
      "You can view the trace detail from the following URL:\n",
      "http://127.0.0.1:23333/v1.0/ui/traces/?#collection=automod&uiTraceId=0x7a1f68b3ba5572080fed299488c178d2\n",
      "You can view the trace detail from the following URL:\n",
      "http://127.0.0.1:23333/v1.0/ui/traces/?#collection=automod&uiTraceId=0x80766a2fcd82330caaa904a8e0a2667c\n"
     ]
    },
    {
     "name": "stdout",
     "output_type": "stream",
     "text": [
      "\u001b[32m2024-11-05 22:28:27\u001b[0m \u001b[35mJ5HW6L4KT6\u001b[0m \u001b[34mbuttermilk\u001b[0m save.py[ 184] \u001b[1;30mDEBUG\u001b[0m \u001b[32mInserting 1 rows to BigQuery table dmrc-analysis.toxicity.flow.\u001b[0m\n"
     ]
    },
    {
     "name": "stderr",
     "output_type": "stream",
     "text": [
      "DEBUG:buttermilk:Inserting 1 rows to BigQuery table dmrc-analysis.toxicity.flow.\n"
     ]
    },
    {
     "name": "stdout",
     "output_type": "stream",
     "text": [
      "\u001b[32m2024-11-05 22:28:27\u001b[0m \u001b[35mJ5HW6L4KT6\u001b[0m \u001b[34mbuttermilk\u001b[0m save.py[ 191] \u001b[1;30mINFO\u001b[0m Successfully pushed 1 rows to BigQuery table dmrc-analysis.toxicity.flow.\n"
     ]
    },
    {
     "name": "stderr",
     "output_type": "stream",
     "text": [
      "INFO:buttermilk:Successfully pushed 1 rows to BigQuery table dmrc-analysis.toxicity.flow.\n"
     ]
    },
    {
     "name": "stdout",
     "output_type": "stream",
     "text": [
      "\u001b[32m2024-11-05 22:28:27\u001b[0m \u001b[35mJ5HW6L4KT6\u001b[0m \u001b[34mbuttermilk\u001b[0m orchestrator.py[  89] \u001b[1;30mDEBUG\u001b[0m \u001b[32mAgent lc_6rrMZx completed job 2o8diYaVr52ontPLqrNjbx successfully.\u001b[0m\n"
     ]
    },
    {
     "name": "stderr",
     "output_type": "stream",
     "text": [
      "DEBUG:buttermilk:Agent lc_6rrMZx completed job 2o8diYaVr52ontPLqrNjbx successfully.\n"
     ]
    },
    {
     "name": "stdout",
     "output_type": "stream",
     "text": [
      "\u001b[32m2024-11-05 22:28:27\u001b[0m \u001b[35mJ5HW6L4KT6\u001b[0m \u001b[34mbuttermilk\u001b[0m lc.py[ 201] \u001b[1;30mDEBUG\u001b[0m \u001b[32mInvoking chain with haiku...\u001b[0m\n"
     ]
    },
    {
     "name": "stderr",
     "output_type": "stream",
     "text": [
      "DEBUG:buttermilk:Invoking chain with haiku...\n"
     ]
    },
    {
     "name": "stdout",
     "output_type": "stream",
     "text": [
      "\u001b[32m2024-11-05 22:28:27\u001b[0m \u001b[35mJ5HW6L4KT6\u001b[0m \u001b[34mbuttermilk\u001b[0m lc.py[ 212] \u001b[1;30mDEBUG\u001b[0m \u001b[32mInvoked chain with haiku in 105.63 seconds\u001b[0m\n"
     ]
    },
    {
     "name": "stderr",
     "output_type": "stream",
     "text": [
      "DEBUG:buttermilk:Invoked chain with haiku in 105.63 seconds\n",
      "WARNING: All log messages before absl::InitializeLog() is called are written to STDERR\n",
      "I0000 00:00:1730809707.432174 23739452 fork_posix.cc:77] Other threads are currently calling into gRPC, skipping fork() handlers\n"
     ]
    },
    {
     "name": "stdout",
     "output_type": "stream",
     "text": [
      "\u001b[32m2024-11-05 22:28:29\u001b[0m \u001b[35mJ5HW6L4KT6\u001b[0m \u001b[34mbuttermilk\u001b[0m save.py[ 184] \u001b[1;30mDEBUG\u001b[0m \u001b[32mInserting 1 rows to BigQuery table dmrc-analysis.toxicity.flow.\u001b[0m\n"
     ]
    },
    {
     "name": "stderr",
     "output_type": "stream",
     "text": [
      "DEBUG:buttermilk:Inserting 1 rows to BigQuery table dmrc-analysis.toxicity.flow.\n"
     ]
    },
    {
     "name": "stdout",
     "output_type": "stream",
     "text": [
      "\u001b[32m2024-11-05 22:28:29\u001b[0m \u001b[35mJ5HW6L4KT6\u001b[0m \u001b[34mbuttermilk\u001b[0m save.py[ 191] \u001b[1;30mINFO\u001b[0m Successfully pushed 1 rows to BigQuery table dmrc-analysis.toxicity.flow.\n"
     ]
    },
    {
     "name": "stderr",
     "output_type": "stream",
     "text": [
      "INFO:buttermilk:Successfully pushed 1 rows to BigQuery table dmrc-analysis.toxicity.flow.\n"
     ]
    },
    {
     "name": "stdout",
     "output_type": "stream",
     "text": [
      "\u001b[32m2024-11-05 22:28:29\u001b[0m \u001b[35mJ5HW6L4KT6\u001b[0m \u001b[34mbuttermilk\u001b[0m orchestrator.py[  89] \u001b[1;30mDEBUG\u001b[0m \u001b[32mAgent lc_6rrMZx completed job mMd8KDyqzkEsaH5fteNXsy successfully.\u001b[0m\n"
     ]
    },
    {
     "name": "stderr",
     "output_type": "stream",
     "text": [
      "DEBUG:buttermilk:Agent lc_6rrMZx completed job mMd8KDyqzkEsaH5fteNXsy successfully.\n"
     ]
    },
    {
     "name": "stdout",
     "output_type": "stream",
     "text": [
      "\u001b[32m2024-11-05 22:28:29\u001b[0m \u001b[35mJ5HW6L4KT6\u001b[0m \u001b[34mbuttermilk\u001b[0m lc.py[ 201] \u001b[1;30mDEBUG\u001b[0m \u001b[32mInvoking chain with haiku...\u001b[0m\n"
     ]
    },
    {
     "name": "stderr",
     "output_type": "stream",
     "text": [
      "DEBUG:buttermilk:Invoking chain with haiku...\n"
     ]
    },
    {
     "name": "stdout",
     "output_type": "stream",
     "text": [
      "\u001b[32m2024-11-05 22:28:29\u001b[0m \u001b[35mJ5HW6L4KT6\u001b[0m \u001b[34mbuttermilk\u001b[0m lc.py[ 212] \u001b[1;30mDEBUG\u001b[0m \u001b[32mInvoked chain with haiku in 108.08 seconds\u001b[0m\n"
     ]
    },
    {
     "name": "stderr",
     "output_type": "stream",
     "text": [
      "DEBUG:buttermilk:Invoked chain with haiku in 108.08 seconds\n",
      "I0000 00:00:1730809709.577662 23739452 fork_posix.cc:77] Other threads are currently calling into gRPC, skipping fork() handlers\n"
     ]
    },
    {
     "name": "stdout",
     "output_type": "stream",
     "text": [
      "\u001b[32m2024-11-05 22:28:31\u001b[0m \u001b[35mJ5HW6L4KT6\u001b[0m \u001b[34mbuttermilk\u001b[0m save.py[ 184] \u001b[1;30mDEBUG\u001b[0m \u001b[32mInserting 1 rows to BigQuery table dmrc-analysis.toxicity.flow.\u001b[0m\n"
     ]
    },
    {
     "name": "stderr",
     "output_type": "stream",
     "text": [
      "DEBUG:buttermilk:Inserting 1 rows to BigQuery table dmrc-analysis.toxicity.flow.\n"
     ]
    },
    {
     "name": "stdout",
     "output_type": "stream",
     "text": [
      "\u001b[32m2024-11-05 22:28:32\u001b[0m \u001b[35mJ5HW6L4KT6\u001b[0m \u001b[34mbuttermilk\u001b[0m save.py[ 191] \u001b[1;30mINFO\u001b[0m Successfully pushed 1 rows to BigQuery table dmrc-analysis.toxicity.flow.\n"
     ]
    },
    {
     "name": "stderr",
     "output_type": "stream",
     "text": [
      "INFO:buttermilk:Successfully pushed 1 rows to BigQuery table dmrc-analysis.toxicity.flow.\n"
     ]
    },
    {
     "name": "stdout",
     "output_type": "stream",
     "text": [
      "\u001b[32m2024-11-05 22:28:32\u001b[0m \u001b[35mJ5HW6L4KT6\u001b[0m \u001b[34mbuttermilk\u001b[0m orchestrator.py[  89] \u001b[1;30mDEBUG\u001b[0m \u001b[32mAgent lc_6rrMZx completed job 7ysAGCxFW2whnNUG6WkerS successfully.\u001b[0m\n"
     ]
    },
    {
     "name": "stderr",
     "output_type": "stream",
     "text": [
      "DEBUG:buttermilk:Agent lc_6rrMZx completed job 7ysAGCxFW2whnNUG6WkerS successfully.\n"
     ]
    },
    {
     "name": "stdout",
     "output_type": "stream",
     "text": [
      "\u001b[32m2024-11-05 22:28:32\u001b[0m \u001b[35mJ5HW6L4KT6\u001b[0m \u001b[34mbuttermilk\u001b[0m lc.py[ 201] \u001b[1;30mDEBUG\u001b[0m \u001b[32mInvoking chain with haiku...\u001b[0m\n"
     ]
    },
    {
     "name": "stderr",
     "output_type": "stream",
     "text": [
      "DEBUG:buttermilk:Invoking chain with haiku...\n"
     ]
    },
    {
     "name": "stdout",
     "output_type": "stream",
     "text": [
      "\u001b[32m2024-11-05 22:28:32\u001b[0m \u001b[35mJ5HW6L4KT6\u001b[0m \u001b[34mbuttermilk\u001b[0m lc.py[ 212] \u001b[1;30mDEBUG\u001b[0m \u001b[32mInvoked chain with haiku in 99.52 seconds\u001b[0m\n"
     ]
    },
    {
     "name": "stderr",
     "output_type": "stream",
     "text": [
      "DEBUG:buttermilk:Invoked chain with haiku in 99.52 seconds\n",
      "I0000 00:00:1730809712.128179 23739452 fork_posix.cc:77] Other threads are currently calling into gRPC, skipping fork() handlers\n"
     ]
    },
    {
     "name": "stdout",
     "output_type": "stream",
     "text": [
      "\u001b[32m2024-11-05 22:28:33\u001b[0m \u001b[35mJ5HW6L4KT6\u001b[0m \u001b[34mbuttermilk\u001b[0m save.py[ 184] \u001b[1;30mDEBUG\u001b[0m \u001b[32mInserting 1 rows to BigQuery table dmrc-analysis.toxicity.flow.\u001b[0m\n"
     ]
    },
    {
     "name": "stderr",
     "output_type": "stream",
     "text": [
      "DEBUG:buttermilk:Inserting 1 rows to BigQuery table dmrc-analysis.toxicity.flow.\n"
     ]
    },
    {
     "name": "stdout",
     "output_type": "stream",
     "text": [
      "\u001b[32m2024-11-05 22:28:34\u001b[0m \u001b[35mJ5HW6L4KT6\u001b[0m \u001b[34mbuttermilk\u001b[0m save.py[ 191] \u001b[1;30mINFO\u001b[0m Successfully pushed 1 rows to BigQuery table dmrc-analysis.toxicity.flow.\n"
     ]
    },
    {
     "name": "stderr",
     "output_type": "stream",
     "text": [
      "INFO:buttermilk:Successfully pushed 1 rows to BigQuery table dmrc-analysis.toxicity.flow.\n"
     ]
    },
    {
     "name": "stdout",
     "output_type": "stream",
     "text": [
      "\u001b[32m2024-11-05 22:28:34\u001b[0m \u001b[35mJ5HW6L4KT6\u001b[0m \u001b[34mbuttermilk\u001b[0m orchestrator.py[  89] \u001b[1;30mDEBUG\u001b[0m \u001b[32mAgent lc_6rrMZx completed job jtXfx7HqY8WhpchUEjbS6X successfully.\u001b[0m\n"
     ]
    },
    {
     "name": "stderr",
     "output_type": "stream",
     "text": [
      "DEBUG:buttermilk:Agent lc_6rrMZx completed job jtXfx7HqY8WhpchUEjbS6X successfully.\n"
     ]
    },
    {
     "name": "stdout",
     "output_type": "stream",
     "text": [
      "\u001b[32m2024-11-05 22:28:34\u001b[0m \u001b[35mJ5HW6L4KT6\u001b[0m \u001b[34mbuttermilk\u001b[0m lc.py[ 201] \u001b[1;30mDEBUG\u001b[0m \u001b[32mInvoking chain with haiku...\u001b[0m\n"
     ]
    },
    {
     "name": "stderr",
     "output_type": "stream",
     "text": [
      "DEBUG:buttermilk:Invoking chain with haiku...\n"
     ]
    },
    {
     "name": "stdout",
     "output_type": "stream",
     "text": [
      "\u001b[32m2024-11-05 22:28:36\u001b[0m \u001b[35mJ5HW6L4KT6\u001b[0m \u001b[34mbuttermilk\u001b[0m lc.py[ 212] \u001b[1;30mDEBUG\u001b[0m \u001b[32mInvoked chain with haiku in 8.98 seconds\u001b[0m\n"
     ]
    },
    {
     "name": "stderr",
     "output_type": "stream",
     "text": [
      "DEBUG:buttermilk:Invoked chain with haiku in 8.98 seconds\n"
     ]
    },
    {
     "name": "stdout",
     "output_type": "stream",
     "text": [
      "\u001b[32m2024-11-05 22:28:39\u001b[0m \u001b[35mJ5HW6L4KT6\u001b[0m \u001b[34mbuttermilk\u001b[0m save.py[ 184] \u001b[1;30mDEBUG\u001b[0m \u001b[32mInserting 1 rows to BigQuery table dmrc-analysis.toxicity.flow.\u001b[0m\n"
     ]
    },
    {
     "name": "stderr",
     "output_type": "stream",
     "text": [
      "DEBUG:buttermilk:Inserting 1 rows to BigQuery table dmrc-analysis.toxicity.flow.\n"
     ]
    },
    {
     "name": "stdout",
     "output_type": "stream",
     "text": [
      "\u001b[32m2024-11-05 22:28:40\u001b[0m \u001b[35mJ5HW6L4KT6\u001b[0m \u001b[34mbuttermilk\u001b[0m save.py[ 191] \u001b[1;30mINFO\u001b[0m Successfully pushed 1 rows to BigQuery table dmrc-analysis.toxicity.flow.\n"
     ]
    },
    {
     "name": "stderr",
     "output_type": "stream",
     "text": [
      "INFO:buttermilk:Successfully pushed 1 rows to BigQuery table dmrc-analysis.toxicity.flow.\n"
     ]
    },
    {
     "name": "stdout",
     "output_type": "stream",
     "text": [
      "\u001b[32m2024-11-05 22:28:40\u001b[0m \u001b[35mJ5HW6L4KT6\u001b[0m \u001b[34mbuttermilk\u001b[0m orchestrator.py[  89] \u001b[1;30mDEBUG\u001b[0m \u001b[32mAgent lc_6rrMZx completed job RTLMkeQc9EAsZoapoJUrDj successfully.\u001b[0m\n"
     ]
    },
    {
     "name": "stderr",
     "output_type": "stream",
     "text": [
      "DEBUG:buttermilk:Agent lc_6rrMZx completed job RTLMkeQc9EAsZoapoJUrDj successfully.\n"
     ]
    },
    {
     "name": "stdout",
     "output_type": "stream",
     "text": [
      "\u001b[32m2024-11-05 22:28:40\u001b[0m \u001b[35mJ5HW6L4KT6\u001b[0m \u001b[34mbuttermilk\u001b[0m lc.py[ 212] \u001b[1;30mDEBUG\u001b[0m \u001b[32mInvoked chain with haiku in 8.19 seconds\u001b[0m\n"
     ]
    },
    {
     "name": "stderr",
     "output_type": "stream",
     "text": [
      "DEBUG:buttermilk:Invoked chain with haiku in 8.19 seconds\n",
      "I0000 00:00:1730809720.278407 23739452 fork_posix.cc:77] Other threads are currently calling into gRPC, skipping fork() handlers\n"
     ]
    },
    {
     "name": "stdout",
     "output_type": "stream",
     "text": [
      "\u001b[32m2024-11-05 22:28:41\u001b[0m \u001b[35mJ5HW6L4KT6\u001b[0m \u001b[34mbuttermilk\u001b[0m save.py[ 184] \u001b[1;30mDEBUG\u001b[0m \u001b[32mInserting 1 rows to BigQuery table dmrc-analysis.toxicity.flow.\u001b[0m\n"
     ]
    },
    {
     "name": "stderr",
     "output_type": "stream",
     "text": [
      "DEBUG:buttermilk:Inserting 1 rows to BigQuery table dmrc-analysis.toxicity.flow.\n"
     ]
    },
    {
     "name": "stdout",
     "output_type": "stream",
     "text": [
      "\u001b[32m2024-11-05 22:28:42\u001b[0m \u001b[35mJ5HW6L4KT6\u001b[0m \u001b[34mbuttermilk\u001b[0m save.py[ 191] \u001b[1;30mINFO\u001b[0m Successfully pushed 1 rows to BigQuery table dmrc-analysis.toxicity.flow.\n"
     ]
    },
    {
     "name": "stderr",
     "output_type": "stream",
     "text": [
      "INFO:buttermilk:Successfully pushed 1 rows to BigQuery table dmrc-analysis.toxicity.flow.\n"
     ]
    },
    {
     "name": "stdout",
     "output_type": "stream",
     "text": [
      "\u001b[32m2024-11-05 22:28:42\u001b[0m \u001b[35mJ5HW6L4KT6\u001b[0m \u001b[34mbuttermilk\u001b[0m orchestrator.py[  89] \u001b[1;30mDEBUG\u001b[0m \u001b[32mAgent lc_6rrMZx completed job fZUGXHMdcVTBmHkoAEfSk8 successfully.\u001b[0m\n"
     ]
    },
    {
     "name": "stderr",
     "output_type": "stream",
     "text": [
      "DEBUG:buttermilk:Agent lc_6rrMZx completed job fZUGXHMdcVTBmHkoAEfSk8 successfully.\n"
     ]
    },
    {
     "name": "stdout",
     "output_type": "stream",
     "text": [
      "\u001b[32m2024-11-05 22:28:42\u001b[0m \u001b[35mJ5HW6L4KT6\u001b[0m \u001b[34mbuttermilk\u001b[0m lc.py[ 212] \u001b[1;30mDEBUG\u001b[0m \u001b[32mInvoked chain with haiku in 12.73 seconds\u001b[0m\n"
     ]
    },
    {
     "name": "stderr",
     "output_type": "stream",
     "text": [
      "DEBUG:buttermilk:Invoked chain with haiku in 12.73 seconds\n",
      "I0000 00:00:1730809722.308202 23739452 fork_posix.cc:77] Other threads are currently calling into gRPC, skipping fork() handlers\n"
     ]
    },
    {
     "name": "stdout",
     "output_type": "stream",
     "text": [
      "\u001b[32m2024-11-05 22:28:44\u001b[0m \u001b[35mJ5HW6L4KT6\u001b[0m \u001b[34mbuttermilk\u001b[0m save.py[ 184] \u001b[1;30mDEBUG\u001b[0m \u001b[32mInserting 1 rows to BigQuery table dmrc-analysis.toxicity.flow.\u001b[0m\n"
     ]
    },
    {
     "name": "stderr",
     "output_type": "stream",
     "text": [
      "DEBUG:buttermilk:Inserting 1 rows to BigQuery table dmrc-analysis.toxicity.flow.\n"
     ]
    },
    {
     "name": "stdout",
     "output_type": "stream",
     "text": [
      "\u001b[32m2024-11-05 22:28:44\u001b[0m \u001b[35mJ5HW6L4KT6\u001b[0m \u001b[34mbuttermilk\u001b[0m save.py[ 191] \u001b[1;30mINFO\u001b[0m Successfully pushed 1 rows to BigQuery table dmrc-analysis.toxicity.flow.\n"
     ]
    },
    {
     "name": "stderr",
     "output_type": "stream",
     "text": [
      "INFO:buttermilk:Successfully pushed 1 rows to BigQuery table dmrc-analysis.toxicity.flow.\n"
     ]
    },
    {
     "name": "stdout",
     "output_type": "stream",
     "text": [
      "\u001b[32m2024-11-05 22:28:44\u001b[0m \u001b[35mJ5HW6L4KT6\u001b[0m \u001b[34mbuttermilk\u001b[0m orchestrator.py[  89] \u001b[1;30mDEBUG\u001b[0m \u001b[32mAgent lc_6rrMZx completed job YqbD5HFMAB4y7fbFgsq4JT successfully.\u001b[0m\n"
     ]
    },
    {
     "name": "stderr",
     "output_type": "stream",
     "text": [
      "DEBUG:buttermilk:Agent lc_6rrMZx completed job YqbD5HFMAB4y7fbFgsq4JT successfully.\n"
     ]
    },
    {
     "name": "stdout",
     "output_type": "stream",
     "text": [
      "\u001b[32m2024-11-05 22:28:44\u001b[0m \u001b[35mJ5HW6L4KT6\u001b[0m \u001b[34mbuttermilk\u001b[0m lc.py[ 212] \u001b[1;30mDEBUG\u001b[0m \u001b[32mInvoked chain with haiku in 10.30 seconds\u001b[0m\n"
     ]
    },
    {
     "name": "stderr",
     "output_type": "stream",
     "text": [
      "DEBUG:buttermilk:Invoked chain with haiku in 10.30 seconds\n",
      "I0000 00:00:1730809724.473760 23739452 fork_posix.cc:77] Other threads are currently calling into gRPC, skipping fork() handlers\n"
     ]
    },
    {
     "name": "stdout",
     "output_type": "stream",
     "text": [
      "\u001b[32m2024-11-05 22:28:46\u001b[0m \u001b[35mJ5HW6L4KT6\u001b[0m \u001b[34mbuttermilk\u001b[0m save.py[ 184] \u001b[1;30mDEBUG\u001b[0m \u001b[32mInserting 1 rows to BigQuery table dmrc-analysis.toxicity.flow.\u001b[0m\n"
     ]
    },
    {
     "name": "stderr",
     "output_type": "stream",
     "text": [
      "DEBUG:buttermilk:Inserting 1 rows to BigQuery table dmrc-analysis.toxicity.flow.\n"
     ]
    },
    {
     "name": "stdout",
     "output_type": "stream",
     "text": [
      "\u001b[32m2024-11-05 22:28:46\u001b[0m \u001b[35mJ5HW6L4KT6\u001b[0m \u001b[34mbuttermilk\u001b[0m save.py[ 191] \u001b[1;30mINFO\u001b[0m Successfully pushed 1 rows to BigQuery table dmrc-analysis.toxicity.flow.\n"
     ]
    },
    {
     "name": "stderr",
     "output_type": "stream",
     "text": [
      "INFO:buttermilk:Successfully pushed 1 rows to BigQuery table dmrc-analysis.toxicity.flow.\n"
     ]
    },
    {
     "name": "stdout",
     "output_type": "stream",
     "text": [
      "\u001b[32m2024-11-05 22:28:46\u001b[0m \u001b[35mJ5HW6L4KT6\u001b[0m \u001b[34mbuttermilk\u001b[0m orchestrator.py[  89] \u001b[1;30mDEBUG\u001b[0m \u001b[32mAgent lc_6rrMZx completed job ZUrAqJPNFMSEJr5xYawmsd successfully.\u001b[0m\n"
     ]
    },
    {
     "name": "stderr",
     "output_type": "stream",
     "text": [
      "DEBUG:buttermilk:Agent lc_6rrMZx completed job ZUrAqJPNFMSEJr5xYawmsd successfully.\n"
     ]
    },
    {
     "name": "stdout",
     "output_type": "stream",
     "text": [
      "\u001b[32m2024-11-05 22:28:46\u001b[0m \u001b[35mJ5HW6L4KT6\u001b[0m \u001b[34mbuttermilk\u001b[0m orchestrator.py[ 106] \u001b[1;30mINFO\u001b[0m Completed run 1 of 1\n"
     ]
    },
    {
     "name": "stderr",
     "output_type": "stream",
     "text": [
      "INFO:buttermilk:Completed run 1 of 1\n"
     ]
    },
    {
     "name": "stdout",
     "output_type": "stream",
     "text": [
      "\u001b[32m2024-11-05 22:28:46\u001b[0m \u001b[35mJ5HW6L4KT6\u001b[0m \u001b[34mbuttermilk\u001b[0m orchestrator.py[ 110] \u001b[1;30mINFO\u001b[0m All tasks have completed.\n"
     ]
    },
    {
     "name": "stderr",
     "output_type": "stream",
     "text": [
      "INFO:buttermilk:All tasks have completed.\n"
     ]
    }
   ],
   "source": [
    "await orchestrator.run_tasks()\n"
   ]
  }
 ],
 "metadata": {
  "kernelspec": {
   "display_name": "bm",
   "language": "python",
   "name": "python3"
  },
  "language_info": {
   "codemirror_mode": {
    "name": "ipython",
    "version": 3
   },
   "file_extension": ".py",
   "mimetype": "text/x-python",
   "name": "python",
   "nbconvert_exporter": "python",
   "pygments_lexer": "ipython3",
   "version": "3.11.0"
  }
 },
 "nbformat": 4,
 "nbformat_minor": 2
}
