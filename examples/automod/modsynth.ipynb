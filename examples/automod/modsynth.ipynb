{
 "cells": [
  {
   "cell_type": "code",
   "execution_count": 1,
   "metadata": {},
   "outputs": [],
   "source": [
    "%load_ext autoreload\n",
    "%autoreload 2\n"
   ]
  },
  {
   "cell_type": "code",
   "execution_count": 1,
   "metadata": {},
   "outputs": [
    {
     "name": "stderr",
     "output_type": "stream",
     "text": [
      "/opt/homebrew/Caskroom/miniconda/base/envs/bm/lib/python3.11/site-packages/tqdm/auto.py:21: TqdmWarning: IProgress not found. Please update jupyter and ipywidgets. See https://ipywidgets.readthedocs.io/en/stable/user_install.html\n",
      "  from .autonotebook import tqdm as notebook_tqdm\n"
     ]
    },
    {
     "name": "stdout",
     "output_type": "stream",
     "text": [
      "\u001b[32m2024-11-04 17:58:42\u001b[0m \u001b[35mJ5HW6L4KT6\u001b[0m \u001b[34mbuttermilk\u001b[0m buttermilk.py[ 296] \u001b[1;30mINFO\u001b[0m {'message': \"Logging setup for: 20241104T0758Z-4K5c-J5HW6L4KT6-suzor. Ready for data collection, saving log to Google Cloud Logs (Resource(type='generic_task', labels={'project_id': 'dmrc-platforms', 'location': 'us-central1', 'namespace': 'automod', 'job': 'judge', 'task_id': '20241104T0758Z-4K5c-J5HW6L4KT6-suzor'})). Default save directory for data in this run is: gs://dmrc-analysis/runs/automod/judge/20241104T0758Z-4K5c-J5HW6L4KT6-suzor\", 'project': 'automod', 'job': 'judge', 'run_id': '20241104T0758Z-4K5c-J5HW6L4KT6-suzor', 'save_dir': 'gs://dmrc-analysis/runs/automod/judge/20241104T0758Z-4K5c-J5HW6L4KT6-suzor', 'ip': '159.196.210.27', 'node_name': 'J5HW6L4KT6', 'username': 'suzor'}\n",
      "\u001b[32m2024-11-04 17:58:42\u001b[0m \u001b[35mJ5HW6L4KT6\u001b[0m \u001b[34mbuttermilk\u001b[0m buttermilk.py[ 304] \u001b[1;30mDEBUG\u001b[0m \u001b[32mButtermilk version is: 0.2.0\u001b[0m\n"
     ]
    },
    {
     "data": {
      "text/html": [
       "<pre style=\"white-space:pre;overflow-x:auto;line-height:normal;font-family:Menlo,'DejaVu Sans Mono',consolas,'Courier New',monospace\"><span style=\"font-weight: bold\">{</span>\n",
       "    <span style=\"color: #008000; text-decoration-color: #008000\">'name'</span>: <span style=\"color: #008000; text-decoration-color: #008000\">'automod'</span>,\n",
       "    <span style=\"color: #008000; text-decoration-color: #008000\">'job'</span>: <span style=\"color: #008000; text-decoration-color: #008000\">'judge'</span>,\n",
       "    <span style=\"color: #008000; text-decoration-color: #008000\">'secret_provider'</span>: <span style=\"color: #008000; text-decoration-color: #008000\">'azure'</span>,\n",
       "    <span style=\"color: #008000; text-decoration-color: #008000\">'logger'</span>: <span style=\"color: #008000; text-decoration-color: #008000\">'gcp'</span>,\n",
       "    <span style=\"color: #008000; text-decoration-color: #008000\">'verbose'</span>: <span style=\"color: #00ff00; text-decoration-color: #00ff00; font-style: italic\">True</span>,\n",
       "    <span style=\"color: #008000; text-decoration-color: #008000\">'models_secret'</span>: <span style=\"color: #008000; text-decoration-color: #008000\">'models'</span>,\n",
       "    <span style=\"color: #008000; text-decoration-color: #008000\">'save_dest'</span>: <span style=\"color: #008000; text-decoration-color: #008000\">'gcp'</span>,\n",
       "    <span style=\"color: #008000; text-decoration-color: #008000\">'save_dir'</span>: <span style=\"color: #800080; text-decoration-color: #800080; font-style: italic\">None</span>,\n",
       "    <span style=\"color: #008000; text-decoration-color: #008000\">'gcp'</span>: <span style=\"font-weight: bold\">{</span><span style=\"color: #008000; text-decoration-color: #008000\">'project'</span>: <span style=\"color: #008000; text-decoration-color: #008000\">'dmrc-analysis'</span>, <span style=\"color: #008000; text-decoration-color: #008000\">'region'</span>: <span style=\"color: #008000; text-decoration-color: #008000\">'us-central1'</span>, <span style=\"color: #008000; text-decoration-color: #008000\">'bucket'</span>: <span style=\"color: #008000; text-decoration-color: #008000\">'dmrc-analysis'</span><span style=\"font-weight: bold\">}</span>,\n",
       "    <span style=\"color: #008000; text-decoration-color: #008000\">'azure'</span>: <span style=\"font-weight: bold\">{</span><span style=\"color: #008000; text-decoration-color: #008000\">'vault'</span>: <span style=\"color: #008000; text-decoration-color: #008000\">'https://suzorvault.vault.azure.net/'</span>, <span style=\"color: #008000; text-decoration-color: #008000\">'resource_group'</span>: <span style=\"color: #008000; text-decoration-color: #008000\">'rg-suzor_ai'</span><span style=\"font-weight: bold\">}</span>,\n",
       "    <span style=\"color: #008000; text-decoration-color: #008000\">'aws'</span>: <span style=\"font-weight: bold\">{</span><span style=\"color: #008000; text-decoration-color: #008000\">'secret_name'</span>: <span style=\"color: #008000; text-decoration-color: #008000\">'secret'</span>, <span style=\"color: #008000; text-decoration-color: #008000\">'region'</span>: <span style=\"color: #008000; text-decoration-color: #008000\">'us-east-1'</span><span style=\"font-weight: bold\">}</span>,\n",
       "    <span style=\"color: #008000; text-decoration-color: #008000\">'data'</span>: <span style=\"font-weight: bold\">[</span>\n",
       "        <span style=\"font-weight: bold\">{</span>\n",
       "            <span style=\"color: #008000; text-decoration-color: #008000\">'drag'</span>: <span style=\"color: #800080; text-decoration-color: #800080; font-style: italic\">None</span>,\n",
       "            <span style=\"color: #008000; text-decoration-color: #008000\">'name'</span>: <span style=\"color: #008000; text-decoration-color: #008000\">'drag queens - alt text'</span>,\n",
       "            <span style=\"color: #008000; text-decoration-color: #008000\">'type'</span>: <span style=\"color: #008000; text-decoration-color: #008000\">'file'</span>,\n",
       "            <span style=\"color: #008000; text-decoration-color: #008000\">'uri'</span>: <span style=\"color: #008000; text-decoration-color: #008000\">'gs://dmrc-platforms/data/drag_train.jsonl'</span>,\n",
       "            <span style=\"color: #008000; text-decoration-color: #008000\">'columns'</span>: <span style=\"font-weight: bold\">{</span><span style=\"color: #008000; text-decoration-color: #008000\">'record_id'</span>: <span style=\"color: #008000; text-decoration-color: #008000\">'id'</span>, <span style=\"color: #008000; text-decoration-color: #008000\">'content'</span>: <span style=\"color: #008000; text-decoration-color: #008000\">'alt_text'</span>, <span style=\"color: #008000; text-decoration-color: #008000\">'groundtruth'</span>: <span style=\"color: #008000; text-decoration-color: #008000\">'expected'</span><span style=\"font-weight: bold\">}</span>\n",
       "        <span style=\"font-weight: bold\">}</span>\n",
       "    <span style=\"font-weight: bold\">]</span>,\n",
       "    <span style=\"color: #008000; text-decoration-color: #008000\">'step'</span>: <span style=\"font-weight: bold\">[</span>\n",
       "        <span style=\"font-weight: bold\">{</span>\n",
       "            <span style=\"color: #008000; text-decoration-color: #008000\">'name'</span>: <span style=\"color: #008000; text-decoration-color: #008000\">'judger'</span>,\n",
       "            <span style=\"color: #008000; text-decoration-color: #008000\">'num_runs'</span>: <span style=\"color: #008080; text-decoration-color: #008080; font-weight: bold\">1</span>,\n",
       "            <span style=\"color: #008000; text-decoration-color: #008000\">'concurrent'</span>: <span style=\"color: #008080; text-decoration-color: #008080; font-weight: bold\">20</span>,\n",
       "            <span style=\"color: #008000; text-decoration-color: #008000\">'agent'</span>: <span style=\"font-weight: bold\">{</span>\n",
       "                <span style=\"color: #008000; text-decoration-color: #008000\">'name'</span>: <span style=\"color: #008000; text-decoration-color: #008000\">'lc_judge'</span>,\n",
       "                <span style=\"color: #008000; text-decoration-color: #008000\">'template'</span>: <span style=\"color: #008000; text-decoration-color: #008000\">'judge'</span>,\n",
       "                <span style=\"color: #008000; text-decoration-color: #008000\">'criteria'</span>: <span style=\"color: #008000; text-decoration-color: #008000\">'criteria_ordinary'</span>,\n",
       "                <span style=\"color: #008000; text-decoration-color: #008000\">'formatting'</span>: <span style=\"color: #008000; text-decoration-color: #008000\">'json_rules'</span>,\n",
       "                <span style=\"color: #008000; text-decoration-color: #008000\">'model'</span>: <span style=\"font-weight: bold\">[</span><span style=\"color: #008000; text-decoration-color: #008000\">'haiku'</span>, <span style=\"color: #008000; text-decoration-color: #008000\">'llama31_70b'</span>, <span style=\"color: #008000; text-decoration-color: #008000\">'gpt4o'</span>, <span style=\"color: #008000; text-decoration-color: #008000\">'sonnet'</span>, <span style=\"color: #008000; text-decoration-color: #008000\">'gemini15pro'</span><span style=\"font-weight: bold\">]</span>\n",
       "            <span style=\"font-weight: bold\">}</span>,\n",
       "            <span style=\"color: #008000; text-decoration-color: #008000\">'parameters'</span>: <span style=\"color: #800080; text-decoration-color: #800080; font-style: italic\">None</span>\n",
       "        <span style=\"font-weight: bold\">}</span>\n",
       "    <span style=\"font-weight: bold\">]</span>,\n",
       "    <span style=\"color: #008000; text-decoration-color: #008000\">'run'</span>: <span style=\"font-weight: bold\">{</span><span style=\"color: #008000; text-decoration-color: #008000\">'platform'</span>: <span style=\"color: #008000; text-decoration-color: #008000\">'local'</span><span style=\"font-weight: bold\">}</span>,\n",
       "    <span style=\"color: #008000; text-decoration-color: #008000\">'save'</span>: <span style=\"font-weight: bold\">{</span>\n",
       "        <span style=\"color: #008000; text-decoration-color: #008000\">'type'</span>: <span style=\"color: #008000; text-decoration-color: #008000\">'bq'</span>,\n",
       "        <span style=\"color: #008000; text-decoration-color: #008000\">'destination'</span>: <span style=\"color: #008000; text-decoration-color: #008000\">'dmrc-analysis.toxicity.flow'</span>,\n",
       "        <span style=\"color: #008000; text-decoration-color: #008000\">'schema'</span>: <span style=\"color: #008000; text-decoration-color: #008000\">'/Users/suzor/src/buttermilk/buttermilk/schemas/flow.json'</span>\n",
       "    <span style=\"font-weight: bold\">}</span>\n",
       "<span style=\"font-weight: bold\">}</span>\n",
       "</pre>\n"
      ],
      "text/plain": [
       "\u001b[1m{\u001b[0m\n",
       "    \u001b[32m'name'\u001b[0m: \u001b[32m'automod'\u001b[0m,\n",
       "    \u001b[32m'job'\u001b[0m: \u001b[32m'judge'\u001b[0m,\n",
       "    \u001b[32m'secret_provider'\u001b[0m: \u001b[32m'azure'\u001b[0m,\n",
       "    \u001b[32m'logger'\u001b[0m: \u001b[32m'gcp'\u001b[0m,\n",
       "    \u001b[32m'verbose'\u001b[0m: \u001b[3;92mTrue\u001b[0m,\n",
       "    \u001b[32m'models_secret'\u001b[0m: \u001b[32m'models'\u001b[0m,\n",
       "    \u001b[32m'save_dest'\u001b[0m: \u001b[32m'gcp'\u001b[0m,\n",
       "    \u001b[32m'save_dir'\u001b[0m: \u001b[3;35mNone\u001b[0m,\n",
       "    \u001b[32m'gcp'\u001b[0m: \u001b[1m{\u001b[0m\u001b[32m'project'\u001b[0m: \u001b[32m'dmrc-analysis'\u001b[0m, \u001b[32m'region'\u001b[0m: \u001b[32m'us-central1'\u001b[0m, \u001b[32m'bucket'\u001b[0m: \u001b[32m'dmrc-analysis'\u001b[0m\u001b[1m}\u001b[0m,\n",
       "    \u001b[32m'azure'\u001b[0m: \u001b[1m{\u001b[0m\u001b[32m'vault'\u001b[0m: \u001b[32m'https://suzorvault.vault.azure.net/'\u001b[0m, \u001b[32m'resource_group'\u001b[0m: \u001b[32m'rg-suzor_ai'\u001b[0m\u001b[1m}\u001b[0m,\n",
       "    \u001b[32m'aws'\u001b[0m: \u001b[1m{\u001b[0m\u001b[32m'secret_name'\u001b[0m: \u001b[32m'secret'\u001b[0m, \u001b[32m'region'\u001b[0m: \u001b[32m'us-east-1'\u001b[0m\u001b[1m}\u001b[0m,\n",
       "    \u001b[32m'data'\u001b[0m: \u001b[1m[\u001b[0m\n",
       "        \u001b[1m{\u001b[0m\n",
       "            \u001b[32m'drag'\u001b[0m: \u001b[3;35mNone\u001b[0m,\n",
       "            \u001b[32m'name'\u001b[0m: \u001b[32m'drag queens - alt text'\u001b[0m,\n",
       "            \u001b[32m'type'\u001b[0m: \u001b[32m'file'\u001b[0m,\n",
       "            \u001b[32m'uri'\u001b[0m: \u001b[32m'gs://dmrc-platforms/data/drag_train.jsonl'\u001b[0m,\n",
       "            \u001b[32m'columns'\u001b[0m: \u001b[1m{\u001b[0m\u001b[32m'record_id'\u001b[0m: \u001b[32m'id'\u001b[0m, \u001b[32m'content'\u001b[0m: \u001b[32m'alt_text'\u001b[0m, \u001b[32m'groundtruth'\u001b[0m: \u001b[32m'expected'\u001b[0m\u001b[1m}\u001b[0m\n",
       "        \u001b[1m}\u001b[0m\n",
       "    \u001b[1m]\u001b[0m,\n",
       "    \u001b[32m'step'\u001b[0m: \u001b[1m[\u001b[0m\n",
       "        \u001b[1m{\u001b[0m\n",
       "            \u001b[32m'name'\u001b[0m: \u001b[32m'judger'\u001b[0m,\n",
       "            \u001b[32m'num_runs'\u001b[0m: \u001b[1;36m1\u001b[0m,\n",
       "            \u001b[32m'concurrent'\u001b[0m: \u001b[1;36m20\u001b[0m,\n",
       "            \u001b[32m'agent'\u001b[0m: \u001b[1m{\u001b[0m\n",
       "                \u001b[32m'name'\u001b[0m: \u001b[32m'lc_judge'\u001b[0m,\n",
       "                \u001b[32m'template'\u001b[0m: \u001b[32m'judge'\u001b[0m,\n",
       "                \u001b[32m'criteria'\u001b[0m: \u001b[32m'criteria_ordinary'\u001b[0m,\n",
       "                \u001b[32m'formatting'\u001b[0m: \u001b[32m'json_rules'\u001b[0m,\n",
       "                \u001b[32m'model'\u001b[0m: \u001b[1m[\u001b[0m\u001b[32m'haiku'\u001b[0m, \u001b[32m'llama31_70b'\u001b[0m, \u001b[32m'gpt4o'\u001b[0m, \u001b[32m'sonnet'\u001b[0m, \u001b[32m'gemini15pro'\u001b[0m\u001b[1m]\u001b[0m\n",
       "            \u001b[1m}\u001b[0m,\n",
       "            \u001b[32m'parameters'\u001b[0m: \u001b[3;35mNone\u001b[0m\n",
       "        \u001b[1m}\u001b[0m\n",
       "    \u001b[1m]\u001b[0m,\n",
       "    \u001b[32m'run'\u001b[0m: \u001b[1m{\u001b[0m\u001b[32m'platform'\u001b[0m: \u001b[32m'local'\u001b[0m\u001b[1m}\u001b[0m,\n",
       "    \u001b[32m'save'\u001b[0m: \u001b[1m{\u001b[0m\n",
       "        \u001b[32m'type'\u001b[0m: \u001b[32m'bq'\u001b[0m,\n",
       "        \u001b[32m'destination'\u001b[0m: \u001b[32m'dmrc-analysis.toxicity.flow'\u001b[0m,\n",
       "        \u001b[32m'schema'\u001b[0m: \u001b[32m'/Users/suzor/src/buttermilk/buttermilk/schemas/flow.json'\u001b[0m\n",
       "    \u001b[1m}\u001b[0m\n",
       "\u001b[1m}\u001b[0m\n"
      ]
     },
     "metadata": {},
     "output_type": "display_data"
    }
   ],
   "source": [
    "\n",
    "from buttermilk import BM\n",
    "from promptflow.tracing import trace, start_trace\n",
    "from rich import print as rprint\n",
    "\n",
    "import os\n",
    "\n",
    "from hydra import initialize, compose\n",
    "from omegaconf import OmegaConf\n",
    "\n",
    "# Load config, specifying overrides for our particular job\n",
    "with initialize(version_base=None, config_path=\"./conf\"):\n",
    "    cfg = compose(config_name='config',\n",
    "                  overrides=[\"+data=drag\", \"+step=ordinary\", \"+save=bq\"])\n",
    "\n",
    "# Load the main ButterMilk singleton instance\n",
    "# This takes care of credentials, save paths, and other defaults\n",
    "bm = BM(cfg=cfg)\n",
    "\n",
    "# Print config\n",
    "rprint(OmegaConf.to_container(bm.cfg, resolve=True))\n",
    "\n"
   ]
  },
  {
   "cell_type": "code",
   "execution_count": 2,
   "metadata": {},
   "outputs": [
    {
     "name": "stderr",
     "output_type": "stream",
     "text": [
      "WARNING: All log messages before absl::InitializeLog() is called are written to STDERR\n",
      "I0000 00:00:1730707123.869479 16045583 fork_posix.cc:77] Other threads are currently calling into gRPC, skipping fork() handlers\n"
     ]
    }
   ],
   "source": [
    "# Create an orchestrator to conduct all combinations of jobs we want to run\n",
    "from buttermilk.runner.orchestrator import MultiFlowOrchestrator\n",
    "orchestrator = MultiFlowOrchestrator(step=cfg.step[0], data=cfg.data, save=cfg.save)\n"
   ]
  },
  {
   "cell_type": "code",
   "execution_count": 3,
   "metadata": {},
   "outputs": [
    {
     "name": "stdout",
     "output_type": "stream",
     "text": [
      "\u001b[32m2024-11-04 17:59:37\u001b[0m \u001b[35mJ5HW6L4KT6\u001b[0m \u001b[34mbuttermilk\u001b[0m orchestrator.py[  74] \u001b[1;30mINFO\u001b[0m Starting task for Agent judger with job WDQTcYk9RocEJEK9V4jWXT.\n",
      "\u001b[32m2024-11-04 17:59:37\u001b[0m \u001b[35mJ5HW6L4KT6\u001b[0m \u001b[34mbuttermilk\u001b[0m lc.py[ 185] \u001b[1;30mINFO\u001b[0m Invoking chain with haiku...\n",
      "\u001b[32m2024-11-04 17:59:37\u001b[0m \u001b[35mJ5HW6L4KT6\u001b[0m \u001b[34mbuttermilk\u001b[0m orchestrator.py[  74] \u001b[1;30mINFO\u001b[0m Starting task for Agent judger with job dphq7Vub7E4rgAAuxZoHXX.\n",
      "\u001b[32m2024-11-04 17:59:37\u001b[0m \u001b[35mJ5HW6L4KT6\u001b[0m \u001b[34mbuttermilk\u001b[0m lc.py[ 185] \u001b[1;30mINFO\u001b[0m Invoking chain with haiku...\n",
      "\u001b[32m2024-11-04 17:59:37\u001b[0m \u001b[35mJ5HW6L4KT6\u001b[0m \u001b[34mbuttermilk\u001b[0m orchestrator.py[  74] \u001b[1;30mINFO\u001b[0m Starting task for Agent judger with job PBT3rfC3AYuxcLBTD7N6uJ.\n",
      "\u001b[32m2024-11-04 17:59:37\u001b[0m \u001b[35mJ5HW6L4KT6\u001b[0m \u001b[34mbuttermilk\u001b[0m lc.py[ 185] \u001b[1;30mINFO\u001b[0m Invoking chain with haiku...\n",
      "\u001b[32m2024-11-04 17:59:37\u001b[0m \u001b[35mJ5HW6L4KT6\u001b[0m \u001b[34mbuttermilk\u001b[0m orchestrator.py[  74] \u001b[1;30mINFO\u001b[0m Starting task for Agent judger with job hpAHSnShEVMEeSj9hjusQM.\n",
      "\u001b[32m2024-11-04 17:59:37\u001b[0m \u001b[35mJ5HW6L4KT6\u001b[0m \u001b[34mbuttermilk\u001b[0m lc.py[ 185] \u001b[1;30mINFO\u001b[0m Invoking chain with haiku...\n",
      "\u001b[32m2024-11-04 17:59:37\u001b[0m \u001b[35mJ5HW6L4KT6\u001b[0m \u001b[34mbuttermilk\u001b[0m orchestrator.py[  74] \u001b[1;30mINFO\u001b[0m Starting task for Agent judger with job QE738ZEZfnXM2qL8zhH3ji.\n",
      "\u001b[32m2024-11-04 17:59:37\u001b[0m \u001b[35mJ5HW6L4KT6\u001b[0m \u001b[34mbuttermilk\u001b[0m orchestrator.py[  74] \u001b[1;30mINFO\u001b[0m Starting task for Agent judger with job 4NcSRwXyMWfwCvgcBy9iwm.\n",
      "\u001b[32m2024-11-04 17:59:37\u001b[0m \u001b[35mJ5HW6L4KT6\u001b[0m \u001b[34mbuttermilk\u001b[0m orchestrator.py[  74] \u001b[1;30mINFO\u001b[0m Starting task for Agent judger with job CqGothcDZnqZ53DjfvywEQ.\n",
      "\u001b[32m2024-11-04 17:59:37\u001b[0m \u001b[35mJ5HW6L4KT6\u001b[0m \u001b[34mbuttermilk\u001b[0m orchestrator.py[  74] \u001b[1;30mINFO\u001b[0m Starting task for Agent judger with job nq5TSdWtNakBC5ZDEPTXBx.\n",
      "\u001b[32m2024-11-04 17:59:37\u001b[0m \u001b[35mJ5HW6L4KT6\u001b[0m \u001b[34mbuttermilk\u001b[0m orchestrator.py[  74] \u001b[1;30mINFO\u001b[0m Starting task for Agent judger with job WFZtzFz8wKCJXnFMac4Exm.\n",
      "\u001b[32m2024-11-04 17:59:37\u001b[0m \u001b[35mJ5HW6L4KT6\u001b[0m \u001b[34mbuttermilk\u001b[0m orchestrator.py[  74] \u001b[1;30mINFO\u001b[0m Starting task for Agent judger with job VZu9KrY8AoRvRXSnfKwWVb.\n",
      "\u001b[32m2024-11-04 17:59:37\u001b[0m \u001b[35mJ5HW6L4KT6\u001b[0m \u001b[34mbuttermilk\u001b[0m orchestrator.py[  74] \u001b[1;30mINFO\u001b[0m Starting task for Agent judger with job RQjwKnpBAxP3HuGN3RXW8s.\n",
      "\u001b[32m2024-11-04 17:59:37\u001b[0m \u001b[35mJ5HW6L4KT6\u001b[0m \u001b[34mbuttermilk\u001b[0m orchestrator.py[  74] \u001b[1;30mINFO\u001b[0m Starting task for Agent judger with job Ub6jFAWS2Bjj6ago9xwWKQ.\n",
      "\u001b[32m2024-11-04 17:59:37\u001b[0m \u001b[35mJ5HW6L4KT6\u001b[0m \u001b[34mbuttermilk\u001b[0m orchestrator.py[  74] \u001b[1;30mINFO\u001b[0m Starting task for Agent judger with job CxDu8xs2BYCTawKM3pokuu.\n",
      "\u001b[32m2024-11-04 17:59:37\u001b[0m \u001b[35mJ5HW6L4KT6\u001b[0m \u001b[34mbuttermilk\u001b[0m orchestrator.py[  74] \u001b[1;30mINFO\u001b[0m Starting task for Agent judger with job 3UXYn4BAKmmVtXzG8v8QpM.\n",
      "\u001b[32m2024-11-04 17:59:37\u001b[0m \u001b[35mJ5HW6L4KT6\u001b[0m \u001b[34mbuttermilk\u001b[0m orchestrator.py[  74] \u001b[1;30mINFO\u001b[0m Starting task for Agent judger with job Wjy3rzX73FSn8N88dNTZfF.\n",
      "\u001b[32m2024-11-04 17:59:37\u001b[0m \u001b[35mJ5HW6L4KT6\u001b[0m \u001b[34mbuttermilk\u001b[0m orchestrator.py[  74] \u001b[1;30mINFO\u001b[0m Starting task for Agent judger with job kVeQSKzA5xo8tcQEXL8zy6.\n",
      "\u001b[32m2024-11-04 17:59:37\u001b[0m \u001b[35mJ5HW6L4KT6\u001b[0m \u001b[34mbuttermilk\u001b[0m orchestrator.py[  74] \u001b[1;30mINFO\u001b[0m Starting task for Agent judger with job b7NqVTRYTZTBTxa3n7gNwY.\n",
      "\u001b[32m2024-11-04 17:59:37\u001b[0m \u001b[35mJ5HW6L4KT6\u001b[0m \u001b[34mbuttermilk\u001b[0m orchestrator.py[  74] \u001b[1;30mINFO\u001b[0m Starting task for Agent judger with job FopPUnbFrkv4zkfaxa3Uev.\n",
      "\u001b[32m2024-11-04 17:59:37\u001b[0m \u001b[35mJ5HW6L4KT6\u001b[0m \u001b[34mbuttermilk\u001b[0m orchestrator.py[  74] \u001b[1;30mINFO\u001b[0m Starting task for Agent judger with job 7h7rKZJTpicvZreTMxRS7S.\n",
      "\u001b[32m2024-11-04 17:59:37\u001b[0m \u001b[35mJ5HW6L4KT6\u001b[0m \u001b[34mbuttermilk\u001b[0m orchestrator.py[  74] \u001b[1;30mINFO\u001b[0m Starting task for Agent judger with job Kr7AsEqAC6tnGSawvKskzM.\n",
      "\u001b[32m2024-11-04 17:59:39\u001b[0m \u001b[35mJ5HW6L4KT6\u001b[0m \u001b[34mbuttermilk\u001b[0m lc.py[ 196] \u001b[1;30mINFO\u001b[0m Invoked chain with haiku in 1.31 seconds\n",
      "\u001b[32m2024-11-04 17:59:41\u001b[0m \u001b[35mJ5HW6L4KT6\u001b[0m \u001b[34mbuttermilk\u001b[0m save.py[ 184] \u001b[1;30mDEBUG\u001b[0m \u001b[32mInserting 1 rows to BigQuery table dmrc-analysis.toxicity.flow.\u001b[0m\n",
      "\u001b[32m2024-11-04 17:59:41\u001b[0m \u001b[35mJ5HW6L4KT6\u001b[0m \u001b[34mbuttermilk\u001b[0m save.py[ 191] \u001b[1;30mINFO\u001b[0m Successfully pushed 1 rows to BigQuery table dmrc-analysis.toxicity.flow.\n",
      "\u001b[32m2024-11-04 17:59:41\u001b[0m \u001b[35mJ5HW6L4KT6\u001b[0m \u001b[34mbuttermilk\u001b[0m orchestrator.py[  80] \u001b[1;30mINFO\u001b[0m Agent judger completed job dphq7Vub7E4rgAAuxZoHXX successfully.\n",
      "\u001b[32m2024-11-04 17:59:41\u001b[0m \u001b[35mJ5HW6L4KT6\u001b[0m \u001b[34mbuttermilk\u001b[0m lc.py[ 185] \u001b[1;30mINFO\u001b[0m Invoking chain with haiku...\n",
      "\u001b[32m2024-11-04 17:59:41\u001b[0m \u001b[35mJ5HW6L4KT6\u001b[0m \u001b[34mbuttermilk\u001b[0m orchestrator.py[  74] \u001b[1;30mINFO\u001b[0m Starting task for Agent judger with job JPooXVggzXjoiGT3h9sywG.\n",
      "\u001b[32m2024-11-04 17:59:41\u001b[0m \u001b[35mJ5HW6L4KT6\u001b[0m \u001b[34mbuttermilk\u001b[0m lc.py[ 185] \u001b[1;30mINFO\u001b[0m Invoking chain with llama31_70b...\n",
      "\u001b[32m2024-11-04 17:59:41\u001b[0m \u001b[35mJ5HW6L4KT6\u001b[0m \u001b[34mbuttermilk\u001b[0m lc.py[ 196] \u001b[1;30mINFO\u001b[0m Invoked chain with haiku in 3.85 seconds\n"
     ]
    },
    {
     "name": "stderr",
     "output_type": "stream",
     "text": [
      "I0000 00:00:1730707181.686514 16045583 fork_posix.cc:77] Other threads are currently calling into gRPC, skipping fork() handlers\n"
     ]
    },
    {
     "name": "stdout",
     "output_type": "stream",
     "text": [
      "\u001b[32m2024-11-04 17:59:43\u001b[0m \u001b[35mJ5HW6L4KT6\u001b[0m \u001b[34mbuttermilk\u001b[0m save.py[ 184] \u001b[1;30mDEBUG\u001b[0m \u001b[32mInserting 1 rows to BigQuery table dmrc-analysis.toxicity.flow.\u001b[0m\n",
      "\u001b[32m2024-11-04 17:59:43\u001b[0m \u001b[35mJ5HW6L4KT6\u001b[0m \u001b[34mbuttermilk\u001b[0m save.py[ 191] \u001b[1;30mINFO\u001b[0m Successfully pushed 1 rows to BigQuery table dmrc-analysis.toxicity.flow.\n",
      "\u001b[32m2024-11-04 17:59:43\u001b[0m \u001b[35mJ5HW6L4KT6\u001b[0m \u001b[34mbuttermilk\u001b[0m orchestrator.py[  80] \u001b[1;30mINFO\u001b[0m Agent judger completed job WDQTcYk9RocEJEK9V4jWXT successfully.\n",
      "\u001b[32m2024-11-04 17:59:43\u001b[0m \u001b[35mJ5HW6L4KT6\u001b[0m \u001b[34mbuttermilk\u001b[0m lc.py[ 196] \u001b[1;30mINFO\u001b[0m Invoked chain with haiku in 5.84 seconds\n",
      "\u001b[32m2024-11-04 17:59:45\u001b[0m \u001b[35mJ5HW6L4KT6\u001b[0m \u001b[34mbuttermilk\u001b[0m save.py[ 184] \u001b[1;30mDEBUG\u001b[0m \u001b[32mInserting 1 rows to BigQuery table dmrc-analysis.toxicity.flow.\u001b[0m\n",
      "\u001b[32m2024-11-04 17:59:46\u001b[0m \u001b[35mJ5HW6L4KT6\u001b[0m \u001b[34mbuttermilk\u001b[0m save.py[ 191] \u001b[1;30mINFO\u001b[0m Successfully pushed 1 rows to BigQuery table dmrc-analysis.toxicity.flow.\n",
      "\u001b[32m2024-11-04 17:59:46\u001b[0m \u001b[35mJ5HW6L4KT6\u001b[0m \u001b[34mbuttermilk\u001b[0m orchestrator.py[  80] \u001b[1;30mINFO\u001b[0m Agent judger completed job hpAHSnShEVMEeSj9hjusQM successfully.\n",
      "\u001b[32m2024-11-04 17:59:46\u001b[0m \u001b[35mJ5HW6L4KT6\u001b[0m \u001b[34mbuttermilk\u001b[0m lc.py[ 196] \u001b[1;30mINFO\u001b[0m Invoked chain with haiku in 8.36 seconds\n"
     ]
    },
    {
     "name": "stderr",
     "output_type": "stream",
     "text": [
      "I0000 00:00:1730707186.233406 16045583 fork_posix.cc:77] Other threads are currently calling into gRPC, skipping fork() handlers\n"
     ]
    },
    {
     "name": "stdout",
     "output_type": "stream",
     "text": [
      "\u001b[32m2024-11-04 17:59:47\u001b[0m \u001b[35mJ5HW6L4KT6\u001b[0m \u001b[34mbuttermilk\u001b[0m save.py[ 184] \u001b[1;30mDEBUG\u001b[0m \u001b[32mInserting 1 rows to BigQuery table dmrc-analysis.toxicity.flow.\u001b[0m\n",
      "\u001b[32m2024-11-04 17:59:48\u001b[0m \u001b[35mJ5HW6L4KT6\u001b[0m \u001b[34mbuttermilk\u001b[0m save.py[ 191] \u001b[1;30mINFO\u001b[0m Successfully pushed 1 rows to BigQuery table dmrc-analysis.toxicity.flow.\n",
      "\u001b[32m2024-11-04 17:59:48\u001b[0m \u001b[35mJ5HW6L4KT6\u001b[0m \u001b[34mbuttermilk\u001b[0m orchestrator.py[  80] \u001b[1;30mINFO\u001b[0m Agent judger completed job PBT3rfC3AYuxcLBTD7N6uJ successfully.\n",
      "\u001b[32m2024-11-04 17:59:48\u001b[0m \u001b[35mJ5HW6L4KT6\u001b[0m \u001b[34mbuttermilk\u001b[0m lc.py[ 185] \u001b[1;30mINFO\u001b[0m Invoking chain with haiku...\n",
      "\u001b[32m2024-11-04 17:59:48\u001b[0m \u001b[35mJ5HW6L4KT6\u001b[0m \u001b[34mbuttermilk\u001b[0m orchestrator.py[  74] \u001b[1;30mINFO\u001b[0m Starting task for Agent judger with job e5LMkfvUqc3nEFBEgfR9BQ.\n",
      "\u001b[32m2024-11-04 17:59:48\u001b[0m \u001b[35mJ5HW6L4KT6\u001b[0m \u001b[34mbuttermilk\u001b[0m lc.py[ 185] \u001b[1;30mINFO\u001b[0m Invoking chain with llama31_70b...\n",
      "\u001b[32m2024-11-04 17:59:48\u001b[0m \u001b[35mJ5HW6L4KT6\u001b[0m \u001b[34mbuttermilk\u001b[0m lc.py[ 185] \u001b[1;30mINFO\u001b[0m Invoking chain with haiku...\n",
      "\u001b[32m2024-11-04 17:59:48\u001b[0m \u001b[35mJ5HW6L4KT6\u001b[0m \u001b[34mbuttermilk\u001b[0m orchestrator.py[  74] \u001b[1;30mINFO\u001b[0m Starting task for Agent judger with job 87gNzc7naLzMbcbGoa6PFT.\n",
      "\u001b[32m2024-11-04 17:59:48\u001b[0m \u001b[35mJ5HW6L4KT6\u001b[0m \u001b[34mbuttermilk\u001b[0m lc.py[ 185] \u001b[1;30mINFO\u001b[0m Invoking chain with llama31_70b...\n",
      "\u001b[32m2024-11-04 17:59:48\u001b[0m \u001b[35mJ5HW6L4KT6\u001b[0m \u001b[34mbuttermilk\u001b[0m lc.py[ 185] \u001b[1;30mINFO\u001b[0m Invoking chain with haiku...\n",
      "\u001b[32m2024-11-04 17:59:48\u001b[0m \u001b[35mJ5HW6L4KT6\u001b[0m \u001b[34mbuttermilk\u001b[0m orchestrator.py[  74] \u001b[1;30mINFO\u001b[0m Starting task for Agent judger with job PSXWoy8PU7vTn54VEkqsxN.\n",
      "\u001b[32m2024-11-04 17:59:48\u001b[0m \u001b[35mJ5HW6L4KT6\u001b[0m \u001b[34mbuttermilk\u001b[0m lc.py[ 185] \u001b[1;30mINFO\u001b[0m Invoking chain with llama31_70b...\n",
      "\u001b[32m2024-11-04 17:59:48\u001b[0m \u001b[35mJ5HW6L4KT6\u001b[0m \u001b[34mbuttermilk\u001b[0m lc.py[ 196] \u001b[1;30mINFO\u001b[0m Invoked chain with haiku in 6.67 seconds\n"
     ]
    },
    {
     "name": "stderr",
     "output_type": "stream",
     "text": [
      "I0000 00:00:1730707188.308986 16045583 fork_posix.cc:77] Other threads are currently calling into gRPC, skipping fork() handlers\n",
      "I0000 00:00:1730707188.758197 16045583 fork_posix.cc:77] Other threads are currently calling into gRPC, skipping fork() handlers\n"
     ]
    },
    {
     "name": "stdout",
     "output_type": "stream",
     "text": [
      "\u001b[32m2024-11-04 17:59:49\u001b[0m \u001b[35mJ5HW6L4KT6\u001b[0m \u001b[34mbuttermilk\u001b[0m save.py[ 184] \u001b[1;30mDEBUG\u001b[0m \u001b[32mInserting 1 rows to BigQuery table dmrc-analysis.toxicity.flow.\u001b[0m\n",
      "\u001b[32m2024-11-04 17:59:50\u001b[0m \u001b[35mJ5HW6L4KT6\u001b[0m \u001b[34mbuttermilk\u001b[0m save.py[ 191] \u001b[1;30mINFO\u001b[0m Successfully pushed 1 rows to BigQuery table dmrc-analysis.toxicity.flow.\n",
      "\u001b[32m2024-11-04 17:59:50\u001b[0m \u001b[35mJ5HW6L4KT6\u001b[0m \u001b[34mbuttermilk\u001b[0m orchestrator.py[  80] \u001b[1;30mINFO\u001b[0m Agent judger completed job QE738ZEZfnXM2qL8zhH3ji successfully.\n",
      "\u001b[32m2024-11-04 17:59:50\u001b[0m \u001b[35mJ5HW6L4KT6\u001b[0m \u001b[34mbuttermilk\u001b[0m lc.py[ 185] \u001b[1;30mINFO\u001b[0m Invoking chain with haiku...\n",
      "\u001b[32m2024-11-04 17:59:50\u001b[0m \u001b[35mJ5HW6L4KT6\u001b[0m \u001b[34mbuttermilk\u001b[0m orchestrator.py[  74] \u001b[1;30mINFO\u001b[0m Starting task for Agent judger with job HuGLJn7BWUDoFgJw5GySVL.\n",
      "\u001b[32m2024-11-04 17:59:50\u001b[0m \u001b[35mJ5HW6L4KT6\u001b[0m \u001b[34mbuttermilk\u001b[0m lc.py[ 196] \u001b[1;30mINFO\u001b[0m Invoked chain with llama31_70b in 8.68 seconds\n",
      "\u001b[32m2024-11-04 17:59:52\u001b[0m \u001b[35mJ5HW6L4KT6\u001b[0m \u001b[34mbuttermilk\u001b[0m save.py[ 184] \u001b[1;30mDEBUG\u001b[0m \u001b[32mInserting 1 rows to BigQuery table dmrc-analysis.toxicity.flow.\u001b[0m\n",
      "\u001b[32m2024-11-04 17:59:52\u001b[0m \u001b[35mJ5HW6L4KT6\u001b[0m \u001b[34mbuttermilk\u001b[0m save.py[ 191] \u001b[1;30mINFO\u001b[0m Successfully pushed 1 rows to BigQuery table dmrc-analysis.toxicity.flow.\n",
      "\u001b[32m2024-11-04 17:59:52\u001b[0m \u001b[35mJ5HW6L4KT6\u001b[0m \u001b[34mbuttermilk\u001b[0m orchestrator.py[  80] \u001b[1;30mINFO\u001b[0m Agent judger completed job JPooXVggzXjoiGT3h9sywG successfully.\n",
      "\u001b[32m2024-11-04 17:59:52\u001b[0m \u001b[35mJ5HW6L4KT6\u001b[0m \u001b[34mbuttermilk\u001b[0m lc.py[ 196] \u001b[1;30mINFO\u001b[0m Invoked chain with haiku in 4.62 seconds\n"
     ]
    },
    {
     "name": "stderr",
     "output_type": "stream",
     "text": [
      "I0000 00:00:1730707192.892506 16045583 fork_posix.cc:77] Other threads are currently calling into gRPC, skipping fork() handlers\n"
     ]
    },
    {
     "name": "stdout",
     "output_type": "stream",
     "text": [
      "\u001b[32m2024-11-04 17:59:54\u001b[0m \u001b[35mJ5HW6L4KT6\u001b[0m \u001b[34mbuttermilk\u001b[0m save.py[ 184] \u001b[1;30mDEBUG\u001b[0m \u001b[32mInserting 1 rows to BigQuery table dmrc-analysis.toxicity.flow.\u001b[0m\n",
      "\u001b[32m2024-11-04 17:59:54\u001b[0m \u001b[35mJ5HW6L4KT6\u001b[0m \u001b[34mbuttermilk\u001b[0m save.py[ 191] \u001b[1;30mINFO\u001b[0m Successfully pushed 1 rows to BigQuery table dmrc-analysis.toxicity.flow.\n",
      "\u001b[32m2024-11-04 17:59:54\u001b[0m \u001b[35mJ5HW6L4KT6\u001b[0m \u001b[34mbuttermilk\u001b[0m orchestrator.py[  80] \u001b[1;30mINFO\u001b[0m Agent judger completed job 4NcSRwXyMWfwCvgcBy9iwm successfully.\n",
      "\u001b[32m2024-11-04 17:59:54\u001b[0m \u001b[35mJ5HW6L4KT6\u001b[0m \u001b[34mbuttermilk\u001b[0m lc.py[ 185] \u001b[1;30mINFO\u001b[0m Invoking chain with llama31_70b...\n",
      "\u001b[32m2024-11-04 17:59:54\u001b[0m \u001b[35mJ5HW6L4KT6\u001b[0m \u001b[34mbuttermilk\u001b[0m orchestrator.py[  74] \u001b[1;30mINFO\u001b[0m Starting task for Agent judger with job 4bUijB9KMhwCirt2oMkxi8.\n",
      "\u001b[32m2024-11-04 17:59:54\u001b[0m \u001b[35mJ5HW6L4KT6\u001b[0m \u001b[34mbuttermilk\u001b[0m lc.py[ 185] \u001b[1;30mINFO\u001b[0m Invoking chain with haiku...\n",
      "\u001b[32m2024-11-04 17:59:54\u001b[0m \u001b[35mJ5HW6L4KT6\u001b[0m \u001b[34mbuttermilk\u001b[0m orchestrator.py[  74] \u001b[1;30mINFO\u001b[0m Starting task for Agent judger with job GnR2MrCva7MaFtd9bF7H5G.\n",
      "\u001b[32m2024-11-04 17:59:55\u001b[0m \u001b[35mJ5HW6L4KT6\u001b[0m \u001b[34mbuttermilk\u001b[0m lc.py[ 196] \u001b[1;30mINFO\u001b[0m Invoked chain with llama31_70b in 6.74 seconds\n"
     ]
    },
    {
     "name": "stderr",
     "output_type": "stream",
     "text": [
      "I0000 00:00:1730707195.023234 16045583 fork_posix.cc:77] Other threads are currently calling into gRPC, skipping fork() handlers\n"
     ]
    },
    {
     "name": "stdout",
     "output_type": "stream",
     "text": [
      "\u001b[32m2024-11-04 17:59:56\u001b[0m \u001b[35mJ5HW6L4KT6\u001b[0m \u001b[34mbuttermilk\u001b[0m save.py[ 184] \u001b[1;30mDEBUG\u001b[0m \u001b[32mInserting 1 rows to BigQuery table dmrc-analysis.toxicity.flow.\u001b[0m\n",
      "\u001b[32m2024-11-04 17:59:57\u001b[0m \u001b[35mJ5HW6L4KT6\u001b[0m \u001b[34mbuttermilk\u001b[0m save.py[ 191] \u001b[1;30mINFO\u001b[0m Successfully pushed 1 rows to BigQuery table dmrc-analysis.toxicity.flow.\n",
      "\u001b[32m2024-11-04 17:59:57\u001b[0m \u001b[35mJ5HW6L4KT6\u001b[0m \u001b[34mbuttermilk\u001b[0m orchestrator.py[  80] \u001b[1;30mINFO\u001b[0m Agent judger completed job PSXWoy8PU7vTn54VEkqsxN successfully.\n",
      "\u001b[32m2024-11-04 17:59:57\u001b[0m \u001b[35mJ5HW6L4KT6\u001b[0m \u001b[34mbuttermilk\u001b[0m lc.py[ 185] \u001b[1;30mINFO\u001b[0m Invoking chain with llama31_70b...\n",
      "\u001b[32m2024-11-04 17:59:57\u001b[0m \u001b[35mJ5HW6L4KT6\u001b[0m \u001b[34mbuttermilk\u001b[0m orchestrator.py[  74] \u001b[1;30mINFO\u001b[0m Starting task for Agent judger with job c8ZkKhcz6ZV5QRg3VL4j8t.\n",
      "\u001b[32m2024-11-04 17:59:57\u001b[0m \u001b[35mJ5HW6L4KT6\u001b[0m \u001b[34mbuttermilk\u001b[0m lc.py[ 196] \u001b[1;30mINFO\u001b[0m Invoked chain with haiku in 8.90 seconds\n"
     ]
    },
    {
     "name": "stderr",
     "output_type": "stream",
     "text": [
      "I0000 00:00:1730707197.204873 16045583 fork_posix.cc:77] Other threads are currently calling into gRPC, skipping fork() handlers\n"
     ]
    },
    {
     "name": "stdout",
     "output_type": "stream",
     "text": [
      "\u001b[32m2024-11-04 17:59:59\u001b[0m \u001b[35mJ5HW6L4KT6\u001b[0m \u001b[34mbuttermilk\u001b[0m save.py[ 184] \u001b[1;30mDEBUG\u001b[0m \u001b[32mInserting 1 rows to BigQuery table dmrc-analysis.toxicity.flow.\u001b[0m\n",
      "\u001b[32m2024-11-04 17:59:59\u001b[0m \u001b[35mJ5HW6L4KT6\u001b[0m \u001b[34mbuttermilk\u001b[0m save.py[ 191] \u001b[1;30mINFO\u001b[0m Successfully pushed 1 rows to BigQuery table dmrc-analysis.toxicity.flow.\n",
      "\u001b[32m2024-11-04 17:59:59\u001b[0m \u001b[35mJ5HW6L4KT6\u001b[0m \u001b[34mbuttermilk\u001b[0m orchestrator.py[  80] \u001b[1;30mINFO\u001b[0m Agent judger completed job nq5TSdWtNakBC5ZDEPTXBx successfully.\n",
      "\u001b[32m2024-11-04 17:59:59\u001b[0m \u001b[35mJ5HW6L4KT6\u001b[0m \u001b[34mbuttermilk\u001b[0m lc.py[ 196] \u001b[1;30mINFO\u001b[0m Invoked chain with haiku in 9.26 seconds\n"
     ]
    },
    {
     "name": "stderr",
     "output_type": "stream",
     "text": [
      "I0000 00:00:1730707199.538025 16045583 fork_posix.cc:77] Other threads are currently calling into gRPC, skipping fork() handlers\n"
     ]
    },
    {
     "name": "stdout",
     "output_type": "stream",
     "text": [
      "\u001b[32m2024-11-04 18:00:01\u001b[0m \u001b[35mJ5HW6L4KT6\u001b[0m \u001b[34mbuttermilk\u001b[0m save.py[ 184] \u001b[1;30mDEBUG\u001b[0m \u001b[32mInserting 1 rows to BigQuery table dmrc-analysis.toxicity.flow.\u001b[0m\n",
      "\u001b[32m2024-11-04 18:00:01\u001b[0m \u001b[35mJ5HW6L4KT6\u001b[0m \u001b[34mbuttermilk\u001b[0m save.py[ 191] \u001b[1;30mINFO\u001b[0m Successfully pushed 1 rows to BigQuery table dmrc-analysis.toxicity.flow.\n",
      "\u001b[32m2024-11-04 18:00:01\u001b[0m \u001b[35mJ5HW6L4KT6\u001b[0m \u001b[34mbuttermilk\u001b[0m orchestrator.py[  80] \u001b[1;30mINFO\u001b[0m Agent judger completed job WFZtzFz8wKCJXnFMac4Exm successfully.\n",
      "\u001b[32m2024-11-04 18:00:01\u001b[0m \u001b[35mJ5HW6L4KT6\u001b[0m \u001b[34mbuttermilk\u001b[0m lc.py[ 196] \u001b[1;30mINFO\u001b[0m Invoked chain with haiku in 13.69 seconds\n"
     ]
    },
    {
     "name": "stderr",
     "output_type": "stream",
     "text": [
      "I0000 00:00:1730707201.962570 16045583 fork_posix.cc:77] Other threads are currently calling into gRPC, skipping fork() handlers\n"
     ]
    },
    {
     "name": "stdout",
     "output_type": "stream",
     "text": [
      "\u001b[32m2024-11-04 18:00:03\u001b[0m \u001b[35mJ5HW6L4KT6\u001b[0m \u001b[34mbuttermilk\u001b[0m save.py[ 184] \u001b[1;30mDEBUG\u001b[0m \u001b[32mInserting 1 rows to BigQuery table dmrc-analysis.toxicity.flow.\u001b[0m\n",
      "\u001b[32m2024-11-04 18:00:04\u001b[0m \u001b[35mJ5HW6L4KT6\u001b[0m \u001b[34mbuttermilk\u001b[0m save.py[ 191] \u001b[1;30mINFO\u001b[0m Successfully pushed 1 rows to BigQuery table dmrc-analysis.toxicity.flow.\n",
      "\u001b[32m2024-11-04 18:00:04\u001b[0m \u001b[35mJ5HW6L4KT6\u001b[0m \u001b[34mbuttermilk\u001b[0m orchestrator.py[  80] \u001b[1;30mINFO\u001b[0m Agent judger completed job CqGothcDZnqZ53DjfvywEQ successfully.\n",
      "\u001b[32m2024-11-04 18:00:04\u001b[0m \u001b[35mJ5HW6L4KT6\u001b[0m \u001b[34mbuttermilk\u001b[0m lc.py[ 185] \u001b[1;30mINFO\u001b[0m Invoking chain with haiku...\n",
      "\u001b[32m2024-11-04 18:00:04\u001b[0m \u001b[35mJ5HW6L4KT6\u001b[0m \u001b[34mbuttermilk\u001b[0m orchestrator.py[  74] \u001b[1;30mINFO\u001b[0m Starting task for Agent judger with job Lgfyd7fbgPzy8YAYqVdURX.\n",
      "\u001b[32m2024-11-04 18:00:04\u001b[0m \u001b[35mJ5HW6L4KT6\u001b[0m \u001b[34mbuttermilk\u001b[0m lc.py[ 185] \u001b[1;30mINFO\u001b[0m Invoking chain with haiku...\n",
      "\u001b[32m2024-11-04 18:00:04\u001b[0m \u001b[35mJ5HW6L4KT6\u001b[0m \u001b[34mbuttermilk\u001b[0m orchestrator.py[  74] \u001b[1;30mINFO\u001b[0m Starting task for Agent judger with job T6qUHezTHeppZBx4yW5VsJ.\n",
      "\u001b[32m2024-11-04 18:00:04\u001b[0m \u001b[35mJ5HW6L4KT6\u001b[0m \u001b[34mbuttermilk\u001b[0m lc.py[ 185] \u001b[1;30mINFO\u001b[0m Invoking chain with haiku...\n",
      "\u001b[32m2024-11-04 18:00:04\u001b[0m \u001b[35mJ5HW6L4KT6\u001b[0m \u001b[34mbuttermilk\u001b[0m orchestrator.py[  74] \u001b[1;30mINFO\u001b[0m Starting task for Agent judger with job h9aBFDGp6rZKBZnFeDAXym.\n",
      "\u001b[32m2024-11-04 18:00:04\u001b[0m \u001b[35mJ5HW6L4KT6\u001b[0m \u001b[34mbuttermilk\u001b[0m lc.py[ 196] \u001b[1;30mINFO\u001b[0m Invoked chain with llama31_70b in 9.18 seconds\n",
      "\u001b[32m2024-11-04 18:00:06\u001b[0m \u001b[35mJ5HW6L4KT6\u001b[0m \u001b[34mbuttermilk\u001b[0m save.py[ 184] \u001b[1;30mDEBUG\u001b[0m \u001b[32mInserting 1 rows to BigQuery table dmrc-analysis.toxicity.flow.\u001b[0m\n",
      "\u001b[32m2024-11-04 18:00:06\u001b[0m \u001b[35mJ5HW6L4KT6\u001b[0m \u001b[34mbuttermilk\u001b[0m save.py[ 191] \u001b[1;30mINFO\u001b[0m Successfully pushed 1 rows to BigQuery table dmrc-analysis.toxicity.flow.\n",
      "\u001b[32m2024-11-04 18:00:06\u001b[0m \u001b[35mJ5HW6L4KT6\u001b[0m \u001b[34mbuttermilk\u001b[0m orchestrator.py[  80] \u001b[1;30mINFO\u001b[0m Agent judger completed job HuGLJn7BWUDoFgJw5GySVL successfully.\n",
      "\u001b[32m2024-11-04 18:00:06\u001b[0m \u001b[35mJ5HW6L4KT6\u001b[0m \u001b[34mbuttermilk\u001b[0m lc.py[ 196] \u001b[1;30mINFO\u001b[0m Invoked chain with llama31_70b in 18.46 seconds\n"
     ]
    },
    {
     "name": "stderr",
     "output_type": "stream",
     "text": [
      "I0000 00:00:1730707206.755458 16045583 fork_posix.cc:77] Other threads are currently calling into gRPC, skipping fork() handlers\n"
     ]
    },
    {
     "name": "stdout",
     "output_type": "stream",
     "text": [
      "\u001b[32m2024-11-04 18:00:08\u001b[0m \u001b[35mJ5HW6L4KT6\u001b[0m \u001b[34mbuttermilk\u001b[0m save.py[ 184] \u001b[1;30mDEBUG\u001b[0m \u001b[32mInserting 1 rows to BigQuery table dmrc-analysis.toxicity.flow.\u001b[0m\n",
      "\u001b[32m2024-11-04 18:00:08\u001b[0m \u001b[35mJ5HW6L4KT6\u001b[0m \u001b[34mbuttermilk\u001b[0m save.py[ 191] \u001b[1;30mINFO\u001b[0m Successfully pushed 1 rows to BigQuery table dmrc-analysis.toxicity.flow.\n",
      "\u001b[32m2024-11-04 18:00:08\u001b[0m \u001b[35mJ5HW6L4KT6\u001b[0m \u001b[34mbuttermilk\u001b[0m orchestrator.py[  80] \u001b[1;30mINFO\u001b[0m Agent judger completed job e5LMkfvUqc3nEFBEgfR9BQ successfully.\n",
      "\u001b[32m2024-11-04 18:00:08\u001b[0m \u001b[35mJ5HW6L4KT6\u001b[0m \u001b[34mbuttermilk\u001b[0m lc.py[ 196] \u001b[1;30mINFO\u001b[0m Invoked chain with llama31_70b in 20.40 seconds\n",
      "\u001b[32m2024-11-04 18:00:10\u001b[0m \u001b[35mJ5HW6L4KT6\u001b[0m \u001b[34mbuttermilk\u001b[0m save.py[ 184] \u001b[1;30mDEBUG\u001b[0m \u001b[32mInserting 1 rows to BigQuery table dmrc-analysis.toxicity.flow.\u001b[0m\n",
      "\u001b[32m2024-11-04 18:00:11\u001b[0m \u001b[35mJ5HW6L4KT6\u001b[0m \u001b[34mbuttermilk\u001b[0m save.py[ 191] \u001b[1;30mINFO\u001b[0m Successfully pushed 1 rows to BigQuery table dmrc-analysis.toxicity.flow.\n",
      "\u001b[32m2024-11-04 18:00:11\u001b[0m \u001b[35mJ5HW6L4KT6\u001b[0m \u001b[34mbuttermilk\u001b[0m orchestrator.py[  80] \u001b[1;30mINFO\u001b[0m Agent judger completed job 87gNzc7naLzMbcbGoa6PFT successfully.\n",
      "\u001b[32m2024-11-04 18:00:11\u001b[0m \u001b[35mJ5HW6L4KT6\u001b[0m \u001b[34mbuttermilk\u001b[0m lc.py[ 185] \u001b[1;30mINFO\u001b[0m Invoking chain with llama31_70b...\n",
      "\u001b[32m2024-11-04 18:00:11\u001b[0m \u001b[35mJ5HW6L4KT6\u001b[0m \u001b[34mbuttermilk\u001b[0m orchestrator.py[  74] \u001b[1;30mINFO\u001b[0m Starting task for Agent judger with job FWrwejLR8M4E5SaS9qewK2.\n",
      "\u001b[32m2024-11-04 18:00:11\u001b[0m \u001b[35mJ5HW6L4KT6\u001b[0m \u001b[34mbuttermilk\u001b[0m lc.py[ 185] \u001b[1;30mINFO\u001b[0m Invoking chain with llama31_70b...\n",
      "\u001b[32m2024-11-04 18:00:11\u001b[0m \u001b[35mJ5HW6L4KT6\u001b[0m \u001b[34mbuttermilk\u001b[0m orchestrator.py[  74] \u001b[1;30mINFO\u001b[0m Starting task for Agent judger with job 8Tq2x8XKZ9oYaH2AkefSkA.\n",
      "\u001b[32m2024-11-04 18:00:11\u001b[0m \u001b[35mJ5HW6L4KT6\u001b[0m \u001b[34mbuttermilk\u001b[0m lc.py[ 185] \u001b[1;30mINFO\u001b[0m Invoking chain with llama31_70b...\n",
      "\u001b[32m2024-11-04 18:00:11\u001b[0m \u001b[35mJ5HW6L4KT6\u001b[0m \u001b[34mbuttermilk\u001b[0m orchestrator.py[  74] \u001b[1;30mINFO\u001b[0m Starting task for Agent judger with job dqDdPdDvKhh6J8pNALmNWs.\n",
      "\u001b[32m2024-11-04 18:00:11\u001b[0m \u001b[35mJ5HW6L4KT6\u001b[0m \u001b[34mbuttermilk\u001b[0m lc.py[ 196] \u001b[1;30mINFO\u001b[0m Invoked chain with haiku in 16.10 seconds\n"
     ]
    },
    {
     "name": "stderr",
     "output_type": "stream",
     "text": [
      "I0000 00:00:1730707211.098338 16045583 fork_posix.cc:77] Other threads are currently calling into gRPC, skipping fork() handlers\n"
     ]
    },
    {
     "name": "stdout",
     "output_type": "stream",
     "text": [
      "\u001b[32m2024-11-04 18:00:12\u001b[0m \u001b[35mJ5HW6L4KT6\u001b[0m \u001b[34mbuttermilk\u001b[0m save.py[ 184] \u001b[1;30mDEBUG\u001b[0m \u001b[32mInserting 1 rows to BigQuery table dmrc-analysis.toxicity.flow.\u001b[0m\n",
      "\u001b[32m2024-11-04 18:00:13\u001b[0m \u001b[35mJ5HW6L4KT6\u001b[0m \u001b[34mbuttermilk\u001b[0m save.py[ 191] \u001b[1;30mINFO\u001b[0m Successfully pushed 1 rows to BigQuery table dmrc-analysis.toxicity.flow.\n",
      "\u001b[32m2024-11-04 18:00:13\u001b[0m \u001b[35mJ5HW6L4KT6\u001b[0m \u001b[34mbuttermilk\u001b[0m orchestrator.py[  80] \u001b[1;30mINFO\u001b[0m Agent judger completed job VZu9KrY8AoRvRXSnfKwWVb successfully.\n",
      "\u001b[32m2024-11-04 18:00:13\u001b[0m \u001b[35mJ5HW6L4KT6\u001b[0m \u001b[34mbuttermilk\u001b[0m lc.py[ 185] \u001b[1;30mINFO\u001b[0m Invoking chain with haiku...\n",
      "\u001b[32m2024-11-04 18:00:13\u001b[0m \u001b[35mJ5HW6L4KT6\u001b[0m \u001b[34mbuttermilk\u001b[0m orchestrator.py[  74] \u001b[1;30mINFO\u001b[0m Starting task for Agent judger with job Ja4LU8Gh8ZT5xK7Y454uy2.\n",
      "\u001b[32m2024-11-04 18:00:13\u001b[0m \u001b[35mJ5HW6L4KT6\u001b[0m \u001b[34mbuttermilk\u001b[0m lc.py[ 196] \u001b[1;30mINFO\u001b[0m Invoked chain with llama31_70b in 15.93 seconds\n"
     ]
    },
    {
     "name": "stderr",
     "output_type": "stream",
     "text": [
      "I0000 00:00:1730707213.108173 16045583 fork_posix.cc:77] Other threads are currently calling into gRPC, skipping fork() handlers\n"
     ]
    },
    {
     "name": "stdout",
     "output_type": "stream",
     "text": [
      "\u001b[32m2024-11-04 18:00:14\u001b[0m \u001b[35mJ5HW6L4KT6\u001b[0m \u001b[34mbuttermilk\u001b[0m save.py[ 184] \u001b[1;30mDEBUG\u001b[0m \u001b[32mInserting 1 rows to BigQuery table dmrc-analysis.toxicity.flow.\u001b[0m\n",
      "\u001b[32m2024-11-04 18:00:15\u001b[0m \u001b[35mJ5HW6L4KT6\u001b[0m \u001b[34mbuttermilk\u001b[0m save.py[ 191] \u001b[1;30mINFO\u001b[0m Successfully pushed 1 rows to BigQuery table dmrc-analysis.toxicity.flow.\n",
      "\u001b[32m2024-11-04 18:00:15\u001b[0m \u001b[35mJ5HW6L4KT6\u001b[0m \u001b[34mbuttermilk\u001b[0m orchestrator.py[  80] \u001b[1;30mINFO\u001b[0m Agent judger completed job 4bUijB9KMhwCirt2oMkxi8 successfully.\n",
      "\u001b[32m2024-11-04 18:00:15\u001b[0m \u001b[35mJ5HW6L4KT6\u001b[0m \u001b[34mbuttermilk\u001b[0m lc.py[ 185] \u001b[1;30mINFO\u001b[0m Invoking chain with llama31_70b...\n",
      "\u001b[32m2024-11-04 18:00:15\u001b[0m \u001b[35mJ5HW6L4KT6\u001b[0m \u001b[34mbuttermilk\u001b[0m orchestrator.py[  74] \u001b[1;30mINFO\u001b[0m Starting task for Agent judger with job 97MnZFKA8YEeVtx6Sv652m.\n",
      "\u001b[32m2024-11-04 18:00:15\u001b[0m \u001b[35mJ5HW6L4KT6\u001b[0m \u001b[34mbuttermilk\u001b[0m lc.py[ 196] \u001b[1;30mINFO\u001b[0m Invoked chain with haiku in 10.97 seconds\n"
     ]
    },
    {
     "name": "stderr",
     "output_type": "stream",
     "text": [
      "I0000 00:00:1730707215.078394 16045583 fork_posix.cc:77] Other threads are currently calling into gRPC, skipping fork() handlers\n"
     ]
    },
    {
     "name": "stdout",
     "output_type": "stream",
     "text": [
      "\u001b[32m2024-11-04 18:00:17\u001b[0m \u001b[35mJ5HW6L4KT6\u001b[0m \u001b[34mbuttermilk\u001b[0m save.py[ 184] \u001b[1;30mDEBUG\u001b[0m \u001b[32mInserting 1 rows to BigQuery table dmrc-analysis.toxicity.flow.\u001b[0m\n",
      "\u001b[32m2024-11-04 18:00:17\u001b[0m \u001b[35mJ5HW6L4KT6\u001b[0m \u001b[34mbuttermilk\u001b[0m save.py[ 191] \u001b[1;30mINFO\u001b[0m Successfully pushed 1 rows to BigQuery table dmrc-analysis.toxicity.flow.\n",
      "\u001b[32m2024-11-04 18:00:17\u001b[0m \u001b[35mJ5HW6L4KT6\u001b[0m \u001b[34mbuttermilk\u001b[0m orchestrator.py[  80] \u001b[1;30mINFO\u001b[0m Agent judger completed job RQjwKnpBAxP3HuGN3RXW8s successfully.\n",
      "\u001b[32m2024-11-04 18:00:17\u001b[0m \u001b[35mJ5HW6L4KT6\u001b[0m \u001b[34mbuttermilk\u001b[0m lc.py[ 185] \u001b[1;30mINFO\u001b[0m Invoking chain with haiku...\n",
      "\u001b[32m2024-11-04 18:00:17\u001b[0m \u001b[35mJ5HW6L4KT6\u001b[0m \u001b[34mbuttermilk\u001b[0m orchestrator.py[  74] \u001b[1;30mINFO\u001b[0m Starting task for Agent judger with job RQz4wM72VwvY6jadBuSgBW.\n",
      "\u001b[32m2024-11-04 18:00:17\u001b[0m \u001b[35mJ5HW6L4KT6\u001b[0m \u001b[34mbuttermilk\u001b[0m lc.py[ 196] \u001b[1;30mINFO\u001b[0m Invoked chain with llama31_70b in 6.56 seconds\n"
     ]
    },
    {
     "name": "stderr",
     "output_type": "stream",
     "text": [
      "I0000 00:00:1730707217.639431 16045583 fork_posix.cc:77] Other threads are currently calling into gRPC, skipping fork() handlers\n"
     ]
    },
    {
     "name": "stdout",
     "output_type": "stream",
     "text": [
      "\u001b[32m2024-11-04 18:00:19\u001b[0m \u001b[35mJ5HW6L4KT6\u001b[0m \u001b[34mbuttermilk\u001b[0m save.py[ 184] \u001b[1;30mDEBUG\u001b[0m \u001b[32mInserting 1 rows to BigQuery table dmrc-analysis.toxicity.flow.\u001b[0m\n",
      "\u001b[32m2024-11-04 18:00:19\u001b[0m \u001b[35mJ5HW6L4KT6\u001b[0m \u001b[34mbuttermilk\u001b[0m save.py[ 191] \u001b[1;30mINFO\u001b[0m Successfully pushed 1 rows to BigQuery table dmrc-analysis.toxicity.flow.\n",
      "\u001b[32m2024-11-04 18:00:19\u001b[0m \u001b[35mJ5HW6L4KT6\u001b[0m \u001b[34mbuttermilk\u001b[0m orchestrator.py[  80] \u001b[1;30mINFO\u001b[0m Agent judger completed job Lgfyd7fbgPzy8YAYqVdURX successfully.\n",
      "\u001b[32m2024-11-04 18:00:19\u001b[0m \u001b[35mJ5HW6L4KT6\u001b[0m \u001b[34mbuttermilk\u001b[0m lc.py[ 196] \u001b[1;30mINFO\u001b[0m Invoked chain with llama31_70b in 8.52 seconds\n"
     ]
    },
    {
     "name": "stderr",
     "output_type": "stream",
     "text": [
      "I0000 00:00:1730707219.598691 16045583 fork_posix.cc:77] Other threads are currently calling into gRPC, skipping fork() handlers\n"
     ]
    },
    {
     "name": "stdout",
     "output_type": "stream",
     "text": [
      "\u001b[32m2024-11-04 18:00:21\u001b[0m \u001b[35mJ5HW6L4KT6\u001b[0m \u001b[34mbuttermilk\u001b[0m save.py[ 184] \u001b[1;30mDEBUG\u001b[0m \u001b[32mInserting 1 rows to BigQuery table dmrc-analysis.toxicity.flow.\u001b[0m\n",
      "\u001b[32m2024-11-04 18:00:21\u001b[0m \u001b[35mJ5HW6L4KT6\u001b[0m \u001b[34mbuttermilk\u001b[0m save.py[ 191] \u001b[1;30mINFO\u001b[0m Successfully pushed 1 rows to BigQuery table dmrc-analysis.toxicity.flow.\n",
      "\u001b[32m2024-11-04 18:00:21\u001b[0m \u001b[35mJ5HW6L4KT6\u001b[0m \u001b[34mbuttermilk\u001b[0m orchestrator.py[  80] \u001b[1;30mINFO\u001b[0m Agent judger completed job GnR2MrCva7MaFtd9bF7H5G successfully.\n",
      "\u001b[32m2024-11-04 18:00:21\u001b[0m \u001b[35mJ5HW6L4KT6\u001b[0m \u001b[34mbuttermilk\u001b[0m lc.py[ 185] \u001b[1;30mINFO\u001b[0m Invoking chain with llama31_70b...\n",
      "\u001b[32m2024-11-04 18:00:21\u001b[0m \u001b[35mJ5HW6L4KT6\u001b[0m \u001b[34mbuttermilk\u001b[0m orchestrator.py[  74] \u001b[1;30mINFO\u001b[0m Starting task for Agent judger with job JLkpfe227g4Q7qPMmgacVE.\n",
      "\u001b[32m2024-11-04 18:00:21\u001b[0m \u001b[35mJ5HW6L4KT6\u001b[0m \u001b[34mbuttermilk\u001b[0m lc.py[ 185] \u001b[1;30mINFO\u001b[0m Invoking chain with llama31_70b...\n",
      "\u001b[32m2024-11-04 18:00:21\u001b[0m \u001b[35mJ5HW6L4KT6\u001b[0m \u001b[34mbuttermilk\u001b[0m orchestrator.py[  74] \u001b[1;30mINFO\u001b[0m Starting task for Agent judger with job 7z8NTapANDHCf5Kh4DF3xP.\n",
      "\u001b[32m2024-11-04 18:00:21\u001b[0m \u001b[35mJ5HW6L4KT6\u001b[0m \u001b[34mbuttermilk\u001b[0m lc.py[ 196] \u001b[1;30mINFO\u001b[0m Invoked chain with haiku in 8.50 seconds\n"
     ]
    },
    {
     "name": "stderr",
     "output_type": "stream",
     "text": [
      "I0000 00:00:1730707221.580402 16045583 fork_posix.cc:77] Other threads are currently calling into gRPC, skipping fork() handlers\n"
     ]
    },
    {
     "name": "stdout",
     "output_type": "stream",
     "text": [
      "\u001b[32m2024-11-04 18:00:23\u001b[0m \u001b[35mJ5HW6L4KT6\u001b[0m \u001b[34mbuttermilk\u001b[0m save.py[ 184] \u001b[1;30mDEBUG\u001b[0m \u001b[32mInserting 1 rows to BigQuery table dmrc-analysis.toxicity.flow.\u001b[0m\n",
      "\u001b[32m2024-11-04 18:00:23\u001b[0m \u001b[35mJ5HW6L4KT6\u001b[0m \u001b[34mbuttermilk\u001b[0m save.py[ 191] \u001b[1;30mINFO\u001b[0m Successfully pushed 1 rows to BigQuery table dmrc-analysis.toxicity.flow.\n",
      "\u001b[32m2024-11-04 18:00:23\u001b[0m \u001b[35mJ5HW6L4KT6\u001b[0m \u001b[34mbuttermilk\u001b[0m orchestrator.py[  80] \u001b[1;30mINFO\u001b[0m Agent judger completed job 3UXYn4BAKmmVtXzG8v8QpM successfully.\n",
      "\u001b[32m2024-11-04 18:00:23\u001b[0m \u001b[35mJ5HW6L4KT6\u001b[0m \u001b[34mbuttermilk\u001b[0m lc.py[ 185] \u001b[1;30mINFO\u001b[0m Invoking chain with haiku...\n",
      "\u001b[32m2024-11-04 18:00:23\u001b[0m \u001b[35mJ5HW6L4KT6\u001b[0m \u001b[34mbuttermilk\u001b[0m orchestrator.py[  74] \u001b[1;30mINFO\u001b[0m Starting task for Agent judger with job hLFUBdvMAS47MC4iGjGho2.\n",
      "\u001b[32m2024-11-04 18:00:23\u001b[0m \u001b[35mJ5HW6L4KT6\u001b[0m \u001b[34mbuttermilk\u001b[0m lc.py[ 196] \u001b[1;30mINFO\u001b[0m Invoked chain with llama31_70b in 8.67 seconds\n"
     ]
    },
    {
     "name": "stderr",
     "output_type": "stream",
     "text": [
      "I0000 00:00:1730707223.720416 16045583 fork_posix.cc:77] Other threads are currently calling into gRPC, skipping fork() handlers\n",
      "I0000 00:00:1730707224.129934 16045583 fork_posix.cc:77] Other threads are currently calling into gRPC, skipping fork() handlers\n"
     ]
    },
    {
     "name": "stdout",
     "output_type": "stream",
     "text": [
      "\u001b[32m2024-11-04 18:00:25\u001b[0m \u001b[35mJ5HW6L4KT6\u001b[0m \u001b[34mbuttermilk\u001b[0m save.py[ 184] \u001b[1;30mDEBUG\u001b[0m \u001b[32mInserting 1 rows to BigQuery table dmrc-analysis.toxicity.flow.\u001b[0m\n",
      "\u001b[32m2024-11-04 18:00:25\u001b[0m \u001b[35mJ5HW6L4KT6\u001b[0m \u001b[34mbuttermilk\u001b[0m save.py[ 191] \u001b[1;30mINFO\u001b[0m Successfully pushed 1 rows to BigQuery table dmrc-analysis.toxicity.flow.\n",
      "\u001b[32m2024-11-04 18:00:25\u001b[0m \u001b[35mJ5HW6L4KT6\u001b[0m \u001b[34mbuttermilk\u001b[0m orchestrator.py[  80] \u001b[1;30mINFO\u001b[0m Agent judger completed job T6qUHezTHeppZBx4yW5VsJ successfully.\n",
      "\u001b[32m2024-11-04 18:00:25\u001b[0m \u001b[35mJ5HW6L4KT6\u001b[0m \u001b[34mbuttermilk\u001b[0m lc.py[ 196] \u001b[1;30mINFO\u001b[0m Invoked chain with llama31_70b in 14.56 seconds\n",
      "\u001b[32m2024-11-04 18:00:28\u001b[0m \u001b[35mJ5HW6L4KT6\u001b[0m \u001b[34mbuttermilk\u001b[0m save.py[ 184] \u001b[1;30mDEBUG\u001b[0m \u001b[32mInserting 1 rows to BigQuery table dmrc-analysis.toxicity.flow.\u001b[0m\n",
      "\u001b[32m2024-11-04 18:00:28\u001b[0m \u001b[35mJ5HW6L4KT6\u001b[0m \u001b[34mbuttermilk\u001b[0m save.py[ 191] \u001b[1;30mINFO\u001b[0m Successfully pushed 1 rows to BigQuery table dmrc-analysis.toxicity.flow.\n",
      "\u001b[32m2024-11-04 18:00:28\u001b[0m \u001b[35mJ5HW6L4KT6\u001b[0m \u001b[34mbuttermilk\u001b[0m orchestrator.py[  80] \u001b[1;30mINFO\u001b[0m Agent judger completed job c8ZkKhcz6ZV5QRg3VL4j8t successfully.\n",
      "\u001b[32m2024-11-04 18:00:28\u001b[0m \u001b[35mJ5HW6L4KT6\u001b[0m \u001b[34mbuttermilk\u001b[0m lc.py[ 185] \u001b[1;30mINFO\u001b[0m Invoking chain with llama31_70b...\n",
      "\u001b[32m2024-11-04 18:00:28\u001b[0m \u001b[35mJ5HW6L4KT6\u001b[0m \u001b[34mbuttermilk\u001b[0m orchestrator.py[  74] \u001b[1;30mINFO\u001b[0m Starting task for Agent judger with job nDNig5f36UVHqrT46ZDyzA.\n",
      "\u001b[32m2024-11-04 18:00:28\u001b[0m \u001b[35mJ5HW6L4KT6\u001b[0m \u001b[34mbuttermilk\u001b[0m lc.py[ 185] \u001b[1;30mINFO\u001b[0m Invoking chain with gpt4o...\n",
      "\u001b[32m2024-11-04 18:00:28\u001b[0m \u001b[35mJ5HW6L4KT6\u001b[0m \u001b[34mbuttermilk\u001b[0m lc.py[ 185] \u001b[1;30mINFO\u001b[0m Invoking chain with llama31_70b...\n",
      "\u001b[32m2024-11-04 18:00:28\u001b[0m \u001b[35mJ5HW6L4KT6\u001b[0m \u001b[34mbuttermilk\u001b[0m orchestrator.py[  74] \u001b[1;30mINFO\u001b[0m Starting task for Agent judger with job U5vvJiqhzh72STgLVZ5orL.\n",
      "\u001b[32m2024-11-04 18:00:28\u001b[0m \u001b[35mJ5HW6L4KT6\u001b[0m \u001b[34mbuttermilk\u001b[0m lc.py[ 185] \u001b[1;30mINFO\u001b[0m Invoking chain with gpt4o...\n",
      "\u001b[32m2024-11-04 18:00:28\u001b[0m \u001b[35mJ5HW6L4KT6\u001b[0m \u001b[34mbuttermilk\u001b[0m lc.py[ 196] \u001b[1;30mINFO\u001b[0m Invoked chain with haiku in 10.87 seconds\n"
     ]
    },
    {
     "name": "stderr",
     "output_type": "stream",
     "text": [
      "I0000 00:00:1730707228.472741 16045583 fork_posix.cc:77] Other threads are currently calling into gRPC, skipping fork() handlers\n"
     ]
    },
    {
     "name": "stdout",
     "output_type": "stream",
     "text": [
      "\u001b[32m2024-11-04 18:00:30\u001b[0m \u001b[35mJ5HW6L4KT6\u001b[0m \u001b[34mbuttermilk\u001b[0m save.py[ 184] \u001b[1;30mDEBUG\u001b[0m \u001b[32mInserting 1 rows to BigQuery table dmrc-analysis.toxicity.flow.\u001b[0m\n",
      "\u001b[32m2024-11-04 18:00:30\u001b[0m \u001b[35mJ5HW6L4KT6\u001b[0m \u001b[34mbuttermilk\u001b[0m save.py[ 191] \u001b[1;30mINFO\u001b[0m Successfully pushed 1 rows to BigQuery table dmrc-analysis.toxicity.flow.\n",
      "\u001b[32m2024-11-04 18:00:30\u001b[0m \u001b[35mJ5HW6L4KT6\u001b[0m \u001b[34mbuttermilk\u001b[0m orchestrator.py[  80] \u001b[1;30mINFO\u001b[0m Agent judger completed job Wjy3rzX73FSn8N88dNTZfF successfully.\n",
      "\u001b[32m2024-11-04 18:00:30\u001b[0m \u001b[35mJ5HW6L4KT6\u001b[0m \u001b[34mbuttermilk\u001b[0m lc.py[ 196] \u001b[1;30mINFO\u001b[0m Invoked chain with haiku in 26.27 seconds\n"
     ]
    },
    {
     "name": "stderr",
     "output_type": "stream",
     "text": [
      "I0000 00:00:1730707230.393266 16045583 fork_posix.cc:77] Other threads are currently calling into gRPC, skipping fork() handlers\n"
     ]
    },
    {
     "name": "stdout",
     "output_type": "stream",
     "text": [
      "\u001b[32m2024-11-04 18:00:32\u001b[0m \u001b[35mJ5HW6L4KT6\u001b[0m \u001b[34mbuttermilk\u001b[0m save.py[ 184] \u001b[1;30mDEBUG\u001b[0m \u001b[32mInserting 1 rows to BigQuery table dmrc-analysis.toxicity.flow.\u001b[0m\n",
      "\u001b[32m2024-11-04 18:00:32\u001b[0m \u001b[35mJ5HW6L4KT6\u001b[0m \u001b[34mbuttermilk\u001b[0m save.py[ 191] \u001b[1;30mINFO\u001b[0m Successfully pushed 1 rows to BigQuery table dmrc-analysis.toxicity.flow.\n",
      "\u001b[32m2024-11-04 18:00:32\u001b[0m \u001b[35mJ5HW6L4KT6\u001b[0m \u001b[34mbuttermilk\u001b[0m orchestrator.py[  80] \u001b[1;30mINFO\u001b[0m Agent judger completed job CxDu8xs2BYCTawKM3pokuu successfully.\n",
      "\u001b[32m2024-11-04 18:00:32\u001b[0m \u001b[35mJ5HW6L4KT6\u001b[0m \u001b[34mbuttermilk\u001b[0m lc.py[ 196] \u001b[1;30mINFO\u001b[0m Invoked chain with haiku in 28.41 seconds\n",
      "\u001b[32m2024-11-04 18:00:34\u001b[0m \u001b[35mJ5HW6L4KT6\u001b[0m \u001b[34mbuttermilk\u001b[0m save.py[ 184] \u001b[1;30mDEBUG\u001b[0m \u001b[32mInserting 1 rows to BigQuery table dmrc-analysis.toxicity.flow.\u001b[0m\n",
      "\u001b[32m2024-11-04 18:00:34\u001b[0m \u001b[35mJ5HW6L4KT6\u001b[0m \u001b[34mbuttermilk\u001b[0m save.py[ 191] \u001b[1;30mINFO\u001b[0m Successfully pushed 1 rows to BigQuery table dmrc-analysis.toxicity.flow.\n",
      "\u001b[32m2024-11-04 18:00:35\u001b[0m \u001b[35mJ5HW6L4KT6\u001b[0m \u001b[34mbuttermilk\u001b[0m orchestrator.py[  80] \u001b[1;30mINFO\u001b[0m Agent judger completed job Ub6jFAWS2Bjj6ago9xwWKQ successfully.\n",
      "\u001b[32m2024-11-04 18:00:35\u001b[0m \u001b[35mJ5HW6L4KT6\u001b[0m \u001b[34mbuttermilk\u001b[0m lc.py[ 185] \u001b[1;30mINFO\u001b[0m Invoking chain with haiku...\n",
      "\u001b[32m2024-11-04 18:00:35\u001b[0m \u001b[35mJ5HW6L4KT6\u001b[0m \u001b[34mbuttermilk\u001b[0m orchestrator.py[  74] \u001b[1;30mINFO\u001b[0m Starting task for Agent judger with job TeqWAEmrKax2T39jYgWgRs.\n",
      "\u001b[32m2024-11-04 18:00:35\u001b[0m \u001b[35mJ5HW6L4KT6\u001b[0m \u001b[34mbuttermilk\u001b[0m lc.py[ 185] \u001b[1;30mINFO\u001b[0m Invoking chain with gpt4o...\n",
      "\u001b[32m2024-11-04 18:00:35\u001b[0m \u001b[35mJ5HW6L4KT6\u001b[0m \u001b[34mbuttermilk\u001b[0m lc.py[ 185] \u001b[1;30mINFO\u001b[0m Invoking chain with haiku...\n",
      "\u001b[32m2024-11-04 18:00:35\u001b[0m \u001b[35mJ5HW6L4KT6\u001b[0m \u001b[34mbuttermilk\u001b[0m orchestrator.py[  74] \u001b[1;30mINFO\u001b[0m Starting task for Agent judger with job ZptikbUmZxGorshbwWFJ4o.\n",
      "\u001b[32m2024-11-04 18:00:35\u001b[0m \u001b[35mJ5HW6L4KT6\u001b[0m \u001b[34mbuttermilk\u001b[0m lc.py[ 185] \u001b[1;30mINFO\u001b[0m Invoking chain with gpt4o...\n",
      "\u001b[32m2024-11-04 18:00:35\u001b[0m \u001b[35mJ5HW6L4KT6\u001b[0m \u001b[34mbuttermilk\u001b[0m lc.py[ 185] \u001b[1;30mINFO\u001b[0m Invoking chain with haiku...\n",
      "\u001b[32m2024-11-04 18:00:35\u001b[0m \u001b[35mJ5HW6L4KT6\u001b[0m \u001b[34mbuttermilk\u001b[0m orchestrator.py[  74] \u001b[1;30mINFO\u001b[0m Starting task for Agent judger with job dwepc5J76dW4eEf7ujmXAD.\n",
      "\u001b[32m2024-11-04 18:00:35\u001b[0m \u001b[35mJ5HW6L4KT6\u001b[0m \u001b[34mbuttermilk\u001b[0m lc.py[ 196] \u001b[1;30mINFO\u001b[0m Invoked chain with llama31_70b in 13.49 seconds\n"
     ]
    },
    {
     "name": "stderr",
     "output_type": "stream",
     "text": [
      "I0000 00:00:1730707235.072330 16045583 fork_posix.cc:77] Other threads are currently calling into gRPC, skipping fork() handlers\n"
     ]
    },
    {
     "name": "stdout",
     "output_type": "stream",
     "text": [
      "\u001b[32m2024-11-04 18:00:36\u001b[0m \u001b[35mJ5HW6L4KT6\u001b[0m \u001b[34mbuttermilk\u001b[0m save.py[ 184] \u001b[1;30mDEBUG\u001b[0m \u001b[32mInserting 1 rows to BigQuery table dmrc-analysis.toxicity.flow.\u001b[0m\n",
      "\u001b[32m2024-11-04 18:00:36\u001b[0m \u001b[35mJ5HW6L4KT6\u001b[0m \u001b[34mbuttermilk\u001b[0m save.py[ 191] \u001b[1;30mINFO\u001b[0m Successfully pushed 1 rows to BigQuery table dmrc-analysis.toxicity.flow.\n",
      "\u001b[32m2024-11-04 18:00:36\u001b[0m \u001b[35mJ5HW6L4KT6\u001b[0m \u001b[34mbuttermilk\u001b[0m orchestrator.py[  80] \u001b[1;30mINFO\u001b[0m Agent judger completed job FWrwejLR8M4E5SaS9qewK2 successfully.\n",
      "\u001b[32m2024-11-04 18:00:36\u001b[0m \u001b[35mJ5HW6L4KT6\u001b[0m \u001b[34mbuttermilk\u001b[0m lc.py[ 185] \u001b[1;30mINFO\u001b[0m Invoking chain with llama31_70b...\n",
      "\u001b[32m2024-11-04 18:00:36\u001b[0m \u001b[35mJ5HW6L4KT6\u001b[0m \u001b[34mbuttermilk\u001b[0m orchestrator.py[  74] \u001b[1;30mINFO\u001b[0m Starting task for Agent judger with job XjgjRe2tfXUyXiuUKD7r8x.\n",
      "\u001b[32m2024-11-04 18:00:36\u001b[0m \u001b[35mJ5HW6L4KT6\u001b[0m \u001b[34mbuttermilk\u001b[0m lc.py[ 196] \u001b[1;30mINFO\u001b[0m Invoked chain with llama31_70b in 15.37 seconds\n"
     ]
    },
    {
     "name": "stderr",
     "output_type": "stream",
     "text": [
      "I0000 00:00:1730707236.967463 16045583 fork_posix.cc:77] Other threads are currently calling into gRPC, skipping fork() handlers\n"
     ]
    },
    {
     "name": "stdout",
     "output_type": "stream",
     "text": [
      "\u001b[32m2024-11-04 18:00:38\u001b[0m \u001b[35mJ5HW6L4KT6\u001b[0m \u001b[34mbuttermilk\u001b[0m save.py[ 184] \u001b[1;30mDEBUG\u001b[0m \u001b[32mInserting 1 rows to BigQuery table dmrc-analysis.toxicity.flow.\u001b[0m\n",
      "\u001b[32m2024-11-04 18:00:39\u001b[0m \u001b[35mJ5HW6L4KT6\u001b[0m \u001b[34mbuttermilk\u001b[0m save.py[ 191] \u001b[1;30mINFO\u001b[0m Successfully pushed 1 rows to BigQuery table dmrc-analysis.toxicity.flow.\n",
      "\u001b[32m2024-11-04 18:00:39\u001b[0m \u001b[35mJ5HW6L4KT6\u001b[0m \u001b[34mbuttermilk\u001b[0m orchestrator.py[  80] \u001b[1;30mINFO\u001b[0m Agent judger completed job h9aBFDGp6rZKBZnFeDAXym successfully.\n",
      "\u001b[32m2024-11-04 18:00:39\u001b[0m \u001b[35mJ5HW6L4KT6\u001b[0m \u001b[34mbuttermilk\u001b[0m lc.py[ 185] \u001b[1;30mINFO\u001b[0m Invoking chain with llama31_70b...\n",
      "\u001b[32m2024-11-04 18:00:39\u001b[0m \u001b[35mJ5HW6L4KT6\u001b[0m \u001b[34mbuttermilk\u001b[0m orchestrator.py[  74] \u001b[1;30mINFO\u001b[0m Starting task for Agent judger with job egJUUaqcSJ2THmpiSKJ2Qp.\n",
      "\u001b[32m2024-11-04 18:00:39\u001b[0m \u001b[35mJ5HW6L4KT6\u001b[0m \u001b[34mbuttermilk\u001b[0m lc.py[ 196] \u001b[1;30mINFO\u001b[0m Invoked chain with haiku in 15.48 seconds\n"
     ]
    },
    {
     "name": "stderr",
     "output_type": "stream",
     "text": [
      "I0000 00:00:1730707239.185390 16045583 fork_posix.cc:77] Other threads are currently calling into gRPC, skipping fork() handlers\n"
     ]
    },
    {
     "name": "stdout",
     "output_type": "stream",
     "text": [
      "\u001b[32m2024-11-04 18:00:40\u001b[0m \u001b[35mJ5HW6L4KT6\u001b[0m \u001b[34mbuttermilk\u001b[0m save.py[ 184] \u001b[1;30mDEBUG\u001b[0m \u001b[32mInserting 1 rows to BigQuery table dmrc-analysis.toxicity.flow.\u001b[0m\n",
      "\u001b[32m2024-11-04 18:00:41\u001b[0m \u001b[35mJ5HW6L4KT6\u001b[0m \u001b[34mbuttermilk\u001b[0m save.py[ 191] \u001b[1;30mINFO\u001b[0m Successfully pushed 1 rows to BigQuery table dmrc-analysis.toxicity.flow.\n",
      "\u001b[32m2024-11-04 18:00:41\u001b[0m \u001b[35mJ5HW6L4KT6\u001b[0m \u001b[34mbuttermilk\u001b[0m orchestrator.py[  80] \u001b[1;30mINFO\u001b[0m Agent judger completed job kVeQSKzA5xo8tcQEXL8zy6 successfully.\n",
      "\u001b[32m2024-11-04 18:00:41\u001b[0m \u001b[35mJ5HW6L4KT6\u001b[0m \u001b[34mbuttermilk\u001b[0m lc.py[ 185] \u001b[1;30mINFO\u001b[0m Invoking chain with haiku...\n",
      "\u001b[32m2024-11-04 18:00:41\u001b[0m \u001b[35mJ5HW6L4KT6\u001b[0m \u001b[34mbuttermilk\u001b[0m orchestrator.py[  74] \u001b[1;30mINFO\u001b[0m Starting task for Agent judger with job LBdv8hcjXhmryYycovdYUa.\n",
      "\u001b[32m2024-11-04 18:00:41\u001b[0m \u001b[35mJ5HW6L4KT6\u001b[0m \u001b[34mbuttermilk\u001b[0m lc.py[ 196] \u001b[1;30mINFO\u001b[0m Invoked chain with haiku in 6.19 seconds\n"
     ]
    },
    {
     "name": "stderr",
     "output_type": "stream",
     "text": [
      "I0000 00:00:1730707241.201130 16045583 fork_posix.cc:77] Other threads are currently calling into gRPC, skipping fork() handlers\n"
     ]
    },
    {
     "name": "stdout",
     "output_type": "stream",
     "text": [
      "\u001b[32m2024-11-04 18:00:42\u001b[0m \u001b[35mJ5HW6L4KT6\u001b[0m \u001b[34mbuttermilk\u001b[0m save.py[ 184] \u001b[1;30mDEBUG\u001b[0m \u001b[32mInserting 1 rows to BigQuery table dmrc-analysis.toxicity.flow.\u001b[0m\n",
      "\u001b[32m2024-11-04 18:00:43\u001b[0m \u001b[35mJ5HW6L4KT6\u001b[0m \u001b[34mbuttermilk\u001b[0m save.py[ 191] \u001b[1;30mINFO\u001b[0m Successfully pushed 1 rows to BigQuery table dmrc-analysis.toxicity.flow.\n",
      "\u001b[32m2024-11-04 18:00:43\u001b[0m \u001b[35mJ5HW6L4KT6\u001b[0m \u001b[34mbuttermilk\u001b[0m orchestrator.py[  80] \u001b[1;30mINFO\u001b[0m Agent judger completed job b7NqVTRYTZTBTxa3n7gNwY successfully.\n",
      "\u001b[32m2024-11-04 18:00:43\u001b[0m \u001b[35mJ5HW6L4KT6\u001b[0m \u001b[34mbuttermilk\u001b[0m orchestrator.py[  74] \u001b[1;30mINFO\u001b[0m Starting task for Agent judger with job aLr8THNMEuWxNDhtR68nzt.\n",
      "\u001b[32m2024-11-04 18:00:43\u001b[0m \u001b[35mJ5HW6L4KT6\u001b[0m \u001b[34mbuttermilk\u001b[0m lc.py[ 196] \u001b[1;30mINFO\u001b[0m Invoked chain with haiku in 2.03 seconds\n"
     ]
    },
    {
     "name": "stderr",
     "output_type": "stream",
     "text": [
      "I0000 00:00:1730707243.193167 16045583 fork_posix.cc:77] Other threads are currently calling into gRPC, skipping fork() handlers\n"
     ]
    },
    {
     "name": "stdout",
     "output_type": "stream",
     "text": [
      "\u001b[32m2024-11-04 18:00:45\u001b[0m \u001b[35mJ5HW6L4KT6\u001b[0m \u001b[34mbuttermilk\u001b[0m save.py[ 184] \u001b[1;30mDEBUG\u001b[0m \u001b[32mInserting 1 rows to BigQuery table dmrc-analysis.toxicity.flow.\u001b[0m\n",
      "\u001b[32m2024-11-04 18:00:45\u001b[0m \u001b[35mJ5HW6L4KT6\u001b[0m \u001b[34mbuttermilk\u001b[0m save.py[ 191] \u001b[1;30mINFO\u001b[0m Successfully pushed 1 rows to BigQuery table dmrc-analysis.toxicity.flow.\n",
      "\u001b[32m2024-11-04 18:00:45\u001b[0m \u001b[35mJ5HW6L4KT6\u001b[0m \u001b[34mbuttermilk\u001b[0m orchestrator.py[  80] \u001b[1;30mINFO\u001b[0m Agent judger completed job Kr7AsEqAC6tnGSawvKskzM successfully.\n",
      "\u001b[32m2024-11-04 18:00:45\u001b[0m \u001b[35mJ5HW6L4KT6\u001b[0m \u001b[34mbuttermilk\u001b[0m orchestrator.py[  74] \u001b[1;30mINFO\u001b[0m Starting task for Agent judger with job Hkd4v4pXZdARg73dkeULXs.\n",
      "\u001b[32m2024-11-04 18:00:45\u001b[0m \u001b[35mJ5HW6L4KT6\u001b[0m \u001b[34mbuttermilk\u001b[0m lc.py[ 196] \u001b[1;30mINFO\u001b[0m Invoked chain with haiku in 10.41 seconds\n"
     ]
    },
    {
     "name": "stderr",
     "output_type": "stream",
     "text": [
      "I0000 00:00:1730707245.454043 16045583 fork_posix.cc:77] Other threads are currently calling into gRPC, skipping fork() handlers\n"
     ]
    },
    {
     "name": "stdout",
     "output_type": "stream",
     "text": [
      "\u001b[32m2024-11-04 18:00:47\u001b[0m \u001b[35mJ5HW6L4KT6\u001b[0m \u001b[34mbuttermilk\u001b[0m save.py[ 184] \u001b[1;30mDEBUG\u001b[0m \u001b[32mInserting 1 rows to BigQuery table dmrc-analysis.toxicity.flow.\u001b[0m\n",
      "\u001b[32m2024-11-04 18:00:47\u001b[0m \u001b[35mJ5HW6L4KT6\u001b[0m \u001b[34mbuttermilk\u001b[0m save.py[ 191] \u001b[1;30mINFO\u001b[0m Successfully pushed 1 rows to BigQuery table dmrc-analysis.toxicity.flow.\n",
      "\u001b[32m2024-11-04 18:00:47\u001b[0m \u001b[35mJ5HW6L4KT6\u001b[0m \u001b[34mbuttermilk\u001b[0m orchestrator.py[  80] \u001b[1;30mINFO\u001b[0m Agent judger completed job 7h7rKZJTpicvZreTMxRS7S successfully.\n",
      "\u001b[32m2024-11-04 18:00:47\u001b[0m \u001b[35mJ5HW6L4KT6\u001b[0m \u001b[34mbuttermilk\u001b[0m lc.py[ 196] \u001b[1;30mINFO\u001b[0m Invoked chain with haiku in 12.34 seconds\n"
     ]
    },
    {
     "name": "stderr",
     "output_type": "stream",
     "text": [
      "I0000 00:00:1730707247.369145 16045583 fork_posix.cc:77] Other threads are currently calling into gRPC, skipping fork() handlers\n"
     ]
    },
    {
     "name": "stdout",
     "output_type": "stream",
     "text": [
      "\u001b[32m2024-11-04 18:00:49\u001b[0m \u001b[35mJ5HW6L4KT6\u001b[0m \u001b[34mbuttermilk\u001b[0m save.py[ 184] \u001b[1;30mDEBUG\u001b[0m \u001b[32mInserting 1 rows to BigQuery table dmrc-analysis.toxicity.flow.\u001b[0m\n",
      "\u001b[32m2024-11-04 18:00:49\u001b[0m \u001b[35mJ5HW6L4KT6\u001b[0m \u001b[34mbuttermilk\u001b[0m save.py[ 191] \u001b[1;30mINFO\u001b[0m Successfully pushed 1 rows to BigQuery table dmrc-analysis.toxicity.flow.\n",
      "\u001b[32m2024-11-04 18:00:49\u001b[0m \u001b[35mJ5HW6L4KT6\u001b[0m \u001b[34mbuttermilk\u001b[0m orchestrator.py[  80] \u001b[1;30mINFO\u001b[0m Agent judger completed job FopPUnbFrkv4zkfaxa3Uev successfully.\n",
      "\u001b[32m2024-11-04 18:00:49\u001b[0m \u001b[35mJ5HW6L4KT6\u001b[0m \u001b[34mbuttermilk\u001b[0m orchestrator.py[  74] \u001b[1;30mINFO\u001b[0m Starting task for Agent judger with job CYXtQ7owp6zVa3vZwa652t.\n",
      "\u001b[32m2024-11-04 18:00:49\u001b[0m \u001b[35mJ5HW6L4KT6\u001b[0m \u001b[34mbuttermilk\u001b[0m orchestrator.py[  74] \u001b[1;30mINFO\u001b[0m Starting task for Agent judger with job cJzCUkq8834vaWZxMT26zV.\n",
      "\u001b[32m2024-11-04 18:00:49\u001b[0m \u001b[35mJ5HW6L4KT6\u001b[0m \u001b[34mbuttermilk\u001b[0m lc.py[ 196] \u001b[1;30mINFO\u001b[0m Invoked chain with llama31_70b in 21.06 seconds\n"
     ]
    },
    {
     "name": "stderr",
     "output_type": "stream",
     "text": [
      "I0000 00:00:1730707249.540365 16045583 fork_posix.cc:77] Other threads are currently calling into gRPC, skipping fork() handlers\n"
     ]
    },
    {
     "name": "stdout",
     "output_type": "stream",
     "text": [
      "\u001b[32m2024-11-04 18:00:51\u001b[0m \u001b[35mJ5HW6L4KT6\u001b[0m \u001b[34mbuttermilk\u001b[0m save.py[ 184] \u001b[1;30mDEBUG\u001b[0m \u001b[32mInserting 1 rows to BigQuery table dmrc-analysis.toxicity.flow.\u001b[0m\n",
      "\u001b[32m2024-11-04 18:00:51\u001b[0m \u001b[35mJ5HW6L4KT6\u001b[0m \u001b[34mbuttermilk\u001b[0m save.py[ 191] \u001b[1;30mINFO\u001b[0m Successfully pushed 1 rows to BigQuery table dmrc-analysis.toxicity.flow.\n",
      "\u001b[32m2024-11-04 18:00:51\u001b[0m \u001b[35mJ5HW6L4KT6\u001b[0m \u001b[34mbuttermilk\u001b[0m orchestrator.py[  80] \u001b[1;30mINFO\u001b[0m Agent judger completed job dqDdPdDvKhh6J8pNALmNWs successfully.\n",
      "\u001b[32m2024-11-04 18:00:51\u001b[0m \u001b[35mJ5HW6L4KT6\u001b[0m \u001b[34mbuttermilk\u001b[0m lc.py[ 185] \u001b[1;30mINFO\u001b[0m Invoking chain with llama31_70b...\n",
      "\u001b[32m2024-11-04 18:00:51\u001b[0m \u001b[35mJ5HW6L4KT6\u001b[0m \u001b[34mbuttermilk\u001b[0m orchestrator.py[  74] \u001b[1;30mINFO\u001b[0m Starting task for Agent judger with job hu8wSjGDAqe7GmtKqPdj3q.\n",
      "\u001b[32m2024-11-04 18:00:51\u001b[0m \u001b[35mJ5HW6L4KT6\u001b[0m \u001b[34mbuttermilk\u001b[0m lc.py[ 196] \u001b[1;30mINFO\u001b[0m Invoked chain with llama31_70b in 23.36 seconds\n"
     ]
    },
    {
     "name": "stderr",
     "output_type": "stream",
     "text": [
      "I0000 00:00:1730707251.791419 16045583 fork_posix.cc:77] Other threads are currently calling into gRPC, skipping fork() handlers\n"
     ]
    },
    {
     "name": "stdout",
     "output_type": "stream",
     "text": [
      "\u001b[32m2024-11-04 18:00:53\u001b[0m \u001b[35mJ5HW6L4KT6\u001b[0m \u001b[34mbuttermilk\u001b[0m save.py[ 184] \u001b[1;30mDEBUG\u001b[0m \u001b[32mInserting 1 rows to BigQuery table dmrc-analysis.toxicity.flow.\u001b[0m\n",
      "\u001b[32m2024-11-04 18:00:53\u001b[0m \u001b[35mJ5HW6L4KT6\u001b[0m \u001b[34mbuttermilk\u001b[0m save.py[ 191] \u001b[1;30mINFO\u001b[0m Successfully pushed 1 rows to BigQuery table dmrc-analysis.toxicity.flow.\n",
      "\u001b[32m2024-11-04 18:00:53\u001b[0m \u001b[35mJ5HW6L4KT6\u001b[0m \u001b[34mbuttermilk\u001b[0m orchestrator.py[  80] \u001b[1;30mINFO\u001b[0m Agent judger completed job 8Tq2x8XKZ9oYaH2AkefSkA successfully.\n",
      "\u001b[32m2024-11-04 18:00:53\u001b[0m \u001b[35mJ5HW6L4KT6\u001b[0m \u001b[34mbuttermilk\u001b[0m lc.py[ 185] \u001b[1;30mINFO\u001b[0m Invoking chain with llama31_70b...\n",
      "\u001b[32m2024-11-04 18:00:53\u001b[0m \u001b[35mJ5HW6L4KT6\u001b[0m \u001b[34mbuttermilk\u001b[0m orchestrator.py[  74] \u001b[1;30mINFO\u001b[0m Starting task for Agent judger with job M8h6gRNdHVHzCoi6vobxs4.\n",
      "\u001b[32m2024-11-04 18:00:53\u001b[0m \u001b[35mJ5HW6L4KT6\u001b[0m \u001b[34mbuttermilk\u001b[0m lc.py[ 196] \u001b[1;30mINFO\u001b[0m Invoked chain with gpt4o in 25.29 seconds\n"
     ]
    },
    {
     "name": "stderr",
     "output_type": "stream",
     "text": [
      "I0000 00:00:1730707253.757655 16045583 fork_posix.cc:77] Other threads are currently calling into gRPC, skipping fork() handlers\n",
      "I0000 00:00:1730707254.182330 16045583 fork_posix.cc:77] Other threads are currently calling into gRPC, skipping fork() handlers\n"
     ]
    },
    {
     "name": "stdout",
     "output_type": "stream",
     "text": [
      "\u001b[32m2024-11-04 18:00:55\u001b[0m \u001b[35mJ5HW6L4KT6\u001b[0m \u001b[34mbuttermilk\u001b[0m save.py[ 184] \u001b[1;30mDEBUG\u001b[0m \u001b[32mInserting 1 rows to BigQuery table dmrc-analysis.toxicity.flow.\u001b[0m\n",
      "\u001b[32m2024-11-04 18:00:55\u001b[0m \u001b[35mJ5HW6L4KT6\u001b[0m \u001b[34mbuttermilk\u001b[0m save.py[ 191] \u001b[1;30mINFO\u001b[0m Successfully pushed 1 rows to BigQuery table dmrc-analysis.toxicity.flow.\n",
      "\u001b[32m2024-11-04 18:00:55\u001b[0m \u001b[35mJ5HW6L4KT6\u001b[0m \u001b[34mbuttermilk\u001b[0m orchestrator.py[  80] \u001b[1;30mINFO\u001b[0m Agent judger completed job nDNig5f36UVHqrT46ZDyzA successfully.\n",
      "\u001b[32m2024-11-04 18:00:55\u001b[0m \u001b[35mJ5HW6L4KT6\u001b[0m \u001b[34mbuttermilk\u001b[0m lc.py[ 185] \u001b[1;30mINFO\u001b[0m Invoking chain with gpt4o...\n",
      "\u001b[32m2024-11-04 18:00:55\u001b[0m \u001b[35mJ5HW6L4KT6\u001b[0m \u001b[34mbuttermilk\u001b[0m orchestrator.py[  74] \u001b[1;30mINFO\u001b[0m Starting task for Agent judger with job 8CBVEJZtxp6RZaKLzGsdGD.\n",
      "\u001b[32m2024-11-04 18:00:55\u001b[0m \u001b[35mJ5HW6L4KT6\u001b[0m \u001b[34mbuttermilk\u001b[0m lc.py[ 196] \u001b[1;30mINFO\u001b[0m Invoked chain with gpt4o in 27.27 seconds\n"
     ]
    },
    {
     "name": "stderr",
     "output_type": "stream",
     "text": [
      "I0000 00:00:1730707255.740915 16045583 fork_posix.cc:77] Other threads are currently calling into gRPC, skipping fork() handlers\n"
     ]
    },
    {
     "name": "stdout",
     "output_type": "stream",
     "text": [
      "\u001b[32m2024-11-04 18:00:57\u001b[0m \u001b[35mJ5HW6L4KT6\u001b[0m \u001b[34mbuttermilk\u001b[0m save.py[ 184] \u001b[1;30mDEBUG\u001b[0m \u001b[32mInserting 1 rows to BigQuery table dmrc-analysis.toxicity.flow.\u001b[0m\n",
      "\u001b[32m2024-11-04 18:00:57\u001b[0m \u001b[35mJ5HW6L4KT6\u001b[0m \u001b[34mbuttermilk\u001b[0m save.py[ 191] \u001b[1;30mINFO\u001b[0m Successfully pushed 1 rows to BigQuery table dmrc-analysis.toxicity.flow.\n",
      "\u001b[32m2024-11-04 18:00:57\u001b[0m \u001b[35mJ5HW6L4KT6\u001b[0m \u001b[34mbuttermilk\u001b[0m orchestrator.py[  80] \u001b[1;30mINFO\u001b[0m Agent judger completed job U5vvJiqhzh72STgLVZ5orL successfully.\n",
      "\u001b[32m2024-11-04 18:00:57\u001b[0m \u001b[35mJ5HW6L4KT6\u001b[0m \u001b[34mbuttermilk\u001b[0m lc.py[ 185] \u001b[1;30mINFO\u001b[0m Invoking chain with gpt4o...\n",
      "\u001b[32m2024-11-04 18:00:57\u001b[0m \u001b[35mJ5HW6L4KT6\u001b[0m \u001b[34mbuttermilk\u001b[0m orchestrator.py[  74] \u001b[1;30mINFO\u001b[0m Starting task for Agent judger with job Q4vWNrTmGNUXnDrNU9Tqop.\n",
      "\u001b[32m2024-11-04 18:00:57\u001b[0m \u001b[35mJ5HW6L4KT6\u001b[0m \u001b[34mbuttermilk\u001b[0m lc.py[ 196] \u001b[1;30mINFO\u001b[0m Invoked chain with llama31_70b in 18.52 seconds\n"
     ]
    },
    {
     "name": "stderr",
     "output_type": "stream",
     "text": [
      "I0000 00:00:1730707257.682506 16045583 fork_posix.cc:77] Other threads are currently calling into gRPC, skipping fork() handlers\n"
     ]
    },
    {
     "name": "stdout",
     "output_type": "stream",
     "text": [
      "\u001b[32m2024-11-04 18:01:00\u001b[0m \u001b[35mJ5HW6L4KT6\u001b[0m \u001b[34mbuttermilk\u001b[0m save.py[ 184] \u001b[1;30mDEBUG\u001b[0m \u001b[32mInserting 1 rows to BigQuery table dmrc-analysis.toxicity.flow.\u001b[0m\n",
      "\u001b[32m2024-11-04 18:01:00\u001b[0m \u001b[35mJ5HW6L4KT6\u001b[0m \u001b[34mbuttermilk\u001b[0m save.py[ 191] \u001b[1;30mINFO\u001b[0m Successfully pushed 1 rows to BigQuery table dmrc-analysis.toxicity.flow.\n",
      "\u001b[32m2024-11-04 18:01:00\u001b[0m \u001b[35mJ5HW6L4KT6\u001b[0m \u001b[34mbuttermilk\u001b[0m orchestrator.py[  80] \u001b[1;30mINFO\u001b[0m Agent judger completed job 97MnZFKA8YEeVtx6Sv652m successfully.\n",
      "\u001b[32m2024-11-04 18:01:00\u001b[0m \u001b[35mJ5HW6L4KT6\u001b[0m \u001b[34mbuttermilk\u001b[0m lc.py[ 185] \u001b[1;30mINFO\u001b[0m Invoking chain with llama31_70b...\n",
      "\u001b[32m2024-11-04 18:01:00\u001b[0m \u001b[35mJ5HW6L4KT6\u001b[0m \u001b[34mbuttermilk\u001b[0m orchestrator.py[  74] \u001b[1;30mINFO\u001b[0m Starting task for Agent judger with job dtKiNAWyVznMhJohxYWqC8.\n",
      "\u001b[32m2024-11-04 18:01:00\u001b[0m \u001b[35mJ5HW6L4KT6\u001b[0m \u001b[34mbuttermilk\u001b[0m lc.py[ 196] \u001b[1;30mINFO\u001b[0m Invoked chain with gpt4o in 25.79 seconds\n"
     ]
    },
    {
     "name": "stderr",
     "output_type": "stream",
     "text": [
      "I0000 00:00:1730707260.830008 16045583 fork_posix.cc:77] Other threads are currently calling into gRPC, skipping fork() handlers\n"
     ]
    },
    {
     "name": "stdout",
     "output_type": "stream",
     "text": [
      "\u001b[32m2024-11-04 18:01:02\u001b[0m \u001b[35mJ5HW6L4KT6\u001b[0m \u001b[34mbuttermilk\u001b[0m save.py[ 184] \u001b[1;30mDEBUG\u001b[0m \u001b[32mInserting 1 rows to BigQuery table dmrc-analysis.toxicity.flow.\u001b[0m\n",
      "\u001b[32m2024-11-04 18:01:02\u001b[0m \u001b[35mJ5HW6L4KT6\u001b[0m \u001b[34mbuttermilk\u001b[0m save.py[ 191] \u001b[1;30mINFO\u001b[0m Successfully pushed 1 rows to BigQuery table dmrc-analysis.toxicity.flow.\n",
      "\u001b[32m2024-11-04 18:01:02\u001b[0m \u001b[35mJ5HW6L4KT6\u001b[0m \u001b[34mbuttermilk\u001b[0m orchestrator.py[  80] \u001b[1;30mINFO\u001b[0m Agent judger completed job ZptikbUmZxGorshbwWFJ4o successfully.\n",
      "\u001b[32m2024-11-04 18:01:02\u001b[0m \u001b[35mJ5HW6L4KT6\u001b[0m \u001b[34mbuttermilk\u001b[0m lc.py[ 185] \u001b[1;30mINFO\u001b[0m Invoking chain with gpt4o...\n",
      "\u001b[32m2024-11-04 18:01:02\u001b[0m \u001b[35mJ5HW6L4KT6\u001b[0m \u001b[34mbuttermilk\u001b[0m orchestrator.py[  74] \u001b[1;30mINFO\u001b[0m Starting task for Agent judger with job BTiAftn5HNTE5TMhHij9Y8.\n",
      "\u001b[32m2024-11-04 18:01:02\u001b[0m \u001b[35mJ5HW6L4KT6\u001b[0m \u001b[34mbuttermilk\u001b[0m lc.py[ 196] \u001b[1;30mINFO\u001b[0m Invoked chain with gpt4o in 27.78 seconds\n"
     ]
    },
    {
     "name": "stderr",
     "output_type": "stream",
     "text": [
      "I0000 00:00:1730707262.833637 16045583 fork_posix.cc:77] Other threads are currently calling into gRPC, skipping fork() handlers\n"
     ]
    },
    {
     "name": "stdout",
     "output_type": "stream",
     "text": [
      "\u001b[32m2024-11-04 18:01:04\u001b[0m \u001b[35mJ5HW6L4KT6\u001b[0m \u001b[34mbuttermilk\u001b[0m save.py[ 184] \u001b[1;30mDEBUG\u001b[0m \u001b[32mInserting 1 rows to BigQuery table dmrc-analysis.toxicity.flow.\u001b[0m\n",
      "\u001b[32m2024-11-04 18:01:04\u001b[0m \u001b[35mJ5HW6L4KT6\u001b[0m \u001b[34mbuttermilk\u001b[0m save.py[ 191] \u001b[1;30mINFO\u001b[0m Successfully pushed 1 rows to BigQuery table dmrc-analysis.toxicity.flow.\n",
      "\u001b[32m2024-11-04 18:01:04\u001b[0m \u001b[35mJ5HW6L4KT6\u001b[0m \u001b[34mbuttermilk\u001b[0m orchestrator.py[  80] \u001b[1;30mINFO\u001b[0m Agent judger completed job TeqWAEmrKax2T39jYgWgRs successfully.\n",
      "\u001b[32m2024-11-04 18:01:04\u001b[0m \u001b[35mJ5HW6L4KT6\u001b[0m \u001b[34mbuttermilk\u001b[0m lc.py[ 185] \u001b[1;30mINFO\u001b[0m Invoking chain with gpt4o...\n",
      "\u001b[32m2024-11-04 18:01:04\u001b[0m \u001b[35mJ5HW6L4KT6\u001b[0m \u001b[34mbuttermilk\u001b[0m orchestrator.py[  74] \u001b[1;30mINFO\u001b[0m Starting task for Agent judger with job ktyHVzJQY2Qtqq83bLphRe.\n",
      "\u001b[32m2024-11-04 18:01:05\u001b[0m \u001b[35mJ5HW6L4KT6\u001b[0m \u001b[34mbuttermilk\u001b[0m lc.py[ 196] \u001b[1;30mINFO\u001b[0m Invoked chain with llama31_70b in 28.12 seconds\n"
     ]
    },
    {
     "name": "stderr",
     "output_type": "stream",
     "text": [
      "I0000 00:00:1730707265.059167 16045583 fork_posix.cc:77] Other threads are currently calling into gRPC, skipping fork() handlers\n"
     ]
    },
    {
     "name": "stdout",
     "output_type": "stream",
     "text": [
      "\u001b[32m2024-11-04 18:01:06\u001b[0m \u001b[35mJ5HW6L4KT6\u001b[0m \u001b[34mbuttermilk\u001b[0m save.py[ 184] \u001b[1;30mDEBUG\u001b[0m \u001b[32mInserting 1 rows to BigQuery table dmrc-analysis.toxicity.flow.\u001b[0m\n",
      "\u001b[32m2024-11-04 18:01:07\u001b[0m \u001b[35mJ5HW6L4KT6\u001b[0m \u001b[34mbuttermilk\u001b[0m save.py[ 191] \u001b[1;30mINFO\u001b[0m Successfully pushed 1 rows to BigQuery table dmrc-analysis.toxicity.flow.\n",
      "\u001b[32m2024-11-04 18:01:07\u001b[0m \u001b[35mJ5HW6L4KT6\u001b[0m \u001b[34mbuttermilk\u001b[0m orchestrator.py[  80] \u001b[1;30mINFO\u001b[0m Agent judger completed job Ja4LU8Gh8ZT5xK7Y454uy2 successfully.\n",
      "\u001b[32m2024-11-04 18:01:07\u001b[0m \u001b[35mJ5HW6L4KT6\u001b[0m \u001b[34mbuttermilk\u001b[0m lc.py[ 185] \u001b[1;30mINFO\u001b[0m Invoking chain with llama31_70b...\n",
      "\u001b[32m2024-11-04 18:01:07\u001b[0m \u001b[35mJ5HW6L4KT6\u001b[0m \u001b[34mbuttermilk\u001b[0m orchestrator.py[  74] \u001b[1;30mINFO\u001b[0m Starting task for Agent judger with job 33oj5d2fKqiKa3DDZbaaF9.\n",
      "\u001b[32m2024-11-04 18:01:07\u001b[0m \u001b[35mJ5HW6L4KT6\u001b[0m \u001b[34mbuttermilk\u001b[0m lc.py[ 196] \u001b[1;30mINFO\u001b[0m Invoked chain with gpt4o in 11.43 seconds\n"
     ]
    },
    {
     "name": "stderr",
     "output_type": "stream",
     "text": [
      "I0000 00:00:1730707267.167392 16045583 fork_posix.cc:77] Other threads are currently calling into gRPC, skipping fork() handlers\n"
     ]
    },
    {
     "name": "stdout",
     "output_type": "stream",
     "text": [
      "\u001b[32m2024-11-04 18:01:08\u001b[0m \u001b[35mJ5HW6L4KT6\u001b[0m \u001b[34mbuttermilk\u001b[0m save.py[ 184] \u001b[1;30mDEBUG\u001b[0m \u001b[32mInserting 1 rows to BigQuery table dmrc-analysis.toxicity.flow.\u001b[0m\n",
      "\u001b[32m2024-11-04 18:01:09\u001b[0m \u001b[35mJ5HW6L4KT6\u001b[0m \u001b[34mbuttermilk\u001b[0m save.py[ 191] \u001b[1;30mINFO\u001b[0m Successfully pushed 1 rows to BigQuery table dmrc-analysis.toxicity.flow.\n",
      "\u001b[32m2024-11-04 18:01:09\u001b[0m \u001b[35mJ5HW6L4KT6\u001b[0m \u001b[34mbuttermilk\u001b[0m orchestrator.py[  80] \u001b[1;30mINFO\u001b[0m Agent judger completed job dwepc5J76dW4eEf7ujmXAD successfully.\n",
      "\u001b[32m2024-11-04 18:01:09\u001b[0m \u001b[35mJ5HW6L4KT6\u001b[0m \u001b[34mbuttermilk\u001b[0m lc.py[ 196] \u001b[1;30mINFO\u001b[0m Invoked chain with llama31_70b in 17.42 seconds\n"
     ]
    },
    {
     "name": "stderr",
     "output_type": "stream",
     "text": [
      "I0000 00:00:1730707269.206688 16045583 fork_posix.cc:77] Other threads are currently calling into gRPC, skipping fork() handlers\n"
     ]
    },
    {
     "name": "stdout",
     "output_type": "stream",
     "text": [
      "\u001b[32m2024-11-04 18:01:10\u001b[0m \u001b[35mJ5HW6L4KT6\u001b[0m \u001b[34mbuttermilk\u001b[0m save.py[ 184] \u001b[1;30mDEBUG\u001b[0m \u001b[32mInserting 1 rows to BigQuery table dmrc-analysis.toxicity.flow.\u001b[0m\n",
      "\u001b[32m2024-11-04 18:01:11\u001b[0m \u001b[35mJ5HW6L4KT6\u001b[0m \u001b[34mbuttermilk\u001b[0m save.py[ 191] \u001b[1;30mINFO\u001b[0m Successfully pushed 1 rows to BigQuery table dmrc-analysis.toxicity.flow.\n",
      "\u001b[32m2024-11-04 18:01:11\u001b[0m \u001b[35mJ5HW6L4KT6\u001b[0m \u001b[34mbuttermilk\u001b[0m orchestrator.py[  80] \u001b[1;30mINFO\u001b[0m Agent judger completed job RQz4wM72VwvY6jadBuSgBW successfully.\n",
      "\u001b[32m2024-11-04 18:01:11\u001b[0m \u001b[35mJ5HW6L4KT6\u001b[0m \u001b[34mbuttermilk\u001b[0m lc.py[ 185] \u001b[1;30mINFO\u001b[0m Invoking chain with gpt4o...\n",
      "\u001b[32m2024-11-04 18:01:11\u001b[0m \u001b[35mJ5HW6L4KT6\u001b[0m \u001b[34mbuttermilk\u001b[0m orchestrator.py[  74] \u001b[1;30mINFO\u001b[0m Starting task for Agent judger with job PdpMjyZCwodkYkXEfRhz9Z.\n",
      "\u001b[32m2024-11-04 18:01:11\u001b[0m \u001b[35mJ5HW6L4KT6\u001b[0m \u001b[34mbuttermilk\u001b[0m lc.py[ 185] \u001b[1;30mINFO\u001b[0m Invoking chain with sonnet...\n",
      "\u001b[32m2024-11-04 18:01:11\u001b[0m \u001b[35mJ5HW6L4KT6\u001b[0m \u001b[34mbuttermilk\u001b[0m orchestrator.py[  74] \u001b[1;30mINFO\u001b[0m Starting task for Agent judger with job 92Q5jJa8udbwqt9FeLXtjs.\n",
      "\u001b[32m2024-11-04 18:01:11\u001b[0m \u001b[35mJ5HW6L4KT6\u001b[0m \u001b[34mbuttermilk\u001b[0m lc.py[ 185] \u001b[1;30mINFO\u001b[0m Invoking chain with sonnet...\n",
      "\u001b[32m2024-11-04 18:01:11\u001b[0m \u001b[35mJ5HW6L4KT6\u001b[0m \u001b[34mbuttermilk\u001b[0m lc.py[ 196] \u001b[1;30mINFO\u001b[0m Invoked chain with gpt4o in 13.52 seconds\n",
      "\u001b[32m2024-11-04 18:01:13\u001b[0m \u001b[35mJ5HW6L4KT6\u001b[0m \u001b[34mbuttermilk\u001b[0m save.py[ 184] \u001b[1;30mDEBUG\u001b[0m \u001b[32mInserting 1 rows to BigQuery table dmrc-analysis.toxicity.flow.\u001b[0m\n",
      "\u001b[32m2024-11-04 18:01:13\u001b[0m \u001b[35mJ5HW6L4KT6\u001b[0m \u001b[34mbuttermilk\u001b[0m save.py[ 191] \u001b[1;30mINFO\u001b[0m Successfully pushed 1 rows to BigQuery table dmrc-analysis.toxicity.flow.\n",
      "\u001b[32m2024-11-04 18:01:13\u001b[0m \u001b[35mJ5HW6L4KT6\u001b[0m \u001b[34mbuttermilk\u001b[0m orchestrator.py[  80] \u001b[1;30mINFO\u001b[0m Agent judger completed job XjgjRe2tfXUyXiuUKD7r8x successfully.\n",
      "\u001b[32m2024-11-04 18:01:13\u001b[0m \u001b[35mJ5HW6L4KT6\u001b[0m \u001b[34mbuttermilk\u001b[0m lc.py[ 185] \u001b[1;30mINFO\u001b[0m Invoking chain with gpt4o...\n",
      "\u001b[32m2024-11-04 18:01:13\u001b[0m \u001b[35mJ5HW6L4KT6\u001b[0m \u001b[34mbuttermilk\u001b[0m orchestrator.py[  74] \u001b[1;30mINFO\u001b[0m Starting task for Agent judger with job XdFnFNpMWmotRvjzeWC4bw.\n",
      "\u001b[32m2024-11-04 18:01:13\u001b[0m \u001b[35mJ5HW6L4KT6\u001b[0m \u001b[34mbuttermilk\u001b[0m lc.py[ 185] \u001b[1;30mINFO\u001b[0m Invoking chain with sonnet...\n",
      "\u001b[32m2024-11-04 18:01:13\u001b[0m \u001b[35mJ5HW6L4KT6\u001b[0m \u001b[34mbuttermilk\u001b[0m lc.py[ 196] \u001b[1;30mINFO\u001b[0m Invoked chain with llama31_70b in 19.91 seconds\n"
     ]
    },
    {
     "name": "stderr",
     "output_type": "stream",
     "text": [
      "I0000 00:00:1730707273.661939 16045583 fork_posix.cc:77] Other threads are currently calling into gRPC, skipping fork() handlers\n"
     ]
    },
    {
     "name": "stdout",
     "output_type": "stream",
     "text": [
      "\u001b[32m2024-11-04 18:01:15\u001b[0m \u001b[35mJ5HW6L4KT6\u001b[0m \u001b[34mbuttermilk\u001b[0m save.py[ 184] \u001b[1;30mDEBUG\u001b[0m \u001b[32mInserting 1 rows to BigQuery table dmrc-analysis.toxicity.flow.\u001b[0m\n",
      "\u001b[32m2024-11-04 18:01:15\u001b[0m \u001b[35mJ5HW6L4KT6\u001b[0m \u001b[34mbuttermilk\u001b[0m save.py[ 191] \u001b[1;30mINFO\u001b[0m Successfully pushed 1 rows to BigQuery table dmrc-analysis.toxicity.flow.\n",
      "\u001b[32m2024-11-04 18:01:15\u001b[0m \u001b[35mJ5HW6L4KT6\u001b[0m \u001b[34mbuttermilk\u001b[0m orchestrator.py[  80] \u001b[1;30mINFO\u001b[0m Agent judger completed job JLkpfe227g4Q7qPMmgacVE successfully.\n",
      "\u001b[32m2024-11-04 18:01:15\u001b[0m \u001b[35mJ5HW6L4KT6\u001b[0m \u001b[34mbuttermilk\u001b[0m orchestrator.py[  74] \u001b[1;30mINFO\u001b[0m Starting task for Agent judger with job RLUMVGJAqDNkPyMPmtZNzf.\n",
      "\u001b[32m2024-11-04 18:01:15\u001b[0m \u001b[35mJ5HW6L4KT6\u001b[0m \u001b[34mbuttermilk\u001b[0m lc.py[ 185] \u001b[1;30mINFO\u001b[0m Invoking chain with sonnet...\n",
      "\u001b[32m2024-11-04 18:01:15\u001b[0m \u001b[35mJ5HW6L4KT6\u001b[0m \u001b[34mbuttermilk\u001b[0m lc.py[ 196] \u001b[1;30mINFO\u001b[0m Invoked chain with gpt4o in 10.88 seconds\n"
     ]
    },
    {
     "name": "stderr",
     "output_type": "stream",
     "text": [
      "I0000 00:00:1730707275.853967 16045583 fork_posix.cc:77] Other threads are currently calling into gRPC, skipping fork() handlers\n"
     ]
    },
    {
     "name": "stdout",
     "output_type": "stream",
     "text": [
      "\u001b[32m2024-11-04 18:01:17\u001b[0m \u001b[35mJ5HW6L4KT6\u001b[0m \u001b[34mbuttermilk\u001b[0m save.py[ 184] \u001b[1;30mDEBUG\u001b[0m \u001b[32mInserting 1 rows to BigQuery table dmrc-analysis.toxicity.flow.\u001b[0m\n",
      "\u001b[32m2024-11-04 18:01:17\u001b[0m \u001b[35mJ5HW6L4KT6\u001b[0m \u001b[34mbuttermilk\u001b[0m save.py[ 191] \u001b[1;30mINFO\u001b[0m Successfully pushed 1 rows to BigQuery table dmrc-analysis.toxicity.flow.\n",
      "\u001b[32m2024-11-04 18:01:17\u001b[0m \u001b[35mJ5HW6L4KT6\u001b[0m \u001b[34mbuttermilk\u001b[0m orchestrator.py[  80] \u001b[1;30mINFO\u001b[0m Agent judger completed job LBdv8hcjXhmryYycovdYUa successfully.\n",
      "\u001b[32m2024-11-04 18:01:17\u001b[0m \u001b[35mJ5HW6L4KT6\u001b[0m \u001b[34mbuttermilk\u001b[0m lc.py[ 185] \u001b[1;30mINFO\u001b[0m Invoking chain with gpt4o...\n",
      "\u001b[32m2024-11-04 18:01:17\u001b[0m \u001b[35mJ5HW6L4KT6\u001b[0m \u001b[34mbuttermilk\u001b[0m orchestrator.py[  74] \u001b[1;30mINFO\u001b[0m Starting task for Agent judger with job 7qAVitCSLWLWnYkTniqJAS.\n",
      "\u001b[32m2024-11-04 18:01:17\u001b[0m \u001b[35mJ5HW6L4KT6\u001b[0m \u001b[34mbuttermilk\u001b[0m lc.py[ 196] \u001b[1;30mINFO\u001b[0m Invoked chain with gpt4o in 15.13 seconds\n"
     ]
    },
    {
     "name": "stderr",
     "output_type": "stream",
     "text": [
      "I0000 00:00:1730707277.897172 16045583 fork_posix.cc:77] Other threads are currently calling into gRPC, skipping fork() handlers\n"
     ]
    },
    {
     "name": "stdout",
     "output_type": "stream",
     "text": [
      "\u001b[32m2024-11-04 18:01:19\u001b[0m \u001b[35mJ5HW6L4KT6\u001b[0m \u001b[34mbuttermilk\u001b[0m save.py[ 184] \u001b[1;30mDEBUG\u001b[0m \u001b[32mInserting 1 rows to BigQuery table dmrc-analysis.toxicity.flow.\u001b[0m\n",
      "\u001b[32m2024-11-04 18:01:19\u001b[0m \u001b[35mJ5HW6L4KT6\u001b[0m \u001b[34mbuttermilk\u001b[0m save.py[ 191] \u001b[1;30mINFO\u001b[0m Successfully pushed 1 rows to BigQuery table dmrc-analysis.toxicity.flow.\n",
      "\u001b[32m2024-11-04 18:01:19\u001b[0m \u001b[35mJ5HW6L4KT6\u001b[0m \u001b[34mbuttermilk\u001b[0m orchestrator.py[  80] \u001b[1;30mINFO\u001b[0m Agent judger completed job egJUUaqcSJ2THmpiSKJ2Qp successfully.\n",
      "\u001b[32m2024-11-04 18:01:19\u001b[0m \u001b[35mJ5HW6L4KT6\u001b[0m \u001b[34mbuttermilk\u001b[0m lc.py[ 185] \u001b[1;30mINFO\u001b[0m Invoking chain with gpt4o...\n",
      "\u001b[32m2024-11-04 18:01:19\u001b[0m \u001b[35mJ5HW6L4KT6\u001b[0m \u001b[34mbuttermilk\u001b[0m orchestrator.py[  74] \u001b[1;30mINFO\u001b[0m Starting task for Agent judger with job SaRcP2WMHuvC2ttnd282bi.\n",
      "\u001b[32m2024-11-04 18:01:19\u001b[0m \u001b[35mJ5HW6L4KT6\u001b[0m \u001b[34mbuttermilk\u001b[0m lc.py[ 196] \u001b[1;30mINFO\u001b[0m Invoked chain with llama31_70b in 19.18 seconds\n"
     ]
    },
    {
     "name": "stderr",
     "output_type": "stream",
     "text": [
      "I0000 00:00:1730707279.979612 16045583 fork_posix.cc:77] Other threads are currently calling into gRPC, skipping fork() handlers\n"
     ]
    },
    {
     "name": "stdout",
     "output_type": "stream",
     "text": [
      "\u001b[32m2024-11-04 18:01:21\u001b[0m \u001b[35mJ5HW6L4KT6\u001b[0m \u001b[34mbuttermilk\u001b[0m save.py[ 184] \u001b[1;30mDEBUG\u001b[0m \u001b[32mInserting 1 rows to BigQuery table dmrc-analysis.toxicity.flow.\u001b[0m\n",
      "\u001b[32m2024-11-04 18:01:21\u001b[0m \u001b[35mJ5HW6L4KT6\u001b[0m \u001b[34mbuttermilk\u001b[0m save.py[ 191] \u001b[1;30mINFO\u001b[0m Successfully pushed 1 rows to BigQuery table dmrc-analysis.toxicity.flow.\n",
      "\u001b[32m2024-11-04 18:01:21\u001b[0m \u001b[35mJ5HW6L4KT6\u001b[0m \u001b[34mbuttermilk\u001b[0m orchestrator.py[  80] \u001b[1;30mINFO\u001b[0m Agent judger completed job 7z8NTapANDHCf5Kh4DF3xP successfully.\n",
      "\u001b[32m2024-11-04 18:01:21\u001b[0m \u001b[35mJ5HW6L4KT6\u001b[0m \u001b[34mbuttermilk\u001b[0m orchestrator.py[  74] \u001b[1;30mINFO\u001b[0m Starting task for Agent judger with job K89PyNt8JRfuMdhun4XCnq.\n",
      "\u001b[32m2024-11-04 18:01:22\u001b[0m \u001b[35mJ5HW6L4KT6\u001b[0m \u001b[34mbuttermilk\u001b[0m lc.py[ 196] \u001b[1;30mINFO\u001b[0m Invoked chain with gpt4o in 10.89 seconds\n"
     ]
    },
    {
     "name": "stderr",
     "output_type": "stream",
     "text": [
      "I0000 00:00:1730707282.016687 16045583 fork_posix.cc:77] Other threads are currently calling into gRPC, skipping fork() handlers\n"
     ]
    },
    {
     "name": "stdout",
     "output_type": "stream",
     "text": [
      "\u001b[32m2024-11-04 18:01:24\u001b[0m \u001b[35mJ5HW6L4KT6\u001b[0m \u001b[34mbuttermilk\u001b[0m save.py[ 184] \u001b[1;30mDEBUG\u001b[0m \u001b[32mInserting 1 rows to BigQuery table dmrc-analysis.toxicity.flow.\u001b[0m\n",
      "\u001b[32m2024-11-04 18:01:24\u001b[0m \u001b[35mJ5HW6L4KT6\u001b[0m \u001b[34mbuttermilk\u001b[0m save.py[ 191] \u001b[1;30mINFO\u001b[0m Successfully pushed 1 rows to BigQuery table dmrc-analysis.toxicity.flow.\n",
      "\u001b[32m2024-11-04 18:01:24\u001b[0m \u001b[35mJ5HW6L4KT6\u001b[0m \u001b[34mbuttermilk\u001b[0m orchestrator.py[  80] \u001b[1;30mINFO\u001b[0m Agent judger completed job aLr8THNMEuWxNDhtR68nzt successfully.\n",
      "\u001b[32m2024-11-04 18:01:24\u001b[0m \u001b[35mJ5HW6L4KT6\u001b[0m \u001b[34mbuttermilk\u001b[0m lc.py[ 185] \u001b[1;30mINFO\u001b[0m Invoking chain with gpt4o...\n",
      "\u001b[32m2024-11-04 18:01:24\u001b[0m \u001b[35mJ5HW6L4KT6\u001b[0m \u001b[34mbuttermilk\u001b[0m orchestrator.py[  74] \u001b[1;30mINFO\u001b[0m Starting task for Agent judger with job WLozqzBEshQKG6HkQedMFi.\n",
      "\u001b[32m2024-11-04 18:01:24\u001b[0m \u001b[35mJ5HW6L4KT6\u001b[0m \u001b[34mbuttermilk\u001b[0m lc.py[ 196] \u001b[1;30mINFO\u001b[0m Invoked chain with gpt4o in 10.87 seconds\n"
     ]
    },
    {
     "name": "stderr",
     "output_type": "stream",
     "text": [
      "I0000 00:00:1730707284.527297 16045583 fork_posix.cc:77] Other threads are currently calling into gRPC, skipping fork() handlers\n"
     ]
    },
    {
     "name": "stdout",
     "output_type": "stream",
     "text": [
      "\u001b[32m2024-11-04 18:01:26\u001b[0m \u001b[35mJ5HW6L4KT6\u001b[0m \u001b[34mbuttermilk\u001b[0m save.py[ 184] \u001b[1;30mDEBUG\u001b[0m \u001b[32mInserting 1 rows to BigQuery table dmrc-analysis.toxicity.flow.\u001b[0m\n",
      "\u001b[32m2024-11-04 18:01:26\u001b[0m \u001b[35mJ5HW6L4KT6\u001b[0m \u001b[34mbuttermilk\u001b[0m save.py[ 191] \u001b[1;30mINFO\u001b[0m Successfully pushed 1 rows to BigQuery table dmrc-analysis.toxicity.flow.\n",
      "\u001b[32m2024-11-04 18:01:26\u001b[0m \u001b[35mJ5HW6L4KT6\u001b[0m \u001b[34mbuttermilk\u001b[0m orchestrator.py[  80] \u001b[1;30mINFO\u001b[0m Agent judger completed job Hkd4v4pXZdARg73dkeULXs successfully.\n",
      "\u001b[32m2024-11-04 18:01:26\u001b[0m \u001b[35mJ5HW6L4KT6\u001b[0m \u001b[34mbuttermilk\u001b[0m lc.py[ 196] \u001b[1;30mINFO\u001b[0m Invoked chain with llama31_70b in 19.33 seconds\n"
     ]
    },
    {
     "name": "stderr",
     "output_type": "stream",
     "text": [
      "I0000 00:00:1730707286.496057 16045583 fork_posix.cc:77] Other threads are currently calling into gRPC, skipping fork() handlers\n"
     ]
    },
    {
     "name": "stdout",
     "output_type": "stream",
     "text": [
      "\u001b[32m2024-11-04 18:01:28\u001b[0m \u001b[35mJ5HW6L4KT6\u001b[0m \u001b[34mbuttermilk\u001b[0m save.py[ 184] \u001b[1;30mDEBUG\u001b[0m \u001b[32mInserting 1 rows to BigQuery table dmrc-analysis.toxicity.flow.\u001b[0m\n",
      "\u001b[32m2024-11-04 18:01:28\u001b[0m \u001b[35mJ5HW6L4KT6\u001b[0m \u001b[34mbuttermilk\u001b[0m save.py[ 191] \u001b[1;30mINFO\u001b[0m Successfully pushed 1 rows to BigQuery table dmrc-analysis.toxicity.flow.\n",
      "\u001b[32m2024-11-04 18:01:28\u001b[0m \u001b[35mJ5HW6L4KT6\u001b[0m \u001b[34mbuttermilk\u001b[0m orchestrator.py[  80] \u001b[1;30mINFO\u001b[0m Agent judger completed job hLFUBdvMAS47MC4iGjGho2 successfully.\n",
      "\u001b[32m2024-11-04 18:01:28\u001b[0m \u001b[35mJ5HW6L4KT6\u001b[0m \u001b[34mbuttermilk\u001b[0m lc.py[ 185] \u001b[1;30mINFO\u001b[0m Invoking chain with gpt4o...\n",
      "\u001b[32m2024-11-04 18:01:28\u001b[0m \u001b[35mJ5HW6L4KT6\u001b[0m \u001b[34mbuttermilk\u001b[0m orchestrator.py[  74] \u001b[1;30mINFO\u001b[0m Starting task for Agent judger with job XmYbj7ZwSfXKBcH3Tyn9su.\n",
      "\u001b[32m2024-11-04 18:01:28\u001b[0m \u001b[35mJ5HW6L4KT6\u001b[0m \u001b[34mbuttermilk\u001b[0m orchestrator.py[  74] \u001b[1;30mINFO\u001b[0m Starting task for Agent judger with job Dhn9eZ59aEQBDymJ5TQEtG.\n",
      "\u001b[32m2024-11-04 18:01:28\u001b[0m \u001b[35mJ5HW6L4KT6\u001b[0m \u001b[34mbuttermilk\u001b[0m lc.py[ 196] \u001b[1;30mINFO\u001b[0m Invoked chain with sonnet in 12.72 seconds\n"
     ]
    },
    {
     "name": "stderr",
     "output_type": "stream",
     "text": [
      "I0000 00:00:1730707288.532984 16045583 fork_posix.cc:77] Other threads are currently calling into gRPC, skipping fork() handlers\n"
     ]
    },
    {
     "name": "stdout",
     "output_type": "stream",
     "text": [
      "\u001b[32m2024-11-04 18:01:30\u001b[0m \u001b[35mJ5HW6L4KT6\u001b[0m \u001b[34mbuttermilk\u001b[0m save.py[ 184] \u001b[1;30mDEBUG\u001b[0m \u001b[32mInserting 1 rows to BigQuery table dmrc-analysis.toxicity.flow.\u001b[0m\n",
      "\u001b[32m2024-11-04 18:01:30\u001b[0m \u001b[35mJ5HW6L4KT6\u001b[0m \u001b[34mbuttermilk\u001b[0m save.py[ 191] \u001b[1;30mINFO\u001b[0m Successfully pushed 1 rows to BigQuery table dmrc-analysis.toxicity.flow.\n",
      "\u001b[32m2024-11-04 18:01:30\u001b[0m \u001b[35mJ5HW6L4KT6\u001b[0m \u001b[34mbuttermilk\u001b[0m orchestrator.py[  80] \u001b[1;30mINFO\u001b[0m Agent judger completed job RLUMVGJAqDNkPyMPmtZNzf successfully.\n",
      "\u001b[32m2024-11-04 18:01:30\u001b[0m \u001b[35mJ5HW6L4KT6\u001b[0m \u001b[34mbuttermilk\u001b[0m lc.py[ 196] \u001b[1;30mINFO\u001b[0m Invoked chain with sonnet in 17.15 seconds\n"
     ]
    },
    {
     "name": "stderr",
     "output_type": "stream",
     "text": [
      "I0000 00:00:1730707290.806415 16045583 fork_posix.cc:77] Other threads are currently calling into gRPC, skipping fork() handlers\n"
     ]
    },
    {
     "name": "stdout",
     "output_type": "stream",
     "text": [
      "\u001b[32m2024-11-04 18:01:32\u001b[0m \u001b[35mJ5HW6L4KT6\u001b[0m \u001b[34mbuttermilk\u001b[0m save.py[ 184] \u001b[1;30mDEBUG\u001b[0m \u001b[32mInserting 1 rows to BigQuery table dmrc-analysis.toxicity.flow.\u001b[0m\n",
      "\u001b[32m2024-11-04 18:01:33\u001b[0m \u001b[35mJ5HW6L4KT6\u001b[0m \u001b[34mbuttermilk\u001b[0m save.py[ 191] \u001b[1;30mINFO\u001b[0m Successfully pushed 1 rows to BigQuery table dmrc-analysis.toxicity.flow.\n",
      "\u001b[32m2024-11-04 18:01:33\u001b[0m \u001b[35mJ5HW6L4KT6\u001b[0m \u001b[34mbuttermilk\u001b[0m orchestrator.py[  80] \u001b[1;30mINFO\u001b[0m Agent judger completed job XdFnFNpMWmotRvjzeWC4bw successfully.\n",
      "\u001b[32m2024-11-04 18:01:33\u001b[0m \u001b[35mJ5HW6L4KT6\u001b[0m \u001b[34mbuttermilk\u001b[0m lc.py[ 185] \u001b[1;30mINFO\u001b[0m Invoking chain with sonnet...\n",
      "\u001b[32m2024-11-04 18:01:33\u001b[0m \u001b[35mJ5HW6L4KT6\u001b[0m \u001b[34mbuttermilk\u001b[0m orchestrator.py[  74] \u001b[1;30mINFO\u001b[0m Starting task for Agent judger with job HVZFwzZC3qjsoyyPy5q4rJ.\n",
      "\u001b[32m2024-11-04 18:01:33\u001b[0m \u001b[35mJ5HW6L4KT6\u001b[0m \u001b[34mbuttermilk\u001b[0m lc.py[ 185] \u001b[1;30mINFO\u001b[0m Invoking chain with sonnet...\n",
      "\u001b[32m2024-11-04 18:01:33\u001b[0m \u001b[35mJ5HW6L4KT6\u001b[0m \u001b[34mbuttermilk\u001b[0m orchestrator.py[  74] \u001b[1;30mINFO\u001b[0m Starting task for Agent judger with job QRd9TJw7ayN2YEYtVedX3V.\n",
      "\u001b[32m2024-11-04 18:01:33\u001b[0m \u001b[35mJ5HW6L4KT6\u001b[0m \u001b[34mbuttermilk\u001b[0m lc.py[ 196] \u001b[1;30mINFO\u001b[0m Invoked chain with gpt4o in 15.18 seconds\n",
      "\u001b[32m2024-11-04 18:01:35\u001b[0m \u001b[35mJ5HW6L4KT6\u001b[0m \u001b[34mbuttermilk\u001b[0m save.py[ 184] \u001b[1;30mDEBUG\u001b[0m \u001b[32mInserting 1 rows to BigQuery table dmrc-analysis.toxicity.flow.\u001b[0m\n",
      "\u001b[32m2024-11-04 18:01:35\u001b[0m \u001b[35mJ5HW6L4KT6\u001b[0m \u001b[34mbuttermilk\u001b[0m save.py[ 191] \u001b[1;30mINFO\u001b[0m Successfully pushed 1 rows to BigQuery table dmrc-analysis.toxicity.flow.\n",
      "\u001b[32m2024-11-04 18:01:35\u001b[0m \u001b[35mJ5HW6L4KT6\u001b[0m \u001b[34mbuttermilk\u001b[0m orchestrator.py[  80] \u001b[1;30mINFO\u001b[0m Agent judger completed job CYXtQ7owp6zVa3vZwa652t successfully.\n",
      "\u001b[32m2024-11-04 18:01:35\u001b[0m \u001b[35mJ5HW6L4KT6\u001b[0m \u001b[34mbuttermilk\u001b[0m lc.py[ 196] \u001b[1;30mINFO\u001b[0m Invoked chain with sonnet in 24.58 seconds\n"
     ]
    },
    {
     "name": "stderr",
     "output_type": "stream",
     "text": [
      "I0000 00:00:1730707295.718674 16045583 fork_posix.cc:77] Other threads are currently calling into gRPC, skipping fork() handlers\n"
     ]
    },
    {
     "name": "stdout",
     "output_type": "stream",
     "text": [
      "\u001b[32m2024-11-04 18:01:37\u001b[0m \u001b[35mJ5HW6L4KT6\u001b[0m \u001b[34mbuttermilk\u001b[0m save.py[ 184] \u001b[1;30mDEBUG\u001b[0m \u001b[32mInserting 1 rows to BigQuery table dmrc-analysis.toxicity.flow.\u001b[0m\n",
      "\u001b[32m2024-11-04 18:01:37\u001b[0m \u001b[35mJ5HW6L4KT6\u001b[0m \u001b[34mbuttermilk\u001b[0m save.py[ 191] \u001b[1;30mINFO\u001b[0m Successfully pushed 1 rows to BigQuery table dmrc-analysis.toxicity.flow.\n",
      "\u001b[32m2024-11-04 18:01:37\u001b[0m \u001b[35mJ5HW6L4KT6\u001b[0m \u001b[34mbuttermilk\u001b[0m orchestrator.py[  80] \u001b[1;30mINFO\u001b[0m Agent judger completed job PdpMjyZCwodkYkXEfRhz9Z successfully.\n",
      "\u001b[32m2024-11-04 18:01:37\u001b[0m \u001b[35mJ5HW6L4KT6\u001b[0m \u001b[34mbuttermilk\u001b[0m lc.py[ 196] \u001b[1;30mINFO\u001b[0m Invoked chain with sonnet in 26.40 seconds\n"
     ]
    },
    {
     "name": "stderr",
     "output_type": "stream",
     "text": [
      "I0000 00:00:1730707297.540811 16045583 fork_posix.cc:77] Other threads are currently calling into gRPC, skipping fork() handlers\n"
     ]
    },
    {
     "name": "stdout",
     "output_type": "stream",
     "text": [
      "\u001b[32m2024-11-04 18:01:39\u001b[0m \u001b[35mJ5HW6L4KT6\u001b[0m \u001b[34mbuttermilk\u001b[0m save.py[ 184] \u001b[1;30mDEBUG\u001b[0m \u001b[32mInserting 1 rows to BigQuery table dmrc-analysis.toxicity.flow.\u001b[0m\n",
      "\u001b[32m2024-11-04 18:01:39\u001b[0m \u001b[35mJ5HW6L4KT6\u001b[0m \u001b[34mbuttermilk\u001b[0m save.py[ 191] \u001b[1;30mINFO\u001b[0m Successfully pushed 1 rows to BigQuery table dmrc-analysis.toxicity.flow.\n",
      "\u001b[32m2024-11-04 18:01:39\u001b[0m \u001b[35mJ5HW6L4KT6\u001b[0m \u001b[34mbuttermilk\u001b[0m orchestrator.py[  80] \u001b[1;30mINFO\u001b[0m Agent judger completed job 92Q5jJa8udbwqt9FeLXtjs successfully.\n",
      "\u001b[32m2024-11-04 18:01:39\u001b[0m \u001b[35mJ5HW6L4KT6\u001b[0m \u001b[34mbuttermilk\u001b[0m lc.py[ 185] \u001b[1;30mINFO\u001b[0m Invoking chain with gpt4o...\n",
      "\u001b[32m2024-11-04 18:01:39\u001b[0m \u001b[35mJ5HW6L4KT6\u001b[0m \u001b[34mbuttermilk\u001b[0m orchestrator.py[  74] \u001b[1;30mINFO\u001b[0m Starting task for Agent judger with job JAoEaLimvYKxN4gRbZZz8Y.\n",
      "\u001b[32m2024-11-04 18:01:39\u001b[0m \u001b[35mJ5HW6L4KT6\u001b[0m \u001b[34mbuttermilk\u001b[0m lc.py[ 185] \u001b[1;30mINFO\u001b[0m Invoking chain with sonnet...\n",
      "\u001b[32m2024-11-04 18:01:39\u001b[0m \u001b[35mJ5HW6L4KT6\u001b[0m \u001b[34mbuttermilk\u001b[0m orchestrator.py[  74] \u001b[1;30mINFO\u001b[0m Starting task for Agent judger with job XD7RZgjeNCYDAzb6jhH9wR.\n",
      "\u001b[32m2024-11-04 18:01:39\u001b[0m \u001b[35mJ5HW6L4KT6\u001b[0m \u001b[34mbuttermilk\u001b[0m lc.py[ 185] \u001b[1;30mINFO\u001b[0m Invoking chain with sonnet...\n",
      "\u001b[32m2024-11-04 18:01:39\u001b[0m \u001b[35mJ5HW6L4KT6\u001b[0m \u001b[34mbuttermilk\u001b[0m orchestrator.py[  74] \u001b[1;30mINFO\u001b[0m Starting task for Agent judger with job QZRotcS9qHtbd57vpTiwxC.\n",
      "\u001b[32m2024-11-04 18:01:39\u001b[0m \u001b[35mJ5HW6L4KT6\u001b[0m \u001b[34mbuttermilk\u001b[0m lc.py[ 196] \u001b[1;30mINFO\u001b[0m Invoked chain with gpt4o in 20.01 seconds\n"
     ]
    },
    {
     "name": "stderr",
     "output_type": "stream",
     "text": [
      "I0000 00:00:1730707299.990588 16045583 fork_posix.cc:77] Other threads are currently calling into gRPC, skipping fork() handlers\n"
     ]
    },
    {
     "name": "stdout",
     "output_type": "stream",
     "text": [
      "\u001b[32m2024-11-04 18:01:41\u001b[0m \u001b[35mJ5HW6L4KT6\u001b[0m \u001b[34mbuttermilk\u001b[0m save.py[ 184] \u001b[1;30mDEBUG\u001b[0m \u001b[32mInserting 1 rows to BigQuery table dmrc-analysis.toxicity.flow.\u001b[0m\n",
      "\u001b[32m2024-11-04 18:01:41\u001b[0m \u001b[35mJ5HW6L4KT6\u001b[0m \u001b[34mbuttermilk\u001b[0m save.py[ 191] \u001b[1;30mINFO\u001b[0m Successfully pushed 1 rows to BigQuery table dmrc-analysis.toxicity.flow.\n",
      "\u001b[32m2024-11-04 18:01:41\u001b[0m \u001b[35mJ5HW6L4KT6\u001b[0m \u001b[34mbuttermilk\u001b[0m orchestrator.py[  80] \u001b[1;30mINFO\u001b[0m Agent judger completed job cJzCUkq8834vaWZxMT26zV successfully.\n",
      "\u001b[32m2024-11-04 18:01:41\u001b[0m \u001b[35mJ5HW6L4KT6\u001b[0m \u001b[34mbuttermilk\u001b[0m lc.py[ 185] \u001b[1;30mINFO\u001b[0m Invoking chain with gpt4o...\n",
      "\u001b[32m2024-11-04 18:01:41\u001b[0m \u001b[35mJ5HW6L4KT6\u001b[0m \u001b[34mbuttermilk\u001b[0m orchestrator.py[  74] \u001b[1;30mINFO\u001b[0m Starting task for Agent judger with job 5rMt9ZNpRhcmxogyxEttDh.\n",
      "\u001b[32m2024-11-04 18:01:44\u001b[0m \u001b[35mJ5HW6L4KT6\u001b[0m \u001b[34mbuttermilk\u001b[0m lc.py[ 196] \u001b[1;30mINFO\u001b[0m Invoked chain with sonnet in 4.15 seconds\n",
      "\u001b[32m2024-11-04 18:01:46\u001b[0m \u001b[35mJ5HW6L4KT6\u001b[0m \u001b[34mbuttermilk\u001b[0m save.py[ 184] \u001b[1;30mDEBUG\u001b[0m \u001b[32mInserting 1 rows to BigQuery table dmrc-analysis.toxicity.flow.\u001b[0m\n",
      "\u001b[32m2024-11-04 18:01:47\u001b[0m \u001b[35mJ5HW6L4KT6\u001b[0m \u001b[34mbuttermilk\u001b[0m save.py[ 191] \u001b[1;30mINFO\u001b[0m Successfully pushed 1 rows to BigQuery table dmrc-analysis.toxicity.flow.\n",
      "\u001b[32m2024-11-04 18:01:47\u001b[0m \u001b[35mJ5HW6L4KT6\u001b[0m \u001b[34mbuttermilk\u001b[0m orchestrator.py[  80] \u001b[1;30mINFO\u001b[0m Agent judger completed job WLozqzBEshQKG6HkQedMFi successfully.\n",
      "\u001b[32m2024-11-04 18:01:47\u001b[0m \u001b[35mJ5HW6L4KT6\u001b[0m \u001b[34mbuttermilk\u001b[0m lc.py[ 185] \u001b[1;30mINFO\u001b[0m Invoking chain with sonnet...\n",
      "\u001b[32m2024-11-04 18:01:47\u001b[0m \u001b[35mJ5HW6L4KT6\u001b[0m \u001b[34mbuttermilk\u001b[0m orchestrator.py[  74] \u001b[1;30mINFO\u001b[0m Starting task for Agent judger with job 259AkbnfQUcNLGowjSryT7.\n",
      "\u001b[32m2024-11-04 18:01:47\u001b[0m \u001b[35mJ5HW6L4KT6\u001b[0m \u001b[34mbuttermilk\u001b[0m lc.py[ 196] \u001b[1;30mINFO\u001b[0m Invoked chain with sonnet in 7.19 seconds\n"
     ]
    },
    {
     "name": "stderr",
     "output_type": "stream",
     "text": [
      "I0000 00:00:1730707307.169936 16045583 fork_posix.cc:77] Other threads are currently calling into gRPC, skipping fork() handlers\n",
      "I0000 00:00:1730707307.498867 16045583 fork_posix.cc:77] Other threads are currently calling into gRPC, skipping fork() handlers\n"
     ]
    },
    {
     "name": "stdout",
     "output_type": "stream",
     "text": [
      "\u001b[32m2024-11-04 18:01:48\u001b[0m \u001b[35mJ5HW6L4KT6\u001b[0m \u001b[34mbuttermilk\u001b[0m save.py[ 184] \u001b[1;30mDEBUG\u001b[0m \u001b[32mInserting 1 rows to BigQuery table dmrc-analysis.toxicity.flow.\u001b[0m\n",
      "\u001b[32m2024-11-04 18:01:48\u001b[0m \u001b[35mJ5HW6L4KT6\u001b[0m \u001b[34mbuttermilk\u001b[0m save.py[ 191] \u001b[1;30mINFO\u001b[0m Successfully pushed 1 rows to BigQuery table dmrc-analysis.toxicity.flow.\n",
      "\u001b[32m2024-11-04 18:01:48\u001b[0m \u001b[35mJ5HW6L4KT6\u001b[0m \u001b[34mbuttermilk\u001b[0m orchestrator.py[  80] \u001b[1;30mINFO\u001b[0m Agent judger completed job K89PyNt8JRfuMdhun4XCnq successfully.\n",
      "\u001b[32m2024-11-04 18:01:48\u001b[0m \u001b[35mJ5HW6L4KT6\u001b[0m \u001b[34mbuttermilk\u001b[0m lc.py[ 196] \u001b[1;30mINFO\u001b[0m Invoked chain with sonnet in 15.84 seconds\n"
     ]
    },
    {
     "name": "stderr",
     "output_type": "stream",
     "text": [
      "I0000 00:00:1730707308.917854 16045583 fork_posix.cc:77] Other threads are currently calling into gRPC, skipping fork() handlers\n"
     ]
    },
    {
     "name": "stdout",
     "output_type": "stream",
     "text": [
      "\u001b[32m2024-11-04 18:01:51\u001b[0m \u001b[35mJ5HW6L4KT6\u001b[0m \u001b[34mbuttermilk\u001b[0m save.py[ 184] \u001b[1;30mDEBUG\u001b[0m \u001b[32mInserting 1 rows to BigQuery table dmrc-analysis.toxicity.flow.\u001b[0m\n",
      "\u001b[32m2024-11-04 18:01:51\u001b[0m \u001b[35mJ5HW6L4KT6\u001b[0m \u001b[34mbuttermilk\u001b[0m save.py[ 191] \u001b[1;30mINFO\u001b[0m Successfully pushed 1 rows to BigQuery table dmrc-analysis.toxicity.flow.\n",
      "\u001b[32m2024-11-04 18:01:51\u001b[0m \u001b[35mJ5HW6L4KT6\u001b[0m \u001b[34mbuttermilk\u001b[0m orchestrator.py[  80] \u001b[1;30mINFO\u001b[0m Agent judger completed job SaRcP2WMHuvC2ttnd282bi successfully.\n",
      "\u001b[32m2024-11-04 18:01:51\u001b[0m \u001b[35mJ5HW6L4KT6\u001b[0m \u001b[34mbuttermilk\u001b[0m lc.py[ 185] \u001b[1;30mINFO\u001b[0m Invoking chain with sonnet...\n",
      "\u001b[32m2024-11-04 18:01:51\u001b[0m \u001b[35mJ5HW6L4KT6\u001b[0m \u001b[34mbuttermilk\u001b[0m orchestrator.py[  74] \u001b[1;30mINFO\u001b[0m Starting task for Agent judger with job UoatNfH5mrHegYhfTTtGcB.\n",
      "\u001b[32m2024-11-04 18:01:51\u001b[0m \u001b[35mJ5HW6L4KT6\u001b[0m \u001b[34mbuttermilk\u001b[0m lc.py[ 185] \u001b[1;30mINFO\u001b[0m Invoking chain with sonnet...\n",
      "\u001b[32m2024-11-04 18:01:51\u001b[0m \u001b[35mJ5HW6L4KT6\u001b[0m \u001b[34mbuttermilk\u001b[0m orchestrator.py[  74] \u001b[1;30mINFO\u001b[0m Starting task for Agent judger with job E89pxJHLEC9S3QN7ozKp2g.\n",
      "\u001b[32m2024-11-04 18:01:51\u001b[0m \u001b[35mJ5HW6L4KT6\u001b[0m \u001b[34mbuttermilk\u001b[0m lc.py[ 196] \u001b[1;30mINFO\u001b[0m Invoked chain with sonnet in 18.60 seconds\n"
     ]
    },
    {
     "name": "stderr",
     "output_type": "stream",
     "text": [
      "I0000 00:00:1730707311.675997 16045583 fork_posix.cc:77] Other threads are currently calling into gRPC, skipping fork() handlers\n"
     ]
    },
    {
     "name": "stdout",
     "output_type": "stream",
     "text": [
      "\u001b[32m2024-11-04 18:01:53\u001b[0m \u001b[35mJ5HW6L4KT6\u001b[0m \u001b[34mbuttermilk\u001b[0m save.py[ 184] \u001b[1;30mDEBUG\u001b[0m \u001b[32mInserting 1 rows to BigQuery table dmrc-analysis.toxicity.flow.\u001b[0m\n",
      "\u001b[32m2024-11-04 18:01:53\u001b[0m \u001b[35mJ5HW6L4KT6\u001b[0m \u001b[34mbuttermilk\u001b[0m save.py[ 191] \u001b[1;30mINFO\u001b[0m Successfully pushed 1 rows to BigQuery table dmrc-analysis.toxicity.flow.\n",
      "\u001b[32m2024-11-04 18:01:53\u001b[0m \u001b[35mJ5HW6L4KT6\u001b[0m \u001b[34mbuttermilk\u001b[0m orchestrator.py[  80] \u001b[1;30mINFO\u001b[0m Agent judger completed job 7qAVitCSLWLWnYkTniqJAS successfully.\n",
      "\u001b[32m2024-11-04 18:01:53\u001b[0m \u001b[35mJ5HW6L4KT6\u001b[0m \u001b[34mbuttermilk\u001b[0m lc.py[ 185] \u001b[1;30mINFO\u001b[0m Invoking chain with sonnet...\n",
      "\u001b[32m2024-11-04 18:01:53\u001b[0m \u001b[35mJ5HW6L4KT6\u001b[0m \u001b[34mbuttermilk\u001b[0m orchestrator.py[  74] \u001b[1;30mINFO\u001b[0m Starting task for Agent judger with job QEHPqXvJnDXDpTMfMGCvvK.\n",
      "\u001b[32m2024-11-04 18:01:53\u001b[0m \u001b[35mJ5HW6L4KT6\u001b[0m \u001b[34mbuttermilk\u001b[0m lc.py[ 196] \u001b[1;30mINFO\u001b[0m Invoked chain with gpt4o in 11.85 seconds\n"
     ]
    },
    {
     "name": "stderr",
     "output_type": "stream",
     "text": [
      "I0000 00:00:1730707313.823173 16045583 fork_posix.cc:77] Other threads are currently calling into gRPC, skipping fork() handlers\n"
     ]
    },
    {
     "name": "stdout",
     "output_type": "stream",
     "text": [
      "\u001b[32m2024-11-04 18:01:55\u001b[0m \u001b[35mJ5HW6L4KT6\u001b[0m \u001b[34mbuttermilk\u001b[0m save.py[ 184] \u001b[1;30mDEBUG\u001b[0m \u001b[32mInserting 1 rows to BigQuery table dmrc-analysis.toxicity.flow.\u001b[0m\n",
      "\u001b[32m2024-11-04 18:01:55\u001b[0m \u001b[35mJ5HW6L4KT6\u001b[0m \u001b[34mbuttermilk\u001b[0m save.py[ 191] \u001b[1;30mINFO\u001b[0m Successfully pushed 1 rows to BigQuery table dmrc-analysis.toxicity.flow.\n",
      "\u001b[32m2024-11-04 18:01:55\u001b[0m \u001b[35mJ5HW6L4KT6\u001b[0m \u001b[34mbuttermilk\u001b[0m orchestrator.py[  80] \u001b[1;30mINFO\u001b[0m Agent judger completed job Q4vWNrTmGNUXnDrNU9Tqop successfully.\n",
      "\u001b[32m2024-11-04 18:01:55\u001b[0m \u001b[35mJ5HW6L4KT6\u001b[0m \u001b[34mbuttermilk\u001b[0m lc.py[ 185] \u001b[1;30mINFO\u001b[0m Invoking chain with gpt4o...\n",
      "\u001b[32m2024-11-04 18:01:55\u001b[0m \u001b[35mJ5HW6L4KT6\u001b[0m \u001b[34mbuttermilk\u001b[0m orchestrator.py[  74] \u001b[1;30mINFO\u001b[0m Starting task for Agent judger with job 8J98u2gn6L6X2QLLKrbRCP.\n"
     ]
    },
    {
     "name": "stderr",
     "output_type": "stream",
     "text": [
      "I0000 00:00:1730707315.914069 16045583 fork_posix.cc:77] Other threads are currently calling into gRPC, skipping fork() handlers\n"
     ]
    },
    {
     "name": "stdout",
     "output_type": "stream",
     "text": [
      "\u001b[32m2024-11-04 18:01:59\u001b[0m \u001b[35mJ5HW6L4KT6\u001b[0m \u001b[34mbuttermilk\u001b[0m lc.py[ 185] \u001b[1;30mINFO\u001b[0m Invoking chain with gemini15pro...\n",
      "\u001b[32m2024-11-04 18:01:59\u001b[0m \u001b[35mJ5HW6L4KT6\u001b[0m \u001b[34mbuttermilk\u001b[0m lc.py[ 196] \u001b[1;30mINFO\u001b[0m Invoked chain with gpt4o in 19.96 seconds\n"
     ]
    },
    {
     "name": "stderr",
     "output_type": "stream",
     "text": [
      "I0000 00:00:1730707319.940673 16045583 fork_posix.cc:77] Other threads are currently calling into gRPC, skipping fork() handlers\n"
     ]
    },
    {
     "name": "stdout",
     "output_type": "stream",
     "text": [
      "\u001b[32m2024-11-04 18:02:01\u001b[0m \u001b[35mJ5HW6L4KT6\u001b[0m \u001b[34mbuttermilk\u001b[0m save.py[ 184] \u001b[1;30mDEBUG\u001b[0m \u001b[32mInserting 1 rows to BigQuery table dmrc-analysis.toxicity.flow.\u001b[0m\n",
      "\u001b[32m2024-11-04 18:02:02\u001b[0m \u001b[35mJ5HW6L4KT6\u001b[0m \u001b[34mbuttermilk\u001b[0m save.py[ 191] \u001b[1;30mINFO\u001b[0m Successfully pushed 1 rows to BigQuery table dmrc-analysis.toxicity.flow.\n",
      "\u001b[32m2024-11-04 18:02:02\u001b[0m \u001b[35mJ5HW6L4KT6\u001b[0m \u001b[34mbuttermilk\u001b[0m orchestrator.py[  80] \u001b[1;30mINFO\u001b[0m Agent judger completed job 8CBVEJZtxp6RZaKLzGsdGD successfully.\n",
      "\u001b[32m2024-11-04 18:02:02\u001b[0m \u001b[35mJ5HW6L4KT6\u001b[0m \u001b[34mbuttermilk\u001b[0m lc.py[ 196] \u001b[1;30mINFO\u001b[0m Invoked chain with sonnet in 14.93 seconds\n"
     ]
    },
    {
     "name": "stderr",
     "output_type": "stream",
     "text": [
      "I0000 00:00:1730707322.076862 16045583 fork_posix.cc:77] Other threads are currently calling into gRPC, skipping fork() handlers\n"
     ]
    },
    {
     "name": "stdout",
     "output_type": "stream",
     "text": [
      "\u001b[32m2024-11-04 18:02:03\u001b[0m \u001b[35mJ5HW6L4KT6\u001b[0m \u001b[34mbuttermilk\u001b[0m save.py[ 184] \u001b[1;30mDEBUG\u001b[0m \u001b[32mInserting 1 rows to BigQuery table dmrc-analysis.toxicity.flow.\u001b[0m\n",
      "\u001b[32m2024-11-04 18:02:04\u001b[0m \u001b[35mJ5HW6L4KT6\u001b[0m \u001b[34mbuttermilk\u001b[0m save.py[ 191] \u001b[1;30mINFO\u001b[0m Successfully pushed 1 rows to BigQuery table dmrc-analysis.toxicity.flow.\n",
      "\u001b[32m2024-11-04 18:02:04\u001b[0m \u001b[35mJ5HW6L4KT6\u001b[0m \u001b[34mbuttermilk\u001b[0m orchestrator.py[  80] \u001b[1;30mINFO\u001b[0m Agent judger completed job XmYbj7ZwSfXKBcH3Tyn9su successfully.\n",
      "\u001b[32m2024-11-04 18:02:04\u001b[0m \u001b[35mJ5HW6L4KT6\u001b[0m \u001b[34mbuttermilk\u001b[0m lc.py[ 185] \u001b[1;30mINFO\u001b[0m Invoking chain with gpt4o...\n",
      "\u001b[32m2024-11-04 18:02:04\u001b[0m \u001b[35mJ5HW6L4KT6\u001b[0m \u001b[34mbuttermilk\u001b[0m orchestrator.py[  74] \u001b[1;30mINFO\u001b[0m Starting task for Agent judger with job YfDt7Ee95qbNS5x7JbYJeg.\n",
      "\u001b[32m2024-11-04 18:02:04\u001b[0m \u001b[35mJ5HW6L4KT6\u001b[0m \u001b[34mbuttermilk\u001b[0m lc.py[ 185] \u001b[1;30mINFO\u001b[0m Invoking chain with gemini15pro...\n",
      "\u001b[32m2024-11-04 18:02:04\u001b[0m \u001b[35mJ5HW6L4KT6\u001b[0m \u001b[34mbuttermilk\u001b[0m lc.py[ 185] \u001b[1;30mINFO\u001b[0m Invoking chain with sonnet...\n",
      "\u001b[32m2024-11-04 18:02:04\u001b[0m \u001b[35mJ5HW6L4KT6\u001b[0m \u001b[34mbuttermilk\u001b[0m orchestrator.py[  74] \u001b[1;30mINFO\u001b[0m Starting task for Agent judger with job csR8F6opiSnQTwoDngPhUv.\n",
      "\u001b[32m2024-11-04 18:02:04\u001b[0m \u001b[35mJ5HW6L4KT6\u001b[0m \u001b[34mbuttermilk\u001b[0m lc.py[ 185] \u001b[1;30mINFO\u001b[0m Invoking chain with gemini15pro...\n"
     ]
    },
    {
     "name": "stderr",
     "output_type": "stream",
     "text": [
      "I0000 00:00:1730707324.111001 16045583 fork_posix.cc:77] Other threads are currently calling into gRPC, skipping fork() handlers\n"
     ]
    },
    {
     "name": "stdout",
     "output_type": "stream",
     "text": [
      "\u001b[32m2024-11-04 18:02:04\u001b[0m \u001b[35mJ5HW6L4KT6\u001b[0m \u001b[34mbuttermilk\u001b[0m lc.py[ 196] \u001b[1;30mINFO\u001b[0m Invoked chain with sonnet in 12.94 seconds\n"
     ]
    },
    {
     "name": "stderr",
     "output_type": "stream",
     "text": [
      "I0000 00:00:1730707324.621948 16045583 fork_posix.cc:77] Other threads are currently calling into gRPC, skipping fork() handlers\n",
      "I0000 00:00:1730707325.301985 16045583 fork_posix.cc:77] Other threads are currently calling into gRPC, skipping fork() handlers\n"
     ]
    },
    {
     "name": "stdout",
     "output_type": "stream",
     "text": [
      "\u001b[32m2024-11-04 18:02:06\u001b[0m \u001b[35mJ5HW6L4KT6\u001b[0m \u001b[34mbuttermilk\u001b[0m save.py[ 184] \u001b[1;30mDEBUG\u001b[0m \u001b[32mInserting 1 rows to BigQuery table dmrc-analysis.toxicity.flow.\u001b[0m\n",
      "\u001b[32m2024-11-04 18:02:06\u001b[0m \u001b[35mJ5HW6L4KT6\u001b[0m \u001b[34mbuttermilk\u001b[0m save.py[ 191] \u001b[1;30mINFO\u001b[0m Successfully pushed 1 rows to BigQuery table dmrc-analysis.toxicity.flow.\n",
      "\u001b[32m2024-11-04 18:02:06\u001b[0m \u001b[35mJ5HW6L4KT6\u001b[0m \u001b[34mbuttermilk\u001b[0m orchestrator.py[  80] \u001b[1;30mINFO\u001b[0m Agent judger completed job Dhn9eZ59aEQBDymJ5TQEtG successfully.\n",
      "\u001b[32m2024-11-04 18:02:06\u001b[0m \u001b[35mJ5HW6L4KT6\u001b[0m \u001b[34mbuttermilk\u001b[0m lc.py[ 185] \u001b[1;30mINFO\u001b[0m Invoking chain with sonnet...\n",
      "\u001b[32m2024-11-04 18:02:06\u001b[0m \u001b[35mJ5HW6L4KT6\u001b[0m \u001b[34mbuttermilk\u001b[0m orchestrator.py[  74] \u001b[1;30mINFO\u001b[0m Starting task for Agent judger with job fqkvziyfwK38kaQKw3FxEb.\n",
      "\u001b[32m2024-11-04 18:02:06\u001b[0m \u001b[35mJ5HW6L4KT6\u001b[0m \u001b[34mbuttermilk\u001b[0m lc.py[ 185] \u001b[1;30mINFO\u001b[0m Invoking chain with gemini15pro...\n",
      "\u001b[32m2024-11-04 18:02:06\u001b[0m \u001b[35mJ5HW6L4KT6\u001b[0m \u001b[34mbuttermilk\u001b[0m lc.py[ 196] \u001b[1;30mINFO\u001b[0m Invoked chain with sonnet in 15.10 seconds\n"
     ]
    },
    {
     "name": "stderr",
     "output_type": "stream",
     "text": [
      "I0000 00:00:1730707326.779359 16045583 fork_posix.cc:77] Other threads are currently calling into gRPC, skipping fork() handlers\n",
      "I0000 00:00:1730707327.341785 16045583 fork_posix.cc:77] Other threads are currently calling into gRPC, skipping fork() handlers\n"
     ]
    },
    {
     "name": "stdout",
     "output_type": "stream",
     "text": [
      "\u001b[32m2024-11-04 18:02:08\u001b[0m \u001b[35mJ5HW6L4KT6\u001b[0m \u001b[34mbuttermilk\u001b[0m save.py[ 184] \u001b[1;30mDEBUG\u001b[0m \u001b[32mInserting 1 rows to BigQuery table dmrc-analysis.toxicity.flow.\u001b[0m\n",
      "\u001b[32m2024-11-04 18:02:08\u001b[0m \u001b[35mJ5HW6L4KT6\u001b[0m \u001b[34mbuttermilk\u001b[0m save.py[ 191] \u001b[1;30mINFO\u001b[0m Successfully pushed 1 rows to BigQuery table dmrc-analysis.toxicity.flow.\n",
      "\u001b[32m2024-11-04 18:02:08\u001b[0m \u001b[35mJ5HW6L4KT6\u001b[0m \u001b[34mbuttermilk\u001b[0m orchestrator.py[  80] \u001b[1;30mINFO\u001b[0m Agent judger completed job HVZFwzZC3qjsoyyPy5q4rJ successfully.\n",
      "\u001b[32m2024-11-04 18:02:08\u001b[0m \u001b[35mJ5HW6L4KT6\u001b[0m \u001b[34mbuttermilk\u001b[0m lc.py[ 185] \u001b[1;30mINFO\u001b[0m Invoking chain with sonnet...\n",
      "\u001b[32m2024-11-04 18:02:08\u001b[0m \u001b[35mJ5HW6L4KT6\u001b[0m \u001b[34mbuttermilk\u001b[0m orchestrator.py[  74] \u001b[1;30mINFO\u001b[0m Starting task for Agent judger with job 7goL8qXgHnbsNEZmQgyE2c.\n",
      "\u001b[32m2024-11-04 18:02:08\u001b[0m \u001b[35mJ5HW6L4KT6\u001b[0m \u001b[34mbuttermilk\u001b[0m lc.py[ 196] \u001b[1;30mINFO\u001b[0m Invoked chain with sonnet in 4.73 seconds\n"
     ]
    },
    {
     "name": "stderr",
     "output_type": "stream",
     "text": [
      "I0000 00:00:1730707328.830120 16045583 fork_posix.cc:77] Other threads are currently calling into gRPC, skipping fork() handlers\n",
      "I0000 00:00:1730707329.258317 16045583 fork_posix.cc:77] Other threads are currently calling into gRPC, skipping fork() handlers\n"
     ]
    },
    {
     "name": "stdout",
     "output_type": "stream",
     "text": [
      "\u001b[32m2024-11-04 18:02:10\u001b[0m \u001b[35mJ5HW6L4KT6\u001b[0m \u001b[34mbuttermilk\u001b[0m save.py[ 184] \u001b[1;30mDEBUG\u001b[0m \u001b[32mInserting 1 rows to BigQuery table dmrc-analysis.toxicity.flow.\u001b[0m\n",
      "\u001b[32m2024-11-04 18:02:10\u001b[0m \u001b[35mJ5HW6L4KT6\u001b[0m \u001b[34mbuttermilk\u001b[0m save.py[ 191] \u001b[1;30mINFO\u001b[0m Successfully pushed 1 rows to BigQuery table dmrc-analysis.toxicity.flow.\n",
      "\u001b[32m2024-11-04 18:02:10\u001b[0m \u001b[35mJ5HW6L4KT6\u001b[0m \u001b[34mbuttermilk\u001b[0m orchestrator.py[  80] \u001b[1;30mINFO\u001b[0m Agent judger completed job JAoEaLimvYKxN4gRbZZz8Y successfully.\n",
      "\u001b[32m2024-11-04 18:02:10\u001b[0m \u001b[35mJ5HW6L4KT6\u001b[0m \u001b[34mbuttermilk\u001b[0m lc.py[ 196] \u001b[1;30mINFO\u001b[0m Invoked chain with sonnet in 17.10 seconds\n"
     ]
    },
    {
     "name": "stderr",
     "output_type": "stream",
     "text": [
      "I0000 00:00:1730707330.859131 16045583 fork_posix.cc:77] Other threads are currently calling into gRPC, skipping fork() handlers\n",
      "I0000 00:00:1730707331.433147 16045583 fork_posix.cc:77] Other threads are currently calling into gRPC, skipping fork() handlers\n"
     ]
    },
    {
     "name": "stdout",
     "output_type": "stream",
     "text": [
      "\u001b[32m2024-11-04 18:02:12\u001b[0m \u001b[35mJ5HW6L4KT6\u001b[0m \u001b[34mbuttermilk\u001b[0m save.py[ 184] \u001b[1;30mDEBUG\u001b[0m \u001b[32mInserting 1 rows to BigQuery table dmrc-analysis.toxicity.flow.\u001b[0m\n",
      "\u001b[32m2024-11-04 18:02:12\u001b[0m \u001b[35mJ5HW6L4KT6\u001b[0m \u001b[34mbuttermilk\u001b[0m save.py[ 191] \u001b[1;30mINFO\u001b[0m Successfully pushed 1 rows to BigQuery table dmrc-analysis.toxicity.flow.\n",
      "\u001b[32m2024-11-04 18:02:12\u001b[0m \u001b[35mJ5HW6L4KT6\u001b[0m \u001b[34mbuttermilk\u001b[0m orchestrator.py[  80] \u001b[1;30mINFO\u001b[0m Agent judger completed job QRd9TJw7ayN2YEYtVedX3V successfully.\n",
      "\u001b[32m2024-11-04 18:02:12\u001b[0m \u001b[35mJ5HW6L4KT6\u001b[0m \u001b[34mbuttermilk\u001b[0m lc.py[ 185] \u001b[1;30mINFO\u001b[0m Invoking chain with sonnet...\n",
      "\u001b[32m2024-11-04 18:02:12\u001b[0m \u001b[35mJ5HW6L4KT6\u001b[0m \u001b[34mbuttermilk\u001b[0m orchestrator.py[  74] \u001b[1;30mINFO\u001b[0m Starting task for Agent judger with job g5TRhSBoexKWpjwpxyoRQg.\n",
      "\u001b[32m2024-11-04 18:02:12\u001b[0m \u001b[35mJ5HW6L4KT6\u001b[0m \u001b[34mbuttermilk\u001b[0m lc.py[ 185] \u001b[1;30mINFO\u001b[0m Invoking chain with sonnet...\n",
      "\u001b[32m2024-11-04 18:02:12\u001b[0m \u001b[35mJ5HW6L4KT6\u001b[0m \u001b[34mbuttermilk\u001b[0m orchestrator.py[  74] \u001b[1;30mINFO\u001b[0m Starting task for Agent judger with job 4SRGwEoEhFhrxs9GuGgFWj.\n",
      "\u001b[32m2024-11-04 18:02:12\u001b[0m \u001b[35mJ5HW6L4KT6\u001b[0m \u001b[34mbuttermilk\u001b[0m lc.py[ 196] \u001b[1;30mINFO\u001b[0m Invoked chain with gemini15pro in 6.21 seconds\n"
     ]
    },
    {
     "name": "stderr",
     "output_type": "stream",
     "text": [
      "I0000 00:00:1730707332.981499 16045583 fork_posix.cc:77] Other threads are currently calling into gRPC, skipping fork() handlers\n",
      "I0000 00:00:1730707333.420805 16045583 fork_posix.cc:77] Other threads are currently calling into gRPC, skipping fork() handlers\n"
     ]
    },
    {
     "name": "stdout",
     "output_type": "stream",
     "text": [
      "\u001b[32m2024-11-04 18:02:14\u001b[0m \u001b[35mJ5HW6L4KT6\u001b[0m \u001b[34mbuttermilk\u001b[0m save.py[ 184] \u001b[1;30mDEBUG\u001b[0m \u001b[32mInserting 1 rows to BigQuery table dmrc-analysis.toxicity.flow.\u001b[0m\n",
      "\u001b[32m2024-11-04 18:02:15\u001b[0m \u001b[35mJ5HW6L4KT6\u001b[0m \u001b[34mbuttermilk\u001b[0m save.py[ 191] \u001b[1;30mINFO\u001b[0m Successfully pushed 1 rows to BigQuery table dmrc-analysis.toxicity.flow.\n",
      "\u001b[32m2024-11-04 18:02:15\u001b[0m \u001b[35mJ5HW6L4KT6\u001b[0m \u001b[34mbuttermilk\u001b[0m orchestrator.py[  80] \u001b[1;30mINFO\u001b[0m Agent judger completed job fqkvziyfwK38kaQKw3FxEb successfully.\n",
      "\u001b[32m2024-11-04 18:02:15\u001b[0m \u001b[35mJ5HW6L4KT6\u001b[0m \u001b[34mbuttermilk\u001b[0m lc.py[ 196] \u001b[1;30mINFO\u001b[0m Invoked chain with gemini15pro in 10.96 seconds\n"
     ]
    },
    {
     "name": "stderr",
     "output_type": "stream",
     "text": [
      "I0000 00:00:1730707335.065970 16045583 fork_posix.cc:77] Other threads are currently calling into gRPC, skipping fork() handlers\n",
      "I0000 00:00:1730707335.643366 16045583 fork_posix.cc:77] Other threads are currently calling into gRPC, skipping fork() handlers\n"
     ]
    },
    {
     "name": "stdout",
     "output_type": "stream",
     "text": [
      "\u001b[32m2024-11-04 18:02:16\u001b[0m \u001b[35mJ5HW6L4KT6\u001b[0m \u001b[34mbuttermilk\u001b[0m save.py[ 184] \u001b[1;30mDEBUG\u001b[0m \u001b[32mInserting 1 rows to BigQuery table dmrc-analysis.toxicity.flow.\u001b[0m\n",
      "\u001b[32m2024-11-04 18:02:17\u001b[0m \u001b[35mJ5HW6L4KT6\u001b[0m \u001b[34mbuttermilk\u001b[0m save.py[ 191] \u001b[1;30mINFO\u001b[0m Successfully pushed 1 rows to BigQuery table dmrc-analysis.toxicity.flow.\n",
      "\u001b[32m2024-11-04 18:02:17\u001b[0m \u001b[35mJ5HW6L4KT6\u001b[0m \u001b[34mbuttermilk\u001b[0m orchestrator.py[  80] \u001b[1;30mINFO\u001b[0m Agent judger completed job csR8F6opiSnQTwoDngPhUv successfully.\n",
      "\u001b[32m2024-11-04 18:02:17\u001b[0m \u001b[35mJ5HW6L4KT6\u001b[0m \u001b[34mbuttermilk\u001b[0m lc.py[ 196] \u001b[1;30mINFO\u001b[0m Invoked chain with gemini15pro in 17.27 seconds\n"
     ]
    },
    {
     "name": "stderr",
     "output_type": "stream",
     "text": [
      "I0000 00:00:1730707337.226161 16045583 fork_posix.cc:77] Other threads are currently calling into gRPC, skipping fork() handlers\n",
      "I0000 00:00:1730707337.689322 16045583 fork_posix.cc:77] Other threads are currently calling into gRPC, skipping fork() handlers\n"
     ]
    },
    {
     "name": "stdout",
     "output_type": "stream",
     "text": [
      "\u001b[32m2024-11-04 18:02:19\u001b[0m \u001b[35mJ5HW6L4KT6\u001b[0m \u001b[34mbuttermilk\u001b[0m save.py[ 184] \u001b[1;30mDEBUG\u001b[0m \u001b[32mInserting 1 rows to BigQuery table dmrc-analysis.toxicity.flow.\u001b[0m\n",
      "\u001b[32m2024-11-04 18:02:19\u001b[0m \u001b[35mJ5HW6L4KT6\u001b[0m \u001b[34mbuttermilk\u001b[0m save.py[ 191] \u001b[1;30mINFO\u001b[0m Successfully pushed 1 rows to BigQuery table dmrc-analysis.toxicity.flow.\n",
      "\u001b[32m2024-11-04 18:02:19\u001b[0m \u001b[35mJ5HW6L4KT6\u001b[0m \u001b[34mbuttermilk\u001b[0m orchestrator.py[  80] \u001b[1;30mINFO\u001b[0m Agent judger completed job 8J98u2gn6L6X2QLLKrbRCP successfully.\n",
      "\u001b[32m2024-11-04 18:02:19\u001b[0m \u001b[35mJ5HW6L4KT6\u001b[0m \u001b[34mbuttermilk\u001b[0m lc.py[ 196] \u001b[1;30mINFO\u001b[0m Invoked chain with sonnet in 12.59 seconds\n"
     ]
    },
    {
     "name": "stderr",
     "output_type": "stream",
     "text": [
      "I0000 00:00:1730707339.354813 16045583 fork_posix.cc:77] Other threads are currently calling into gRPC, skipping fork() handlers\n",
      "I0000 00:00:1730707339.862119 16045583 fork_posix.cc:77] Other threads are currently calling into gRPC, skipping fork() handlers\n"
     ]
    },
    {
     "name": "stdout",
     "output_type": "stream",
     "text": [
      "\u001b[32m2024-11-04 18:02:21\u001b[0m \u001b[35mJ5HW6L4KT6\u001b[0m \u001b[34mbuttermilk\u001b[0m save.py[ 184] \u001b[1;30mDEBUG\u001b[0m \u001b[32mInserting 1 rows to BigQuery table dmrc-analysis.toxicity.flow.\u001b[0m\n",
      "\u001b[32m2024-11-04 18:02:21\u001b[0m \u001b[35mJ5HW6L4KT6\u001b[0m \u001b[34mbuttermilk\u001b[0m save.py[ 191] \u001b[1;30mINFO\u001b[0m Successfully pushed 1 rows to BigQuery table dmrc-analysis.toxicity.flow.\n",
      "\u001b[32m2024-11-04 18:02:21\u001b[0m \u001b[35mJ5HW6L4KT6\u001b[0m \u001b[34mbuttermilk\u001b[0m orchestrator.py[  80] \u001b[1;30mINFO\u001b[0m Agent judger completed job XD7RZgjeNCYDAzb6jhH9wR successfully.\n",
      "\u001b[32m2024-11-04 18:02:21\u001b[0m \u001b[35mJ5HW6L4KT6\u001b[0m \u001b[34mbuttermilk\u001b[0m lc.py[ 185] \u001b[1;30mINFO\u001b[0m Invoking chain with gemini15pro...\n",
      "\u001b[32m2024-11-04 18:02:21\u001b[0m \u001b[35mJ5HW6L4KT6\u001b[0m \u001b[34mbuttermilk\u001b[0m orchestrator.py[  74] \u001b[1;30mINFO\u001b[0m Starting task for Agent judger with job Pou6bmH7xmLeGcpTeX836T.\n",
      "\u001b[32m2024-11-04 18:02:21\u001b[0m \u001b[35mJ5HW6L4KT6\u001b[0m \u001b[34mbuttermilk\u001b[0m lc.py[ 196] \u001b[1;30mINFO\u001b[0m Invoked chain with sonnet in 12.64 seconds\n"
     ]
    },
    {
     "name": "stderr",
     "output_type": "stream",
     "text": [
      "I0000 00:00:1730707341.449744 16045583 fork_posix.cc:77] Other threads are currently calling into gRPC, skipping fork() handlers\n",
      "I0000 00:00:1730707341.973704 16045583 fork_posix.cc:77] Other threads are currently calling into gRPC, skipping fork() handlers\n"
     ]
    },
    {
     "name": "stdout",
     "output_type": "stream",
     "text": [
      "\u001b[32m2024-11-04 18:02:23\u001b[0m \u001b[35mJ5HW6L4KT6\u001b[0m \u001b[34mbuttermilk\u001b[0m save.py[ 184] \u001b[1;30mDEBUG\u001b[0m \u001b[32mInserting 1 rows to BigQuery table dmrc-analysis.toxicity.flow.\u001b[0m\n",
      "\u001b[32m2024-11-04 18:02:23\u001b[0m \u001b[35mJ5HW6L4KT6\u001b[0m \u001b[34mbuttermilk\u001b[0m save.py[ 191] \u001b[1;30mINFO\u001b[0m Successfully pushed 1 rows to BigQuery table dmrc-analysis.toxicity.flow.\n",
      "\u001b[32m2024-11-04 18:02:23\u001b[0m \u001b[35mJ5HW6L4KT6\u001b[0m \u001b[34mbuttermilk\u001b[0m orchestrator.py[  80] \u001b[1;30mINFO\u001b[0m Agent judger completed job QZRotcS9qHtbd57vpTiwxC successfully.\n",
      "\u001b[32m2024-11-04 18:02:23\u001b[0m \u001b[35mJ5HW6L4KT6\u001b[0m \u001b[34mbuttermilk\u001b[0m lc.py[ 196] \u001b[1;30mINFO\u001b[0m Invoked chain with gemini15pro in 19.33 seconds\n"
     ]
    },
    {
     "name": "stderr",
     "output_type": "stream",
     "text": [
      "I0000 00:00:1730707343.968750 16045583 fork_posix.cc:77] Other threads are currently calling into gRPC, skipping fork() handlers\n",
      "I0000 00:00:1730707344.595420 16045583 fork_posix.cc:77] Other threads are currently calling into gRPC, skipping fork() handlers\n"
     ]
    },
    {
     "name": "stdout",
     "output_type": "stream",
     "text": [
      "\u001b[32m2024-11-04 18:02:26\u001b[0m \u001b[35mJ5HW6L4KT6\u001b[0m \u001b[34mbuttermilk\u001b[0m save.py[ 184] \u001b[1;30mDEBUG\u001b[0m \u001b[32mInserting 1 rows to BigQuery table dmrc-analysis.toxicity.flow.\u001b[0m\n",
      "\u001b[32m2024-11-04 18:02:26\u001b[0m \u001b[35mJ5HW6L4KT6\u001b[0m \u001b[34mbuttermilk\u001b[0m save.py[ 191] \u001b[1;30mINFO\u001b[0m Successfully pushed 1 rows to BigQuery table dmrc-analysis.toxicity.flow.\n",
      "\u001b[32m2024-11-04 18:02:26\u001b[0m \u001b[35mJ5HW6L4KT6\u001b[0m \u001b[34mbuttermilk\u001b[0m orchestrator.py[  80] \u001b[1;30mINFO\u001b[0m Agent judger completed job YfDt7Ee95qbNS5x7JbYJeg successfully.\n",
      "\u001b[32m2024-11-04 18:02:26\u001b[0m \u001b[35mJ5HW6L4KT6\u001b[0m \u001b[34mbuttermilk\u001b[0m lc.py[ 185] \u001b[1;30mINFO\u001b[0m Invoking chain with gemini15pro...\n",
      "\u001b[32m2024-11-04 18:02:26\u001b[0m \u001b[35mJ5HW6L4KT6\u001b[0m \u001b[34mbuttermilk\u001b[0m orchestrator.py[  74] \u001b[1;30mINFO\u001b[0m Starting task for Agent judger with job QwnaE6WkPqznwSkxZkjC82.\n",
      "\u001b[32m2024-11-04 18:02:26\u001b[0m \u001b[35mJ5HW6L4KT6\u001b[0m \u001b[34mbuttermilk\u001b[0m lc.py[ 185] \u001b[1;30mINFO\u001b[0m Invoking chain with gemini15pro...\n",
      "\u001b[32m2024-11-04 18:02:26\u001b[0m \u001b[35mJ5HW6L4KT6\u001b[0m \u001b[34mbuttermilk\u001b[0m orchestrator.py[  74] \u001b[1;30mINFO\u001b[0m Starting task for Agent judger with job 48k8GGqKZWhtLYWTtKwtYm.\n",
      "\u001b[32m2024-11-04 18:02:26\u001b[0m \u001b[35mJ5HW6L4KT6\u001b[0m \u001b[34mbuttermilk\u001b[0m lc.py[ 185] \u001b[1;30mINFO\u001b[0m Invoking chain with sonnet...\n",
      "\u001b[32m2024-11-04 18:02:26\u001b[0m \u001b[35mJ5HW6L4KT6\u001b[0m \u001b[34mbuttermilk\u001b[0m orchestrator.py[  74] \u001b[1;30mINFO\u001b[0m Starting task for Agent judger with job MUmt57sHuKugRq2DEoJBnt.\n",
      "\u001b[32m2024-11-04 18:02:26\u001b[0m \u001b[35mJ5HW6L4KT6\u001b[0m \u001b[34mbuttermilk\u001b[0m lc.py[ 185] \u001b[1;30mINFO\u001b[0m Invoking chain with sonnet...\n",
      "\u001b[32m2024-11-04 18:02:26\u001b[0m \u001b[35mJ5HW6L4KT6\u001b[0m \u001b[34mbuttermilk\u001b[0m orchestrator.py[  74] \u001b[1;30mINFO\u001b[0m Starting task for Agent judger with job VUwNk7G5mF4KDgr3swWRbE.\n",
      "\u001b[32m2024-11-04 18:02:26\u001b[0m \u001b[35mJ5HW6L4KT6\u001b[0m \u001b[34mbuttermilk\u001b[0m lc.py[ 185] \u001b[1;30mINFO\u001b[0m Invoking chain with gemini15pro...\n",
      "\u001b[32m2024-11-04 18:02:26\u001b[0m \u001b[35mJ5HW6L4KT6\u001b[0m \u001b[34mbuttermilk\u001b[0m orchestrator.py[  74] \u001b[1;30mINFO\u001b[0m Starting task for Agent judger with job VNJMdYhtF8PhTcoKf2XtWo.\n",
      "\u001b[32m2024-11-04 18:02:26\u001b[0m \u001b[35mJ5HW6L4KT6\u001b[0m \u001b[34mbuttermilk\u001b[0m lc.py[ 196] \u001b[1;30mINFO\u001b[0m Invoked chain with sonnet in 13.48 seconds\n"
     ]
    },
    {
     "name": "stderr",
     "output_type": "stream",
     "text": [
      "I0000 00:00:1730707346.425248 16045583 fork_posix.cc:77] Other threads are currently calling into gRPC, skipping fork() handlers\n",
      "I0000 00:00:1730707346.819073 16045583 fork_posix.cc:77] Other threads are currently calling into gRPC, skipping fork() handlers\n"
     ]
    },
    {
     "name": "stdout",
     "output_type": "stream",
     "text": [
      "\u001b[32m2024-11-04 18:02:28\u001b[0m \u001b[35mJ5HW6L4KT6\u001b[0m \u001b[34mbuttermilk\u001b[0m save.py[ 184] \u001b[1;30mDEBUG\u001b[0m \u001b[32mInserting 1 rows to BigQuery table dmrc-analysis.toxicity.flow.\u001b[0m\n",
      "\u001b[32m2024-11-04 18:02:28\u001b[0m \u001b[35mJ5HW6L4KT6\u001b[0m \u001b[34mbuttermilk\u001b[0m save.py[ 191] \u001b[1;30mINFO\u001b[0m Successfully pushed 1 rows to BigQuery table dmrc-analysis.toxicity.flow.\n",
      "\u001b[32m2024-11-04 18:02:28\u001b[0m \u001b[35mJ5HW6L4KT6\u001b[0m \u001b[34mbuttermilk\u001b[0m orchestrator.py[  80] \u001b[1;30mINFO\u001b[0m Agent judger completed job 5rMt9ZNpRhcmxogyxEttDh successfully.\n",
      "\u001b[32m2024-11-04 18:02:28\u001b[0m \u001b[35mJ5HW6L4KT6\u001b[0m \u001b[34mbuttermilk\u001b[0m lc.py[ 196] \u001b[1;30mINFO\u001b[0m Invoked chain with sonnet in 15.46 seconds\n"
     ]
    },
    {
     "name": "stderr",
     "output_type": "stream",
     "text": [
      "I0000 00:00:1730707348.410313 16045583 fork_posix.cc:77] Other threads are currently calling into gRPC, skipping fork() handlers\n",
      "I0000 00:00:1730707348.817567 16045583 fork_posix.cc:77] Other threads are currently calling into gRPC, skipping fork() handlers\n"
     ]
    },
    {
     "name": "stdout",
     "output_type": "stream",
     "text": [
      "\u001b[32m2024-11-04 18:02:30\u001b[0m \u001b[35mJ5HW6L4KT6\u001b[0m \u001b[34mbuttermilk\u001b[0m save.py[ 184] \u001b[1;30mDEBUG\u001b[0m \u001b[32mInserting 1 rows to BigQuery table dmrc-analysis.toxicity.flow.\u001b[0m\n",
      "\u001b[32m2024-11-04 18:02:30\u001b[0m \u001b[35mJ5HW6L4KT6\u001b[0m \u001b[34mbuttermilk\u001b[0m save.py[ 191] \u001b[1;30mINFO\u001b[0m Successfully pushed 1 rows to BigQuery table dmrc-analysis.toxicity.flow.\n",
      "\u001b[32m2024-11-04 18:02:30\u001b[0m \u001b[35mJ5HW6L4KT6\u001b[0m \u001b[34mbuttermilk\u001b[0m orchestrator.py[  80] \u001b[1;30mINFO\u001b[0m Agent judger completed job 259AkbnfQUcNLGowjSryT7 successfully.\n",
      "\u001b[32m2024-11-04 18:02:30\u001b[0m \u001b[35mJ5HW6L4KT6\u001b[0m \u001b[34mbuttermilk\u001b[0m lc.py[ 185] \u001b[1;30mINFO\u001b[0m Invoking chain with sonnet...\n",
      "\u001b[32m2024-11-04 18:02:30\u001b[0m \u001b[35mJ5HW6L4KT6\u001b[0m \u001b[34mbuttermilk\u001b[0m orchestrator.py[  74] \u001b[1;30mINFO\u001b[0m Starting task for Agent judger with job SG4VtE7cGwCZrA3A49Q5zw.\n",
      "\u001b[32m2024-11-04 18:02:30\u001b[0m \u001b[35mJ5HW6L4KT6\u001b[0m \u001b[34mbuttermilk\u001b[0m orchestrator.py[  74] \u001b[1;30mINFO\u001b[0m Starting task for Agent judger with job nwoS6osfw7Bt5cbbw3t4Gn.\n",
      "\u001b[32m2024-11-04 18:02:30\u001b[0m \u001b[35mJ5HW6L4KT6\u001b[0m \u001b[34mbuttermilk\u001b[0m lc.py[ 196] \u001b[1;30mINFO\u001b[0m Invoked chain with gpt4o in 65.86 seconds\n"
     ]
    },
    {
     "name": "stderr",
     "output_type": "stream",
     "text": [
      "I0000 00:00:1730707350.378671 16045583 fork_posix.cc:77] Other threads are currently calling into gRPC, skipping fork() handlers\n",
      "I0000 00:00:1730707350.788971 16045583 fork_posix.cc:77] Other threads are currently calling into gRPC, skipping fork() handlers\n"
     ]
    },
    {
     "name": "stdout",
     "output_type": "stream",
     "text": [
      "\u001b[32m2024-11-04 18:02:31\u001b[0m \u001b[35mJ5HW6L4KT6\u001b[0m \u001b[34mbuttermilk\u001b[0m save.py[ 184] \u001b[1;30mDEBUG\u001b[0m \u001b[32mInserting 1 rows to BigQuery table dmrc-analysis.toxicity.flow.\u001b[0m\n",
      "\u001b[32m2024-11-04 18:02:32\u001b[0m \u001b[35mJ5HW6L4KT6\u001b[0m \u001b[34mbuttermilk\u001b[0m save.py[ 191] \u001b[1;30mINFO\u001b[0m Successfully pushed 1 rows to BigQuery table dmrc-analysis.toxicity.flow.\n",
      "\u001b[32m2024-11-04 18:02:32\u001b[0m \u001b[35mJ5HW6L4KT6\u001b[0m \u001b[34mbuttermilk\u001b[0m orchestrator.py[  80] \u001b[1;30mINFO\u001b[0m Agent judger completed job hu8wSjGDAqe7GmtKqPdj3q successfully.\n",
      "\u001b[32m2024-11-04 18:02:32\u001b[0m \u001b[35mJ5HW6L4KT6\u001b[0m \u001b[34mbuttermilk\u001b[0m lc.py[ 196] \u001b[1;30mINFO\u001b[0m Invoked chain with gpt4o in 36.41 seconds\n"
     ]
    },
    {
     "name": "stderr",
     "output_type": "stream",
     "text": [
      "I0000 00:00:1730707352.302650 16045583 fork_posix.cc:77] Other threads are currently calling into gRPC, skipping fork() handlers\n",
      "I0000 00:00:1730707352.814909 16045583 fork_posix.cc:77] Other threads are currently calling into gRPC, skipping fork() handlers\n"
     ]
    },
    {
     "name": "stdout",
     "output_type": "stream",
     "text": [
      "\u001b[32m2024-11-04 18:02:34\u001b[0m \u001b[35mJ5HW6L4KT6\u001b[0m \u001b[34mbuttermilk\u001b[0m save.py[ 184] \u001b[1;30mDEBUG\u001b[0m \u001b[32mInserting 1 rows to BigQuery table dmrc-analysis.toxicity.flow.\u001b[0m\n",
      "\u001b[32m2024-11-04 18:02:34\u001b[0m \u001b[35mJ5HW6L4KT6\u001b[0m \u001b[34mbuttermilk\u001b[0m save.py[ 191] \u001b[1;30mINFO\u001b[0m Successfully pushed 1 rows to BigQuery table dmrc-analysis.toxicity.flow.\n",
      "\u001b[32m2024-11-04 18:02:34\u001b[0m \u001b[35mJ5HW6L4KT6\u001b[0m \u001b[34mbuttermilk\u001b[0m orchestrator.py[  80] \u001b[1;30mINFO\u001b[0m Agent judger completed job dtKiNAWyVznMhJohxYWqC8 successfully.\n",
      "\u001b[32m2024-11-04 18:02:34\u001b[0m \u001b[35mJ5HW6L4KT6\u001b[0m \u001b[34mbuttermilk\u001b[0m lc.py[ 196] \u001b[1;30mINFO\u001b[0m Invoked chain with gpt4o in 65.79 seconds\n"
     ]
    },
    {
     "name": "stderr",
     "output_type": "stream",
     "text": [
      "I0000 00:00:1730707354.273072 16045583 fork_posix.cc:77] Other threads are currently calling into gRPC, skipping fork() handlers\n",
      "I0000 00:00:1730707354.682386 16045583 fork_posix.cc:77] Other threads are currently calling into gRPC, skipping fork() handlers\n"
     ]
    },
    {
     "name": "stdout",
     "output_type": "stream",
     "text": [
      "\u001b[32m2024-11-04 18:02:35\u001b[0m \u001b[35mJ5HW6L4KT6\u001b[0m \u001b[34mbuttermilk\u001b[0m save.py[ 184] \u001b[1;30mDEBUG\u001b[0m \u001b[32mInserting 1 rows to BigQuery table dmrc-analysis.toxicity.flow.\u001b[0m\n",
      "\u001b[32m2024-11-04 18:02:36\u001b[0m \u001b[35mJ5HW6L4KT6\u001b[0m \u001b[34mbuttermilk\u001b[0m save.py[ 191] \u001b[1;30mINFO\u001b[0m Successfully pushed 1 rows to BigQuery table dmrc-analysis.toxicity.flow.\n",
      "\u001b[32m2024-11-04 18:02:36\u001b[0m \u001b[35mJ5HW6L4KT6\u001b[0m \u001b[34mbuttermilk\u001b[0m orchestrator.py[  80] \u001b[1;30mINFO\u001b[0m Agent judger completed job M8h6gRNdHVHzCoi6vobxs4 successfully.\n",
      "\u001b[32m2024-11-04 18:02:36\u001b[0m \u001b[35mJ5HW6L4KT6\u001b[0m \u001b[34mbuttermilk\u001b[0m lc.py[ 185] \u001b[1;30mINFO\u001b[0m Invoking chain with gpt4o...\n",
      "\u001b[32m2024-11-04 18:02:36\u001b[0m \u001b[35mJ5HW6L4KT6\u001b[0m \u001b[34mbuttermilk\u001b[0m orchestrator.py[  74] \u001b[1;30mINFO\u001b[0m Starting task for Agent judger with job UYTBkR8GuQepPirHHSHENV.\n",
      "\u001b[32m2024-11-04 18:02:36\u001b[0m \u001b[35mJ5HW6L4KT6\u001b[0m \u001b[34mbuttermilk\u001b[0m lc.py[ 185] \u001b[1;30mINFO\u001b[0m Invoking chain with gpt4o...\n",
      "\u001b[32m2024-11-04 18:02:36\u001b[0m \u001b[35mJ5HW6L4KT6\u001b[0m \u001b[34mbuttermilk\u001b[0m orchestrator.py[  74] \u001b[1;30mINFO\u001b[0m Starting task for Agent judger with job YrnmVNjh6hzoLt5THMiAMG.\n",
      "\u001b[32m2024-11-04 18:02:36\u001b[0m \u001b[35mJ5HW6L4KT6\u001b[0m \u001b[34mbuttermilk\u001b[0m orchestrator.py[  74] \u001b[1;30mINFO\u001b[0m Starting task for Agent judger with job LMJJEqsEBtGAQnbQTAHhLN.\n",
      "\u001b[32m2024-11-04 18:02:36\u001b[0m \u001b[35mJ5HW6L4KT6\u001b[0m \u001b[34mbuttermilk\u001b[0m lc.py[ 196] \u001b[1;30mINFO\u001b[0m Invoked chain with sonnet in 9.97 seconds\n"
     ]
    },
    {
     "name": "stderr",
     "output_type": "stream",
     "text": [
      "I0000 00:00:1730707356.239670 16045583 fork_posix.cc:77] Other threads are currently calling into gRPC, skipping fork() handlers\n",
      "I0000 00:00:1730707356.725283 16045583 fork_posix.cc:77] Other threads are currently calling into gRPC, skipping fork() handlers\n"
     ]
    },
    {
     "name": "stdout",
     "output_type": "stream",
     "text": [
      "\u001b[32m2024-11-04 18:02:37\u001b[0m \u001b[35mJ5HW6L4KT6\u001b[0m \u001b[34mbuttermilk\u001b[0m save.py[ 184] \u001b[1;30mDEBUG\u001b[0m \u001b[32mInserting 1 rows to BigQuery table dmrc-analysis.toxicity.flow.\u001b[0m\n",
      "\u001b[32m2024-11-04 18:02:38\u001b[0m \u001b[35mJ5HW6L4KT6\u001b[0m \u001b[34mbuttermilk\u001b[0m save.py[ 191] \u001b[1;30mINFO\u001b[0m Successfully pushed 1 rows to BigQuery table dmrc-analysis.toxicity.flow.\n",
      "\u001b[32m2024-11-04 18:02:38\u001b[0m \u001b[35mJ5HW6L4KT6\u001b[0m \u001b[34mbuttermilk\u001b[0m orchestrator.py[  80] \u001b[1;30mINFO\u001b[0m Agent judger completed job E89pxJHLEC9S3QN7ozKp2g successfully.\n",
      "\u001b[32m2024-11-04 18:02:38\u001b[0m \u001b[35mJ5HW6L4KT6\u001b[0m \u001b[34mbuttermilk\u001b[0m lc.py[ 196] \u001b[1;30mINFO\u001b[0m Invoked chain with sonnet in 11.92 seconds\n"
     ]
    },
    {
     "name": "stderr",
     "output_type": "stream",
     "text": [
      "I0000 00:00:1730707358.721801 16045583 fork_posix.cc:77] Other threads are currently calling into gRPC, skipping fork() handlers\n",
      "I0000 00:00:1730707359.128041 16045583 fork_posix.cc:77] Other threads are currently calling into gRPC, skipping fork() handlers\n"
     ]
    },
    {
     "name": "stdout",
     "output_type": "stream",
     "text": [
      "\u001b[32m2024-11-04 18:02:40\u001b[0m \u001b[35mJ5HW6L4KT6\u001b[0m \u001b[34mbuttermilk\u001b[0m save.py[ 184] \u001b[1;30mDEBUG\u001b[0m \u001b[32mInserting 1 rows to BigQuery table dmrc-analysis.toxicity.flow.\u001b[0m\n",
      "\u001b[32m2024-11-04 18:02:40\u001b[0m \u001b[35mJ5HW6L4KT6\u001b[0m \u001b[34mbuttermilk\u001b[0m save.py[ 191] \u001b[1;30mINFO\u001b[0m Successfully pushed 1 rows to BigQuery table dmrc-analysis.toxicity.flow.\n",
      "\u001b[32m2024-11-04 18:02:40\u001b[0m \u001b[35mJ5HW6L4KT6\u001b[0m \u001b[34mbuttermilk\u001b[0m orchestrator.py[  80] \u001b[1;30mINFO\u001b[0m Agent judger completed job UoatNfH5mrHegYhfTTtGcB successfully.\n",
      "\u001b[32m2024-11-04 18:02:40\u001b[0m \u001b[35mJ5HW6L4KT6\u001b[0m \u001b[34mbuttermilk\u001b[0m lc.py[ 196] \u001b[1;30mINFO\u001b[0m Invoked chain with gemini15pro in 14.32 seconds\n"
     ]
    },
    {
     "name": "stderr",
     "output_type": "stream",
     "text": [
      "I0000 00:00:1730707360.592218 16045583 fork_posix.cc:77] Other threads are currently calling into gRPC, skipping fork() handlers\n",
      "I0000 00:00:1730707361.049971 16045583 fork_posix.cc:77] Other threads are currently calling into gRPC, skipping fork() handlers\n"
     ]
    },
    {
     "name": "stdout",
     "output_type": "stream",
     "text": [
      "\u001b[32m2024-11-04 18:02:42\u001b[0m \u001b[35mJ5HW6L4KT6\u001b[0m \u001b[34mbuttermilk\u001b[0m save.py[ 184] \u001b[1;30mDEBUG\u001b[0m \u001b[32mInserting 1 rows to BigQuery table dmrc-analysis.toxicity.flow.\u001b[0m\n",
      "\u001b[32m2024-11-04 18:02:42\u001b[0m \u001b[35mJ5HW6L4KT6\u001b[0m \u001b[34mbuttermilk\u001b[0m save.py[ 191] \u001b[1;30mINFO\u001b[0m Successfully pushed 1 rows to BigQuery table dmrc-analysis.toxicity.flow.\n",
      "\u001b[32m2024-11-04 18:02:42\u001b[0m \u001b[35mJ5HW6L4KT6\u001b[0m \u001b[34mbuttermilk\u001b[0m orchestrator.py[  80] \u001b[1;30mINFO\u001b[0m Agent judger completed job g5TRhSBoexKWpjwpxyoRQg successfully.\n",
      "\u001b[32m2024-11-04 18:02:42\u001b[0m \u001b[35mJ5HW6L4KT6\u001b[0m \u001b[34mbuttermilk\u001b[0m lc.py[ 196] \u001b[1;30mINFO\u001b[0m Invoked chain with gemini15pro in 16.22 seconds\n"
     ]
    },
    {
     "name": "stderr",
     "output_type": "stream",
     "text": [
      "I0000 00:00:1730707362.491899 16045583 fork_posix.cc:77] Other threads are currently calling into gRPC, skipping fork() handlers\n",
      "I0000 00:00:1730707362.891229 16045583 fork_posix.cc:77] Other threads are currently calling into gRPC, skipping fork() handlers\n"
     ]
    },
    {
     "name": "stdout",
     "output_type": "stream",
     "text": [
      "\u001b[32m2024-11-04 18:02:44\u001b[0m \u001b[35mJ5HW6L4KT6\u001b[0m \u001b[34mbuttermilk\u001b[0m save.py[ 184] \u001b[1;30mDEBUG\u001b[0m \u001b[32mInserting 1 rows to BigQuery table dmrc-analysis.toxicity.flow.\u001b[0m\n",
      "\u001b[32m2024-11-04 18:02:44\u001b[0m \u001b[35mJ5HW6L4KT6\u001b[0m \u001b[34mbuttermilk\u001b[0m save.py[ 191] \u001b[1;30mINFO\u001b[0m Successfully pushed 1 rows to BigQuery table dmrc-analysis.toxicity.flow.\n",
      "\u001b[32m2024-11-04 18:02:44\u001b[0m \u001b[35mJ5HW6L4KT6\u001b[0m \u001b[34mbuttermilk\u001b[0m orchestrator.py[  80] \u001b[1;30mINFO\u001b[0m Agent judger completed job Pou6bmH7xmLeGcpTeX836T successfully.\n",
      "\u001b[32m2024-11-04 18:02:44\u001b[0m \u001b[35mJ5HW6L4KT6\u001b[0m \u001b[34mbuttermilk\u001b[0m lc.py[ 196] \u001b[1;30mINFO\u001b[0m Invoked chain with gemini15pro in 18.15 seconds\n"
     ]
    },
    {
     "name": "stderr",
     "output_type": "stream",
     "text": [
      "I0000 00:00:1730707364.410454 16045583 fork_posix.cc:77] Other threads are currently calling into gRPC, skipping fork() handlers\n",
      "I0000 00:00:1730707364.824402 16045583 fork_posix.cc:77] Other threads are currently calling into gRPC, skipping fork() handlers\n"
     ]
    },
    {
     "name": "stdout",
     "output_type": "stream",
     "text": [
      "\u001b[32m2024-11-04 18:02:46\u001b[0m \u001b[35mJ5HW6L4KT6\u001b[0m \u001b[34mbuttermilk\u001b[0m save.py[ 184] \u001b[1;30mDEBUG\u001b[0m \u001b[32mInserting 1 rows to BigQuery table dmrc-analysis.toxicity.flow.\u001b[0m\n",
      "\u001b[32m2024-11-04 18:02:46\u001b[0m \u001b[35mJ5HW6L4KT6\u001b[0m \u001b[34mbuttermilk\u001b[0m save.py[ 191] \u001b[1;30mINFO\u001b[0m Successfully pushed 1 rows to BigQuery table dmrc-analysis.toxicity.flow.\n",
      "\u001b[32m2024-11-04 18:02:46\u001b[0m \u001b[35mJ5HW6L4KT6\u001b[0m \u001b[34mbuttermilk\u001b[0m orchestrator.py[  80] \u001b[1;30mINFO\u001b[0m Agent judger completed job 4SRGwEoEhFhrxs9GuGgFWj successfully.\n",
      "\u001b[32m2024-11-04 18:02:46\u001b[0m \u001b[35mJ5HW6L4KT6\u001b[0m \u001b[34mbuttermilk\u001b[0m lc.py[ 196] \u001b[1;30mINFO\u001b[0m Invoked chain with gemini15pro in 24.90 seconds\n"
     ]
    },
    {
     "name": "stderr",
     "output_type": "stream",
     "text": [
      "I0000 00:00:1730707366.350144 16045583 fork_posix.cc:77] Other threads are currently calling into gRPC, skipping fork() handlers\n",
      "I0000 00:00:1730707367.239766 16045583 fork_posix.cc:77] Other threads are currently calling into gRPC, skipping fork() handlers\n"
     ]
    },
    {
     "name": "stdout",
     "output_type": "stream",
     "text": [
      "\u001b[32m2024-11-04 18:02:48\u001b[0m \u001b[35mJ5HW6L4KT6\u001b[0m \u001b[34mbuttermilk\u001b[0m save.py[ 184] \u001b[1;30mDEBUG\u001b[0m \u001b[32mInserting 1 rows to BigQuery table dmrc-analysis.toxicity.flow.\u001b[0m\n",
      "\u001b[32m2024-11-04 18:02:48\u001b[0m \u001b[35mJ5HW6L4KT6\u001b[0m \u001b[34mbuttermilk\u001b[0m save.py[ 191] \u001b[1;30mINFO\u001b[0m Successfully pushed 1 rows to BigQuery table dmrc-analysis.toxicity.flow.\n",
      "\u001b[32m2024-11-04 18:02:48\u001b[0m \u001b[35mJ5HW6L4KT6\u001b[0m \u001b[34mbuttermilk\u001b[0m orchestrator.py[  80] \u001b[1;30mINFO\u001b[0m Agent judger completed job 7goL8qXgHnbsNEZmQgyE2c successfully.\n",
      "\u001b[32m2024-11-04 18:02:48\u001b[0m \u001b[35mJ5HW6L4KT6\u001b[0m \u001b[34mbuttermilk\u001b[0m orchestrator.py[  74] \u001b[1;30mINFO\u001b[0m Starting task for Agent judger with job jd2wVgAMzovdJ7ccAu7iSB.\n",
      "\u001b[32m2024-11-04 18:02:48\u001b[0m \u001b[35mJ5HW6L4KT6\u001b[0m \u001b[34mbuttermilk\u001b[0m orchestrator.py[  74] \u001b[1;30mINFO\u001b[0m Starting task for Agent judger with job LbHBtrpAsS4zH5TfJDSVxG.\n",
      "\u001b[32m2024-11-04 18:02:48\u001b[0m \u001b[35mJ5HW6L4KT6\u001b[0m \u001b[34mbuttermilk\u001b[0m lc.py[ 185] \u001b[1;30mINFO\u001b[0m Invoking chain with gemini15pro...\n",
      "\u001b[32m2024-11-04 18:02:48\u001b[0m \u001b[35mJ5HW6L4KT6\u001b[0m \u001b[34mbuttermilk\u001b[0m lc.py[ 185] \u001b[1;30mINFO\u001b[0m Invoking chain with gemini15pro...\n",
      "\u001b[32m2024-11-04 18:02:48\u001b[0m \u001b[35mJ5HW6L4KT6\u001b[0m \u001b[34mbuttermilk\u001b[0m lc.py[ 185] \u001b[1;30mINFO\u001b[0m Invoking chain with gemini15pro...\n",
      "\u001b[32m2024-11-04 18:02:48\u001b[0m \u001b[35mJ5HW6L4KT6\u001b[0m \u001b[34mbuttermilk\u001b[0m lc.py[ 185] \u001b[1;30mINFO\u001b[0m Invoking chain with gemini15pro...\n",
      "\u001b[32m2024-11-04 18:02:48\u001b[0m \u001b[35mJ5HW6L4KT6\u001b[0m \u001b[34mbuttermilk\u001b[0m lc.py[ 196] \u001b[1;30mINFO\u001b[0m Invoked chain with gpt4o in 44.66 seconds\n"
     ]
    },
    {
     "name": "stderr",
     "output_type": "stream",
     "text": [
      "I0000 00:00:1730707368.759715 16045583 fork_posix.cc:77] Other threads are currently calling into gRPC, skipping fork() handlers\n",
      "I0000 00:00:1730707369.227569 16045583 fork_posix.cc:77] Other threads are currently calling into gRPC, skipping fork() handlers\n"
     ]
    },
    {
     "name": "stdout",
     "output_type": "stream",
     "text": [
      "\u001b[32m2024-11-04 18:02:50\u001b[0m \u001b[35mJ5HW6L4KT6\u001b[0m \u001b[34mbuttermilk\u001b[0m save.py[ 184] \u001b[1;30mDEBUG\u001b[0m \u001b[32mInserting 1 rows to BigQuery table dmrc-analysis.toxicity.flow.\u001b[0m\n",
      "\u001b[32m2024-11-04 18:02:50\u001b[0m \u001b[35mJ5HW6L4KT6\u001b[0m \u001b[34mbuttermilk\u001b[0m save.py[ 191] \u001b[1;30mINFO\u001b[0m Successfully pushed 1 rows to BigQuery table dmrc-analysis.toxicity.flow.\n",
      "\u001b[32m2024-11-04 18:02:50\u001b[0m \u001b[35mJ5HW6L4KT6\u001b[0m \u001b[34mbuttermilk\u001b[0m orchestrator.py[  80] \u001b[1;30mINFO\u001b[0m Agent judger completed job BTiAftn5HNTE5TMhHij9Y8 successfully.\n",
      "\u001b[32m2024-11-04 18:02:50\u001b[0m \u001b[35mJ5HW6L4KT6\u001b[0m \u001b[34mbuttermilk\u001b[0m lc.py[ 196] \u001b[1;30mINFO\u001b[0m Invoked chain with sonnet in 20.59 seconds\n"
     ]
    },
    {
     "name": "stderr",
     "output_type": "stream",
     "text": [
      "I0000 00:00:1730707371.503250 16045583 fork_posix.cc:77] Other threads are currently calling into gRPC, skipping fork() handlers\n",
      "I0000 00:00:1730707371.951609 16045583 fork_posix.cc:77] Other threads are currently calling into gRPC, skipping fork() handlers\n"
     ]
    },
    {
     "name": "stdout",
     "output_type": "stream",
     "text": [
      "\u001b[32m2024-11-04 18:02:53\u001b[0m \u001b[35mJ5HW6L4KT6\u001b[0m \u001b[34mbuttermilk\u001b[0m save.py[ 184] \u001b[1;30mDEBUG\u001b[0m \u001b[32mInserting 1 rows to BigQuery table dmrc-analysis.toxicity.flow.\u001b[0m\n",
      "\u001b[32m2024-11-04 18:02:53\u001b[0m \u001b[35mJ5HW6L4KT6\u001b[0m \u001b[34mbuttermilk\u001b[0m save.py[ 191] \u001b[1;30mINFO\u001b[0m Successfully pushed 1 rows to BigQuery table dmrc-analysis.toxicity.flow.\n",
      "\u001b[32m2024-11-04 18:02:53\u001b[0m \u001b[35mJ5HW6L4KT6\u001b[0m \u001b[34mbuttermilk\u001b[0m orchestrator.py[  80] \u001b[1;30mINFO\u001b[0m Agent judger completed job QEHPqXvJnDXDpTMfMGCvvK successfully.\n",
      "\u001b[32m2024-11-04 18:02:53\u001b[0m \u001b[35mJ5HW6L4KT6\u001b[0m \u001b[34mbuttermilk\u001b[0m lc.py[ 196] \u001b[1;30mINFO\u001b[0m Invoked chain with gpt4o in 17.27 seconds\n"
     ]
    },
    {
     "name": "stderr",
     "output_type": "stream",
     "text": [
      "I0000 00:00:1730707373.459516 16045583 fork_posix.cc:77] Other threads are currently calling into gRPC, skipping fork() handlers\n",
      "I0000 00:00:1730707373.778910 16045583 fork_posix.cc:77] Other threads are currently calling into gRPC, skipping fork() handlers\n"
     ]
    },
    {
     "name": "stdout",
     "output_type": "stream",
     "text": [
      "\u001b[32m2024-11-04 18:02:54\u001b[0m \u001b[35mJ5HW6L4KT6\u001b[0m \u001b[34mbuttermilk\u001b[0m save.py[ 184] \u001b[1;30mDEBUG\u001b[0m \u001b[32mInserting 1 rows to BigQuery table dmrc-analysis.toxicity.flow.\u001b[0m\n",
      "\u001b[32m2024-11-04 18:02:55\u001b[0m \u001b[35mJ5HW6L4KT6\u001b[0m \u001b[34mbuttermilk\u001b[0m save.py[ 191] \u001b[1;30mINFO\u001b[0m Successfully pushed 1 rows to BigQuery table dmrc-analysis.toxicity.flow.\n",
      "\u001b[32m2024-11-04 18:02:55\u001b[0m \u001b[35mJ5HW6L4KT6\u001b[0m \u001b[34mbuttermilk\u001b[0m orchestrator.py[  80] \u001b[1;30mINFO\u001b[0m Agent judger completed job ktyHVzJQY2Qtqq83bLphRe successfully.\n",
      "\u001b[32m2024-11-04 18:02:55\u001b[0m \u001b[35mJ5HW6L4KT6\u001b[0m \u001b[34mbuttermilk\u001b[0m lc.py[ 196] \u001b[1;30mINFO\u001b[0m Invoked chain with gemini15pro in 6.50 seconds\n"
     ]
    },
    {
     "name": "stderr",
     "output_type": "stream",
     "text": [
      "I0000 00:00:1730707375.251889 16045583 fork_posix.cc:77] Other threads are currently calling into gRPC, skipping fork() handlers\n",
      "I0000 00:00:1730707375.803226 16045583 fork_posix.cc:77] Other threads are currently calling into gRPC, skipping fork() handlers\n"
     ]
    },
    {
     "name": "stdout",
     "output_type": "stream",
     "text": [
      "\u001b[32m2024-11-04 18:02:56\u001b[0m \u001b[35mJ5HW6L4KT6\u001b[0m \u001b[34mbuttermilk\u001b[0m save.py[ 184] \u001b[1;30mDEBUG\u001b[0m \u001b[32mInserting 1 rows to BigQuery table dmrc-analysis.toxicity.flow.\u001b[0m\n",
      "\u001b[32m2024-11-04 18:02:57\u001b[0m \u001b[35mJ5HW6L4KT6\u001b[0m \u001b[34mbuttermilk\u001b[0m save.py[ 191] \u001b[1;30mINFO\u001b[0m Successfully pushed 1 rows to BigQuery table dmrc-analysis.toxicity.flow.\n",
      "\u001b[32m2024-11-04 18:02:57\u001b[0m \u001b[35mJ5HW6L4KT6\u001b[0m \u001b[34mbuttermilk\u001b[0m orchestrator.py[  80] \u001b[1;30mINFO\u001b[0m Agent judger completed job QwnaE6WkPqznwSkxZkjC82 successfully.\n",
      "\u001b[32m2024-11-04 18:02:57\u001b[0m \u001b[35mJ5HW6L4KT6\u001b[0m \u001b[34mbuttermilk\u001b[0m lc.py[ 196] \u001b[1;30mINFO\u001b[0m Invoked chain with gemini15pro in 8.50 seconds\n"
     ]
    },
    {
     "name": "stderr",
     "output_type": "stream",
     "text": [
      "I0000 00:00:1730707377.277998 16045583 fork_posix.cc:77] Other threads are currently calling into gRPC, skipping fork() handlers\n",
      "I0000 00:00:1730707377.721530 16045583 fork_posix.cc:77] Other threads are currently calling into gRPC, skipping fork() handlers\n"
     ]
    },
    {
     "name": "stdout",
     "output_type": "stream",
     "text": [
      "\u001b[32m2024-11-04 18:02:58\u001b[0m \u001b[35mJ5HW6L4KT6\u001b[0m \u001b[34mbuttermilk\u001b[0m save.py[ 184] \u001b[1;30mDEBUG\u001b[0m \u001b[32mInserting 1 rows to BigQuery table dmrc-analysis.toxicity.flow.\u001b[0m\n",
      "\u001b[32m2024-11-04 18:02:59\u001b[0m \u001b[35mJ5HW6L4KT6\u001b[0m \u001b[34mbuttermilk\u001b[0m save.py[ 191] \u001b[1;30mINFO\u001b[0m Successfully pushed 1 rows to BigQuery table dmrc-analysis.toxicity.flow.\n",
      "\u001b[32m2024-11-04 18:02:59\u001b[0m \u001b[35mJ5HW6L4KT6\u001b[0m \u001b[34mbuttermilk\u001b[0m orchestrator.py[  80] \u001b[1;30mINFO\u001b[0m Agent judger completed job 48k8GGqKZWhtLYWTtKwtYm successfully.\n",
      "\u001b[32m2024-11-04 18:02:59\u001b[0m \u001b[35mJ5HW6L4KT6\u001b[0m \u001b[34mbuttermilk\u001b[0m lc.py[ 196] \u001b[1;30mINFO\u001b[0m Invoked chain with gemini15pro in 10.30 seconds\n"
     ]
    },
    {
     "name": "stderr",
     "output_type": "stream",
     "text": [
      "I0000 00:00:1730707379.058730 16045583 fork_posix.cc:77] Other threads are currently calling into gRPC, skipping fork() handlers\n",
      "I0000 00:00:1730707379.460563 16045583 fork_posix.cc:77] Other threads are currently calling into gRPC, skipping fork() handlers\n"
     ]
    },
    {
     "name": "stdout",
     "output_type": "stream",
     "text": [
      "\u001b[32m2024-11-04 18:03:00\u001b[0m \u001b[35mJ5HW6L4KT6\u001b[0m \u001b[34mbuttermilk\u001b[0m save.py[ 184] \u001b[1;30mDEBUG\u001b[0m \u001b[32mInserting 1 rows to BigQuery table dmrc-analysis.toxicity.flow.\u001b[0m\n",
      "\u001b[32m2024-11-04 18:03:00\u001b[0m \u001b[35mJ5HW6L4KT6\u001b[0m \u001b[34mbuttermilk\u001b[0m save.py[ 191] \u001b[1;30mINFO\u001b[0m Successfully pushed 1 rows to BigQuery table dmrc-analysis.toxicity.flow.\n",
      "\u001b[32m2024-11-04 18:03:00\u001b[0m \u001b[35mJ5HW6L4KT6\u001b[0m \u001b[34mbuttermilk\u001b[0m orchestrator.py[  80] \u001b[1;30mINFO\u001b[0m Agent judger completed job VUwNk7G5mF4KDgr3swWRbE successfully.\n",
      "\u001b[32m2024-11-04 18:03:00\u001b[0m \u001b[35mJ5HW6L4KT6\u001b[0m \u001b[34mbuttermilk\u001b[0m lc.py[ 196] \u001b[1;30mINFO\u001b[0m Invoked chain with gemini15pro in 12.22 seconds\n"
     ]
    },
    {
     "name": "stderr",
     "output_type": "stream",
     "text": [
      "I0000 00:00:1730707380.996680 16045583 fork_posix.cc:77] Other threads are currently calling into gRPC, skipping fork() handlers\n",
      "I0000 00:00:1730707381.390650 16045583 fork_posix.cc:77] Other threads are currently calling into gRPC, skipping fork() handlers\n"
     ]
    },
    {
     "name": "stdout",
     "output_type": "stream",
     "text": [
      "\u001b[32m2024-11-04 18:03:02\u001b[0m \u001b[35mJ5HW6L4KT6\u001b[0m \u001b[34mbuttermilk\u001b[0m save.py[ 184] \u001b[1;30mDEBUG\u001b[0m \u001b[32mInserting 1 rows to BigQuery table dmrc-analysis.toxicity.flow.\u001b[0m\n",
      "\u001b[32m2024-11-04 18:03:02\u001b[0m \u001b[35mJ5HW6L4KT6\u001b[0m \u001b[34mbuttermilk\u001b[0m save.py[ 191] \u001b[1;30mINFO\u001b[0m Successfully pushed 1 rows to BigQuery table dmrc-analysis.toxicity.flow.\n",
      "\u001b[32m2024-11-04 18:03:02\u001b[0m \u001b[35mJ5HW6L4KT6\u001b[0m \u001b[34mbuttermilk\u001b[0m orchestrator.py[  80] \u001b[1;30mINFO\u001b[0m Agent judger completed job MUmt57sHuKugRq2DEoJBnt successfully.\n",
      "\u001b[32m2024-11-04 18:03:02\u001b[0m \u001b[35mJ5HW6L4KT6\u001b[0m \u001b[34mbuttermilk\u001b[0m lc.py[ 185] \u001b[1;30mINFO\u001b[0m Invoking chain with gemini15pro...\n",
      "\u001b[32m2024-11-04 18:03:02\u001b[0m \u001b[35mJ5HW6L4KT6\u001b[0m \u001b[34mbuttermilk\u001b[0m lc.py[ 185] \u001b[1;30mINFO\u001b[0m Invoking chain with gemini15pro...\n",
      "\u001b[32m2024-11-04 18:03:02\u001b[0m \u001b[35mJ5HW6L4KT6\u001b[0m \u001b[34mbuttermilk\u001b[0m lc.py[ 185] \u001b[1;30mINFO\u001b[0m Invoking chain with gemini15pro...\n",
      "\u001b[32m2024-11-04 18:03:02\u001b[0m \u001b[35mJ5HW6L4KT6\u001b[0m \u001b[34mbuttermilk\u001b[0m lc.py[ 185] \u001b[1;30mINFO\u001b[0m Invoking chain with gemini15pro...\n",
      "\u001b[32m2024-11-04 18:03:02\u001b[0m \u001b[35mJ5HW6L4KT6\u001b[0m \u001b[34mbuttermilk\u001b[0m lc.py[ 196] \u001b[1;30mINFO\u001b[0m Invoked chain with gpt4o in 26.62 seconds\n"
     ]
    },
    {
     "name": "stderr",
     "output_type": "stream",
     "text": [
      "I0000 00:00:1730707382.831676 16045583 fork_posix.cc:77] Other threads are currently calling into gRPC, skipping fork() handlers\n",
      "I0000 00:00:1730707383.279619 16045583 fork_posix.cc:77] Other threads are currently calling into gRPC, skipping fork() handlers\n"
     ]
    },
    {
     "name": "stdout",
     "output_type": "stream",
     "text": [
      "\u001b[32m2024-11-04 18:03:04\u001b[0m \u001b[35mJ5HW6L4KT6\u001b[0m \u001b[34mbuttermilk\u001b[0m save.py[ 184] \u001b[1;30mDEBUG\u001b[0m \u001b[32mInserting 1 rows to BigQuery table dmrc-analysis.toxicity.flow.\u001b[0m\n",
      "\u001b[32m2024-11-04 18:03:04\u001b[0m \u001b[35mJ5HW6L4KT6\u001b[0m \u001b[34mbuttermilk\u001b[0m save.py[ 191] \u001b[1;30mINFO\u001b[0m Successfully pushed 1 rows to BigQuery table dmrc-analysis.toxicity.flow.\n",
      "\u001b[32m2024-11-04 18:03:04\u001b[0m \u001b[35mJ5HW6L4KT6\u001b[0m \u001b[34mbuttermilk\u001b[0m orchestrator.py[  80] \u001b[1;30mINFO\u001b[0m Agent judger completed job 33oj5d2fKqiKa3DDZbaaF9 successfully.\n",
      "\u001b[32m2024-11-04 18:03:04\u001b[0m \u001b[35mJ5HW6L4KT6\u001b[0m \u001b[34mbuttermilk\u001b[0m lc.py[ 196] \u001b[1;30mINFO\u001b[0m Invoked chain with gemini15pro in 1.93 seconds\n"
     ]
    },
    {
     "name": "stderr",
     "output_type": "stream",
     "text": [
      "I0000 00:00:1730707385.675812 16045583 fork_posix.cc:77] Other threads are currently calling into gRPC, skipping fork() handlers\n"
     ]
    },
    {
     "name": "stdout",
     "output_type": "stream",
     "text": [
      "\u001b[32m2024-11-04 18:03:06\u001b[0m \u001b[35mJ5HW6L4KT6\u001b[0m \u001b[34mbuttermilk\u001b[0m save.py[ 184] \u001b[1;30mDEBUG\u001b[0m \u001b[32mInserting 1 rows to BigQuery table dmrc-analysis.toxicity.flow.\u001b[0m\n",
      "\u001b[32m2024-11-04 18:03:07\u001b[0m \u001b[35mJ5HW6L4KT6\u001b[0m \u001b[34mbuttermilk\u001b[0m save.py[ 191] \u001b[1;30mINFO\u001b[0m Successfully pushed 1 rows to BigQuery table dmrc-analysis.toxicity.flow.\n",
      "\u001b[32m2024-11-04 18:03:07\u001b[0m \u001b[35mJ5HW6L4KT6\u001b[0m \u001b[34mbuttermilk\u001b[0m orchestrator.py[  80] \u001b[1;30mINFO\u001b[0m Agent judger completed job VNJMdYhtF8PhTcoKf2XtWo successfully.\n",
      "\u001b[32m2024-11-04 18:03:07\u001b[0m \u001b[35mJ5HW6L4KT6\u001b[0m \u001b[34mbuttermilk\u001b[0m lc.py[ 185] \u001b[1;30mINFO\u001b[0m Invoking chain with gemini15pro...\n",
      "\u001b[32m2024-11-04 18:03:07\u001b[0m \u001b[35mJ5HW6L4KT6\u001b[0m \u001b[34mbuttermilk\u001b[0m lc.py[ 196] \u001b[1;30mINFO\u001b[0m Invoked chain with gemini15pro in 4.34 seconds\n"
     ]
    },
    {
     "name": "stderr",
     "output_type": "stream",
     "text": [
      "I0000 00:00:1730707387.672589 16045583 fork_posix.cc:77] Other threads are currently calling into gRPC, skipping fork() handlers\n",
      "I0000 00:00:1730707388.024653 16045583 fork_posix.cc:77] Other threads are currently calling into gRPC, skipping fork() handlers\n"
     ]
    },
    {
     "name": "stdout",
     "output_type": "stream",
     "text": [
      "\u001b[32m2024-11-04 18:03:09\u001b[0m \u001b[35mJ5HW6L4KT6\u001b[0m \u001b[34mbuttermilk\u001b[0m save.py[ 184] \u001b[1;30mDEBUG\u001b[0m \u001b[32mInserting 1 rows to BigQuery table dmrc-analysis.toxicity.flow.\u001b[0m\n",
      "\u001b[32m2024-11-04 18:03:09\u001b[0m \u001b[35mJ5HW6L4KT6\u001b[0m \u001b[34mbuttermilk\u001b[0m save.py[ 191] \u001b[1;30mINFO\u001b[0m Successfully pushed 1 rows to BigQuery table dmrc-analysis.toxicity.flow.\n",
      "\u001b[32m2024-11-04 18:03:09\u001b[0m \u001b[35mJ5HW6L4KT6\u001b[0m \u001b[34mbuttermilk\u001b[0m orchestrator.py[  80] \u001b[1;30mINFO\u001b[0m Agent judger completed job nwoS6osfw7Bt5cbbw3t4Gn successfully.\n",
      "\u001b[32m2024-11-04 18:03:09\u001b[0m \u001b[35mJ5HW6L4KT6\u001b[0m \u001b[34mbuttermilk\u001b[0m lc.py[ 196] \u001b[1;30mINFO\u001b[0m Invoked chain with gemini15pro in 6.71 seconds\n"
     ]
    },
    {
     "name": "stderr",
     "output_type": "stream",
     "text": [
      "I0000 00:00:1730707390.047421 16045583 fork_posix.cc:77] Other threads are currently calling into gRPC, skipping fork() handlers\n",
      "I0000 00:00:1730707390.606764 16045583 fork_posix.cc:77] Other threads are currently calling into gRPC, skipping fork() handlers\n"
     ]
    },
    {
     "name": "stdout",
     "output_type": "stream",
     "text": [
      "\u001b[32m2024-11-04 18:03:11\u001b[0m \u001b[35mJ5HW6L4KT6\u001b[0m \u001b[34mbuttermilk\u001b[0m save.py[ 184] \u001b[1;30mDEBUG\u001b[0m \u001b[32mInserting 1 rows to BigQuery table dmrc-analysis.toxicity.flow.\u001b[0m\n",
      "\u001b[32m2024-11-04 18:03:12\u001b[0m \u001b[35mJ5HW6L4KT6\u001b[0m \u001b[34mbuttermilk\u001b[0m save.py[ 191] \u001b[1;30mINFO\u001b[0m Successfully pushed 1 rows to BigQuery table dmrc-analysis.toxicity.flow.\n",
      "\u001b[32m2024-11-04 18:03:12\u001b[0m \u001b[35mJ5HW6L4KT6\u001b[0m \u001b[34mbuttermilk\u001b[0m orchestrator.py[  80] \u001b[1;30mINFO\u001b[0m Agent judger completed job UYTBkR8GuQepPirHHSHENV successfully.\n",
      "\u001b[32m2024-11-04 18:03:12\u001b[0m \u001b[35mJ5HW6L4KT6\u001b[0m \u001b[34mbuttermilk\u001b[0m lc.py[ 196] \u001b[1;30mINFO\u001b[0m Invoked chain with gemini15pro in 9.66 seconds\n"
     ]
    },
    {
     "name": "stderr",
     "output_type": "stream",
     "text": [
      "I0000 00:00:1730707393.147425 16045583 fork_posix.cc:77] Other threads are currently calling into gRPC, skipping fork() handlers\n",
      "I0000 00:00:1730707393.612002 16045583 fork_posix.cc:77] Other threads are currently calling into gRPC, skipping fork() handlers\n"
     ]
    },
    {
     "name": "stdout",
     "output_type": "stream",
     "text": [
      "\u001b[32m2024-11-04 18:03:14\u001b[0m \u001b[35mJ5HW6L4KT6\u001b[0m \u001b[34mbuttermilk\u001b[0m save.py[ 184] \u001b[1;30mDEBUG\u001b[0m \u001b[32mInserting 1 rows to BigQuery table dmrc-analysis.toxicity.flow.\u001b[0m\n",
      "\u001b[32m2024-11-04 18:03:15\u001b[0m \u001b[35mJ5HW6L4KT6\u001b[0m \u001b[34mbuttermilk\u001b[0m save.py[ 191] \u001b[1;30mINFO\u001b[0m Successfully pushed 1 rows to BigQuery table dmrc-analysis.toxicity.flow.\n",
      "\u001b[32m2024-11-04 18:03:15\u001b[0m \u001b[35mJ5HW6L4KT6\u001b[0m \u001b[34mbuttermilk\u001b[0m orchestrator.py[  80] \u001b[1;30mINFO\u001b[0m Agent judger completed job SG4VtE7cGwCZrA3A49Q5zw successfully.\n",
      "\u001b[32m2024-11-04 18:03:15\u001b[0m \u001b[35mJ5HW6L4KT6\u001b[0m \u001b[34mbuttermilk\u001b[0m lc.py[ 185] \u001b[1;30mINFO\u001b[0m Invoking chain with gemini15pro...\n",
      "\u001b[32m2024-11-04 18:03:15\u001b[0m \u001b[35mJ5HW6L4KT6\u001b[0m \u001b[34mbuttermilk\u001b[0m lc.py[ 185] \u001b[1;30mINFO\u001b[0m Invoking chain with gemini15pro...\n",
      "\u001b[32m2024-11-04 18:03:15\u001b[0m \u001b[35mJ5HW6L4KT6\u001b[0m \u001b[34mbuttermilk\u001b[0m lc.py[ 185] \u001b[1;30mINFO\u001b[0m Invoking chain with gemini15pro...\n",
      "\u001b[32m2024-11-04 18:03:15\u001b[0m \u001b[35mJ5HW6L4KT6\u001b[0m \u001b[34mbuttermilk\u001b[0m lc.py[ 196] \u001b[1;30mINFO\u001b[0m Invoked chain with gemini15pro in 7.94 seconds\n"
     ]
    },
    {
     "name": "stderr",
     "output_type": "stream",
     "text": [
      "I0000 00:00:1730707395.071093 16045583 fork_posix.cc:77] Other threads are currently calling into gRPC, skipping fork() handlers\n",
      "I0000 00:00:1730707395.816526 16045583 fork_posix.cc:77] Other threads are currently calling into gRPC, skipping fork() handlers\n"
     ]
    },
    {
     "name": "stdout",
     "output_type": "stream",
     "text": [
      "\u001b[32m2024-11-04 18:03:17\u001b[0m \u001b[35mJ5HW6L4KT6\u001b[0m \u001b[34mbuttermilk\u001b[0m save.py[ 184] \u001b[1;30mDEBUG\u001b[0m \u001b[32mInserting 1 rows to BigQuery table dmrc-analysis.toxicity.flow.\u001b[0m\n",
      "\u001b[32m2024-11-04 18:03:17\u001b[0m \u001b[35mJ5HW6L4KT6\u001b[0m \u001b[34mbuttermilk\u001b[0m save.py[ 191] \u001b[1;30mINFO\u001b[0m Successfully pushed 1 rows to BigQuery table dmrc-analysis.toxicity.flow.\n",
      "\u001b[32m2024-11-04 18:03:17\u001b[0m \u001b[35mJ5HW6L4KT6\u001b[0m \u001b[34mbuttermilk\u001b[0m orchestrator.py[  80] \u001b[1;30mINFO\u001b[0m Agent judger completed job YrnmVNjh6hzoLt5THMiAMG successfully.\n",
      "\u001b[32m2024-11-04 18:03:17\u001b[0m \u001b[35mJ5HW6L4KT6\u001b[0m \u001b[34mbuttermilk\u001b[0m lc.py[ 196] \u001b[1;30mINFO\u001b[0m Invoked chain with gemini15pro in 2.23 seconds\n"
     ]
    },
    {
     "name": "stderr",
     "output_type": "stream",
     "text": [
      "I0000 00:00:1730707397.284824 16045583 fork_posix.cc:77] Other threads are currently calling into gRPC, skipping fork() handlers\n",
      "I0000 00:00:1730707397.773252 16045583 fork_posix.cc:77] Other threads are currently calling into gRPC, skipping fork() handlers\n"
     ]
    },
    {
     "name": "stdout",
     "output_type": "stream",
     "text": [
      "\u001b[32m2024-11-04 18:03:18\u001b[0m \u001b[35mJ5HW6L4KT6\u001b[0m \u001b[34mbuttermilk\u001b[0m save.py[ 184] \u001b[1;30mDEBUG\u001b[0m \u001b[32mInserting 1 rows to BigQuery table dmrc-analysis.toxicity.flow.\u001b[0m\n",
      "\u001b[32m2024-11-04 18:03:19\u001b[0m \u001b[35mJ5HW6L4KT6\u001b[0m \u001b[34mbuttermilk\u001b[0m save.py[ 191] \u001b[1;30mINFO\u001b[0m Successfully pushed 1 rows to BigQuery table dmrc-analysis.toxicity.flow.\n",
      "\u001b[32m2024-11-04 18:03:19\u001b[0m \u001b[35mJ5HW6L4KT6\u001b[0m \u001b[34mbuttermilk\u001b[0m orchestrator.py[  80] \u001b[1;30mINFO\u001b[0m Agent judger completed job LbHBtrpAsS4zH5TfJDSVxG successfully.\n",
      "\u001b[32m2024-11-04 18:03:19\u001b[0m \u001b[35mJ5HW6L4KT6\u001b[0m \u001b[34mbuttermilk\u001b[0m lc.py[ 196] \u001b[1;30mINFO\u001b[0m Invoked chain with gemini15pro in 4.15 seconds\n"
     ]
    },
    {
     "name": "stderr",
     "output_type": "stream",
     "text": [
      "I0000 00:00:1730707399.210195 16045583 fork_posix.cc:77] Other threads are currently calling into gRPC, skipping fork() handlers\n",
      "I0000 00:00:1730707399.790190 16045583 fork_posix.cc:77] Other threads are currently calling into gRPC, skipping fork() handlers\n"
     ]
    },
    {
     "name": "stdout",
     "output_type": "stream",
     "text": [
      "\u001b[32m2024-11-04 18:03:20\u001b[0m \u001b[35mJ5HW6L4KT6\u001b[0m \u001b[34mbuttermilk\u001b[0m save.py[ 184] \u001b[1;30mDEBUG\u001b[0m \u001b[32mInserting 1 rows to BigQuery table dmrc-analysis.toxicity.flow.\u001b[0m\n",
      "\u001b[32m2024-11-04 18:03:21\u001b[0m \u001b[35mJ5HW6L4KT6\u001b[0m \u001b[34mbuttermilk\u001b[0m save.py[ 191] \u001b[1;30mINFO\u001b[0m Successfully pushed 1 rows to BigQuery table dmrc-analysis.toxicity.flow.\n",
      "\u001b[32m2024-11-04 18:03:21\u001b[0m \u001b[35mJ5HW6L4KT6\u001b[0m \u001b[34mbuttermilk\u001b[0m orchestrator.py[  80] \u001b[1;30mINFO\u001b[0m Agent judger completed job LMJJEqsEBtGAQnbQTAHhLN successfully.\n",
      "\u001b[32m2024-11-04 18:03:21\u001b[0m \u001b[35mJ5HW6L4KT6\u001b[0m \u001b[34mbuttermilk\u001b[0m lc.py[ 196] \u001b[1;30mINFO\u001b[0m Invoked chain with gemini15pro in 6.12 seconds\n"
     ]
    },
    {
     "name": "stderr",
     "output_type": "stream",
     "text": [
      "I0000 00:00:1730707401.179912 16045583 fork_posix.cc:77] Other threads are currently calling into gRPC, skipping fork() handlers\n",
      "I0000 00:00:1730707401.906133 16045583 fork_posix.cc:77] Other threads are currently calling into gRPC, skipping fork() handlers\n"
     ]
    },
    {
     "name": "stdout",
     "output_type": "stream",
     "text": [
      "\u001b[32m2024-11-04 18:03:23\u001b[0m \u001b[35mJ5HW6L4KT6\u001b[0m \u001b[34mbuttermilk\u001b[0m save.py[ 184] \u001b[1;30mDEBUG\u001b[0m \u001b[32mInserting 1 rows to BigQuery table dmrc-analysis.toxicity.flow.\u001b[0m\n",
      "\u001b[32m2024-11-04 18:03:23\u001b[0m \u001b[35mJ5HW6L4KT6\u001b[0m \u001b[34mbuttermilk\u001b[0m save.py[ 191] \u001b[1;30mINFO\u001b[0m Successfully pushed 1 rows to BigQuery table dmrc-analysis.toxicity.flow.\n",
      "\u001b[32m2024-11-04 18:03:23\u001b[0m \u001b[35mJ5HW6L4KT6\u001b[0m \u001b[34mbuttermilk\u001b[0m orchestrator.py[  80] \u001b[1;30mINFO\u001b[0m Agent judger completed job jd2wVgAMzovdJ7ccAu7iSB successfully.\n",
      "\u001b[32m2024-11-04 18:03:23\u001b[0m \u001b[35mJ5HW6L4KT6\u001b[0m \u001b[34mbuttermilk\u001b[0m orchestrator.py[  94] \u001b[1;30mINFO\u001b[0m Completed run 1 of 1\n",
      "\u001b[32m2024-11-04 18:03:23\u001b[0m \u001b[35mJ5HW6L4KT6\u001b[0m \u001b[34mbuttermilk\u001b[0m orchestrator.py[  98] \u001b[1;30mINFO\u001b[0m All tasks have completed.\n"
     ]
    }
   ],
   "source": [
    "await orchestrator.run_tasks()\n"
   ]
  },
  {
   "cell_type": "code",
   "execution_count": null,
   "metadata": {},
   "outputs": [],
   "source": []
  }
 ],
 "metadata": {
  "kernelspec": {
   "display_name": "bm",
   "language": "python",
   "name": "python3"
  },
  "language_info": {
   "codemirror_mode": {
    "name": "ipython",
    "version": 3
   },
   "file_extension": ".py",
   "mimetype": "text/x-python",
   "name": "python",
   "nbconvert_exporter": "python",
   "pygments_lexer": "ipython3",
   "version": "3.11.0"
  }
 },
 "nbformat": 4,
 "nbformat_minor": 2
}
