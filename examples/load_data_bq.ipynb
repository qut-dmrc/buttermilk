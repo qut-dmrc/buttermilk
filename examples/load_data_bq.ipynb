{
 "cells": [
  {
   "cell_type": "code",
   "execution_count": null,
   "id": "86224d10",
   "metadata": {},
   "outputs": [
    {
     "name": "stderr",
     "output_type": "stream",
     "text": [
      "\u001b[32m2025-06-14 01:27:07\u001b[0m [] \u001b[1;30mINFO\u001b[0m bm_init.py:649 Logging set up for run: platform='local' name='bm_api' job='migrate_data' run_id='20250613T1527Z-kWqp-docker-desktop-debian' ip=None node_name='docker-desktop' save_dir='/tmp/tmp5tc6w_xr/bm_api/migrate_data/20250613T1527Z-kWqp-docker-desktop-debian' flow_api=None. Save directory: /tmp/tmp5tc6w_xr/bm_api/migrate_data/20250613T1527Z-kWqp-docker-desktop-debian | Cloud Logging Resource: {'project_id': 'prosocial-443205', 'location': 'us-central1', 'namespace': 'bm_api', 'job': 'migrate_data', 'task_id': '20250613T1527Z-kWqp-docker-desktop-debian'}\n",
      "\u001b[32m2025-06-14 01:27:07\u001b[0m [] \u001b[1;30mDEBUG\u001b[0m bm_init.py:655 \u001b[32mButtermilk version: 0.3.3\u001b[0m\n"
     ]
    },
    {
     "data": {
      "text/html": [
       "<pre style=\"white-space:pre;overflow-x:auto;line-height:normal;font-family:Menlo,'DejaVu Sans Mono',consolas,'Courier New',monospace\">Initialized Buttermilk <span style=\"font-weight: bold\">(</span>bm<span style=\"font-weight: bold\">)</span> with configuration:\n",
       "</pre>\n"
      ],
      "text/plain": [
       "Initialized Buttermilk \u001b[1m(\u001b[0mbm\u001b[1m)\u001b[0m with configuration:\n"
      ]
     },
     "metadata": {},
     "output_type": "display_data"
    },
    {
     "data": {
      "text/html": [
       "<pre style=\"white-space:pre;overflow-x:auto;line-height:normal;font-family:Menlo,'DejaVu Sans Mono',consolas,'Courier New',monospace\"><span style=\"font-weight: bold\">{</span>\n",
       "    <span style=\"color: #008000; text-decoration-color: #008000\">'platform'</span>: <span style=\"color: #008000; text-decoration-color: #008000\">'local'</span>,\n",
       "    <span style=\"color: #008000; text-decoration-color: #008000\">'name'</span>: <span style=\"color: #008000; text-decoration-color: #008000\">'bm_api'</span>,\n",
       "    <span style=\"color: #008000; text-decoration-color: #008000\">'job'</span>: <span style=\"color: #008000; text-decoration-color: #008000\">'migrate_data'</span>,\n",
       "    <span style=\"color: #008000; text-decoration-color: #008000\">'run_id'</span>: <span style=\"color: #008000; text-decoration-color: #008000\">'20250613T1527Z-kWqp-docker-desktop-debian'</span>,\n",
       "    <span style=\"color: #008000; text-decoration-color: #008000\">'node_name'</span>: <span style=\"color: #008000; text-decoration-color: #008000\">'docker-desktop'</span>,\n",
       "    <span style=\"color: #008000; text-decoration-color: #008000\">'save_dir'</span>: <span style=\"color: #008000; text-decoration-color: #008000\">'/tmp/tmp5tc6w_xr/bm_api/migrate_data/20250613T1527Z-kWqp-docker-desktop-debian'</span>,\n",
       "    <span style=\"color: #008000; text-decoration-color: #008000\">'connections'</span>: <span style=\"font-weight: bold\">[]</span>,\n",
       "    <span style=\"color: #008000; text-decoration-color: #008000\">'secret_provider'</span>: <span style=\"font-weight: bold\">{</span>\n",
       "        <span style=\"color: #008000; text-decoration-color: #008000\">'type'</span>: <span style=\"color: #008000; text-decoration-color: #008000\">'gcp'</span>,\n",
       "        <span style=\"color: #008000; text-decoration-color: #008000\">'project'</span>: <span style=\"color: #008000; text-decoration-color: #008000\">'prosocial-443205'</span>,\n",
       "        <span style=\"color: #008000; text-decoration-color: #008000\">'models_secret'</span>: <span style=\"color: #008000; text-decoration-color: #008000\">'dev__llm__connections'</span>,\n",
       "        <span style=\"color: #008000; text-decoration-color: #008000\">'credentials_secret'</span>: <span style=\"color: #008000; text-decoration-color: #008000\">'dev__shared_credentials'</span>\n",
       "    <span style=\"font-weight: bold\">}</span>,\n",
       "    <span style=\"color: #008000; text-decoration-color: #008000\">'logger_cfg'</span>: <span style=\"font-weight: bold\">{</span><span style=\"color: #008000; text-decoration-color: #008000\">'type'</span>: <span style=\"color: #008000; text-decoration-color: #008000\">'gcp'</span>, <span style=\"color: #008000; text-decoration-color: #008000\">'project'</span>: <span style=\"color: #008000; text-decoration-color: #008000\">'prosocial-443205'</span>, <span style=\"color: #008000; text-decoration-color: #008000\">'location'</span>: <span style=\"color: #008000; text-decoration-color: #008000\">'us-central1'</span>, <span style=\"color: #008000; text-decoration-color: #008000\">'verbose'</span>: <span style=\"color: #00ff00; text-decoration-color: #00ff00; font-style: italic\">True</span><span style=\"font-weight: bold\">}</span>,\n",
       "    <span style=\"color: #008000; text-decoration-color: #008000\">'pubsub'</span>: <span style=\"font-weight: bold\">{</span>\n",
       "        <span style=\"color: #008000; text-decoration-color: #008000\">'type'</span>: <span style=\"color: #008000; text-decoration-color: #008000\">'gcp'</span>,\n",
       "        <span style=\"color: #008000; text-decoration-color: #008000\">'project'</span>: <span style=\"color: #008000; text-decoration-color: #008000\">'prosocial-443205'</span>,\n",
       "        <span style=\"color: #008000; text-decoration-color: #008000\">'jobs_subscription'</span>: <span style=\"color: #008000; text-decoration-color: #008000\">'jobs-sub'</span>,\n",
       "        <span style=\"color: #008000; text-decoration-color: #008000\">'status_subscription'</span>: <span style=\"color: #008000; text-decoration-color: #008000\">'flow-sub'</span>,\n",
       "        <span style=\"color: #008000; text-decoration-color: #008000\">'status_topic'</span>: <span style=\"color: #008000; text-decoration-color: #008000\">'flow'</span>,\n",
       "        <span style=\"color: #008000; text-decoration-color: #008000\">'jobs_topic'</span>: <span style=\"color: #008000; text-decoration-color: #008000\">'jobs'</span>\n",
       "    <span style=\"font-weight: bold\">}</span>,\n",
       "    <span style=\"color: #008000; text-decoration-color: #008000\">'clouds'</span>: <span style=\"font-weight: bold\">[</span>\n",
       "        <span style=\"font-weight: bold\">{</span><span style=\"color: #008000; text-decoration-color: #008000\">'type'</span>: <span style=\"color: #008000; text-decoration-color: #008000\">'gcp'</span>, <span style=\"color: #008000; text-decoration-color: #008000\">'project'</span>: <span style=\"color: #008000; text-decoration-color: #008000\">'prosocial-443205'</span>, <span style=\"color: #008000; text-decoration-color: #008000\">'quota_project_id'</span>: <span style=\"color: #008000; text-decoration-color: #008000\">'prosocial-443205'</span><span style=\"font-weight: bold\">}</span>,\n",
       "        <span style=\"font-weight: bold\">{</span>\n",
       "            <span style=\"color: #008000; text-decoration-color: #008000\">'type'</span>: <span style=\"color: #008000; text-decoration-color: #008000\">'vertex'</span>,\n",
       "            <span style=\"color: #008000; text-decoration-color: #008000\">'project'</span>: <span style=\"color: #008000; text-decoration-color: #008000\">'prosocial-443205'</span>,\n",
       "            <span style=\"color: #008000; text-decoration-color: #008000\">'region'</span>: <span style=\"color: #008000; text-decoration-color: #008000\">'us-central1'</span>,\n",
       "            <span style=\"color: #008000; text-decoration-color: #008000\">'location'</span>: <span style=\"color: #008000; text-decoration-color: #008000\">'us-central1'</span>,\n",
       "            <span style=\"color: #008000; text-decoration-color: #008000\">'bucket'</span>: <span style=\"color: #008000; text-decoration-color: #008000\">'prosocial-dev'</span>\n",
       "        <span style=\"font-weight: bold\">}</span>\n",
       "    <span style=\"font-weight: bold\">]</span>,\n",
       "    <span style=\"color: #008000; text-decoration-color: #008000\">'tracing'</span>: <span style=\"font-weight: bold\">{</span><span style=\"color: #008000; text-decoration-color: #008000\">'enabled'</span>: <span style=\"color: #00ff00; text-decoration-color: #00ff00; font-style: italic\">True</span>, <span style=\"color: #008000; text-decoration-color: #008000\">'api_key'</span>: <span style=\"color: #008000; text-decoration-color: #008000\">''</span>, <span style=\"color: #008000; text-decoration-color: #008000\">'provider'</span>: <span style=\"color: #008000; text-decoration-color: #008000\">'weave'</span>, <span style=\"color: #008000; text-decoration-color: #008000\">'otlp_headers'</span>: <span style=\"font-weight: bold\">{}}</span>,\n",
       "    <span style=\"color: #008000; text-decoration-color: #008000\">'datasets'</span>: <span style=\"font-weight: bold\">{}</span>,\n",
       "    <span style=\"color: #008000; text-decoration-color: #008000\">'save_dir_base'</span>: <span style=\"color: #008000; text-decoration-color: #008000\">'/tmp/tmp5tc6w_xr'</span>\n",
       "<span style=\"font-weight: bold\">}</span>\n",
       "</pre>\n"
      ],
      "text/plain": [
       "\u001b[1m{\u001b[0m\n",
       "    \u001b[32m'platform'\u001b[0m: \u001b[32m'local'\u001b[0m,\n",
       "    \u001b[32m'name'\u001b[0m: \u001b[32m'bm_api'\u001b[0m,\n",
       "    \u001b[32m'job'\u001b[0m: \u001b[32m'migrate_data'\u001b[0m,\n",
       "    \u001b[32m'run_id'\u001b[0m: \u001b[32m'20250613T1527Z-kWqp-docker-desktop-debian'\u001b[0m,\n",
       "    \u001b[32m'node_name'\u001b[0m: \u001b[32m'docker-desktop'\u001b[0m,\n",
       "    \u001b[32m'save_dir'\u001b[0m: \u001b[32m'/tmp/tmp5tc6w_xr/bm_api/migrate_data/20250613T1527Z-kWqp-docker-desktop-debian'\u001b[0m,\n",
       "    \u001b[32m'connections'\u001b[0m: \u001b[1m[\u001b[0m\u001b[1m]\u001b[0m,\n",
       "    \u001b[32m'secret_provider'\u001b[0m: \u001b[1m{\u001b[0m\n",
       "        \u001b[32m'type'\u001b[0m: \u001b[32m'gcp'\u001b[0m,\n",
       "        \u001b[32m'project'\u001b[0m: \u001b[32m'prosocial-443205'\u001b[0m,\n",
       "        \u001b[32m'models_secret'\u001b[0m: \u001b[32m'dev__llm__connections'\u001b[0m,\n",
       "        \u001b[32m'credentials_secret'\u001b[0m: \u001b[32m'dev__shared_credentials'\u001b[0m\n",
       "    \u001b[1m}\u001b[0m,\n",
       "    \u001b[32m'logger_cfg'\u001b[0m: \u001b[1m{\u001b[0m\u001b[32m'type'\u001b[0m: \u001b[32m'gcp'\u001b[0m, \u001b[32m'project'\u001b[0m: \u001b[32m'prosocial-443205'\u001b[0m, \u001b[32m'location'\u001b[0m: \u001b[32m'us-central1'\u001b[0m, \u001b[32m'verbose'\u001b[0m: \u001b[3;92mTrue\u001b[0m\u001b[1m}\u001b[0m,\n",
       "    \u001b[32m'pubsub'\u001b[0m: \u001b[1m{\u001b[0m\n",
       "        \u001b[32m'type'\u001b[0m: \u001b[32m'gcp'\u001b[0m,\n",
       "        \u001b[32m'project'\u001b[0m: \u001b[32m'prosocial-443205'\u001b[0m,\n",
       "        \u001b[32m'jobs_subscription'\u001b[0m: \u001b[32m'jobs-sub'\u001b[0m,\n",
       "        \u001b[32m'status_subscription'\u001b[0m: \u001b[32m'flow-sub'\u001b[0m,\n",
       "        \u001b[32m'status_topic'\u001b[0m: \u001b[32m'flow'\u001b[0m,\n",
       "        \u001b[32m'jobs_topic'\u001b[0m: \u001b[32m'jobs'\u001b[0m\n",
       "    \u001b[1m}\u001b[0m,\n",
       "    \u001b[32m'clouds'\u001b[0m: \u001b[1m[\u001b[0m\n",
       "        \u001b[1m{\u001b[0m\u001b[32m'type'\u001b[0m: \u001b[32m'gcp'\u001b[0m, \u001b[32m'project'\u001b[0m: \u001b[32m'prosocial-443205'\u001b[0m, \u001b[32m'quota_project_id'\u001b[0m: \u001b[32m'prosocial-443205'\u001b[0m\u001b[1m}\u001b[0m,\n",
       "        \u001b[1m{\u001b[0m\n",
       "            \u001b[32m'type'\u001b[0m: \u001b[32m'vertex'\u001b[0m,\n",
       "            \u001b[32m'project'\u001b[0m: \u001b[32m'prosocial-443205'\u001b[0m,\n",
       "            \u001b[32m'region'\u001b[0m: \u001b[32m'us-central1'\u001b[0m,\n",
       "            \u001b[32m'location'\u001b[0m: \u001b[32m'us-central1'\u001b[0m,\n",
       "            \u001b[32m'bucket'\u001b[0m: \u001b[32m'prosocial-dev'\u001b[0m\n",
       "        \u001b[1m}\u001b[0m\n",
       "    \u001b[1m]\u001b[0m,\n",
       "    \u001b[32m'tracing'\u001b[0m: \u001b[1m{\u001b[0m\u001b[32m'enabled'\u001b[0m: \u001b[3;92mTrue\u001b[0m, \u001b[32m'api_key'\u001b[0m: \u001b[32m''\u001b[0m, \u001b[32m'provider'\u001b[0m: \u001b[32m'weave'\u001b[0m, \u001b[32m'otlp_headers'\u001b[0m: \u001b[1m{\u001b[0m\u001b[1m}\u001b[0m\u001b[1m}\u001b[0m,\n",
       "    \u001b[32m'datasets'\u001b[0m: \u001b[1m{\u001b[0m\u001b[1m}\u001b[0m,\n",
       "    \u001b[32m'save_dir_base'\u001b[0m: \u001b[32m'/tmp/tmp5tc6w_xr'\u001b[0m\n",
       "\u001b[1m}\u001b[0m\n"
      ]
     },
     "metadata": {},
     "output_type": "display_data"
    },
    {
     "name": "stderr",
     "output_type": "stream",
     "text": [
      "\u001b[32m2025-06-14 01:27:07\u001b[0m [] \u001b[1;30mDEBUG\u001b[0m save.py:200 \u001b[32mAttempting to save data using method: dump_to_disk to path/URI: '/tmp/tmp5tc6w_xr/bm_api/migrate_data/20250613T1527Z-kWqp-docker-desktop-debian/initial_bm_config_7NajcgwRCxHb6fQEdpNGPB.json'.\u001b[0m\n",
      "\u001b[32m2025-06-14 01:27:07\u001b[0m [] \u001b[1;30mINFO\u001b[0m save.py:641 Successfully dumped data to local disk (JSON): /tmp/tmp5tc6w_xr/bm_api/migrate_data/20250613T1527Z-kWqp-docker-desktop-debian/tmp8vj69fi4.json.\n",
      "\u001b[32m2025-06-14 01:27:07\u001b[0m [] \u001b[1;30mINFO\u001b[0m save.py:215 Successfully saved data using dump_to_disk to: /tmp/tmp5tc6w_xr/bm_api/migrate_data/20250613T1527Z-kWqp-docker-desktop-debian/tmp8vj69fi4.json.\n",
      "\u001b[32m2025-06-14 01:27:07\u001b[0m [] \u001b[1;30mINFO\u001b[0m bm_init.py:748 {'message': 'Successfully saved data to: /tmp/tmp5tc6w_xr/bm_api/migrate_data/20250613T1527Z-kWqp-docker-desktop-debian/tmp8vj69fi4.json', 'uri': '/tmp/tmp5tc6w_xr/bm_api/migrate_data/20250613T1527Z-kWqp-docker-desktop-debian/tmp8vj69fi4.json', 'run_id': '20250613T1527Z-kWqp-docker-desktop-debian'}\n",
      "\u001b[32m2025-06-14 01:27:12\u001b[0m [] \u001b[1;30mINFO\u001b[0m cloud.py:184 Initialized Vertex AI: project=prosocial-443205, location=us-central1\n",
      "\u001b[32m2025-06-14 01:27:12\u001b[0m [] \u001b[1;30mINFO\u001b[0m nb.py:59 Starting interactive run for bm_api job migrate_data in notebook\n"
     ]
    },
    {
     "data": {
      "text/plain": [
       "{'bm': BM(platform='local', name='bm_api', job='migrate_data', run_id='20250613T1527Z-kWqp-docker-desktop-debian', ip=None, node_name='docker-desktop', save_dir='/tmp/tmp5tc6w_xr/bm_api/migrate_data/20250613T1527Z-kWqp-docker-desktop-debian', flow_api=None, connections=[], secret_provider=CloudProviderCfg(type='gcp', project='prosocial-443205', models_secret='dev__llm__connections', credentials_secret='dev__shared_credentials'), logger_cfg=CloudProviderCfg(type='gcp', project='prosocial-443205', location='us-central1', verbose=True), pubsub=CloudProviderCfg(type='gcp', project='prosocial-443205', jobs_subscription='jobs-sub', status_subscription='flow-sub', status_topic='flow', jobs_topic='jobs'), clouds=[CloudProviderCfg(type='gcp', project='prosocial-443205', quota_project_id='prosocial-443205'), CloudProviderCfg(type='vertex', project='prosocial-443205', region='us-central1', location='us-central1', bucket='prosocial-dev')], tracing=Tracing(enabled=True, api_key='', provider='weave', endpoint=None, otlp_headers={}), datasets={}, save_dir_base='/tmp/tmp5tc6w_xr'), 'run': {'bm': {'tracing': {'enabled': True, 'provider': 'weave'}, 'clouds': [{'type': 'gcp', 'project': 'prosocial-443205', 'quota_project_id': 'prosocial-443205'}, {'type': 'vertex', 'project': 'prosocial-443205', 'region': 'us-central1', 'location': 'us-central1', 'bucket': 'prosocial-dev'}], 'secret_provider': {'type': 'gcp', 'project': 'prosocial-443205', 'models_secret': 'dev__llm__connections', 'credentials_secret': 'dev__shared_credentials'}, 'logger_cfg': {'type': 'gcp', 'project': 'prosocial-443205', 'location': 'us-central1', 'verbose': True}, 'pubsub': {'type': 'gcp', 'project': 'prosocial-443205', 'jobs_subscription': 'jobs-sub', 'status_subscription': 'flow-sub', 'status_topic': 'flow', 'jobs_topic': 'jobs'}, 'run_info': {'platform': 'local', 'flow_api': 'http://localhost:8000/flow/', 'save_dir_base': 'gs://prosocial-dev/runs/'}}, 'name': 'bm_api', 'job': 'migrate_data'}}"
      ]
     },
     "execution_count": 1,
     "metadata": {},
     "output_type": "execute_result"
    },
    {
     "name": "stderr",
     "output_type": "stream",
     "text": [
      "\u001b[32m2025-06-14 01:27:15\u001b[0m [] \u001b[1;30mDEBUG\u001b[0m bm_init.py:677 \u001b[32mFetched IP address: 159.196.210.27\u001b[0m\n"
     ]
    }
   ],
   "source": [
    "from buttermilk.utils.nb import init\n",
    "\n",
    "init(\"migrate_data\")\n"
   ]
  },
  {
   "cell_type": "code",
   "execution_count": 2,
   "id": "ae133382",
   "metadata": {},
   "outputs": [
    {
     "data": {
      "text/plain": [
       "<buttermilk.storage.file.FileStorage at 0x7fd9c26bdb10>"
      ]
     },
     "execution_count": 2,
     "metadata": {},
     "output_type": "execute_result"
    }
   ],
   "source": [
    "# New way (recommended) - use BM factory methods\n",
    "from buttermilk._core.dmrc import get_bm\n",
    "from buttermilk.storage import StorageConfig\n",
    "\n",
    "bm = get_bm()\n",
    "\n",
    "# Source storage\n",
    "source_config = StorageConfig(type=\"file\", path=\"gs://prosocial-dev/data/osb_drag_toxic_train.jsonl\")\n",
    "source = bm.get_storage(source_config)\n",
    "source\n"
   ]
  },
  {
   "cell_type": "code",
   "execution_count": 3,
   "id": "26904d7d",
   "metadata": {},
   "outputs": [
    {
     "name": "stderr",
     "output_type": "stream",
     "text": [
      "\u001b[32m2025-06-14 01:27:15\u001b[0m [] \u001b[1;30mWARNING\u001b[0m file.py:208 \u001b[33mError converting data to Record at index 1: 2 validation errors for Record\n",
      "content.str\n",
      "  Input should be a valid string [type=string_type, input_value=None, input_type=NoneType]\n",
      "    For further information visit https://errors.pydantic.dev/2.11/v/string_type\n",
      "content.json-or-python[json=list[union[str,is-instance[Image]]],python=chain[is-instance[Sequence],function-wrap[sequence_validator()]]]\n",
      "  Input should be an instance of Sequence [type=is_instance_of, input_value=None, input_type=NoneType]\n",
      "    For further information visit https://errors.pydantic.dev/2.11/v/is_instance_of\u001b[0m\n"
     ]
    },
    {
     "name": "stdout",
     "output_type": "stream",
     "text": [
      "record_id='error_1' metadata={'parse_error': '2 validation errors for Record\\ncontent.str\\n  Input should be a valid string [type=string_type, input_value=None, input_type=NoneType]\\n    For further information visit https://errors.pydantic.dev/2.11/v/string_type\\ncontent.json-or-python[json=list[union[str,is-instance[Image]]],python=chain[is-instance[Sequence],function-wrap[sequence_validator()]]]\\n  Input should be an instance of Sequence [type=is_instance_of, input_value=None, input_type=NoneType]\\n    For further information visit https://errors.pydantic.dev/2.11/v/is_instance_of', 'original_data': {'record_id': 'acabmeme2', 'name': 'ACAB meme #2', 'img': 'acab2.png', 'source': 'tonepolice', 'expected': {'answer': False}, 'text': None, 'alt_text': \"The image is in the form of a CAPTCHA verification. The instructions are to 'Select all images with bastards' and there are nine photos of people in police uniforms, each with a tick to indicate that they have been selected.\", 'link': None, 'platform': None, 'tags': None, 'type': None, 'id': 'WtZDybgaza67tYyvzS32UF', 'prompt_notes': 'This meme is a potentially challenging example for automated classifiers because it targets a group/characteristic, but one that is not protected (police/occupation).', 'notes': 'This is an example of the ChatGPT failing to recognise that occupation is not a protected characteristic.'}} alt_text=None ground_truth=None uri=None content='{\\'record_id\\': \\'acabmeme2\\', \\'name\\': \\'ACAB meme #2\\', \\'img\\': \\'acab2.png\\', \\'source\\': \\'tonepolice\\', \\'expected\\': {\\'answer\\': False}, \\'text\\': None, \\'alt_text\\': \"The image is in the form of a CAPTCHA verification. The instructions are to \\'Select all images with bastards\\' and there are nine photos of people in police uniforms, each with a tick to indicate that they have been selected.\", \\'link\\': None, \\'platform\\': None, \\'tags\\': None, \\'type\\': None, \\'id\\': \\'WtZDybgaza67tYyvzS32UF\\', \\'prompt_notes\\': \\'This meme is a potentially challenging example for automated classifiers because it targets a group/characteristic, but one that is not protected (police/occupation).\\', \\'notes\\': \\'This is an example of the ChatGPT failing to recognise that occupation is not a protected characteristic.\\'}' mime='text/plain' images=None\n"
     ]
    }
   ],
   "source": [
    "for x in source:\n",
    "    print(x)\n",
    "    break\n"
   ]
  },
  {
   "cell_type": "code",
   "execution_count": null,
   "id": "3ff0d044",
   "metadata": {},
   "outputs": [],
   "source": []
  }
 ],
 "metadata": {
  "kernelspec": {
   "display_name": ".venv",
   "language": "python",
   "name": "python3"
  },
  "language_info": {
   "codemirror_mode": {
    "name": "ipython",
    "version": 3
   },
   "file_extension": ".py",
   "mimetype": "text/x-python",
   "name": "python",
   "nbconvert_exporter": "python",
   "pygments_lexer": "ipython3",
   "version": "3.11.12"
  }
 },
 "nbformat": 4,
 "nbformat_minor": 5
}
