{
 "cells": [
  {
   "cell_type": "code",
   "execution_count": 3,
   "id": "eccc7e6c",
   "metadata": {},
   "outputs": [
    {
     "ename": "AttributeError",
     "evalue": "'NoneType' object has no attribute 'model_dump'",
     "output_type": "error",
     "traceback": [
      "\u001b[31m---------------------------------------------------------------------------\u001b[39m",
      "\u001b[31mAttributeError\u001b[39m                            Traceback (most recent call last)",
      "\u001b[36mCell\u001b[39m\u001b[36m \u001b[39m\u001b[32mIn[3]\u001b[39m\u001b[32m, line 10\u001b[39m\n\u001b[32m      7\u001b[39m doc_path = Path(PAPER_DIR)\n\u001b[32m      8\u001b[39m doc_path.mkdir(parents=\u001b[38;5;28;01mTrue\u001b[39;00m, exist_ok=\u001b[38;5;28;01mTrue\u001b[39;00m)\n\u001b[32m---> \u001b[39m\u001b[32m10\u001b[39m zot = \u001b[43mZotDownloader\u001b[49m\u001b[43m(\u001b[49m\u001b[43msave_dir\u001b[49m\u001b[43m=\u001b[49m\u001b[43mPAPER_DIR\u001b[49m\u001b[43m)\u001b[49m\n\u001b[32m     11\u001b[39m records = \u001b[38;5;28;01mawait\u001b[39;00m zot.get_all_records()\n",
      "    \u001b[31m[... skipping hidden 1 frame]\u001b[39m\n",
      "\u001b[36mFile \u001b[39m\u001b[32m~/src/buttermilk/buttermilk/tools/zotero.py:38\u001b[39m, in \u001b[36mZotDownloader._init\u001b[39m\u001b[34m(self)\u001b[39m\n\u001b[32m     35\u001b[39m \u001b[38;5;129m@pydantic\u001b[39m.model_validator(mode=\u001b[33m\"\u001b[39m\u001b[33mafter\u001b[39m\u001b[33m\"\u001b[39m)\n\u001b[32m     36\u001b[39m \u001b[38;5;28;01mdef\u001b[39;00m\u001b[38;5;250m \u001b[39m\u001b[34m_init\u001b[39m(\u001b[38;5;28mself\u001b[39m) -> Self:\n\u001b[32m     37\u001b[39m     \u001b[38;5;28mself\u001b[39m._zot = zotero.Zotero(\n\u001b[32m---> \u001b[39m\u001b[32m38\u001b[39m         library_id=\u001b[43mbm\u001b[49m\u001b[43m.\u001b[49m\u001b[43mcredentials\u001b[49m.get(\u001b[33m\"\u001b[39m\u001b[33mZOTERO_LIBRARY_ID\u001b[39m\u001b[33m\"\u001b[39m),\n\u001b[32m     39\u001b[39m         library_type=\u001b[33m\"\u001b[39m\u001b[33mgroup\u001b[39m\u001b[33m\"\u001b[39m,\n\u001b[32m     40\u001b[39m         api_key=bm.credentials.get(\u001b[33m\"\u001b[39m\u001b[33mZOTERO_API_KEY\u001b[39m\u001b[33m\"\u001b[39m),\n\u001b[32m     41\u001b[39m     )\n\u001b[32m     42\u001b[39m     \u001b[38;5;28;01mreturn\u001b[39;00m \u001b[38;5;28mself\u001b[39m\n",
      "\u001b[36mFile \u001b[39m\u001b[32m~/src/buttermilk/.venv/lib/python3.11/site-packages/pydantic/main.py:981\u001b[39m, in \u001b[36mBaseModel.__getattr__\u001b[39m\u001b[34m(self, item)\u001b[39m\n\u001b[32m    979\u001b[39m \u001b[38;5;28;01melse\u001b[39;00m:\n\u001b[32m    980\u001b[39m     \u001b[38;5;28;01mif\u001b[39;00m \u001b[38;5;28mhasattr\u001b[39m(\u001b[38;5;28mself\u001b[39m.\u001b[34m__class__\u001b[39m, item):\n\u001b[32m--> \u001b[39m\u001b[32m981\u001b[39m         \u001b[38;5;28;01mreturn\u001b[39;00m \u001b[38;5;28;43msuper\u001b[39;49m\u001b[43m(\u001b[49m\u001b[43m)\u001b[49m\u001b[43m.\u001b[49m\u001b[34;43m__getattribute__\u001b[39;49m\u001b[43m(\u001b[49m\u001b[43mitem\u001b[49m\u001b[43m)\u001b[49m  \u001b[38;5;66;03m# Raises AttributeError if appropriate\u001b[39;00m\n\u001b[32m    982\u001b[39m     \u001b[38;5;28;01melse\u001b[39;00m:\n\u001b[32m    983\u001b[39m         \u001b[38;5;66;03m# this is the current error\u001b[39;00m\n\u001b[32m    984\u001b[39m         \u001b[38;5;28;01mraise\u001b[39;00m \u001b[38;5;167;01mAttributeError\u001b[39;00m(\u001b[33mf\u001b[39m\u001b[33m'\u001b[39m\u001b[38;5;132;01m{\u001b[39;00m\u001b[38;5;28mtype\u001b[39m(\u001b[38;5;28mself\u001b[39m).\u001b[34m__name__\u001b[39m\u001b[38;5;132;01m!r}\u001b[39;00m\u001b[33m object has no attribute \u001b[39m\u001b[38;5;132;01m{\u001b[39;00mitem\u001b[38;5;132;01m!r}\u001b[39;00m\u001b[33m'\u001b[39m)\n",
      "\u001b[36mFile \u001b[39m\u001b[32m~/src/buttermilk/buttermilk/bm.py:368\u001b[39m, in \u001b[36mBM.credentials\u001b[39m\u001b[34m(self)\u001b[39m\n\u001b[32m    365\u001b[39m \u001b[38;5;129m@property\u001b[39m\n\u001b[32m    366\u001b[39m \u001b[38;5;28;01mdef\u001b[39;00m\u001b[38;5;250m \u001b[39m\u001b[34mcredentials\u001b[39m(\u001b[38;5;28mself\u001b[39m) -> \u001b[38;5;28mdict\u001b[39m[\u001b[38;5;28mstr\u001b[39m, \u001b[38;5;28mstr\u001b[39m]:\n\u001b[32m    367\u001b[39m     \u001b[38;5;28;01mif\u001b[39;00m _REGISTRY.get(\u001b[33m\"\u001b[39m\u001b[33mcredentials\u001b[39m\u001b[33m\"\u001b[39m) \u001b[38;5;129;01mis\u001b[39;00m \u001b[38;5;28;01mNone\u001b[39;00m:\n\u001b[32m--> \u001b[39m\u001b[32m368\u001b[39m         _REGISTRY[\u001b[33m\"\u001b[39m\u001b[33mcredentials\u001b[39m\u001b[33m\"\u001b[39m] = \u001b[38;5;28;43mself\u001b[39;49m\u001b[43m.\u001b[49m\u001b[43msecret_manager\u001b[49m.get_secret(\n\u001b[32m    369\u001b[39m             cfg_key=_SHARED_CREDENTIALS_KEY,\n\u001b[32m    370\u001b[39m         )\n\u001b[32m    371\u001b[39m     \u001b[38;5;28;01mreturn\u001b[39;00m _REGISTRY[\u001b[33m\"\u001b[39m\u001b[33mcredentials\u001b[39m\u001b[33m\"\u001b[39m]\n",
      "\u001b[36mFile \u001b[39m\u001b[32m~/src/buttermilk/.venv/lib/python3.11/site-packages/pydantic/main.py:981\u001b[39m, in \u001b[36mBaseModel.__getattr__\u001b[39m\u001b[34m(self, item)\u001b[39m\n\u001b[32m    979\u001b[39m \u001b[38;5;28;01melse\u001b[39;00m:\n\u001b[32m    980\u001b[39m     \u001b[38;5;28;01mif\u001b[39;00m \u001b[38;5;28mhasattr\u001b[39m(\u001b[38;5;28mself\u001b[39m.\u001b[34m__class__\u001b[39m, item):\n\u001b[32m--> \u001b[39m\u001b[32m981\u001b[39m         \u001b[38;5;28;01mreturn\u001b[39;00m \u001b[38;5;28;43msuper\u001b[39;49m\u001b[43m(\u001b[49m\u001b[43m)\u001b[49m\u001b[43m.\u001b[49m\u001b[34;43m__getattribute__\u001b[39;49m\u001b[43m(\u001b[49m\u001b[43mitem\u001b[49m\u001b[43m)\u001b[49m  \u001b[38;5;66;03m# Raises AttributeError if appropriate\u001b[39;00m\n\u001b[32m    982\u001b[39m     \u001b[38;5;28;01melse\u001b[39;00m:\n\u001b[32m    983\u001b[39m         \u001b[38;5;66;03m# this is the current error\u001b[39;00m\n\u001b[32m    984\u001b[39m         \u001b[38;5;28;01mraise\u001b[39;00m \u001b[38;5;167;01mAttributeError\u001b[39;00m(\u001b[33mf\u001b[39m\u001b[33m'\u001b[39m\u001b[38;5;132;01m{\u001b[39;00m\u001b[38;5;28mtype\u001b[39m(\u001b[38;5;28mself\u001b[39m).\u001b[34m__name__\u001b[39m\u001b[38;5;132;01m!r}\u001b[39;00m\u001b[33m object has no attribute \u001b[39m\u001b[38;5;132;01m{\u001b[39;00mitem\u001b[38;5;132;01m!r}\u001b[39;00m\u001b[33m'\u001b[39m)\n",
      "\u001b[36mFile \u001b[39m\u001b[32m~/src/buttermilk/buttermilk/bm.py:361\u001b[39m, in \u001b[36mBM.secret_manager\u001b[39m\u001b[34m(self)\u001b[39m\n\u001b[32m    357\u001b[39m \u001b[38;5;129m@property\u001b[39m\n\u001b[32m    358\u001b[39m \u001b[38;5;28;01mdef\u001b[39;00m\u001b[38;5;250m \u001b[39m\u001b[34msecret_manager\u001b[39m(\u001b[38;5;28mself\u001b[39m) -> SecretsManager:\n\u001b[32m    359\u001b[39m     \u001b[38;5;28;01mif\u001b[39;00m _REGISTRY.get(\u001b[33m\"\u001b[39m\u001b[33msecret_manager\u001b[39m\u001b[33m\"\u001b[39m) \u001b[38;5;129;01mis\u001b[39;00m \u001b[38;5;28;01mNone\u001b[39;00m:\n\u001b[32m    360\u001b[39m         _REGISTRY[\u001b[33m\"\u001b[39m\u001b[33msecret_manager\u001b[39m\u001b[33m\"\u001b[39m] = SecretsManager(\n\u001b[32m--> \u001b[39m\u001b[32m361\u001b[39m             **\u001b[38;5;28;43mself\u001b[39;49m\u001b[43m.\u001b[49m\u001b[43msecret_provider\u001b[49m\u001b[43m.\u001b[49m\u001b[43mmodel_dump\u001b[49m(),\n\u001b[32m    362\u001b[39m         )\n\u001b[32m    363\u001b[39m     \u001b[38;5;28;01mreturn\u001b[39;00m _REGISTRY[\u001b[33m\"\u001b[39m\u001b[33msecret_manager\u001b[39m\u001b[33m\"\u001b[39m]\n",
      "\u001b[31mAttributeError\u001b[39m: 'NoneType' object has no attribute 'model_dump'"
     ]
    }
   ],
   "source": [
    "from pathlib import Path\n",
    "from buttermilk.tools.zotero import ZotDownloader\n",
    "from buttermilk.data.vector import ChromaDBEmbeddings\n",
    "\n",
    "PAPER_DIR = \"/home/nic/data/prosocial_zot\"\n",
    "\n",
    "doc_path = Path(PAPER_DIR)\n",
    "doc_path.mkdir(parents=True, exist_ok=True)\n",
    "\n",
    "zot = ZotDownloader(save_dir=PAPER_DIR)\n",
    "records = await zot.get_all_records()\n"
   ]
  },
  {
   "cell_type": "code",
   "execution_count": null,
   "id": "ad0c7e27",
   "metadata": {},
   "outputs": [],
   "source": [
    "chroma = ChromaDBEmbeddings(\n",
    "    embedding_model=\"text-embedding-large-exp-03-07\",\n",
    "    collection_name=\"zotero-prosocial\",\n",
    "    dimensionality=3072,\n",
    "    chunk_size=9000,\n",
    "    chunk_overlap=1000,\n",
    "    persist_directory=PAPER_DIR,\n",
    "    concurrency=20,\n",
    ")\n"
   ]
  }
 ],
 "metadata": {
  "kernelspec": {
   "display_name": ".venv",
   "language": "python",
   "name": "python3"
  },
  "language_info": {
   "codemirror_mode": {
    "name": "ipython",
    "version": 3
   },
   "file_extension": ".py",
   "mimetype": "text/x-python",
   "name": "python",
   "nbconvert_exporter": "python",
   "pygments_lexer": "ipython3",
   "version": "3.11.2"
  }
 },
 "nbformat": 4,
 "nbformat_minor": 5
}
