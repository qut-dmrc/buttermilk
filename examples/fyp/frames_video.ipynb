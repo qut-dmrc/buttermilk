{
 "cells": [
  {
   "cell_type": "markdown",
   "metadata": {},
   "source": [
    "# Extract frames from a video\n"
   ]
  },
  {
   "cell_type": "code",
   "execution_count": 1,
   "metadata": {},
   "outputs": [],
   "source": [
    "%load_ext autoreload\n",
    "%autoreload 2\n"
   ]
  },
  {
   "cell_type": "code",
   "execution_count": 2,
   "metadata": {},
   "outputs": [
    {
     "name": "stderr",
     "output_type": "stream",
     "text": [
      "/opt/homebrew/Caskroom/miniconda/base/envs/bm/lib/python3.11/site-packages/tqdm/auto.py:21: TqdmWarning: IProgress not found. Please update jupyter and ipywidgets. See https://ipywidgets.readthedocs.io/en/stable/user_install.html\n",
      "  from .autonotebook import tqdm as notebook_tqdm\n"
     ]
    },
    {
     "data": {
      "text/html": [
       "<pre style=\"white-space:pre;overflow-x:auto;line-height:normal;font-family:Menlo,'DejaVu Sans Mono',consolas,'Courier New',monospace\"><span style=\"color: #800080; text-decoration-color: #800080; font-weight: bold\">Project</span><span style=\"font-weight: bold\">(</span>\n",
       "    <span style=\"color: #808000; text-decoration-color: #808000\">name</span>=<span style=\"color: #008000; text-decoration-color: #008000\">'examples'</span>,\n",
       "    <span style=\"color: #808000; text-decoration-color: #808000\">job</span>=<span style=\"color: #008000; text-decoration-color: #008000\">'testing'</span>,\n",
       "    <span style=\"color: #808000; text-decoration-color: #808000\">connections</span>=<span style=\"font-weight: bold\">[]</span>,\n",
       "    <span style=\"color: #808000; text-decoration-color: #808000\">secret_provider</span>=<span style=\"color: #800080; text-decoration-color: #800080; font-weight: bold\">CloudProviderCfg</span><span style=\"font-weight: bold\">(</span>\n",
       "        <span style=\"color: #808000; text-decoration-color: #808000\">type</span>=<span style=\"color: #008000; text-decoration-color: #008000\">'azure'</span>,\n",
       "        <span style=\"color: #808000; text-decoration-color: #808000\">vault</span>=<span style=\"color: #008000; text-decoration-color: #008000\">'https://suzorvault.vault.azure.net/'</span>,\n",
       "        <span style=\"color: #808000; text-decoration-color: #808000\">resource_group</span>=<span style=\"color: #008000; text-decoration-color: #008000\">'rg-suzor_ai'</span>,\n",
       "        <span style=\"color: #808000; text-decoration-color: #808000\">models_secret</span>=<span style=\"color: #008000; text-decoration-color: #008000\">'models'</span>\n",
       "    <span style=\"font-weight: bold\">)</span>,\n",
       "    <span style=\"color: #808000; text-decoration-color: #808000\">save_dest</span>=<span style=\"color: #800080; text-decoration-color: #800080; font-weight: bold\">CloudProviderCfg</span><span style=\"font-weight: bold\">(</span><span style=\"color: #808000; text-decoration-color: #808000\">type</span>=<span style=\"color: #008000; text-decoration-color: #008000\">'gcp'</span>, <span style=\"color: #808000; text-decoration-color: #808000\">project</span>=<span style=\"color: #008000; text-decoration-color: #008000\">'dmrc-analysis'</span>, <span style=\"color: #808000; text-decoration-color: #808000\">region</span>=<span style=\"color: #008000; text-decoration-color: #008000\">'us-central1'</span>, <span style=\"color: #808000; text-decoration-color: #808000\">bucket</span>=<span style=\"color: #008000; text-decoration-color: #008000\">'dmrc-analysis'</span><span style=\"font-weight: bold\">)</span>,\n",
       "    <span style=\"color: #808000; text-decoration-color: #808000\">logger</span>=<span style=\"color: #008000; text-decoration-color: #008000\">'gcp'</span>,\n",
       "    <span style=\"color: #808000; text-decoration-color: #808000\">flows</span>=<span style=\"font-weight: bold\">[</span>\n",
       "        <span style=\"color: #800080; text-decoration-color: #800080; font-weight: bold\">Flow</span><span style=\"font-weight: bold\">(</span>\n",
       "            <span style=\"color: #808000; text-decoration-color: #808000\">name</span>=<span style=\"color: #008000; text-decoration-color: #008000\">'frame'</span>,\n",
       "            <span style=\"color: #808000; text-decoration-color: #808000\">num_runs</span>=<span style=\"color: #008080; text-decoration-color: #008080; font-weight: bold\">1</span>,\n",
       "            <span style=\"color: #808000; text-decoration-color: #808000\">concurrency</span>=<span style=\"color: #008080; text-decoration-color: #008080; font-weight: bold\">20</span>,\n",
       "            <span style=\"color: #808000; text-decoration-color: #808000\">agent</span>=<span style=\"color: #800080; text-decoration-color: #800080; font-weight: bold\">Agent</span><span style=\"font-weight: bold\">(</span><span style=\"color: #808000; text-decoration-color: #808000\">name</span>=<span style=\"color: #008000; text-decoration-color: #008000\">'lc_dXnewS'</span>, <span style=\"color: #808000; text-decoration-color: #808000\">concurrency</span>=<span style=\"color: #008080; text-decoration-color: #008080; font-weight: bold\">4</span>, <span style=\"color: #808000; text-decoration-color: #808000\">save_params</span>=<span style=\"color: #800080; text-decoration-color: #800080; font-style: italic\">None</span><span style=\"font-weight: bold\">)</span>,\n",
       "            <span style=\"color: #808000; text-decoration-color: #808000\">data</span>=<span style=\"font-weight: bold\">[]</span>,\n",
       "            <span style=\"color: #808000; text-decoration-color: #808000\">parameters</span>=<span style=\"font-weight: bold\">{}</span>\n",
       "        <span style=\"font-weight: bold\">)</span>\n",
       "    <span style=\"font-weight: bold\">]</span>,\n",
       "    <span style=\"color: #808000; text-decoration-color: #808000\">tracing</span>=<span style=\"color: #800080; text-decoration-color: #800080; font-weight: bold\">Tracing</span><span style=\"font-weight: bold\">(</span><span style=\"color: #808000; text-decoration-color: #808000\">enabled</span>=<span style=\"color: #00ff00; text-decoration-color: #00ff00; font-style: italic\">True</span>, <span style=\"color: #808000; text-decoration-color: #808000\">endpoint</span>=<span style=\"color: #800080; text-decoration-color: #800080; font-style: italic\">None</span>, <span style=\"color: #808000; text-decoration-color: #808000\">otlp_headers</span>=<span style=\"font-weight: bold\">{})</span>,\n",
       "    <span style=\"color: #808000; text-decoration-color: #808000\">verbose</span>=<span style=\"color: #ff0000; text-decoration-color: #ff0000; font-style: italic\">False</span>,\n",
       "    <span style=\"color: #808000; text-decoration-color: #808000\">cloud</span>=<span style=\"font-weight: bold\">[]</span>,\n",
       "    <span style=\"color: #808000; text-decoration-color: #808000\">run</span>=<span style=\"color: #800080; text-decoration-color: #800080; font-weight: bold\">RunCfg</span><span style=\"font-weight: bold\">(</span><span style=\"color: #808000; text-decoration-color: #808000\">platform</span>=<span style=\"color: #008000; text-decoration-color: #008000\">'local'</span>, <span style=\"color: #808000; text-decoration-color: #808000\">parameters</span>=<span style=\"font-weight: bold\">{})</span>\n",
       "<span style=\"font-weight: bold\">)</span>\n",
       "</pre>\n"
      ],
      "text/plain": [
       "\u001b[1;35mProject\u001b[0m\u001b[1m(\u001b[0m\n",
       "    \u001b[33mname\u001b[0m=\u001b[32m'examples'\u001b[0m,\n",
       "    \u001b[33mjob\u001b[0m=\u001b[32m'testing'\u001b[0m,\n",
       "    \u001b[33mconnections\u001b[0m=\u001b[1m[\u001b[0m\u001b[1m]\u001b[0m,\n",
       "    \u001b[33msecret_provider\u001b[0m=\u001b[1;35mCloudProviderCfg\u001b[0m\u001b[1m(\u001b[0m\n",
       "        \u001b[33mtype\u001b[0m=\u001b[32m'azure'\u001b[0m,\n",
       "        \u001b[33mvault\u001b[0m=\u001b[32m'https://suzorvault.vault.azure.net/'\u001b[0m,\n",
       "        \u001b[33mresource_group\u001b[0m=\u001b[32m'rg-suzor_ai'\u001b[0m,\n",
       "        \u001b[33mmodels_secret\u001b[0m=\u001b[32m'models'\u001b[0m\n",
       "    \u001b[1m)\u001b[0m,\n",
       "    \u001b[33msave_dest\u001b[0m=\u001b[1;35mCloudProviderCfg\u001b[0m\u001b[1m(\u001b[0m\u001b[33mtype\u001b[0m=\u001b[32m'gcp'\u001b[0m, \u001b[33mproject\u001b[0m=\u001b[32m'dmrc-analysis'\u001b[0m, \u001b[33mregion\u001b[0m=\u001b[32m'us-central1'\u001b[0m, \u001b[33mbucket\u001b[0m=\u001b[32m'dmrc-analysis'\u001b[0m\u001b[1m)\u001b[0m,\n",
       "    \u001b[33mlogger\u001b[0m=\u001b[32m'gcp'\u001b[0m,\n",
       "    \u001b[33mflows\u001b[0m=\u001b[1m[\u001b[0m\n",
       "        \u001b[1;35mFlow\u001b[0m\u001b[1m(\u001b[0m\n",
       "            \u001b[33mname\u001b[0m=\u001b[32m'frame'\u001b[0m,\n",
       "            \u001b[33mnum_runs\u001b[0m=\u001b[1;36m1\u001b[0m,\n",
       "            \u001b[33mconcurrency\u001b[0m=\u001b[1;36m20\u001b[0m,\n",
       "            \u001b[33magent\u001b[0m=\u001b[1;35mAgent\u001b[0m\u001b[1m(\u001b[0m\u001b[33mname\u001b[0m=\u001b[32m'lc_dXnewS'\u001b[0m, \u001b[33mconcurrency\u001b[0m=\u001b[1;36m4\u001b[0m, \u001b[33msave_params\u001b[0m=\u001b[3;35mNone\u001b[0m\u001b[1m)\u001b[0m,\n",
       "            \u001b[33mdata\u001b[0m=\u001b[1m[\u001b[0m\u001b[1m]\u001b[0m,\n",
       "            \u001b[33mparameters\u001b[0m=\u001b[1m{\u001b[0m\u001b[1m}\u001b[0m\n",
       "        \u001b[1m)\u001b[0m\n",
       "    \u001b[1m]\u001b[0m,\n",
       "    \u001b[33mtracing\u001b[0m=\u001b[1;35mTracing\u001b[0m\u001b[1m(\u001b[0m\u001b[33menabled\u001b[0m=\u001b[3;92mTrue\u001b[0m, \u001b[33mendpoint\u001b[0m=\u001b[3;35mNone\u001b[0m, \u001b[33motlp_headers\u001b[0m=\u001b[1m{\u001b[0m\u001b[1m}\u001b[0m\u001b[1m)\u001b[0m,\n",
       "    \u001b[33mverbose\u001b[0m=\u001b[3;91mFalse\u001b[0m,\n",
       "    \u001b[33mcloud\u001b[0m=\u001b[1m[\u001b[0m\u001b[1m]\u001b[0m,\n",
       "    \u001b[33mrun\u001b[0m=\u001b[1;35mRunCfg\u001b[0m\u001b[1m(\u001b[0m\u001b[33mplatform\u001b[0m=\u001b[32m'local'\u001b[0m, \u001b[33mparameters\u001b[0m=\u001b[1m{\u001b[0m\u001b[1m}\u001b[0m\u001b[1m)\u001b[0m\n",
       "\u001b[1m)\u001b[0m\n"
      ]
     },
     "metadata": {},
     "output_type": "display_data"
    },
    {
     "name": "stdout",
     "output_type": "stream",
     "text": [
      "\u001b[32m2024-11-08 14:18:46\u001b[0m \u001b[35mJ5HW6L4KT6\u001b[0m \u001b[34mbuttermilk\u001b[0m buttermilk.py[ 224] \u001b[1;30mINFO\u001b[0m {'message': \"Logging setup for: 20241108T0418Z-A3nL-J5HW6L4KT6-suzor. Ready for data collection, saving log to Google Cloud Logs (Resource(type='generic_task', labels={'project_id': 'dmrc-platforms', 'location': 'us-central1', 'namespace': 'examples', 'job': 'testing', 'task_id': '20241108T0418Z-A3nL-J5HW6L4KT6-suzor'})). Default save directory for data in this run is: gs://dmrc-analysis/runs/examples/testing/20241108T0418Z-A3nL-J5HW6L4KT6-suzor\", 'project': 'examples', 'job': 'testing', 'run_id': '20241108T0418Z-A3nL-J5HW6L4KT6-suzor', 'save_dir': 'gs://dmrc-analysis/runs/examples/testing/20241108T0418Z-A3nL-J5HW6L4KT6-suzor', 'ip': '159.196.210.27', 'node_name': 'J5HW6L4KT6', 'username': 'suzor'}\n",
      "Prompt flow service has started...\n"
     ]
    }
   ],
   "source": [
    "\n",
    "from hydra_zen import instantiate, builds\n",
    "from buttermilk import BM\n",
    "from buttermilk._core.config import Project\n",
    "from promptflow.tracing import trace, start_trace\n",
    "from rich import print as rprint\n",
    "from hydra import initialize, compose\n",
    "\n",
    "with initialize(version_base=None, config_path=\"../conf\"):\n",
    "    # Load config, specifying overrides for our particular job\n",
    "    cfg = compose(config_name='config',\n",
    "                  overrides=[\"+flows=frames\"]\n",
    "                  )\n",
    "    \n",
    "    Config = builds(Project, hydra_recursive=True)\n",
    "    conf = instantiate(Config, **cfg)\n",
    "    \n",
    "    # print config\n",
    "    rprint(conf)\n",
    "\n",
    "# Load the main ButterMilk singleton instance\n",
    "# This takes care of credentials, save paths, and other defaults\n",
    "bm = BM(cfg=conf)\n"
   ]
  },
  {
   "cell_type": "code",
   "execution_count": 4,
   "metadata": {},
   "outputs": [],
   "source": [
    "from buttermilk._core.runner_types import Job, RecordInfo\n",
    "\n",
    "record=RecordInfo(video='gs://dmrc-platforms/test/fyp/tiktok-imane-01.mp4')\n",
    "\n",
    "job = Job(source=\"notebook\", record=record)\n"
   ]
  },
  {
   "cell_type": "code",
   "execution_count": 6,
   "metadata": {},
   "outputs": [
    {
     "data": {
      "text/plain": [
       "HumanMessage(content='')"
      ]
     },
     "execution_count": 6,
     "metadata": {},
     "output_type": "execute_result"
    }
   ],
   "source": [
    "record.as_langchain_message()\n"
   ]
  },
  {
   "cell_type": "code",
   "execution_count": null,
   "metadata": {},
   "outputs": [
    {
     "name": "stdout",
     "output_type": "stream",
     "text": [
      "2024-08-28 21:04:20 26f087537f3a buttermilk buttermilk.py[ 227] INFO Logging setup for: {'function_name': 'default_project', 'job': 'development', 'logs': '20240828T1104Z-4NLQ-26f087537f3a-vscode', 'user': 'vscode', 'node': '26f087537f3a'}. Ready for data collection, saving log to Google Cloud Logs (Resource(type='generic_task', labels={'project_id': 'dmrc-platforms', 'location': 'us-central1', 'namespace': 'default_project', 'job': 'development', 'task_id': '20240828T1104Z-4NLQ-26f087537f3a-vscode'})). Default save directory for data in this run is: gs://dmrc-analysis/runs/default_project/development/20240828T1104Z-4NLQ-26f087537f3a-vscode\n",
      "2024-08-28 21:04:20 26f087537f3a root _start_trace.py[  76] INFO collection: default_project\n",
      "2024-08-28 21:04:20 26f087537f3a root _start_trace.py[  78] INFO resource attributes: {'service.name': 'promptflow', 'run_id': '20240828T1104Z-4NLQ-26f087537f3a-vscode', 'collection': 'default_project'}\n",
      "2024-08-28 21:04:20 26f087537f3a root _start_trace.py[ 157] INFO tracer provider is already set, will merge the resource attributes...\n",
      "2024-08-28 21:04:20 26f087537f3a root _start_trace.py[ 162] INFO tracer provider is updated with resource attributes: {'service.name': 'promptflow', 'run_id': '20240828T1104Z-4NLQ-26f087537f3a-vscode', 'collection': 'default_project', 'subscription.id': '7e7e056a-4224-4e26-99d2-1e3f9a688c50', 'resource_group.name': 'rg-suzor_ai', 'workspace.name': 'automod'}\n",
      "2024-08-28 21:04:20 26f087537f3a root _start_trace.py[ 168] INFO user specifies collection, will add a flag on tracer provider to avoid override...\n",
      "Prompt flow service has started...\n",
      "{   'framing': [   {   'blame_attribution': 'While not explicitly stated, the '\n",
      "                                            'framing suggests the source of '\n",
      "                                            'the struggle might be societal '\n",
      "                                            'pressures or expectations.',\n",
      "                       'moral_evaluation': 'The lyrics and emotional tone '\n",
      "                                           'suggest a yearning for acceptance '\n",
      "                                           'and a desire to be true to '\n",
      "                                           'oneself.',\n",
      "                       'problem_definition': 'The speaker seems to wrestle '\n",
      "                                             'with an internal conflict, '\n",
      "                                             'potentially related to personal '\n",
      "                                             'identity, which they find '\n",
      "                                             'challenging to conceal.',\n",
      "                       'recommendation': \"The repeated phrase 'I wanna be \"\n",
      "                                         \"yours' could be interpreted as a \"\n",
      "                                         'desire to live authentically and '\n",
      "                                         'openly, perhaps seeking validation '\n",
      "                                         'and love for who they truly are.',\n",
      "                       'solution_adressee': 'Those who struggle with their '\n",
      "                                            'identity, specifically athletes '\n",
      "                                            'who may feel societal pressure to '\n",
      "                                            'conform (implied)',\n",
      "                       'speaker_affiliation': 'Algerian Boxer (assumed)',\n",
      "                       'speaker_name': 'The speaker in the video appears to be '\n",
      "                                       'Nesrine Malik, an Algerian boxer. This '\n",
      "                                       'is a supposition based on visual cues '\n",
      "                                       'and the context of the video.',\n",
      "                       'statement': 'Secrets I have held in my heart, my '\n",
      "                                    'harder to hide than I thought, Maybe I '\n",
      "                                    'just want to be yours. I wanna be yours. '\n",
      "                                    'I wanna be yours. I wanna be yours. I '\n",
      "                                    'wanna be yours. I wanna be yours. I wanna '\n",
      "                                    'be yours.'}]}\n"
     ]
    }
   ],
   "source": [
    "from buttermilk.flows.video.video import Analyst\n",
    "\n",
    "flow_vars = cfg['run']['frame']\n",
    "flow = Analyst(**flow_vars)\n",
    "output = flow(content='see video', media_attachment_uri='gs://dmrc-platforms/test/fyp/tiktok-imane-01.mp4')\n",
    "\n",
    "import pprint\n",
    "\n",
    "pp = pprint.PrettyPrinter(indent=4)\n",
    "pp.pprint(output)\n"
   ]
  },
  {
   "cell_type": "code",
   "execution_count": null,
   "metadata": {},
   "outputs": [
    {
     "name": "stdout",
     "output_type": "stream",
     "text": [
      "You can view the trace detail from the following URL:\n",
      "http://127.0.0.1:23334/v1.0/ui/traces/?#collection=default_project&uiTraceId=0x6c9823a1dec3c8a55bec2261dcf8c9ba\n",
      "https://ai.azure.com/projecttrace/detail/0x6c9823a1dec3c8a55bec2261dcf8c9ba?wsid=/subscriptions/7e7e056a-4224-4e26-99d2-1e3f9a688c50/resourceGroups/rg-suzor_ai/providers/Microsoft.MachineLearningServices/workspaces/automod\n",
      "You can view the trace detail from the following URL:\n",
      "http://127.0.0.1:23334/v1.0/ui/traces/?#collection=default_project&uiTraceId=0xa18d9b01bf4344f89093d53ff8233de2\n",
      "https://ai.azure.com/projecttrace/detail/0xa18d9b01bf4344f89093d53ff8233de2?wsid=/subscriptions/7e7e056a-4224-4e26-99d2-1e3f9a688c50/resourceGroups/rg-suzor_ai/providers/Microsoft.MachineLearningServices/workspaces/automod\n",
      "You can view the trace detail from the following URL:\n",
      "http://127.0.0.1:23334/v1.0/ui/traces/?#collection=default_project&uiTraceId=0x56b578647f4c2760783cfc4f6674d92e\n",
      "https://ai.azure.com/projecttrace/detail/0x56b578647f4c2760783cfc4f6674d92e?wsid=/subscriptions/7e7e056a-4224-4e26-99d2-1e3f9a688c50/resourceGroups/rg-suzor_ai/providers/Microsoft.MachineLearningServices/workspaces/automod\n"
     ]
    },
    {
     "name": "stdout",
     "output_type": "stream",
     "text": [
      "{   'framing': [   {   'blame_attribution': 'The speaker attributes blame to '\n",
      "                                            \"the woman who ignored Imane's \"\n",
      "                                            'attempt at comfort. This is '\n",
      "                                            \"evident in the phrase 'I can't \"\n",
      "                                            \"get over how that woman ignored.' \"\n",
      "                                            'The language emphasizes the act '\n",
      "                                            'of ignoring as unexpected and '\n",
      "                                            'insensitive.',\n",
      "                       'moral_evaluation': 'The statement implies a negative '\n",
      "                                           'moral judgment of the woman who '\n",
      "                                           'ignored the attempt at comfort.  '\n",
      "                                           'The speaker frames ignoring '\n",
      "                                           'someone offering comfort as '\n",
      "                                           'insensitive and worthy of '\n",
      "                                           'criticism.',\n",
      "                       'problem_definition': 'A woman, identified as Imane, is '\n",
      "                                             'being ignored after offering '\n",
      "                                             'comfort.',\n",
      "                       'recommendation': 'The statement does not offer a '\n",
      "                                         'specific recommendation.',\n",
      "                       'solution_adressee': 'Unclear from content',\n",
      "                       'speaker_affiliation': 'Unclear from content',\n",
      "                       'speaker_name': 'daisy_garden4 (TikTok User)',\n",
      "                       'statement': \"I can't get over how that woman ignored \"\n",
      "                                    'Imane even though she just tried to '\n",
      "                                    'comfort her.'}]}\n"
     ]
    }
   ],
   "source": [
    "\n",
    "output = flow(content='see video', media_attachment_uri='gs://dmrc-platforms/test/fyp/tiktok-imane-02.mp4')\n",
    "\n",
    "import pprint\n",
    "\n",
    "pp = pprint.PrettyPrinter(indent=4)\n",
    "pp.pprint(output)\n"
   ]
  },
  {
   "cell_type": "code",
   "execution_count": null,
   "metadata": {},
   "outputs": [
    {
     "name": "stdout",
     "output_type": "stream",
     "text": [
      "{   'framing': [   {   'blame_attribution': 'Implicitly blames the situation '\n",
      "                                            'or system that allowed the female '\n",
      "                                            'boxer to be in a position where '\n",
      "                                            'she feared for her safety.',\n",
      "                       'moral_evaluation': 'Expresses concern for the female '\n",
      "                                           \"boxer's well-being and implies a \"\n",
      "                                           'sense of injustice or unfairness '\n",
      "                                           'in the situation.',\n",
      "                       'problem_definition': 'A talented female boxer quit a '\n",
      "                                             'fight out of fear for her '\n",
      "                                             'safety.',\n",
      "                       'recommendation': 'While not explicitly stated, the '\n",
      "                                         'text hints at a need for change to '\n",
      "                                         'prevent similar situations from '\n",
      "                                         'recurring.',\n",
      "                       'solution_adressee': 'Unspecified',\n",
      "                       'speaker_affiliation': 'Unspecified',\n",
      "                       'speaker_name': 'Unspecified speaker',\n",
      "                       'statement': 'So its happened again another very '\n",
      "                                    'talented female boxer quit 45 seconds '\n",
      "                                    'into the first round of a bout due to '\n",
      "                                    'fearing for her life or getting seriously '\n",
      "                                    'hurt'},\n",
      "                   {   'blame_attribution': 'The blame is attributed to the '\n",
      "                                            'system or rules that allow a male '\n",
      "                                            'boxer to compete against a female '\n",
      "                                            'boxer.',\n",
      "                       'moral_evaluation': 'The speaker expresses outrage and '\n",
      "                                           'moral disapproval of the '\n",
      "                                           'situation, emphasizing the '\n",
      "                                           'expectation of protecting women.',\n",
      "                       'problem_definition': 'The speaker points out the '\n",
      "                                             'physical differences between the '\n",
      "                                             'male and female boxer, '\n",
      "                                             'suggesting an unfair advantage.',\n",
      "                       'recommendation': 'The speaker implicitly recommends a '\n",
      "                                         'change in regulations or practices '\n",
      "                                         'to prevent what they perceive as an '\n",
      "                                         'unjust and potentially dangerous '\n",
      "                                         'situation.',\n",
      "                       'solution_adressee': 'Unspecified',\n",
      "                       'speaker_affiliation': 'Unspecified',\n",
      "                       'speaker_name': 'Unspecified speaker',\n",
      "                       'statement': 'But the male Algerian boxer I mean just '\n",
      "                                    'look at the bone structure on both of '\n",
      "                                    'their faces and the size difference '\n",
      "                                    'between both of them I thought we were '\n",
      "                                    'supposed to protect women not beat them '\n",
      "                                    'up'}]}\n"
     ]
    }
   ],
   "source": [
    "\n",
    "output = flow(content='see video', media_attachment_uri='gs://dmrc-platforms/test/fyp/tiktok-imane-03.mp4')\n",
    "\n",
    "import pprint\n",
    "\n",
    "pp = pprint.PrettyPrinter(indent=4)\n",
    "pp.pprint(output)\n"
   ]
  },
  {
   "cell_type": "code",
   "execution_count": null,
   "metadata": {},
   "outputs": [],
   "source": []
  }
 ],
 "metadata": {
  "kernelspec": {
   "display_name": "bm",
   "language": "python",
   "name": "python3"
  },
  "language_info": {
   "codemirror_mode": {
    "name": "ipython",
    "version": 3
   },
   "file_extension": ".py",
   "mimetype": "text/x-python",
   "name": "python",
   "nbconvert_exporter": "python",
   "pygments_lexer": "ipython3",
   "version": "3.11.0"
  }
 },
 "nbformat": 4,
 "nbformat_minor": 2
}
