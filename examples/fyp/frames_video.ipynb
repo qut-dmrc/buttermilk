{
 "cells": [
  {
   "cell_type": "markdown",
   "metadata": {},
   "source": [
    "# Extract frames from a video"
   ]
  },
  {
   "cell_type": "code",
   "execution_count": 1,
   "metadata": {},
   "outputs": [],
   "source": [
    "%load_ext autoreload\n",
    "%autoreload 2"
   ]
  },
  {
   "cell_type": "code",
   "execution_count": 2,
   "metadata": {},
   "outputs": [
    {
     "name": "stdout",
     "output_type": "stream",
     "text": [
      "2024-08-28 21:04:13 26f087537f3a buttermilk buttermilk.py[ 227] INFO Logging setup for: {'function_name': 'default_project', 'job': 'development', 'logs': '20240828T1104Z-hguS-26f087537f3a-vscode', 'user': 'vscode', 'node': '26f087537f3a'}. Ready for data collection, saving log to Google Cloud Logs (Resource(type='generic_task', labels={'project_id': 'dmrc-platforms', 'location': 'us-central1', 'namespace': 'default_project', 'job': 'development', 'task_id': '20240828T1104Z-hguS-26f087537f3a-vscode'})). Default save directory for data in this run is: gs://dmrc-analysis/runs/default_project/development/20240828T1104Z-hguS-26f087537f3a-vscode\n",
      "2024-08-28 21:04:13 26f087537f3a root _start_trace.py[  76] INFO collection: default_project\n",
      "2024-08-28 21:04:13 26f087537f3a root _start_trace.py[  78] INFO resource attributes: {'service.name': 'promptflow', 'run_id': '20240828T1104Z-hguS-26f087537f3a-vscode', 'collection': 'default_project'}\n",
      "2024-08-28 21:04:13 26f087537f3a root _start_trace.py[ 165] INFO tracer provider is set with resource attributes: {'service.name': 'promptflow', 'run_id': '20240828T1104Z-hguS-26f087537f3a-vscode', 'collection': 'default_project'}\n",
      "2024-08-28 21:04:13 26f087537f3a root _start_trace.py[ 168] INFO user specifies collection, will add a flag on tracer provider to avoid override...\n",
      "Prompt flow service has started...\n",
      "name: fyp\n",
      "job: test\n",
      "project:\n",
      "  secret_provider: azure\n",
      "  logger: gcp\n",
      "  models_secret: models\n",
      "  save_dest: gcp\n",
      "  save_dir: null\n",
      "  gcp:\n",
      "    project: dmrc-analysis\n",
      "    region: us-central1\n",
      "    bucket: dmrc-analysis\n",
      "  azure:\n",
      "    vault: https://suzorvault.vault.azure.net/\n",
      "    resource_group: rg-suzor_ai\n",
      "  aws:\n",
      "    secret_name: secret\n",
      "    region: us-east-1\n",
      "run:\n",
      "  dataset:\n",
      "    uri: gs://dmrc-analysis/test/fyp/*\n",
      "  frame:\n",
      "    template: frames_system.jinja2\n",
      "    model: gemini15pro\n",
      "\n"
     ]
    }
   ],
   "source": [
    "import os\n",
    "from hydra import initialize, compose\n",
    "from omegaconf import OmegaConf\n",
    "\n",
    "\n",
    "with initialize(version_base=None, config_path=\"conf\", ):\n",
    "    cfg = compose(config_name=\"config.yaml\")\n",
    "\n",
    "import buttermilk\n",
    "bm = buttermilk.BM()\n",
    "\n",
    "print(OmegaConf.to_yaml(cfg))\n"
   ]
  },
  {
   "cell_type": "code",
   "execution_count": 3,
   "metadata": {},
   "outputs": [
    {
     "name": "stdout",
     "output_type": "stream",
     "text": [
      "2024-08-28 21:04:20 26f087537f3a buttermilk buttermilk.py[ 227] INFO Logging setup for: {'function_name': 'default_project', 'job': 'development', 'logs': '20240828T1104Z-4NLQ-26f087537f3a-vscode', 'user': 'vscode', 'node': '26f087537f3a'}. Ready for data collection, saving log to Google Cloud Logs (Resource(type='generic_task', labels={'project_id': 'dmrc-platforms', 'location': 'us-central1', 'namespace': 'default_project', 'job': 'development', 'task_id': '20240828T1104Z-4NLQ-26f087537f3a-vscode'})). Default save directory for data in this run is: gs://dmrc-analysis/runs/default_project/development/20240828T1104Z-4NLQ-26f087537f3a-vscode\n",
      "2024-08-28 21:04:20 26f087537f3a root _start_trace.py[  76] INFO collection: default_project\n",
      "2024-08-28 21:04:20 26f087537f3a root _start_trace.py[  78] INFO resource attributes: {'service.name': 'promptflow', 'run_id': '20240828T1104Z-4NLQ-26f087537f3a-vscode', 'collection': 'default_project'}\n",
      "2024-08-28 21:04:20 26f087537f3a root _start_trace.py[ 157] INFO tracer provider is already set, will merge the resource attributes...\n",
      "2024-08-28 21:04:20 26f087537f3a root _start_trace.py[ 162] INFO tracer provider is updated with resource attributes: {'service.name': 'promptflow', 'run_id': '20240828T1104Z-4NLQ-26f087537f3a-vscode', 'collection': 'default_project', 'subscription.id': '7e7e056a-4224-4e26-99d2-1e3f9a688c50', 'resource_group.name': 'rg-suzor_ai', 'workspace.name': 'automod'}\n",
      "2024-08-28 21:04:20 26f087537f3a root _start_trace.py[ 168] INFO user specifies collection, will add a flag on tracer provider to avoid override...\n",
      "Prompt flow service has started...\n",
      "{   'framing': [   {   'blame_attribution': 'While not explicitly stated, the '\n",
      "                                            'framing suggests the source of '\n",
      "                                            'the struggle might be societal '\n",
      "                                            'pressures or expectations.',\n",
      "                       'moral_evaluation': 'The lyrics and emotional tone '\n",
      "                                           'suggest a yearning for acceptance '\n",
      "                                           'and a desire to be true to '\n",
      "                                           'oneself.',\n",
      "                       'problem_definition': 'The speaker seems to wrestle '\n",
      "                                             'with an internal conflict, '\n",
      "                                             'potentially related to personal '\n",
      "                                             'identity, which they find '\n",
      "                                             'challenging to conceal.',\n",
      "                       'recommendation': \"The repeated phrase 'I wanna be \"\n",
      "                                         \"yours' could be interpreted as a \"\n",
      "                                         'desire to live authentically and '\n",
      "                                         'openly, perhaps seeking validation '\n",
      "                                         'and love for who they truly are.',\n",
      "                       'solution_adressee': 'Those who struggle with their '\n",
      "                                            'identity, specifically athletes '\n",
      "                                            'who may feel societal pressure to '\n",
      "                                            'conform (implied)',\n",
      "                       'speaker_affiliation': 'Algerian Boxer (assumed)',\n",
      "                       'speaker_name': 'The speaker in the video appears to be '\n",
      "                                       'Nesrine Malik, an Algerian boxer. This '\n",
      "                                       'is a supposition based on visual cues '\n",
      "                                       'and the context of the video.',\n",
      "                       'statement': 'Secrets I have held in my heart, my '\n",
      "                                    'harder to hide than I thought, Maybe I '\n",
      "                                    'just want to be yours. I wanna be yours. '\n",
      "                                    'I wanna be yours. I wanna be yours. I '\n",
      "                                    'wanna be yours. I wanna be yours. I wanna '\n",
      "                                    'be yours.'}]}\n"
     ]
    }
   ],
   "source": [
    "from buttermilk.flows.video.video import Analyst\n",
    "\n",
    "flow_vars = cfg['run']['frame']\n",
    "flow = Analyst(**flow_vars)\n",
    "output = flow(content='see video', media_attachment_uri='gs://dmrc-platforms/test/fyp/tiktok-imane-01.mp4')\n",
    "\n",
    "import pprint\n",
    "\n",
    "pp = pprint.PrettyPrinter(indent=4)\n",
    "pp.pprint(output)"
   ]
  },
  {
   "cell_type": "code",
   "execution_count": 4,
   "metadata": {},
   "outputs": [
    {
     "name": "stdout",
     "output_type": "stream",
     "text": [
      "You can view the trace detail from the following URL:\n",
      "http://127.0.0.1:23334/v1.0/ui/traces/?#collection=default_project&uiTraceId=0x6c9823a1dec3c8a55bec2261dcf8c9ba\n",
      "https://ai.azure.com/projecttrace/detail/0x6c9823a1dec3c8a55bec2261dcf8c9ba?wsid=/subscriptions/7e7e056a-4224-4e26-99d2-1e3f9a688c50/resourceGroups/rg-suzor_ai/providers/Microsoft.MachineLearningServices/workspaces/automod\n",
      "You can view the trace detail from the following URL:\n",
      "http://127.0.0.1:23334/v1.0/ui/traces/?#collection=default_project&uiTraceId=0xa18d9b01bf4344f89093d53ff8233de2\n",
      "https://ai.azure.com/projecttrace/detail/0xa18d9b01bf4344f89093d53ff8233de2?wsid=/subscriptions/7e7e056a-4224-4e26-99d2-1e3f9a688c50/resourceGroups/rg-suzor_ai/providers/Microsoft.MachineLearningServices/workspaces/automod\n",
      "You can view the trace detail from the following URL:\n",
      "http://127.0.0.1:23334/v1.0/ui/traces/?#collection=default_project&uiTraceId=0x56b578647f4c2760783cfc4f6674d92e\n",
      "https://ai.azure.com/projecttrace/detail/0x56b578647f4c2760783cfc4f6674d92e?wsid=/subscriptions/7e7e056a-4224-4e26-99d2-1e3f9a688c50/resourceGroups/rg-suzor_ai/providers/Microsoft.MachineLearningServices/workspaces/automod\n"
     ]
    },
    {
     "name": "stdout",
     "output_type": "stream",
     "text": [
      "{   'framing': [   {   'blame_attribution': 'The speaker attributes blame to '\n",
      "                                            \"the woman who ignored Imane's \"\n",
      "                                            'attempt at comfort. This is '\n",
      "                                            \"evident in the phrase 'I can't \"\n",
      "                                            \"get over how that woman ignored.' \"\n",
      "                                            'The language emphasizes the act '\n",
      "                                            'of ignoring as unexpected and '\n",
      "                                            'insensitive.',\n",
      "                       'moral_evaluation': 'The statement implies a negative '\n",
      "                                           'moral judgment of the woman who '\n",
      "                                           'ignored the attempt at comfort.  '\n",
      "                                           'The speaker frames ignoring '\n",
      "                                           'someone offering comfort as '\n",
      "                                           'insensitive and worthy of '\n",
      "                                           'criticism.',\n",
      "                       'problem_definition': 'A woman, identified as Imane, is '\n",
      "                                             'being ignored after offering '\n",
      "                                             'comfort.',\n",
      "                       'recommendation': 'The statement does not offer a '\n",
      "                                         'specific recommendation.',\n",
      "                       'solution_adressee': 'Unclear from content',\n",
      "                       'speaker_affiliation': 'Unclear from content',\n",
      "                       'speaker_name': 'daisy_garden4 (TikTok User)',\n",
      "                       'statement': \"I can't get over how that woman ignored \"\n",
      "                                    'Imane even though she just tried to '\n",
      "                                    'comfort her.'}]}\n"
     ]
    }
   ],
   "source": [
    "\n",
    "output = flow(content='see video', media_attachment_uri='gs://dmrc-platforms/test/fyp/tiktok-imane-02.mp4')\n",
    "\n",
    "import pprint\n",
    "\n",
    "pp = pprint.PrettyPrinter(indent=4)\n",
    "pp.pprint(output)"
   ]
  },
  {
   "cell_type": "code",
   "execution_count": 5,
   "metadata": {},
   "outputs": [
    {
     "name": "stdout",
     "output_type": "stream",
     "text": [
      "{   'framing': [   {   'blame_attribution': 'Implicitly blames the situation '\n",
      "                                            'or system that allowed the female '\n",
      "                                            'boxer to be in a position where '\n",
      "                                            'she feared for her safety.',\n",
      "                       'moral_evaluation': 'Expresses concern for the female '\n",
      "                                           \"boxer's well-being and implies a \"\n",
      "                                           'sense of injustice or unfairness '\n",
      "                                           'in the situation.',\n",
      "                       'problem_definition': 'A talented female boxer quit a '\n",
      "                                             'fight out of fear for her '\n",
      "                                             'safety.',\n",
      "                       'recommendation': 'While not explicitly stated, the '\n",
      "                                         'text hints at a need for change to '\n",
      "                                         'prevent similar situations from '\n",
      "                                         'recurring.',\n",
      "                       'solution_adressee': 'Unspecified',\n",
      "                       'speaker_affiliation': 'Unspecified',\n",
      "                       'speaker_name': 'Unspecified speaker',\n",
      "                       'statement': 'So its happened again another very '\n",
      "                                    'talented female boxer quit 45 seconds '\n",
      "                                    'into the first round of a bout due to '\n",
      "                                    'fearing for her life or getting seriously '\n",
      "                                    'hurt'},\n",
      "                   {   'blame_attribution': 'The blame is attributed to the '\n",
      "                                            'system or rules that allow a male '\n",
      "                                            'boxer to compete against a female '\n",
      "                                            'boxer.',\n",
      "                       'moral_evaluation': 'The speaker expresses outrage and '\n",
      "                                           'moral disapproval of the '\n",
      "                                           'situation, emphasizing the '\n",
      "                                           'expectation of protecting women.',\n",
      "                       'problem_definition': 'The speaker points out the '\n",
      "                                             'physical differences between the '\n",
      "                                             'male and female boxer, '\n",
      "                                             'suggesting an unfair advantage.',\n",
      "                       'recommendation': 'The speaker implicitly recommends a '\n",
      "                                         'change in regulations or practices '\n",
      "                                         'to prevent what they perceive as an '\n",
      "                                         'unjust and potentially dangerous '\n",
      "                                         'situation.',\n",
      "                       'solution_adressee': 'Unspecified',\n",
      "                       'speaker_affiliation': 'Unspecified',\n",
      "                       'speaker_name': 'Unspecified speaker',\n",
      "                       'statement': 'But the male Algerian boxer I mean just '\n",
      "                                    'look at the bone structure on both of '\n",
      "                                    'their faces and the size difference '\n",
      "                                    'between both of them I thought we were '\n",
      "                                    'supposed to protect women not beat them '\n",
      "                                    'up'}]}\n"
     ]
    }
   ],
   "source": [
    "\n",
    "output = flow(content='see video', media_attachment_uri='gs://dmrc-platforms/test/fyp/tiktok-imane-03.mp4')\n",
    "\n",
    "import pprint\n",
    "\n",
    "pp = pprint.PrettyPrinter(indent=4)\n",
    "pp.pprint(output)"
   ]
  },
  {
   "cell_type": "code",
   "execution_count": null,
   "metadata": {},
   "outputs": [],
   "source": []
  }
 ],
 "metadata": {
  "kernelspec": {
   "display_name": "python311",
   "language": "python",
   "name": "python3"
  },
  "language_info": {
   "codemirror_mode": {
    "name": "ipython",
    "version": 3
   },
   "file_extension": ".py",
   "mimetype": "text/x-python",
   "name": "python",
   "nbconvert_exporter": "python",
   "pygments_lexer": "ipython3",
   "version": "3.11.0"
  }
 },
 "nbformat": 4,
 "nbformat_minor": 2
}
