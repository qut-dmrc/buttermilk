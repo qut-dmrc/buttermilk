{
 "cells": [
  {
   "cell_type": "markdown",
   "metadata": {},
   "source": [
    "# Extract frames from a video\n"
   ]
  },
  {
   "cell_type": "code",
   "execution_count": 1,
   "metadata": {},
   "outputs": [],
   "source": [
    "%load_ext autoreload\n",
    "%autoreload 2\n"
   ]
  },
  {
   "cell_type": "code",
   "execution_count": null,
   "metadata": {},
   "outputs": [
    {
     "name": "stderr",
     "output_type": "stream",
     "text": [
      "/opt/homebrew/Caskroom/miniconda/base/envs/bm/lib/python3.11/site-packages/tqdm/auto.py:21: TqdmWarning: IProgress not found. Please update jupyter and ipywidgets. See https://ipywidgets.readthedocs.io/en/stable/user_install.html\n",
      "  from .autonotebook import tqdm as notebook_tqdm\n"
     ]
    },
    {
     "data": {
      "text/html": [
       "<pre style=\"white-space:pre;overflow-x:auto;line-height:normal;font-family:Menlo,'DejaVu Sans Mono',consolas,'Courier New',monospace\"><span style=\"font-weight: bold\">{</span><span style=\"color: #008000; text-decoration-color: #008000\">'name'</span>: <span style=\"color: #008000; text-decoration-color: #008000\">'examples'</span>, <span style=\"color: #008000; text-decoration-color: #008000\">'job'</span>: <span style=\"color: #008000; text-decoration-color: #008000\">'testing'</span>, <span style=\"color: #008000; text-decoration-color: #008000\">'logger'</span>: <span style=\"color: #008000; text-decoration-color: #008000\">'gcp'</span>, <span style=\"color: #008000; text-decoration-color: #008000\">'tracing'</span>: <span style=\"font-weight: bold\">{</span><span style=\"color: #008000; text-decoration-color: #008000\">'enabled'</span>: <span style=\"color: #00ff00; text-decoration-color: #00ff00; font-style: italic\">True</span><span style=\"font-weight: bold\">}</span>, <span style=\"color: #008000; text-decoration-color: #008000\">'verbose'</span>: <span style=\"color: #ff0000; text-decoration-color: #ff0000; font-style: italic\">False</span>, \n",
       "<span style=\"color: #008000; text-decoration-color: #008000\">'save_dest'</span>: <span style=\"font-weight: bold\">{</span><span style=\"color: #008000; text-decoration-color: #008000\">'type'</span>: <span style=\"color: #008000; text-decoration-color: #008000\">'gcp'</span>, <span style=\"color: #008000; text-decoration-color: #008000\">'project'</span>: <span style=\"color: #008000; text-decoration-color: #008000\">'dmrc-analysis'</span>, <span style=\"color: #008000; text-decoration-color: #008000\">'region'</span>: <span style=\"color: #008000; text-decoration-color: #008000\">'us-central1'</span>, <span style=\"color: #008000; text-decoration-color: #008000\">'bucket'</span>: <span style=\"color: #008000; text-decoration-color: #008000\">'dmrc-analysis'</span><span style=\"font-weight: bold\">}</span>, \n",
       "<span style=\"color: #008000; text-decoration-color: #008000\">'secret_provider'</span>: <span style=\"font-weight: bold\">{</span><span style=\"color: #008000; text-decoration-color: #008000\">'type'</span>: <span style=\"color: #008000; text-decoration-color: #008000\">'azure'</span>, <span style=\"color: #008000; text-decoration-color: #008000\">'vault'</span>: <span style=\"color: #008000; text-decoration-color: #008000\">'https://suzorvault.vault.azure.net/'</span>, <span style=\"color: #008000; text-decoration-color: #008000\">'resource_group'</span>: \n",
       "<span style=\"color: #008000; text-decoration-color: #008000\">'rg-suzor_ai'</span>, <span style=\"color: #008000; text-decoration-color: #008000\">'models_secret'</span>: <span style=\"color: #008000; text-decoration-color: #008000\">'models'</span><span style=\"font-weight: bold\">}</span>, <span style=\"color: #008000; text-decoration-color: #008000\">'run'</span>: <span style=\"font-weight: bold\">{</span><span style=\"color: #008000; text-decoration-color: #008000\">'platform'</span>: <span style=\"color: #008000; text-decoration-color: #008000\">'local'</span><span style=\"font-weight: bold\">}</span>, <span style=\"color: #008000; text-decoration-color: #008000\">'flows'</span>: <span style=\"font-weight: bold\">[{</span><span style=\"color: #008000; text-decoration-color: #008000\">'name'</span>: <span style=\"color: #008000; text-decoration-color: #008000\">'frame'</span>, <span style=\"color: #008000; text-decoration-color: #008000\">'num_runs'</span>: <span style=\"color: #008080; text-decoration-color: #008080; font-weight: bold\">1</span>,\n",
       "<span style=\"color: #008000; text-decoration-color: #008000\">'concurrency'</span>: <span style=\"color: #008080; text-decoration-color: #008080; font-weight: bold\">20</span>, <span style=\"color: #008000; text-decoration-color: #008000\">'agent'</span>: <span style=\"font-weight: bold\">{</span><span style=\"color: #008000; text-decoration-color: #008000\">'_target_'</span>: <span style=\"color: #008000; text-decoration-color: #008000\">'buttermilk.agents.LC'</span>, <span style=\"color: #008000; text-decoration-color: #008000\">'name'</span>: <span style=\"color: #008000; text-decoration-color: #008000\">'lc'</span>, <span style=\"color: #008000; text-decoration-color: #008000\">'template'</span>: <span style=\"color: #008000; text-decoration-color: #008000\">'frames'</span>, <span style=\"color: #008000; text-decoration-color: #008000\">'model'</span>: \n",
       "<span style=\"color: #008000; text-decoration-color: #008000\">'gemini15pro'</span><span style=\"font-weight: bold\">}}]}</span>\n",
       "</pre>\n"
      ],
      "text/plain": [
       "\u001b[1m{\u001b[0m\u001b[32m'name'\u001b[0m: \u001b[32m'examples'\u001b[0m, \u001b[32m'job'\u001b[0m: \u001b[32m'testing'\u001b[0m, \u001b[32m'logger'\u001b[0m: \u001b[32m'gcp'\u001b[0m, \u001b[32m'tracing'\u001b[0m: \u001b[1m{\u001b[0m\u001b[32m'enabled'\u001b[0m: \u001b[3;92mTrue\u001b[0m\u001b[1m}\u001b[0m, \u001b[32m'verbose'\u001b[0m: \u001b[3;91mFalse\u001b[0m, \n",
       "\u001b[32m'save_dest'\u001b[0m: \u001b[1m{\u001b[0m\u001b[32m'type'\u001b[0m: \u001b[32m'gcp'\u001b[0m, \u001b[32m'project'\u001b[0m: \u001b[32m'dmrc-analysis'\u001b[0m, \u001b[32m'region'\u001b[0m: \u001b[32m'us-central1'\u001b[0m, \u001b[32m'bucket'\u001b[0m: \u001b[32m'dmrc-analysis'\u001b[0m\u001b[1m}\u001b[0m, \n",
       "\u001b[32m'secret_provider'\u001b[0m: \u001b[1m{\u001b[0m\u001b[32m'type'\u001b[0m: \u001b[32m'azure'\u001b[0m, \u001b[32m'vault'\u001b[0m: \u001b[32m'https://suzorvault.vault.azure.net/'\u001b[0m, \u001b[32m'resource_group'\u001b[0m: \n",
       "\u001b[32m'rg-suzor_ai'\u001b[0m, \u001b[32m'models_secret'\u001b[0m: \u001b[32m'models'\u001b[0m\u001b[1m}\u001b[0m, \u001b[32m'run'\u001b[0m: \u001b[1m{\u001b[0m\u001b[32m'platform'\u001b[0m: \u001b[32m'local'\u001b[0m\u001b[1m}\u001b[0m, \u001b[32m'flows'\u001b[0m: \u001b[1m[\u001b[0m\u001b[1m{\u001b[0m\u001b[32m'name'\u001b[0m: \u001b[32m'frame'\u001b[0m, \u001b[32m'num_runs'\u001b[0m: \u001b[1;36m1\u001b[0m,\n",
       "\u001b[32m'concurrency'\u001b[0m: \u001b[1;36m20\u001b[0m, \u001b[32m'agent'\u001b[0m: \u001b[1m{\u001b[0m\u001b[32m'_target_'\u001b[0m: \u001b[32m'buttermilk.agents.LC'\u001b[0m, \u001b[32m'name'\u001b[0m: \u001b[32m'lc'\u001b[0m, \u001b[32m'template'\u001b[0m: \u001b[32m'frames'\u001b[0m, \u001b[32m'model'\u001b[0m: \n",
       "\u001b[32m'gemini15pro'\u001b[0m\u001b[1m}\u001b[0m\u001b[1m}\u001b[0m\u001b[1m]\u001b[0m\u001b[1m}\u001b[0m\n"
      ]
     },
     "metadata": {},
     "output_type": "display_data"
    },
    {
     "name": "stdout",
     "output_type": "stream",
     "text": [
      "\u001b[32m2024-11-09 09:33:29\u001b[0m \u001b[35mJ5HW6L4KT6\u001b[0m \u001b[34mbuttermilk\u001b[0m buttermilk.py[ 224] \u001b[1;30mINFO\u001b[0m {'message': \"Logging setup for: 20241108T2333Z-4CkZ-J5HW6L4KT6-suzor. Ready for data collection, saving log to Google Cloud Logs (Resource(type='generic_task', labels={'project_id': 'dmrc-platforms', 'location': 'us-central1', 'namespace': 'examples', 'job': 'testing', 'task_id': '20241108T2333Z-4CkZ-J5HW6L4KT6-suzor'})). Default save directory for data in this run is: gs://dmrc-analysis/runs/examples/testing/20241108T2333Z-4CkZ-J5HW6L4KT6-suzor\", 'project': 'examples', 'job': 'testing', 'run_id': '20241108T2333Z-4CkZ-J5HW6L4KT6-suzor', 'save_dir': 'gs://dmrc-analysis/runs/examples/testing/20241108T2333Z-4CkZ-J5HW6L4KT6-suzor', 'ip': '159.196.210.27', 'node_name': 'J5HW6L4KT6', 'username': 'suzor'}\n",
      "Prompt flow service has started...\n"
     ]
    },
    {
     "name": "stdout",
     "output_type": "stream",
     "text": [
      "You can view the trace detail from the following URL:\n",
      "http://127.0.0.1:23333/v1.0/ui/traces/?#collection=examples&uiTraceId=0x6a9b5e6afbeb4b22a0a81bc727738581\n",
      "You can view the trace detail from the following URL:\n",
      "http://127.0.0.1:23333/v1.0/ui/traces/?#collection=examples&uiTraceId=0xe64e59e1c3957fd037bd835e21b9f8f8\n",
      "You can view the trace detail from the following URL:\n",
      "http://127.0.0.1:23333/v1.0/ui/traces/?#collection=examples&uiTraceId=0x520f1fdb65dc5cd8f1fbc18094a59d3e\n",
      "You can view the trace detail from the following URL:\n",
      "http://127.0.0.1:23333/v1.0/ui/traces/?#collection=examples&uiTraceId=0xe0a2db2c3d2f0cc25ff86e5526bd39ba\n",
      "You can view the trace detail from the following URL:\n",
      "http://127.0.0.1:23333/v1.0/ui/traces/?#collection=examples&uiTraceId=0x219cad69e0cf4f45954f551388934e81\n"
     ]
    }
   ],
   "source": [
    "\n",
    "from buttermilk import BM\n",
    "from buttermilk._core.config import Project\n",
    "from promptflow.tracing import trace, start_trace\n",
    "from rich import print as rprint\n",
    "from hydra import initialize, compose\n",
    "\n",
    "from buttermilk.agents.lc import LC\n",
    "\n",
    "\n",
    "#Config = builds(Project, hydra_recursive=True)\n",
    "with initialize(version_base=None, config_path=\"../conf\"):\n",
    "    # Load config, specifying overrides for our particular job\n",
    "    cfg = compose(config_name='config',\n",
    "                  overrides=[\"+flows=frames\"]\n",
    "                  )\n",
    "    \n",
    "    # print config\n",
    "    rprint(cfg)\n",
    "\n",
    "# Load the main ButterMilk singleton instance\n",
    "# This takes care of credentials, save paths, and other defaults\n",
    "bm = BM(cfg=cfg)\n",
    "from hydra.utils import instantiate\n",
    "agent  = instantiate(\n",
    "    cfg.flows[0].agent\n",
    ")\n"
   ]
  },
  {
   "cell_type": "markdown",
   "metadata": {},
   "source": [
    "## Run with Gemini (binary video supported if stored on GCS)"
   ]
  },
  {
   "cell_type": "code",
   "execution_count": 5,
   "metadata": {},
   "outputs": [
    {
     "name": "stderr",
     "output_type": "stream",
     "text": [
      "I0000 00:00:1731115350.353093 41603950 fork_posix.cc:77] Other threads are currently calling into gRPC, skipping fork() handlers\n"
     ]
    },
    {
     "data": {
      "text/html": [
       "<pre style=\"white-space:pre;overflow-x:auto;line-height:normal;font-family:Menlo,'DejaVu Sans Mono',consolas,'Courier New',monospace\"><span style=\"color: #800080; text-decoration-color: #800080; font-weight: bold\">Result</span><span style=\"font-weight: bold\">(</span>\n",
       "    <span style=\"color: #808000; text-decoration-color: #808000\">category</span>=<span style=\"color: #800080; text-decoration-color: #800080; font-style: italic\">None</span>,\n",
       "    <span style=\"color: #808000; text-decoration-color: #808000\">prediction</span>=<span style=\"color: #800080; text-decoration-color: #800080; font-style: italic\">None</span>,\n",
       "    <span style=\"color: #808000; text-decoration-color: #808000\">result</span>=<span style=\"color: #800080; text-decoration-color: #800080; font-style: italic\">None</span>,\n",
       "    <span style=\"color: #808000; text-decoration-color: #808000\">labels</span>=<span style=\"font-weight: bold\">[]</span>,\n",
       "    <span style=\"color: #808000; text-decoration-color: #808000\">confidence</span>=<span style=\"color: #800080; text-decoration-color: #800080; font-style: italic\">None</span>,\n",
       "    <span style=\"color: #808000; text-decoration-color: #808000\">severity</span>=<span style=\"color: #800080; text-decoration-color: #800080; font-style: italic\">None</span>,\n",
       "    <span style=\"color: #808000; text-decoration-color: #808000\">reasons</span>=<span style=\"font-weight: bold\">[]</span>,\n",
       "    <span style=\"color: #808000; text-decoration-color: #808000\">scores</span>=<span style=\"color: #800080; text-decoration-color: #800080; font-style: italic\">None</span>,\n",
       "    <span style=\"color: #808000; text-decoration-color: #808000\">metadata</span>=<span style=\"color: #800080; text-decoration-color: #800080; font-style: italic\">None</span>,\n",
       "    <span style=\"color: #808000; text-decoration-color: #808000\">framing</span>=<span style=\"font-weight: bold\">[</span>\n",
       "        <span style=\"font-weight: bold\">{</span>\n",
       "            <span style=\"color: #008000; text-decoration-color: #008000\">'statement'</span>: <span style=\"color: #008000; text-decoration-color: #008000\">\"Seggsual assault allegations DO NOT ruin a man's life.\"</span>,\n",
       "            <span style=\"color: #008000; text-decoration-color: #008000\">'speaker_name'</span>: <span style=\"color: #008000; text-decoration-color: #008000\">'Unknown'</span>,\n",
       "            <span style=\"color: #008000; text-decoration-color: #008000\">'speaker_affiliation'</span>: <span style=\"color: #008000; text-decoration-color: #008000\">'Unknown'</span>,\n",
       "            <span style=\"color: #008000; text-decoration-color: #008000\">'solution_adressee'</span>: <span style=\"color: #008000; text-decoration-color: #008000\">'Unknown'</span>,\n",
       "            <span style=\"color: #008000; text-decoration-color: #008000\">'problem_definition'</span>: <span style=\"color: #008000; text-decoration-color: #008000\">\"The speaker appears to challenge the idea that accusations of sexual assault </span>\n",
       "<span style=\"color: #008000; text-decoration-color: #008000\">damage a man's life. The implicit counter-narrative is that men's lives are not negatively impacted or are less </span>\n",
       "<span style=\"color: #008000; text-decoration-color: #008000\">important than the impact on victims.\"</span>,\n",
       "            <span style=\"color: #008000; text-decoration-color: #008000\">'blame_attribution'</span>: <span style=\"color: #008000; text-decoration-color: #008000\">\"The statement implicitly blames those who make the accusations or perceive the </span>\n",
       "<span style=\"color: #008000; text-decoration-color: #008000\">accusers as overly sensitive or as attempting to ruin men's lives.\"</span>,\n",
       "            <span style=\"color: #008000; text-decoration-color: #008000\">'moral_evaluation'</span>: <span style=\"color: #008000; text-decoration-color: #008000\">\"The speaker's framing suggests a moral judgment against those who believe that </span>\n",
       "<span style=\"color: #008000; text-decoration-color: #008000\">such allegations ruin men's lives. It downplays the seriousness of sexual assault allegations.\"</span>,\n",
       "            <span style=\"color: #008000; text-decoration-color: #008000\">'recommendation'</span>: <span style=\"color: #008000; text-decoration-color: #008000\">\"The implicit recommendation is to reconsider the impact of these allegations on men,</span>\n",
       "<span style=\"color: #008000; text-decoration-color: #008000\">possibly to be more skeptical of accusers or to prioritize men's reputations.\"</span>,\n",
       "            <span style=\"color: #008000; text-decoration-color: #008000\">'rationale'</span>: <span style=\"color: #008000; text-decoration-color: #008000\">'The framing analysis of the opening sentence relies on the contrasting interpretation of </span>\n",
       "<span style=\"color: #008000; text-decoration-color: #008000\">what is typically associated with the claim of ruined lives due to assault allegations with what the speaker </span>\n",
       "<span style=\"color: #008000; text-decoration-color: #008000\">alleges as being untrue.'</span>\n",
       "        <span style=\"font-weight: bold\">}</span>,\n",
       "        <span style=\"font-weight: bold\">{</span>\n",
       "            <span style=\"color: #008000; text-decoration-color: #008000\">'statement'</span>: <span style=\"color: #008000; text-decoration-color: #008000\">'Men that abuse can become president...a reminder everyday that we are nothing.'</span>,\n",
       "            <span style=\"color: #008000; text-decoration-color: #008000\">'speaker_name'</span>: <span style=\"color: #008000; text-decoration-color: #008000\">'Unknown'</span>,\n",
       "            <span style=\"color: #008000; text-decoration-color: #008000\">'speaker_affiliation'</span>: <span style=\"color: #008000; text-decoration-color: #008000\">'Unknown'</span>,\n",
       "            <span style=\"color: #008000; text-decoration-color: #008000\">'solution_adressee'</span>: <span style=\"color: #008000; text-decoration-color: #008000\">'Unknown'</span>,\n",
       "            <span style=\"color: #008000; text-decoration-color: #008000\">'problem_definition'</span>: <span style=\"color: #008000; text-decoration-color: #008000\">'The core problem presented is the perceived societal acceptance of abusers, </span>\n",
       "<span style=\"color: #008000; text-decoration-color: #008000\">symbolized by their ability to attain high office like the presidency. This situation reinforces the feeling of </span>\n",
       "<span style=\"color: #008000; text-decoration-color: #008000\">worthlessness among survivors.'</span>,\n",
       "            <span style=\"color: #008000; text-decoration-color: #008000\">'blame_attribution'</span>: <span style=\"color: #008000; text-decoration-color: #008000\">\"Blame is attributed to a system that enables abusers to rise to power and fails </span>\n",
       "<span style=\"color: #008000; text-decoration-color: #008000\">to hold them accountable, thereby minimizing survivors' experiences and feelings.\"</span>,\n",
       "            <span style=\"color: #008000; text-decoration-color: #008000\">'moral_evaluation'</span>: <span style=\"color: #008000; text-decoration-color: #008000\">'The speaker frames this as a moral failing of society, emphasizing the injustice </span>\n",
       "<span style=\"color: #008000; text-decoration-color: #008000\">and trauma faced by survivors who feel their experiences are disregarded.'</span>,\n",
       "            <span style=\"color: #008000; text-decoration-color: #008000\">'recommendation'</span>: <span style=\"color: #008000; text-decoration-color: #008000\">\"The statement calls for a change in societal attitudes and systems, demanding </span>\n",
       "<span style=\"color: #008000; text-decoration-color: #008000\">recognition and validation of survivors' experiences. This implies advocating for justice and accountability for </span>\n",
       "<span style=\"color: #008000; text-decoration-color: #008000\">perpetrators.\"</span>,\n",
       "            <span style=\"color: #008000; text-decoration-color: #008000\">'rationale'</span>: <span style=\"color: #008000; text-decoration-color: #008000\">'Framing the issue with the fact that abusers can become president uses a high-profile, </span>\n",
       "<span style=\"color: #008000; text-decoration-color: #008000\">real-world example to show that, although these individuals may face consequences in the social sphere, they have </span>\n",
       "<span style=\"color: #008000; text-decoration-color: #008000\">proven to be able to ascend to even the highest political seats of power. Using the word \"nothing\" highlights how </span>\n",
       "<span style=\"color: #008000; text-decoration-color: #008000\">survivors can feel.'</span>\n",
       "        <span style=\"font-weight: bold\">}</span>,\n",
       "        <span style=\"font-weight: bold\">{</span>\n",
       "            <span style=\"color: #008000; text-decoration-color: #008000\">'statement'</span>: <span style=\"color: #008000; text-decoration-color: #008000\">'You know how that makes us feel? As survivors?'</span>,\n",
       "            <span style=\"color: #008000; text-decoration-color: #008000\">'speaker_name'</span>: <span style=\"color: #008000; text-decoration-color: #008000\">'Unknown'</span>,\n",
       "            <span style=\"color: #008000; text-decoration-color: #008000\">'speaker_affiliation'</span>: <span style=\"color: #008000; text-decoration-color: #008000\">'Unknown'</span>,\n",
       "            <span style=\"color: #008000; text-decoration-color: #008000\">'solution_adressee'</span>: <span style=\"color: #008000; text-decoration-color: #008000\">'Unknown'</span>,\n",
       "            <span style=\"color: #008000; text-decoration-color: #008000\">'problem_definition'</span>: <span style=\"color: #008000; text-decoration-color: #008000\">'The speaker highlights the emotional distress and sense of invalidation </span>\n",
       "<span style=\"color: #008000; text-decoration-color: #008000\">experienced by survivors when abusers go unpunished or even ascend to positions of power.'</span>,\n",
       "            <span style=\"color: #008000; text-decoration-color: #008000\">'blame_attribution'</span>: <span style=\"color: #008000; text-decoration-color: #008000\">\"While the blame is not explicit in this question, it continues the implied </span>\n",
       "<span style=\"color: #008000; text-decoration-color: #008000\">criticism of society's tolerance of abuse.\"</span>,\n",
       "            <span style=\"color: #008000; text-decoration-color: #008000\">'moral_evaluation'</span>: <span style=\"color: #008000; text-decoration-color: #008000\">\"The question evokes a sense of injustice and empathy by appealing to the </span>\n",
       "<span style=\"color: #008000; text-decoration-color: #008000\">audience's understanding of the survivors' emotional state.\"</span>,\n",
       "            <span style=\"color: #008000; text-decoration-color: #008000\">'recommendation'</span>: <span style=\"color: #008000; text-decoration-color: #008000\">\"The rhetorical question seeks validation and understanding from the audience, </span>\n",
       "<span style=\"color: #008000; text-decoration-color: #008000\">prompting them to consider the survivors' perspective and potentially spurring support for change.\"</span>,\n",
       "            <span style=\"color: #008000; text-decoration-color: #008000\">'rationale'</span>: <span style=\"color: #008000; text-decoration-color: #008000\">'This framing analysis comes from recognizing how the rhetorical question attempts to </span>\n",
       "<span style=\"color: #008000; text-decoration-color: #008000\">engage the audience on an emotional level.'</span>\n",
       "        <span style=\"font-weight: bold\">}</span>,\n",
       "        <span style=\"font-weight: bold\">{</span>\n",
       "            <span style=\"color: #008000; text-decoration-color: #008000\">'statement'</span>: <span style=\"color: #008000; text-decoration-color: #008000\">\"Dead Men Don't Rape\"</span>,\n",
       "            <span style=\"color: #008000; text-decoration-color: #008000\">'speaker_name'</span>: <span style=\"color: #008000; text-decoration-color: #008000\">'Unknown'</span>,\n",
       "            <span style=\"color: #008000; text-decoration-color: #008000\">'speaker_affiliation'</span>: <span style=\"color: #008000; text-decoration-color: #008000\">'Unknown'</span>,\n",
       "            <span style=\"color: #008000; text-decoration-color: #008000\">'solution_adressee'</span>: <span style=\"color: #008000; text-decoration-color: #008000\">'Unknown'</span>,\n",
       "            <span style=\"color: #008000; text-decoration-color: #008000\">'problem_definition'</span>: <span style=\"color: #008000; text-decoration-color: #008000\">'The statement highlights the problem of continued harm caused by rapists even </span>\n",
       "<span style=\"color: #008000; text-decoration-color: #008000\">after their death. It could be interpreted that those who commit sexual assault have created situations where they </span>\n",
       "<span style=\"color: #008000; text-decoration-color: #008000\">never face punishment for their crimes because of death.'</span>,\n",
       "            <span style=\"color: #008000; text-decoration-color: #008000\">'blame_attribution'</span>: <span style=\"color: #008000; text-decoration-color: #008000\">'The blame here is clearly placed on the deceased rapists. The framing implies </span>\n",
       "<span style=\"color: #008000; text-decoration-color: #008000\">holding them responsible.'</span>,\n",
       "            <span style=\"color: #008000; text-decoration-color: #008000\">'moral_evaluation'</span>: <span style=\"color: #008000; text-decoration-color: #008000\">'The text invokes a sense of finality about the rapist not being able to harm </span>\n",
       "<span style=\"color: #008000; text-decoration-color: #008000\">further and that is the solution in cases like this.'</span>,\n",
       "            <span style=\"color: #008000; text-decoration-color: #008000\">'recommendation'</span>: <span style=\"color: #008000; text-decoration-color: #008000\">'The statement can be read in multiple ways. It could recommend punishing the </span>\n",
       "<span style=\"color: #008000; text-decoration-color: #008000\">deceased rapist. It could also mean that some people may see death as a form of punishment in itself or a means to </span>\n",
       "<span style=\"color: #008000; text-decoration-color: #008000\">prevent further harm, which would be controversial.'</span>,\n",
       "            <span style=\"color: #008000; text-decoration-color: #008000\">'rationale'</span>: <span style=\"color: #008000; text-decoration-color: #008000\">'The framing analysis is derived by assessing the statement in several ways. Taking it </span>\n",
       "<span style=\"color: #008000; text-decoration-color: #008000\">literally can give the appearance of advocating for capital punishment. The phrase can also indicate that some </span>\n",
       "<span style=\"color: #008000; text-decoration-color: #008000\">victims may feel more at peace when the deceased is not alive.'</span>\n",
       "        <span style=\"font-weight: bold\">}</span>\n",
       "    <span style=\"font-weight: bold\">]</span>\n",
       "<span style=\"font-weight: bold\">)</span>\n",
       "</pre>\n"
      ],
      "text/plain": [
       "\u001b[1;35mResult\u001b[0m\u001b[1m(\u001b[0m\n",
       "    \u001b[33mcategory\u001b[0m=\u001b[3;35mNone\u001b[0m,\n",
       "    \u001b[33mprediction\u001b[0m=\u001b[3;35mNone\u001b[0m,\n",
       "    \u001b[33mresult\u001b[0m=\u001b[3;35mNone\u001b[0m,\n",
       "    \u001b[33mlabels\u001b[0m=\u001b[1m[\u001b[0m\u001b[1m]\u001b[0m,\n",
       "    \u001b[33mconfidence\u001b[0m=\u001b[3;35mNone\u001b[0m,\n",
       "    \u001b[33mseverity\u001b[0m=\u001b[3;35mNone\u001b[0m,\n",
       "    \u001b[33mreasons\u001b[0m=\u001b[1m[\u001b[0m\u001b[1m]\u001b[0m,\n",
       "    \u001b[33mscores\u001b[0m=\u001b[3;35mNone\u001b[0m,\n",
       "    \u001b[33mmetadata\u001b[0m=\u001b[3;35mNone\u001b[0m,\n",
       "    \u001b[33mframing\u001b[0m=\u001b[1m[\u001b[0m\n",
       "        \u001b[1m{\u001b[0m\n",
       "            \u001b[32m'statement'\u001b[0m: \u001b[32m\"Seggsual assault allegations DO NOT ruin a man's life.\"\u001b[0m,\n",
       "            \u001b[32m'speaker_name'\u001b[0m: \u001b[32m'Unknown'\u001b[0m,\n",
       "            \u001b[32m'speaker_affiliation'\u001b[0m: \u001b[32m'Unknown'\u001b[0m,\n",
       "            \u001b[32m'solution_adressee'\u001b[0m: \u001b[32m'Unknown'\u001b[0m,\n",
       "            \u001b[32m'problem_definition'\u001b[0m: \u001b[32m\"The speaker appears to challenge the idea that accusations of sexual assault \u001b[0m\n",
       "\u001b[32mdamage a man's life. The implicit counter-narrative is that men's lives are not negatively impacted or are less \u001b[0m\n",
       "\u001b[32mimportant than the impact on victims.\"\u001b[0m,\n",
       "            \u001b[32m'blame_attribution'\u001b[0m: \u001b[32m\"The statement implicitly blames those who make the accusations or perceive the \u001b[0m\n",
       "\u001b[32maccusers as overly sensitive or as attempting to ruin men's lives.\"\u001b[0m,\n",
       "            \u001b[32m'moral_evaluation'\u001b[0m: \u001b[32m\"The speaker's framing suggests a moral judgment against those who believe that \u001b[0m\n",
       "\u001b[32msuch allegations ruin men's lives. It downplays the seriousness of sexual assault allegations.\"\u001b[0m,\n",
       "            \u001b[32m'recommendation'\u001b[0m: \u001b[32m\"The implicit recommendation is to reconsider the impact of these allegations on men,\u001b[0m\n",
       "\u001b[32mpossibly to be more skeptical of accusers or to prioritize men's reputations.\"\u001b[0m,\n",
       "            \u001b[32m'rationale'\u001b[0m: \u001b[32m'The framing analysis of the opening sentence relies on the contrasting interpretation of \u001b[0m\n",
       "\u001b[32mwhat is typically associated with the claim of ruined lives due to assault allegations with what the speaker \u001b[0m\n",
       "\u001b[32malleges as being untrue.'\u001b[0m\n",
       "        \u001b[1m}\u001b[0m,\n",
       "        \u001b[1m{\u001b[0m\n",
       "            \u001b[32m'statement'\u001b[0m: \u001b[32m'Men that abuse can become president...a reminder everyday that we are nothing.'\u001b[0m,\n",
       "            \u001b[32m'speaker_name'\u001b[0m: \u001b[32m'Unknown'\u001b[0m,\n",
       "            \u001b[32m'speaker_affiliation'\u001b[0m: \u001b[32m'Unknown'\u001b[0m,\n",
       "            \u001b[32m'solution_adressee'\u001b[0m: \u001b[32m'Unknown'\u001b[0m,\n",
       "            \u001b[32m'problem_definition'\u001b[0m: \u001b[32m'The core problem presented is the perceived societal acceptance of abusers, \u001b[0m\n",
       "\u001b[32msymbolized by their ability to attain high office like the presidency. This situation reinforces the feeling of \u001b[0m\n",
       "\u001b[32mworthlessness among survivors.'\u001b[0m,\n",
       "            \u001b[32m'blame_attribution'\u001b[0m: \u001b[32m\"Blame is attributed to a system that enables abusers to rise to power and fails \u001b[0m\n",
       "\u001b[32mto hold them accountable, thereby minimizing survivors' experiences and feelings.\"\u001b[0m,\n",
       "            \u001b[32m'moral_evaluation'\u001b[0m: \u001b[32m'The speaker frames this as a moral failing of society, emphasizing the injustice \u001b[0m\n",
       "\u001b[32mand trauma faced by survivors who feel their experiences are disregarded.'\u001b[0m,\n",
       "            \u001b[32m'recommendation'\u001b[0m: \u001b[32m\"The statement calls for a change in societal attitudes and systems, demanding \u001b[0m\n",
       "\u001b[32mrecognition and validation of survivors' experiences. This implies advocating for justice and accountability for \u001b[0m\n",
       "\u001b[32mperpetrators.\"\u001b[0m,\n",
       "            \u001b[32m'rationale'\u001b[0m: \u001b[32m'Framing the issue with the fact that abusers can become president uses a high-profile, \u001b[0m\n",
       "\u001b[32mreal-world example to show that, although these individuals may face consequences in the social sphere, they have \u001b[0m\n",
       "\u001b[32mproven to be able to ascend to even the highest political seats of power. Using the word \"nothing\" highlights how \u001b[0m\n",
       "\u001b[32msurvivors can feel.'\u001b[0m\n",
       "        \u001b[1m}\u001b[0m,\n",
       "        \u001b[1m{\u001b[0m\n",
       "            \u001b[32m'statement'\u001b[0m: \u001b[32m'You know how that makes us feel? As survivors?'\u001b[0m,\n",
       "            \u001b[32m'speaker_name'\u001b[0m: \u001b[32m'Unknown'\u001b[0m,\n",
       "            \u001b[32m'speaker_affiliation'\u001b[0m: \u001b[32m'Unknown'\u001b[0m,\n",
       "            \u001b[32m'solution_adressee'\u001b[0m: \u001b[32m'Unknown'\u001b[0m,\n",
       "            \u001b[32m'problem_definition'\u001b[0m: \u001b[32m'The speaker highlights the emotional distress and sense of invalidation \u001b[0m\n",
       "\u001b[32mexperienced by survivors when abusers go unpunished or even ascend to positions of power.'\u001b[0m,\n",
       "            \u001b[32m'blame_attribution'\u001b[0m: \u001b[32m\"While the blame is not explicit in this question, it continues the implied \u001b[0m\n",
       "\u001b[32mcriticism of society's tolerance of abuse.\"\u001b[0m,\n",
       "            \u001b[32m'moral_evaluation'\u001b[0m: \u001b[32m\"The question evokes a sense of injustice and empathy by appealing to the \u001b[0m\n",
       "\u001b[32maudience's understanding of the survivors' emotional state.\"\u001b[0m,\n",
       "            \u001b[32m'recommendation'\u001b[0m: \u001b[32m\"The rhetorical question seeks validation and understanding from the audience, \u001b[0m\n",
       "\u001b[32mprompting them to consider the survivors' perspective and potentially spurring support for change.\"\u001b[0m,\n",
       "            \u001b[32m'rationale'\u001b[0m: \u001b[32m'This framing analysis comes from recognizing how the rhetorical question attempts to \u001b[0m\n",
       "\u001b[32mengage the audience on an emotional level.'\u001b[0m\n",
       "        \u001b[1m}\u001b[0m,\n",
       "        \u001b[1m{\u001b[0m\n",
       "            \u001b[32m'statement'\u001b[0m: \u001b[32m\"Dead Men Don't Rape\"\u001b[0m,\n",
       "            \u001b[32m'speaker_name'\u001b[0m: \u001b[32m'Unknown'\u001b[0m,\n",
       "            \u001b[32m'speaker_affiliation'\u001b[0m: \u001b[32m'Unknown'\u001b[0m,\n",
       "            \u001b[32m'solution_adressee'\u001b[0m: \u001b[32m'Unknown'\u001b[0m,\n",
       "            \u001b[32m'problem_definition'\u001b[0m: \u001b[32m'The statement highlights the problem of continued harm caused by rapists even \u001b[0m\n",
       "\u001b[32mafter their death. It could be interpreted that those who commit sexual assault have created situations where they \u001b[0m\n",
       "\u001b[32mnever face punishment for their crimes because of death.'\u001b[0m,\n",
       "            \u001b[32m'blame_attribution'\u001b[0m: \u001b[32m'The blame here is clearly placed on the deceased rapists. The framing implies \u001b[0m\n",
       "\u001b[32mholding them responsible.'\u001b[0m,\n",
       "            \u001b[32m'moral_evaluation'\u001b[0m: \u001b[32m'The text invokes a sense of finality about the rapist not being able to harm \u001b[0m\n",
       "\u001b[32mfurther and that is the solution in cases like this.'\u001b[0m,\n",
       "            \u001b[32m'recommendation'\u001b[0m: \u001b[32m'The statement can be read in multiple ways. It could recommend punishing the \u001b[0m\n",
       "\u001b[32mdeceased rapist. It could also mean that some people may see death as a form of punishment in itself or a means to \u001b[0m\n",
       "\u001b[32mprevent further harm, which would be controversial.'\u001b[0m,\n",
       "            \u001b[32m'rationale'\u001b[0m: \u001b[32m'The framing analysis is derived by assessing the statement in several ways. Taking it \u001b[0m\n",
       "\u001b[32mliterally can give the appearance of advocating for capital punishment. The phrase can also indicate that some \u001b[0m\n",
       "\u001b[32mvictims may feel more at peace when the deceased is not alive.'\u001b[0m\n",
       "        \u001b[1m}\u001b[0m\n",
       "    \u001b[1m]\u001b[0m\n",
       "\u001b[1m)\u001b[0m\n"
      ]
     },
     "metadata": {},
     "output_type": "display_data"
    }
   ],
   "source": [
    "from buttermilk._core.runner_types import Job, RecordInfo, MediaObj\n",
    "record = RecordInfo(media={\"uri\": \"gs://dmrc-platforms/data/tonepolice/v2IF1Kw4.mp4\"})\n",
    "job = Job(source=\"notebook\", record=record)\n",
    "\n",
    "result = await agent.run(job)\n",
    "rprint(result.outputs)\n",
    "\n"
   ]
  },
  {
   "cell_type": "markdown",
   "metadata": {},
   "source": [
    "## Run for OpenAI (need to extract video into jpeg frames and audio separately as mp3)"
   ]
  },
  {
   "cell_type": "code",
   "execution_count": null,
   "metadata": {},
   "outputs": [
    {
     "name": "stderr",
     "output_type": "stream",
     "text": [
      "I0000 00:00:1731115908.038475 41603950 fork_posix.cc:77] Other threads are currently calling into gRPC, skipping fork() handlers\n",
      "I0000 00:00:1731115908.933354 41603950 fork_posix.cc:77] Other threads are currently calling into gRPC, skipping fork() handlers\n",
      "WARNING:py.warnings:/opt/homebrew/Caskroom/miniconda/base/envs/bm/lib/python3.11/site-packages/moviepy/video/io/sliders.py:61: SyntaxWarning: \"is\" with a literal. Did you mean \"==\"?\n",
      "  if event.key is 'enter':\n",
      "\n"
     ]
    },
    {
     "data": {
      "text/html": [
       "<pre style=\"white-space:pre;overflow-x:auto;line-height:normal;font-family:Menlo,'DejaVu Sans Mono',consolas,'Courier New',monospace\"><span style=\"color: #800080; text-decoration-color: #800080; font-weight: bold\">Result</span><span style=\"font-weight: bold\">(</span>\n",
       "    <span style=\"color: #808000; text-decoration-color: #808000\">category</span>=<span style=\"color: #800080; text-decoration-color: #800080; font-style: italic\">None</span>,\n",
       "    <span style=\"color: #808000; text-decoration-color: #808000\">prediction</span>=<span style=\"color: #800080; text-decoration-color: #800080; font-style: italic\">None</span>,\n",
       "    <span style=\"color: #808000; text-decoration-color: #808000\">result</span>=<span style=\"color: #800080; text-decoration-color: #800080; font-style: italic\">None</span>,\n",
       "    <span style=\"color: #808000; text-decoration-color: #808000\">labels</span>=<span style=\"font-weight: bold\">[]</span>,\n",
       "    <span style=\"color: #808000; text-decoration-color: #808000\">confidence</span>=<span style=\"color: #800080; text-decoration-color: #800080; font-style: italic\">None</span>,\n",
       "    <span style=\"color: #808000; text-decoration-color: #808000\">severity</span>=<span style=\"color: #800080; text-decoration-color: #800080; font-style: italic\">None</span>,\n",
       "    <span style=\"color: #808000; text-decoration-color: #808000\">reasons</span>=<span style=\"font-weight: bold\">[]</span>,\n",
       "    <span style=\"color: #808000; text-decoration-color: #808000\">scores</span>=<span style=\"color: #800080; text-decoration-color: #800080; font-style: italic\">None</span>,\n",
       "    <span style=\"color: #808000; text-decoration-color: #808000\">metadata</span>=<span style=\"color: #800080; text-decoration-color: #800080; font-style: italic\">None</span>,\n",
       "    <span style=\"color: #808000; text-decoration-color: #808000\">framing</span>=<span style=\"font-weight: bold\">[]</span>\n",
       "<span style=\"font-weight: bold\">)</span>\n",
       "</pre>\n"
      ],
      "text/plain": [
       "\u001b[1;35mResult\u001b[0m\u001b[1m(\u001b[0m\n",
       "    \u001b[33mcategory\u001b[0m=\u001b[3;35mNone\u001b[0m,\n",
       "    \u001b[33mprediction\u001b[0m=\u001b[3;35mNone\u001b[0m,\n",
       "    \u001b[33mresult\u001b[0m=\u001b[3;35mNone\u001b[0m,\n",
       "    \u001b[33mlabels\u001b[0m=\u001b[1m[\u001b[0m\u001b[1m]\u001b[0m,\n",
       "    \u001b[33mconfidence\u001b[0m=\u001b[3;35mNone\u001b[0m,\n",
       "    \u001b[33mseverity\u001b[0m=\u001b[3;35mNone\u001b[0m,\n",
       "    \u001b[33mreasons\u001b[0m=\u001b[1m[\u001b[0m\u001b[1m]\u001b[0m,\n",
       "    \u001b[33mscores\u001b[0m=\u001b[3;35mNone\u001b[0m,\n",
       "    \u001b[33mmetadata\u001b[0m=\u001b[3;35mNone\u001b[0m,\n",
       "    \u001b[33mframing\u001b[0m=\u001b[1m[\u001b[0m\u001b[1m]\u001b[0m\n",
       "\u001b[1m)\u001b[0m\n"
      ]
     },
     "metadata": {},
     "output_type": "display_data"
    }
   ],
   "source": [
    "from buttermilk._core.runner_types import Job, RecordInfo\n",
    "from buttermilk.utils.utils import read_file\n",
    "from buttermilk.utils.video_frames import process_video\n",
    "from pathlib import Path\n",
    "from tempfile import NamedTemporaryFile\n",
    "\n",
    "with NamedTemporaryFile(suffix=\".mp4\", delete=True) as fp:\n",
    "    fp.write(read_file('gs://dmrc-platforms/test/fyp/tiktok-imane-01.mp4'))\n",
    "    \n",
    "    # Extract 1 frame per second. You can adjust the `seconds_per_frame` parameter to change the sampling rate\n",
    "    base64frames = process_video(Path(fp.name), seconds_per_frame=1)\n",
    "    #frames_and_mime = list(map(lambda x: (x, \"image/jpeg\"), base64frames))\n",
    "\n",
    "frames = [MediaObj(mime=\"image/jpeg\", base_64=b64) for b64 in base64frames]\n",
    "record=RecordInfo(media=frames)\n"
   ]
  },
  {
   "cell_type": "code",
   "execution_count": 13,
   "metadata": {},
   "outputs": [
    {
     "name": "stderr",
     "output_type": "stream",
     "text": [
      "WARNING:opentelemetry.attributes:Invalid type NoneType for attribute '__computed__.cumulative_token_count.completion' value. Expected one of ['bool', 'str', 'bytes', 'int', 'float'] or a sequence of those types\n",
      "WARNING:opentelemetry.attributes:Invalid type NoneType for attribute '__computed__.cumulative_token_count.prompt' value. Expected one of ['bool', 'str', 'bytes', 'int', 'float'] or a sequence of those types\n",
      "WARNING:opentelemetry.attributes:Invalid type NoneType for attribute 'llm.usage.completion_tokens_details' value. Expected one of ['bool', 'str', 'bytes', 'int', 'float'] or a sequence of those types\n",
      "WARNING:opentelemetry.attributes:Invalid type NoneType for attribute 'llm.usage.prompt_tokens_details' value. Expected one of ['bool', 'str', 'bytes', 'int', 'float'] or a sequence of those types\n",
      "WARNING:opentelemetry.attributes:Invalid type NoneType for attribute '__computed__.cumulative_token_count.completion' value. Expected one of ['bool', 'str', 'bytes', 'int', 'float'] or a sequence of those types\n",
      "WARNING:opentelemetry.attributes:Invalid type NoneType for attribute '__computed__.cumulative_token_count.prompt' value. Expected one of ['bool', 'str', 'bytes', 'int', 'float'] or a sequence of those types\n",
      "WARNING:opentelemetry.attributes:Invalid type NoneType for attribute '__computed__.cumulative_token_count.completion' value. Expected one of ['bool', 'str', 'bytes', 'int', 'float'] or a sequence of those types\n",
      "WARNING:opentelemetry.attributes:Invalid type NoneType for attribute '__computed__.cumulative_token_count.prompt' value. Expected one of ['bool', 'str', 'bytes', 'int', 'float'] or a sequence of those types\n"
     ]
    },
    {
     "data": {
      "text/html": [
       "<pre style=\"white-space:pre;overflow-x:auto;line-height:normal;font-family:Menlo,'DejaVu Sans Mono',consolas,'Courier New',monospace\"><span style=\"color: #800080; text-decoration-color: #800080; font-weight: bold\">Result</span><span style=\"font-weight: bold\">(</span>\n",
       "    <span style=\"color: #808000; text-decoration-color: #808000\">category</span>=<span style=\"color: #800080; text-decoration-color: #800080; font-style: italic\">None</span>,\n",
       "    <span style=\"color: #808000; text-decoration-color: #808000\">prediction</span>=<span style=\"color: #800080; text-decoration-color: #800080; font-style: italic\">None</span>,\n",
       "    <span style=\"color: #808000; text-decoration-color: #808000\">result</span>=<span style=\"color: #800080; text-decoration-color: #800080; font-style: italic\">None</span>,\n",
       "    <span style=\"color: #808000; text-decoration-color: #808000\">labels</span>=<span style=\"font-weight: bold\">[]</span>,\n",
       "    <span style=\"color: #808000; text-decoration-color: #808000\">confidence</span>=<span style=\"color: #800080; text-decoration-color: #800080; font-style: italic\">None</span>,\n",
       "    <span style=\"color: #808000; text-decoration-color: #808000\">severity</span>=<span style=\"color: #800080; text-decoration-color: #800080; font-style: italic\">None</span>,\n",
       "    <span style=\"color: #808000; text-decoration-color: #808000\">reasons</span>=<span style=\"font-weight: bold\">[]</span>,\n",
       "    <span style=\"color: #808000; text-decoration-color: #808000\">scores</span>=<span style=\"color: #800080; text-decoration-color: #800080; font-style: italic\">None</span>,\n",
       "    <span style=\"color: #808000; text-decoration-color: #808000\">metadata</span>=<span style=\"color: #800080; text-decoration-color: #800080; font-style: italic\">None</span>,\n",
       "    <span style=\"color: #808000; text-decoration-color: #808000\">response</span>=<span style=\"color: #008000; text-decoration-color: #008000\">\"I'm sorry, but I can't help with that.\"</span>,\n",
       "    <span style=\"color: #808000; text-decoration-color: #808000\">error</span>=<span style=\"color: #008000; text-decoration-color: #008000\">'Unable to decode JSON in result'</span>\n",
       "<span style=\"font-weight: bold\">)</span>\n",
       "</pre>\n"
      ],
      "text/plain": [
       "\u001b[1;35mResult\u001b[0m\u001b[1m(\u001b[0m\n",
       "    \u001b[33mcategory\u001b[0m=\u001b[3;35mNone\u001b[0m,\n",
       "    \u001b[33mprediction\u001b[0m=\u001b[3;35mNone\u001b[0m,\n",
       "    \u001b[33mresult\u001b[0m=\u001b[3;35mNone\u001b[0m,\n",
       "    \u001b[33mlabels\u001b[0m=\u001b[1m[\u001b[0m\u001b[1m]\u001b[0m,\n",
       "    \u001b[33mconfidence\u001b[0m=\u001b[3;35mNone\u001b[0m,\n",
       "    \u001b[33mseverity\u001b[0m=\u001b[3;35mNone\u001b[0m,\n",
       "    \u001b[33mreasons\u001b[0m=\u001b[1m[\u001b[0m\u001b[1m]\u001b[0m,\n",
       "    \u001b[33mscores\u001b[0m=\u001b[3;35mNone\u001b[0m,\n",
       "    \u001b[33mmetadata\u001b[0m=\u001b[3;35mNone\u001b[0m,\n",
       "    \u001b[33mresponse\u001b[0m=\u001b[32m\"I\u001b[0m\u001b[32m'm sorry, but I can't help with that.\"\u001b[0m,\n",
       "    \u001b[33merror\u001b[0m=\u001b[32m'Unable to decode JSON in result'\u001b[0m\n",
       "\u001b[1m)\u001b[0m\n"
      ]
     },
     "metadata": {},
     "output_type": "display_data"
    }
   ],
   "source": [
    "\n",
    "job = Job(source=\"notebook\", record=record, parameters={\"model\":\"gpt4o\"})\n",
    "\n",
    "result = await agent.run(job)\n",
    "rprint(result.outputs)\n"
   ]
  },
  {
   "cell_type": "code",
   "execution_count": null,
   "metadata": {},
   "outputs": [],
   "source": [
    "\n",
    "output = flow(content='see video', media_attachment_uri='gs://dmrc-platforms/test/fyp/tiktok-imane-02.mp4')\n",
    "\n",
    "import pprint\n",
    "\n",
    "pp = pprint.PrettyPrinter(indent=4)\n",
    "pp.pprint(output)\n"
   ]
  },
  {
   "cell_type": "code",
   "execution_count": null,
   "metadata": {},
   "outputs": [],
   "source": [
    "\n",
    "output = flow(content='see video', media_attachment_uri='gs://dmrc-platforms/test/fyp/tiktok-imane-03.mp4')\n",
    "\n",
    "import pprint\n",
    "\n",
    "pp = pprint.PrettyPrinter(indent=4)\n",
    "pp.pprint(output)\n"
   ]
  },
  {
   "cell_type": "code",
   "execution_count": null,
   "metadata": {},
   "outputs": [],
   "source": []
  }
 ],
 "metadata": {
  "kernelspec": {
   "display_name": "bm",
   "language": "python",
   "name": "python3"
  },
  "language_info": {
   "codemirror_mode": {
    "name": "ipython",
    "version": 3
   },
   "file_extension": ".py",
   "mimetype": "text/x-python",
   "name": "python",
   "nbconvert_exporter": "python",
   "pygments_lexer": "ipython3",
   "version": "3.11.0"
  }
 },
 "nbformat": 4,
 "nbformat_minor": 2
}
